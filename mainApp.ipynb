{
 "cells": [
  {
   "cell_type": "code",
   "execution_count": null,
   "id": "888a10b0",
   "metadata": {},
   "outputs": [
    {
     "name": "stdout",
     "output_type": "stream",
     "text": [
      " * Serving Flask app '__main__'\n",
      " * Debug mode: off\n"
     ]
    },
    {
     "name": "stderr",
     "output_type": "stream",
     "text": [
      "WARNING: This is a development server. Do not use it in a production deployment. Use a production WSGI server instead.\n",
      " * Running on http://127.0.0.1:5000\n",
      "Press CTRL+C to quit\n",
      "127.0.0.1 - - [23/Nov/2023 11:48:58] \"GET / HTTP/1.1\" 200 -\n",
      "127.0.0.1 - - [23/Nov/2023 11:48:59] \"GET /static/lib/owlcarousel/assets/owl.carousel.min.css HTTP/1.1\" 304 -\n",
      "127.0.0.1 - - [23/Nov/2023 11:48:59] \"GET /static/css/bootstrap.min.css HTTP/1.1\" 304 -\n",
      "127.0.0.1 - - [23/Nov/2023 11:48:59] \"GET /static/lib/animate/animate.min.css HTTP/1.1\" 304 -\n",
      "127.0.0.1 - - [23/Nov/2023 11:48:59] \"GET /static/img/carousel-1.jpg HTTP/1.1\" 304 -\n",
      "127.0.0.1 - - [23/Nov/2023 11:48:59] \"GET /static/img/carousel-2.jpg HTTP/1.1\" 304 -\n",
      "127.0.0.1 - - [23/Nov/2023 11:48:59] \"GET /static/img/face.png HTTP/1.1\" 304 -\n",
      "127.0.0.1 - - [23/Nov/2023 11:48:59] \"GET /static/css/style.css HTTP/1.1\" 304 -\n",
      "127.0.0.1 - - [23/Nov/2023 11:48:59] \"GET /static/img/ananya.jpg HTTP/1.1\" 304 -\n",
      "127.0.0.1 - - [23/Nov/2023 11:48:59] \"GET /static/img/testimonial-1.jpg HTTP/1.1\" 304 -\n",
      "127.0.0.1 - - [23/Nov/2023 11:48:59] \"GET /static/lib/wow/wow.min.js HTTP/1.1\" 304 -\n",
      "127.0.0.1 - - [23/Nov/2023 11:48:59] \"GET /static/lib/easing/easing.min.js HTTP/1.1\" 304 -\n",
      "127.0.0.1 - - [23/Nov/2023 11:48:59] \"GET /static/lib/waypoints/waypoints.min.js HTTP/1.1\" 304 -\n",
      "127.0.0.1 - - [23/Nov/2023 11:48:59] \"GET /static/lib/owlcarousel/owl.carousel.min.js HTTP/1.1\" 304 -\n",
      "127.0.0.1 - - [23/Nov/2023 11:48:59] \"GET /static/js/main.js HTTP/1.1\" 304 -\n",
      "127.0.0.1 - - [23/Nov/2023 11:48:59] \"GET /static/img/testimonial-2.jpg HTTP/1.1\" 304 -\n",
      "127.0.0.1 - - [23/Nov/2023 11:48:59] \"GET /static/img/testimonial-3.jpg HTTP/1.1\" 304 -\n",
      "127.0.0.1 - - [23/Nov/2023 11:48:59] \"GET /static/img/testimonial-4.jpg HTTP/1.1\" 304 -\n",
      "127.0.0.1 - - [23/Nov/2023 11:48:59] \"GET /static/img/favicon.ico HTTP/1.1\" 404 -\n",
      "127.0.0.1 - - [23/Nov/2023 11:49:02] \"GET /services.html HTTP/1.1\" 200 -\n",
      "127.0.0.1 - - [23/Nov/2023 11:49:02] \"GET /static/lib/owlcarousel/assets/owl.carousel.min.css HTTP/1.1\" 304 -\n",
      "127.0.0.1 - - [23/Nov/2023 11:49:02] \"GET /static/lib/animate/animate.min.css HTTP/1.1\" 304 -\n",
      "127.0.0.1 - - [23/Nov/2023 11:49:02] \"GET /static/css/bootstrap.min.css HTTP/1.1\" 304 -\n",
      "127.0.0.1 - - [23/Nov/2023 11:49:02] \"GET /static/css/style.css HTTP/1.1\" 304 -\n",
      "127.0.0.1 - - [23/Nov/2023 11:49:02] \"GET /static/lib/wow/wow.min.js HTTP/1.1\" 304 -\n",
      "127.0.0.1 - - [23/Nov/2023 11:49:02] \"GET /static/lib/easing/easing.min.js HTTP/1.1\" 304 -\n",
      "127.0.0.1 - - [23/Nov/2023 11:49:02] \"GET /static/lib/waypoints/waypoints.min.js HTTP/1.1\" 304 -\n",
      "127.0.0.1 - - [23/Nov/2023 11:49:02] \"GET /static/lib/owlcarousel/owl.carousel.min.js HTTP/1.1\" 304 -\n",
      "127.0.0.1 - - [23/Nov/2023 11:49:02] \"GET /static/js/main.js HTTP/1.1\" 304 -\n",
      "127.0.0.1 - - [23/Nov/2023 11:49:02] \"GET /static/img/carousel-1.jpg HTTP/1.1\" 304 -\n",
      "127.0.0.1 - - [23/Nov/2023 11:49:04] \"GET /adduser.html HTTP/1.1\" 200 -\n",
      "127.0.0.1 - - [23/Nov/2023 11:49:04] \"GET /static/lib/animate/animate.min.css HTTP/1.1\" 304 -\n",
      "127.0.0.1 - - [23/Nov/2023 11:49:04] \"GET /static/lib/owlcarousel/assets/owl.carousel.min.css HTTP/1.1\" 304 -\n",
      "127.0.0.1 - - [23/Nov/2023 11:49:04] \"GET /static/css/style.css HTTP/1.1\" 304 -\n",
      "127.0.0.1 - - [23/Nov/2023 11:49:04] \"GET /static/css/bootstrap.min.css HTTP/1.1\" 304 -\n",
      "127.0.0.1 - - [23/Nov/2023 11:49:04] \"GET /static/lib/wow/wow.min.js HTTP/1.1\" 304 -\n",
      "127.0.0.1 - - [23/Nov/2023 11:49:04] \"GET /static/lib/easing/easing.min.js HTTP/1.1\" 304 -\n",
      "127.0.0.1 - - [23/Nov/2023 11:49:04] \"GET /static/lib/waypoints/waypoints.min.js HTTP/1.1\" 304 -\n",
      "127.0.0.1 - - [23/Nov/2023 11:49:04] \"GET /static/lib/owlcarousel/owl.carousel.min.js HTTP/1.1\" 304 -\n",
      "127.0.0.1 - - [23/Nov/2023 11:49:04] \"GET /static/js/main.js HTTP/1.1\" 304 -\n"
     ]
    },
    {
     "name": "stdout",
     "output_type": "stream",
     "text": [
      "Adding user\n",
      "Inside DB\n",
      "['19MSI0006.png', '20BCE0001.png', '20BCE0090.png', '20BCE0607.png', '20BCE0785.png', '20BDS0040.png', '20BEC0639.png', '20BEC0646.png', '20bkt0003.png']\n",
      "Encoding Started ...\n"
     ]
    },
    {
     "name": "stderr",
     "output_type": "stream",
     "text": [
      "127.0.0.1 - - [23/Nov/2023 11:50:22] \"POST /add HTTP/1.1\" 200 -\n"
     ]
    },
    {
     "name": "stdout",
     "output_type": "stream",
     "text": [
      "Encoding Complete\n",
      "File Saved\n"
     ]
    },
    {
     "name": "stderr",
     "output_type": "stream",
     "text": [
      "127.0.0.1 - - [23/Nov/2023 11:50:27] \"GET /services.html HTTP/1.1\" 200 -\n",
      "127.0.0.1 - - [23/Nov/2023 11:50:27] \"GET /static/lib/animate/animate.min.css HTTP/1.1\" 304 -\n",
      "127.0.0.1 - - [23/Nov/2023 11:50:27] \"GET /static/css/bootstrap.min.css HTTP/1.1\" 304 -\n",
      "127.0.0.1 - - [23/Nov/2023 11:50:27] \"GET /static/lib/owlcarousel/assets/owl.carousel.min.css HTTP/1.1\" 304 -\n",
      "127.0.0.1 - - [23/Nov/2023 11:50:27] \"GET /static/css/style.css HTTP/1.1\" 304 -\n",
      "127.0.0.1 - - [23/Nov/2023 11:50:27] \"GET /static/lib/wow/wow.min.js HTTP/1.1\" 304 -\n",
      "127.0.0.1 - - [23/Nov/2023 11:50:27] \"GET /static/lib/easing/easing.min.js HTTP/1.1\" 304 -\n",
      "127.0.0.1 - - [23/Nov/2023 11:50:27] \"GET /static/lib/waypoints/waypoints.min.js HTTP/1.1\" 304 -\n",
      "127.0.0.1 - - [23/Nov/2023 11:50:27] \"GET /static/lib/owlcarousel/owl.carousel.min.js HTTP/1.1\" 304 -\n",
      "127.0.0.1 - - [23/Nov/2023 11:50:27] \"GET /static/js/main.js HTTP/1.1\" 304 -\n",
      "127.0.0.1 - - [23/Nov/2023 11:50:29] \"GET /liveatt.html HTTP/1.1\" 200 -\n",
      "127.0.0.1 - - [23/Nov/2023 11:50:29] \"GET /static/lib/animate/animate.min.css HTTP/1.1\" 304 -\n",
      "127.0.0.1 - - [23/Nov/2023 11:50:29] \"GET /static/lib/owlcarousel/assets/owl.carousel.min.css HTTP/1.1\" 304 -\n",
      "127.0.0.1 - - [23/Nov/2023 11:50:29] \"GET /static/css/bootstrap.min.css HTTP/1.1\" 304 -\n",
      "127.0.0.1 - - [23/Nov/2023 11:50:29] \"GET /static/css/style.css HTTP/1.1\" 304 -\n",
      "127.0.0.1 - - [23/Nov/2023 11:50:29] \"GET /static/lib/wow/wow.min.js HTTP/1.1\" 304 -\n",
      "127.0.0.1 - - [23/Nov/2023 11:50:29] \"GET /static/lib/easing/easing.min.js HTTP/1.1\" 304 -\n",
      "127.0.0.1 - - [23/Nov/2023 11:50:29] \"GET /static/lib/waypoints/waypoints.min.js HTTP/1.1\" 304 -\n",
      "127.0.0.1 - - [23/Nov/2023 11:50:29] \"GET /static/lib/owlcarousel/owl.carousel.min.js HTTP/1.1\" 304 -\n",
      "127.0.0.1 - - [23/Nov/2023 11:50:29] \"GET /static/js/main.js HTTP/1.1\" 304 -\n"
     ]
    },
    {
     "name": "stdout",
     "output_type": "stream",
     "text": [
      "YESSSSSS\n",
      "Loading Encode File ...\n",
      "Encode File Loaded\n",
      "Known Face Detected\n",
      "20BCE0785\n"
     ]
    },
    {
     "name": "stderr",
     "output_type": "stream",
     "text": [
      "127.0.0.1 - - [23/Nov/2023 11:50:32] \"POST /live HTTP/1.1\" 200 -\n",
      "127.0.0.1 - - [23/Nov/2023 11:50:32] \"GET /static/Images/20BCE0785.png HTTP/1.1\" 304 -\n"
     ]
    },
    {
     "name": "stdout",
     "output_type": "stream",
     "text": [
      "('Ananya Singh', '20BCE0785', 'Computer Science and Engineering', '2023-11-23 10:16:33')\n",
      "('2023-11-23 10:16:33',)\n",
      "YESSSSSS\n",
      "Loading Encode File ...\n",
      "Encode File Loaded\n"
     ]
    },
    {
     "name": "stderr",
     "output_type": "stream",
     "text": [
      "127.0.0.1 - - [23/Nov/2023 11:50:33] \"POST /live HTTP/1.1\" 200 -\n"
     ]
    },
    {
     "name": "stdout",
     "output_type": "stream",
     "text": [
      "Known Face Detected\n",
      "20BCE0785\n",
      "('Ananya Singh', '20BCE0785', 'Computer Science and Engineering', '2023-11-23 11:50:31')\n",
      "('2023-11-23 11:50:31',)\n",
      "YESSSSSS\n",
      "Loading Encode File ...\n",
      "Encode File Loaded\n"
     ]
    },
    {
     "name": "stderr",
     "output_type": "stream",
     "text": [
      "127.0.0.1 - - [23/Nov/2023 11:50:33] \"POST /live HTTP/1.1\" 200 -\n",
      "127.0.0.1 - - [23/Nov/2023 11:50:33] \"POST /live HTTP/1.1\" 200 -\n",
      "127.0.0.1 - - [23/Nov/2023 11:50:33] \"POST /live HTTP/1.1\" 200 -\n",
      "127.0.0.1 - - [23/Nov/2023 11:50:33] \"POST /live HTTP/1.1\" 200 -\n"
     ]
    },
    {
     "name": "stdout",
     "output_type": "stream",
     "text": [
      "YESSSSSS\n",
      "Loading Encode File ...\n",
      "Encode File Loaded\n",
      "YESSSSSS\n",
      "Loading Encode File ...\n",
      "Encode File Loaded\n",
      "YESSSSSS\n",
      "Loading Encode File ...\n",
      "Encode File Loaded\n"
     ]
    },
    {
     "name": "stderr",
     "output_type": "stream",
     "text": [
      "127.0.0.1 - - [23/Nov/2023 11:50:33] \"POST /live HTTP/1.1\" 200 -\n",
      "127.0.0.1 - - [23/Nov/2023 11:50:33] \"POST /live HTTP/1.1\" 200 -\n",
      "127.0.0.1 - - [23/Nov/2023 11:50:33] \"POST /live HTTP/1.1\" 200 -\n"
     ]
    },
    {
     "name": "stdout",
     "output_type": "stream",
     "text": [
      "YESSSSSS\n",
      "Loading Encode File ...\n",
      "Encode File Loaded\n",
      "YESSSSSS\n",
      "Loading Encode File ...\n",
      "Encode File Loaded\n",
      "YESSSSSS\n",
      "Loading Encode File ...\n",
      "Encode File Loaded\n",
      "YESSSSSS\n",
      "Loading Encode File ...\n",
      "Encode File Loaded\n"
     ]
    },
    {
     "name": "stderr",
     "output_type": "stream",
     "text": [
      "127.0.0.1 - - [23/Nov/2023 11:50:33] \"POST /live HTTP/1.1\" 200 -\n",
      "127.0.0.1 - - [23/Nov/2023 11:50:33] \"POST /live HTTP/1.1\" 200 -\n",
      "127.0.0.1 - - [23/Nov/2023 11:50:33] \"POST /live HTTP/1.1\" 200 -\n",
      "127.0.0.1 - - [23/Nov/2023 11:50:33] \"POST /live HTTP/1.1\" 200 -\n"
     ]
    },
    {
     "name": "stdout",
     "output_type": "stream",
     "text": [
      "YESSSSSS\n",
      "Loading Encode File ...\n",
      "Encode File Loaded\n",
      "YESSSSSS\n",
      "Loading Encode File ...\n",
      "Encode File Loaded\n",
      "YESSSSSS\n",
      "Loading Encode File ...\n",
      "Encode File Loaded\n"
     ]
    },
    {
     "name": "stderr",
     "output_type": "stream",
     "text": [
      "127.0.0.1 - - [23/Nov/2023 11:50:33] \"POST /live HTTP/1.1\" 200 -\n",
      "127.0.0.1 - - [23/Nov/2023 11:50:33] \"POST /live HTTP/1.1\" 200 -\n",
      "127.0.0.1 - - [23/Nov/2023 11:50:34] \"POST /live HTTP/1.1\" 200 -\n"
     ]
    },
    {
     "name": "stdout",
     "output_type": "stream",
     "text": [
      "YESSSSSS\n",
      "Loading Encode File ...\n",
      "Encode File Loaded\n",
      "YESSSSSS\n",
      "Loading Encode File ...\n",
      "Encode File Loaded\n",
      "YESSSSSS\n",
      "Loading Encode File ...\n",
      "Encode File Loaded\n",
      "YESSSSSS\n",
      "Loading Encode File ...\n",
      "Encode File Loaded\n"
     ]
    },
    {
     "name": "stderr",
     "output_type": "stream",
     "text": [
      "127.0.0.1 - - [23/Nov/2023 11:50:34] \"POST /live HTTP/1.1\" 200 -\n",
      "127.0.0.1 - - [23/Nov/2023 11:50:34] \"POST /live HTTP/1.1\" 200 -\n",
      "127.0.0.1 - - [23/Nov/2023 11:50:34] \"POST /live HTTP/1.1\" 200 -\n",
      "127.0.0.1 - - [23/Nov/2023 11:50:34] \"POST /live HTTP/1.1\" 200 -\n"
     ]
    },
    {
     "name": "stdout",
     "output_type": "stream",
     "text": [
      "YESSSSSS\n",
      "Loading Encode File ...\n",
      "Encode File Loaded\n",
      "YESSSSSS\n",
      "Loading Encode File ...\n",
      "Encode File Loaded\n",
      "YESSSSSS\n",
      "Loading Encode File ...\n",
      "Encode File Loaded\n",
      "YESSSSSS\n",
      "Loading Encode File ...\n",
      "Encode File Loaded\n"
     ]
    },
    {
     "name": "stderr",
     "output_type": "stream",
     "text": [
      "127.0.0.1 - - [23/Nov/2023 11:50:34] \"POST /live HTTP/1.1\" 200 -\n",
      "127.0.0.1 - - [23/Nov/2023 11:50:34] \"POST /live HTTP/1.1\" 200 -\n",
      "127.0.0.1 - - [23/Nov/2023 11:50:34] \"POST /live HTTP/1.1\" 200 -\n",
      "127.0.0.1 - - [23/Nov/2023 11:50:34] \"POST /live HTTP/1.1\" 200 -\n"
     ]
    },
    {
     "name": "stdout",
     "output_type": "stream",
     "text": [
      "YESSSSSS\n",
      "Loading Encode File ...\n",
      "Encode File Loaded\n",
      "YESSSSSS\n",
      "Loading Encode File ...\n",
      "Encode File Loaded\n",
      "YESSSSSS\n",
      "Loading Encode File ...\n",
      "Encode File Loaded\n",
      "YESSSSSS\n",
      "Loading Encode File ...\n",
      "Encode File Loaded\n"
     ]
    },
    {
     "name": "stderr",
     "output_type": "stream",
     "text": [
      "127.0.0.1 - - [23/Nov/2023 11:50:34] \"POST /live HTTP/1.1\" 200 -\n",
      "127.0.0.1 - - [23/Nov/2023 11:50:34] \"POST /live HTTP/1.1\" 200 -\n",
      "127.0.0.1 - - [23/Nov/2023 11:50:34] \"POST /live HTTP/1.1\" 200 -\n",
      "127.0.0.1 - - [23/Nov/2023 11:50:34] \"POST /live HTTP/1.1\" 200 -\n"
     ]
    },
    {
     "name": "stdout",
     "output_type": "stream",
     "text": [
      "YESSSSSS\n",
      "Loading Encode File ...\n",
      "Encode File Loaded\n",
      "YESSSSSS\n",
      "Loading Encode File ...\n",
      "Encode File Loaded\n",
      "YESSSSSS\n",
      "Loading Encode File ...\n",
      "Encode File Loaded\n"
     ]
    },
    {
     "name": "stderr",
     "output_type": "stream",
     "text": [
      "127.0.0.1 - - [23/Nov/2023 11:50:34] \"POST /live HTTP/1.1\" 200 -\n",
      "127.0.0.1 - - [23/Nov/2023 11:50:34] \"POST /live HTTP/1.1\" 200 -\n",
      "127.0.0.1 - - [23/Nov/2023 11:50:35] \"POST /live HTTP/1.1\" 200 -\n"
     ]
    },
    {
     "name": "stdout",
     "output_type": "stream",
     "text": [
      "YESSSSSS\n",
      "Loading Encode File ...\n",
      "Encode File Loaded\n",
      "YESSSSSS\n",
      "Loading Encode File ...\n",
      "Encode File Loaded\n",
      "YESSSSSS\n",
      "Loading Encode File ...\n",
      "Encode File Loaded\n",
      "YESSSSSS\n",
      "Loading Encode File ...\n",
      "Encode File Loaded\n"
     ]
    },
    {
     "name": "stderr",
     "output_type": "stream",
     "text": [
      "127.0.0.1 - - [23/Nov/2023 11:50:35] \"POST /live HTTP/1.1\" 200 -\n",
      "127.0.0.1 - - [23/Nov/2023 11:50:35] \"POST /live HTTP/1.1\" 200 -\n",
      "127.0.0.1 - - [23/Nov/2023 11:50:35] \"POST /live HTTP/1.1\" 200 -\n",
      "127.0.0.1 - - [23/Nov/2023 11:50:35] \"POST /live HTTP/1.1\" 200 -\n",
      "127.0.0.1 - - [23/Nov/2023 11:50:35] \"POST /live HTTP/1.1\" 200 -\n"
     ]
    },
    {
     "name": "stdout",
     "output_type": "stream",
     "text": [
      "YESSSSSS\n",
      "Loading Encode File ...\n",
      "Encode File Loaded\n",
      "YESSSSSS\n",
      "Loading Encode File ...\n",
      "Encode File Loaded\n",
      "YESSSSSS\n",
      "Loading Encode File ...\n",
      "Encode File Loaded\n",
      "YESSSSSS\n",
      "Loading Encode File ...\n",
      "Encode File Loaded\n",
      "YESSSSSS\n",
      "Loading Encode File ...\n",
      "Encode File Loaded\n"
     ]
    },
    {
     "name": "stderr",
     "output_type": "stream",
     "text": [
      "127.0.0.1 - - [23/Nov/2023 11:50:35] \"POST /live HTTP/1.1\" 200 -\n",
      "127.0.0.1 - - [23/Nov/2023 11:50:35] \"POST /live HTTP/1.1\" 200 -\n",
      "127.0.0.1 - - [23/Nov/2023 11:50:35] \"POST /live HTTP/1.1\" 200 -\n",
      "127.0.0.1 - - [23/Nov/2023 11:50:35] \"POST /live HTTP/1.1\" 200 -\n",
      "127.0.0.1 - - [23/Nov/2023 11:50:35] \"POST /live HTTP/1.1\" 200 -\n"
     ]
    },
    {
     "name": "stdout",
     "output_type": "stream",
     "text": [
      "YESSSSSS\n",
      "Loading Encode File ...\n",
      "Encode File Loaded\n",
      "YESSSSSS\n",
      "Loading Encode File ...\n",
      "Encode File Loaded\n",
      "YESSSSSS\n",
      "Loading Encode File ...\n",
      "Encode File Loaded\n",
      "YESSSSSS\n",
      "Loading Encode File ...\n",
      "Encode File Loaded\n"
     ]
    },
    {
     "name": "stderr",
     "output_type": "stream",
     "text": [
      "127.0.0.1 - - [23/Nov/2023 11:50:35] \"POST /live HTTP/1.1\" 200 -\n",
      "127.0.0.1 - - [23/Nov/2023 11:50:35] \"POST /live HTTP/1.1\" 200 -\n",
      "127.0.0.1 - - [23/Nov/2023 11:50:35] \"POST /live HTTP/1.1\" 200 -\n",
      "127.0.0.1 - - [23/Nov/2023 11:50:35] \"POST /live HTTP/1.1\" 200 -\n"
     ]
    },
    {
     "name": "stdout",
     "output_type": "stream",
     "text": [
      "YESSSSSS\n",
      "Loading Encode File ...\n",
      "Encode File Loaded\n",
      "YESSSSSS\n",
      "Loading Encode File ...\n",
      "Encode File Loaded\n",
      "YESSSSSS\n",
      "Loading Encode File ...\n",
      "Encode File Loaded\n",
      "YESSSSSS\n",
      "Loading Encode File ...\n",
      "Encode File Loaded\n"
     ]
    },
    {
     "name": "stderr",
     "output_type": "stream",
     "text": [
      "127.0.0.1 - - [23/Nov/2023 11:50:35] \"POST /live HTTP/1.1\" 200 -\n",
      "127.0.0.1 - - [23/Nov/2023 11:50:35] \"POST /live HTTP/1.1\" 200 -\n",
      "127.0.0.1 - - [23/Nov/2023 11:50:35] \"POST /live HTTP/1.1\" 200 -\n",
      "127.0.0.1 - - [23/Nov/2023 11:50:35] \"POST /live HTTP/1.1\" 200 -\n"
     ]
    },
    {
     "name": "stdout",
     "output_type": "stream",
     "text": [
      "YESSSSSS\n",
      "Loading Encode File ...\n",
      "Encode File Loaded\n",
      "YESSSSSS\n",
      "Loading Encode File ...\n",
      "Encode File Loaded\n",
      "YESSSSSS\n",
      "Loading Encode File ...\n",
      "Encode File Loaded\n",
      "YESSSSSS\n",
      "Loading Encode File ...\n",
      "Encode File Loaded\n"
     ]
    },
    {
     "name": "stderr",
     "output_type": "stream",
     "text": [
      "127.0.0.1 - - [23/Nov/2023 11:50:35] \"POST /live HTTP/1.1\" 200 -\n",
      "127.0.0.1 - - [23/Nov/2023 11:50:36] \"POST /live HTTP/1.1\" 200 -\n",
      "127.0.0.1 - - [23/Nov/2023 11:50:36] \"POST /live HTTP/1.1\" 200 -\n",
      "127.0.0.1 - - [23/Nov/2023 11:50:36] \"POST /live HTTP/1.1\" 200 -\n"
     ]
    },
    {
     "name": "stdout",
     "output_type": "stream",
     "text": [
      "YESSSSSS\n",
      "Loading Encode File ...\n",
      "Encode File Loaded\n",
      "YESSSSSS\n",
      "Loading Encode File ...\n",
      "Encode File Loaded\n",
      "YESSSSSS\n",
      "Loading Encode File ...\n",
      "Encode File Loaded\n",
      "YESSSSSS\n",
      "Loading Encode File ...\n",
      "Encode File Loaded\n"
     ]
    },
    {
     "name": "stderr",
     "output_type": "stream",
     "text": [
      "127.0.0.1 - - [23/Nov/2023 11:50:36] \"POST /live HTTP/1.1\" 200 -\n",
      "127.0.0.1 - - [23/Nov/2023 11:50:36] \"POST /live HTTP/1.1\" 200 -\n",
      "127.0.0.1 - - [23/Nov/2023 11:50:36] \"POST /live HTTP/1.1\" 200 -\n"
     ]
    },
    {
     "name": "stdout",
     "output_type": "stream",
     "text": [
      "YESSSSSS\n",
      "Loading Encode File ...\n",
      "Encode File Loaded\n",
      "YESSSSSS\n",
      "Loading Encode File ...\n",
      "Encode File Loaded\n",
      "YESSSSSS\n",
      "Loading Encode File ...\n",
      "Encode File Loaded\n",
      "YESSSSSS\n",
      "Loading Encode File ...\n",
      "Encode File Loaded\n"
     ]
    },
    {
     "name": "stderr",
     "output_type": "stream",
     "text": [
      "127.0.0.1 - - [23/Nov/2023 11:50:36] \"POST /live HTTP/1.1\" 200 -\n",
      "127.0.0.1 - - [23/Nov/2023 11:50:36] \"POST /live HTTP/1.1\" 200 -\n",
      "127.0.0.1 - - [23/Nov/2023 11:50:36] \"POST /live HTTP/1.1\" 200 -\n",
      "127.0.0.1 - - [23/Nov/2023 11:50:36] \"POST /live HTTP/1.1\" 200 -\n",
      "127.0.0.1 - - [23/Nov/2023 11:50:36] \"POST /live HTTP/1.1\" 200 -\n"
     ]
    },
    {
     "name": "stdout",
     "output_type": "stream",
     "text": [
      "YESSSSSS\n",
      "Loading Encode File ...\n",
      "Encode File Loaded\n",
      "YESSSSSS\n",
      "Loading Encode File ...\n",
      "Encode File Loaded\n",
      "YESSSSSS\n",
      "Loading Encode File ...\n",
      "Encode File Loaded\n",
      "YESSSSSS\n",
      "Loading Encode File ...\n",
      "Encode File Loaded\n"
     ]
    },
    {
     "name": "stderr",
     "output_type": "stream",
     "text": [
      "127.0.0.1 - - [23/Nov/2023 11:50:36] \"POST /live HTTP/1.1\" 200 -\n",
      "127.0.0.1 - - [23/Nov/2023 11:50:36] \"POST /live HTTP/1.1\" 200 -\n"
     ]
    },
    {
     "name": "stdout",
     "output_type": "stream",
     "text": [
      "YESSSSSS\n",
      "Loading Encode File ...\n",
      "Encode File Loaded\n",
      "YESSSSSS\n",
      "Loading Encode File ...\n",
      "Encode File Loaded\n",
      "YESSSSSS\n",
      "Loading Encode File ...\n",
      "Encode File Loaded\n"
     ]
    },
    {
     "name": "stderr",
     "output_type": "stream",
     "text": [
      "127.0.0.1 - - [23/Nov/2023 11:50:37] \"POST /live HTTP/1.1\" 200 -\n"
     ]
    },
    {
     "name": "stdout",
     "output_type": "stream",
     "text": [
      "Known Face Detected\n",
      "20BCE0785\n",
      "('Ananya Singh', '20BCE0785', 'Computer Science and Engineering', '2023-11-23 11:50:31')\n",
      "('2023-11-23 11:50:31',)\n",
      "YESSSSSS\n",
      "Loading Encode File ...\n",
      "Encode File Loaded\n"
     ]
    },
    {
     "name": "stderr",
     "output_type": "stream",
     "text": [
      "127.0.0.1 - - [23/Nov/2023 11:50:38] \"POST /live HTTP/1.1\" 200 -\n",
      "127.0.0.1 - - [23/Nov/2023 11:50:38] \"POST /live HTTP/1.1\" 200 -\n"
     ]
    },
    {
     "name": "stdout",
     "output_type": "stream",
     "text": [
      "Known Face Detected\n",
      "20BCE0785\n",
      "('Ananya Singh', '20BCE0785', 'Computer Science and Engineering', '2023-11-23 11:50:31')\n",
      "('2023-11-23 11:50:31',)\n",
      "YESSSSSS\n",
      "Loading Encode File ...\n",
      "Encode File Loaded\n",
      "YESSSSSS\n",
      "Loading Encode File ...\n",
      "Encode File Loaded\n"
     ]
    },
    {
     "name": "stderr",
     "output_type": "stream",
     "text": [
      "127.0.0.1 - - [23/Nov/2023 11:50:38] \"POST /live HTTP/1.1\" 200 -\n",
      "127.0.0.1 - - [23/Nov/2023 11:50:39] \"POST /live HTTP/1.1\" 200 -\n",
      "127.0.0.1 - - [23/Nov/2023 11:50:39] \"POST /live HTTP/1.1\" 200 -\n",
      "127.0.0.1 - - [23/Nov/2023 11:50:39] \"POST /live HTTP/1.1\" 200 -\n"
     ]
    },
    {
     "name": "stdout",
     "output_type": "stream",
     "text": [
      "YESSSSSS\n",
      "Loading Encode File ...\n",
      "Encode File Loaded\n",
      "YESSSSSS\n",
      "Loading Encode File ...\n",
      "Encode File Loaded\n",
      "YESSSSSS\n",
      "Loading Encode File ...\n",
      "Encode File Loaded\n",
      "YESSSSSS\n",
      "Loading Encode File ...\n",
      "Encode File Loaded\n"
     ]
    },
    {
     "name": "stderr",
     "output_type": "stream",
     "text": [
      "127.0.0.1 - - [23/Nov/2023 11:50:39] \"POST /live HTTP/1.1\" 200 -\n",
      "127.0.0.1 - - [23/Nov/2023 11:50:39] \"POST /live HTTP/1.1\" 200 -\n",
      "127.0.0.1 - - [23/Nov/2023 11:50:39] \"POST /live HTTP/1.1\" 200 -\n",
      "127.0.0.1 - - [23/Nov/2023 11:50:39] \"POST /live HTTP/1.1\" 200 -\n",
      "127.0.0.1 - - [23/Nov/2023 11:50:39] \"POST /live HTTP/1.1\" 200 -\n"
     ]
    },
    {
     "name": "stdout",
     "output_type": "stream",
     "text": [
      "YESSSSSS\n",
      "Loading Encode File ...\n",
      "Encode File Loaded\n",
      "YESSSSSS\n",
      "Loading Encode File ...\n",
      "Encode File Loaded\n",
      "YESSSSSS\n",
      "Loading Encode File ...\n",
      "Encode File Loaded\n",
      "YESSSSSS\n",
      "Loading Encode File ...\n",
      "Encode File Loaded\n",
      "YESSSSSS\n",
      "Loading Encode File ...\n",
      "Encode File Loaded\n"
     ]
    },
    {
     "name": "stderr",
     "output_type": "stream",
     "text": [
      "127.0.0.1 - - [23/Nov/2023 11:50:39] \"POST /live HTTP/1.1\" 200 -\n",
      "127.0.0.1 - - [23/Nov/2023 11:50:39] \"POST /live HTTP/1.1\" 200 -\n",
      "127.0.0.1 - - [23/Nov/2023 11:50:39] \"POST /live HTTP/1.1\" 200 -\n",
      "127.0.0.1 - - [23/Nov/2023 11:50:39] \"POST /live HTTP/1.1\" 200 -\n",
      "127.0.0.1 - - [23/Nov/2023 11:50:39] \"POST /live HTTP/1.1\" 200 -\n"
     ]
    },
    {
     "name": "stdout",
     "output_type": "stream",
     "text": [
      "YESSSSSS\n",
      "Loading Encode File ...\n",
      "Encode File Loaded\n",
      "YESSSSSS\n",
      "Loading Encode File ...\n",
      "Encode File Loaded\n",
      "YESSSSSS\n",
      "Loading Encode File ...\n",
      "Encode File Loaded\n",
      "YESSSSSS\n",
      "Loading Encode File ...\n",
      "Encode File Loaded\n",
      "YESSSSSS\n",
      "Loading Encode File ...\n",
      "Encode File Loaded\n"
     ]
    },
    {
     "name": "stderr",
     "output_type": "stream",
     "text": [
      "127.0.0.1 - - [23/Nov/2023 11:50:39] \"POST /live HTTP/1.1\" 200 -\n",
      "127.0.0.1 - - [23/Nov/2023 11:50:39] \"POST /live HTTP/1.1\" 200 -\n",
      "127.0.0.1 - - [23/Nov/2023 11:50:39] \"POST /live HTTP/1.1\" 200 -\n",
      "127.0.0.1 - - [23/Nov/2023 11:50:39] \"POST /live HTTP/1.1\" 200 -\n"
     ]
    },
    {
     "name": "stdout",
     "output_type": "stream",
     "text": [
      "YESSSSSS\n",
      "Loading Encode File ...\n",
      "Encode File Loaded\n",
      "YESSSSSS\n",
      "Loading Encode File ...\n",
      "Encode File Loaded\n",
      "YESSSSSS\n",
      "Loading Encode File ...\n",
      "Encode File Loaded\n",
      "YESSSSSS\n",
      "Loading Encode File ...\n",
      "Encode File Loaded\n"
     ]
    },
    {
     "name": "stderr",
     "output_type": "stream",
     "text": [
      "127.0.0.1 - - [23/Nov/2023 11:50:40] \"POST /live HTTP/1.1\" 200 -\n"
     ]
    },
    {
     "name": "stdout",
     "output_type": "stream",
     "text": [
      "Known Face Detected\n",
      "20BCE0785\n",
      "('Ananya Singh', '20BCE0785', 'Computer Science and Engineering', '2023-11-23 11:50:31')\n",
      "('2023-11-23 11:50:31',)\n",
      "YESSSSSS\n",
      "Loading Encode File ...\n",
      "Encode File Loaded\n"
     ]
    },
    {
     "name": "stderr",
     "output_type": "stream",
     "text": [
      "127.0.0.1 - - [23/Nov/2023 11:50:42] \"POST /live HTTP/1.1\" 200 -\n"
     ]
    },
    {
     "name": "stdout",
     "output_type": "stream",
     "text": [
      "Known Face Detected\n",
      "20BCE0785\n",
      "('Ananya Singh', '20BCE0785', 'Computer Science and Engineering', '2023-11-23 11:50:31')\n",
      "('2023-11-23 11:50:31',)\n",
      "YESSSSSS\n",
      "Loading Encode File ...\n",
      "Encode File Loaded\n"
     ]
    },
    {
     "name": "stderr",
     "output_type": "stream",
     "text": [
      "127.0.0.1 - - [23/Nov/2023 11:50:43] \"POST /live HTTP/1.1\" 200 -\n"
     ]
    },
    {
     "name": "stdout",
     "output_type": "stream",
     "text": [
      "Known Face Detected\n",
      "20BCE0785\n",
      "('Ananya Singh', '20BCE0785', 'Computer Science and Engineering', '2023-11-23 11:50:31')\n",
      "('2023-11-23 11:50:31',)\n",
      "YESSSSSS\n",
      "Loading Encode File ...\n",
      "Encode File Loaded\n"
     ]
    },
    {
     "name": "stderr",
     "output_type": "stream",
     "text": [
      "127.0.0.1 - - [23/Nov/2023 11:50:44] \"GET /index.html HTTP/1.1\" 200 -\n",
      "127.0.0.1 - - [23/Nov/2023 11:50:44] \"GET /static/lib/animate/animate.min.css HTTP/1.1\" 304 -\n",
      "127.0.0.1 - - [23/Nov/2023 11:50:44] \"GET /static/lib/owlcarousel/assets/owl.carousel.min.css HTTP/1.1\" 304 -\n",
      "127.0.0.1 - - [23/Nov/2023 11:50:44] \"GET /static/css/bootstrap.min.css HTTP/1.1\" 304 -\n",
      "127.0.0.1 - - [23/Nov/2023 11:50:44] \"GET /static/css/style.css HTTP/1.1\" 304 -\n",
      "127.0.0.1 - - [23/Nov/2023 11:50:44] \"GET /static/img/carousel-1.jpg HTTP/1.1\" 304 -\n",
      "127.0.0.1 - - [23/Nov/2023 11:50:44] \""
     ]
    },
    {
     "name": "stdout",
     "output_type": "stream",
     "text": [
      "Known Face Detected\n",
      "20BCE0785\n"
     ]
    },
    {
     "name": "stderr",
     "output_type": "stream",
     "text": [
      "GET /static/img/carousel-2.jpg HTTP/1.1\" 304 -\n",
      "127.0.0.1 - - [23/Nov/2023 11:50:44] \"GET /static/img/face.png HTTP/1.1\" 304 -\n",
      "127.0.0.1 - - [23/Nov/2023 11:50:44] \"GET /static/img/ananya.jpg HTTP/1.1\" 304 -\n",
      "127.0.0.1 - - [23/Nov/2023 11:50:44] \"GET /static/img/testimonial-1.jpg HTTP/1.1\" 304 -\n",
      "127.0.0.1 - - [23/Nov/2023 11:50:44] \"GET /static/lib/wow/wow.min.js HTTP/1.1\" 304 -\n",
      "127.0.0.1 - - [23/Nov/2023 11:50:44] \"GET /static/lib/easing/easing.min.js HTTP/1.1\" 304 -\n",
      "127.0.0.1 - - [23/Nov/2023 11:50:44] \"GET /static/lib/waypoints/waypoints.min.js HTTP/1.1\" 304 -\n",
      "127.0.0.1 - - [23/Nov/2023 11:50:44] \"POST /live HTTP/1.1\" 200 -\n",
      "127.0.0.1 - - [23/Nov/2023 11:50:44] \"GET /static/lib/owlcarousel/owl.carousel.min.js HTTP/1.1\" 304 -\n",
      "127.0.0.1 - - [23/Nov/2023 11:50:44] \"GET /static/js/main.js HTTP/1.1\" 304 -\n",
      "127.0.0.1 - - [23/Nov/2023 11:50:44] \"GET /static/img/testimonial-2.jpg HTTP/1.1\" 304 -\n",
      "127.0.0.1 - - [23/Nov/2023 11:50:44] \"GET /static/img/testimonial-3.jpg HTTP/1.1\" 304 -\n",
      "127.0.0.1 - - [23/Nov/2023 11:50:44] \"GET /static/img/testimonial-4.jpg HTTP/1.1\" 304 -\n"
     ]
    },
    {
     "name": "stdout",
     "output_type": "stream",
     "text": [
      "('Ananya Singh', '20BCE0785', 'Computer Science and Engineering', '2023-11-23 11:50:31')\n",
      "('2023-11-23 11:50:31',)\n"
     ]
    },
    {
     "name": "stderr",
     "output_type": "stream",
     "text": [
      "127.0.0.1 - - [23/Nov/2023 11:54:21] \"GET /services.html HTTP/1.1\" 200 -\n",
      "127.0.0.1 - - [23/Nov/2023 11:54:21] \"GET /static/lib/animate/animate.min.css HTTP/1.1\" 304 -\n",
      "127.0.0.1 - - [23/Nov/2023 11:54:21] \"GET /static/lib/owlcarousel/assets/owl.carousel.min.css HTTP/1.1\" 304 -\n",
      "127.0.0.1 - - [23/Nov/2023 11:54:21] \"GET /static/css/bootstrap.min.css HTTP/1.1\" 304 -\n",
      "127.0.0.1 - - [23/Nov/2023 11:54:21] \"GET /static/css/style.css HTTP/1.1\" 304 -\n",
      "127.0.0.1 - - [23/Nov/2023 11:54:21] \"GET /static/lib/wow/wow.min.js HTTP/1.1\" 304 -\n",
      "127.0.0.1 - - [23/Nov/2023 11:54:21] \"GET /static/lib/easing/easing.min.js HTTP/1.1\" 304 -\n",
      "127.0.0.1 - - [23/Nov/2023 11:54:21] \"GET /static/lib/waypoints/waypoints.min.js HTTP/1.1\" 304 -\n",
      "127.0.0.1 - - [23/Nov/2023 11:54:21] \"GET /static/lib/owlcarousel/owl.carousel.min.js HTTP/1.1\" 304 -\n",
      "127.0.0.1 - - [23/Nov/2023 11:54:21] \"GET /static/js/main.js HTTP/1.1\" 304 -\n",
      "127.0.0.1 - - [23/Nov/2023 11:54:23] \"GET /liveatt.html HTTP/1.1\" 200 -\n",
      "127.0.0.1 - - [23/Nov/2023 11:54:23] \"GET /static/lib/animate/animate.min.css HTTP/1.1\" 304 -\n",
      "127.0.0.1 - - [23/Nov/2023 11:54:23] \"GET /static/lib/owlcarousel/assets/owl.carousel.min.css HTTP/1.1\" 304 -\n",
      "127.0.0.1 - - [23/Nov/2023 11:54:23] \"GET /static/css/bootstrap.min.css HTTP/1.1\" 304 -\n",
      "127.0.0.1 - - [23/Nov/2023 11:54:23] \"GET /static/css/style.css HTTP/1.1\" 304 -\n",
      "127.0.0.1 - - [23/Nov/2023 11:54:23] \"GET /static/lib/wow/wow.min.js HTTP/1.1\" 304 -\n",
      "127.0.0.1 - - [23/Nov/2023 11:54:23] \"GET /static/lib/easing/easing.min.js HTTP/1.1\" 304 -\n",
      "127.0.0.1 - - [23/Nov/2023 11:54:23] \"GET /static/lib/waypoints/waypoints.min.js HTTP/1.1\" 304 -\n",
      "127.0.0.1 - - [23/Nov/2023 11:54:23] \"GET /static/lib/owlcarousel/owl.carousel.min.js HTTP/1.1\" 304 -\n",
      "127.0.0.1 - - [23/Nov/2023 11:54:23] \"GET /static/js/main.js HTTP/1.1\" 304 -\n"
     ]
    },
    {
     "name": "stdout",
     "output_type": "stream",
     "text": [
      "YESSSSSS\n",
      "Loading Encode File ...\n",
      "Encode File Loaded\n"
     ]
    },
    {
     "name": "stderr",
     "output_type": "stream",
     "text": [
      "127.0.0.1 - - [23/Nov/2023 11:54:25] \"POST /live HTTP/1.1\" 200 -\n",
      "127.0.0.1 - - [23/Nov/2023 11:54:25] \"GET /static/Images/20BCE0785.png HTTP/1.1\" 304 -\n"
     ]
    },
    {
     "name": "stdout",
     "output_type": "stream",
     "text": [
      "Known Face Detected\n",
      "20BCE0785\n",
      "('Ananya Singh', '20BCE0785', 'Computer Science and Engineering', '2023-11-23 11:50:31')\n",
      "('2023-11-23 11:50:31',)\n",
      "YESSSSSS\n",
      "Loading Encode File ...\n",
      "Encode File Loaded\n"
     ]
    },
    {
     "name": "stderr",
     "output_type": "stream",
     "text": [
      "127.0.0.1 - - [23/Nov/2023 11:54:26] \"POST /live HTTP/1.1\" 200 -\n"
     ]
    },
    {
     "name": "stdout",
     "output_type": "stream",
     "text": [
      "Known Face Detected\n",
      "20BCE0785\n",
      "('Ananya Singh', '20BCE0785', 'Computer Science and Engineering', '2023-11-23 11:54:25')\n",
      "('2023-11-23 11:54:25',)\n",
      "YESSSSSS\n",
      "Loading Encode File ...\n",
      "Encode File Loaded\n"
     ]
    },
    {
     "name": "stderr",
     "output_type": "stream",
     "text": [
      "127.0.0.1 - - [23/Nov/2023 11:54:27] \"POST /live HTTP/1.1\" 200 -\n"
     ]
    },
    {
     "name": "stdout",
     "output_type": "stream",
     "text": [
      "Known Face Detected\n",
      "20BCE0785\n",
      "('Ananya Singh', '20BCE0785', 'Computer Science and Engineering', '2023-11-23 11:54:25')\n",
      "('2023-11-23 11:54:25',)\n",
      "YESSSSSS\n",
      "Loading Encode File ...\n",
      "Encode File Loaded\n"
     ]
    },
    {
     "name": "stderr",
     "output_type": "stream",
     "text": [
      "127.0.0.1 - - [23/Nov/2023 11:54:28] \"POST /live HTTP/1.1\" 200 -\n"
     ]
    },
    {
     "name": "stdout",
     "output_type": "stream",
     "text": [
      "Known Face Detected\n",
      "20BCE0785\n",
      "('Ananya Singh', '20BCE0785', 'Computer Science and Engineering', '2023-11-23 11:54:25')\n",
      "('2023-11-23 11:54:25',)\n",
      "YESSSSSS\n",
      "Loading Encode File ...\n",
      "Encode File Loaded\n"
     ]
    },
    {
     "name": "stderr",
     "output_type": "stream",
     "text": [
      "127.0.0.1 - - [23/Nov/2023 11:54:29] \"POST /live HTTP/1.1\" 200 -\n"
     ]
    },
    {
     "name": "stdout",
     "output_type": "stream",
     "text": [
      "Known Face Detected\n",
      "20BCE0785\n",
      "('Ananya Singh', '20BCE0785', 'Computer Science and Engineering', '2023-11-23 11:54:25')\n",
      "('2023-11-23 11:54:25',)\n",
      "YESSSSSS\n",
      "Loading Encode File ...\n",
      "Encode File Loaded\n"
     ]
    },
    {
     "name": "stderr",
     "output_type": "stream",
     "text": [
      "127.0.0.1 - - [23/Nov/2023 11:54:30] \"POST /live HTTP/1.1\" 200 -\n"
     ]
    },
    {
     "name": "stdout",
     "output_type": "stream",
     "text": [
      "Known Face Detected\n",
      "20BCE0785\n",
      "('Ananya Singh', '20BCE0785', 'Computer Science and Engineering', '2023-11-23 11:54:25')\n",
      "('2023-11-23 11:54:25',)\n",
      "YESSSSSS\n",
      "Loading Encode File ...\n",
      "Encode File Loaded\n"
     ]
    },
    {
     "name": "stderr",
     "output_type": "stream",
     "text": [
      "127.0.0.1 - - [23/Nov/2023 11:54:33] \"POST /live HTTP/1.1\" 200 -\n",
      "127.0.0.1 - - [23/Nov/2023 11:54:33] \"GET /static/Images/20BDS0040.png HTTP/1.1\" 200 -\n",
      "127.0.0.1 - - [23/Nov/2023 11:54:33] \"POST /live HTTP/1.1\" 200 -\n"
     ]
    },
    {
     "name": "stdout",
     "output_type": "stream",
     "text": [
      "Known Face Detected\n",
      "20BDS0040\n",
      "('Kartikey Saini', '20BDS0040', 'Computer Science and Engineering with specialization in Data Science', '2023-11-23 11:50:06')\n",
      "('2023-11-23 11:50:06',)\n",
      "YESSSSSS\n",
      "Loading Encode File ...\n",
      "Encode File Loaded\n",
      "YESSSSSS\n",
      "Loading Encode File ...\n",
      "Encode File Loaded\n"
     ]
    },
    {
     "name": "stderr",
     "output_type": "stream",
     "text": [
      "127.0.0.1 - - [23/Nov/2023 11:54:33] \"POST /live HTTP/1.1\" 200 -\n",
      "127.0.0.1 - - [23/Nov/2023 11:54:33] \"POST /live HTTP/1.1\" 200 -\n",
      "127.0.0.1 - - [23/Nov/2023 11:54:33] \"POST /live HTTP/1.1\" 200 -\n",
      "127.0.0.1 - - [23/Nov/2023 11:54:33] \"POST /live HTTP/1.1\" 200 -\n"
     ]
    },
    {
     "name": "stdout",
     "output_type": "stream",
     "text": [
      "YESSSSSS\n",
      "Loading Encode File ...\n",
      "Encode File Loaded\n",
      "YESSSSSS\n",
      "Loading Encode File ...\n",
      "Encode File Loaded\n",
      "YESSSSSS\n",
      "Loading Encode File ...\n",
      "Encode File Loaded\n",
      "YESSSSSS\n",
      "Loading Encode File ...\n",
      "Encode File Loaded\n"
     ]
    },
    {
     "name": "stderr",
     "output_type": "stream",
     "text": [
      "127.0.0.1 - - [23/Nov/2023 11:54:33] \"POST /live HTTP/1.1\" 200 -\n",
      "127.0.0.1 - - [23/Nov/2023 11:54:33] \"POST /live HTTP/1.1\" 200 -\n",
      "127.0.0.1 - - [23/Nov/2023 11:54:33] \"POST /live HTTP/1.1\" 200 -\n"
     ]
    },
    {
     "name": "stdout",
     "output_type": "stream",
     "text": [
      "YESSSSSS\n",
      "Loading Encode File ...\n",
      "Encode File Loaded\n",
      "YESSSSSS\n",
      "Loading Encode File ...\n",
      "Encode File Loaded\n",
      "YESSSSSS\n",
      "Loading Encode File ...\n",
      "Encode File Loaded\n"
     ]
    },
    {
     "name": "stderr",
     "output_type": "stream",
     "text": [
      "127.0.0.1 - - [23/Nov/2023 11:54:33] \"POST /live HTTP/1.1\" 200 -\n",
      "127.0.0.1 - - [23/Nov/2023 11:54:33] \"POST /live HTTP/1.1\" 200 -\n",
      "127.0.0.1 - - [23/Nov/2023 11:54:33] \"POST /live HTTP/1.1\" 200 -\n",
      "127.0.0.1 - - [23/Nov/2023 11:54:33] \"POST /live HTTP/1.1\" 200 -\n"
     ]
    },
    {
     "name": "stdout",
     "output_type": "stream",
     "text": [
      "YESSSSSS\n",
      "Loading Encode File ...\n",
      "Encode File Loaded\n",
      "YESSSSSS\n",
      "Loading Encode File ...\n",
      "Encode File Loaded\n",
      "YESSSSSS\n",
      "Loading Encode File ...\n",
      "Encode File Loaded\n",
      "YESSSSSS\n",
      "Loading Encode File ...\n",
      "Encode File Loaded\n"
     ]
    },
    {
     "name": "stderr",
     "output_type": "stream",
     "text": [
      "127.0.0.1 - - [23/Nov/2023 11:54:33] \"POST /live HTTP/1.1\" 200 -\n",
      "127.0.0.1 - - [23/Nov/2023 11:54:33] \"POST /live HTTP/1.1\" 200 -\n",
      "127.0.0.1 - - [23/Nov/2023 11:54:34] \"POST /live HTTP/1.1\" 200 -\n",
      "127.0.0.1 - - [23/Nov/2023 11:54:34] \"POST /live HTTP/1.1\" 200 -\n"
     ]
    },
    {
     "name": "stdout",
     "output_type": "stream",
     "text": [
      "YESSSSSS\n",
      "Loading Encode File ...\n",
      "Encode File Loaded\n",
      "YESSSSSS\n",
      "Loading Encode File ...\n",
      "Encode File Loaded\n",
      "YESSSSSS\n",
      "Loading Encode File ...\n",
      "Encode File Loaded\n",
      "YESSSSSS\n",
      "Loading Encode File ...\n",
      "Encode File Loaded\n"
     ]
    },
    {
     "name": "stderr",
     "output_type": "stream",
     "text": [
      "127.0.0.1 - - [23/Nov/2023 11:54:34] \"POST /live HTTP/1.1\" 200 -\n",
      "127.0.0.1 - - [23/Nov/2023 11:54:34] \"POST /live HTTP/1.1\" 200 -\n",
      "127.0.0.1 - - [23/Nov/2023 11:54:34] \"POST /live HTTP/1.1\" 200 -\n"
     ]
    },
    {
     "name": "stdout",
     "output_type": "stream",
     "text": [
      "YESSSSSS\n",
      "Loading Encode File ...\n",
      "Encode File Loaded\n",
      "YESSSSSS\n",
      "Loading Encode File ...\n",
      "Encode File Loaded\n",
      "YESSSSSS\n",
      "Loading Encode File ...\n",
      "Encode File Loaded\n"
     ]
    },
    {
     "name": "stderr",
     "output_type": "stream",
     "text": [
      "127.0.0.1 - - [23/Nov/2023 11:54:35] \"POST /live HTTP/1.1\" 200 -\n"
     ]
    },
    {
     "name": "stdout",
     "output_type": "stream",
     "text": [
      "YESSSSSS\n",
      "Loading Encode File ...\n",
      "Encode File Loaded\n"
     ]
    },
    {
     "name": "stderr",
     "output_type": "stream",
     "text": [
      "127.0.0.1 - - [23/Nov/2023 11:54:36] \"POST /live HTTP/1.1\" 200 -\n"
     ]
    },
    {
     "name": "stdout",
     "output_type": "stream",
     "text": [
      "Known Face Detected\n",
      "20BCE0785\n",
      "('Ananya Singh', '20BCE0785', 'Computer Science and Engineering', '2023-11-23 11:54:25')\n",
      "('2023-11-23 11:54:25',)\n",
      "YESSSSSS\n",
      "Loading Encode File ...\n",
      "Encode File Loaded\n"
     ]
    },
    {
     "name": "stderr",
     "output_type": "stream",
     "text": [
      "127.0.0.1 - - [23/Nov/2023 11:54:37] \"POST /live HTTP/1.1\" 200 -\n"
     ]
    },
    {
     "name": "stdout",
     "output_type": "stream",
     "text": [
      "Known Face Detected\n",
      "20BCE0785\n",
      "('Ananya Singh', '20BCE0785', 'Computer Science and Engineering', '2023-11-23 11:54:25')\n",
      "('2023-11-23 11:54:25',)\n",
      "YESSSSSS\n",
      "Loading Encode File ...\n",
      "Encode File Loaded\n"
     ]
    },
    {
     "name": "stderr",
     "output_type": "stream",
     "text": [
      "127.0.0.1 - - [23/Nov/2023 11:54:38] \"POST /live HTTP/1.1\" 200 -\n"
     ]
    },
    {
     "name": "stdout",
     "output_type": "stream",
     "text": [
      "Known Face Detected\n",
      "20BCE0785\n",
      "('Ananya Singh', '20BCE0785', 'Computer Science and Engineering', '2023-11-23 11:54:25')\n",
      "('2023-11-23 11:54:25',)\n",
      "YESSSSSS\n",
      "Loading Encode File ...\n",
      "Encode File Loaded\n"
     ]
    },
    {
     "name": "stderr",
     "output_type": "stream",
     "text": [
      "127.0.0.1 - - [23/Nov/2023 11:54:39] \"POST /live HTTP/1.1\" 200 -\n"
     ]
    },
    {
     "name": "stdout",
     "output_type": "stream",
     "text": [
      "Known Face Detected\n",
      "20BCE0785\n",
      "('Ananya Singh', '20BCE0785', 'Computer Science and Engineering', '2023-11-23 11:54:25')\n",
      "('2023-11-23 11:54:25',)\n",
      "YESSSSSS\n",
      "Loading Encode File ...\n",
      "Encode File Loaded\n"
     ]
    },
    {
     "name": "stderr",
     "output_type": "stream",
     "text": [
      "127.0.0.1 - - [23/Nov/2023 11:54:41] \"POST /live HTTP/1.1\" 200 -\n"
     ]
    },
    {
     "name": "stdout",
     "output_type": "stream",
     "text": [
      "Known Face Detected\n",
      "20BCE0785\n",
      "('Ananya Singh', '20BCE0785', 'Computer Science and Engineering', '2023-11-23 11:54:25')\n",
      "('2023-11-23 11:54:25',)\n",
      "YESSSSSS\n",
      "Loading Encode File ...\n",
      "Encode File Loaded\n"
     ]
    },
    {
     "name": "stderr",
     "output_type": "stream",
     "text": [
      "127.0.0.1 - - [23/Nov/2023 11:54:42] \"GET /index.html HTTP/1.1\" 200 -\n",
      "127.0.0.1 - - [23/Nov/2023 11:54:42] \"GET /static/lib/animate/animate.min.css HTTP/1.1\" 304 -\n",
      "127.0.0.1 - - [23/Nov/2023 11:54:42] \"GET /static/lib/owlcarousel/assets/owl.carousel.min.css HTTP/1.1\" 304 -\n",
      "127.0.0.1 - - [23/Nov/2023 11:54:42] \"GET /static/css/bootstrap.min.css HTTP/1.1\" 304 -\n",
      "127.0.0.1 - - [23/Nov/2023 11:54:42] \"GET /static/css/style.css HTTP/1.1\" 304 -\n",
      "127.0.0.1 - - [23/Nov/2023 11:54:42] \"GET /static/img/carousel-2.jpg HTTP/1.1\" 304 -\n",
      "127.0.0.1 - - [23/Nov/2023 11:54:42] \"GET /static/img/carousel-1.jpg HTTP/1.1"
     ]
    },
    {
     "name": "stdout",
     "output_type": "stream",
     "text": [
      "Known Face Detected\n",
      "20BCE0785\n"
     ]
    },
    {
     "name": "stderr",
     "output_type": "stream",
     "text": [
      "\" 304 -\n",
      "127.0.0.1 - - [23/Nov/2023 11:54:42] \"GET /static/img/face.png HTTP/1.1\" 304 -\n",
      "127.0.0.1 - - [23/Nov/2023 11:54:42] \"GET /static/img/ananya.jpg HTTP/1.1\" 304 -\n",
      "127.0.0.1 - - [23/Nov/2023 11:54:42] \"GET /static/img/testimonial-1.jpg HTTP/1.1\" 304 -\n",
      "127.0.0.1 - - [23/Nov/2023 11:54:42] \"GET /static/lib/wow/wow.min.js HTTP/1.1\" 304 -\n",
      "127.0.0.1 - - [23/Nov/2023 11:54:42] \"GET /static/lib/easing/easing.min.js HTTP/1.1\" 304 -\n",
      "127.0.0.1 - - [23/Nov/2023 11:54:42] \"POST /live HTTP/1.1\" 200 -\n",
      "127.0.0.1 - - [23/Nov/2023 11:54:42] \"GET /static/lib/waypoints/waypoints.min.js HTTP/1.1\" 304 -\n",
      "127.0.0.1 - - [23/Nov/2023 11:54:42] \"GET /static/lib/owlcarousel/owl.carousel.min.js HTTP/1.1\" 304 -\n",
      "127.0.0.1 - - [23/Nov/2023 11:54:42] \"GET /static/js/main.js HTTP/1.1\" 304 -\n",
      "127.0.0.1 - - [23/Nov/2023 11:54:42] \"GET /static/img/testimonial-2.jpg HTTP/1.1\" 304 -\n",
      "127.0.0.1 - - [23/Nov/2023 11:54:42] \"GET /static/img/testimonial-3.jpg HTTP/1.1\" 304 -\n",
      "127.0.0.1 - - [23/Nov/2023 11:54:42] \"GET /static/img/testimonial-4.jpg HTTP/1.1\" 304 -\n"
     ]
    },
    {
     "name": "stdout",
     "output_type": "stream",
     "text": [
      "('Ananya Singh', '20BCE0785', 'Computer Science and Engineering', '2023-11-23 11:54:25')\n",
      "('2023-11-23 11:54:25',)\n"
     ]
    },
    {
     "name": "stderr",
     "output_type": "stream",
     "text": [
      "127.0.0.1 - - [23/Nov/2023 12:10:00] \"GET /services.html HTTP/1.1\" 200 -\n",
      "127.0.0.1 - - [23/Nov/2023 12:10:00] \"GET /static/lib/owlcarousel/assets/owl.carousel.min.css HTTP/1.1\" 304 -\n",
      "127.0.0.1 - - [23/Nov/2023 12:10:00] \"GET /static/lib/animate/animate.min.css HTTP/1.1\" 304 -\n",
      "127.0.0.1 - - [23/Nov/2023 12:10:00] \"GET /static/css/bootstrap.min.css HTTP/1.1\" 304 -\n",
      "127.0.0.1 - - [23/Nov/2023 12:10:00] \"GET /static/css/style.css HTTP/1.1\" 304 -\n",
      "127.0.0.1 - - [23/Nov/2023 12:10:00] \"GET /static/lib/wow/wow.min.js HTTP/1.1\" 304 -\n",
      "127.0.0.1 - - [23/Nov/2023 12:10:00] \"GET /static/lib/easing/easing.min.js HTTP/1.1\" 304 -\n",
      "127.0.0.1 - - [23/Nov/2023 12:10:00] \"GET /static/lib/waypoints/waypoints.min.js HTTP/1.1\" 304 -\n",
      "127.0.0.1 - - [23/Nov/2023 12:10:00] \"GET /static/lib/owlcarousel/owl.carousel.min.js HTTP/1.1\" 304 -\n",
      "127.0.0.1 - - [23/Nov/2023 12:10:00] \"GET /static/js/main.js HTTP/1.1\" 304 -\n",
      "127.0.0.1 - - [23/Nov/2023 12:10:02] \"GET /liveatt.html HTTP/1.1\" 200 -\n",
      "127.0.0.1 - - [23/Nov/2023 12:10:02] \"GET /static/lib/animate/animate.min.css HTTP/1.1\" 304 -\n",
      "127.0.0.1 - - [23/Nov/2023 12:10:02] \"GET /static/lib/owlcarousel/assets/owl.carousel.min.css HTTP/1.1\" 304 -\n",
      "127.0.0.1 - - [23/Nov/2023 12:10:02] \"GET /static/css/bootstrap.min.css HTTP/1.1\" 304 -\n",
      "127.0.0.1 - - [23/Nov/2023 12:10:02] \"GET /static/css/style.css HTTP/1.1\" 304 -\n",
      "127.0.0.1 - - [23/Nov/2023 12:10:02] \"GET /static/lib/wow/wow.min.js HTTP/1.1\" 304 -\n",
      "127.0.0.1 - - [23/Nov/2023 12:10:02] \"GET /static/lib/easing/easing.min.js HTTP/1.1\" 304 -\n",
      "127.0.0.1 - - [23/Nov/2023 12:10:02] \"GET /static/lib/waypoints/waypoints.min.js HTTP/1.1\" 304 -\n",
      "127.0.0.1 - - [23/Nov/2023 12:10:02] \"GET /static/lib/owlcarousel/owl.carousel.min.js HTTP/1.1\" 304 -\n",
      "127.0.0.1 - - [23/Nov/2023 12:10:02] \"GET /static/js/main.js HTTP/1.1\" 304 -\n"
     ]
    },
    {
     "name": "stdout",
     "output_type": "stream",
     "text": [
      "YESSSSSS\n",
      "Loading Encode File ...\n",
      "Encode File Loaded\n"
     ]
    },
    {
     "name": "stderr",
     "output_type": "stream",
     "text": [
      "127.0.0.1 - - [23/Nov/2023 12:10:04] \"POST /live HTTP/1.1\" 200 -\n",
      "127.0.0.1 - - [23/Nov/2023 12:10:04] \"GET /static/Images/20BCE0785.png HTTP/1.1\" 304 -\n"
     ]
    },
    {
     "name": "stdout",
     "output_type": "stream",
     "text": [
      "Known Face Detected\n",
      "20BCE0785\n",
      "('Ananya Singh', '20BCE0785', 'Computer Science and Engineering', '2023-11-23 11:54:25')\n",
      "('2023-11-23 11:54:25',)\n",
      "YESSSSSS\n",
      "Loading Encode File ...\n",
      "Encode File Loaded\n"
     ]
    },
    {
     "name": "stderr",
     "output_type": "stream",
     "text": [
      "127.0.0.1 - - [23/Nov/2023 12:10:05] \"POST /live HTTP/1.1\" 200 -\n",
      "127.0.0.1 - - [23/Nov/2023 12:10:05] \"POST /live HTTP/1.1\" 200 -\n"
     ]
    },
    {
     "name": "stdout",
     "output_type": "stream",
     "text": [
      "Known Face Detected\n",
      "20BCE0785\n",
      "('Ananya Singh', '20BCE0785', 'Computer Science and Engineering', '2023-11-23 12:10:04')\n",
      "('2023-11-23 12:10:04',)\n",
      "YESSSSSS\n",
      "Loading Encode File ...\n",
      "Encode File Loaded\n",
      "YESSSSSS\n",
      "Loading Encode File ...\n",
      "Encode File Loaded\n"
     ]
    },
    {
     "name": "stderr",
     "output_type": "stream",
     "text": [
      "127.0.0.1 - - [23/Nov/2023 12:10:05] \"POST /live HTTP/1.1\" 200 -\n",
      "127.0.0.1 - - [23/Nov/2023 12:10:05] \"POST /live HTTP/1.1\" 200 -\n",
      "127.0.0.1 - - [23/Nov/2023 12:10:05] \"POST /live HTTP/1.1\" 200 -\n",
      "127.0.0.1 - - [23/Nov/2023 12:10:05] \"POST /live HTTP/1.1\" 200 -\n"
     ]
    },
    {
     "name": "stdout",
     "output_type": "stream",
     "text": [
      "YESSSSSS\n",
      "Loading Encode File ...\n",
      "Encode File Loaded\n",
      "YESSSSSS\n",
      "Loading Encode File ...\n",
      "Encode File Loaded\n",
      "YESSSSSS\n",
      "Loading Encode File ...\n",
      "Encode File Loaded\n",
      "YESSSSSS\n",
      "Loading Encode File ...\n",
      "Encode File Loaded\n"
     ]
    },
    {
     "name": "stderr",
     "output_type": "stream",
     "text": [
      "127.0.0.1 - - [23/Nov/2023 12:10:05] \"POST /live HTTP/1.1\" 200 -\n",
      "127.0.0.1 - - [23/Nov/2023 12:10:05] \"POST /live HTTP/1.1\" 200 -\n",
      "127.0.0.1 - - [23/Nov/2023 12:10:05] \"POST /live HTTP/1.1\" 200 -\n",
      "127.0.0.1 - - [23/Nov/2023 12:10:05] \"POST /live HTTP/1.1\" 200 -\n"
     ]
    },
    {
     "name": "stdout",
     "output_type": "stream",
     "text": [
      "YESSSSSS\n",
      "Loading Encode File ...\n",
      "Encode File Loaded\n",
      "YESSSSSS\n",
      "Loading Encode File ...\n",
      "Encode File Loaded\n",
      "YESSSSSS\n",
      "Loading Encode File ...\n",
      "Encode File Loaded\n",
      "YESSSSSS\n",
      "Loading Encode File ...\n",
      "Encode File Loaded\n"
     ]
    },
    {
     "name": "stderr",
     "output_type": "stream",
     "text": [
      "127.0.0.1 - - [23/Nov/2023 12:10:05] \"POST /live HTTP/1.1\" 200 -\n",
      "127.0.0.1 - - [23/Nov/2023 12:10:05] \"POST /live HTTP/1.1\" 200 -\n",
      "127.0.0.1 - - [23/Nov/2023 12:10:06] \"POST /live HTTP/1.1\" 200 -\n",
      "127.0.0.1 - - [23/Nov/2023 12:10:06] \"POST /live HTTP/1.1\" 200 -\n"
     ]
    },
    {
     "name": "stdout",
     "output_type": "stream",
     "text": [
      "YESSSSSS\n",
      "Loading Encode File ...\n",
      "Encode File Loaded\n",
      "YESSSSSS\n",
      "Loading Encode File ...\n",
      "Encode File Loaded\n",
      "YESSSSSS\n",
      "Loading Encode File ...\n",
      "Encode File Loaded\n",
      "YESSSSSS\n",
      "Loading Encode File ...\n",
      "Encode File Loaded\n"
     ]
    },
    {
     "name": "stderr",
     "output_type": "stream",
     "text": [
      "127.0.0.1 - - [23/Nov/2023 12:10:06] \"POST /live HTTP/1.1\" 200 -\n",
      "127.0.0.1 - - [23/Nov/2023 12:10:06] \"POST /live HTTP/1.1\" 200 -\n"
     ]
    },
    {
     "name": "stdout",
     "output_type": "stream",
     "text": [
      "YESSSSSS\n",
      "Loading Encode File ...\n",
      "Encode File Loaded\n",
      "YESSSSSS\n",
      "Loading Encode File ...\n",
      "Encode File Loaded\n"
     ]
    },
    {
     "name": "stderr",
     "output_type": "stream",
     "text": [
      "127.0.0.1 - - [23/Nov/2023 12:10:07] \"POST /live HTTP/1.1\" 200 -\n",
      "127.0.0.1 - - [23/Nov/2023 12:10:07] \"GET /static/Images/20BDS0040.png HTTP/1.1\" 304 -\n",
      "127.0.0.1 - - [23/Nov/2023 12:10:07] \"POST /live HTTP/1.1\" 200 -\n"
     ]
    },
    {
     "name": "stdout",
     "output_type": "stream",
     "text": [
      "Known Face Detected\n",
      "20BDS0040\n",
      "('Kartikey Saini', '20BDS0040', 'Computer Science and Engineering with specialization in Data Science', '2023-11-23 11:54:33')\n",
      "('2023-11-23 11:54:33',)\n",
      "YESSSSSS\n",
      "Loading Encode File ...\n",
      "Encode File Loaded\n",
      "YESSSSSS\n",
      "Loading Encode File ...\n",
      "Encode File Loaded\n"
     ]
    },
    {
     "name": "stderr",
     "output_type": "stream",
     "text": [
      "127.0.0.1 - - [23/Nov/2023 12:10:07] \"POST /live HTTP/1.1\" 200 -\n",
      "127.0.0.1 - - [23/Nov/2023 12:10:07] \"POST /live HTTP/1.1\" 200 -\n",
      "127.0.0.1 - - [23/Nov/2023 12:10:07] \"POST /live HTTP/1.1\" 200 -\n",
      "127.0.0.1 - - [23/Nov/2023 12:10:07] \"POST /live HTTP/1.1\" 200 -\n"
     ]
    },
    {
     "name": "stdout",
     "output_type": "stream",
     "text": [
      "YESSSSSS\n",
      "Loading Encode File ...\n",
      "Encode File Loaded\n",
      "YESSSSSS\n",
      "Loading Encode File ...\n",
      "Encode File Loaded\n",
      "YESSSSSS\n",
      "Loading Encode File ...\n",
      "Encode File Loaded\n",
      "YESSSSSS\n",
      "Loading Encode File ...\n",
      "Encode File Loaded\n"
     ]
    },
    {
     "name": "stderr",
     "output_type": "stream",
     "text": [
      "127.0.0.1 - - [23/Nov/2023 12:10:07] \"POST /live HTTP/1.1\" 200 -\n",
      "127.0.0.1 - - [23/Nov/2023 12:10:07] \"POST /live HTTP/1.1\" 200 -\n",
      "127.0.0.1 - - [23/Nov/2023 12:10:07] \"POST /live HTTP/1.1\" 200 -\n",
      "127.0.0.1 - - [23/Nov/2023 12:10:07] \"POST /live HTTP/1.1\" 200 -\n"
     ]
    },
    {
     "name": "stdout",
     "output_type": "stream",
     "text": [
      "YESSSSSS\n",
      "Loading Encode File ...\n",
      "Encode File Loaded\n",
      "YESSSSSS\n",
      "Loading Encode File ...\n",
      "Encode File Loaded\n",
      "YESSSSSS\n",
      "Loading Encode File ...\n",
      "Encode File Loaded\n",
      "YESSSSSS\n",
      "Loading Encode File ...\n",
      "Encode File Loaded\n"
     ]
    },
    {
     "name": "stderr",
     "output_type": "stream",
     "text": [
      "127.0.0.1 - - [23/Nov/2023 12:10:07] \"POST /live HTTP/1.1\" 200 -\n",
      "127.0.0.1 - - [23/Nov/2023 12:10:07] \"POST /live HTTP/1.1\" 200 -\n",
      "127.0.0.1 - - [23/Nov/2023 12:10:07] \"POST /live HTTP/1.1\" 200 -\n",
      "127.0.0.1 - - [23/Nov/2023 12:10:07] \"POST /live HTTP/1.1\" 200 -\n"
     ]
    },
    {
     "name": "stdout",
     "output_type": "stream",
     "text": [
      "YESSSSSS\n",
      "Loading Encode File ...\n",
      "Encode File Loaded\n",
      "YESSSSSS\n",
      "Loading Encode File ...\n",
      "Encode File Loaded\n",
      "YESSSSSS\n",
      "Loading Encode File ...\n",
      "Encode File Loaded\n",
      "YESSSSSS\n",
      "Loading Encode File ...\n",
      "Encode File Loaded\n"
     ]
    },
    {
     "name": "stderr",
     "output_type": "stream",
     "text": [
      "127.0.0.1 - - [23/Nov/2023 12:10:07] \"POST /live HTTP/1.1\" 200 -\n",
      "127.0.0.1 - - [23/Nov/2023 12:10:08] \"POST /live HTTP/1.1\" 200 -\n",
      "127.0.0.1 - - [23/Nov/2023 12:10:08] \"POST /live HTTP/1.1\" 200 -\n",
      "127.0.0.1 - - [23/Nov/2023 12:10:08] \"POST /live HTTP/1.1\" 200 -\n"
     ]
    },
    {
     "name": "stdout",
     "output_type": "stream",
     "text": [
      "YESSSSSS\n",
      "Loading Encode File ...\n",
      "Encode File Loaded\n",
      "YESSSSSS\n",
      "Loading Encode File ...\n",
      "Encode File Loaded\n",
      "YESSSSSS\n",
      "Loading Encode File ...\n",
      "Encode File Loaded\n"
     ]
    },
    {
     "name": "stderr",
     "output_type": "stream",
     "text": [
      "127.0.0.1 - - [23/Nov/2023 12:10:08] \"POST /live HTTP/1.1\" 200 -\n",
      "127.0.0.1 - - [23/Nov/2023 12:10:08] \"POST /live HTTP/1.1\" 200 -\n",
      "127.0.0.1 - - [23/Nov/2023 12:10:08] \"POST /live HTTP/1.1\" 200 -\n"
     ]
    },
    {
     "name": "stdout",
     "output_type": "stream",
     "text": [
      "YESSSSSS\n",
      "Loading Encode File ...\n",
      "Encode File Loaded\n",
      "YESSSSSS\n",
      "Loading Encode File ...\n",
      "Encode File Loaded\n",
      "YESSSSSS\n",
      "Loading Encode File ...\n",
      "Encode File Loaded\n",
      "YESSSSSS\n",
      "Loading Encode File ...\n",
      "Encode File Loaded\n"
     ]
    },
    {
     "name": "stderr",
     "output_type": "stream",
     "text": [
      "127.0.0.1 - - [23/Nov/2023 12:10:08] \"POST /live HTTP/1.1\" 200 -\n",
      "127.0.0.1 - - [23/Nov/2023 12:10:08] \"POST /live HTTP/1.1\" 200 -\n",
      "127.0.0.1 - - [23/Nov/2023 12:10:08] \"POST /live HTTP/1.1\" 200 -\n",
      "127.0.0.1 - - [23/Nov/2023 12:10:08] \"POST /live HTTP/1.1\" 200 -\n"
     ]
    },
    {
     "name": "stdout",
     "output_type": "stream",
     "text": [
      "YESSSSSS\n",
      "Loading Encode File ...\n",
      "Encode File Loaded\n",
      "YESSSSSS\n",
      "Loading Encode File ...\n",
      "Encode File Loaded\n",
      "YESSSSSS\n",
      "Loading Encode File ...\n",
      "Encode File Loaded\n",
      "YESSSSSS\n",
      "Loading Encode File ...\n",
      "Encode File Loaded\n"
     ]
    },
    {
     "name": "stderr",
     "output_type": "stream",
     "text": [
      "127.0.0.1 - - [23/Nov/2023 12:10:08] \"POST /live HTTP/1.1\" 200 -\n",
      "127.0.0.1 - - [23/Nov/2023 12:10:08] \"POST /live HTTP/1.1\" 200 -\n",
      "127.0.0.1 - - [23/Nov/2023 12:10:08] \"POST /live HTTP/1.1\" 200 -\n",
      "127.0.0.1 - - [23/Nov/2023 12:10:08] \"POST /live HTTP/1.1\" 200 -\n"
     ]
    },
    {
     "name": "stdout",
     "output_type": "stream",
     "text": [
      "YESSSSSS\n",
      "Loading Encode File ...\n",
      "Encode File Loaded\n",
      "YESSSSSS\n",
      "Loading Encode File ...\n",
      "Encode File Loaded\n",
      "YESSSSSS\n",
      "Loading Encode File ...\n",
      "Encode File Loaded\n"
     ]
    },
    {
     "name": "stderr",
     "output_type": "stream",
     "text": [
      "127.0.0.1 - - [23/Nov/2023 12:10:08] \"POST /live HTTP/1.1\" 200 -\n",
      "127.0.0.1 - - [23/Nov/2023 12:10:09] \"POST /live HTTP/1.1\" 200 -\n",
      "127.0.0.1 - - [23/Nov/2023 12:10:09] \"POST /live HTTP/1.1\" 200 -\n"
     ]
    },
    {
     "name": "stdout",
     "output_type": "stream",
     "text": [
      "YESSSSSS\n",
      "Loading Encode File ...\n",
      "Encode File Loaded\n",
      "YESSSSSS\n",
      "Loading Encode File ...\n",
      "Encode File Loaded\n",
      "YESSSSSS\n",
      "Loading Encode File ...\n",
      "Encode File Loaded\n",
      "YESSSSSS\n",
      "Loading Encode File ...\n",
      "Encode File Loaded\n"
     ]
    },
    {
     "name": "stderr",
     "output_type": "stream",
     "text": [
      "127.0.0.1 - - [23/Nov/2023 12:10:09] \"POST /live HTTP/1.1\" 200 -\n",
      "127.0.0.1 - - [23/Nov/2023 12:10:09] \"POST /live HTTP/1.1\" 200 -\n",
      "127.0.0.1 - - [23/Nov/2023 12:10:09] \"POST /live HTTP/1.1\" 200 -\n",
      "127.0.0.1 - - [23/Nov/2023 12:10:09] \"POST /live HTTP/1.1\" 200 -\n"
     ]
    },
    {
     "name": "stdout",
     "output_type": "stream",
     "text": [
      "YESSSSSS\n",
      "Loading Encode File ...\n",
      "Encode File Loaded\n",
      "YESSSSSS\n",
      "Loading Encode File ...\n",
      "Encode File Loaded\n",
      "YESSSSSS\n",
      "Loading Encode File ...\n",
      "Encode File Loaded\n",
      "YESSSSSS\n",
      "Loading Encode File ...\n",
      "Encode File Loaded\n"
     ]
    },
    {
     "name": "stderr",
     "output_type": "stream",
     "text": [
      "127.0.0.1 - - [23/Nov/2023 12:10:09] \"POST /live HTTP/1.1\" 200 -\n",
      "127.0.0.1 - - [23/Nov/2023 12:10:09] \"POST /live HTTP/1.1\" 200 -\n",
      "127.0.0.1 - - [23/Nov/2023 12:10:09] \"POST /live HTTP/1.1\" 200 -\n",
      "127.0.0.1 - - [23/Nov/2023 12:10:09] \"POST /live HTTP/1.1\" 200 -\n"
     ]
    },
    {
     "name": "stdout",
     "output_type": "stream",
     "text": [
      "YESSSSSS\n",
      "Loading Encode File ...\n",
      "Encode File Loaded\n",
      "YESSSSSS\n",
      "Loading Encode File ...\n",
      "Encode File Loaded\n",
      "YESSSSSS\n",
      "Loading Encode File ...\n",
      "Encode File Loaded\n",
      "YESSSSSS\n",
      "Loading Encode File ...\n",
      "Encode File Loaded\n"
     ]
    },
    {
     "name": "stderr",
     "output_type": "stream",
     "text": [
      "127.0.0.1 - - [23/Nov/2023 12:10:09] \"POST /live HTTP/1.1\" 200 -\n",
      "127.0.0.1 - - [23/Nov/2023 12:10:09] \"POST /live HTTP/1.1\" 200 -\n",
      "127.0.0.1 - - [23/Nov/2023 12:10:09] \"POST /live HTTP/1.1\" 200 -\n",
      "127.0.0.1 - - [23/Nov/2023 12:10:09] \"POST /live HTTP/1.1\" 200 -\n"
     ]
    },
    {
     "name": "stdout",
     "output_type": "stream",
     "text": [
      "YESSSSSS\n",
      "Loading Encode File ...\n",
      "Encode File Loaded\n",
      "YESSSSSS\n",
      "Loading Encode File ...\n",
      "Encode File Loaded\n",
      "YESSSSSS\n",
      "Loading Encode File ...\n",
      "Encode File Loaded\n"
     ]
    },
    {
     "name": "stderr",
     "output_type": "stream",
     "text": [
      "127.0.0.1 - - [23/Nov/2023 12:10:09] \"POST /live HTTP/1.1\" 200 -\n",
      "127.0.0.1 - - [23/Nov/2023 12:10:10] \"POST /live HTTP/1.1\" 200 -\n",
      "127.0.0.1 - - [23/Nov/2023 12:10:10] \"POST /live HTTP/1.1\" 200 -\n"
     ]
    },
    {
     "name": "stdout",
     "output_type": "stream",
     "text": [
      "YESSSSSS\n",
      "Loading Encode File ...\n",
      "Encode File Loaded\n",
      "YESSSSSS\n",
      "Loading Encode File ...\n",
      "Encode File Loaded\n",
      "YESSSSSS\n",
      "Loading Encode File ...\n",
      "Encode File Loaded\n",
      "YESSSSSS\n",
      "Loading Encode File ...\n",
      "Encode File Loaded\n"
     ]
    },
    {
     "name": "stderr",
     "output_type": "stream",
     "text": [
      "127.0.0.1 - - [23/Nov/2023 12:10:11] \"POST /live HTTP/1.1\" 200 -\n",
      "127.0.0.1 - - [23/Nov/2023 12:10:11] \"GET /static/Images/20BCE0785.png HTTP/1.1\" 304 -\n"
     ]
    },
    {
     "name": "stdout",
     "output_type": "stream",
     "text": [
      "Known Face Detected\n",
      "20BCE0785\n",
      "('Ananya Singh', '20BCE0785', 'Computer Science and Engineering', '2023-11-23 12:10:04')\n",
      "('2023-11-23 12:10:04',)\n",
      "YESSSSSS\n",
      "Loading Encode File ...\n",
      "Encode File Loaded\n"
     ]
    },
    {
     "name": "stderr",
     "output_type": "stream",
     "text": [
      "127.0.0.1 - - [23/Nov/2023 12:10:12] \"POST /live HTTP/1.1\" 200 -\n",
      "127.0.0.1 - - [23/Nov/2023 12:10:12] \"POST /live HTTP/1.1\" 200 -\n"
     ]
    },
    {
     "name": "stdout",
     "output_type": "stream",
     "text": [
      "Known Face Detected\n",
      "20BCE0785\n",
      "('Ananya Singh', '20BCE0785', 'Computer Science and Engineering', '2023-11-23 12:10:04')\n",
      "('2023-11-23 12:10:04',)\n",
      "YESSSSSS\n",
      "Loading Encode File ...\n",
      "Encode File Loaded\n",
      "YESSSSSS\n",
      "Loading Encode File ...\n",
      "Encode File Loaded\n"
     ]
    },
    {
     "name": "stderr",
     "output_type": "stream",
     "text": [
      "127.0.0.1 - - [23/Nov/2023 12:10:12] \"POST /live HTTP/1.1\" 200 -\n",
      "127.0.0.1 - - [23/Nov/2023 12:10:12] \"POST /live HTTP/1.1\" 200 -\n",
      "127.0.0.1 - - [23/Nov/2023 12:10:12] \"POST /live HTTP/1.1\" 200 -\n",
      "127.0.0.1 - - [23/Nov/2023 12:10:12] \"POST /live HTTP/1.1\" 200 -\n"
     ]
    },
    {
     "name": "stdout",
     "output_type": "stream",
     "text": [
      "YESSSSSS\n",
      "Loading Encode File ...\n",
      "Encode File Loaded\n",
      "YESSSSSS\n",
      "Loading Encode File ...\n",
      "Encode File Loaded\n",
      "YESSSSSS\n",
      "Loading Encode File ...\n",
      "Encode File Loaded\n"
     ]
    },
    {
     "name": "stderr",
     "output_type": "stream",
     "text": [
      "127.0.0.1 - - [23/Nov/2023 12:10:12] \"POST /live HTTP/1.1\" 200 -\n",
      "127.0.0.1 - - [23/Nov/2023 12:10:12] \"POST /live HTTP/1.1\" 200 -\n",
      "127.0.0.1 - - [23/Nov/2023 12:10:12] \"POST /live HTTP/1.1\" 200 -\n"
     ]
    },
    {
     "name": "stdout",
     "output_type": "stream",
     "text": [
      "YESSSSSS\n",
      "Loading Encode File ...\n",
      "Encode File Loaded\n",
      "YESSSSSS\n",
      "Loading Encode File ...\n",
      "Encode File Loaded\n",
      "YESSSSSS\n",
      "Loading Encode File ...\n",
      "Encode File Loaded\n"
     ]
    },
    {
     "name": "stderr",
     "output_type": "stream",
     "text": [
      "127.0.0.1 - - [23/Nov/2023 12:10:12] \"POST /live HTTP/1.1\" 200 -\n",
      "127.0.0.1 - - [23/Nov/2023 12:10:13] \"POST /live HTTP/1.1\" 200 -\n",
      "127.0.0.1 - - [23/Nov/2023 12:10:13] \"POST /live HTTP/1.1\" 200 -\n"
     ]
    },
    {
     "name": "stdout",
     "output_type": "stream",
     "text": [
      "YESSSSSS\n",
      "Loading Encode File ...\n",
      "Encode File Loaded\n",
      "YESSSSSS\n",
      "Loading Encode File ...\n",
      "Encode File Loaded\n",
      "YESSSSSS\n",
      "Loading Encode File ...\n",
      "Encode File Loaded\n"
     ]
    },
    {
     "name": "stderr",
     "output_type": "stream",
     "text": [
      "127.0.0.1 - - [23/Nov/2023 12:10:13] \"POST /live HTTP/1.1\" 200 -\n",
      "127.0.0.1 - - [23/Nov/2023 12:10:13] \"POST /live HTTP/1.1\" 200 -\n",
      "127.0.0.1 - - [23/Nov/2023 12:10:13] \"POST /live HTTP/1.1\" 200 -\n"
     ]
    },
    {
     "name": "stdout",
     "output_type": "stream",
     "text": [
      "YESSSSSS\n",
      "Loading Encode File ...\n",
      "Encode File Loaded\n",
      "YESSSSSS\n",
      "Loading Encode File ...\n",
      "Encode File Loaded\n",
      "YESSSSSS\n",
      "Loading Encode File ...\n",
      "Encode File Loaded\n",
      "YESSSSSS\n",
      "Loading Encode File ...\n",
      "Encode File Loaded\n"
     ]
    },
    {
     "name": "stderr",
     "output_type": "stream",
     "text": [
      "127.0.0.1 - - [23/Nov/2023 12:10:13] \"POST /live HTTP/1.1\" 200 -\n",
      "127.0.0.1 - - [23/Nov/2023 12:10:13] \"POST /live HTTP/1.1\" 200 -\n",
      "127.0.0.1 - - [23/Nov/2023 12:10:13] \"POST /live HTTP/1.1\" 200 -\n",
      "127.0.0.1 - - [23/Nov/2023 12:10:13] \"POST /live HTTP/1.1\" 200 -\n"
     ]
    },
    {
     "name": "stdout",
     "output_type": "stream",
     "text": [
      "YESSSSSS\n",
      "Loading Encode File ...\n",
      "Encode File Loaded\n",
      "YESSSSSS\n",
      "Loading Encode File ...\n",
      "Encode File Loaded\n",
      "YESSSSSS\n",
      "Loading Encode File ...\n",
      "Encode File Loaded\n",
      "YESSSSSS\n",
      "Loading Encode File ...\n",
      "Encode File Loaded\n"
     ]
    },
    {
     "name": "stderr",
     "output_type": "stream",
     "text": [
      "127.0.0.1 - - [23/Nov/2023 12:10:13] \"POST /live HTTP/1.1\" 200 -\n",
      "127.0.0.1 - - [23/Nov/2023 12:10:13] \"POST /live HTTP/1.1\" 200 -\n",
      "127.0.0.1 - - [23/Nov/2023 12:10:13] \"POST /live HTTP/1.1\" 200 -\n",
      "127.0.0.1 - - [23/Nov/2023 12:10:13] \"POST /live HTTP/1.1\" 200 -\n"
     ]
    },
    {
     "name": "stdout",
     "output_type": "stream",
     "text": [
      "YESSSSSS\n",
      "Loading Encode File ...\n",
      "Encode File Loaded\n",
      "YESSSSSS\n",
      "Loading Encode File ...\n",
      "Encode File Loaded\n",
      "YESSSSSS\n",
      "Loading Encode File ...\n",
      "Encode File Loaded\n",
      "YESSSSSS\n",
      "Loading Encode File ...\n",
      "Encode File Loaded\n"
     ]
    },
    {
     "name": "stderr",
     "output_type": "stream",
     "text": [
      "127.0.0.1 - - [23/Nov/2023 12:10:13] \"POST /live HTTP/1.1\" 200 -\n",
      "127.0.0.1 - - [23/Nov/2023 12:10:13] \"POST /live HTTP/1.1\" 200 -\n",
      "127.0.0.1 - - [23/Nov/2023 12:10:14] \"POST /live HTTP/1.1\" 200 -\n",
      "127.0.0.1 - - [23/Nov/2023 12:10:14] \"POST /live HTTP/1.1\" 200 -\n"
     ]
    },
    {
     "name": "stdout",
     "output_type": "stream",
     "text": [
      "YESSSSSS\n",
      "Loading Encode File ...\n",
      "Encode File Loaded\n",
      "YESSSSSS\n",
      "Loading Encode File ...\n",
      "Encode File Loaded\n",
      "YESSSSSS\n",
      "Loading Encode File ...\n",
      "Encode File Loaded\n"
     ]
    },
    {
     "name": "stderr",
     "output_type": "stream",
     "text": [
      "127.0.0.1 - - [23/Nov/2023 12:10:14] \"POST /live HTTP/1.1\" 200 -\n",
      "127.0.0.1 - - [23/Nov/2023 12:10:14] \"POST /live HTTP/1.1\" 200 -\n",
      "127.0.0.1 - - [23/Nov/2023 12:10:14] \"POST /live HTTP/1.1\" 200 -\n"
     ]
    },
    {
     "name": "stdout",
     "output_type": "stream",
     "text": [
      "YESSSSSS\n",
      "Loading Encode File ...\n",
      "Encode File Loaded\n",
      "YESSSSSS\n",
      "Loading Encode File ...\n",
      "Encode File Loaded\n",
      "YESSSSSS\n",
      "Loading Encode File ...\n",
      "Encode File Loaded\n",
      "YESSSSSS\n",
      "Loading Encode File ...\n",
      "Encode File Loaded\n"
     ]
    },
    {
     "name": "stderr",
     "output_type": "stream",
     "text": [
      "127.0.0.1 - - [23/Nov/2023 12:10:14] \"POST /live HTTP/1.1\" 200 -\n",
      "127.0.0.1 - - [23/Nov/2023 12:10:14] \"POST /live HTTP/1.1\" 200 -\n",
      "127.0.0.1 - - [23/Nov/2023 12:10:14] \"POST /live HTTP/1.1\" 200 -\n",
      "127.0.0.1 - - [23/Nov/2023 12:10:14] \"POST /live HTTP/1.1\" 200 -\n"
     ]
    },
    {
     "name": "stdout",
     "output_type": "stream",
     "text": [
      "YESSSSSS\n",
      "Loading Encode File ...\n",
      "Encode File Loaded\n",
      "YESSSSSS\n",
      "Loading Encode File ...\n",
      "Encode File Loaded\n",
      "YESSSSSS\n",
      "Loading Encode File ...\n",
      "Encode File Loaded\n",
      "YESSSSSS\n",
      "Loading Encode File ...\n",
      "Encode File Loaded\n"
     ]
    },
    {
     "name": "stderr",
     "output_type": "stream",
     "text": [
      "127.0.0.1 - - [23/Nov/2023 12:10:14] \"POST /live HTTP/1.1\" 200 -\n",
      "127.0.0.1 - - [23/Nov/2023 12:10:14] \"POST /live HTTP/1.1\" 200 -\n",
      "127.0.0.1 - - [23/Nov/2023 12:10:14] \"POST /live HTTP/1.1\" 200 -\n",
      "127.0.0.1 - - [23/Nov/2023 12:10:14] \"POST /live HTTP/1.1\" 200 -\n"
     ]
    },
    {
     "name": "stdout",
     "output_type": "stream",
     "text": [
      "YESSSSSS\n",
      "Loading Encode File ...\n",
      "Encode File Loaded\n",
      "YESSSSSS\n",
      "Loading Encode File ...\n",
      "Encode File Loaded\n",
      "YESSSSSS\n",
      "Loading Encode File ...\n",
      "Encode File Loaded\n",
      "YESSSSSS\n",
      "Loading Encode File ...\n",
      "Encode File Loaded\n"
     ]
    },
    {
     "name": "stderr",
     "output_type": "stream",
     "text": [
      "127.0.0.1 - - [23/Nov/2023 12:10:14] \"POST /live HTTP/1.1\" 200 -\n",
      "127.0.0.1 - - [23/Nov/2023 12:10:14] \"POST /live HTTP/1.1\" 200 -\n",
      "127.0.0.1 - - [23/Nov/2023 12:10:15] \"POST /live HTTP/1.1\" 200 -\n",
      "127.0.0.1 - - [23/Nov/2023 12:10:15] \"POST /live HTTP/1.1\" 200 -\n"
     ]
    },
    {
     "name": "stdout",
     "output_type": "stream",
     "text": [
      "YESSSSSS\n",
      "Loading Encode File ...\n",
      "Encode File Loaded\n",
      "YESSSSSS\n",
      "Loading Encode File ...\n",
      "Encode File Loaded\n",
      "YESSSSSS\n",
      "Loading Encode File ...\n",
      "Encode File Loaded\n",
      "YESSSSSS\n",
      "Loading Encode File ...\n",
      "Encode File Loaded\n"
     ]
    },
    {
     "name": "stderr",
     "output_type": "stream",
     "text": [
      "127.0.0.1 - - [23/Nov/2023 12:10:15] \"POST /live HTTP/1.1\" 200 -\n",
      "127.0.0.1 - - [23/Nov/2023 12:10:15] \"POST /live HTTP/1.1\" 200 -\n",
      "127.0.0.1 - - [23/Nov/2023 12:10:15] \"POST /live HTTP/1.1\" 200 -\n",
      "127.0.0.1 - - [23/Nov/2023 12:10:15] \"POST /live HTTP/1.1\" 200 -\n"
     ]
    },
    {
     "name": "stdout",
     "output_type": "stream",
     "text": [
      "YESSSSSS\n",
      "Loading Encode File ...\n",
      "Encode File Loaded\n",
      "YESSSSSS\n",
      "Loading Encode File ...\n",
      "Encode File Loaded\n",
      "YESSSSSS\n",
      "Loading Encode File ...\n",
      "Encode File Loaded\n",
      "YESSSSSS\n",
      "Loading Encode File ...\n",
      "Encode File Loaded\n"
     ]
    },
    {
     "name": "stderr",
     "output_type": "stream",
     "text": [
      "127.0.0.1 - - [23/Nov/2023 12:10:15] \"POST /live HTTP/1.1\" 200 -\n",
      "127.0.0.1 - - [23/Nov/2023 12:10:15] \"POST /live HTTP/1.1\" 200 -\n",
      "127.0.0.1 - - [23/Nov/2023 12:10:15] \"POST /live HTTP/1.1\" 200 -\n",
      "127.0.0.1 - - [23/Nov/2023 12:10:15] \"POST /live HTTP/1.1\" 200 -\n"
     ]
    },
    {
     "name": "stdout",
     "output_type": "stream",
     "text": [
      "YESSSSSS\n",
      "Loading Encode File ...\n",
      "Encode File Loaded\n",
      "YESSSSSS\n",
      "Loading Encode File ...\n",
      "Encode File Loaded\n",
      "YESSSSSS\n",
      "Loading Encode File ...\n",
      "Encode File Loaded\n",
      "YESSSSSS\n",
      "Loading Encode File ...\n",
      "Encode File Loaded\n"
     ]
    },
    {
     "name": "stderr",
     "output_type": "stream",
     "text": [
      "127.0.0.1 - - [23/Nov/2023 12:10:15] \"POST /live HTTP/1.1\" 200 -\n",
      "127.0.0.1 - - [23/Nov/2023 12:10:15] \"POST /live HTTP/1.1\" 200 -\n",
      "127.0.0.1 - - [23/Nov/2023 12:10:15] \"POST /live HTTP/1.1\" 200 -\n",
      "127.0.0.1 - - [23/Nov/2023 12:10:15] \"POST /live HTTP/1.1\" 200 -\n"
     ]
    },
    {
     "name": "stdout",
     "output_type": "stream",
     "text": [
      "YESSSSSS\n",
      "Loading Encode File ...\n",
      "Encode File Loaded\n",
      "YESSSSSS\n",
      "Loading Encode File ...\n",
      "Encode File Loaded\n",
      "YESSSSSS\n",
      "Loading Encode File ...\n",
      "Encode File Loaded\n",
      "YESSSSSS\n",
      "Loading Encode File ...\n",
      "Encode File Loaded\n"
     ]
    },
    {
     "name": "stderr",
     "output_type": "stream",
     "text": [
      "127.0.0.1 - - [23/Nov/2023 12:10:15] \"POST /live HTTP/1.1\" 200 -\n"
     ]
    },
    {
     "name": "stdout",
     "output_type": "stream",
     "text": [
      "YESSSSSS\n",
      "Loading Encode File ...\n",
      "Encode File Loaded\n"
     ]
    },
    {
     "name": "stderr",
     "output_type": "stream",
     "text": [
      "127.0.0.1 - - [23/Nov/2023 12:10:17] \"POST /live HTTP/1.1\" 200 -\n"
     ]
    },
    {
     "name": "stdout",
     "output_type": "stream",
     "text": [
      "Known Face Detected\n",
      "20BCE0785\n",
      "('Ananya Singh', '20BCE0785', 'Computer Science and Engineering', '2023-11-23 12:10:04')\n",
      "('2023-11-23 12:10:04',)\n",
      "YESSSSSS\n",
      "Loading Encode File ...\n",
      "Encode File Loaded\n"
     ]
    },
    {
     "name": "stderr",
     "output_type": "stream",
     "text": [
      "127.0.0.1 - - [23/Nov/2023 12:10:18] \"GET /index.html HTTP/1.1\" 200 -\n",
      "127.0.0.1 - - [23/Nov/2023 12:10:18] \"GET /static/lib/animate/animate.min.css HTTP/1.1\" 304 -\n",
      "127.0.0.1 - - [23/Nov/2023 12:10:18] \"GET /static/lib/owlcarousel/assets/owl.carousel.min.css HTTP/1.1\" 304 -\n",
      "127.0.0.1 - - [23/Nov/2023 12:10:18] \"GET /static/css/bootstrap.min.css HTTP/1.1\" 304 -\n",
      "127.0.0.1 - - [23/Nov/2023 12:10:18] \"GET /static/css/style.css HTTP/1.1\" 304 -\n",
      "127.0.0.1 - - [23/Nov/2023 12:10:18] \"GET /static/img/carousel-1.jpg HTTP/1.1\" 304 -\n",
      "127.0.0.1 - - [23/Nov/2023 12:10:18] \"GET /static/img/carousel-2.jpg HTTP/1.1\" 304 -\n",
      "127.0.0.1 - - [23/Nov/2023 12:10:18] \""
     ]
    },
    {
     "name": "stdout",
     "output_type": "stream",
     "text": [
      "Known Face Detected\n",
      "20BCE0785\n"
     ]
    },
    {
     "name": "stderr",
     "output_type": "stream",
     "text": [
      "GET /static/img/face.png HTTP/1.1\" 304 -\n",
      "127.0.0.1 - - [23/Nov/2023 12:10:18] \"GET /static/img/ananya.jpg HTTP/1.1\" 304 -\n",
      "127.0.0.1 - - [23/Nov/2023 12:10:18] \"GET /static/img/testimonial-1.jpg HTTP/1.1\" 304 -\n",
      "127.0.0.1 - - [23/Nov/2023 12:10:18] \"GET /static/lib/wow/wow.min.js HTTP/1.1\" 304 -\n",
      "127.0.0.1 - - [23/Nov/2023 12:10:18] \"GET /static/lib/easing/easing.min.js HTTP/1.1\" 304 -\n",
      "127.0.0.1 - - [23/Nov/2023 12:10:18] \"POST /live HTTP/1.1\" 200 -\n",
      "127.0.0.1 - - [23/Nov/2023 12:10:18] \"GET /static/lib/waypoints/waypoints.min.js HTTP/1.1\" 304 -\n",
      "127.0.0.1 - - [23/Nov/2023 12:10:18] \"GET /static/lib/owlcarousel/owl.carousel.min.js HTTP/1.1\" 304 -\n",
      "127.0.0.1 - - [23/Nov/2023 12:10:18] \"GET /static/js/main.js HTTP/1.1\" 304 -\n",
      "127.0.0.1 - - [23/Nov/2023 12:10:18] \"GET /static/img/testimonial-2.jpg HTTP/1.1\" 304 -\n",
      "127.0.0.1 - - [23/Nov/2023 12:10:18] \"GET /static/img/testimonial-3.jpg HTTP/1.1\" 304 -\n",
      "127.0.0.1 - - [23/Nov/2023 12:10:18] \"GET /static/img/testimonial-4.jpg HTTP/1.1\" 304 -\n"
     ]
    },
    {
     "name": "stdout",
     "output_type": "stream",
     "text": [
      "('Ananya Singh', '20BCE0785', 'Computer Science and Engineering', '2023-11-23 12:10:04')\n",
      "('2023-11-23 12:10:04',)\n"
     ]
    },
    {
     "name": "stderr",
     "output_type": "stream",
     "text": [
      "127.0.0.1 - - [23/Nov/2023 12:13:50] \"GET /services.html HTTP/1.1\" 200 -\n",
      "127.0.0.1 - - [23/Nov/2023 12:13:50] \"GET /static/lib/animate/animate.min.css HTTP/1.1\" 304 -\n",
      "127.0.0.1 - - [23/Nov/2023 12:13:50] \"GET /static/lib/owlcarousel/assets/owl.carousel.min.css HTTP/1.1\" 304 -\n",
      "127.0.0.1 - - [23/Nov/2023 12:13:50] \"GET /static/css/bootstrap.min.css HTTP/1.1\" 304 -\n",
      "127.0.0.1 - - [23/Nov/2023 12:13:50] \"GET /static/css/style.css HTTP/1.1\" 304 -\n",
      "127.0.0.1 - - [23/Nov/2023 12:13:50] \"GET /static/lib/wow/wow.min.js HTTP/1.1\" 304 -\n",
      "127.0.0.1 - - [23/Nov/2023 12:13:50] \"GET /static/lib/easing/easing.min.js HTTP/1.1\" 304 -\n",
      "127.0.0.1 - - [23/Nov/2023 12:13:50] \"GET /static/lib/waypoints/waypoints.min.js HTTP/1.1\" 304 -\n",
      "127.0.0.1 - - [23/Nov/2023 12:13:50] \"GET /static/lib/owlcarousel/owl.carousel.min.js HTTP/1.1\" 304 -\n",
      "127.0.0.1 - - [23/Nov/2023 12:13:50] \"GET /static/js/main.js HTTP/1.1\" 304 -\n",
      "127.0.0.1 - - [23/Nov/2023 12:13:53] \"GET /liveatt.html HTTP/1.1\" 200 -\n",
      "127.0.0.1 - - [23/Nov/2023 12:13:53] \"GET /static/lib/animate/animate.min.css HTTP/1.1\" 304 -\n",
      "127.0.0.1 - - [23/Nov/2023 12:13:53] \"GET /static/lib/owlcarousel/assets/owl.carousel.min.css HTTP/1.1\" 304 -\n",
      "127.0.0.1 - - [23/Nov/2023 12:13:53] \"GET /static/css/bootstrap.min.css HTTP/1.1\" 304 -\n",
      "127.0.0.1 - - [23/Nov/2023 12:13:53] \"GET /static/css/style.css HTTP/1.1\" 304 -\n",
      "127.0.0.1 - - [23/Nov/2023 12:13:53] \"GET /static/lib/easing/easing.min.js HTTP/1.1\" 304 -\n",
      "127.0.0.1 - - [23/Nov/2023 12:13:53] \"GET /static/lib/wow/wow.min.js HTTP/1.1\" 304 -\n",
      "127.0.0.1 - - [23/Nov/2023 12:13:53] \"GET /static/lib/waypoints/waypoints.min.js HTTP/1.1\" 304 -\n",
      "127.0.0.1 - - [23/Nov/2023 12:13:53] \"GET /static/lib/owlcarousel/owl.carousel.min.js HTTP/1.1\" 304 -\n",
      "127.0.0.1 - - [23/Nov/2023 12:13:53] \"GET /static/js/main.js HTTP/1.1\" 304 -\n"
     ]
    },
    {
     "name": "stdout",
     "output_type": "stream",
     "text": [
      "YESSSSSS\n",
      "Loading Encode File ...\n",
      "Encode File Loaded\n"
     ]
    },
    {
     "name": "stderr",
     "output_type": "stream",
     "text": [
      "127.0.0.1 - - [23/Nov/2023 12:13:55] \"POST /live HTTP/1.1\" 200 -\n",
      "127.0.0.1 - - [23/Nov/2023 12:13:55] \"GET /static/Images/20BCE0785.png HTTP/1.1\" 304 -\n"
     ]
    },
    {
     "name": "stdout",
     "output_type": "stream",
     "text": [
      "Known Face Detected\n",
      "20BCE0785\n",
      "('Ananya Singh', '20BCE0785', 'Computer Science and Engineering', '2023-11-23 12:10:04')\n",
      "('2023-11-23 12:10:04',)\n",
      "YESSSSSS\n",
      "Loading Encode File ...\n",
      "Encode File Loaded\n"
     ]
    },
    {
     "name": "stderr",
     "output_type": "stream",
     "text": [
      "127.0.0.1 - - [23/Nov/2023 12:13:56] \"POST /live HTTP/1.1\" 200 -\n"
     ]
    },
    {
     "name": "stdout",
     "output_type": "stream",
     "text": [
      "Known Face Detected\n",
      "20BCE0785\n",
      "('Ananya Singh', '20BCE0785', 'Computer Science and Engineering', '2023-11-23 12:13:55')\n",
      "('2023-11-23 12:13:55',)\n",
      "YESSSSSS\n",
      "Loading Encode File ...\n",
      "Encode File Loaded\n"
     ]
    },
    {
     "name": "stderr",
     "output_type": "stream",
     "text": [
      "127.0.0.1 - - [23/Nov/2023 12:13:57] \"POST /live HTTP/1.1\" 200 -\n"
     ]
    },
    {
     "name": "stdout",
     "output_type": "stream",
     "text": [
      "Known Face Detected\n",
      "20BCE0785\n",
      "('Ananya Singh', '20BCE0785', 'Computer Science and Engineering', '2023-11-23 12:13:55')\n",
      "('2023-11-23 12:13:55',)\n",
      "YESSSSSS\n",
      "Loading Encode File ...\n",
      "Encode File Loaded\n"
     ]
    },
    {
     "name": "stderr",
     "output_type": "stream",
     "text": [
      "127.0.0.1 - - [23/Nov/2023 12:13:58] \"POST /live HTTP/1.1\" 200 -\n"
     ]
    },
    {
     "name": "stdout",
     "output_type": "stream",
     "text": [
      "Known Face Detected\n",
      "20BCE0785\n",
      "('Ananya Singh', '20BCE0785', 'Computer Science and Engineering', '2023-11-23 12:13:55')\n",
      "('2023-11-23 12:13:55',)\n",
      "YESSSSSS\n",
      "Loading Encode File ...\n",
      "Encode File Loaded\n"
     ]
    },
    {
     "name": "stderr",
     "output_type": "stream",
     "text": [
      "127.0.0.1 - - [23/Nov/2023 12:13:59] \"POST /live HTTP/1.1\" 200 -\n"
     ]
    },
    {
     "name": "stdout",
     "output_type": "stream",
     "text": [
      "Known Face Detected\n",
      "20BCE0785\n",
      "('Ananya Singh', '20BCE0785', 'Computer Science and Engineering', '2023-11-23 12:13:55')\n",
      "('2023-11-23 12:13:55',)\n",
      "YESSSSSS\n",
      "Loading Encode File ...\n",
      "Encode File Loaded\n"
     ]
    },
    {
     "name": "stderr",
     "output_type": "stream",
     "text": [
      "127.0.0.1 - - [23/Nov/2023 12:14:00] \"POST /live HTTP/1.1\" 200 -\n",
      "127.0.0.1 - - [23/Nov/2023 12:14:00] \"POST /live HTTP/1.1\" 200 -\n"
     ]
    },
    {
     "name": "stdout",
     "output_type": "stream",
     "text": [
      "Known Face Detected\n",
      "20BCE0785\n",
      "('Ananya Singh', '20BCE0785', 'Computer Science and Engineering', '2023-11-23 12:13:55')\n",
      "('2023-11-23 12:13:55',)\n",
      "YESSSSSS\n",
      "Loading Encode File ...\n",
      "Encode File Loaded\n",
      "YESSSSSS\n",
      "Loading Encode File ...\n",
      "Encode File Loaded\n"
     ]
    },
    {
     "name": "stderr",
     "output_type": "stream",
     "text": [
      "127.0.0.1 - - [23/Nov/2023 12:14:00] \"POST /live HTTP/1.1\" 200 -\n"
     ]
    },
    {
     "name": "stdout",
     "output_type": "stream",
     "text": [
      "YESSSSSS\n",
      "Loading Encode File ...\n",
      "Encode File Loaded\n"
     ]
    },
    {
     "name": "stderr",
     "output_type": "stream",
     "text": [
      "127.0.0.1 - - [23/Nov/2023 12:14:02] \"POST /live HTTP/1.1\" 200 -\n"
     ]
    },
    {
     "name": "stdout",
     "output_type": "stream",
     "text": [
      "Known Face Detected\n",
      "20BCE0785\n",
      "('Ananya Singh', '20BCE0785', 'Computer Science and Engineering', '2023-11-23 12:13:55')\n",
      "('2023-11-23 12:13:55',)\n",
      "YESSSSSS\n",
      "Loading Encode File ...\n",
      "Encode File Loaded\n"
     ]
    },
    {
     "name": "stderr",
     "output_type": "stream",
     "text": [
      "127.0.0.1 - - [23/Nov/2023 12:14:02] \"POST /live HTTP/1.1\" 200 -\n",
      "127.0.0.1 - - [23/Nov/2023 12:14:02] \"POST /live HTTP/1.1\" 200 -\n",
      "127.0.0.1 - - [23/Nov/2023 12:14:02] \"POST /live HTTP/1.1\" 200 -\n",
      "127.0.0.1 - - [23/Nov/2023 12:14:02] \"POST /live HTTP/1.1\" 200 -\n"
     ]
    },
    {
     "name": "stdout",
     "output_type": "stream",
     "text": [
      "YESSSSSS\n",
      "Loading Encode File ...\n",
      "Encode File Loaded\n",
      "YESSSSSS\n",
      "Loading Encode File ...\n",
      "Encode File Loaded\n",
      "YESSSSSS\n",
      "Loading Encode File ...\n",
      "Encode File Loaded\n",
      "YESSSSSS\n",
      "Loading Encode File ...\n",
      "Encode File Loaded\n"
     ]
    },
    {
     "name": "stderr",
     "output_type": "stream",
     "text": [
      "127.0.0.1 - - [23/Nov/2023 12:14:02] \"POST /live HTTP/1.1\" 200 -\n",
      "127.0.0.1 - - [23/Nov/2023 12:14:02] \"POST /live HTTP/1.1\" 200 -\n",
      "127.0.0.1 - - [23/Nov/2023 12:14:02] \"POST /live HTTP/1.1\" 200 -\n",
      "127.0.0.1 - - [23/Nov/2023 12:14:02] \"POST /live HTTP/1.1\" 200 -\n"
     ]
    },
    {
     "name": "stdout",
     "output_type": "stream",
     "text": [
      "YESSSSSS\n",
      "Loading Encode File ...\n",
      "Encode File Loaded\n",
      "YESSSSSS\n",
      "Loading Encode File ...\n",
      "Encode File Loaded\n",
      "YESSSSSS\n",
      "Loading Encode File ...\n",
      "Encode File Loaded\n",
      "YESSSSSS\n",
      "Loading Encode File ...\n",
      "Encode File Loaded\n"
     ]
    },
    {
     "name": "stderr",
     "output_type": "stream",
     "text": [
      "127.0.0.1 - - [23/Nov/2023 12:14:02] \"POST /live HTTP/1.1\" 200 -\n",
      "127.0.0.1 - - [23/Nov/2023 12:14:02] \"POST /live HTTP/1.1\" 200 -\n",
      "127.0.0.1 - - [23/Nov/2023 12:14:02] \"POST /live HTTP/1.1\" 200 -\n",
      "127.0.0.1 - - [23/Nov/2023 12:14:02] \"POST /live HTTP/1.1\" 200 -\n"
     ]
    },
    {
     "name": "stdout",
     "output_type": "stream",
     "text": [
      "YESSSSSS\n",
      "Loading Encode File ...\n",
      "Encode File Loaded\n",
      "YESSSSSS\n",
      "Loading Encode File ...\n",
      "Encode File Loaded\n",
      "YESSSSSS\n",
      "Loading Encode File ...\n",
      "Encode File Loaded\n",
      "YESSSSSS\n",
      "Loading Encode File ...\n",
      "Encode File Loaded\n"
     ]
    },
    {
     "name": "stderr",
     "output_type": "stream",
     "text": [
      "127.0.0.1 - - [23/Nov/2023 12:14:02] \"POST /live HTTP/1.1\" 200 -\n",
      "127.0.0.1 - - [23/Nov/2023 12:14:02] \"POST /live HTTP/1.1\" 200 -\n",
      "127.0.0.1 - - [23/Nov/2023 12:14:03] \"POST /live HTTP/1.1\" 200 -\n",
      "127.0.0.1 - - [23/Nov/2023 12:14:03] \"POST /live HTTP/1.1\" 200 -\n"
     ]
    },
    {
     "name": "stdout",
     "output_type": "stream",
     "text": [
      "YESSSSSS\n",
      "Loading Encode File ...\n",
      "Encode File Loaded\n",
      "YESSSSSS\n",
      "Loading Encode File ...\n",
      "Encode File Loaded\n",
      "YESSSSSS\n",
      "Loading Encode File ...\n",
      "Encode File Loaded\n",
      "YESSSSSS\n",
      "Loading Encode File ...\n",
      "Encode File Loaded\n"
     ]
    },
    {
     "name": "stderr",
     "output_type": "stream",
     "text": [
      "127.0.0.1 - - [23/Nov/2023 12:14:03] \"POST /live HTTP/1.1\" 200 -\n",
      "127.0.0.1 - - [23/Nov/2023 12:14:03] \"POST /live HTTP/1.1\" 200 -\n",
      "127.0.0.1 - - [23/Nov/2023 12:14:03] \"POST /live HTTP/1.1\" 200 -\n",
      "127.0.0.1 - - [23/Nov/2023 12:14:03] \"POST /live HTTP/1.1\" 200 -\n"
     ]
    },
    {
     "name": "stdout",
     "output_type": "stream",
     "text": [
      "YESSSSSS\n",
      "Loading Encode File ...\n",
      "Encode File Loaded\n",
      "YESSSSSS\n",
      "Loading Encode File ...\n",
      "Encode File Loaded\n",
      "YESSSSSS\n",
      "Loading Encode File ...\n",
      "Encode File Loaded\n",
      "YESSSSSS\n",
      "Loading Encode File ...\n",
      "Encode File Loaded\n"
     ]
    },
    {
     "name": "stderr",
     "output_type": "stream",
     "text": [
      "127.0.0.1 - - [23/Nov/2023 12:14:03] \"POST /live HTTP/1.1\" 200 -\n",
      "127.0.0.1 - - [23/Nov/2023 12:14:03] \"POST /live HTTP/1.1\" 200 -\n",
      "127.0.0.1 - - [23/Nov/2023 12:14:03] \"POST /live HTTP/1.1\" 200 -\n",
      "127.0.0.1 - - [23/Nov/2023 12:14:03] \"POST /live HTTP/1.1\" 200 -\n"
     ]
    },
    {
     "name": "stdout",
     "output_type": "stream",
     "text": [
      "YESSSSSS\n",
      "Loading Encode File ...\n",
      "Encode File Loaded\n",
      "YESSSSSS\n",
      "Loading Encode File ...\n",
      "Encode File Loaded\n",
      "YESSSSSS\n",
      "Loading Encode File ...\n",
      "Encode File Loaded\n",
      "YESSSSSS\n",
      "Loading Encode File ...\n",
      "Encode File Loaded\n"
     ]
    },
    {
     "name": "stderr",
     "output_type": "stream",
     "text": [
      "127.0.0.1 - - [23/Nov/2023 12:14:03] \"POST /live HTTP/1.1\" 200 -\n",
      "127.0.0.1 - - [23/Nov/2023 12:14:03] \"POST /live HTTP/1.1\" 200 -\n",
      "127.0.0.1 - - [23/Nov/2023 12:14:03] \"POST /live HTTP/1.1\" 200 -\n",
      "127.0.0.1 - - [23/Nov/2023 12:14:03] \"POST /live HTTP/1.1\" 200 -\n"
     ]
    },
    {
     "name": "stdout",
     "output_type": "stream",
     "text": [
      "YESSSSSS\n",
      "Loading Encode File ...\n",
      "Encode File Loaded\n",
      "YESSSSSS\n",
      "Loading Encode File ...\n",
      "Encode File Loaded\n",
      "YESSSSSS\n",
      "Loading Encode File ...\n",
      "Encode File Loaded\n",
      "YESSSSSS\n",
      "Loading Encode File ...\n",
      "Encode File Loaded\n"
     ]
    },
    {
     "name": "stderr",
     "output_type": "stream",
     "text": [
      "127.0.0.1 - - [23/Nov/2023 12:14:03] \"POST /live HTTP/1.1\" 200 -\n",
      "127.0.0.1 - - [23/Nov/2023 12:14:04] \"POST /live HTTP/1.1\" 200 -\n",
      "127.0.0.1 - - [23/Nov/2023 12:14:04] \"POST /live HTTP/1.1\" 200 -\n",
      "127.0.0.1 - - [23/Nov/2023 12:14:04] \"POST /live HTTP/1.1\" 200 -\n"
     ]
    },
    {
     "name": "stdout",
     "output_type": "stream",
     "text": [
      "YESSSSSS\n",
      "Loading Encode File ...\n",
      "Encode File Loaded\n",
      "YESSSSSS\n",
      "Loading Encode File ...\n",
      "Encode File Loaded\n",
      "YESSSSSS\n",
      "Loading Encode File ...\n",
      "Encode File Loaded\n"
     ]
    },
    {
     "name": "stderr",
     "output_type": "stream",
     "text": [
      "127.0.0.1 - - [23/Nov/2023 12:14:04] \"POST /live HTTP/1.1\" 200 -\n",
      "127.0.0.1 - - [23/Nov/2023 12:14:04] \"POST /live HTTP/1.1\" 200 -\n",
      "127.0.0.1 - - [23/Nov/2023 12:14:04] \"POST /live HTTP/1.1\" 200 -\n"
     ]
    },
    {
     "name": "stdout",
     "output_type": "stream",
     "text": [
      "YESSSSSS\n",
      "Loading Encode File ...\n",
      "Encode File Loaded\n",
      "YESSSSSS\n",
      "Loading Encode File ...\n",
      "Encode File Loaded\n",
      "YESSSSSS\n",
      "Loading Encode File ...\n",
      "Encode File Loaded\n",
      "YESSSSSS\n",
      "Loading Encode File ...\n",
      "Encode File Loaded\n"
     ]
    },
    {
     "name": "stderr",
     "output_type": "stream",
     "text": [
      "127.0.0.1 - - [23/Nov/2023 12:14:04] \"POST /live HTTP/1.1\" 200 -\n",
      "127.0.0.1 - - [23/Nov/2023 12:14:04] \"POST /live HTTP/1.1\" 200 -\n",
      "127.0.0.1 - - [23/Nov/2023 12:14:04] \"POST /live HTTP/1.1\" 200 -\n",
      "127.0.0.1 - - [23/Nov/2023 12:14:04] \"POST /live HTTP/1.1\" 200 -\n"
     ]
    },
    {
     "name": "stdout",
     "output_type": "stream",
     "text": [
      "YESSSSSS\n",
      "Loading Encode File ...\n",
      "Encode File Loaded\n",
      "YESSSSSS\n",
      "Loading Encode File ...\n",
      "Encode File Loaded\n",
      "YESSSSSS\n",
      "Loading Encode File ...\n",
      "Encode File Loaded\n",
      "YESSSSSS\n",
      "Loading Encode File ...\n",
      "Encode File Loaded\n"
     ]
    },
    {
     "name": "stderr",
     "output_type": "stream",
     "text": [
      "127.0.0.1 - - [23/Nov/2023 12:14:04] \"POST /live HTTP/1.1\" 200 -\n",
      "127.0.0.1 - - [23/Nov/2023 12:14:04] \"POST /live HTTP/1.1\" 200 -\n",
      "127.0.0.1 - - [23/Nov/2023 12:14:04] \"POST /live HTTP/1.1\" 200 -\n",
      "127.0.0.1 - - [23/Nov/2023 12:14:04] \"POST /live HTTP/1.1\" 200 -\n"
     ]
    },
    {
     "name": "stdout",
     "output_type": "stream",
     "text": [
      "YESSSSSS\n",
      "Loading Encode File ...\n",
      "Encode File Loaded\n",
      "YESSSSSS\n",
      "Loading Encode File ...\n",
      "Encode File Loaded\n",
      "YESSSSSS\n",
      "Loading Encode File ...\n",
      "Encode File Loaded\n",
      "YESSSSSS\n",
      "Loading Encode File ...\n",
      "Encode File Loaded\n"
     ]
    },
    {
     "name": "stderr",
     "output_type": "stream",
     "text": [
      "127.0.0.1 - - [23/Nov/2023 12:14:04] \"POST /live HTTP/1.1\" 200 -\n",
      "127.0.0.1 - - [23/Nov/2023 12:14:05] \"POST /live HTTP/1.1\" 200 -\n",
      "127.0.0.1 - - [23/Nov/2023 12:14:05] \"POST /live HTTP/1.1\" 200 -\n",
      "127.0.0.1 - - [23/Nov/2023 12:14:05] \"POST /live HTTP/1.1\" 200 -\n"
     ]
    },
    {
     "name": "stdout",
     "output_type": "stream",
     "text": [
      "YESSSSSS\n",
      "Loading Encode File ...\n",
      "Encode File Loaded\n",
      "YESSSSSS\n",
      "Loading Encode File ...\n",
      "Encode File Loaded\n",
      "YESSSSSS\n",
      "Loading Encode File ...\n",
      "Encode File Loaded\n",
      "YESSSSSS\n",
      "Loading Encode File ...\n",
      "Encode File Loaded\n"
     ]
    },
    {
     "name": "stderr",
     "output_type": "stream",
     "text": [
      "127.0.0.1 - - [23/Nov/2023 12:14:05] \"POST /live HTTP/1.1\" 200 -\n",
      "127.0.0.1 - - [23/Nov/2023 12:14:05] \"POST /live HTTP/1.1\" 200 -\n",
      "127.0.0.1 - - [23/Nov/2023 12:14:05] \"POST /live HTTP/1.1\" 200 -\n",
      "127.0.0.1 - - [23/Nov/2023 12:14:05] \"POST /live HTTP/1.1\" 200 -\n"
     ]
    },
    {
     "name": "stdout",
     "output_type": "stream",
     "text": [
      "YESSSSSS\n",
      "Loading Encode File ...\n",
      "Encode File Loaded\n",
      "YESSSSSS\n",
      "Loading Encode File ...\n",
      "Encode File Loaded\n",
      "YESSSSSS\n",
      "Loading Encode File ...\n",
      "Encode File Loaded\n",
      "YESSSSSS\n",
      "Loading Encode File ...\n",
      "Encode File Loaded\n"
     ]
    },
    {
     "name": "stderr",
     "output_type": "stream",
     "text": [
      "127.0.0.1 - - [23/Nov/2023 12:14:05] \"POST /live HTTP/1.1\" 200 -\n",
      "127.0.0.1 - - [23/Nov/2023 12:14:05] \"POST /live HTTP/1.1\" 200 -\n",
      "127.0.0.1 - - [23/Nov/2023 12:14:05] \"POST /live HTTP/1.1\" 200 -\n",
      "127.0.0.1 - - [23/Nov/2023 12:14:05] \"POST /live HTTP/1.1\" 200 -\n"
     ]
    },
    {
     "name": "stdout",
     "output_type": "stream",
     "text": [
      "YESSSSSS\n",
      "Loading Encode File ...\n",
      "Encode File Loaded\n",
      "YESSSSSS\n",
      "Loading Encode File ...\n",
      "Encode File Loaded\n",
      "YESSSSSS\n",
      "Loading Encode File ...\n",
      "Encode File Loaded\n",
      "YESSSSSS\n",
      "Loading Encode File ...\n",
      "Encode File Loaded\n"
     ]
    },
    {
     "name": "stderr",
     "output_type": "stream",
     "text": [
      "127.0.0.1 - - [23/Nov/2023 12:14:05] \"POST /live HTTP/1.1\" 200 -\n",
      "127.0.0.1 - - [23/Nov/2023 12:14:05] \"POST /live HTTP/1.1\" 200 -\n",
      "127.0.0.1 - - [23/Nov/2023 12:14:05] \"POST /live HTTP/1.1\" 200 -\n",
      "127.0.0.1 - - [23/Nov/2023 12:14:05] \"POST /live HTTP/1.1\" 200 -\n"
     ]
    },
    {
     "name": "stdout",
     "output_type": "stream",
     "text": [
      "YESSSSSS\n",
      "Loading Encode File ...\n",
      "Encode File Loaded\n",
      "YESSSSSS\n",
      "Loading Encode File ...\n",
      "Encode File Loaded\n",
      "YESSSSSS\n",
      "Loading Encode File ...\n",
      "Encode File Loaded\n",
      "YESSSSSS\n",
      "Loading Encode File ...\n",
      "Encode File Loaded\n"
     ]
    },
    {
     "name": "stderr",
     "output_type": "stream",
     "text": [
      "127.0.0.1 - - [23/Nov/2023 12:14:06] \"POST /live HTTP/1.1\" 200 -\n",
      "127.0.0.1 - - [23/Nov/2023 12:14:06] \"POST /live HTTP/1.1\" 200 -\n",
      "127.0.0.1 - - [23/Nov/2023 12:14:06] \"POST /live HTTP/1.1\" 200 -\n",
      "127.0.0.1 - - [23/Nov/2023 12:14:06] \"POST /live HTTP/1.1\" 200 -\n"
     ]
    },
    {
     "name": "stdout",
     "output_type": "stream",
     "text": [
      "YESSSSSS\n",
      "Loading Encode File ...\n",
      "Encode File Loaded\n",
      "YESSSSSS\n",
      "Loading Encode File ...\n",
      "Encode File Loaded\n",
      "YESSSSSS\n",
      "Loading Encode File ...\n",
      "Encode File Loaded\n",
      "YESSSSSS\n",
      "Loading Encode File ...\n",
      "Encode File Loaded\n"
     ]
    },
    {
     "name": "stderr",
     "output_type": "stream",
     "text": [
      "127.0.0.1 - - [23/Nov/2023 12:14:06] \"POST /live HTTP/1.1\" 200 -\n",
      "127.0.0.1 - - [23/Nov/2023 12:14:06] \"POST /live HTTP/1.1\" 200 -\n",
      "127.0.0.1 - - [23/Nov/2023 12:14:06] \"POST /live HTTP/1.1\" 200 -\n",
      "127.0.0.1 - - [23/Nov/2023 12:14:06] \"POST /live HTTP/1.1\" 200 -\n"
     ]
    },
    {
     "name": "stdout",
     "output_type": "stream",
     "text": [
      "YESSSSSS\n",
      "Loading Encode File ...\n",
      "Encode File Loaded\n",
      "YESSSSSS\n",
      "Loading Encode File ...\n",
      "Encode File Loaded\n",
      "YESSSSSS\n",
      "Loading Encode File ...\n",
      "Encode File Loaded\n",
      "YESSSSSS\n",
      "Loading Encode File ...\n",
      "Encode File Loaded\n"
     ]
    },
    {
     "name": "stderr",
     "output_type": "stream",
     "text": [
      "127.0.0.1 - - [23/Nov/2023 12:14:06] \"POST /live HTTP/1.1\" 200 -\n"
     ]
    },
    {
     "name": "stdout",
     "output_type": "stream",
     "text": [
      "YESSSSSS\n",
      "Loading Encode File ...\n",
      "Encode File Loaded\n"
     ]
    },
    {
     "name": "stderr",
     "output_type": "stream",
     "text": [
      "127.0.0.1 - - [23/Nov/2023 12:14:07] \"POST /live HTTP/1.1\" 200 -\n",
      "127.0.0.1 - - [23/Nov/2023 12:14:07] \"GET /static/Images/20BDS0040.png HTTP/1.1\" 304 -\n"
     ]
    },
    {
     "name": "stdout",
     "output_type": "stream",
     "text": [
      "Known Face Detected\n",
      "20BDS0040\n",
      "('Kartikey Saini', '20BDS0040', 'Computer Science and Engineering with specialization in Data Science', '2023-11-23 12:10:07')\n",
      "('2023-11-23 12:10:07',)\n",
      "YESSSSSS\n",
      "Loading Encode File ...\n",
      "Encode File Loaded\n"
     ]
    },
    {
     "name": "stderr",
     "output_type": "stream",
     "text": [
      "127.0.0.1 - - [23/Nov/2023 12:14:08] \"POST /live HTTP/1.1\" 200 -\n"
     ]
    },
    {
     "name": "stdout",
     "output_type": "stream",
     "text": [
      "Known Face Detected\n",
      "20BDS0040\n",
      "('Kartikey Saini', '20BDS0040', 'Computer Science and Engineering with specialization in Data Science', '2023-11-23 12:14:07')\n",
      "('2023-11-23 12:14:07',)\n",
      "YESSSSSS\n",
      "Loading Encode File ...\n",
      "Encode File Loaded\n"
     ]
    },
    {
     "name": "stderr",
     "output_type": "stream",
     "text": [
      "127.0.0.1 - - [23/Nov/2023 12:14:08] \"POST /live HTTP/1.1\" 200 -\n",
      "127.0.0.1 - - [23/Nov/2023 12:14:08] \"POST /live HTTP/1.1\" 200 -\n",
      "127.0.0.1 - - [23/Nov/2023 12:14:09] \"POST /live HTTP/1.1\" 200 -\n",
      "127.0.0.1 - - [23/Nov/2023 12:14:09] \"POST /live HTTP/1.1\" 200 -\n"
     ]
    },
    {
     "name": "stdout",
     "output_type": "stream",
     "text": [
      "YESSSSSS\n",
      "Loading Encode File ...\n",
      "Encode File Loaded\n",
      "YESSSSSS\n",
      "Loading Encode File ...\n",
      "Encode File Loaded\n",
      "YESSSSSS\n",
      "Loading Encode File ...\n",
      "Encode File Loaded\n",
      "YESSSSSS\n",
      "Loading Encode File ...\n",
      "Encode File Loaded\n"
     ]
    },
    {
     "name": "stderr",
     "output_type": "stream",
     "text": [
      "127.0.0.1 - - [23/Nov/2023 12:14:09] \"POST /live HTTP/1.1\" 200 -\n"
     ]
    },
    {
     "name": "stdout",
     "output_type": "stream",
     "text": [
      "YESSSSSS\n",
      "Loading Encode File ...\n",
      "Encode File Loaded\n"
     ]
    },
    {
     "name": "stderr",
     "output_type": "stream",
     "text": [
      "127.0.0.1 - - [23/Nov/2023 12:14:10] \"POST /live HTTP/1.1\" 200 -\n"
     ]
    },
    {
     "name": "stdout",
     "output_type": "stream",
     "text": [
      "Known Face Detected\n",
      "20BDS0040\n",
      "('Kartikey Saini', '20BDS0040', 'Computer Science and Engineering with specialization in Data Science', '2023-11-23 12:14:07')\n",
      "('2023-11-23 12:14:07',)\n",
      "YESSSSSS\n",
      "Loading Encode File ...\n",
      "Encode File Loaded\n"
     ]
    },
    {
     "name": "stderr",
     "output_type": "stream",
     "text": [
      "127.0.0.1 - - [23/Nov/2023 12:14:11] \"POST /live HTTP/1.1\" 200 -\n"
     ]
    },
    {
     "name": "stdout",
     "output_type": "stream",
     "text": [
      "Known Face Detected\n",
      "20BCE0785\n",
      "('Ananya Singh', '20BCE0785', 'Computer Science and Engineering', '2023-11-23 12:13:55')\n",
      "('2023-11-23 12:13:55',)\n",
      "YESSSSSS\n",
      "Loading Encode File ...\n",
      "Encode File Loaded\n"
     ]
    },
    {
     "name": "stderr",
     "output_type": "stream",
     "text": [
      "127.0.0.1 - - [23/Nov/2023 12:14:11] \"POST /live HTTP/1.1\" 200 -\n",
      "127.0.0.1 - - [23/Nov/2023 12:14:11] \"POST /live HTTP/1.1\" 200 -\n",
      "127.0.0.1 - - [23/Nov/2023 12:14:11] \"POST /live HTTP/1.1\" 200 -\n"
     ]
    },
    {
     "name": "stdout",
     "output_type": "stream",
     "text": [
      "YESSSSSS\n",
      "Loading Encode File ...\n",
      "Encode File Loaded\n",
      "YESSSSSS\n",
      "Loading Encode File ...\n",
      "Encode File Loaded\n",
      "YESSSSSS\n",
      "Loading Encode File ...\n",
      "Encode File Loaded\n"
     ]
    },
    {
     "name": "stderr",
     "output_type": "stream",
     "text": [
      "127.0.0.1 - - [23/Nov/2023 12:14:12] \"GET /services.html HTTP/1.1\" 200 -\n",
      "127.0.0.1 - - [23/Nov/2023 12:14:12] \"GET /static/lib/animate/animate.min.css HTTP/1.1\" 304 -\n",
      "127.0.0.1 - - [23/Nov/2023 12:14:12] \"GET /static/lib/owlcarousel/assets/owl.carousel.min.css HTTP/1.1\" 304 -\n",
      "127.0.0.1 - - [23/Nov/2023 12:14:12] \"GET /static/css/bootstrap.min.css HTTP/1.1\" 304 -\n",
      "127.0.0.1 - - [23/Nov/2023 12:14:12] \"GET /static/css/style.css HTTP/1.1\" 304 -\n",
      "127.0.0.1 - - [23/Nov/2023 12:14:12] \"GET /static/lib/wow/wow.min.js HTTP/1.1\" 304 -\n"
     ]
    },
    {
     "name": "stdout",
     "output_type": "stream",
     "text": [
      "Known Face Detected\n",
      "20BCE0785\n"
     ]
    },
    {
     "name": "stderr",
     "output_type": "stream",
     "text": [
      "127.0.0.1 - - [23/Nov/2023 12:14:12] \"GET /static/lib/easing/easing.min.js HTTP/1.1\" 304 -\n",
      "127.0.0.1 - - [23/Nov/2023 12:14:12] \"GET /static/lib/waypoints/waypoints.min.js HTTP/1.1\" 304 -\n",
      "127.0.0.1 - - [23/Nov/2023 12:14:12] \"GET /static/lib/owlcarousel/owl.carousel.min.js HTTP/1.1\" 304 -\n",
      "127.0.0.1 - - [23/Nov/2023 12:14:12] \"GET /static/js/main.js HTTP/1.1\" 304 -\n",
      "127.0.0.1 - - [23/Nov/2023 12:14:12] \"POST /live HTTP/1.1\" 200 -\n"
     ]
    },
    {
     "name": "stdout",
     "output_type": "stream",
     "text": [
      "('Ananya Singh', '20BCE0785', 'Computer Science and Engineering', '2023-11-23 12:13:55')\n",
      "('2023-11-23 12:13:55',)\n"
     ]
    },
    {
     "name": "stderr",
     "output_type": "stream",
     "text": [
      "127.0.0.1 - - [23/Nov/2023 12:14:19] \"GET /static/att.xlsx HTTP/1.1\" 200 -\n",
      "127.0.0.1 - - [23/Nov/2023 12:14:51] \"GET /index.html HTTP/1.1\" 200 -\n",
      "127.0.0.1 - - [23/Nov/2023 12:14:51] \"GET /static/lib/animate/animate.min.css HTTP/1.1\" 304 -\n",
      "127.0.0.1 - - [23/Nov/2023 12:14:52] \"GET /static/lib/owlcarousel/assets/owl.carousel.min.css HTTP/1.1\" 304 -\n",
      "127.0.0.1 - - [23/Nov/2023 12:14:52] \"GET /static/css/bootstrap.min.css HTTP/1.1\" 304 -\n",
      "127.0.0.1 - - [23/Nov/2023 12:14:52] \"GET /static/css/style.css HTTP/1.1\" 304 -\n",
      "127.0.0.1 - - [23/Nov/2023 12:14:52] \"GET /static/img/carousel-1.jpg HTTP/1.1\" 304 -\n",
      "127.0.0.1 - - [23/Nov/2023 12:14:52] \"GET /static/img/carousel-2.jpg HTTP/1.1\" 304 -\n",
      "127.0.0.1 - - [23/Nov/2023 12:14:52] \"GET /static/img/face.png HTTP/1.1\" 304 -\n",
      "127.0.0.1 - - [23/Nov/2023 12:14:52] \"GET /static/img/ananya.jpg HTTP/1.1\" 304 -\n",
      "127.0.0.1 - - [23/Nov/2023 12:14:52] \"GET /static/img/testimonial-1.jpg HTTP/1.1\" 304 -\n",
      "127.0.0.1 - - [23/Nov/2023 12:14:52] \"GET /static/lib/wow/wow.min.js HTTP/1.1\" 304 -\n",
      "127.0.0.1 - - [23/Nov/2023 12:14:52] \"GET /static/lib/easing/easing.min.js HTTP/1.1\" 304 -\n",
      "127.0.0.1 - - [23/Nov/2023 12:14:52] \"GET /static/lib/waypoints/waypoints.min.js HTTP/1.1\" 304 -\n",
      "127.0.0.1 - - [23/Nov/2023 12:14:52] \"GET /static/lib/owlcarousel/owl.carousel.min.js HTTP/1.1\" 304 -\n",
      "127.0.0.1 - - [23/Nov/2023 12:14:52] \"GET /static/js/main.js HTTP/1.1\" 304 -\n",
      "127.0.0.1 - - [23/Nov/2023 12:14:52] \"GET /static/img/testimonial-2.jpg HTTP/1.1\" 304 -\n",
      "127.0.0.1 - - [23/Nov/2023 12:14:52] \"GET /static/img/testimonial-3.jpg HTTP/1.1\" 304 -\n",
      "127.0.0.1 - - [23/Nov/2023 12:14:52] \"GET /static/img/testimonial-4.jpg HTTP/1.1\" 304 -\n",
      "127.0.0.1 - - [23/Nov/2023 12:52:14] \"GET /services.html HTTP/1.1\" 200 -\n",
      "127.0.0.1 - - [23/Nov/2023 12:52:14] \"GET /static/lib/animate/animate.min.css HTTP/1.1\" 304 -\n",
      "127.0.0.1 - - [23/Nov/2023 12:52:14] \"GET /static/lib/owlcarousel/assets/owl.carousel.min.css HTTP/1.1\" 304 -\n",
      "127.0.0.1 - - [23/Nov/2023 12:52:14] \"GET /static/css/bootstrap.min.css HTTP/1.1\" 304 -\n",
      "127.0.0.1 - - [23/Nov/2023 12:52:14] \"GET /static/css/style.css HTTP/1.1\" 304 -\n",
      "127.0.0.1 - - [23/Nov/2023 12:52:14] \"GET /static/lib/wow/wow.min.js HTTP/1.1\" 304 -\n",
      "127.0.0.1 - - [23/Nov/2023 12:52:14] \"GET /static/lib/easing/easing.min.js HTTP/1.1\" 304 -\n",
      "127.0.0.1 - - [23/Nov/2023 12:52:14] \"GET /static/lib/waypoints/waypoints.min.js HTTP/1.1\" 304 -\n",
      "127.0.0.1 - - [23/Nov/2023 12:52:14] \"GET /static/lib/owlcarousel/owl.carousel.min.js HTTP/1.1\" 304 -\n",
      "127.0.0.1 - - [23/Nov/2023 12:52:14] \"GET /static/js/main.js HTTP/1.1\" 304 -\n",
      "127.0.0.1 - - [23/Nov/2023 12:52:14] \"GET /static/img/carousel-1.jpg HTTP/1.1\" 304 -\n",
      "127.0.0.1 - - [23/Nov/2023 12:52:18] \"GET /liveatt.html HTTP/1.1\" 200 -\n",
      "127.0.0.1 - - [23/Nov/2023 12:52:18] \"GET /static/lib/animate/animate.min.css HTTP/1.1\" 304 -\n",
      "127.0.0.1 - - [23/Nov/2023 12:52:18] \"GET /static/lib/owlcarousel/assets/owl.carousel.min.css HTTP/1.1\" 304 -\n",
      "127.0.0.1 - - [23/Nov/2023 12:52:18] \"GET /static/css/bootstrap.min.css HTTP/1.1\" 304 -\n",
      "127.0.0.1 - - [23/Nov/2023 12:52:18] \"GET /static/css/style.css HTTP/1.1\" 304 -\n",
      "127.0.0.1 - - [23/Nov/2023 12:52:18] \"GET /static/lib/wow/wow.min.js HTTP/1.1\" 304 -\n",
      "127.0.0.1 - - [23/Nov/2023 12:52:18] \"GET /static/lib/easing/easing.min.js HTTP/1.1\" 304 -\n",
      "127.0.0.1 - - [23/Nov/2023 12:52:18] \"GET /static/lib/waypoints/waypoints.min.js HTTP/1.1\" 304 -\n",
      "127.0.0.1 - - [23/Nov/2023 12:52:18] \"GET /static/lib/owlcarousel/owl.carousel.min.js HTTP/1.1\" 304 -\n",
      "127.0.0.1 - - [23/Nov/2023 12:52:18] \"GET /static/js/main.js HTTP/1.1\" 304 -\n"
     ]
    },
    {
     "name": "stdout",
     "output_type": "stream",
     "text": [
      "YESSSSSS\n",
      "Loading Encode File ...\n",
      "Encode File Loaded\n"
     ]
    },
    {
     "name": "stderr",
     "output_type": "stream",
     "text": [
      "127.0.0.1 - - [23/Nov/2023 12:52:21] \"POST /live HTTP/1.1\" 200 -\n",
      "127.0.0.1 - - [23/Nov/2023 12:52:21] \"GET /static/Images/20BCE0785.png HTTP/1.1\" 304 -\n"
     ]
    },
    {
     "name": "stdout",
     "output_type": "stream",
     "text": [
      "Known Face Detected\n",
      "20BCE0785\n",
      "('Ananya Singh', '20BCE0785', 'Computer Science and Engineering', '2023-11-23 12:13:55')\n",
      "('2023-11-23 12:13:55',)\n",
      "YESSSSSS\n",
      "Loading Encode File ...\n",
      "Encode File Loaded\n"
     ]
    },
    {
     "name": "stderr",
     "output_type": "stream",
     "text": [
      "127.0.0.1 - - [23/Nov/2023 12:52:22] \"POST /live HTTP/1.1\" 200 -\n"
     ]
    },
    {
     "name": "stdout",
     "output_type": "stream",
     "text": [
      "Known Face Detected\n",
      "20BCE0785\n",
      "('Ananya Singh', '20BCE0785', 'Computer Science and Engineering', '2023-11-23 12:52:21')\n",
      "('2023-11-23 12:52:21',)\n",
      "YESSSSSS\n",
      "Loading Encode File ...\n",
      "Encode File Loaded\n"
     ]
    },
    {
     "name": "stderr",
     "output_type": "stream",
     "text": [
      "127.0.0.1 - - [23/Nov/2023 12:52:23] \"POST /live HTTP/1.1\" 200 -\n",
      "127.0.0.1 - - [23/Nov/2023 12:52:23] \"GET /static/Images/20BCE0607.png HTTP/1.1\" 200 -\n"
     ]
    },
    {
     "name": "stdout",
     "output_type": "stream",
     "text": [
      "Known Face Detected\n",
      "20BCE0607\n",
      "('Eeshani Majumder', '20BCE0607', 'Computer Science and Engineering', '2023-10-09 22:27:48')\n",
      "('2023-10-09 22:27:48',)\n",
      "YESSSSSS\n",
      "Loading Encode File ...\n",
      "Encode File Loaded\n"
     ]
    },
    {
     "name": "stderr",
     "output_type": "stream",
     "text": [
      "127.0.0.1 - - [23/Nov/2023 12:52:24] \"POST /live HTTP/1.1\" 200 -\n",
      "127.0.0.1 - - [23/Nov/2023 12:52:24] \"POST /live HTTP/1.1\" 200 -\n"
     ]
    },
    {
     "name": "stdout",
     "output_type": "stream",
     "text": [
      "Known Face Detected\n",
      "20BCE0785\n",
      "('Ananya Singh', '20BCE0785', 'Computer Science and Engineering', '2023-11-23 12:52:21')\n",
      "('2023-11-23 12:52:21',)\n",
      "YESSSSSS\n",
      "Loading Encode File ...\n",
      "Encode File Loaded\n"
     ]
    },
    {
     "name": "stderr",
     "output_type": "stream",
     "text": [
      "127.0.0.1 - - [23/Nov/2023 12:52:24] \"POST /live HTTP/1.1\" 200 -\n",
      "127.0.0.1 - - [23/Nov/2023 12:52:24] \"POST /live HTTP/1.1\" 200 -\n",
      "127.0.0.1 - - [23/Nov/2023 12:52:24] \"POST /live HTTP/1.1\" 200 -\n"
     ]
    },
    {
     "name": "stdout",
     "output_type": "stream",
     "text": [
      "YESSSSSS\n",
      "Loading Encode File ...\n",
      "Encode File Loaded\n",
      "YESSSSSS\n",
      "Loading Encode File ...\n",
      "Encode File Loaded\n",
      "YESSSSSS\n",
      "Loading Encode File ...\n",
      "Encode File Loaded\n",
      "YESSSSSS\n",
      "Loading Encode File ...\n",
      "Encode File Loaded\n"
     ]
    },
    {
     "name": "stderr",
     "output_type": "stream",
     "text": [
      "127.0.0.1 - - [23/Nov/2023 12:52:24] \"POST /live HTTP/1.1\" 200 -\n",
      "127.0.0.1 - - [23/Nov/2023 12:52:24] \"POST /live HTTP/1.1\" 200 -\n",
      "127.0.0.1 - - [23/Nov/2023 12:52:24] \"POST /live HTTP/1.1\" 200 -\n",
      "127.0.0.1 - - [23/Nov/2023 12:52:24] \"POST /live HTTP/1.1\" 200 -\n"
     ]
    },
    {
     "name": "stdout",
     "output_type": "stream",
     "text": [
      "YESSSSSS\n",
      "Loading Encode File ...\n",
      "Encode File Loaded\n",
      "YESSSSSS\n",
      "Loading Encode File ...\n",
      "Encode File Loaded\n",
      "YESSSSSS\n",
      "Loading Encode File ...\n",
      "Encode File Loaded\n"
     ]
    },
    {
     "name": "stderr",
     "output_type": "stream",
     "text": [
      "127.0.0.1 - - [23/Nov/2023 12:52:25] \"POST /live HTTP/1.1\" 200 -\n",
      "127.0.0.1 - - [23/Nov/2023 12:52:25] \"POST /live HTTP/1.1\" 200 -\n",
      "127.0.0.1 - - [23/Nov/2023 12:52:25] \"POST /live HTTP/1.1\" 200 -\n"
     ]
    },
    {
     "name": "stdout",
     "output_type": "stream",
     "text": [
      "YESSSSSS\n",
      "Loading Encode File ...\n",
      "Encode File Loaded\n",
      "YESSSSSS\n",
      "Loading Encode File ...\n",
      "Encode File Loaded\n",
      "YESSSSSS\n",
      "Loading Encode File ...\n",
      "Encode File Loaded\n",
      "YESSSSSS\n",
      "Loading Encode File ...\n",
      "Encode File Loaded\n"
     ]
    },
    {
     "name": "stderr",
     "output_type": "stream",
     "text": [
      "127.0.0.1 - - [23/Nov/2023 12:52:25] \"POST /live HTTP/1.1\" 200 -\n",
      "127.0.0.1 - - [23/Nov/2023 12:52:25] \"POST /live HTTP/1.1\" 200 -\n",
      "127.0.0.1 - - [23/Nov/2023 12:52:25] \"POST /live HTTP/1.1\" 200 -\n",
      "127.0.0.1 - - [23/Nov/2023 12:52:25] \"POST /live HTTP/1.1\" 200 -\n"
     ]
    },
    {
     "name": "stdout",
     "output_type": "stream",
     "text": [
      "YESSSSSS\n",
      "Loading Encode File ...\n",
      "Encode File Loaded\n",
      "YESSSSSS\n",
      "Loading Encode File ...\n",
      "Encode File Loaded\n",
      "YESSSSSS\n",
      "Loading Encode File ...\n",
      "Encode File Loaded\n",
      "YESSSSSS\n",
      "Loading Encode File ...\n",
      "Encode File Loaded\n"
     ]
    },
    {
     "name": "stderr",
     "output_type": "stream",
     "text": [
      "127.0.0.1 - - [23/Nov/2023 12:52:25] \"POST /live HTTP/1.1\" 200 -\n",
      "127.0.0.1 - - [23/Nov/2023 12:52:25] \"POST /live HTTP/1.1\" 200 -\n",
      "127.0.0.1 - - [23/Nov/2023 12:52:25] \"POST /live HTTP/1.1\" 200 -\n",
      "127.0.0.1 - - [23/Nov/2023 12:52:25] \"POST /live HTTP/1.1\" 200 -\n"
     ]
    },
    {
     "name": "stdout",
     "output_type": "stream",
     "text": [
      "YESSSSSS\n",
      "Loading Encode File ...\n",
      "Encode File Loaded\n",
      "YESSSSSS\n",
      "Loading Encode File ...\n",
      "Encode File Loaded\n",
      "YESSSSSS\n",
      "Loading Encode File ...\n",
      "Encode File Loaded\n",
      "YESSSSSS\n",
      "Loading Encode File ...\n",
      "Encode File Loaded\n"
     ]
    },
    {
     "name": "stderr",
     "output_type": "stream",
     "text": [
      "127.0.0.1 - - [23/Nov/2023 12:52:25] \"POST /live HTTP/1.1\" 200 -\n",
      "127.0.0.1 - - [23/Nov/2023 12:52:25] \"POST /live HTTP/1.1\" 200 -\n",
      "127.0.0.1 - - [23/Nov/2023 12:52:25] \"POST /live HTTP/1.1\" 200 -\n",
      "127.0.0.1 - - [23/Nov/2023 12:52:25] \"POST /live HTTP/1.1\" 200 -\n"
     ]
    },
    {
     "name": "stdout",
     "output_type": "stream",
     "text": [
      "YESSSSSS\n",
      "Loading Encode File ...\n",
      "Encode File Loaded\n",
      "YESSSSSS\n",
      "Loading Encode File ...\n",
      "Encode File Loaded\n",
      "YESSSSSS\n",
      "Loading Encode File ...\n",
      "Encode File Loaded\n",
      "YESSSSSS\n",
      "Loading Encode File ...\n",
      "Encode File Loaded\n"
     ]
    },
    {
     "name": "stderr",
     "output_type": "stream",
     "text": [
      "127.0.0.1 - - [23/Nov/2023 12:52:26] \"POST /live HTTP/1.1\" 200 -\n",
      "127.0.0.1 - - [23/Nov/2023 12:52:26] \"POST /live HTTP/1.1\" 200 -\n",
      "127.0.0.1 - - [23/Nov/2023 12:52:26] \"POST /live HTTP/1.1\" 200 -\n",
      "127.0.0.1 - - [23/Nov/2023 12:52:26] \"POST /live HTTP/1.1\" 200 -\n"
     ]
    },
    {
     "name": "stdout",
     "output_type": "stream",
     "text": [
      "YESSSSSS\n",
      "Loading Encode File ...\n",
      "Encode File Loaded\n",
      "YESSSSSS\n",
      "Loading Encode File ...\n",
      "Encode File Loaded\n",
      "YESSSSSS\n",
      "Loading Encode File ...\n",
      "Encode File Loaded\n",
      "YESSSSSS\n",
      "Loading Encode File ...\n",
      "Encode File Loaded\n"
     ]
    },
    {
     "name": "stderr",
     "output_type": "stream",
     "text": [
      "127.0.0.1 - - [23/Nov/2023 12:52:26] \"POST /live HTTP/1.1\" 200 -\n",
      "127.0.0.1 - - [23/Nov/2023 12:52:26] \"POST /live HTTP/1.1\" 200 -\n",
      "127.0.0.1 - - [23/Nov/2023 12:52:26] \"POST /live HTTP/1.1\" 200 -\n",
      "127.0.0.1 - - [23/Nov/2023 12:52:26] \"POST /live HTTP/1.1\" 200 -\n"
     ]
    },
    {
     "name": "stdout",
     "output_type": "stream",
     "text": [
      "YESSSSSS\n",
      "Loading Encode File ...\n",
      "Encode File Loaded\n",
      "YESSSSSS\n",
      "Loading Encode File ...\n",
      "Encode File Loaded\n",
      "YESSSSSS\n",
      "Loading Encode File ...\n",
      "Encode File Loaded\n"
     ]
    },
    {
     "name": "stderr",
     "output_type": "stream",
     "text": [
      "127.0.0.1 - - [23/Nov/2023 12:52:26] \"POST /live HTTP/1.1\" 200 -\n",
      "127.0.0.1 - - [23/Nov/2023 12:52:26] \"POST /live HTTP/1.1\" 200 -\n",
      "127.0.0.1 - - [23/Nov/2023 12:52:26] \"POST /live HTTP/1.1\" 200 -\n"
     ]
    },
    {
     "name": "stdout",
     "output_type": "stream",
     "text": [
      "YESSSSSS\n",
      "Loading Encode File ...\n",
      "Encode File Loaded\n",
      "YESSSSSS\n",
      "Loading Encode File ...\n",
      "Encode File Loaded\n",
      "YESSSSSS\n",
      "Loading Encode File ...\n",
      "Encode File Loaded\n",
      "YESSSSSS\n",
      "Loading Encode File ...\n",
      "Encode File Loaded\n"
     ]
    },
    {
     "name": "stderr",
     "output_type": "stream",
     "text": [
      "127.0.0.1 - - [23/Nov/2023 12:52:26] \"POST /live HTTP/1.1\" 200 -\n",
      "127.0.0.1 - - [23/Nov/2023 12:52:26] \"POST /live HTTP/1.1\" 200 -\n",
      "127.0.0.1 - - [23/Nov/2023 12:52:26] \"POST /live HTTP/1.1\" 200 -\n",
      "127.0.0.1 - - [23/Nov/2023 12:52:26] \"POST /live HTTP/1.1\" 200 -\n"
     ]
    },
    {
     "name": "stdout",
     "output_type": "stream",
     "text": [
      "YESSSSSS\n",
      "Loading Encode File ...\n",
      "Encode File Loaded\n",
      "YESSSSSS\n",
      "Loading Encode File ...\n",
      "Encode File Loaded\n",
      "YESSSSSS\n",
      "Loading Encode File ...\n",
      "Encode File Loaded\n",
      "YESSSSSS\n",
      "Loading Encode File ...\n",
      "Encode File Loaded\n"
     ]
    },
    {
     "name": "stderr",
     "output_type": "stream",
     "text": [
      "127.0.0.1 - - [23/Nov/2023 12:52:27] \"POST /live HTTP/1.1\" 200 -\n",
      "127.0.0.1 - - [23/Nov/2023 12:52:27] \"POST /live HTTP/1.1\" 200 -\n",
      "127.0.0.1 - - [23/Nov/2023 12:52:27] \"POST /live HTTP/1.1\" 200 -\n",
      "127.0.0.1 - - [23/Nov/2023 12:52:27] \"POST /live HTTP/1.1\" 200 -\n"
     ]
    },
    {
     "name": "stdout",
     "output_type": "stream",
     "text": [
      "YESSSSSS\n",
      "Loading Encode File ...\n",
      "Encode File Loaded\n",
      "YESSSSSS\n",
      "Loading Encode File ...\n",
      "Encode File Loaded\n",
      "YESSSSSS\n",
      "Loading Encode File ...\n",
      "Encode File Loaded\n",
      "YESSSSSS\n",
      "Loading Encode File ...\n",
      "Encode File Loaded\n"
     ]
    },
    {
     "name": "stderr",
     "output_type": "stream",
     "text": [
      "127.0.0.1 - - [23/Nov/2023 12:52:28] \"POST /live HTTP/1.1\" 200 -\n",
      "127.0.0.1 - - [23/Nov/2023 12:52:28] \"GET /static/Images/20BDS0040.png HTTP/1.1\" 304 -\n"
     ]
    },
    {
     "name": "stdout",
     "output_type": "stream",
     "text": [
      "Known Face Detected\n",
      "20BDS0040\n",
      "('Kartikey Saini', '20BDS0040', 'Computer Science and Engineering with specialization in Data Science', '2023-11-23 12:14:07')\n",
      "('2023-11-23 12:14:07',)\n",
      "YESSSSSS\n",
      "Loading Encode File ...\n",
      "Encode File Loaded\n"
     ]
    },
    {
     "name": "stderr",
     "output_type": "stream",
     "text": [
      "127.0.0.1 - - [23/Nov/2023 12:52:29] \"POST /live HTTP/1.1\" 200 -\n",
      "127.0.0.1 - - [23/Nov/2023 12:52:29] \"POST /live HTTP/1.1\" 200 -\n"
     ]
    },
    {
     "name": "stdout",
     "output_type": "stream",
     "text": [
      "Known Face Detected\n",
      "20BDS0040\n",
      "('Kartikey Saini', '20BDS0040', 'Computer Science and Engineering with specialization in Data Science', '2023-11-23 12:52:28')\n",
      "('2023-11-23 12:52:28',)\n",
      "YESSSSSS\n",
      "Loading Encode File ...\n",
      "Encode File Loaded\n",
      "YESSSSSS\n",
      "Loading Encode File ...\n",
      "Encode File Loaded\n"
     ]
    },
    {
     "name": "stderr",
     "output_type": "stream",
     "text": [
      "127.0.0.1 - - [23/Nov/2023 12:52:29] \"POST /live HTTP/1.1\" 200 -\n",
      "127.0.0.1 - - [23/Nov/2023 12:52:29] \"POST /live HTTP/1.1\" 200 -\n",
      "127.0.0.1 - - [23/Nov/2023 12:52:29] \"POST /live HTTP/1.1\" 200 -\n",
      "127.0.0.1 - - [23/Nov/2023 12:52:29] \"POST /live HTTP/1.1\" 200 -\n"
     ]
    },
    {
     "name": "stdout",
     "output_type": "stream",
     "text": [
      "YESSSSSS\n",
      "Loading Encode File ...\n",
      "Encode File Loaded\n",
      "YESSSSSS\n",
      "Loading Encode File ...\n",
      "Encode File Loaded\n",
      "YESSSSSS\n",
      "Loading Encode File ...\n",
      "Encode File Loaded\n"
     ]
    },
    {
     "name": "stderr",
     "output_type": "stream",
     "text": [
      "127.0.0.1 - - [23/Nov/2023 12:52:29] \"POST /live HTTP/1.1\" 200 -\n",
      "127.0.0.1 - - [23/Nov/2023 12:52:29] \"POST /live HTTP/1.1\" 200 -\n",
      "127.0.0.1 - - [23/Nov/2023 12:52:30] \"POST /live HTTP/1.1\" 200 -\n"
     ]
    },
    {
     "name": "stdout",
     "output_type": "stream",
     "text": [
      "YESSSSSS\n",
      "Loading Encode File ...\n",
      "Encode File Loaded\n",
      "YESSSSSS\n",
      "Loading Encode File ...\n",
      "Encode File Loaded\n",
      "YESSSSSS\n",
      "Loading Encode File ...\n",
      "Encode File Loaded\n",
      "YESSSSSS\n",
      "Loading Encode File ...\n",
      "Encode File Loaded\n"
     ]
    },
    {
     "name": "stderr",
     "output_type": "stream",
     "text": [
      "127.0.0.1 - - [23/Nov/2023 12:52:30] \"POST /live HTTP/1.1\" 200 -\n",
      "127.0.0.1 - - [23/Nov/2023 12:52:30] \"POST /live HTTP/1.1\" 200 -\n",
      "127.0.0.1 - - [23/Nov/2023 12:52:30] \"POST /live HTTP/1.1\" 200 -\n",
      "127.0.0.1 - - [23/Nov/2023 12:52:30] \"POST /live HTTP/1.1\" 200 -\n"
     ]
    },
    {
     "name": "stdout",
     "output_type": "stream",
     "text": [
      "YESSSSSS\n",
      "Loading Encode File ...\n",
      "Encode File Loaded\n",
      "YESSSSSS\n",
      "Loading Encode File ...\n",
      "Encode File Loaded\n",
      "YESSSSSS\n",
      "Loading Encode File ...\n",
      "Encode File Loaded\n",
      "YESSSSSS\n",
      "Loading Encode File ...\n",
      "Encode File Loaded\n"
     ]
    },
    {
     "name": "stderr",
     "output_type": "stream",
     "text": [
      "127.0.0.1 - - [23/Nov/2023 12:52:30] \"POST /live HTTP/1.1\" 200 -\n",
      "127.0.0.1 - - [23/Nov/2023 12:52:30] \"POST /live HTTP/1.1\" 200 -\n",
      "127.0.0.1 - - [23/Nov/2023 12:52:30] \"POST /live HTTP/1.1\" 200 -\n",
      "127.0.0.1 - - [23/Nov/2023 12:52:30] \"POST /live HTTP/1.1\" 200 -\n"
     ]
    },
    {
     "name": "stdout",
     "output_type": "stream",
     "text": [
      "YESSSSSS\n",
      "Loading Encode File ...\n",
      "Encode File Loaded\n",
      "YESSSSSS\n",
      "Loading Encode File ...\n",
      "Encode File Loaded\n",
      "YESSSSSS\n",
      "Loading Encode File ...\n",
      "Encode File Loaded\n"
     ]
    },
    {
     "name": "stderr",
     "output_type": "stream",
     "text": [
      "127.0.0.1 - - [23/Nov/2023 12:52:30] \"POST /live HTTP/1.1\" 200 -\n",
      "127.0.0.1 - - [23/Nov/2023 12:52:30] \"POST /live HTTP/1.1\" 200 -\n",
      "127.0.0.1 - - [23/Nov/2023 12:52:30] \"POST /live HTTP/1.1\" 200 -\n"
     ]
    },
    {
     "name": "stdout",
     "output_type": "stream",
     "text": [
      "YESSSSSS\n",
      "Loading Encode File ...\n",
      "Encode File Loaded\n",
      "YESSSSSS\n",
      "Loading Encode File ...\n",
      "Encode File Loaded\n",
      "YESSSSSS\n",
      "Loading Encode File ...\n",
      "Encode File Loaded\n"
     ]
    },
    {
     "name": "stderr",
     "output_type": "stream",
     "text": [
      "127.0.0.1 - - [23/Nov/2023 12:52:30] \"POST /live HTTP/1.1\" 200 -\n",
      "127.0.0.1 - - [23/Nov/2023 12:52:30] \"POST /live HTTP/1.1\" 200 -\n",
      "127.0.0.1 - - [23/Nov/2023 12:52:30] \"POST /live HTTP/1.1\" 200 -\n"
     ]
    },
    {
     "name": "stdout",
     "output_type": "stream",
     "text": [
      "YESSSSSS\n",
      "Loading Encode File ...\n",
      "Encode File Loaded\n",
      "YESSSSSS\n",
      "Loading Encode File ...\n",
      "Encode File Loaded\n",
      "YESSSSSS\n",
      "Loading Encode File ...\n",
      "Encode File Loaded\n"
     ]
    },
    {
     "name": "stderr",
     "output_type": "stream",
     "text": [
      "127.0.0.1 - - [23/Nov/2023 12:52:31] \"POST /live HTTP/1.1\" 200 -\n",
      "127.0.0.1 - - [23/Nov/2023 12:52:31] \"POST /live HTTP/1.1\" 200 -\n",
      "127.0.0.1 - - [23/Nov/2023 12:52:31] \"POST /live HTTP/1.1\" 200 -\n"
     ]
    },
    {
     "name": "stdout",
     "output_type": "stream",
     "text": [
      "YESSSSSS\n",
      "Loading Encode File ...\n",
      "Encode File Loaded\n",
      "YESSSSSS\n",
      "Loading Encode File ...\n",
      "Encode File Loaded\n",
      "YESSSSSS\n",
      "Loading Encode File ...\n",
      "Encode File Loaded\n",
      "YESSSSSS\n",
      "Loading Encode File ...\n",
      "Encode File Loaded\n"
     ]
    },
    {
     "name": "stderr",
     "output_type": "stream",
     "text": [
      "127.0.0.1 - - [23/Nov/2023 12:52:31] \"POST /live HTTP/1.1\" 200 -\n",
      "127.0.0.1 - - [23/Nov/2023 12:52:31] \"POST /live HTTP/1.1\" 200 -\n",
      "127.0.0.1 - - [23/Nov/2023 12:52:31] \"POST /live HTTP/1.1\" 200 -\n",
      "127.0.0.1 - - [23/Nov/2023 12:52:31] \"POST /live HTTP/1.1\" 200 -\n"
     ]
    },
    {
     "name": "stdout",
     "output_type": "stream",
     "text": [
      "YESSSSSS\n",
      "Loading Encode File ...\n",
      "Encode File Loaded\n",
      "YESSSSSS\n",
      "Loading Encode File ...\n",
      "Encode File Loaded\n",
      "YESSSSSS\n",
      "Loading Encode File ...\n",
      "Encode File Loaded\n",
      "YESSSSSS\n",
      "Loading Encode File ...\n",
      "Encode File Loaded\n"
     ]
    },
    {
     "name": "stderr",
     "output_type": "stream",
     "text": [
      "127.0.0.1 - - [23/Nov/2023 12:52:31] \"POST /live HTTP/1.1\" 200 -\n",
      "127.0.0.1 - - [23/Nov/2023 12:52:31] \"POST /live HTTP/1.1\" 200 -\n",
      "127.0.0.1 - - [23/Nov/2023 12:52:31] \"POST /live HTTP/1.1\" 200 -\n",
      "127.0.0.1 - - [23/Nov/2023 12:52:31] \"POST /live HTTP/1.1\" 200 -\n"
     ]
    },
    {
     "name": "stdout",
     "output_type": "stream",
     "text": [
      "YESSSSSS\n",
      "Loading Encode File ...\n",
      "Encode File Loaded\n",
      "YESSSSSS\n",
      "Loading Encode File ...\n",
      "Encode File Loaded\n",
      "YESSSSSS\n",
      "Loading Encode File ...\n",
      "Encode File Loaded\n"
     ]
    },
    {
     "name": "stderr",
     "output_type": "stream",
     "text": [
      "127.0.0.1 - - [23/Nov/2023 12:52:31] \"POST /live HTTP/1.1\" 200 -\n",
      "127.0.0.1 - - [23/Nov/2023 12:52:31] \"POST /live HTTP/1.1\" 200 -\n",
      "127.0.0.1 - - [23/Nov/2023 12:52:31] \"POST /live HTTP/1.1\" 200 -\n"
     ]
    },
    {
     "name": "stdout",
     "output_type": "stream",
     "text": [
      "YESSSSSS\n",
      "Loading Encode File ...\n",
      "Encode File Loaded\n",
      "YESSSSSS\n",
      "Loading Encode File ...\n",
      "Encode File Loaded\n",
      "YESSSSSS\n",
      "Loading Encode File ...\n",
      "Encode File Loaded\n",
      "YESSSSSS\n",
      "Loading Encode File ...\n",
      "Encode File Loaded\n"
     ]
    },
    {
     "name": "stderr",
     "output_type": "stream",
     "text": [
      "127.0.0.1 - - [23/Nov/2023 12:52:31] \"POST /live HTTP/1.1\" 200 -\n",
      "127.0.0.1 - - [23/Nov/2023 12:52:32] \"POST /live HTTP/1.1\" 200 -\n",
      "127.0.0.1 - - [23/Nov/2023 12:52:32] \"POST /live HTTP/1.1\" 200 -\n",
      "127.0.0.1 - - [23/Nov/2023 12:52:32] \"POST /live HTTP/1.1\" 200 -\n"
     ]
    },
    {
     "name": "stdout",
     "output_type": "stream",
     "text": [
      "YESSSSSS\n",
      "Loading Encode File ...\n",
      "Encode File Loaded\n",
      "YESSSSSS\n",
      "Loading Encode File ...\n",
      "Encode File Loaded\n",
      "YESSSSSS\n",
      "Loading Encode File ...\n",
      "Encode File Loaded\n",
      "YESSSSSS\n",
      "Loading Encode File ...\n",
      "Encode File Loaded\n"
     ]
    },
    {
     "name": "stderr",
     "output_type": "stream",
     "text": [
      "127.0.0.1 - - [23/Nov/2023 12:52:32] \"POST /live HTTP/1.1\" 200 -\n",
      "127.0.0.1 - - [23/Nov/2023 12:52:32] \"POST /live HTTP/1.1\" 200 -\n",
      "127.0.0.1 - - [23/Nov/2023 12:52:32] \"POST /live HTTP/1.1\" 200 -\n",
      "127.0.0.1 - - [23/Nov/2023 12:52:32] \"POST /live HTTP/1.1\" 200 -\n"
     ]
    },
    {
     "name": "stdout",
     "output_type": "stream",
     "text": [
      "YESSSSSS\n",
      "Loading Encode File ...\n",
      "Encode File Loaded\n",
      "YESSSSSS\n",
      "Loading Encode File ...\n",
      "Encode File Loaded\n",
      "YESSSSSS\n",
      "Loading Encode File ...\n",
      "Encode File Loaded\n",
      "YESSSSSS\n",
      "Loading Encode File ...\n",
      "Encode File Loaded\n"
     ]
    },
    {
     "name": "stderr",
     "output_type": "stream",
     "text": [
      "127.0.0.1 - - [23/Nov/2023 12:52:32] \"POST /live HTTP/1.1\" 200 -\n",
      "127.0.0.1 - - [23/Nov/2023 12:52:32] \"POST /live HTTP/1.1\" 200 -\n",
      "127.0.0.1 - - [23/Nov/2023 12:52:32] \"POST /live HTTP/1.1\" 200 -\n",
      "127.0.0.1 - - [23/Nov/2023 12:52:32] \"POST /live HTTP/1.1\" 200 -\n"
     ]
    },
    {
     "name": "stdout",
     "output_type": "stream",
     "text": [
      "YESSSSSS\n",
      "Loading Encode File ...\n",
      "Encode File Loaded\n",
      "YESSSSSS\n",
      "Loading Encode File ...\n",
      "Encode File Loaded\n",
      "YESSSSSS\n",
      "Loading Encode File ...\n",
      "Encode File Loaded\n",
      "YESSSSSS\n",
      "Loading Encode File ...\n",
      "Encode File Loaded\n"
     ]
    },
    {
     "name": "stderr",
     "output_type": "stream",
     "text": [
      "127.0.0.1 - - [23/Nov/2023 12:52:32] \"POST /live HTTP/1.1\" 200 -\n",
      "127.0.0.1 - - [23/Nov/2023 12:52:32] \"POST /live HTTP/1.1\" 200 -\n",
      "127.0.0.1 - - [23/Nov/2023 12:52:32] \"POST /live HTTP/1.1\" 200 -\n",
      "127.0.0.1 - - [23/Nov/2023 12:52:32] \"POST /live HTTP/1.1\" 200 -\n"
     ]
    },
    {
     "name": "stdout",
     "output_type": "stream",
     "text": [
      "YESSSSSS\n",
      "Loading Encode File ...\n",
      "Encode File Loaded\n",
      "YESSSSSS\n",
      "Loading Encode File ...\n",
      "Encode File Loaded\n",
      "YESSSSSS\n",
      "Loading Encode File ...\n",
      "Encode File Loaded\n"
     ]
    },
    {
     "name": "stderr",
     "output_type": "stream",
     "text": [
      "127.0.0.1 - - [23/Nov/2023 12:52:33] \"POST /live HTTP/1.1\" 200 -\n",
      "127.0.0.1 - - [23/Nov/2023 12:52:33] \"POST /live HTTP/1.1\" 200 -\n",
      "127.0.0.1 - - [23/Nov/2023 12:52:33] \"POST /live HTTP/1.1\" 200 -\n"
     ]
    },
    {
     "name": "stdout",
     "output_type": "stream",
     "text": [
      "YESSSSSS\n",
      "Loading Encode File ...\n",
      "Encode File Loaded\n",
      "YESSSSSS\n",
      "Loading Encode File ...\n",
      "Encode File Loaded\n",
      "YESSSSSS\n",
      "Loading Encode File ...\n",
      "Encode File Loaded\n",
      "YESSSSSS\n",
      "Loading Encode File ...\n",
      "Encode File Loaded\n"
     ]
    },
    {
     "name": "stderr",
     "output_type": "stream",
     "text": [
      "127.0.0.1 - - [23/Nov/2023 12:52:33] \"POST /live HTTP/1.1\" 200 -\n",
      "127.0.0.1 - - [23/Nov/2023 12:52:33] \"POST /live HTTP/1.1\" 200 -\n",
      "127.0.0.1 - - [23/Nov/2023 12:52:33] \"POST /live HTTP/1.1\" 200 -\n",
      "127.0.0.1 - - [23/Nov/2023 12:52:33] \"POST /live HTTP/1.1\" 200 -\n"
     ]
    },
    {
     "name": "stdout",
     "output_type": "stream",
     "text": [
      "YESSSSSS\n",
      "Loading Encode File ...\n",
      "Encode File Loaded\n",
      "YESSSSSS\n",
      "Loading Encode File ...\n",
      "Encode File Loaded\n",
      "YESSSSSS\n",
      "Loading Encode File ...\n",
      "Encode File Loaded\n",
      "YESSSSSS\n",
      "Loading Encode File ...\n",
      "Encode File Loaded\n"
     ]
    },
    {
     "name": "stderr",
     "output_type": "stream",
     "text": [
      "127.0.0.1 - - [23/Nov/2023 12:52:33] \"POST /live HTTP/1.1\" 200 -\n",
      "127.0.0.1 - - [23/Nov/2023 12:52:33] \"POST /live HTTP/1.1\" 200 -\n",
      "127.0.0.1 - - [23/Nov/2023 12:52:33] \"POST /live HTTP/1.1\" 200 -\n",
      "127.0.0.1 - - [23/Nov/2023 12:52:33] \"POST /live HTTP/1.1\" 200 -\n"
     ]
    },
    {
     "name": "stdout",
     "output_type": "stream",
     "text": [
      "YESSSSSS\n",
      "Loading Encode File ...\n",
      "Encode File Loaded\n",
      "YESSSSSS\n",
      "Loading Encode File ...\n",
      "Encode File Loaded\n",
      "YESSSSSS\n",
      "Loading Encode File ...\n",
      "Encode File Loaded\n",
      "YESSSSSS\n",
      "Loading Encode File ...\n",
      "Encode File Loaded\n"
     ]
    },
    {
     "name": "stderr",
     "output_type": "stream",
     "text": [
      "127.0.0.1 - - [23/Nov/2023 12:52:33] \"POST /live HTTP/1.1\" 200 -\n",
      "127.0.0.1 - - [23/Nov/2023 12:52:33] \"POST /live HTTP/1.1\" 200 -\n",
      "127.0.0.1 - - [23/Nov/2023 12:52:33] \"POST /live HTTP/1.1\" 200 -\n",
      "127.0.0.1 - - [23/Nov/2023 12:52:33] \"POST /live HTTP/1.1\" 200 -\n"
     ]
    },
    {
     "name": "stdout",
     "output_type": "stream",
     "text": [
      "YESSSSSS\n",
      "Loading Encode File ...\n",
      "Encode File Loaded\n",
      "YESSSSSS\n",
      "Loading Encode File ...\n",
      "Encode File Loaded\n",
      "YESSSSSS\n",
      "Loading Encode File ...\n",
      "Encode File Loaded\n"
     ]
    },
    {
     "name": "stderr",
     "output_type": "stream",
     "text": [
      "127.0.0.1 - - [23/Nov/2023 12:52:34] \"POST /live HTTP/1.1\" 200 -\n",
      "127.0.0.1 - - [23/Nov/2023 12:52:34] \"POST /live HTTP/1.1\" 200 -\n",
      "127.0.0.1 - - [23/Nov/2023 12:52:34] \"POST /live HTTP/1.1\" 200 -\n"
     ]
    },
    {
     "name": "stdout",
     "output_type": "stream",
     "text": [
      "YESSSSSS\n",
      "Loading Encode File ...\n",
      "Encode File Loaded\n",
      "YESSSSSS\n",
      "Loading Encode File ...\n",
      "Encode File Loaded\n",
      "YESSSSSS\n",
      "Loading Encode File ...\n",
      "Encode File Loaded\n",
      "YESSSSSS\n",
      "Loading Encode File ...\n",
      "Encode File Loaded\n"
     ]
    },
    {
     "name": "stderr",
     "output_type": "stream",
     "text": [
      "127.0.0.1 - - [23/Nov/2023 12:52:34] \"POST /live HTTP/1.1\" 200 -\n",
      "127.0.0.1 - - [23/Nov/2023 12:52:34] \"POST /live HTTP/1.1\" 200 -\n",
      "127.0.0.1 - - [23/Nov/2023 12:52:34] \"POST /live HTTP/1.1\" 200 -\n",
      "127.0.0.1 - - [23/Nov/2023 12:52:34] \"POST /live HTTP/1.1\" 200 -\n"
     ]
    },
    {
     "name": "stdout",
     "output_type": "stream",
     "text": [
      "YESSSSSS\n",
      "Loading Encode File ...\n",
      "Encode File Loaded\n",
      "YESSSSSS\n",
      "Loading Encode File ...\n",
      "Encode File Loaded\n",
      "YESSSSSS\n",
      "Loading Encode File ...\n",
      "Encode File Loaded\n"
     ]
    },
    {
     "name": "stderr",
     "output_type": "stream",
     "text": [
      "127.0.0.1 - - [23/Nov/2023 12:52:34] \"POST /live HTTP/1.1\" 200 -\n",
      "127.0.0.1 - - [23/Nov/2023 12:52:34] \"POST /live HTTP/1.1\" 200 -\n",
      "127.0.0.1 - - [23/Nov/2023 12:52:34] \"POST /live HTTP/1.1\" 200 -\n"
     ]
    },
    {
     "name": "stdout",
     "output_type": "stream",
     "text": [
      "YESSSSSS\n",
      "Loading Encode File ...\n",
      "Encode File Loaded\n",
      "YESSSSSS\n",
      "Loading Encode File ...\n",
      "Encode File Loaded\n",
      "YESSSSSS\n",
      "Loading Encode File ...\n",
      "Encode File Loaded\n"
     ]
    },
    {
     "name": "stderr",
     "output_type": "stream",
     "text": [
      "127.0.0.1 - - [23/Nov/2023 12:52:34] \"POST /live HTTP/1.1\" 200 -\n",
      "127.0.0.1 - - [23/Nov/2023 12:52:34] \"POST /live HTTP/1.1\" 200 -\n",
      "127.0.0.1 - - [23/Nov/2023 12:52:34] \"POST /live HTTP/1.1\" 200 -\n"
     ]
    },
    {
     "name": "stdout",
     "output_type": "stream",
     "text": [
      "YESSSSSS\n",
      "Loading Encode File ...\n",
      "Encode File Loaded\n",
      "YESSSSSS\n",
      "Loading Encode File ...\n",
      "Encode File Loaded\n",
      "YESSSSSS\n",
      "Loading Encode File ...\n",
      "Encode File Loaded\n",
      "YESSSSSS\n",
      "Loading Encode File ...\n",
      "Encode File Loaded\n"
     ]
    },
    {
     "name": "stderr",
     "output_type": "stream",
     "text": [
      "127.0.0.1 - - [23/Nov/2023 12:52:34] \"POST /live HTTP/1.1\" 200 -\n",
      "127.0.0.1 - - [23/Nov/2023 12:52:34] \"POST /live HTTP/1.1\" 200 -\n",
      "127.0.0.1 - - [23/Nov/2023 12:52:35] \"POST /live HTTP/1.1\" 200 -\n",
      "127.0.0.1 - - [23/Nov/2023 12:52:35] \"POST /live HTTP/1.1\" 200 -\n"
     ]
    },
    {
     "name": "stdout",
     "output_type": "stream",
     "text": [
      "YESSSSSS\n",
      "Loading Encode File ...\n",
      "Encode File Loaded\n",
      "YESSSSSS\n",
      "Loading Encode File ...\n",
      "Encode File Loaded\n",
      "YESSSSSS\n",
      "Loading Encode File ...\n",
      "Encode File Loaded\n",
      "YESSSSSS\n",
      "Loading Encode File ...\n",
      "Encode File Loaded\n"
     ]
    },
    {
     "name": "stderr",
     "output_type": "stream",
     "text": [
      "127.0.0.1 - - [23/Nov/2023 12:52:35] \"POST /live HTTP/1.1\" 200 -\n",
      "127.0.0.1 - - [23/Nov/2023 12:52:35] \"POST /live HTTP/1.1\" 200 -\n",
      "127.0.0.1 - - [23/Nov/2023 12:52:35] \"POST /live HTTP/1.1\" 200 -\n",
      "127.0.0.1 - - [23/Nov/2023 12:52:35] \"POST /live HTTP/1.1\" 200 -\n"
     ]
    },
    {
     "name": "stdout",
     "output_type": "stream",
     "text": [
      "YESSSSSS\n",
      "Loading Encode File ...\n",
      "Encode File Loaded\n",
      "YESSSSSS\n",
      "Loading Encode File ...\n",
      "Encode File Loaded\n",
      "YESSSSSS\n",
      "Loading Encode File ...\n",
      "Encode File Loaded\n",
      "YESSSSSS\n",
      "Loading Encode File ...\n",
      "Encode File Loaded\n"
     ]
    },
    {
     "name": "stderr",
     "output_type": "stream",
     "text": [
      "127.0.0.1 - - [23/Nov/2023 12:52:35] \"POST /live HTTP/1.1\" 200 -\n",
      "127.0.0.1 - - [23/Nov/2023 12:52:35] \"POST /live HTTP/1.1\" 200 -\n",
      "127.0.0.1 - - [23/Nov/2023 12:52:35] \"POST /live HTTP/1.1\" 200 -\n",
      "127.0.0.1 - - [23/Nov/2023 12:52:35] \"POST /live HTTP/1.1\" 200 -\n"
     ]
    },
    {
     "name": "stdout",
     "output_type": "stream",
     "text": [
      "YESSSSSS\n",
      "Loading Encode File ...\n",
      "Encode File Loaded\n",
      "YESSSSSS\n",
      "Loading Encode File ...\n",
      "Encode File Loaded\n",
      "YESSSSSS\n",
      "Loading Encode File ...\n",
      "Encode File Loaded\n",
      "YESSSSSS\n",
      "Loading Encode File ...\n",
      "Encode File Loaded\n"
     ]
    },
    {
     "name": "stderr",
     "output_type": "stream",
     "text": [
      "127.0.0.1 - - [23/Nov/2023 12:52:35] \"POST /live HTTP/1.1\" 200 -\n",
      "127.0.0.1 - - [23/Nov/2023 12:52:35] \"POST /live HTTP/1.1\" 200 -\n"
     ]
    },
    {
     "name": "stdout",
     "output_type": "stream",
     "text": [
      "YESSSSSS\n",
      "Loading Encode File ...\n",
      "Encode File Loaded\n",
      "YESSSSSS\n",
      "Loading Encode File ...\n",
      "Encode File Loaded\n"
     ]
    },
    {
     "name": "stderr",
     "output_type": "stream",
     "text": [
      "127.0.0.1 - - [23/Nov/2023 12:52:36] \"POST /live HTTP/1.1\" 200 -\n",
      "127.0.0.1 - - [23/Nov/2023 12:52:36] \"GET /static/Images/20BCE0785.png HTTP/1.1\" 304 -\n"
     ]
    },
    {
     "name": "stdout",
     "output_type": "stream",
     "text": [
      "Known Face Detected\n",
      "20BCE0785\n",
      "('Ananya Singh', '20BCE0785', 'Computer Science and Engineering', '2023-11-23 12:52:21')\n",
      "('2023-11-23 12:52:21',)\n",
      "YESSSSSS\n",
      "Loading Encode File ...\n",
      "Encode File Loaded\n"
     ]
    },
    {
     "name": "stderr",
     "output_type": "stream",
     "text": [
      "127.0.0.1 - - [23/Nov/2023 12:52:38] \"GET /services.html HTTP/1.1\" 200 -\n",
      "127.0.0.1 - - [23/Nov/2023 12:52:38] \"GET /static/lib/animate/animate.min.css HTTP/1.1\" 304 -\n",
      "127.0.0.1 - - [23/Nov/2023 12:52:38] \"GET /static/lib/owlcarousel/assets/owl.carousel.min.css HTTP/1.1"
     ]
    },
    {
     "name": "stdout",
     "output_type": "stream",
     "text": [
      "Known Face Detected\n",
      "20BCE0785\n"
     ]
    },
    {
     "name": "stderr",
     "output_type": "stream",
     "text": [
      "\" 304 -\n",
      "127.0.0.1 - - [23/Nov/2023 12:52:38] \"GET /static/css/bootstrap.min.css HTTP/1.1\" 304 -\n",
      "127.0.0.1 - - [23/Nov/2023 12:52:38] \"GET /static/css/style.css HTTP/1.1\" 304 -\n",
      "127.0.0.1 - - [23/Nov/2023 12:52:38] \"GET /static/lib/wow/wow.min.js HTTP/1.1\" 304 -\n",
      "127.0.0.1 - - [23/Nov/2023 12:52:38] \"GET /static/lib/easing/easing.min.js HTTP/1.1\" 304 -\n",
      "127.0.0.1 - - [23/Nov/2023 12:52:38] \"GET /static/lib/waypoints/waypoints.min.js HTTP/1.1\" 304 -\n",
      "127.0.0.1 - - [23/Nov/2023 12:52:38] \"GET /static/lib/owlcarousel/owl.carousel.min.js HTTP/1.1\" 304 -\n",
      "127.0.0.1 - - [23/Nov/2023 12:52:38] \"POST /live HTTP/1.1\" 200 -\n",
      "127.0.0.1 - - [23/Nov/2023 12:52:38] \"GET /static/js/main.js HTTP/1.1\" 304 -\n"
     ]
    },
    {
     "name": "stdout",
     "output_type": "stream",
     "text": [
      "('Ananya Singh', '20BCE0785', 'Computer Science and Engineering', '2023-11-23 12:52:21')\n",
      "('2023-11-23 12:52:21',)\n"
     ]
    },
    {
     "name": "stderr",
     "output_type": "stream",
     "text": [
      "127.0.0.1 - - [23/Nov/2023 12:52:45] \"GET /static/att.xlsx HTTP/1.1\" 200 -\n",
      "127.0.0.1 - - [23/Nov/2023 12:53:24] \"GET /index.html HTTP/1.1\" 200 -\n",
      "127.0.0.1 - - [23/Nov/2023 12:53:24] \"GET /static/lib/animate/animate.min.css HTTP/1.1\" 304 -\n",
      "127.0.0.1 - - [23/Nov/2023 12:53:24] \"GET /static/lib/owlcarousel/assets/owl.carousel.min.css HTTP/1.1\" 304 -\n",
      "127.0.0.1 - - [23/Nov/2023 12:53:24] \"GET /static/css/bootstrap.min.css HTTP/1.1\" 304 -\n",
      "127.0.0.1 - - [23/Nov/2023 12:53:24] \"GET /static/css/style.css HTTP/1.1\" 304 -\n",
      "127.0.0.1 - - [23/Nov/2023 12:53:24] \"GET /static/img/carousel-1.jpg HTTP/1.1\" 304 -\n",
      "127.0.0.1 - - [23/Nov/2023 12:53:24] \"GET /static/img/carousel-2.jpg HTTP/1.1\" 304 -\n",
      "127.0.0.1 - - [23/Nov/2023 12:53:24] \"GET /static/img/face.png HTTP/1.1\" 304 -\n",
      "127.0.0.1 - - [23/Nov/2023 12:53:24] \"GET /static/img/ananya.jpg HTTP/1.1\" 304 -\n",
      "127.0.0.1 - - [23/Nov/2023 12:53:24] \"GET /static/img/testimonial-1.jpg HTTP/1.1\" 304 -\n",
      "127.0.0.1 - - [23/Nov/2023 12:53:24] \"GET /static/lib/wow/wow.min.js HTTP/1.1\" 304 -\n",
      "127.0.0.1 - - [23/Nov/2023 12:53:24] \"GET /static/lib/easing/easing.min.js HTTP/1.1\" 304 -\n",
      "127.0.0.1 - - [23/Nov/2023 12:53:24] \"GET /static/lib/waypoints/waypoints.min.js HTTP/1.1\" 304 -\n",
      "127.0.0.1 - - [23/Nov/2023 12:53:24] \"GET /static/lib/owlcarousel/owl.carousel.min.js HTTP/1.1\" 304 -\n",
      "127.0.0.1 - - [23/Nov/2023 12:53:24] \"GET /static/js/main.js HTTP/1.1\" 304 -\n",
      "127.0.0.1 - - [23/Nov/2023 12:53:24] \"GET /static/img/testimonial-2.jpg HTTP/1.1\" 304 -\n",
      "127.0.0.1 - - [23/Nov/2023 12:53:24] \"GET /static/img/testimonial-3.jpg HTTP/1.1\" 304 -\n",
      "127.0.0.1 - - [23/Nov/2023 12:53:24] \"GET /static/img/testimonial-4.jpg HTTP/1.1\" 304 -\n",
      "127.0.0.1 - - [23/Nov/2023 12:53:39] \"GET /services.html HTTP/1.1\" 200 -\n",
      "127.0.0.1 - - [23/Nov/2023 12:53:39] \"GET /static/lib/animate/animate.min.css HTTP/1.1\" 304 -\n",
      "127.0.0.1 - - [23/Nov/2023 12:53:39] \"GET /static/lib/owlcarousel/assets/owl.carousel.min.css HTTP/1.1\" 304 -\n",
      "127.0.0.1 - - [23/Nov/2023 12:53:39] \"GET /static/css/bootstrap.min.css HTTP/1.1\" 304 -\n",
      "127.0.0.1 - - [23/Nov/2023 12:53:39] \"GET /static/css/style.css HTTP/1.1\" 304 -\n",
      "127.0.0.1 - - [23/Nov/2023 12:53:39] \"GET /static/lib/easing/easing.min.js HTTP/1.1\" 304 -\n",
      "127.0.0.1 - - [23/Nov/2023 12:53:39] \"GET /static/lib/wow/wow.min.js HTTP/1.1\" 304 -\n",
      "127.0.0.1 - - [23/Nov/2023 12:53:39] \"GET /static/lib/waypoints/waypoints.min.js HTTP/1.1\" 304 -\n",
      "127.0.0.1 - - [23/Nov/2023 12:53:39] \"GET /static/lib/owlcarousel/owl.carousel.min.js HTTP/1.1\" 304 -\n",
      "127.0.0.1 - - [23/Nov/2023 12:53:39] \"GET /static/js/main.js HTTP/1.1\" 304 -\n",
      "127.0.0.1 - - [23/Nov/2023 12:53:43] \"GET /liveatt.html HTTP/1.1\" 200 -\n",
      "127.0.0.1 - - [23/Nov/2023 12:53:43] \"GET /static/lib/animate/animate.min.css HTTP/1.1\" 304 -\n",
      "127.0.0.1 - - [23/Nov/2023 12:53:43] \"GET /static/lib/owlcarousel/assets/owl.carousel.min.css HTTP/1.1\" 304 -\n",
      "127.0.0.1 - - [23/Nov/2023 12:53:43] \"GET /static/css/bootstrap.min.css HTTP/1.1\" 304 -\n",
      "127.0.0.1 - - [23/Nov/2023 12:53:43] \"GET /static/css/style.css HTTP/1.1\" 304 -\n",
      "127.0.0.1 - - [23/Nov/2023 12:53:43] \"GET /static/lib/wow/wow.min.js HTTP/1.1\" 304 -\n",
      "127.0.0.1 - - [23/Nov/2023 12:53:43] \"GET /static/lib/easing/easing.min.js HTTP/1.1\" 304 -\n",
      "127.0.0.1 - - [23/Nov/2023 12:53:43] \"GET /static/lib/waypoints/waypoints.min.js HTTP/1.1\" 304 -\n",
      "127.0.0.1 - - [23/Nov/2023 12:53:43] \"GET /static/lib/owlcarousel/owl.carousel.min.js HTTP/1.1\" 304 -\n",
      "127.0.0.1 - - [23/Nov/2023 12:53:43] \"GET /static/js/main.js HTTP/1.1\" 304 -\n"
     ]
    },
    {
     "name": "stdout",
     "output_type": "stream",
     "text": [
      "YESSSSSS\n",
      "Loading Encode File ...\n",
      "Encode File Loaded\n"
     ]
    },
    {
     "name": "stderr",
     "output_type": "stream",
     "text": [
      "127.0.0.1 - - [23/Nov/2023 12:53:46] \"POST /live HTTP/1.1\" 200 -\n",
      "127.0.0.1 - - [23/Nov/2023 12:53:46] \"GET /static/Images/20BCE0785.png HTTP/1.1\" 304 -\n"
     ]
    },
    {
     "name": "stdout",
     "output_type": "stream",
     "text": [
      "Known Face Detected\n",
      "20BCE0785\n",
      "('Ananya Singh', '20BCE0785', 'Computer Science and Engineering', '2023-11-23 12:52:21')\n",
      "('2023-11-23 12:52:21',)\n",
      "YESSSSSS\n",
      "Loading Encode File ...\n",
      "Encode File Loaded\n"
     ]
    },
    {
     "name": "stderr",
     "output_type": "stream",
     "text": [
      "127.0.0.1 - - [23/Nov/2023 12:53:47] \"POST /live HTTP/1.1\" 200 -\n"
     ]
    },
    {
     "name": "stdout",
     "output_type": "stream",
     "text": [
      "Known Face Detected\n",
      "20BCE0785\n",
      "('Ananya Singh', '20BCE0785', 'Computer Science and Engineering', '2023-11-23 12:53:46')\n",
      "('2023-11-23 12:53:46',)\n",
      "YESSSSSS\n",
      "Loading Encode File ...\n",
      "Encode File Loaded\n"
     ]
    },
    {
     "name": "stderr",
     "output_type": "stream",
     "text": [
      "127.0.0.1 - - [23/Nov/2023 12:53:48] \"POST /live HTTP/1.1\" 200 -\n",
      "127.0.0.1 - - [23/Nov/2023 12:53:48] \"GET /static/Images/20bkt0003.png HTTP/1.1\" 304 -\n"
     ]
    },
    {
     "name": "stdout",
     "output_type": "stream",
     "text": [
      "Known Face Detected\n",
      "20bkt0003\n",
      "('riya sailesh', '20bkt0003', ' cse with blockchain', '2023-11-23 10:16:22')\n",
      "('2023-11-23 10:16:22',)\n",
      "YESSSSSS\n",
      "Loading Encode File ...\n",
      "Encode File Loaded\n"
     ]
    },
    {
     "name": "stderr",
     "output_type": "stream",
     "text": [
      "127.0.0.1 - - [23/Nov/2023 12:53:50] \"POST /live HTTP/1.1\" 200 -\n"
     ]
    },
    {
     "name": "stdout",
     "output_type": "stream",
     "text": [
      "Known Face Detected\n",
      "20BCE0785\n",
      "('Ananya Singh', '20BCE0785', 'Computer Science and Engineering', '2023-11-23 12:53:46')\n",
      "('2023-11-23 12:53:46',)\n",
      "YESSSSSS\n",
      "Loading Encode File ...\n",
      "Encode File Loaded\n"
     ]
    },
    {
     "name": "stderr",
     "output_type": "stream",
     "text": [
      "127.0.0.1 - - [23/Nov/2023 12:53:51] \"POST /live HTTP/1.1\" 200 -\n"
     ]
    },
    {
     "name": "stdout",
     "output_type": "stream",
     "text": [
      "Known Face Detected\n",
      "20BCE0785\n",
      "('Ananya Singh', '20BCE0785', 'Computer Science and Engineering', '2023-11-23 12:53:46')\n",
      "('2023-11-23 12:53:46',)\n",
      "YESSSSSS\n",
      "Loading Encode File ...\n",
      "Encode File Loaded\n"
     ]
    },
    {
     "name": "stderr",
     "output_type": "stream",
     "text": [
      "127.0.0.1 - - [23/Nov/2023 12:53:52] \"POST /live HTTP/1.1\" 200 -\n"
     ]
    },
    {
     "name": "stdout",
     "output_type": "stream",
     "text": [
      "Known Face Detected\n",
      "20BCE0785\n",
      "('Ananya Singh', '20BCE0785', 'Computer Science and Engineering', '2023-11-23 12:53:46')\n",
      "('2023-11-23 12:53:46',)\n",
      "YESSSSSS\n",
      "Loading Encode File ...\n",
      "Encode File Loaded\n"
     ]
    },
    {
     "name": "stderr",
     "output_type": "stream",
     "text": [
      "127.0.0.1 - - [23/Nov/2023 12:53:53] \"GET /services.html HTTP/1.1\" 200 -\n",
      "127.0.0.1 - - [23/Nov/2023 12:53:53] \"GET /static/lib/animate/animate.min.css HTTP/1.1\" 304 -\n",
      "127.0.0.1 - - [23/Nov/2023 12:53:53] \"GET /static/lib/owlcarousel/assets/owl.carousel.min.css HTTP/1.1\" 304 -\n",
      "127.0.0.1 - - [23/Nov/2023 12:53:53] \"GET /static/css/bootstrap.min.css HTTP/1.1\" 304 -\n",
      "127.0.0.1 - - [23/Nov/2023 12:53:53] \"GET /static/css/style.css HTTP/1.1\" 304 -\n",
      "127.0.0.1 - - [23/Nov/2023 12:53:53] \"GET /static/lib/wow/wow.min.js HTTP/1.1\" 304 -\n",
      "127.0.0.1 - - [23/Nov/2023 12:53:53] \""
     ]
    },
    {
     "name": "stdout",
     "output_type": "stream",
     "text": [
      "Known Face Detected\n",
      "20BCE0785\n"
     ]
    },
    {
     "name": "stderr",
     "output_type": "stream",
     "text": [
      "GET /static/lib/easing/easing.min.js HTTP/1.1\" 304 -\n",
      "127.0.0.1 - - [23/Nov/2023 12:53:53] \"GET /static/lib/waypoints/waypoints.min.js HTTP/1.1\" 304 -\n",
      "127.0.0.1 - - [23/Nov/2023 12:53:53] \"GET /static/lib/owlcarousel/owl.carousel.min.js HTTP/1.1\" 304 -\n",
      "127.0.0.1 - - [23/Nov/2023 12:53:53] \"GET /static/js/main.js HTTP/1.1\" 304 -\n",
      "127.0.0.1 - - [23/Nov/2023 12:53:53] \"POST /live HTTP/1.1\" 200 -\n"
     ]
    },
    {
     "name": "stdout",
     "output_type": "stream",
     "text": [
      "('Ananya Singh', '20BCE0785', 'Computer Science and Engineering', '2023-11-23 12:53:46')\n",
      "('2023-11-23 12:53:46',)\n"
     ]
    },
    {
     "name": "stderr",
     "output_type": "stream",
     "text": [
      "127.0.0.1 - - [23/Nov/2023 12:53:55] \"GET /static/att.xlsx HTTP/1.1\" 200 -\n",
      "127.0.0.1 - - [23/Nov/2023 12:56:24] \"GET /liveatt.html HTTP/1.1\" 200 -\n",
      "127.0.0.1 - - [23/Nov/2023 12:56:24] \"GET /static/lib/animate/animate.min.css HTTP/1.1\" 304 -\n",
      "127.0.0.1 - - [23/Nov/2023 12:56:24] \"GET /static/lib/owlcarousel/assets/owl.carousel.min.css HTTP/1.1\" 304 -\n",
      "127.0.0.1 - - [23/Nov/2023 12:56:24] \"GET /static/css/bootstrap.min.css HTTP/1.1\" 304 -\n",
      "127.0.0.1 - - [23/Nov/2023 12:56:24] \"GET /static/css/style.css HTTP/1.1\" 304 -\n",
      "127.0.0.1 - - [23/Nov/2023 12:56:24] \"GET /static/lib/wow/wow.min.js HTTP/1.1\" 304 -\n",
      "127.0.0.1 - - [23/Nov/2023 12:56:24] \"GET /static/lib/easing/easing.min.js HTTP/1.1\" 304 -\n",
      "127.0.0.1 - - [23/Nov/2023 12:56:24] \"GET /static/lib/waypoints/waypoints.min.js HTTP/1.1\" 304 -\n",
      "127.0.0.1 - - [23/Nov/2023 12:56:24] \"GET /static/lib/owlcarousel/owl.carousel.min.js HTTP/1.1\" 304 -\n",
      "127.0.0.1 - - [23/Nov/2023 12:56:24] \"GET /static/js/main.js HTTP/1.1\" 304 -\n"
     ]
    },
    {
     "name": "stdout",
     "output_type": "stream",
     "text": [
      "YESSSSSS\n",
      "Loading Encode File ...\n",
      "Encode File Loaded\n"
     ]
    },
    {
     "name": "stderr",
     "output_type": "stream",
     "text": [
      "127.0.0.1 - - [23/Nov/2023 12:56:26] \"POST /live HTTP/1.1\" 200 -\n",
      "127.0.0.1 - - [23/Nov/2023 12:56:26] \"GET /static/Images/20BCE0785.png HTTP/1.1\" 304 -\n"
     ]
    },
    {
     "name": "stdout",
     "output_type": "stream",
     "text": [
      "Known Face Detected\n",
      "20BCE0785\n",
      "('Ananya Singh', '20BCE0785', 'Computer Science and Engineering', '2023-11-23 12:53:46')\n",
      "('2023-11-23 12:53:46',)\n",
      "YESSSSSS\n",
      "Loading Encode File ...\n",
      "Encode File Loaded\n"
     ]
    },
    {
     "name": "stderr",
     "output_type": "stream",
     "text": [
      "127.0.0.1 - - [23/Nov/2023 12:56:27] \"POST /live HTTP/1.1\" 200 -\n"
     ]
    },
    {
     "name": "stdout",
     "output_type": "stream",
     "text": [
      "Known Face Detected\n",
      "20BCE0785\n",
      "('Ananya Singh', '20BCE0785', 'Computer Science and Engineering', '2023-11-23 12:56:26')\n",
      "('2023-11-23 12:56:26',)\n",
      "YESSSSSS\n",
      "Loading Encode File ...\n",
      "Encode File Loaded\n"
     ]
    },
    {
     "name": "stderr",
     "output_type": "stream",
     "text": [
      "127.0.0.1 - - [23/Nov/2023 12:56:28] \"POST /live HTTP/1.1\" 200 -\n"
     ]
    },
    {
     "name": "stdout",
     "output_type": "stream",
     "text": [
      "Known Face Detected\n",
      "20BCE0785\n",
      "('Ananya Singh', '20BCE0785', 'Computer Science and Engineering', '2023-11-23 12:56:26')\n",
      "('2023-11-23 12:56:26',)\n",
      "YESSSSSS\n",
      "Loading Encode File ...\n",
      "Encode File Loaded\n"
     ]
    },
    {
     "name": "stderr",
     "output_type": "stream",
     "text": [
      "127.0.0.1 - - [23/Nov/2023 12:56:29] \"POST /live HTTP/1.1\" 200 -\n"
     ]
    },
    {
     "name": "stdout",
     "output_type": "stream",
     "text": [
      "Known Face Detected\n",
      "20BCE0785\n",
      "('Ananya Singh', '20BCE0785', 'Computer Science and Engineering', '2023-11-23 12:56:26')\n",
      "('2023-11-23 12:56:26',)\n",
      "YESSSSSS\n",
      "Loading Encode File ...\n",
      "Encode File Loaded\n"
     ]
    },
    {
     "name": "stderr",
     "output_type": "stream",
     "text": [
      "127.0.0.1 - - [23/Nov/2023 12:56:30] \"POST /live HTTP/1.1\" 200 -\n"
     ]
    },
    {
     "name": "stdout",
     "output_type": "stream",
     "text": [
      "Known Face Detected\n",
      "20BCE0785\n",
      "('Ananya Singh', '20BCE0785', 'Computer Science and Engineering', '2023-11-23 12:56:26')\n",
      "('2023-11-23 12:56:26',)\n",
      "YESSSSSS\n",
      "Loading Encode File ...\n",
      "Encode File Loaded\n"
     ]
    },
    {
     "name": "stderr",
     "output_type": "stream",
     "text": [
      "127.0.0.1 - - [23/Nov/2023 12:56:32] \"GET /contact.html HTTP/1.1\" 200 -\n",
      "127.0.0.1 - - [23/Nov/2023 12:56:32] \"GET /static/lib/owlcarousel/assets/owl.carousel.min.css HTTP/1.1\" 304 -\n",
      "127.0.0.1 - - [23/Nov/2023 12:56:32] \"GET /static/lib/animate/animate.min.css HTTP/1.1\" 304 -\n",
      "127.0.0.1 - - [23/Nov/2023 12:56:32] \"GET /static/css/bootstrap.min.css HTTP/1.1\" 304 -\n",
      "127.0.0.1 - - [23/Nov/2023 12:56:32] \"GET /static/css/style.css HTTP/1.1\" 304 -\n"
     ]
    },
    {
     "name": "stdout",
     "output_type": "stream",
     "text": [
      "Known Face Detected\n",
      "20BCE0785\n",
      "('Ananya Singh', '20BCE0785', 'Computer Science and Engineering', '2023-11-23 12:56:26')\n",
      "('2023-11-23 12:56:26',)\n"
     ]
    },
    {
     "name": "stderr",
     "output_type": "stream",
     "text": [
      "127.0.0.1 - - [23/Nov/2023 12:56:32] \"GET /static/lib/wow/wow.min.js HTTP/1.1\" 304 -\n",
      "127.0.0.1 - - [23/Nov/2023 12:56:32] \"GET /static/lib/easing/easing.min.js HTTP/1.1\" 304 -\n",
      "127.0.0.1 - - [23/Nov/2023 12:56:32] \"GET /static/lib/waypoints/waypoints.min.js HTTP/1.1\" 304 -\n",
      "127.0.0.1 - - [23/Nov/2023 12:56:32] \"POST /live HTTP/1.1\" 200 -\n",
      "127.0.0.1 - - [23/Nov/2023 12:56:32] \"GET /static/lib/owlcarousel/owl.carousel.min.js HTTP/1.1\" 304 -\n",
      "127.0.0.1 - - [23/Nov/2023 12:56:32] \"GET /static/js/main.js HTTP/1.1\" 304 -\n",
      "127.0.0.1 - - [23/Nov/2023 12:56:34] \"GET /services.html HTTP/1.1\" 200 -\n",
      "127.0.0.1 - - [23/Nov/2023 12:56:34] \"GET /static/lib/animate/animate.min.css HTTP/1.1\" 304 -\n",
      "127.0.0.1 - - [23/Nov/2023 12:56:34] \"GET /static/css/bootstrap.min.css HTTP/1.1\" 304 -\n",
      "127.0.0.1 - - [23/Nov/2023 12:56:34] \"GET /static/lib/owlcarousel/assets/owl.carousel.min.css HTTP/1.1\" 304 -\n",
      "127.0.0.1 - - [23/Nov/2023 12:56:34] \"GET /static/css/style.css HTTP/1.1\" 304 -\n",
      "127.0.0.1 - - [23/Nov/2023 12:56:34] \"GET /static/lib/wow/wow.min.js HTTP/1.1\" 304 -\n",
      "127.0.0.1 - - [23/Nov/2023 12:56:34] \"GET /static/lib/easing/easing.min.js HTTP/1.1\" 304 -\n",
      "127.0.0.1 - - [23/Nov/2023 12:56:34] \"GET /static/lib/waypoints/waypoints.min.js HTTP/1.1\" 304 -\n",
      "127.0.0.1 - - [23/Nov/2023 12:56:34] \"GET /static/lib/owlcarousel/owl.carousel.min.js HTTP/1.1\" 304 -\n",
      "127.0.0.1 - - [23/Nov/2023 12:56:34] \"GET /static/js/main.js HTTP/1.1\" 304 -\n",
      "127.0.0.1 - - [23/Nov/2023 12:56:36] \"GET /static/att.xlsx HTTP/1.1\" 200 -\n",
      "127.0.0.1 - - [23/Nov/2023 12:57:33] \"GET /liveatt.html HTTP/1.1\" 200 -\n",
      "127.0.0.1 - - [23/Nov/2023 12:57:33] \"GET /static/lib/animate/animate.min.css HTTP/1.1\" 304 -\n",
      "127.0.0.1 - - [23/Nov/2023 12:57:33] \"GET /static/lib/owlcarousel/assets/owl.carousel.min.css HTTP/1.1\" 304 -\n",
      "127.0.0.1 - - [23/Nov/2023 12:57:33] \"GET /static/css/bootstrap.min.css HTTP/1.1\" 304 -\n",
      "127.0.0.1 - - [23/Nov/2023 12:57:33] \"GET /static/css/style.css HTTP/1.1\" 304 -\n",
      "127.0.0.1 - - [23/Nov/2023 12:57:33] \"GET /static/lib/wow/wow.min.js HTTP/1.1\" 304 -\n",
      "127.0.0.1 - - [23/Nov/2023 12:57:33] \"GET /static/lib/easing/easing.min.js HTTP/1.1\" 304 -\n",
      "127.0.0.1 - - [23/Nov/2023 12:57:33] \"GET /static/lib/waypoints/waypoints.min.js HTTP/1.1\" 304 -\n",
      "127.0.0.1 - - [23/Nov/2023 12:57:33] \"GET /static/lib/owlcarousel/owl.carousel.min.js HTTP/1.1\" 304 -\n",
      "127.0.0.1 - - [23/Nov/2023 12:57:33] \"GET /static/js/main.js HTTP/1.1\" 304 -\n"
     ]
    },
    {
     "name": "stdout",
     "output_type": "stream",
     "text": [
      "YESSSSSS\n",
      "Loading Encode File ...\n",
      "Encode File Loaded\n"
     ]
    },
    {
     "name": "stderr",
     "output_type": "stream",
     "text": [
      "127.0.0.1 - - [23/Nov/2023 12:57:35] \"POST /live HTTP/1.1\" 200 -\n",
      "127.0.0.1 - - [23/Nov/2023 12:57:35] \"GET /static/Images/20BCE0785.png HTTP/1.1\" 304 -\n"
     ]
    },
    {
     "name": "stdout",
     "output_type": "stream",
     "text": [
      "Known Face Detected\n",
      "20BCE0785\n",
      "('Ananya Singh', '20BCE0785', 'Computer Science and Engineering', '2023-11-23 12:56:26')\n",
      "('2023-11-23 12:56:26',)\n",
      "YESSSSSS\n",
      "Loading Encode File ...\n",
      "Encode File Loaded\n"
     ]
    },
    {
     "name": "stderr",
     "output_type": "stream",
     "text": [
      "127.0.0.1 - - [23/Nov/2023 12:57:36] \"POST /live HTTP/1.1\" 200 -\n"
     ]
    },
    {
     "name": "stdout",
     "output_type": "stream",
     "text": [
      "Known Face Detected\n",
      "20BCE0785\n",
      "('Ananya Singh', '20BCE0785', 'Computer Science and Engineering', '2023-11-23 12:57:35')\n",
      "('2023-11-23 12:57:35',)\n",
      "YESSSSSS\n",
      "Loading Encode File ...\n",
      "Encode File Loaded\n"
     ]
    },
    {
     "name": "stderr",
     "output_type": "stream",
     "text": [
      "127.0.0.1 - - [23/Nov/2023 12:57:37] \"POST /live HTTP/1.1\" 200 -\n",
      "127.0.0.1 - - [23/Nov/2023 12:57:37] \"POST /live HTTP/1.1\" 200 -\n"
     ]
    },
    {
     "name": "stdout",
     "output_type": "stream",
     "text": [
      "Known Face Detected\n",
      "20BCE0785\n",
      "('Ananya Singh', '20BCE0785', 'Computer Science and Engineering', '2023-11-23 12:57:35')\n",
      "('2023-11-23 12:57:35',)\n",
      "YESSSSSS\n",
      "Loading Encode File ...\n",
      "Encode File Loaded\n",
      "YESSSSSS\n",
      "Loading Encode File ...\n",
      "Encode File Loaded\n"
     ]
    },
    {
     "name": "stderr",
     "output_type": "stream",
     "text": [
      "127.0.0.1 - - [23/Nov/2023 12:57:37] \"POST /live HTTP/1.1\" 200 -\n",
      "127.0.0.1 - - [23/Nov/2023 12:57:37] \"POST /live HTTP/1.1\" 200 -\n",
      "127.0.0.1 - - [23/Nov/2023 12:57:37] \"POST /live HTTP/1.1\" 200 -\n",
      "127.0.0.1 - - [23/Nov/2023 12:57:38] \"POST /live HTTP/1.1\" 200 -\n"
     ]
    },
    {
     "name": "stdout",
     "output_type": "stream",
     "text": [
      "YESSSSSS\n",
      "Loading Encode File ...\n",
      "Encode File Loaded\n",
      "YESSSSSS\n",
      "Loading Encode File ...\n",
      "Encode File Loaded\n",
      "YESSSSSS\n",
      "Loading Encode File ...\n",
      "Encode File Loaded\n"
     ]
    },
    {
     "name": "stderr",
     "output_type": "stream",
     "text": [
      "127.0.0.1 - - [23/Nov/2023 12:57:38] \"POST /live HTTP/1.1\" 200 -\n",
      "127.0.0.1 - - [23/Nov/2023 12:57:38] \"POST /live HTTP/1.1\" 200 -\n",
      "127.0.0.1 - - [23/Nov/2023 12:57:38] \"POST /live HTTP/1.1\" 200 -\n"
     ]
    },
    {
     "name": "stdout",
     "output_type": "stream",
     "text": [
      "YESSSSSS\n",
      "Loading Encode File ...\n",
      "Encode File Loaded\n",
      "YESSSSSS\n",
      "Loading Encode File ...\n",
      "Encode File Loaded\n",
      "YESSSSSS\n",
      "Loading Encode File ...\n",
      "Encode File Loaded\n",
      "YESSSSSS\n",
      "Loading Encode File ...\n",
      "Encode File Loaded\n"
     ]
    },
    {
     "name": "stderr",
     "output_type": "stream",
     "text": [
      "127.0.0.1 - - [23/Nov/2023 12:57:38] \"POST /live HTTP/1.1\" 200 -\n",
      "127.0.0.1 - - [23/Nov/2023 12:57:38] \"POST /live HTTP/1.1\" 200 -\n"
     ]
    },
    {
     "name": "stdout",
     "output_type": "stream",
     "text": [
      "YESSSSSS\n",
      "Loading Encode File ...\n",
      "Encode File Loaded\n",
      "YESSSSSS\n",
      "Loading Encode File ...\n",
      "Encode File Loaded\n"
     ]
    },
    {
     "name": "stderr",
     "output_type": "stream",
     "text": [
      "127.0.0.1 - - [23/Nov/2023 12:57:39] \"POST /live HTTP/1.1\" 200 -\n",
      "127.0.0.1 - - [23/Nov/2023 12:57:39] \"POST /live HTTP/1.1\" 200 -\n"
     ]
    },
    {
     "name": "stdout",
     "output_type": "stream",
     "text": [
      "Known Face Detected\n",
      "20BCE0785\n",
      "('Ananya Singh', '20BCE0785', 'Computer Science and Engineering', '2023-11-23 12:57:35')\n",
      "('2023-11-23 12:57:35',)\n",
      "YESSSSSS\n",
      "Loading Encode File ...\n",
      "Encode File Loaded\n",
      "YESSSSSS\n",
      "Loading Encode File ...\n",
      "Encode File Loaded\n"
     ]
    },
    {
     "name": "stderr",
     "output_type": "stream",
     "text": [
      "127.0.0.1 - - [23/Nov/2023 12:57:39] \"POST /live HTTP/1.1\" 200 -\n",
      "127.0.0.1 - - [23/Nov/2023 12:57:39] \"POST /live HTTP/1.1\" 200 -\n",
      "127.0.0.1 - - [23/Nov/2023 12:57:39] \"POST /live HTTP/1.1\" 200 -\n",
      "127.0.0.1 - - [23/Nov/2023 12:57:39] \"POST /live HTTP/1.1\" 200 -\n"
     ]
    },
    {
     "name": "stdout",
     "output_type": "stream",
     "text": [
      "YESSSSSS\n",
      "Loading Encode File ...\n",
      "Encode File Loaded\n",
      "YESSSSSS\n",
      "Loading Encode File ...\n",
      "Encode File Loaded\n",
      "YESSSSSS\n",
      "Loading Encode File ...\n",
      "Encode File Loaded\n",
      "YESSSSSS\n",
      "Loading Encode File ...\n",
      "Encode File Loaded\n"
     ]
    },
    {
     "name": "stderr",
     "output_type": "stream",
     "text": [
      "127.0.0.1 - - [23/Nov/2023 12:57:39] \"POST /live HTTP/1.1\" 200 -\n",
      "127.0.0.1 - - [23/Nov/2023 12:57:39] \"POST /live HTTP/1.1\" 200 -\n",
      "127.0.0.1 - - [23/Nov/2023 12:57:39] \"POST /live HTTP/1.1\" 200 -\n",
      "127.0.0.1 - - [23/Nov/2023 12:57:40] \"POST /live HTTP/1.1\" 200 -\n"
     ]
    },
    {
     "name": "stdout",
     "output_type": "stream",
     "text": [
      "YESSSSSS\n",
      "Loading Encode File ...\n",
      "Encode File Loaded\n",
      "YESSSSSS\n",
      "Loading Encode File ...\n",
      "Encode File Loaded\n",
      "YESSSSSS\n",
      "Loading Encode File ...\n",
      "Encode File Loaded\n",
      "YESSSSSS\n",
      "Loading Encode File ...\n",
      "Encode File Loaded\n"
     ]
    },
    {
     "name": "stderr",
     "output_type": "stream",
     "text": [
      "127.0.0.1 - - [23/Nov/2023 12:57:40] \"POST /live HTTP/1.1\" 200 -\n",
      "127.0.0.1 - - [23/Nov/2023 12:57:40] \"POST /live HTTP/1.1\" 200 -\n",
      "127.0.0.1 - - [23/Nov/2023 12:57:40] \"POST /live HTTP/1.1\" 200 -\n",
      "127.0.0.1 - - [23/Nov/2023 12:57:40] \"POST /live HTTP/1.1\" 200 -\n"
     ]
    },
    {
     "name": "stdout",
     "output_type": "stream",
     "text": [
      "YESSSSSS\n",
      "Loading Encode File ...\n",
      "Encode File Loaded\n",
      "YESSSSSS\n",
      "Loading Encode File ...\n",
      "Encode File Loaded\n",
      "YESSSSSS\n",
      "Loading Encode File ...\n",
      "Encode File Loaded\n",
      "YESSSSSS\n",
      "Loading Encode File ...\n",
      "Encode File Loaded\n"
     ]
    },
    {
     "name": "stderr",
     "output_type": "stream",
     "text": [
      "127.0.0.1 - - [23/Nov/2023 12:57:40] \"POST /live HTTP/1.1\" 200 -\n"
     ]
    },
    {
     "name": "stdout",
     "output_type": "stream",
     "text": [
      "YESSSSSS\n",
      "Loading Encode File ...\n",
      "Encode File Loaded\n"
     ]
    },
    {
     "name": "stderr",
     "output_type": "stream",
     "text": [
      "127.0.0.1 - - [23/Nov/2023 12:57:41] \"POST /live HTTP/1.1\" 200 -\n",
      "127.0.0.1 - - [23/Nov/2023 12:57:41] \"POST /live HTTP/1.1\" 200 -\n"
     ]
    },
    {
     "name": "stdout",
     "output_type": "stream",
     "text": [
      "Known Face Detected\n",
      "20BCE0785\n",
      "('Ananya Singh', '20BCE0785', 'Computer Science and Engineering', '2023-11-23 12:57:35')\n",
      "('2023-11-23 12:57:35',)\n",
      "YESSSSSS\n",
      "Loading Encode File ...\n",
      "Encode File Loaded\n",
      "YESSSSSS\n",
      "Loading Encode File ...\n",
      "Encode File Loaded\n"
     ]
    },
    {
     "name": "stderr",
     "output_type": "stream",
     "text": [
      "127.0.0.1 - - [23/Nov/2023 12:57:41] \"POST /live HTTP/1.1\" 200 -\n",
      "127.0.0.1 - - [23/Nov/2023 12:57:41] \"POST /live HTTP/1.1\" 200 -\n",
      "127.0.0.1 - - [23/Nov/2023 12:57:41] \"POST /live HTTP/1.1\" 200 -\n",
      "127.0.0.1 - - [23/Nov/2023 12:57:41] \"POST /live HTTP/1.1\" 200 -\n"
     ]
    },
    {
     "name": "stdout",
     "output_type": "stream",
     "text": [
      "YESSSSSS\n",
      "Loading Encode File ...\n",
      "Encode File Loaded\n",
      "YESSSSSS\n",
      "Loading Encode File ...\n",
      "Encode File Loaded\n",
      "YESSSSSS\n",
      "Loading Encode File ...\n",
      "Encode File Loaded\n"
     ]
    },
    {
     "name": "stderr",
     "output_type": "stream",
     "text": [
      "127.0.0.1 - - [23/Nov/2023 12:57:41] \"POST /live HTTP/1.1\" 200 -\n",
      "127.0.0.1 - - [23/Nov/2023 12:57:41] \"POST /live HTTP/1.1\" 200 -\n",
      "127.0.0.1 - - [23/Nov/2023 12:57:42] \"POST /live HTTP/1.1\" 200 -\n"
     ]
    },
    {
     "name": "stdout",
     "output_type": "stream",
     "text": [
      "YESSSSSS\n",
      "Loading Encode File ...\n",
      "Encode File Loaded\n",
      "YESSSSSS\n",
      "Loading Encode File ...\n",
      "Encode File Loaded\n",
      "YESSSSSS\n",
      "Loading Encode File ...\n",
      "Encode File Loaded\n",
      "YESSSSSS\n",
      "Loading Encode File ...\n",
      "Encode File Loaded\n"
     ]
    },
    {
     "name": "stderr",
     "output_type": "stream",
     "text": [
      "127.0.0.1 - - [23/Nov/2023 12:57:42] \"POST /live HTTP/1.1\" 200 -\n",
      "127.0.0.1 - - [23/Nov/2023 12:57:42] \"POST /live HTTP/1.1\" 200 -\n",
      "127.0.0.1 - - [23/Nov/2023 12:57:42] \"POST /live HTTP/1.1\" 200 -\n",
      "127.0.0.1 - - [23/Nov/2023 12:57:42] \"POST /live HTTP/1.1\" 200 -\n"
     ]
    },
    {
     "name": "stdout",
     "output_type": "stream",
     "text": [
      "YESSSSSS\n",
      "Loading Encode File ...\n",
      "Encode File Loaded\n",
      "YESSSSSS\n",
      "Loading Encode File ...\n",
      "Encode File Loaded\n",
      "YESSSSSS\n",
      "Loading Encode File ...\n",
      "Encode File Loaded\n",
      "YESSSSSS\n",
      "Loading Encode File ...\n",
      "Encode File Loaded\n"
     ]
    },
    {
     "name": "stderr",
     "output_type": "stream",
     "text": [
      "127.0.0.1 - - [23/Nov/2023 12:57:42] \"POST /live HTTP/1.1\" 200 -\n",
      "127.0.0.1 - - [23/Nov/2023 12:57:42] \"POST /live HTTP/1.1\" 200 -\n",
      "127.0.0.1 - - [23/Nov/2023 12:57:42] \"POST /live HTTP/1.1\" 200 -\n",
      "127.0.0.1 - - [23/Nov/2023 12:57:42] \"POST /live HTTP/1.1\" 200 -\n"
     ]
    },
    {
     "name": "stdout",
     "output_type": "stream",
     "text": [
      "YESSSSSS\n",
      "Loading Encode File ...\n",
      "Encode File Loaded\n",
      "YESSSSSS\n",
      "Loading Encode File ...\n",
      "Encode File Loaded\n",
      "YESSSSSS\n",
      "Loading Encode File ...\n",
      "Encode File Loaded\n",
      "YESSSSSS\n",
      "Loading Encode File ...\n",
      "Encode File Loaded\n"
     ]
    },
    {
     "name": "stderr",
     "output_type": "stream",
     "text": [
      "127.0.0.1 - - [23/Nov/2023 12:57:42] \"POST /live HTTP/1.1\" 200 -\n",
      "127.0.0.1 - - [23/Nov/2023 12:57:42] \"POST /live HTTP/1.1\" 200 -\n",
      "127.0.0.1 - - [23/Nov/2023 12:57:42] \"POST /live HTTP/1.1\" 200 -\n",
      "127.0.0.1 - - [23/Nov/2023 12:57:42] \"POST /live HTTP/1.1\" 200 -\n"
     ]
    },
    {
     "name": "stdout",
     "output_type": "stream",
     "text": [
      "YESSSSSS\n",
      "Loading Encode File ...\n",
      "Encode File Loaded\n",
      "YESSSSSS\n",
      "Loading Encode File ...\n",
      "Encode File Loaded\n",
      "YESSSSSS\n",
      "Loading Encode File ...\n",
      "Encode File Loaded\n",
      "YESSSSSS\n",
      "Loading Encode File ...\n",
      "Encode File Loaded\n"
     ]
    },
    {
     "name": "stderr",
     "output_type": "stream",
     "text": [
      "127.0.0.1 - - [23/Nov/2023 12:57:42] \"POST /live HTTP/1.1\" 200 -\n"
     ]
    },
    {
     "name": "stdout",
     "output_type": "stream",
     "text": [
      "YESSSSSS\n",
      "Loading Encode File ...\n",
      "Encode File Loaded\n"
     ]
    },
    {
     "name": "stderr",
     "output_type": "stream",
     "text": [
      "127.0.0.1 - - [23/Nov/2023 12:57:44] \"POST /live HTTP/1.1\" 200 -\n",
      "127.0.0.1 - - [23/Nov/2023 12:57:44] \"GET /static/Images/20BDS0040.png HTTP/1.1\" 304 -\n",
      "127.0.0.1 - - [23/Nov/2023 12:57:44] \"POST /live HTTP/1.1\" 200 -\n"
     ]
    },
    {
     "name": "stdout",
     "output_type": "stream",
     "text": [
      "Known Face Detected\n",
      "20BDS0040\n",
      "('Kartikey Saini', '20BDS0040', 'Computer Science and Engineering with specialization in Data Science', '2023-11-23 12:52:28')\n",
      "('2023-11-23 12:52:28',)\n",
      "YESSSSSS\n",
      "Loading Encode File ...\n",
      "Encode File Loaded\n"
     ]
    },
    {
     "name": "stderr",
     "output_type": "stream",
     "text": [
      "127.0.0.1 - - [23/Nov/2023 12:57:44] \"POST /live HTTP/1.1\" 200 -\n"
     ]
    },
    {
     "name": "stdout",
     "output_type": "stream",
     "text": [
      "YESSSSSS\n",
      "Loading Encode File ...\n",
      "Encode File Loaded\n",
      "YESSSSSS\n",
      "Loading Encode File ...\n",
      "Encode File Loaded\n"
     ]
    },
    {
     "name": "stderr",
     "output_type": "stream",
     "text": [
      "127.0.0.1 - - [23/Nov/2023 12:57:45] \"POST /live HTTP/1.1\" 200 -\n",
      "127.0.0.1 - - [23/Nov/2023 12:57:45] \"POST /live HTTP/1.1\" 200 -\n"
     ]
    },
    {
     "name": "stdout",
     "output_type": "stream",
     "text": [
      "Known Face Detected\n",
      "20BDS0040\n",
      "('Kartikey Saini', '20BDS0040', 'Computer Science and Engineering with specialization in Data Science', '2023-11-23 12:57:44')\n",
      "('2023-11-23 12:57:44',)\n",
      "YESSSSSS\n",
      "Loading Encode File ...\n",
      "Encode File Loaded\n",
      "YESSSSSS\n",
      "Loading Encode File ...\n",
      "Encode File Loaded\n"
     ]
    },
    {
     "name": "stderr",
     "output_type": "stream",
     "text": [
      "127.0.0.1 - - [23/Nov/2023 12:57:45] \"POST /live HTTP/1.1\" 200 -\n",
      "127.0.0.1 - - [23/Nov/2023 12:57:45] \"POST /live HTTP/1.1\" 200 -\n",
      "127.0.0.1 - - [23/Nov/2023 12:57:45] \"POST /live HTTP/1.1\" 200 -\n",
      "127.0.0.1 - - [23/Nov/2023 12:57:45] \"POST /live HTTP/1.1\" 200 -\n"
     ]
    },
    {
     "name": "stdout",
     "output_type": "stream",
     "text": [
      "YESSSSSS\n",
      "Loading Encode File ...\n",
      "Encode File Loaded\n",
      "YESSSSSS\n",
      "Loading Encode File ...\n",
      "Encode File Loaded\n",
      "YESSSSSS\n",
      "Loading Encode File ...\n",
      "Encode File Loaded\n",
      "YESSSSSS\n",
      "Loading Encode File ...\n",
      "Encode File Loaded\n"
     ]
    },
    {
     "name": "stderr",
     "output_type": "stream",
     "text": [
      "127.0.0.1 - - [23/Nov/2023 12:57:45] \"POST /live HTTP/1.1\" 200 -\n",
      "127.0.0.1 - - [23/Nov/2023 12:57:45] \"POST /live HTTP/1.1\" 200 -\n",
      "127.0.0.1 - - [23/Nov/2023 12:57:45] \"POST /live HTTP/1.1\" 200 -\n",
      "127.0.0.1 - - [23/Nov/2023 12:57:45] \"POST /live HTTP/1.1\" 200 -\n"
     ]
    },
    {
     "name": "stdout",
     "output_type": "stream",
     "text": [
      "YESSSSSS\n",
      "Loading Encode File ...\n",
      "Encode File Loaded\n",
      "YESSSSSS\n",
      "Loading Encode File ...\n",
      "Encode File Loaded\n",
      "YESSSSSS\n",
      "Loading Encode File ...\n",
      "Encode File Loaded\n",
      "YESSSSSS\n",
      "Loading Encode File ...\n"
     ]
    },
    {
     "name": "stderr",
     "output_type": "stream",
     "text": [
      "127.0.0.1 - - [23/Nov/2023 12:57:45] \"POST /live HTTP/1.1\" 200 -\n",
      "127.0.0.1 - - [23/Nov/2023 12:57:45] \"POST /live HTTP/1.1\" 200 -\n",
      "127.0.0.1 - - [23/Nov/2023 12:57:46] \"POST /live HTTP/1.1\" 200 -\n"
     ]
    },
    {
     "name": "stdout",
     "output_type": "stream",
     "text": [
      "Encode File Loaded\n",
      "YESSSSSS\n",
      "Loading Encode File ...\n",
      "Encode File Loaded\n",
      "YESSSSSS\n",
      "Loading Encode File ...\n",
      "Encode File Loaded\n",
      "YESSSSSS\n",
      "Loading Encode File ...\n",
      "Encode File Loaded\n"
     ]
    },
    {
     "name": "stderr",
     "output_type": "stream",
     "text": [
      "127.0.0.1 - - [23/Nov/2023 12:57:46] \"POST /live HTTP/1.1\" 200 -\n",
      "127.0.0.1 - - [23/Nov/2023 12:57:46] \"POST /live HTTP/1.1\" 200 -\n",
      "127.0.0.1 - - [23/Nov/2023 12:57:46] \"POST /live HTTP/1.1\" 200 -\n",
      "127.0.0.1 - - [23/Nov/2023 12:57:46] \"POST /live HTTP/1.1\" 200 -\n"
     ]
    },
    {
     "name": "stdout",
     "output_type": "stream",
     "text": [
      "YESSSSSS\n",
      "Loading Encode File ...\n",
      "Encode File Loaded\n",
      "YESSSSSS\n",
      "Loading Encode File ...\n",
      "Encode File Loaded\n",
      "YESSSSSS\n",
      "Loading Encode File ...\n",
      "Encode File Loaded\n",
      "YESSSSSS\n",
      "Loading Encode File ...\n",
      "Encode File Loaded\n"
     ]
    },
    {
     "name": "stderr",
     "output_type": "stream",
     "text": [
      "127.0.0.1 - - [23/Nov/2023 12:57:47] \"POST /live HTTP/1.1\" 200 -\n"
     ]
    },
    {
     "name": "stdout",
     "output_type": "stream",
     "text": [
      "Known Face Detected\n",
      "20BCE0785\n",
      "('Ananya Singh', '20BCE0785', 'Computer Science and Engineering', '2023-11-23 12:57:35')\n",
      "('2023-11-23 12:57:35',)\n",
      "YESSSSSS\n",
      "Loading Encode File ...\n",
      "Encode File Loaded\n"
     ]
    },
    {
     "name": "stderr",
     "output_type": "stream",
     "text": [
      "127.0.0.1 - - [23/Nov/2023 12:57:48] \"POST /live HTTP/1.1\" 200 -\n"
     ]
    },
    {
     "name": "stdout",
     "output_type": "stream",
     "text": [
      "Known Face Detected\n",
      "20BCE0785\n",
      "('Ananya Singh', '20BCE0785', 'Computer Science and Engineering', '2023-11-23 12:57:35')\n",
      "('2023-11-23 12:57:35',)\n",
      "YESSSSSS\n",
      "Loading Encode File ...\n",
      "Encode File Loaded\n"
     ]
    },
    {
     "name": "stderr",
     "output_type": "stream",
     "text": [
      "127.0.0.1 - - [23/Nov/2023 12:57:49] \"GET /services.html HTTP/1.1\" 200 -\n",
      "127.0.0.1 - - [23/Nov/2023 12:57:49] \"GET /static/lib/animate/animate.min.css HTTP/1.1\" 304 -\n",
      "127.0.0.1 - - [23/Nov/2023 12:57:49] \"GET /static/lib/owlcarousel/assets/owl.carousel.min.css HTTP/1.1\" 304 -\n",
      "127.0.0.1 - - [23/Nov/2023 12:57:49] \"GET /static/css/bootstrap.min.css HTTP/1.1\" 304 -\n",
      "127.0.0.1 - - [23/Nov/2023 12:57:49] \"GET /static/css/style.css HTTP/1.1\" 304 -\n",
      "127.0.0.1 - - [23/Nov/2023 12:57:49] \"GET /static/lib/wow/wow.min.js HTTP/1.1\" 304 -\n",
      "127.0.0.1 - - [23/Nov/2023 12:57:49] \"GET /static/lib/easing/easing.min.js HTTP/1.1\" 304 -\n",
      "127.0.0.1 - - [23/Nov/2023 12:57:49] \"GET /static/lib/waypoints/waypoints.min.js HTTP/1.1"
     ]
    },
    {
     "name": "stdout",
     "output_type": "stream",
     "text": [
      "Known Face Detected\n",
      "20BCE0785\n",
      "('Ananya Singh', '20BCE0785', 'Computer Science and Engineering', '2023-11-23 12:57:35')\n",
      "('2023-11-23 12:57:35',)\n"
     ]
    },
    {
     "name": "stderr",
     "output_type": "stream",
     "text": [
      "\" 304 -\n",
      "127.0.0.1 - - [23/Nov/2023 12:57:49] \"GET /static/lib/owlcarousel/owl.carousel.min.js HTTP/1.1\" 304 -\n",
      "127.0.0.1 - - [23/Nov/2023 12:57:49] \"GET /static/js/main.js HTTP/1.1\" 304 -\n",
      "127.0.0.1 - - [23/Nov/2023 12:57:49] \"POST /live HTTP/1.1\" 200 -\n",
      "127.0.0.1 - - [23/Nov/2023 12:57:52] \"GET /static/att.xlsx HTTP/1.1\" 200 -\n",
      "127.0.0.1 - - [23/Nov/2023 13:08:54] \"GET /liveatt.html HTTP/1.1\" 200 -\n",
      "127.0.0.1 - - [23/Nov/2023 13:08:54] \"GET /static/lib/owlcarousel/assets/owl.carousel.min.css HTTP/1.1\" 304 -\n",
      "127.0.0.1 - - [23/Nov/2023 13:08:54] \"GET /static/lib/animate/animate.min.css HTTP/1.1\" 304 -\n",
      "127.0.0.1 - - [23/Nov/2023 13:08:54] \"GET /static/css/bootstrap.min.css HTTP/1.1\" 304 -\n",
      "127.0.0.1 - - [23/Nov/2023 13:08:54] \"GET /static/css/style.css HTTP/1.1\" 304 -\n",
      "127.0.0.1 - - [23/Nov/2023 13:08:54] \"GET /static/lib/wow/wow.min.js HTTP/1.1\" 304 -\n",
      "127.0.0.1 - - [23/Nov/2023 13:08:54] \"GET /static/lib/easing/easing.min.js HTTP/1.1\" 304 -\n",
      "127.0.0.1 - - [23/Nov/2023 13:08:54] \"GET /static/lib/waypoints/waypoints.min.js HTTP/1.1\" 304 -\n",
      "127.0.0.1 - - [23/Nov/2023 13:08:54] \"GET /static/lib/owlcarousel/owl.carousel.min.js HTTP/1.1\" 304 -\n",
      "127.0.0.1 - - [23/Nov/2023 13:08:54] \"GET /static/js/main.js HTTP/1.1\" 304 -\n"
     ]
    },
    {
     "name": "stdout",
     "output_type": "stream",
     "text": [
      "YESSSSSS\n",
      "Loading Encode File ...\n",
      "Encode File Loaded\n"
     ]
    },
    {
     "name": "stderr",
     "output_type": "stream",
     "text": [
      "127.0.0.1 - - [23/Nov/2023 13:08:56] \"POST /live HTTP/1.1\" 200 -\n",
      "127.0.0.1 - - [23/Nov/2023 13:08:56] \"GET /static/Images/20BCE0785.png HTTP/1.1\" 304 -\n"
     ]
    },
    {
     "name": "stdout",
     "output_type": "stream",
     "text": [
      "Known Face Detected\n",
      "20BCE0785\n",
      "('Ananya Singh', '20BCE0785', 'Computer Science and Engineering', '2023-11-23 12:57:35')\n",
      "('2023-11-23 12:57:35',)\n",
      "YESSSSSS\n",
      "Loading Encode File ...\n",
      "Encode File Loaded\n"
     ]
    },
    {
     "name": "stderr",
     "output_type": "stream",
     "text": [
      "127.0.0.1 - - [23/Nov/2023 13:08:57] \"POST /live HTTP/1.1\" 200 -\n",
      "127.0.0.1 - - [23/Nov/2023 13:08:57] \"GET /static/Images/20BCE0607.png HTTP/1.1\" 304 -\n"
     ]
    },
    {
     "name": "stdout",
     "output_type": "stream",
     "text": [
      "Known Face Detected\n",
      "20BCE0607\n",
      "('Eeshani Majumder', '20BCE0607', 'Computer Science and Engineering', '2023-11-23 12:52:23')\n",
      "('2023-11-23 12:52:23',)\n",
      "YESSSSSS\n",
      "Loading Encode File ...\n",
      "Encode File Loaded\n"
     ]
    },
    {
     "name": "stderr",
     "output_type": "stream",
     "text": [
      "127.0.0.1 - - [23/Nov/2023 13:08:58] \"POST /live HTTP/1.1\" 200 -\n",
      "127.0.0.1 - - [23/Nov/2023 13:08:58] \"POST /live HTTP/1.1\" 200 -\n",
      "127.0.0.1 - - [23/Nov/2023 13:08:58] \"POST /live HTTP/1.1\" 200 -\n",
      "127.0.0.1 - - [23/Nov/2023 13:08:58] \"POST /live HTTP/1.1\" 200 -\n",
      "127.0.0.1 - - [23/Nov/2023 13:08:58] \"POST /live HTTP/1.1\" 200 -\n"
     ]
    },
    {
     "name": "stdout",
     "output_type": "stream",
     "text": [
      "YESSSSSS\n",
      "Loading Encode File ...\n",
      "Encode File Loaded\n",
      "YESSSSSS\n",
      "Loading Encode File ...\n",
      "Encode File Loaded\n",
      "YESSSSSS\n",
      "Loading Encode File ...\n",
      "Encode File Loaded\n",
      "YESSSSSS\n",
      "Loading Encode File ...\n",
      "Encode File Loaded\n"
     ]
    },
    {
     "name": "stderr",
     "output_type": "stream",
     "text": [
      "127.0.0.1 - - [23/Nov/2023 13:08:58] \"POST /live HTTP/1.1\" 200 -\n",
      "127.0.0.1 - - [23/Nov/2023 13:08:59] \"POST /live HTTP/1.1\" 200 -\n",
      "127.0.0.1 - - [23/Nov/2023 13:08:59] \"POST /live HTTP/1.1\" 200 -\n"
     ]
    },
    {
     "name": "stdout",
     "output_type": "stream",
     "text": [
      "YESSSSSS\n",
      "Loading Encode File ...\n",
      "Encode File Loaded\n",
      "YESSSSSS\n",
      "Loading Encode File ...\n",
      "Encode File Loaded\n",
      "YESSSSSS\n",
      "Loading Encode File ...\n",
      "Encode File Loaded\n",
      "YESSSSSS\n",
      "Loading Encode File ...\n",
      "Encode File Loaded\n"
     ]
    },
    {
     "name": "stderr",
     "output_type": "stream",
     "text": [
      "127.0.0.1 - - [23/Nov/2023 13:08:59] \"POST /live HTTP/1.1\" 200 -\n",
      "127.0.0.1 - - [23/Nov/2023 13:08:59] \"POST /live HTTP/1.1\" 200 -\n",
      "127.0.0.1 - - [23/Nov/2023 13:08:59] \"POST /live HTTP/1.1\" 200 -\n",
      "127.0.0.1 - - [23/Nov/2023 13:08:59] \"POST /live HTTP/1.1\" 200 -\n",
      "127.0.0.1 - - [23/Nov/2023 13:08:59] \"POST /live HTTP/1.1\" 200 -\n"
     ]
    },
    {
     "name": "stdout",
     "output_type": "stream",
     "text": [
      "YESSSSSS\n",
      "Loading Encode File ...\n",
      "Encode File Loaded\n",
      "YESSSSSS\n",
      "Loading Encode File ...\n",
      "Encode File Loaded\n",
      "YESSSSSS\n",
      "Loading Encode File ...\n",
      "Encode File Loaded\n",
      "YESSSSSS\n",
      "Loading Encode File ...\n",
      "Encode File Loaded\n"
     ]
    },
    {
     "name": "stderr",
     "output_type": "stream",
     "text": [
      "127.0.0.1 - - [23/Nov/2023 13:08:59] \"POST /live HTTP/1.1\" 200 -\n",
      "127.0.0.1 - - [23/Nov/2023 13:08:59] \"POST /live HTTP/1.1\" 200 -\n",
      "127.0.0.1 - - [23/Nov/2023 13:08:59] \"POST /live HTTP/1.1\" 200 -\n",
      "127.0.0.1 - - [23/Nov/2023 13:08:59] \"POST /live HTTP/1.1\" 200 -\n"
     ]
    },
    {
     "name": "stdout",
     "output_type": "stream",
     "text": [
      "YESSSSSS\n",
      "Loading Encode File ...\n",
      "Encode File Loaded\n",
      "YESSSSSS\n",
      "Loading Encode File ...\n",
      "Encode File Loaded\n",
      "YESSSSSS\n",
      "Loading Encode File ...\n",
      "Encode File Loaded\n",
      "YESSSSSS\n",
      "Loading Encode File ...\n",
      "Encode File Loaded\n"
     ]
    },
    {
     "name": "stderr",
     "output_type": "stream",
     "text": [
      "127.0.0.1 - - [23/Nov/2023 13:08:59] \"POST /live HTTP/1.1\" 200 -\n",
      "127.0.0.1 - - [23/Nov/2023 13:08:59] \"POST /live HTTP/1.1\" 200 -\n",
      "127.0.0.1 - - [23/Nov/2023 13:08:59] \"POST /live HTTP/1.1\" 200 -\n"
     ]
    },
    {
     "name": "stdout",
     "output_type": "stream",
     "text": [
      "YESSSSSS\n",
      "Loading Encode File ...\n",
      "Encode File Loaded\n",
      "YESSSSSS\n",
      "Loading Encode File ...\n",
      "Encode File Loaded\n",
      "YESSSSSS\n",
      "Loading Encode File ...\n",
      "Encode File Loaded\n",
      "YESSSSSS\n",
      "Loading Encode File ...\n",
      "Encode File Loaded\n"
     ]
    },
    {
     "name": "stderr",
     "output_type": "stream",
     "text": [
      "127.0.0.1 - - [23/Nov/2023 13:08:59] \"POST /live HTTP/1.1\" 200 -\n",
      "127.0.0.1 - - [23/Nov/2023 13:08:59] \"POST /live HTTP/1.1\" 200 -\n",
      "127.0.0.1 - - [23/Nov/2023 13:08:59] \"POST /live HTTP/1.1\" 200 -\n",
      "127.0.0.1 - - [23/Nov/2023 13:08:59] \"POST /live HTTP/1.1\" 200 -\n"
     ]
    },
    {
     "name": "stdout",
     "output_type": "stream",
     "text": [
      "YESSSSSS\n",
      "Loading Encode File ...\n",
      "Encode File Loaded\n",
      "YESSSSSS\n",
      "Loading Encode File ...\n",
      "Encode File Loaded\n",
      "YESSSSSS\n",
      "Loading Encode File ...\n",
      "Encode File Loaded\n",
      "YESSSSSS\n",
      "Loading Encode File ...\n",
      "Encode File Loaded\n"
     ]
    },
    {
     "name": "stderr",
     "output_type": "stream",
     "text": [
      "127.0.0.1 - - [23/Nov/2023 13:08:59] \"POST /live HTTP/1.1\" 200 -\n",
      "127.0.0.1 - - [23/Nov/2023 13:09:00] \"POST /live HTTP/1.1\" 200 -\n",
      "127.0.0.1 - - [23/Nov/2023 13:09:00] \"POST /live HTTP/1.1\" 200 -\n",
      "127.0.0.1 - - [23/Nov/2023 13:09:00] \"POST /live HTTP/1.1\" 200 -\n"
     ]
    },
    {
     "name": "stdout",
     "output_type": "stream",
     "text": [
      "YESSSSSS\n",
      "Loading Encode File ...\n",
      "Encode File Loaded\n",
      "YESSSSSS\n",
      "Loading Encode File ...\n",
      "Encode File Loaded\n",
      "YESSSSSS\n",
      "Loading Encode File ...\n",
      "Encode File Loaded\n",
      "YESSSSSS\n",
      "Loading Encode File ...\n",
      "Encode File Loaded\n"
     ]
    },
    {
     "name": "stderr",
     "output_type": "stream",
     "text": [
      "127.0.0.1 - - [23/Nov/2023 13:09:00] \"POST /live HTTP/1.1\" 200 -\n",
      "127.0.0.1 - - [23/Nov/2023 13:09:00] \"POST /live HTTP/1.1\" 200 -\n",
      "127.0.0.1 - - [23/Nov/2023 13:09:00] \"POST /live HTTP/1.1\" 200 -\n",
      "127.0.0.1 - - [23/Nov/2023 13:09:00] \"POST /live HTTP/1.1\" 200 -\n"
     ]
    },
    {
     "name": "stdout",
     "output_type": "stream",
     "text": [
      "YESSSSSS\n",
      "Loading Encode File ...\n",
      "Encode File Loaded\n",
      "YESSSSSS\n",
      "Loading Encode File ...\n",
      "Encode File Loaded\n",
      "YESSSSSS\n",
      "Loading Encode File ...\n",
      "Encode File Loaded\n",
      "YESSSSSS\n",
      "Loading Encode File ...\n",
      "Encode File Loaded\n"
     ]
    },
    {
     "name": "stderr",
     "output_type": "stream",
     "text": [
      "127.0.0.1 - - [23/Nov/2023 13:09:00] \"POST /live HTTP/1.1\" 200 -\n",
      "127.0.0.1 - - [23/Nov/2023 13:09:00] \"POST /live HTTP/1.1\" 200 -\n",
      "127.0.0.1 - - [23/Nov/2023 13:09:00] \"POST /live HTTP/1.1\" 200 -\n",
      "127.0.0.1 - - [23/Nov/2023 13:09:00] \"POST /live HTTP/1.1\" 200 -\n",
      "127.0.0.1 - - [23/Nov/2023 13:09:00] \"POST /live HTTP/1.1\" 200 -\n"
     ]
    },
    {
     "name": "stdout",
     "output_type": "stream",
     "text": [
      "YESSSSSS\n",
      "Loading Encode File ...\n",
      "Encode File Loaded\n",
      "YESSSSSS\n",
      "Loading Encode File ...\n",
      "Encode File Loaded\n",
      "YESSSSSS\n",
      "Loading Encode File ...\n",
      "Encode File Loaded\n",
      "YESSSSSS\n",
      "Loading Encode File ...\n",
      "Encode File Loaded\n"
     ]
    },
    {
     "name": "stderr",
     "output_type": "stream",
     "text": [
      "127.0.0.1 - - [23/Nov/2023 13:09:00] \"POST /live HTTP/1.1\" 200 -\n",
      "127.0.0.1 - - [23/Nov/2023 13:09:00] \"POST /live HTTP/1.1\" 200 -\n",
      "127.0.0.1 - - [23/Nov/2023 13:09:00] \"POST /live HTTP/1.1\" 200 -\n"
     ]
    },
    {
     "name": "stdout",
     "output_type": "stream",
     "text": [
      "YESSSSSS\n",
      "Loading Encode File ...\n",
      "Encode File Loaded\n",
      "YESSSSSS\n",
      "Loading Encode File ...\n",
      "Encode File Loaded\n",
      "YESSSSSS\n",
      "Loading Encode File ...\n",
      "Encode File Loaded\n",
      "YESSSSSS\n",
      "Loading Encode File ...\n",
      "Encode File Loaded\n"
     ]
    },
    {
     "name": "stderr",
     "output_type": "stream",
     "text": [
      "127.0.0.1 - - [23/Nov/2023 13:09:01] \"POST /live HTTP/1.1\" 200 -\n",
      "127.0.0.1 - - [23/Nov/2023 13:09:01] \"POST /live HTTP/1.1\" 200 -\n",
      "127.0.0.1 - - [23/Nov/2023 13:09:01] \"POST /live HTTP/1.1\" 200 -\n",
      "127.0.0.1 - - [23/Nov/2023 13:09:01] \"POST /live HTTP/1.1\" 200 -\n"
     ]
    },
    {
     "name": "stdout",
     "output_type": "stream",
     "text": [
      "YESSSSSS\n",
      "Loading Encode File ...\n",
      "Encode File Loaded\n",
      "YESSSSSS\n",
      "Loading Encode File ...\n",
      "Encode File Loaded\n",
      "YESSSSSS\n",
      "Loading Encode File ...\n",
      "Encode File Loaded\n",
      "YESSSSSS\n",
      "Loading Encode File ...\n",
      "Encode File Loaded\n"
     ]
    },
    {
     "name": "stderr",
     "output_type": "stream",
     "text": [
      "127.0.0.1 - - [23/Nov/2023 13:09:02] \"POST /live HTTP/1.1\" 200 -\n",
      "127.0.0.1 - - [23/Nov/2023 13:09:02] \"POST /live HTTP/1.1\" 200 -\n",
      "127.0.0.1 - - [23/Nov/2023 13:09:02] \"POST /live HTTP/1.1\" 200 -\n",
      "127.0.0.1 - - [23/Nov/2023 13:09:02] \"POST /live HTTP/1.1\" 200 -\n"
     ]
    },
    {
     "name": "stdout",
     "output_type": "stream",
     "text": [
      "YESSSSSS\n",
      "Loading Encode File ...\n",
      "Encode File Loaded\n",
      "YESSSSSS\n",
      "Loading Encode File ...\n",
      "Encode File Loaded\n",
      "YESSSSSS\n",
      "Loading Encode File ...\n",
      "Encode File Loaded\n",
      "YESSSSSS\n",
      "Loading Encode File ...\n",
      "Encode File Loaded\n"
     ]
    },
    {
     "name": "stderr",
     "output_type": "stream",
     "text": [
      "127.0.0.1 - - [23/Nov/2023 13:09:02] \"POST /live HTTP/1.1\" 200 -\n",
      "127.0.0.1 - - [23/Nov/2023 13:09:02] \"POST /live HTTP/1.1\" 200 -\n"
     ]
    },
    {
     "name": "stdout",
     "output_type": "stream",
     "text": [
      "YESSSSSS\n",
      "Loading Encode File ...\n",
      "Encode File Loaded\n",
      "YESSSSSS\n",
      "Loading Encode File ...\n",
      "Encode File Loaded\n"
     ]
    },
    {
     "name": "stderr",
     "output_type": "stream",
     "text": [
      "127.0.0.1 - - [23/Nov/2023 13:09:03] \"POST /live HTTP/1.1\" 200 -\n"
     ]
    },
    {
     "name": "stdout",
     "output_type": "stream",
     "text": [
      "Known Face Detected\n",
      "20BCE0785\n",
      "('Ananya Singh', '20BCE0785', 'Computer Science and Engineering', '2023-11-23 13:08:56')\n",
      "('2023-11-23 13:08:56',)\n",
      "YESSSSSS\n",
      "Loading Encode File ...\n",
      "Encode File Loaded\n"
     ]
    },
    {
     "name": "stderr",
     "output_type": "stream",
     "text": [
      "127.0.0.1 - - [23/Nov/2023 13:09:03] \"POST /live HTTP/1.1\" 200 -\n",
      "127.0.0.1 - - [23/Nov/2023 13:09:03] \"POST /live HTTP/1.1\" 200 -\n",
      "127.0.0.1 - - [23/Nov/2023 13:09:03] \"POST /live HTTP/1.1\" 200 -\n",
      "127.0.0.1 - - [23/Nov/2023 13:09:03] \"POST /live HTTP/1.1\" 200 -\n",
      "127.0.0.1 - - [23/Nov/2023 13:09:03] \"POST /live HTTP/1.1\" 200 -\n"
     ]
    },
    {
     "name": "stdout",
     "output_type": "stream",
     "text": [
      "YESSSSSS\n",
      "Loading Encode File ...\n",
      "Encode File Loaded\n",
      "YESSSSSS\n",
      "Loading Encode File ...\n",
      "Encode File Loaded\n",
      "YESSSSSS\n",
      "Loading Encode File ...\n",
      "Encode File Loaded\n",
      "YESSSSSS\n",
      "Loading Encode File ...\n",
      "Encode File Loaded\n"
     ]
    },
    {
     "name": "stderr",
     "output_type": "stream",
     "text": [
      "127.0.0.1 - - [23/Nov/2023 13:09:03] \"POST /live HTTP/1.1\" 200 -\n",
      "127.0.0.1 - - [23/Nov/2023 13:09:03] \"POST /live HTTP/1.1\" 200 -\n",
      "127.0.0.1 - - [23/Nov/2023 13:09:03] \"POST /live HTTP/1.1\" 200 -\n",
      "127.0.0.1 - - [23/Nov/2023 13:09:03] \"POST /live HTTP/1.1\" 200 -\n"
     ]
    },
    {
     "name": "stdout",
     "output_type": "stream",
     "text": [
      "YESSSSSS\n",
      "Loading Encode File ...\n",
      "Encode File Loaded\n",
      "YESSSSSS\n",
      "Loading Encode File ...\n",
      "Encode File Loaded\n",
      "YESSSSSS\n",
      "Loading Encode File ...\n",
      "Encode File Loaded\n",
      "YESSSSSS\n",
      "Loading Encode File ...\n",
      "Encode File Loaded\n",
      "YESSSSSS\n",
      "Loading Encode File ...\n",
      "Encode File Loaded\n"
     ]
    },
    {
     "name": "stderr",
     "output_type": "stream",
     "text": [
      "127.0.0.1 - - [23/Nov/2023 13:09:03] \"POST /live HTTP/1.1\" 200 -\n",
      "127.0.0.1 - - [23/Nov/2023 13:09:04] \"POST /live HTTP/1.1\" 200 -\n",
      "127.0.0.1 - - [23/Nov/2023 13:09:04] \"POST /live HTTP/1.1\" 200 -\n",
      "127.0.0.1 - - [23/Nov/2023 13:09:04] \"POST /live HTTP/1.1\" 200 -\n",
      "127.0.0.1 - - [23/Nov/2023 13:09:04] \"POST /live HTTP/1.1\" 200 -\n"
     ]
    },
    {
     "name": "stdout",
     "output_type": "stream",
     "text": [
      "YESSSSSS\n",
      "Loading Encode File ...\n",
      "Encode File Loaded\n",
      "YESSSSSS\n",
      "Loading Encode File ...\n",
      "Encode File Loaded\n",
      "YESSSSSS\n",
      "Loading Encode File ...\n",
      "Encode File Loaded\n",
      "YESSSSSS\n",
      "Loading Encode File ...\n",
      "Encode File Loaded\n"
     ]
    },
    {
     "name": "stderr",
     "output_type": "stream",
     "text": [
      "127.0.0.1 - - [23/Nov/2023 13:09:04] \"POST /live HTTP/1.1\" 200 -\n",
      "127.0.0.1 - - [23/Nov/2023 13:09:04] \"POST /live HTTP/1.1\" 200 -\n",
      "127.0.0.1 - - [23/Nov/2023 13:09:04] \"POST /live HTTP/1.1\" 200 -\n",
      "127.0.0.1 - - [23/Nov/2023 13:09:04] \"POST /live HTTP/1.1\" 200 -\n"
     ]
    },
    {
     "name": "stdout",
     "output_type": "stream",
     "text": [
      "YESSSSSS\n",
      "Loading Encode File ...\n",
      "Encode File Loaded\n",
      "YESSSSSS\n",
      "Loading Encode File ...\n",
      "Encode File Loaded\n",
      "YESSSSSS\n",
      "Loading Encode File ...\n",
      "Encode File Loaded\n",
      "YESSSSSS\n",
      "Loading Encode File ...\n",
      "Encode File Loaded\n"
     ]
    },
    {
     "name": "stderr",
     "output_type": "stream",
     "text": [
      "127.0.0.1 - - [23/Nov/2023 13:09:04] \"POST /live HTTP/1.1\" 200 -\n",
      "127.0.0.1 - - [23/Nov/2023 13:09:04] \"POST /live HTTP/1.1\" 200 -\n",
      "127.0.0.1 - - [23/Nov/2023 13:09:04] \"POST /live HTTP/1.1\" 200 -\n"
     ]
    },
    {
     "name": "stdout",
     "output_type": "stream",
     "text": [
      "YESSSSSS\n",
      "Loading Encode File ...\n",
      "Encode File Loaded\n",
      "YESSSSSS\n",
      "Loading Encode File ...\n",
      "Encode File Loaded\n",
      "YESSSSSS\n",
      "Loading Encode File ...\n",
      "Encode File Loaded\n",
      "YESSSSSS\n",
      "Loading Encode File ...\n",
      "Encode File Loaded\n"
     ]
    },
    {
     "name": "stderr",
     "output_type": "stream",
     "text": [
      "127.0.0.1 - - [23/Nov/2023 13:09:04] \"POST /live HTTP/1.1\" 200 -\n",
      "127.0.0.1 - - [23/Nov/2023 13:09:04] \"POST /live HTTP/1.1\" 200 -\n",
      "127.0.0.1 - - [23/Nov/2023 13:09:04] \"POST /live HTTP/1.1\" 200 -\n",
      "127.0.0.1 - - [23/Nov/2023 13:09:04] \"POST /live HTTP/1.1\" 200 -\n"
     ]
    },
    {
     "name": "stdout",
     "output_type": "stream",
     "text": [
      "YESSSSSS\n",
      "Loading Encode File ...\n",
      "Encode File Loaded\n",
      "YESSSSSS\n",
      "Loading Encode File ...\n",
      "Encode File Loaded\n",
      "YESSSSSS\n",
      "Loading Encode File ...\n",
      "Encode File Loaded\n",
      "YESSSSSS\n",
      "Loading Encode File ...\n",
      "Encode File Loaded\n"
     ]
    },
    {
     "name": "stderr",
     "output_type": "stream",
     "text": [
      "127.0.0.1 - - [23/Nov/2023 13:09:04] \"POST /live HTTP/1.1\" 200 -\n",
      "127.0.0.1 - - [23/Nov/2023 13:09:04] \"POST /live HTTP/1.1\" 200 -\n",
      "127.0.0.1 - - [23/Nov/2023 13:09:04] \"POST /live HTTP/1.1\" 200 -\n",
      "127.0.0.1 - - [23/Nov/2023 13:09:04] \"POST /live HTTP/1.1\" 200 -\n"
     ]
    },
    {
     "name": "stdout",
     "output_type": "stream",
     "text": [
      "YESSSSSS\n",
      "Loading Encode File ...\n",
      "Encode File Loaded\n",
      "YESSSSSS\n",
      "Loading Encode File ...\n",
      "Encode File Loaded\n",
      "YESSSSSS\n",
      "Loading Encode File ...\n",
      "Encode File Loaded\n",
      "YESSSSSS\n",
      "Loading Encode File ...\n",
      "Encode File Loaded\n"
     ]
    },
    {
     "name": "stderr",
     "output_type": "stream",
     "text": [
      "127.0.0.1 - - [23/Nov/2023 13:09:05] \"POST /live HTTP/1.1\" 200 -\n",
      "127.0.0.1 - - [23/Nov/2023 13:09:05] \"POST /live HTTP/1.1\" 200 -\n",
      "127.0.0.1 - - [23/Nov/2023 13:09:05] \"POST /live HTTP/1.1\" 200 -\n",
      "127.0.0.1 - - [23/Nov/2023 13:09:05] \"POST /live HTTP/1.1\" 200 -\n"
     ]
    },
    {
     "name": "stdout",
     "output_type": "stream",
     "text": [
      "YESSSSSS\n",
      "Loading Encode File ...\n",
      "Encode File Loaded\n",
      "YESSSSSS\n",
      "Loading Encode File ...\n",
      "Encode File Loaded\n",
      "YESSSSSS\n",
      "Loading Encode File ...\n",
      "Encode File Loaded\n",
      "YESSSSSS\n",
      "Loading Encode File ...\n",
      "Encode File Loaded\n"
     ]
    },
    {
     "name": "stderr",
     "output_type": "stream",
     "text": [
      "127.0.0.1 - - [23/Nov/2023 13:09:05] \"POST /live HTTP/1.1\" 200 -\n"
     ]
    },
    {
     "name": "stdout",
     "output_type": "stream",
     "text": [
      "YESSSSSS\n",
      "Loading Encode File ...\n",
      "Encode File Loaded\n"
     ]
    },
    {
     "name": "stderr",
     "output_type": "stream",
     "text": [
      "127.0.0.1 - - [23/Nov/2023 13:09:06] \"POST /live HTTP/1.1\" 200 -\n",
      "127.0.0.1 - - [23/Nov/2023 13:09:06] \"GET /static/Images/20BCE0607.png HTTP/1.1\" 304 -\n",
      "127.0.0.1 - - [23/Nov/2023 13:09:06] \"POST /live HTTP/1.1\" 200 -\n"
     ]
    },
    {
     "name": "stdout",
     "output_type": "stream",
     "text": [
      "Known Face Detected\n",
      "20BCE0607\n",
      "('Eeshani Majumder', '20BCE0607', 'Computer Science and Engineering', '2023-11-23 13:08:57')\n",
      "('2023-11-23 13:08:57',)\n",
      "YESSSSSS\n",
      "Loading Encode File ...\n",
      "Encode File Loaded\n",
      "YESSSSSS\n",
      "Loading Encode File ...\n",
      "Encode File Loaded\n"
     ]
    },
    {
     "name": "stderr",
     "output_type": "stream",
     "text": [
      "127.0.0.1 - - [23/Nov/2023 13:09:06] \"POST /live HTTP/1.1\" 200 -\n",
      "127.0.0.1 - - [23/Nov/2023 13:09:06] \"POST /live HTTP/1.1\" 200 -\n",
      "127.0.0.1 - - [23/Nov/2023 13:09:06] \"POST /live HTTP/1.1\" 200 -\n"
     ]
    },
    {
     "name": "stdout",
     "output_type": "stream",
     "text": [
      "YESSSSSS\n",
      "Loading Encode File ...\n",
      "Encode File Loaded\n",
      "YESSSSSS\n",
      "Loading Encode File ...\n",
      "Encode File Loaded\n",
      "YESSSSSS\n",
      "Loading Encode File ...\n",
      "Encode File Loaded\n"
     ]
    },
    {
     "name": "stderr",
     "output_type": "stream",
     "text": [
      "127.0.0.1 - - [23/Nov/2023 13:09:07] \"POST /live HTTP/1.1\" 200 -\n",
      "127.0.0.1 - - [23/Nov/2023 13:09:07] \"POST /live HTTP/1.1\" 200 -\n"
     ]
    },
    {
     "name": "stdout",
     "output_type": "stream",
     "text": [
      "Known Face Detected\n",
      "20BCE0785\n",
      "('Ananya Singh', '20BCE0785', 'Computer Science and Engineering', '2023-11-23 13:08:56')\n",
      "('2023-11-23 13:08:56',)\n",
      "YESSSSSS\n",
      "Loading Encode File ...\n",
      "Encode File Loaded\n",
      "YESSSSSS\n",
      "Loading Encode File ...\n",
      "Encode File Loaded\n"
     ]
    },
    {
     "name": "stderr",
     "output_type": "stream",
     "text": [
      "127.0.0.1 - - [23/Nov/2023 13:09:07] \"POST /live HTTP/1.1\" 200 -\n",
      "127.0.0.1 - - [23/Nov/2023 13:09:07] \"POST /live HTTP/1.1\" 200 -\n",
      "127.0.0.1 - - [23/Nov/2023 13:09:07] \"POST /live HTTP/1.1\" 200 -\n",
      "127.0.0.1 - - [23/Nov/2023 13:09:08] \"POST /live HTTP/1.1\" 200 -\n",
      "127.0.0.1 - - [23/Nov/2023 13:09:08] \"POST /live HTTP/1.1\" 200 -\n"
     ]
    },
    {
     "name": "stdout",
     "output_type": "stream",
     "text": [
      "YESSSSSS\n",
      "Loading Encode File ...\n",
      "Encode File Loaded\n",
      "YESSSSSS\n",
      "Loading Encode File ...\n",
      "Encode File Loaded\n",
      "YESSSSSS\n",
      "Loading Encode File ...\n",
      "Encode File Loaded\n",
      "YESSSSSS\n",
      "Loading Encode File ...\n",
      "Encode File Loaded\n"
     ]
    },
    {
     "name": "stderr",
     "output_type": "stream",
     "text": [
      "127.0.0.1 - - [23/Nov/2023 13:09:08] \"POST /live HTTP/1.1\" 200 -\n",
      "127.0.0.1 - - [23/Nov/2023 13:09:08] \"POST /live HTTP/1.1\" 200 -\n",
      "127.0.0.1 - - [23/Nov/2023 13:09:08] \"POST /live HTTP/1.1\" 200 -\n"
     ]
    },
    {
     "name": "stdout",
     "output_type": "stream",
     "text": [
      "YESSSSSS\n",
      "Loading Encode File ...\n",
      "Encode File Loaded\n",
      "YESSSSSS\n",
      "Loading Encode File ...\n",
      "Encode File Loaded\n",
      "YESSSSSS\n",
      "Loading Encode File ...\n",
      "Encode File Loaded\n",
      "YESSSSSS\n",
      "Loading Encode File ...\n",
      "Encode File Loaded\n"
     ]
    },
    {
     "name": "stderr",
     "output_type": "stream",
     "text": [
      "127.0.0.1 - - [23/Nov/2023 13:09:08] \"POST /live HTTP/1.1\" 200 -\n",
      "127.0.0.1 - - [23/Nov/2023 13:09:08] \"POST /live HTTP/1.1\" 200 -\n",
      "127.0.0.1 - - [23/Nov/2023 13:09:08] \"POST /live HTTP/1.1\" 200 -\n",
      "127.0.0.1 - - [23/Nov/2023 13:09:08] \"POST /live HTTP/1.1\" 200 -\n",
      "127.0.0.1 - - [23/Nov/2023 13:09:08] \"POST /live HTTP/1.1\" 200 -\n"
     ]
    },
    {
     "name": "stdout",
     "output_type": "stream",
     "text": [
      "YESSSSSS\n",
      "Loading Encode File ...\n",
      "Encode File Loaded\n",
      "YESSSSSS\n",
      "Loading Encode File ...\n",
      "Encode File Loaded\n",
      "YESSSSSS\n",
      "Loading Encode File ...\n",
      "Encode File Loaded\n",
      "YESSSSSS\n",
      "Loading Encode File ...\n",
      "Encode File Loaded\n"
     ]
    },
    {
     "name": "stderr",
     "output_type": "stream",
     "text": [
      "127.0.0.1 - - [23/Nov/2023 13:09:08] \"POST /live HTTP/1.1\" 200 -\n",
      "127.0.0.1 - - [23/Nov/2023 13:09:08] \"POST /live HTTP/1.1\" 200 -\n",
      "127.0.0.1 - - [23/Nov/2023 13:09:08] \"POST /live HTTP/1.1\" 200 -\n"
     ]
    },
    {
     "name": "stdout",
     "output_type": "stream",
     "text": [
      "YESSSSSS\n",
      "Loading Encode File ...\n",
      "Encode File Loaded\n",
      "YESSSSSS\n",
      "Loading Encode File ...\n",
      "Encode File Loaded\n",
      "YESSSSSS\n",
      "Loading Encode File ...\n",
      "Encode File Loaded\n",
      "YESSSSSS\n",
      "Loading Encode File ...\n",
      "Encode File Loaded\n"
     ]
    },
    {
     "name": "stderr",
     "output_type": "stream",
     "text": [
      "127.0.0.1 - - [23/Nov/2023 13:09:08] \"POST /live HTTP/1.1\" 200 -\n",
      "127.0.0.1 - - [23/Nov/2023 13:09:08] \"POST /live HTTP/1.1\" 200 -\n",
      "127.0.0.1 - - [23/Nov/2023 13:09:08] \"POST /live HTTP/1.1\" 200 -\n",
      "127.0.0.1 - - [23/Nov/2023 13:09:08] \"POST /live HTTP/1.1\" 200 -\n"
     ]
    },
    {
     "name": "stdout",
     "output_type": "stream",
     "text": [
      "YESSSSSS\n",
      "Loading Encode File ...\n",
      "Encode File Loaded\n",
      "YESSSSSS\n",
      "Loading Encode File ...\n",
      "Encode File Loaded\n",
      "YESSSSSS\n",
      "Loading Encode File ...\n",
      "Encode File Loaded\n",
      "YESSSSSS\n",
      "Loading Encode File ...\n",
      "Encode File Loaded\n"
     ]
    },
    {
     "name": "stderr",
     "output_type": "stream",
     "text": [
      "127.0.0.1 - - [23/Nov/2023 13:09:08] \"POST /live HTTP/1.1\" 200 -\n",
      "127.0.0.1 - - [23/Nov/2023 13:09:08] \"POST /live HTTP/1.1\" 200 -\n",
      "127.0.0.1 - - [23/Nov/2023 13:09:09] \"POST /live HTTP/1.1\" 200 -\n",
      "127.0.0.1 - - [23/Nov/2023 13:09:09] \"POST /live HTTP/1.1\" 200 -\n",
      "127.0.0.1 - - [23/Nov/2023 13:09:09] \"POST /live HTTP/1.1\" 200 -\n"
     ]
    },
    {
     "name": "stdout",
     "output_type": "stream",
     "text": [
      "YESSSSSS\n",
      "Loading Encode File ...\n",
      "Encode File Loaded\n",
      "YESSSSSS\n",
      "Loading Encode File ...\n",
      "Encode File Loaded\n",
      "YESSSSSS\n",
      "Loading Encode File ...\n",
      "Encode File Loaded\n",
      "YESSSSSS\n",
      "Loading Encode File ...\n",
      "Encode File Loaded\n"
     ]
    },
    {
     "name": "stderr",
     "output_type": "stream",
     "text": [
      "127.0.0.1 - - [23/Nov/2023 13:09:09] \"POST /live HTTP/1.1\" 200 -\n",
      "127.0.0.1 - - [23/Nov/2023 13:09:09] \"POST /live HTTP/1.1\" 200 -\n",
      "127.0.0.1 - - [23/Nov/2023 13:09:09] \"POST /live HTTP/1.1\" 200 -\n",
      "127.0.0.1 - - [23/Nov/2023 13:09:09] \"POST /live HTTP/1.1\" 200 -\n"
     ]
    },
    {
     "name": "stdout",
     "output_type": "stream",
     "text": [
      "YESSSSSS\n",
      "Loading Encode File ...\n",
      "Encode File Loaded\n",
      "YESSSSSS\n",
      "Loading Encode File ...\n",
      "Encode File Loaded\n",
      "YESSSSSS\n",
      "Loading Encode File ...\n",
      "Encode File Loaded\n",
      "YESSSSSS\n",
      "Loading Encode File ...\n",
      "Encode File Loaded\n"
     ]
    },
    {
     "name": "stderr",
     "output_type": "stream",
     "text": [
      "127.0.0.1 - - [23/Nov/2023 13:09:09] \"POST /live HTTP/1.1\" 200 -\n",
      "127.0.0.1 - - [23/Nov/2023 13:09:09] \"POST /live HTTP/1.1\" 200 -\n",
      "127.0.0.1 - - [23/Nov/2023 13:09:09] \"POST /live HTTP/1.1\" 200 -\n",
      "127.0.0.1 - - [23/Nov/2023 13:09:09] \"POST /live HTTP/1.1\" 200 -\n"
     ]
    },
    {
     "name": "stdout",
     "output_type": "stream",
     "text": [
      "YESSSSSS\n",
      "Loading Encode File ...\n",
      "Encode File Loaded\n",
      "YESSSSSS\n",
      "Loading Encode File ...\n",
      "Encode File Loaded\n",
      "YESSSSSS\n",
      "Loading Encode File ...\n",
      "Encode File Loaded\n",
      "YESSSSSS\n",
      "Loading Encode File ...\n",
      "Encode File Loaded\n"
     ]
    },
    {
     "name": "stderr",
     "output_type": "stream",
     "text": [
      "127.0.0.1 - - [23/Nov/2023 13:09:09] \"POST /live HTTP/1.1\" 200 -\n",
      "127.0.0.1 - - [23/Nov/2023 13:09:09] \"POST /live HTTP/1.1\" 200 -\n",
      "127.0.0.1 - - [23/Nov/2023 13:09:09] \"POST /live HTTP/1.1\" 200 -\n"
     ]
    },
    {
     "name": "stdout",
     "output_type": "stream",
     "text": [
      "YESSSSSS\n",
      "Loading Encode File ...\n",
      "Encode File Loaded\n",
      "YESSSSSS\n",
      "Loading Encode File ...\n",
      "Encode File Loaded\n",
      "YESSSSSS\n",
      "Loading Encode File ...\n",
      "Encode File Loaded\n",
      "YESSSSSS\n",
      "Loading Encode File ...\n",
      "Encode File Loaded\n"
     ]
    },
    {
     "name": "stderr",
     "output_type": "stream",
     "text": [
      "127.0.0.1 - - [23/Nov/2023 13:09:09] \"POST /live HTTP/1.1\" 200 -\n",
      "127.0.0.1 - - [23/Nov/2023 13:09:09] \"POST /live HTTP/1.1\" 200 -\n",
      "127.0.0.1 - - [23/Nov/2023 13:09:09] \"POST /live HTTP/1.1\" 200 -\n",
      "127.0.0.1 - - [23/Nov/2023 13:09:09] \"POST /live HTTP/1.1\" 200 -\n"
     ]
    },
    {
     "name": "stdout",
     "output_type": "stream",
     "text": [
      "YESSSSSS\n",
      "Loading Encode File ...\n",
      "Encode File Loaded\n",
      "YESSSSSS\n",
      "Loading Encode File ...\n",
      "Encode File Loaded\n",
      "YESSSSSS\n",
      "Loading Encode File ...\n",
      "Encode File Loaded\n",
      "YESSSSSS\n",
      "Loading Encode File ...\n",
      "Encode File Loaded\n"
     ]
    },
    {
     "name": "stderr",
     "output_type": "stream",
     "text": [
      "127.0.0.1 - - [23/Nov/2023 13:09:09] \"POST /live HTTP/1.1\" 200 -\n",
      "127.0.0.1 - - [23/Nov/2023 13:09:10] \"POST /live HTTP/1.1\" 200 -\n",
      "127.0.0.1 - - [23/Nov/2023 13:09:10] \"POST /live HTTP/1.1\" 200 -\n",
      "127.0.0.1 - - [23/Nov/2023 13:09:10] \"POST /live HTTP/1.1\" 200 -\n"
     ]
    },
    {
     "name": "stdout",
     "output_type": "stream",
     "text": [
      "YESSSSSS\n",
      "Loading Encode File ...\n",
      "Encode File Loaded\n",
      "YESSSSSS\n",
      "Loading Encode File ...\n",
      "Encode File Loaded\n",
      "YESSSSSS\n",
      "Loading Encode File ...\n",
      "Encode File Loaded\n",
      "YESSSSSS\n",
      "Loading Encode File ...\n",
      "Encode File Loaded\n"
     ]
    },
    {
     "name": "stderr",
     "output_type": "stream",
     "text": [
      "127.0.0.1 - - [23/Nov/2023 13:09:10] \"POST /live HTTP/1.1\" 200 -\n",
      "127.0.0.1 - - [23/Nov/2023 13:09:10] \"POST /live HTTP/1.1\" 200 -\n",
      "127.0.0.1 - - [23/Nov/2023 13:09:10] \"POST /live HTTP/1.1\" 200 -\n",
      "127.0.0.1 - - [23/Nov/2023 13:09:10] \"POST /live HTTP/1.1\" 200 -\n"
     ]
    },
    {
     "name": "stdout",
     "output_type": "stream",
     "text": [
      "YESSSSSS\n",
      "Loading Encode File ...\n",
      "Encode File Loaded\n",
      "YESSSSSS\n",
      "Loading Encode File ...\n",
      "Encode File Loaded\n",
      "YESSSSSS\n",
      "Loading Encode File ...\n",
      "Encode File Loaded\n",
      "YESSSSSS\n",
      "Loading Encode File ...\n",
      "Encode File Loaded\n"
     ]
    },
    {
     "name": "stderr",
     "output_type": "stream",
     "text": [
      "127.0.0.1 - - [23/Nov/2023 13:09:10] \"POST /live HTTP/1.1\" 200 -\n",
      "127.0.0.1 - - [23/Nov/2023 13:09:10] \"POST /live HTTP/1.1\" 200 -\n",
      "127.0.0.1 - - [23/Nov/2023 13:09:10] \"POST /live HTTP/1.1\" 200 -\n",
      "127.0.0.1 - - [23/Nov/2023 13:09:10] \"POST /live HTTP/1.1\" 200 -\n",
      "127.0.0.1 - - [23/Nov/2023 13:09:10] \"POST /live HTTP/1.1\" 200 -\n"
     ]
    },
    {
     "name": "stdout",
     "output_type": "stream",
     "text": [
      "YESSSSSS\n",
      "Loading Encode File ...\n",
      "Encode File Loaded\n",
      "YESSSSSS\n",
      "Loading Encode File ...\n",
      "Encode File Loaded\n",
      "YESSSSSS\n",
      "Loading Encode File ...\n",
      "Encode File Loaded\n",
      "YESSSSSS\n",
      "Loading Encode File ...\n",
      "Encode File Loaded\n"
     ]
    },
    {
     "name": "stderr",
     "output_type": "stream",
     "text": [
      "127.0.0.1 - - [23/Nov/2023 13:09:10] \"POST /live HTTP/1.1\" 200 -\n",
      "127.0.0.1 - - [23/Nov/2023 13:09:10] \"POST /live HTTP/1.1\" 200 -\n",
      "127.0.0.1 - - [23/Nov/2023 13:09:10] \"POST /live HTTP/1.1\" 200 -\n"
     ]
    },
    {
     "name": "stdout",
     "output_type": "stream",
     "text": [
      "YESSSSSS\n",
      "Loading Encode File ...\n",
      "Encode File Loaded\n",
      "YESSSSSS\n",
      "Loading Encode File ...\n",
      "Encode File Loaded\n",
      "YESSSSSS\n",
      "Loading Encode File ...\n",
      "Encode File Loaded\n",
      "YESSSSSS\n",
      "Loading Encode File ...\n",
      "Encode File Loaded\n"
     ]
    },
    {
     "name": "stderr",
     "output_type": "stream",
     "text": [
      "127.0.0.1 - - [23/Nov/2023 13:09:10] \"POST /live HTTP/1.1\" 200 -\n",
      "127.0.0.1 - - [23/Nov/2023 13:09:10] \"POST /live HTTP/1.1\" 200 -\n",
      "127.0.0.1 - - [23/Nov/2023 13:09:10] \"POST /live HTTP/1.1\" 200 -\n",
      "127.0.0.1 - - [23/Nov/2023 13:09:11] \"POST /live HTTP/1.1\" 200 -\n"
     ]
    },
    {
     "name": "stdout",
     "output_type": "stream",
     "text": [
      "YESSSSSS\n",
      "Loading Encode File ...\n",
      "Encode File Loaded\n",
      "YESSSSSS\n",
      "Loading Encode File ...\n",
      "Encode File Loaded\n",
      "YESSSSSS\n",
      "Loading Encode File ...\n",
      "Encode File Loaded\n",
      "YESSSSSS\n",
      "Loading Encode File ...\n",
      "Encode File Loaded\n"
     ]
    },
    {
     "name": "stderr",
     "output_type": "stream",
     "text": [
      "127.0.0.1 - - [23/Nov/2023 13:09:11] \"POST /live HTTP/1.1\" 200 -\n",
      "127.0.0.1 - - [23/Nov/2023 13:09:11] \"POST /live HTTP/1.1\" 200 -\n",
      "127.0.0.1 - - [23/Nov/2023 13:09:11] \"POST /live HTTP/1.1\" 200 -\n",
      "127.0.0.1 - - [23/Nov/2023 13:09:11] \"POST /live HTTP/1.1\" 200 -\n"
     ]
    },
    {
     "name": "stdout",
     "output_type": "stream",
     "text": [
      "YESSSSSS\n",
      "Loading Encode File ...\n",
      "Encode File Loaded\n",
      "YESSSSSS\n",
      "Loading Encode File ...\n",
      "Encode File Loaded\n",
      "YESSSSSS\n",
      "Loading Encode File ...\n",
      "Encode File Loaded\n",
      "YESSSSSS\n",
      "Loading Encode File ...\n",
      "Encode File Loaded\n"
     ]
    },
    {
     "name": "stderr",
     "output_type": "stream",
     "text": [
      "127.0.0.1 - - [23/Nov/2023 13:09:11] \"POST /live HTTP/1.1\" 200 -\n",
      "127.0.0.1 - - [23/Nov/2023 13:09:11] \"POST /live HTTP/1.1\" 200 -\n",
      "127.0.0.1 - - [23/Nov/2023 13:09:11] \"POST /live HTTP/1.1\" 200 -\n",
      "127.0.0.1 - - [23/Nov/2023 13:09:11] \"POST /live HTTP/1.1\" 200 -\n"
     ]
    },
    {
     "name": "stdout",
     "output_type": "stream",
     "text": [
      "YESSSSSS\n",
      "Loading Encode File ...\n",
      "Encode File Loaded\n",
      "YESSSSSS\n",
      "Loading Encode File ...\n",
      "Encode File Loaded\n",
      "YESSSSSS\n",
      "Loading Encode File ...\n",
      "Encode File Loaded\n",
      "YESSSSSS\n",
      "Loading Encode File ...\n",
      "Encode File Loaded\n"
     ]
    },
    {
     "name": "stderr",
     "output_type": "stream",
     "text": [
      "127.0.0.1 - - [23/Nov/2023 13:09:12] \"POST /live HTTP/1.1\" 200 -\n",
      "127.0.0.1 - - [23/Nov/2023 13:09:12] \"GET /static/Images/20BCE0607.png HTTP/1.1\" 304 -\n"
     ]
    },
    {
     "name": "stdout",
     "output_type": "stream",
     "text": [
      "Known Face Detected\n",
      "20BCE0607\n",
      "('Eeshani Majumder', '20BCE0607', 'Computer Science and Engineering', '2023-11-23 13:08:57')\n",
      "('2023-11-23 13:08:57',)\n",
      "YESSSSSS\n",
      "Loading Encode File ...\n",
      "Encode File Loaded\n"
     ]
    },
    {
     "name": "stderr",
     "output_type": "stream",
     "text": [
      "127.0.0.1 - - [23/Nov/2023 13:09:12] \"POST /live HTTP/1.1\" 200 -\n",
      "127.0.0.1 - - [23/Nov/2023 13:09:12] \"POST /live HTTP/1.1\" 200 -\n",
      "127.0.0.1 - - [23/Nov/2023 13:09:12] \"POST /live HTTP/1.1\" 200 -\n",
      "127.0.0.1 - - [23/Nov/2023 13:09:12] \"POST /live HTTP/1.1\" 200 -\n",
      "127.0.0.1 - - [23/Nov/2023 13:09:12] \"POST /live HTTP/1.1\" 200 -\n"
     ]
    },
    {
     "name": "stdout",
     "output_type": "stream",
     "text": [
      "YESSSSSS\n",
      "Loading Encode File ...\n",
      "Encode File Loaded\n",
      "YESSSSSS\n",
      "Loading Encode File ...\n",
      "Encode File Loaded\n",
      "YESSSSSS\n",
      "Loading Encode File ...\n",
      "Encode File Loaded\n",
      "YESSSSSS\n",
      "Loading Encode File ...\n",
      "Encode File Loaded\n",
      "YESSSSSS\n",
      "Loading Encode File ...\n",
      "Encode File Loaded\n"
     ]
    },
    {
     "name": "stderr",
     "output_type": "stream",
     "text": [
      "127.0.0.1 - - [23/Nov/2023 13:09:12] \"POST /live HTTP/1.1\" 200 -\n",
      "127.0.0.1 - - [23/Nov/2023 13:09:12] \"POST /live HTTP/1.1\" 200 -\n",
      "127.0.0.1 - - [23/Nov/2023 13:09:13] \"POST /live HTTP/1.1\" 200 -\n",
      "127.0.0.1 - - [23/Nov/2023 13:09:13] \"POST /live HTTP/1.1\" 200 -\n"
     ]
    },
    {
     "name": "stdout",
     "output_type": "stream",
     "text": [
      "YESSSSSS\n",
      "Loading Encode File ...\n",
      "Encode File Loaded\n",
      "YESSSSSS\n",
      "Loading Encode File ...\n",
      "Encode File Loaded\n",
      "YESSSSSS\n",
      "Loading Encode File ...\n",
      "Encode File Loaded\n",
      "YESSSSSS\n",
      "Loading Encode File ...\n",
      "Encode File Loaded\n"
     ]
    },
    {
     "name": "stderr",
     "output_type": "stream",
     "text": [
      "127.0.0.1 - - [23/Nov/2023 13:09:13] \"POST /live HTTP/1.1\" 200 -\n",
      "127.0.0.1 - - [23/Nov/2023 13:09:13] \"POST /live HTTP/1.1\" 200 -\n",
      "127.0.0.1 - - [23/Nov/2023 13:09:13] \"POST /live HTTP/1.1\" 200 -\n",
      "127.0.0.1 - - [23/Nov/2023 13:09:13] \"POST /live HTTP/1.1\" 200 -\n"
     ]
    },
    {
     "name": "stdout",
     "output_type": "stream",
     "text": [
      "YESSSSSS\n",
      "Loading Encode File ...\n",
      "Encode File Loaded\n",
      "YESSSSSS\n",
      "Loading Encode File ...\n",
      "Encode File Loaded\n",
      "YESSSSSS\n",
      "Loading Encode File ...\n",
      "Encode File Loaded\n",
      "YESSSSSS\n",
      "Loading Encode File ...\n",
      "Encode File Loaded\n"
     ]
    },
    {
     "name": "stderr",
     "output_type": "stream",
     "text": [
      "127.0.0.1 - - [23/Nov/2023 13:09:13] \"POST /live HTTP/1.1\" 200 -\n",
      "127.0.0.1 - - [23/Nov/2023 13:09:13] \"POST /live HTTP/1.1\" 200 -\n",
      "127.0.0.1 - - [23/Nov/2023 13:09:13] \"POST /live HTTP/1.1\" 200 -\n",
      "127.0.0.1 - - [23/Nov/2023 13:09:13] \"POST /live HTTP/1.1\" 200 -\n"
     ]
    },
    {
     "name": "stdout",
     "output_type": "stream",
     "text": [
      "YESSSSSS\n",
      "Loading Encode File ...\n",
      "Encode File Loaded\n",
      "YESSSSSS\n",
      "Loading Encode File ...\n",
      "Encode File Loaded\n",
      "YESSSSSS\n",
      "Loading Encode File ...\n",
      "Encode File Loaded\n",
      "YESSSSSS\n",
      "Loading Encode File ...\n",
      "Encode File Loaded\n"
     ]
    },
    {
     "name": "stderr",
     "output_type": "stream",
     "text": [
      "127.0.0.1 - - [23/Nov/2023 13:09:13] \"POST /live HTTP/1.1\" 200 -\n",
      "127.0.0.1 - - [23/Nov/2023 13:09:13] \"POST /live HTTP/1.1\" 200 -\n",
      "127.0.0.1 - - [23/Nov/2023 13:09:13] \"POST /live HTTP/1.1\" 200 -\n",
      "127.0.0.1 - - [23/Nov/2023 13:09:13] \"POST /live HTTP/1.1\" 200 -\n"
     ]
    },
    {
     "name": "stdout",
     "output_type": "stream",
     "text": [
      "YESSSSSS\n",
      "Loading Encode File ...\n",
      "Encode File Loaded\n",
      "YESSSSSS\n",
      "Loading Encode File ...\n",
      "Encode File Loaded\n",
      "YESSSSSS\n",
      "Loading Encode File ...\n",
      "Encode File Loaded\n",
      "YESSSSSS\n",
      "Loading Encode File ...\n",
      "Encode File Loaded\n"
     ]
    },
    {
     "name": "stderr",
     "output_type": "stream",
     "text": [
      "127.0.0.1 - - [23/Nov/2023 13:09:13] \"POST /live HTTP/1.1\" 200 -\n",
      "127.0.0.1 - - [23/Nov/2023 13:09:13] \"POST /live HTTP/1.1\" 200 -\n",
      "127.0.0.1 - - [23/Nov/2023 13:09:13] \"POST /live HTTP/1.1\" 200 -\n",
      "127.0.0.1 - - [23/Nov/2023 13:09:13] \"POST /live HTTP/1.1\" 200 -\n"
     ]
    },
    {
     "name": "stdout",
     "output_type": "stream",
     "text": [
      "YESSSSSS\n",
      "Loading Encode File ...\n",
      "Encode File Loaded\n",
      "YESSSSSS\n",
      "Loading Encode File ...\n",
      "Encode File Loaded\n",
      "YESSSSSS\n",
      "Loading Encode File ...\n",
      "Encode File Loaded\n",
      "YESSSSSS\n",
      "Loading Encode File ...\n",
      "Encode File Loaded\n"
     ]
    },
    {
     "name": "stderr",
     "output_type": "stream",
     "text": [
      "127.0.0.1 - - [23/Nov/2023 13:09:14] \"POST /live HTTP/1.1\" 200 -\n",
      "127.0.0.1 - - [23/Nov/2023 13:09:14] \"POST /live HTTP/1.1\" 200 -\n",
      "127.0.0.1 - - [23/Nov/2023 13:09:14] \"POST /live HTTP/1.1\" 200 -\n",
      "127.0.0.1 - - [23/Nov/2023 13:09:14] \"POST /live HTTP/1.1\" 200 -\n",
      "127.0.0.1 - - [23/Nov/2023 13:09:14] \"POST /live HTTP/1.1\" 200 -\n"
     ]
    },
    {
     "name": "stdout",
     "output_type": "stream",
     "text": [
      "YESSSSSS\n",
      "Loading Encode File ...\n",
      "Encode File Loaded\n",
      "YESSSSSS\n",
      "Loading Encode File ...\n",
      "Encode File Loaded\n",
      "YESSSSSS\n",
      "Loading Encode File ...\n",
      "Encode File Loaded\n",
      "YESSSSSS\n",
      "Loading Encode File ...\n",
      "Encode File Loaded\n"
     ]
    },
    {
     "name": "stderr",
     "output_type": "stream",
     "text": [
      "127.0.0.1 - - [23/Nov/2023 13:09:14] \"POST /live HTTP/1.1\" 200 -\n",
      "127.0.0.1 - - [23/Nov/2023 13:09:14] \"POST /live HTTP/1.1\" 200 -\n",
      "127.0.0.1 - - [23/Nov/2023 13:09:14] \"POST /live HTTP/1.1\" 200 -\n",
      "127.0.0.1 - - [23/Nov/2023 13:09:14] \"POST /live HTTP/1.1\" 200 -\n"
     ]
    },
    {
     "name": "stdout",
     "output_type": "stream",
     "text": [
      "YESSSSSS\n",
      "Loading Encode File ...\n",
      "Encode File Loaded\n",
      "YESSSSSS\n",
      "Loading Encode File ...\n",
      "Encode File Loaded\n",
      "YESSSSSS\n",
      "Loading Encode File ...\n",
      "Encode File Loaded\n",
      "YESSSSSS\n",
      "Loading Encode File ...\n",
      "Encode File Loaded\n"
     ]
    },
    {
     "name": "stderr",
     "output_type": "stream",
     "text": [
      "127.0.0.1 - - [23/Nov/2023 13:09:14] \"POST /live HTTP/1.1\" 200 -\n",
      "127.0.0.1 - - [23/Nov/2023 13:09:14] \"POST /live HTTP/1.1\" 200 -\n",
      "127.0.0.1 - - [23/Nov/2023 13:09:14] \"POST /live HTTP/1.1\" 200 -\n"
     ]
    },
    {
     "name": "stdout",
     "output_type": "stream",
     "text": [
      "YESSSSSS\n",
      "Loading Encode File ...\n",
      "Encode File Loaded\n",
      "YESSSSSS\n",
      "Loading Encode File ...\n",
      "Encode File Loaded\n",
      "YESSSSSS\n",
      "Loading Encode File ...\n",
      "Encode File Loaded\n",
      "YESSSSSS\n",
      "Loading Encode File ...\n",
      "Encode File Loaded\n"
     ]
    },
    {
     "name": "stderr",
     "output_type": "stream",
     "text": [
      "127.0.0.1 - - [23/Nov/2023 13:09:14] \"POST /live HTTP/1.1\" 200 -\n",
      "127.0.0.1 - - [23/Nov/2023 13:09:14] \"POST /live HTTP/1.1\" 200 -\n",
      "127.0.0.1 - - [23/Nov/2023 13:09:14] \"POST /live HTTP/1.1\" 200 -\n",
      "127.0.0.1 - - [23/Nov/2023 13:09:14] \"POST /live HTTP/1.1\" 200 -\n"
     ]
    },
    {
     "name": "stdout",
     "output_type": "stream",
     "text": [
      "YESSSSSS\n",
      "Loading Encode File ...\n",
      "Encode File Loaded\n",
      "YESSSSSS\n",
      "Loading Encode File ...\n",
      "Encode File Loaded\n",
      "YESSSSSS\n",
      "Loading Encode File ...\n",
      "Encode File Loaded\n",
      "YESSSSSS\n",
      "Loading Encode File ...\n",
      "Encode File Loaded\n"
     ]
    },
    {
     "name": "stderr",
     "output_type": "stream",
     "text": [
      "127.0.0.1 - - [23/Nov/2023 13:09:14] \"POST /live HTTP/1.1\" 200 -\n",
      "127.0.0.1 - - [23/Nov/2023 13:09:14] \"POST /live HTTP/1.1\" 200 -\n",
      "127.0.0.1 - - [23/Nov/2023 13:09:14] \"POST /live HTTP/1.1\" 200 -\n",
      "127.0.0.1 - - [23/Nov/2023 13:09:15] \"POST /live HTTP/1.1\" 200 -\n",
      "127.0.0.1 - - [23/Nov/2023 13:09:15] \"POST /live HTTP/1.1\" 200 -\n"
     ]
    },
    {
     "name": "stdout",
     "output_type": "stream",
     "text": [
      "YESSSSSS\n",
      "Loading Encode File ...\n",
      "Encode File Loaded\n",
      "YESSSSSS\n",
      "Loading Encode File ...\n",
      "Encode File Loaded\n",
      "YESSSSSS\n",
      "Loading Encode File ...\n",
      "Encode File Loaded\n",
      "YESSSSSS\n",
      "Loading Encode File ...\n",
      "Encode File Loaded\n"
     ]
    },
    {
     "name": "stderr",
     "output_type": "stream",
     "text": [
      "127.0.0.1 - - [23/Nov/2023 13:09:15] \"POST /live HTTP/1.1\" 200 -\n",
      "127.0.0.1 - - [23/Nov/2023 13:09:15] \"POST /live HTTP/1.1\" 200 -\n",
      "127.0.0.1 - - [23/Nov/2023 13:09:15] \"POST /live HTTP/1.1\" 200 -\n"
     ]
    },
    {
     "name": "stdout",
     "output_type": "stream",
     "text": [
      "YESSSSSS\n",
      "Loading Encode File ...\n",
      "Encode File Loaded\n",
      "YESSSSSS\n",
      "Loading Encode File ...\n",
      "Encode File Loaded\n",
      "YESSSSSS\n",
      "Loading Encode File ...\n",
      "Encode File Loaded\n",
      "YESSSSSS\n",
      "Loading Encode File ...\n",
      "Encode File Loaded\n"
     ]
    },
    {
     "name": "stderr",
     "output_type": "stream",
     "text": [
      "127.0.0.1 - - [23/Nov/2023 13:09:15] \"POST /live HTTP/1.1\" 200 -\n",
      "127.0.0.1 - - [23/Nov/2023 13:09:15] \"POST /live HTTP/1.1\" 200 -\n",
      "127.0.0.1 - - [23/Nov/2023 13:09:15] \"POST /live HTTP/1.1\" 200 -\n",
      "127.0.0.1 - - [23/Nov/2023 13:09:15] \"POST /live HTTP/1.1\" 200 -\n"
     ]
    },
    {
     "name": "stdout",
     "output_type": "stream",
     "text": [
      "YESSSSSS\n",
      "Loading Encode File ...\n",
      "Encode File Loaded\n",
      "YESSSSSS\n",
      "Loading Encode File ...\n",
      "Encode File Loaded\n",
      "YESSSSSS\n",
      "Loading Encode File ...\n",
      "Encode File Loaded\n",
      "YESSSSSS\n",
      "Loading Encode File ...\n",
      "Encode File Loaded\n"
     ]
    },
    {
     "name": "stderr",
     "output_type": "stream",
     "text": [
      "127.0.0.1 - - [23/Nov/2023 13:09:15] \"POST /live HTTP/1.1\" 200 -\n",
      "127.0.0.1 - - [23/Nov/2023 13:09:15] \"POST /live HTTP/1.1\" 200 -\n",
      "127.0.0.1 - - [23/Nov/2023 13:09:15] \"POST /live HTTP/1.1\" 200 -\n",
      "127.0.0.1 - - [23/Nov/2023 13:09:15] \"POST /live HTTP/1.1\" 200 -\n"
     ]
    },
    {
     "name": "stdout",
     "output_type": "stream",
     "text": [
      "YESSSSSS\n",
      "Loading Encode File ...\n",
      "Encode File Loaded\n",
      "YESSSSSS\n",
      "Loading Encode File ...\n",
      "Encode File Loaded\n",
      "YESSSSSS\n",
      "Loading Encode File ...\n",
      "Encode File Loaded\n",
      "YESSSSSS\n",
      "Loading Encode File ...\n",
      "Encode File Loaded\n"
     ]
    },
    {
     "name": "stderr",
     "output_type": "stream",
     "text": [
      "127.0.0.1 - - [23/Nov/2023 13:09:15] \"POST /live HTTP/1.1\" 200 -\n",
      "127.0.0.1 - - [23/Nov/2023 13:09:15] \"POST /live HTTP/1.1\" 200 -\n",
      "127.0.0.1 - - [23/Nov/2023 13:09:15] \"POST /live HTTP/1.1\" 200 -\n",
      "127.0.0.1 - - [23/Nov/2023 13:09:15] \"POST /live HTTP/1.1\" 200 -\n"
     ]
    },
    {
     "name": "stdout",
     "output_type": "stream",
     "text": [
      "YESSSSSS\n",
      "Loading Encode File ...\n",
      "Encode File Loaded\n",
      "YESSSSSS\n",
      "Loading Encode File ...\n",
      "Encode File Loaded\n",
      "YESSSSSS\n",
      "Loading Encode File ...\n",
      "Encode File Loaded\n",
      "YESSSSSS\n",
      "Loading Encode File ...\n",
      "Encode File Loaded\n"
     ]
    },
    {
     "name": "stderr",
     "output_type": "stream",
     "text": [
      "127.0.0.1 - - [23/Nov/2023 13:09:15] \"POST /live HTTP/1.1\" 200 -\n",
      "127.0.0.1 - - [23/Nov/2023 13:09:15] \"POST /live HTTP/1.1\" 200 -\n",
      "127.0.0.1 - - [23/Nov/2023 13:09:16] \"POST /live HTTP/1.1\" 200 -\n",
      "127.0.0.1 - - [23/Nov/2023 13:09:16] \"POST /live HTTP/1.1\" 200 -\n"
     ]
    },
    {
     "name": "stdout",
     "output_type": "stream",
     "text": [
      "YESSSSSS\n",
      "Loading Encode File ...\n",
      "Encode File Loaded\n",
      "YESSSSSS\n",
      "Loading Encode File ...\n",
      "Encode File Loaded\n",
      "YESSSSSS\n",
      "Loading Encode File ...\n",
      "Encode File Loaded\n",
      "YESSSSSS\n",
      "Loading Encode File ...\n",
      "Encode File Loaded\n"
     ]
    },
    {
     "name": "stderr",
     "output_type": "stream",
     "text": [
      "127.0.0.1 - - [23/Nov/2023 13:09:16] \"POST /live HTTP/1.1\" 200 -\n",
      "127.0.0.1 - - [23/Nov/2023 13:09:16] \"POST /live HTTP/1.1\" 200 -\n",
      "127.0.0.1 - - [23/Nov/2023 13:09:16] \"POST /live HTTP/1.1\" 200 -\n",
      "127.0.0.1 - - [23/Nov/2023 13:09:16] \"POST /live HTTP/1.1\" 200 -\n"
     ]
    },
    {
     "name": "stdout",
     "output_type": "stream",
     "text": [
      "YESSSSSS\n",
      "Loading Encode File ...\n",
      "Encode File Loaded\n",
      "YESSSSSS\n",
      "Loading Encode File ...\n",
      "Encode File Loaded\n",
      "YESSSSSS\n",
      "Loading Encode File ...\n",
      "Encode File Loaded\n",
      "YESSSSSS\n",
      "Loading Encode File ...\n",
      "Encode File Loaded\n"
     ]
    },
    {
     "name": "stderr",
     "output_type": "stream",
     "text": [
      "127.0.0.1 - - [23/Nov/2023 13:09:16] \"POST /live HTTP/1.1\" 200 -\n",
      "127.0.0.1 - - [23/Nov/2023 13:09:16] \"POST /live HTTP/1.1\" 200 -\n",
      "127.0.0.1 - - [23/Nov/2023 13:09:16] \"POST /live HTTP/1.1\" 200 -\n",
      "127.0.0.1 - - [23/Nov/2023 13:09:16] \"POST /live HTTP/1.1\" 200 -\n"
     ]
    },
    {
     "name": "stdout",
     "output_type": "stream",
     "text": [
      "YESSSSSS\n",
      "Loading Encode File ...\n",
      "Encode File Loaded\n",
      "YESSSSSS\n",
      "Loading Encode File ...\n",
      "Encode File Loaded\n",
      "YESSSSSS\n",
      "Loading Encode File ...\n",
      "Encode File Loaded\n",
      "YESSSSSS\n",
      "Loading Encode File ...\n",
      "Encode File Loaded\n"
     ]
    },
    {
     "name": "stderr",
     "output_type": "stream",
     "text": [
      "127.0.0.1 - - [23/Nov/2023 13:09:16] \"POST /live HTTP/1.1\" 200 -\n",
      "127.0.0.1 - - [23/Nov/2023 13:09:16] \"POST /live HTTP/1.1\" 200 -\n",
      "127.0.0.1 - - [23/Nov/2023 13:09:16] \"POST /live HTTP/1.1\" 200 -\n"
     ]
    },
    {
     "name": "stdout",
     "output_type": "stream",
     "text": [
      "YESSSSSS\n",
      "Loading Encode File ...\n",
      "Encode File Loaded\n",
      "YESSSSSS\n",
      "Loading Encode File ...\n",
      "Encode File Loaded\n",
      "YESSSSSS\n",
      "Loading Encode File ...\n",
      "Encode File Loaded\n"
     ]
    },
    {
     "name": "stderr",
     "output_type": "stream",
     "text": [
      "127.0.0.1 - - [23/Nov/2023 13:09:17] \"POST /live HTTP/1.1\" 200 -\n",
      "127.0.0.1 - - [23/Nov/2023 13:09:17] \"POST /live HTTP/1.1\" 200 -\n"
     ]
    },
    {
     "name": "stdout",
     "output_type": "stream",
     "text": [
      "Known Face Detected\n",
      "20BCE0607\n",
      "('Eeshani Majumder', '20BCE0607', 'Computer Science and Engineering', '2023-11-23 13:08:57')\n",
      "('2023-11-23 13:08:57',)\n",
      "YESSSSSS\n",
      "Loading Encode File ...\n",
      "Encode File Loaded\n",
      "YESSSSSS\n",
      "Loading Encode File ...\n",
      "Encode File Loaded\n"
     ]
    },
    {
     "name": "stderr",
     "output_type": "stream",
     "text": [
      "127.0.0.1 - - [23/Nov/2023 13:09:17] \"POST /live HTTP/1.1\" 200 -\n",
      "127.0.0.1 - - [23/Nov/2023 13:09:17] \"POST /live HTTP/1.1\" 200 -\n",
      "127.0.0.1 - - [23/Nov/2023 13:09:18] \"POST /live HTTP/1.1\" 200 -\n",
      "127.0.0.1 - - [23/Nov/2023 13:09:18] \"POST /live HTTP/1.1\" 200 -\n",
      "127.0.0.1 - - [23/Nov/2023 13:09:18] \"POST /live HTTP/1.1\" 200 -\n"
     ]
    },
    {
     "name": "stdout",
     "output_type": "stream",
     "text": [
      "YESSSSSS\n",
      "Loading Encode File ...\n",
      "Encode File Loaded\n",
      "YESSSSSS\n",
      "Loading Encode File ...\n",
      "Encode File Loaded\n",
      "YESSSSSS\n",
      "Loading Encode File ...\n",
      "Encode File Loaded\n",
      "YESSSSSS\n",
      "Loading Encode File ...\n",
      "Encode File Loaded\n"
     ]
    },
    {
     "name": "stderr",
     "output_type": "stream",
     "text": [
      "127.0.0.1 - - [23/Nov/2023 13:09:18] \"POST /live HTTP/1.1\" 200 -\n",
      "127.0.0.1 - - [23/Nov/2023 13:09:18] \"POST /live HTTP/1.1\" 200 -\n",
      "127.0.0.1 - - [23/Nov/2023 13:09:18] \"POST /live HTTP/1.1\" 200 -\n"
     ]
    },
    {
     "name": "stdout",
     "output_type": "stream",
     "text": [
      "YESSSSSS\n",
      "Loading Encode File ...\n",
      "Encode File Loaded\n",
      "YESSSSSS\n",
      "Loading Encode File ...\n",
      "Encode File Loaded\n",
      "YESSSSSS\n",
      "Loading Encode File ...\n",
      "Encode File Loaded\n",
      "YESSSSSS\n",
      "Loading Encode File ...\n",
      "Encode File Loaded\n"
     ]
    },
    {
     "name": "stderr",
     "output_type": "stream",
     "text": [
      "127.0.0.1 - - [23/Nov/2023 13:09:18] \"POST /live HTTP/1.1\" 200 -\n",
      "127.0.0.1 - - [23/Nov/2023 13:09:18] \"POST /live HTTP/1.1\" 200 -\n",
      "127.0.0.1 - - [23/Nov/2023 13:09:18] \"POST /live HTTP/1.1\" 200 -\n",
      "127.0.0.1 - - [23/Nov/2023 13:09:18] \"POST /live HTTP/1.1\" 200 -\n"
     ]
    },
    {
     "name": "stdout",
     "output_type": "stream",
     "text": [
      "YESSSSSS\n",
      "Loading Encode File ...\n",
      "Encode File Loaded\n",
      "YESSSSSS\n",
      "Loading Encode File ...\n",
      "Encode File Loaded\n",
      "YESSSSSS\n",
      "Loading Encode File ...\n",
      "Encode File Loaded\n",
      "YESSSSSS\n",
      "Loading Encode File ...\n",
      "Encode File Loaded\n"
     ]
    },
    {
     "name": "stderr",
     "output_type": "stream",
     "text": [
      "127.0.0.1 - - [23/Nov/2023 13:09:18] \"POST /live HTTP/1.1\" 200 -\n",
      "127.0.0.1 - - [23/Nov/2023 13:09:18] \"POST /live HTTP/1.1\" 200 -\n",
      "127.0.0.1 - - [23/Nov/2023 13:09:18] \"POST /live HTTP/1.1\" 200 -\n",
      "127.0.0.1 - - [23/Nov/2023 13:09:18] \"POST /live HTTP/1.1\" 200 -\n"
     ]
    },
    {
     "name": "stdout",
     "output_type": "stream",
     "text": [
      "YESSSSSS\n",
      "Loading Encode File ...\n",
      "Encode File Loaded\n",
      "YESSSSSS\n",
      "Loading Encode File ...\n",
      "Encode File Loaded\n",
      "YESSSSSS\n",
      "Loading Encode File ...\n",
      "Encode File Loaded\n",
      "YESSSSSS\n",
      "Loading Encode File ...\n",
      "Encode File Loaded\n"
     ]
    },
    {
     "name": "stderr",
     "output_type": "stream",
     "text": [
      "127.0.0.1 - - [23/Nov/2023 13:09:18] \"POST /live HTTP/1.1\" 200 -\n",
      "127.0.0.1 - - [23/Nov/2023 13:09:18] \"POST /live HTTP/1.1\" 200 -\n",
      "127.0.0.1 - - [23/Nov/2023 13:09:18] \"POST /live HTTP/1.1\" 200 -\n",
      "127.0.0.1 - - [23/Nov/2023 13:09:18] \"POST /live HTTP/1.1\" 200 -\n",
      "127.0.0.1 - - [23/Nov/2023 13:09:19] \"POST /live HTTP/1.1\" 200 -\n"
     ]
    },
    {
     "name": "stdout",
     "output_type": "stream",
     "text": [
      "YESSSSSS\n",
      "Loading Encode File ...\n",
      "Encode File Loaded\n",
      "YESSSSSS\n",
      "Loading Encode File ...\n",
      "Encode File Loaded\n",
      "YESSSSSS\n",
      "Loading Encode File ...\n",
      "Encode File Loaded\n",
      "YESSSSSS\n",
      "Loading Encode File ...\n",
      "Encode File Loaded\n"
     ]
    },
    {
     "name": "stderr",
     "output_type": "stream",
     "text": [
      "127.0.0.1 - - [23/Nov/2023 13:09:19] \"POST /live HTTP/1.1\" 200 -\n",
      "127.0.0.1 - - [23/Nov/2023 13:09:19] \"POST /live HTTP/1.1\" 200 -\n",
      "127.0.0.1 - - [23/Nov/2023 13:09:19] \"POST /live HTTP/1.1\" 200 -\n"
     ]
    },
    {
     "name": "stdout",
     "output_type": "stream",
     "text": [
      "YESSSSSS\n",
      "Loading Encode File ...\n",
      "Encode File Loaded\n",
      "YESSSSSS\n",
      "Loading Encode File ...\n",
      "Encode File Loaded\n",
      "YESSSSSS\n",
      "Loading Encode File ...\n",
      "Encode File Loaded\n",
      "YESSSSSS\n",
      "Loading Encode File ...\n",
      "Encode File Loaded\n"
     ]
    },
    {
     "name": "stderr",
     "output_type": "stream",
     "text": [
      "127.0.0.1 - - [23/Nov/2023 13:09:19] \"POST /live HTTP/1.1\" 200 -\n",
      "127.0.0.1 - - [23/Nov/2023 13:09:19] \"POST /live HTTP/1.1\" 200 -\n"
     ]
    },
    {
     "name": "stdout",
     "output_type": "stream",
     "text": [
      "YESSSSSS\n",
      "Loading Encode File ...\n",
      "Encode File Loaded\n",
      "YESSSSSS\n",
      "Loading Encode File ...\n",
      "Encode File Loaded\n"
     ]
    },
    {
     "name": "stderr",
     "output_type": "stream",
     "text": [
      "127.0.0.1 - - [23/Nov/2023 13:09:20] \"POST /live HTTP/1.1\" 200 -\n"
     ]
    },
    {
     "name": "stdout",
     "output_type": "stream",
     "text": [
      "YESSSSSS\n",
      "Loading Encode File ...\n",
      "Encode File Loaded\n"
     ]
    },
    {
     "name": "stderr",
     "output_type": "stream",
     "text": [
      "127.0.0.1 - - [23/Nov/2023 13:09:21] \"POST /live HTTP/1.1\" 200 -\n",
      "127.0.0.1 - - [23/Nov/2023 13:09:21] \"GET /static/Images/20BCE0785.png HTTP/1.1\" 304 -\n"
     ]
    },
    {
     "name": "stdout",
     "output_type": "stream",
     "text": [
      "Known Face Detected\n",
      "20BCE0785\n",
      "('Ananya Singh', '20BCE0785', 'Computer Science and Engineering', '2023-11-23 13:08:56')\n",
      "('2023-11-23 13:08:56',)\n",
      "YESSSSSS\n",
      "Loading Encode File ...\n",
      "Encode File Loaded\n"
     ]
    },
    {
     "name": "stderr",
     "output_type": "stream",
     "text": [
      "127.0.0.1 - - [23/Nov/2023 13:09:22] \"POST /live HTTP/1.1\" 200 -\n"
     ]
    },
    {
     "name": "stdout",
     "output_type": "stream",
     "text": [
      "Known Face Detected\n",
      "20BCE0785\n",
      "('Ananya Singh', '20BCE0785', 'Computer Science and Engineering', '2023-11-23 13:08:56')\n",
      "('2023-11-23 13:08:56',)\n",
      "YESSSSSS\n",
      "Loading Encode File ...\n",
      "Encode File Loaded\n"
     ]
    },
    {
     "name": "stderr",
     "output_type": "stream",
     "text": [
      "127.0.0.1 - - [23/Nov/2023 13:09:22] \"POST /live HTTP/1.1\" 200 -\n",
      "127.0.0.1 - - [23/Nov/2023 13:09:22] \"POST /live HTTP/1.1\" 200 -\n",
      "127.0.0.1 - - [23/Nov/2023 13:09:22] \"POST /live HTTP/1.1\" 200 -\n",
      "127.0.0.1 - - [23/Nov/2023 13:09:22] \"POST /live HTTP/1.1\" 200 -\n"
     ]
    },
    {
     "name": "stdout",
     "output_type": "stream",
     "text": [
      "YESSSSSS\n",
      "Loading Encode File ...\n",
      "Encode File Loaded\n",
      "YESSSSSS\n",
      "Loading Encode File ...\n",
      "Encode File Loaded\n",
      "YESSSSSS\n",
      "Loading Encode File ...\n",
      "Encode File Loaded\n",
      "YESSSSSS\n",
      "Loading Encode File ...\n",
      "Encode File Loaded\n"
     ]
    },
    {
     "name": "stderr",
     "output_type": "stream",
     "text": [
      "127.0.0.1 - - [23/Nov/2023 13:09:22] \"POST /live HTTP/1.1\" 200 -\n",
      "127.0.0.1 - - [23/Nov/2023 13:09:22] \"POST /live HTTP/1.1\" 200 -\n",
      "127.0.0.1 - - [23/Nov/2023 13:09:22] \"POST /live HTTP/1.1\" 200 -\n",
      "127.0.0.1 - - [23/Nov/2023 13:09:23] \"POST /live HTTP/1.1\" 200 -\n"
     ]
    },
    {
     "name": "stdout",
     "output_type": "stream",
     "text": [
      "YESSSSSS\n",
      "Loading Encode File ...\n",
      "Encode File Loaded\n",
      "YESSSSSS\n",
      "Loading Encode File ...\n",
      "Encode File Loaded\n",
      "YESSSSSS\n",
      "Loading Encode File ...\n",
      "Encode File Loaded\n",
      "YESSSSSS\n",
      "Loading Encode File ...\n",
      "Encode File Loaded\n"
     ]
    },
    {
     "name": "stderr",
     "output_type": "stream",
     "text": [
      "127.0.0.1 - - [23/Nov/2023 13:09:23] \"POST /live HTTP/1.1\" 200 -\n",
      "127.0.0.1 - - [23/Nov/2023 13:09:23] \"POST /live HTTP/1.1\" 200 -\n",
      "127.0.0.1 - - [23/Nov/2023 13:09:23] \"POST /live HTTP/1.1\" 200 -\n"
     ]
    },
    {
     "name": "stdout",
     "output_type": "stream",
     "text": [
      "YESSSSSS\n",
      "Loading Encode File ...\n",
      "Encode File Loaded\n",
      "YESSSSSS\n",
      "Loading Encode File ...\n",
      "Encode File Loaded\n",
      "YESSSSSS\n",
      "Loading Encode File ...\n",
      "Encode File Loaded\n"
     ]
    },
    {
     "name": "stderr",
     "output_type": "stream",
     "text": [
      "127.0.0.1 - - [23/Nov/2023 13:09:24] \"POST /live HTTP/1.1\" 200 -\n",
      "127.0.0.1 - - [23/Nov/2023 13:09:24] \"POST /live HTTP/1.1\" 200 -\n"
     ]
    },
    {
     "name": "stdout",
     "output_type": "stream",
     "text": [
      "Known Face Detected\n",
      "20BCE0607\n",
      "('Eeshani Majumder', '20BCE0607', 'Computer Science and Engineering', '2023-11-23 13:08:57')\n",
      "('2023-11-23 13:08:57',)\n",
      "YESSSSSS\n",
      "Loading Encode File ...\n",
      "Encode File Loaded\n",
      "YESSSSSS\n",
      "Loading Encode File ...\n",
      "Encode File Loaded\n"
     ]
    },
    {
     "name": "stderr",
     "output_type": "stream",
     "text": [
      "127.0.0.1 - - [23/Nov/2023 13:09:24] \"POST /live HTTP/1.1\" 200 -\n",
      "127.0.0.1 - - [23/Nov/2023 13:09:24] \"POST /live HTTP/1.1\" 200 -\n",
      "127.0.0.1 - - [23/Nov/2023 13:09:24] \"POST /live HTTP/1.1\" 200 -\n",
      "127.0.0.1 - - [23/Nov/2023 13:09:24] \"POST /live HTTP/1.1\" 200 -\n"
     ]
    },
    {
     "name": "stdout",
     "output_type": "stream",
     "text": [
      "YESSSSSS\n",
      "Loading Encode File ...\n",
      "Encode File Loaded\n",
      "YESSSSSS\n",
      "Loading Encode File ...\n",
      "Encode File Loaded\n",
      "YESSSSSS\n",
      "Loading Encode File ...\n",
      "Encode File Loaded\n",
      "YESSSSSS\n",
      "Loading Encode File ...\n",
      "Encode File Loaded\n"
     ]
    },
    {
     "name": "stderr",
     "output_type": "stream",
     "text": [
      "127.0.0.1 - - [23/Nov/2023 13:09:24] \"POST /live HTTP/1.1\" 200 -\n",
      "127.0.0.1 - - [23/Nov/2023 13:09:24] \"POST /live HTTP/1.1\" 200 -\n",
      "127.0.0.1 - - [23/Nov/2023 13:09:24] \"POST /live HTTP/1.1\" 200 -\n",
      "127.0.0.1 - - [23/Nov/2023 13:09:24] \"POST /live HTTP/1.1\" 200 -\n",
      "127.0.0.1 - - [23/Nov/2023 13:09:24] \"POST /live HTTP/1.1\" 200 -\n"
     ]
    },
    {
     "name": "stdout",
     "output_type": "stream",
     "text": [
      "YESSSSSS\n",
      "Loading Encode File ...\n",
      "Encode File Loaded\n",
      "YESSSSSS\n",
      "Loading Encode File ...\n",
      "Encode File Loaded\n",
      "YESSSSSS\n",
      "Loading Encode File ...\n",
      "Encode File Loaded\n",
      "YESSSSSS\n",
      "Loading Encode File ...\n",
      "Encode File Loaded\n"
     ]
    },
    {
     "name": "stderr",
     "output_type": "stream",
     "text": [
      "127.0.0.1 - - [23/Nov/2023 13:09:24] \"POST /live HTTP/1.1\" 200 -\n",
      "127.0.0.1 - - [23/Nov/2023 13:09:24] \"POST /live HTTP/1.1\" 200 -\n",
      "127.0.0.1 - - [23/Nov/2023 13:09:24] \"POST /live HTTP/1.1\" 200 -\n",
      "127.0.0.1 - - [23/Nov/2023 13:09:25] \"POST /live HTTP/1.1\" 200 -\n"
     ]
    },
    {
     "name": "stdout",
     "output_type": "stream",
     "text": [
      "YESSSSSS\n",
      "Loading Encode File ...\n",
      "Encode File Loaded\n",
      "YESSSSSS\n",
      "Loading Encode File ...\n",
      "Encode File Loaded\n",
      "YESSSSSS\n",
      "Loading Encode File ...\n",
      "Encode File Loaded\n",
      "YESSSSSS\n",
      "Loading Encode File ...\n",
      "Encode File Loaded\n",
      "YESSSSSS\n",
      "Loading Encode File ...\n",
      "Encode File Loaded\n"
     ]
    },
    {
     "name": "stderr",
     "output_type": "stream",
     "text": [
      "127.0.0.1 - - [23/Nov/2023 13:09:25] \"POST /live HTTP/1.1\" 200 -\n",
      "127.0.0.1 - - [23/Nov/2023 13:09:25] \"POST /live HTTP/1.1\" 200 -\n",
      "127.0.0.1 - - [23/Nov/2023 13:09:25] \"POST /live HTTP/1.1\" 200 -\n",
      "127.0.0.1 - - [23/Nov/2023 13:09:25] \"POST /live HTTP/1.1\" 200 -\n"
     ]
    },
    {
     "name": "stdout",
     "output_type": "stream",
     "text": [
      "YESSSSSS\n",
      "Loading Encode File ...\n",
      "Encode File Loaded\n",
      "YESSSSSS\n",
      "Loading Encode File ...\n",
      "Encode File Loaded\n",
      "YESSSSSS\n",
      "Loading Encode File ...\n",
      "Encode File Loaded\n",
      "YESSSSSS\n",
      "Loading Encode File ...\n",
      "Encode File Loaded\n"
     ]
    },
    {
     "name": "stderr",
     "output_type": "stream",
     "text": [
      "127.0.0.1 - - [23/Nov/2023 13:09:25] \"POST /live HTTP/1.1\" 200 -\n",
      "127.0.0.1 - - [23/Nov/2023 13:09:25] \"POST /live HTTP/1.1\" 200 -\n",
      "127.0.0.1 - - [23/Nov/2023 13:09:25] \"POST /live HTTP/1.1\" 200 -\n",
      "127.0.0.1 - - [23/Nov/2023 13:09:25] \"POST /live HTTP/1.1\" 200 -\n"
     ]
    },
    {
     "name": "stdout",
     "output_type": "stream",
     "text": [
      "YESSSSSS\n",
      "Loading Encode File ...\n",
      "Encode File Loaded\n",
      "YESSSSSS\n",
      "Loading Encode File ...\n",
      "Encode File Loaded\n",
      "YESSSSSS\n",
      "Loading Encode File ...\n",
      "Encode File Loaded\n",
      "YESSSSSS\n",
      "Loading Encode File ...\n",
      "Encode File Loaded\n"
     ]
    },
    {
     "name": "stderr",
     "output_type": "stream",
     "text": [
      "127.0.0.1 - - [23/Nov/2023 13:09:25] \"POST /live HTTP/1.1\" 200 -\n",
      "127.0.0.1 - - [23/Nov/2023 13:09:25] \"POST /live HTTP/1.1\" 200 -\n",
      "127.0.0.1 - - [23/Nov/2023 13:09:25] \"POST /live HTTP/1.1\" 200 -\n",
      "127.0.0.1 - - [23/Nov/2023 13:09:25] \"POST /live HTTP/1.1\" 200 -\n"
     ]
    },
    {
     "name": "stdout",
     "output_type": "stream",
     "text": [
      "YESSSSSS\n",
      "Loading Encode File ...\n",
      "Encode File Loaded\n",
      "YESSSSSS\n",
      "Loading Encode File ...\n",
      "Encode File Loaded\n",
      "YESSSSSS\n",
      "Loading Encode File ...\n",
      "Encode File Loaded\n",
      "YESSSSSS\n",
      "Loading Encode File ...\n",
      "Encode File Loaded\n"
     ]
    },
    {
     "name": "stderr",
     "output_type": "stream",
     "text": [
      "127.0.0.1 - - [23/Nov/2023 13:09:25] \"POST /live HTTP/1.1\" 200 -\n",
      "127.0.0.1 - - [23/Nov/2023 13:09:25] \"POST /live HTTP/1.1\" 200 -\n",
      "127.0.0.1 - - [23/Nov/2023 13:09:25] \"POST /live HTTP/1.1\" 200 -\n",
      "127.0.0.1 - - [23/Nov/2023 13:09:25] \"POST /live HTTP/1.1\" 200 -\n"
     ]
    },
    {
     "name": "stdout",
     "output_type": "stream",
     "text": [
      "YESSSSSS\n",
      "Loading Encode File ...\n",
      "Encode File Loaded\n",
      "YESSSSSS\n",
      "Loading Encode File ...\n",
      "Encode File Loaded\n",
      "YESSSSSS\n",
      "Loading Encode File ...\n",
      "Encode File Loaded\n",
      "YESSSSSS\n",
      "Loading Encode File ...\n",
      "Encode File Loaded\n"
     ]
    },
    {
     "name": "stderr",
     "output_type": "stream",
     "text": [
      "127.0.0.1 - - [23/Nov/2023 13:09:25] \"POST /live HTTP/1.1\" 200 -\n",
      "127.0.0.1 - - [23/Nov/2023 13:09:25] \"POST /live HTTP/1.1\" 200 -\n",
      "127.0.0.1 - - [23/Nov/2023 13:09:26] \"POST /live HTTP/1.1\" 200 -\n",
      "127.0.0.1 - - [23/Nov/2023 13:09:26] \"POST /live HTTP/1.1\" 200 -\n",
      "127.0.0.1 - - [23/Nov/2023 13:09:26] \"POST /live HTTP/1.1\" 200 -\n"
     ]
    },
    {
     "name": "stdout",
     "output_type": "stream",
     "text": [
      "YESSSSSS\n",
      "Loading Encode File ...\n",
      "Encode File Loaded\n",
      "YESSSSSS\n",
      "Loading Encode File ...\n",
      "Encode File Loaded\n",
      "YESSSSSS\n",
      "Loading Encode File ...\n",
      "Encode File Loaded\n",
      "YESSSSSS\n",
      "Loading Encode File ...\n",
      "Encode File Loaded\n",
      "YESSSSSS\n",
      "Loading Encode File ...\n",
      "Encode File Loaded\n"
     ]
    },
    {
     "name": "stderr",
     "output_type": "stream",
     "text": [
      "127.0.0.1 - - [23/Nov/2023 13:09:26] \"POST /live HTTP/1.1\" 200 -\n",
      "127.0.0.1 - - [23/Nov/2023 13:09:26] \"POST /live HTTP/1.1\" 200 -\n",
      "127.0.0.1 - - [23/Nov/2023 13:09:26] \"POST /live HTTP/1.1\" 200 -\n",
      "127.0.0.1 - - [23/Nov/2023 13:09:26] \"POST /live HTTP/1.1\" 200 -\n",
      "127.0.0.1 - - [23/Nov/2023 13:09:26] \"POST /live HTTP/1.1\" 200 -\n"
     ]
    },
    {
     "name": "stdout",
     "output_type": "stream",
     "text": [
      "YESSSSSS\n",
      "Loading Encode File ...\n",
      "Encode File Loaded\n",
      "YESSSSSS\n",
      "Loading Encode File ...\n",
      "Encode File Loaded\n",
      "YESSSSSS\n",
      "Loading Encode File ...\n",
      "Encode File Loaded\n",
      "YESSSSSS\n",
      "Loading Encode File ...\n",
      "Encode File Loaded\n",
      "YESSSSSS\n",
      "Loading Encode File ...\n",
      "Encode File Loaded\n"
     ]
    },
    {
     "name": "stderr",
     "output_type": "stream",
     "text": [
      "127.0.0.1 - - [23/Nov/2023 13:09:26] \"POST /live HTTP/1.1\" 200 -\n",
      "127.0.0.1 - - [23/Nov/2023 13:09:26] \"POST /live HTTP/1.1\" 200 -\n",
      "127.0.0.1 - - [23/Nov/2023 13:09:26] \"POST /live HTTP/1.1\" 200 -\n",
      "127.0.0.1 - - [23/Nov/2023 13:09:26] \"POST /live HTTP/1.1\" 200 -\n"
     ]
    },
    {
     "name": "stdout",
     "output_type": "stream",
     "text": [
      "YESSSSSS\n",
      "Loading Encode File ...\n",
      "Encode File Loaded\n",
      "YESSSSSS\n",
      "Loading Encode File ...\n",
      "Encode File Loaded\n",
      "YESSSSSS\n",
      "Loading Encode File ...\n",
      "Encode File Loaded\n",
      "YESSSSSS\n",
      "Loading Encode File ...\n",
      "Encode File Loaded\n"
     ]
    },
    {
     "name": "stderr",
     "output_type": "stream",
     "text": [
      "127.0.0.1 - - [23/Nov/2023 13:09:26] \"POST /live HTTP/1.1\" 200 -\n",
      "127.0.0.1 - - [23/Nov/2023 13:09:26] \"POST /live HTTP/1.1\" 200 -\n",
      "127.0.0.1 - - [23/Nov/2023 13:09:26] \"POST /live HTTP/1.1\" 200 -\n",
      "127.0.0.1 - - [23/Nov/2023 13:09:26] \"POST /live HTTP/1.1\" 200 -\n"
     ]
    },
    {
     "name": "stdout",
     "output_type": "stream",
     "text": [
      "YESSSSSS\n",
      "Loading Encode File ...\n",
      "Encode File Loaded\n",
      "YESSSSSS\n",
      "Loading Encode File ...\n",
      "Encode File Loaded\n",
      "YESSSSSS\n",
      "Loading Encode File ...\n",
      "Encode File Loaded\n",
      "YESSSSSS\n",
      "Loading Encode File ...\n",
      "Encode File Loaded\n"
     ]
    },
    {
     "name": "stderr",
     "output_type": "stream",
     "text": [
      "127.0.0.1 - - [23/Nov/2023 13:09:26] \"POST /live HTTP/1.1\" 200 -\n",
      "127.0.0.1 - - [23/Nov/2023 13:09:26] \"POST /live HTTP/1.1\" 200 -\n",
      "127.0.0.1 - - [23/Nov/2023 13:09:26] \"POST /live HTTP/1.1\" 200 -\n",
      "127.0.0.1 - - [23/Nov/2023 13:09:27] \"POST /live HTTP/1.1\" 200 -\n"
     ]
    },
    {
     "name": "stdout",
     "output_type": "stream",
     "text": [
      "YESSSSSS\n",
      "Loading Encode File ...\n",
      "Encode File Loaded\n",
      "YESSSSSS\n",
      "Loading Encode File ...\n",
      "Encode File Loaded\n",
      "YESSSSSS\n",
      "Loading Encode File ...\n",
      "Encode File Loaded\n",
      "YESSSSSS\n",
      "Loading Encode File ...\n",
      "Encode File Loaded\n"
     ]
    },
    {
     "name": "stderr",
     "output_type": "stream",
     "text": [
      "127.0.0.1 - - [23/Nov/2023 13:09:27] \"POST /live HTTP/1.1\" 200 -\n",
      "127.0.0.1 - - [23/Nov/2023 13:09:27] \"POST /live HTTP/1.1\" 200 -\n",
      "127.0.0.1 - - [23/Nov/2023 13:09:27] \"POST /live HTTP/1.1\" 200 -\n",
      "127.0.0.1 - - [23/Nov/2023 13:09:27] \"POST /live HTTP/1.1\" 200 -\n",
      "127.0.0.1 - - [23/Nov/2023 13:09:27] \"POST /live HTTP/1.1\" 200 -\n"
     ]
    },
    {
     "name": "stdout",
     "output_type": "stream",
     "text": [
      "YESSSSSS\n",
      "Loading Encode File ...\n",
      "Encode File Loaded\n",
      "YESSSSSS\n",
      "Loading Encode File ...\n",
      "Encode File Loaded\n",
      "YESSSSSS\n",
      "Loading Encode File ...\n",
      "Encode File Loaded\n",
      "YESSSSSS\n",
      "Loading Encode File ...\n",
      "Encode File Loaded\n"
     ]
    },
    {
     "name": "stderr",
     "output_type": "stream",
     "text": [
      "127.0.0.1 - - [23/Nov/2023 13:09:27] \"POST /live HTTP/1.1\" 200 -\n",
      "127.0.0.1 - - [23/Nov/2023 13:09:27] \"POST /live HTTP/1.1\" 200 -\n",
      "127.0.0.1 - - [23/Nov/2023 13:09:27] \"POST /live HTTP/1.1\" 200 -\n",
      "127.0.0.1 - - [23/Nov/2023 13:09:27] \"POST /live HTTP/1.1\" 200 -\n"
     ]
    },
    {
     "name": "stdout",
     "output_type": "stream",
     "text": [
      "YESSSSSS\n",
      "Loading Encode File ...\n",
      "Encode File Loaded\n",
      "YESSSSSS\n",
      "Loading Encode File ...\n",
      "Encode File Loaded\n",
      "YESSSSSS\n",
      "Loading Encode File ...\n",
      "Encode File Loaded\n",
      "YESSSSSS\n",
      "Loading Encode File ...\n",
      "Encode File Loaded\n"
     ]
    },
    {
     "name": "stderr",
     "output_type": "stream",
     "text": [
      "127.0.0.1 - - [23/Nov/2023 13:09:27] \"POST /live HTTP/1.1\" 200 -\n",
      "127.0.0.1 - - [23/Nov/2023 13:09:27] \"POST /live HTTP/1.1\" 200 -\n",
      "127.0.0.1 - - [23/Nov/2023 13:09:27] \"POST /live HTTP/1.1\" 200 -\n",
      "127.0.0.1 - - [23/Nov/2023 13:09:27] \"POST /live HTTP/1.1\" 200 -\n"
     ]
    },
    {
     "name": "stdout",
     "output_type": "stream",
     "text": [
      "YESSSSSS\n",
      "Loading Encode File ...\n",
      "Encode File Loaded\n",
      "YESSSSSS\n",
      "Loading Encode File ...\n",
      "Encode File Loaded\n",
      "YESSSSSS\n",
      "Loading Encode File ...\n",
      "Encode File Loaded\n",
      "YESSSSSS\n",
      "Loading Encode File ...\n",
      "Encode File Loaded\n"
     ]
    },
    {
     "name": "stderr",
     "output_type": "stream",
     "text": [
      "127.0.0.1 - - [23/Nov/2023 13:09:27] \"POST /live HTTP/1.1\" 200 -\n",
      "127.0.0.1 - - [23/Nov/2023 13:09:27] \"POST /live HTTP/1.1\" 200 -\n",
      "127.0.0.1 - - [23/Nov/2023 13:09:27] \"POST /live HTTP/1.1\" 200 -\n"
     ]
    },
    {
     "name": "stdout",
     "output_type": "stream",
     "text": [
      "YESSSSSS\n",
      "Loading Encode File ...\n",
      "Encode File Loaded\n",
      "YESSSSSS\n",
      "Loading Encode File ...\n",
      "Encode File Loaded\n",
      "YESSSSSS\n",
      "Loading Encode File ...\n",
      "Encode File Loaded\n",
      "YESSSSSS\n",
      "Loading Encode File ...\n",
      "Encode File Loaded\n"
     ]
    },
    {
     "name": "stderr",
     "output_type": "stream",
     "text": [
      "127.0.0.1 - - [23/Nov/2023 13:09:27] \"POST /live HTTP/1.1\" 200 -\n"
     ]
    },
    {
     "name": "stdout",
     "output_type": "stream",
     "text": [
      "YESSSSSS\n",
      "Loading Encode File ...\n",
      "Encode File Loaded\n"
     ]
    },
    {
     "name": "stderr",
     "output_type": "stream",
     "text": [
      "127.0.0.1 - - [23/Nov/2023 13:09:28] \"POST /live HTTP/1.1\" 200 -\n",
      "127.0.0.1 - - [23/Nov/2023 13:09:28] \"POST /live HTTP/1.1\" 200 -\n",
      "127.0.0.1 - - [23/Nov/2023 13:09:29] \"POST /live HTTP/1.1\" 200 -\n",
      "127.0.0.1 - - [23/Nov/2023 13:09:29] \"POST /live HTTP/1.1\" 200 -\n"
     ]
    },
    {
     "name": "stdout",
     "output_type": "stream",
     "text": [
      "YESSSSSS\n",
      "Loading Encode File ...\n",
      "Encode File Loaded\n",
      "YESSSSSS\n",
      "Loading Encode File ...\n",
      "Encode File Loaded\n",
      "YESSSSSS\n",
      "Loading Encode File ...\n",
      "Encode File Loaded\n",
      "YESSSSSS\n",
      "Loading Encode File ...\n",
      "Encode File Loaded\n"
     ]
    },
    {
     "name": "stderr",
     "output_type": "stream",
     "text": [
      "127.0.0.1 - - [23/Nov/2023 13:09:29] \"POST /live HTTP/1.1\" 200 -\n",
      "127.0.0.1 - - [23/Nov/2023 13:09:29] \"POST /live HTTP/1.1\" 200 -\n",
      "127.0.0.1 - - [23/Nov/2023 13:09:29] \"POST /live HTTP/1.1\" 200 -\n",
      "127.0.0.1 - - [23/Nov/2023 13:09:29] \"POST /live HTTP/1.1\" 200 -\n"
     ]
    },
    {
     "name": "stdout",
     "output_type": "stream",
     "text": [
      "YESSSSSS\n",
      "Loading Encode File ...\n",
      "Encode File Loaded\n",
      "YESSSSSS\n",
      "Loading Encode File ...\n",
      "Encode File Loaded\n",
      "YESSSSSS\n",
      "Loading Encode File ...\n",
      "Encode File Loaded\n",
      "YESSSSSS\n",
      "Loading Encode File ...\n",
      "Encode File Loaded\n"
     ]
    },
    {
     "name": "stderr",
     "output_type": "stream",
     "text": [
      "127.0.0.1 - - [23/Nov/2023 13:09:29] \"POST /live HTTP/1.1\" 200 -\n",
      "127.0.0.1 - - [23/Nov/2023 13:09:29] \"POST /live HTTP/1.1\" 200 -\n",
      "127.0.0.1 - - [23/Nov/2023 13:09:29] \"POST /live HTTP/1.1\" 200 -\n",
      "127.0.0.1 - - [23/Nov/2023 13:09:29] \"POST /live HTTP/1.1\" 200 -\n",
      "127.0.0.1 - - [23/Nov/2023 13:09:29] \"POST /live HTTP/1.1\" 200 -\n"
     ]
    },
    {
     "name": "stdout",
     "output_type": "stream",
     "text": [
      "YESSSSSS\n",
      "Loading Encode File ...\n",
      "Encode File Loaded\n",
      "YESSSSSS\n",
      "Loading Encode File ...\n",
      "Encode File Loaded\n",
      "YESSSSSS\n",
      "Loading Encode File ...\n",
      "Encode File Loaded\n",
      "YESSSSSS\n",
      "Loading Encode File ...\n",
      "Encode File Loaded\n",
      "YESSSSSS\n",
      "Loading Encode File ...\n",
      "Encode File Loaded\n"
     ]
    },
    {
     "name": "stderr",
     "output_type": "stream",
     "text": [
      "127.0.0.1 - - [23/Nov/2023 13:09:29] \"POST /live HTTP/1.1\" 200 -\n",
      "127.0.0.1 - - [23/Nov/2023 13:09:29] \"POST /live HTTP/1.1\" 200 -\n",
      "127.0.0.1 - - [23/Nov/2023 13:09:29] \"POST /live HTTP/1.1\" 200 -\n",
      "127.0.0.1 - - [23/Nov/2023 13:09:29] \"POST /live HTTP/1.1\" 200 -\n"
     ]
    },
    {
     "name": "stdout",
     "output_type": "stream",
     "text": [
      "YESSSSSS\n",
      "Loading Encode File ...\n",
      "Encode File Loaded\n",
      "YESSSSSS\n",
      "Loading Encode File ...\n",
      "Encode File Loaded\n",
      "YESSSSSS\n",
      "Loading Encode File ...\n",
      "Encode File Loaded\n",
      "YESSSSSS\n",
      "Loading Encode File ...\n",
      "Encode File Loaded\n"
     ]
    },
    {
     "name": "stderr",
     "output_type": "stream",
     "text": [
      "127.0.0.1 - - [23/Nov/2023 13:09:29] \"POST /live HTTP/1.1\" 200 -\n",
      "127.0.0.1 - - [23/Nov/2023 13:09:29] \"POST /live HTTP/1.1\" 200 -\n",
      "127.0.0.1 - - [23/Nov/2023 13:09:29] \"POST /live HTTP/1.1\" 200 -\n",
      "127.0.0.1 - - [23/Nov/2023 13:09:29] \"POST /live HTTP/1.1\" 200 -\n"
     ]
    },
    {
     "name": "stdout",
     "output_type": "stream",
     "text": [
      "YESSSSSS\n",
      "Loading Encode File ...\n",
      "Encode File Loaded\n",
      "YESSSSSS\n",
      "Loading Encode File ...\n",
      "Encode File Loaded\n",
      "YESSSSSS\n",
      "Loading Encode File ...\n",
      "Encode File Loaded\n",
      "YESSSSSS\n",
      "Loading Encode File ...\n",
      "Encode File Loaded\n"
     ]
    },
    {
     "name": "stderr",
     "output_type": "stream",
     "text": [
      "127.0.0.1 - - [23/Nov/2023 13:09:30] \"POST /live HTTP/1.1\" 200 -\n",
      "127.0.0.1 - - [23/Nov/2023 13:09:30] \"POST /live HTTP/1.1\" 200 -\n",
      "127.0.0.1 - - [23/Nov/2023 13:09:30] \"POST /live HTTP/1.1\" 200 -\n",
      "127.0.0.1 - - [23/Nov/2023 13:09:30] \"POST /live HTTP/1.1\" 200 -\n"
     ]
    },
    {
     "name": "stdout",
     "output_type": "stream",
     "text": [
      "YESSSSSS\n",
      "Loading Encode File ...\n",
      "Encode File Loaded\n",
      "YESSSSSS\n",
      "Loading Encode File ...\n",
      "Encode File Loaded\n",
      "YESSSSSS\n",
      "Loading Encode File ...\n",
      "Encode File Loaded\n",
      "YESSSSSS\n",
      "Loading Encode File ...\n",
      "Encode File Loaded\n"
     ]
    },
    {
     "name": "stderr",
     "output_type": "stream",
     "text": [
      "127.0.0.1 - - [23/Nov/2023 13:09:30] \"POST /live HTTP/1.1\" 200 -\n",
      "127.0.0.1 - - [23/Nov/2023 13:09:30] \"POST /live HTTP/1.1\" 200 -\n",
      "127.0.0.1 - - [23/Nov/2023 13:09:30] \"POST /live HTTP/1.1\" 200 -\n",
      "127.0.0.1 - - [23/Nov/2023 13:09:30] \"POST /live HTTP/1.1\" 200 -\n"
     ]
    },
    {
     "name": "stdout",
     "output_type": "stream",
     "text": [
      "YESSSSSS\n",
      "Loading Encode File ...\n",
      "Encode File Loaded\n",
      "YESSSSSS\n",
      "Loading Encode File ...\n",
      "Encode File Loaded\n",
      "YESSSSSS\n",
      "Loading Encode File ...\n",
      "Encode File Loaded\n",
      "YESSSSSS\n",
      "Loading Encode File ...\n",
      "Encode File Loaded\n"
     ]
    },
    {
     "name": "stderr",
     "output_type": "stream",
     "text": [
      "127.0.0.1 - - [23/Nov/2023 13:09:30] \"POST /live HTTP/1.1\" 200 -\n",
      "127.0.0.1 - - [23/Nov/2023 13:09:30] \"POST /live HTTP/1.1\" 200 -\n",
      "127.0.0.1 - - [23/Nov/2023 13:09:30] \"POST /live HTTP/1.1\" 200 -\n",
      "127.0.0.1 - - [23/Nov/2023 13:09:30] \"POST /live HTTP/1.1\" 200 -\n"
     ]
    },
    {
     "name": "stdout",
     "output_type": "stream",
     "text": [
      "YESSSSSS\n",
      "Loading Encode File ...\n",
      "Encode File Loaded\n",
      "YESSSSSS\n",
      "Loading Encode File ...\n",
      "Encode File Loaded\n",
      "YESSSSSS\n",
      "Loading Encode File ...\n",
      "Encode File Loaded\n",
      "YESSSSSS\n",
      "Loading Encode File ...\n",
      "Encode File Loaded\n"
     ]
    },
    {
     "name": "stderr",
     "output_type": "stream",
     "text": [
      "127.0.0.1 - - [23/Nov/2023 13:09:30] \"POST /live HTTP/1.1\" 200 -\n",
      "127.0.0.1 - - [23/Nov/2023 13:09:30] \"POST /live HTTP/1.1\" 200 -\n",
      "127.0.0.1 - - [23/Nov/2023 13:09:30] \"POST /live HTTP/1.1\" 200 -\n",
      "127.0.0.1 - - [23/Nov/2023 13:09:30] \"POST /live HTTP/1.1\" 200 -\n",
      "127.0.0.1 - - [23/Nov/2023 13:09:30] \"POST /live HTTP/1.1\" 200 -\n"
     ]
    },
    {
     "name": "stdout",
     "output_type": "stream",
     "text": [
      "YESSSSSS\n",
      "Loading Encode File ...\n",
      "Encode File Loaded\n",
      "YESSSSSS\n",
      "Loading Encode File ...\n",
      "Encode File Loaded\n",
      "YESSSSSS\n",
      "Loading Encode File ...\n",
      "Encode File Loaded\n",
      "YESSSSSS\n",
      "Loading Encode File ...\n",
      "Encode File Loaded\n"
     ]
    },
    {
     "name": "stderr",
     "output_type": "stream",
     "text": [
      "127.0.0.1 - - [23/Nov/2023 13:09:30] \"POST /live HTTP/1.1\" 200 -\n",
      "127.0.0.1 - - [23/Nov/2023 13:09:30] \"POST /live HTTP/1.1\" 200 -\n",
      "127.0.0.1 - - [23/Nov/2023 13:09:31] \"POST /live HTTP/1.1\" 200 -\n",
      "127.0.0.1 - - [23/Nov/2023 13:09:31] \"POST /live HTTP/1.1\" 200 -\n"
     ]
    },
    {
     "name": "stdout",
     "output_type": "stream",
     "text": [
      "YESSSSSS\n",
      "Loading Encode File ...\n",
      "Encode File Loaded\n",
      "YESSSSSS\n",
      "Loading Encode File ...\n",
      "Encode File Loaded\n",
      "YESSSSSS\n",
      "Loading Encode File ...\n",
      "Encode File Loaded\n",
      "YESSSSSS\n",
      "Loading Encode File ...\n",
      "Encode File Loaded\n"
     ]
    },
    {
     "name": "stderr",
     "output_type": "stream",
     "text": [
      "127.0.0.1 - - [23/Nov/2023 13:09:31] \"POST /live HTTP/1.1\" 200 -\n",
      "127.0.0.1 - - [23/Nov/2023 13:09:31] \"POST /live HTTP/1.1\" 200 -\n",
      "127.0.0.1 - - [23/Nov/2023 13:09:31] \"POST /live HTTP/1.1\" 200 -\n"
     ]
    },
    {
     "name": "stdout",
     "output_type": "stream",
     "text": [
      "YESSSSSS\n",
      "Loading Encode File ...\n",
      "Encode File Loaded\n",
      "YESSSSSS\n",
      "Loading Encode File ...\n",
      "Encode File Loaded\n",
      "YESSSSSS\n",
      "Loading Encode File ...\n",
      "Encode File Loaded\n",
      "YESSSSSS\n",
      "Loading Encode File ...\n",
      "Encode File Loaded\n"
     ]
    },
    {
     "name": "stderr",
     "output_type": "stream",
     "text": [
      "127.0.0.1 - - [23/Nov/2023 13:09:31] \"POST /live HTTP/1.1\" 200 -\n",
      "127.0.0.1 - - [23/Nov/2023 13:09:31] \"POST /live HTTP/1.1\" 200 -\n",
      "127.0.0.1 - - [23/Nov/2023 13:09:31] \"POST /live HTTP/1.1\" 200 -\n",
      "127.0.0.1 - - [23/Nov/2023 13:09:31] \"POST /live HTTP/1.1\" 200 -\n"
     ]
    },
    {
     "name": "stdout",
     "output_type": "stream",
     "text": [
      "YESSSSSS\n",
      "Loading Encode File ...\n",
      "Encode File Loaded\n",
      "YESSSSSS\n",
      "Loading Encode File ...\n",
      "Encode File Loaded\n",
      "YESSSSSS\n",
      "Loading Encode File ...\n",
      "Encode File Loaded\n",
      "YESSSSSS\n",
      "Loading Encode File ...\n",
      "Encode File Loaded\n"
     ]
    },
    {
     "name": "stderr",
     "output_type": "stream",
     "text": [
      "127.0.0.1 - - [23/Nov/2023 13:09:31] \"POST /live HTTP/1.1\" 200 -\n",
      "127.0.0.1 - - [23/Nov/2023 13:09:31] \"POST /live HTTP/1.1\" 200 -\n",
      "127.0.0.1 - - [23/Nov/2023 13:09:31] \"POST /live HTTP/1.1\" 200 -\n",
      "127.0.0.1 - - [23/Nov/2023 13:09:31] \"POST /live HTTP/1.1\" 200 -\n"
     ]
    },
    {
     "name": "stdout",
     "output_type": "stream",
     "text": [
      "YESSSSSS\n",
      "Loading Encode File ...\n",
      "Encode File Loaded\n",
      "YESSSSSS\n",
      "Loading Encode File ...\n",
      "Encode File Loaded\n",
      "YESSSSSS\n",
      "Loading Encode File ...\n",
      "Encode File Loaded\n",
      "YESSSSSS\n",
      "Loading Encode File ...\n",
      "Encode File Loaded\n"
     ]
    },
    {
     "name": "stderr",
     "output_type": "stream",
     "text": [
      "127.0.0.1 - - [23/Nov/2023 13:09:31] \"POST /live HTTP/1.1\" 200 -\n",
      "127.0.0.1 - - [23/Nov/2023 13:09:31] \"POST /live HTTP/1.1\" 200 -\n",
      "127.0.0.1 - - [23/Nov/2023 13:09:31] \"POST /live HTTP/1.1\" 200 -\n",
      "127.0.0.1 - - [23/Nov/2023 13:09:31] \"POST /live HTTP/1.1\" 200 -\n",
      "127.0.0.1 - - [23/Nov/2023 13:09:31] \"POST /live HTTP/1.1\" 200 -\n"
     ]
    },
    {
     "name": "stdout",
     "output_type": "stream",
     "text": [
      "YESSSSSS\n",
      "Loading Encode File ...\n",
      "Encode File Loaded\n",
      "YESSSSSS\n",
      "Loading Encode File ...\n",
      "Encode File Loaded\n",
      "YESSSSSS\n",
      "Loading Encode File ...\n",
      "Encode File Loaded\n",
      "YESSSSSS\n",
      "Loading Encode File ...\n",
      "Encode File Loaded\n"
     ]
    },
    {
     "name": "stderr",
     "output_type": "stream",
     "text": [
      "127.0.0.1 - - [23/Nov/2023 13:09:31] \"POST /live HTTP/1.1\" 200 -\n",
      "127.0.0.1 - - [23/Nov/2023 13:09:32] \"POST /live HTTP/1.1\" 200 -\n",
      "127.0.0.1 - - [23/Nov/2023 13:09:32] \"POST /live HTTP/1.1\" 200 -\n",
      "127.0.0.1 - - [23/Nov/2023 13:09:32] \"POST /live HTTP/1.1\" 200 -\n"
     ]
    },
    {
     "name": "stdout",
     "output_type": "stream",
     "text": [
      "YESSSSSS\n",
      "Loading Encode File ...\n",
      "Encode File Loaded\n",
      "YESSSSSS\n",
      "Loading Encode File ...\n",
      "Encode File Loaded\n",
      "YESSSSSS\n",
      "Loading Encode File ...\n",
      "Encode File Loaded\n",
      "YESSSSSS\n",
      "Loading Encode File ...\n",
      "Encode File Loaded\n"
     ]
    },
    {
     "name": "stderr",
     "output_type": "stream",
     "text": [
      "127.0.0.1 - - [23/Nov/2023 13:09:32] \"POST /live HTTP/1.1\" 200 -\n",
      "127.0.0.1 - - [23/Nov/2023 13:09:32] \"POST /live HTTP/1.1\" 200 -\n",
      "127.0.0.1 - - [23/Nov/2023 13:09:32] \"POST /live HTTP/1.1\" 200 -\n",
      "127.0.0.1 - - [23/Nov/2023 13:09:32] \"POST /live HTTP/1.1\" 200 -\n"
     ]
    },
    {
     "name": "stdout",
     "output_type": "stream",
     "text": [
      "YESSSSSS\n",
      "Loading Encode File ...\n",
      "Encode File Loaded\n",
      "YESSSSSS\n",
      "Loading Encode File ...\n",
      "Encode File Loaded\n",
      "YESSSSSS\n",
      "Loading Encode File ...\n",
      "Encode File Loaded\n",
      "YESSSSSS\n",
      "Loading Encode File ...\n",
      "Encode File Loaded\n"
     ]
    },
    {
     "name": "stderr",
     "output_type": "stream",
     "text": [
      "127.0.0.1 - - [23/Nov/2023 13:09:32] \"POST /live HTTP/1.1\" 200 -\n",
      "127.0.0.1 - - [23/Nov/2023 13:09:32] \"POST /live HTTP/1.1\" 200 -\n",
      "127.0.0.1 - - [23/Nov/2023 13:09:32] \"POST /live HTTP/1.1\" 200 -\n"
     ]
    },
    {
     "name": "stdout",
     "output_type": "stream",
     "text": [
      "YESSSSSS\n",
      "Loading Encode File ...\n",
      "Encode File Loaded\n",
      "YESSSSSS\n",
      "Loading Encode File ...\n",
      "Encode File Loaded\n",
      "YESSSSSS\n",
      "Loading Encode File ...\n",
      "Encode File Loaded\n",
      "YESSSSSS\n",
      "Loading Encode File ...\n",
      "Encode File Loaded\n"
     ]
    },
    {
     "name": "stderr",
     "output_type": "stream",
     "text": [
      "127.0.0.1 - - [23/Nov/2023 13:09:32] \"POST /live HTTP/1.1\" 200 -\n",
      "127.0.0.1 - - [23/Nov/2023 13:09:32] \"POST /live HTTP/1.1\" 200 -\n",
      "127.0.0.1 - - [23/Nov/2023 13:09:32] \"POST /live HTTP/1.1\" 200 -\n",
      "127.0.0.1 - - [23/Nov/2023 13:09:32] \"POST /live HTTP/1.1\" 200 -\n",
      "127.0.0.1 - - [23/Nov/2023 13:09:32] \"POST /live HTTP/1.1\" 200 -\n"
     ]
    },
    {
     "name": "stdout",
     "output_type": "stream",
     "text": [
      "YESSSSSS\n",
      "Loading Encode File ...\n",
      "Encode File Loaded\n",
      "YESSSSSS\n",
      "Loading Encode File ...\n",
      "Encode File Loaded\n",
      "YESSSSSS\n",
      "Loading Encode File ...\n",
      "Encode File Loaded\n",
      "YESSSSSS\n",
      "Loading Encode File ...\n",
      "Encode File Loaded\n"
     ]
    },
    {
     "name": "stderr",
     "output_type": "stream",
     "text": [
      "127.0.0.1 - - [23/Nov/2023 13:09:32] \"POST /live HTTP/1.1\" 200 -\n",
      "127.0.0.1 - - [23/Nov/2023 13:09:32] \"POST /live HTTP/1.1\" 200 -\n",
      "127.0.0.1 - - [23/Nov/2023 13:09:32] \"POST /live HTTP/1.1\" 200 -\n"
     ]
    },
    {
     "name": "stdout",
     "output_type": "stream",
     "text": [
      "YESSSSSS\n",
      "Loading Encode File ...\n",
      "Encode File Loaded\n",
      "YESSSSSS\n",
      "Loading Encode File ...\n",
      "Encode File Loaded\n",
      "YESSSSSS\n",
      "Loading Encode File ...\n",
      "Encode File Loaded\n",
      "YESSSSSS\n",
      "Loading Encode File ...\n",
      "Encode File Loaded\n"
     ]
    },
    {
     "name": "stderr",
     "output_type": "stream",
     "text": [
      "127.0.0.1 - - [23/Nov/2023 13:09:32] \"POST /live HTTP/1.1\" 200 -\n",
      "127.0.0.1 - - [23/Nov/2023 13:09:33] \"POST /live HTTP/1.1\" 200 -\n",
      "127.0.0.1 - - [23/Nov/2023 13:09:33] \"POST /live HTTP/1.1\" 200 -\n",
      "127.0.0.1 - - [23/Nov/2023 13:09:33] \"POST /live HTTP/1.1\" 200 -\n"
     ]
    },
    {
     "name": "stdout",
     "output_type": "stream",
     "text": [
      "YESSSSSS\n",
      "Loading Encode File ...\n",
      "Encode File Loaded\n",
      "YESSSSSS\n",
      "Loading Encode File ...\n",
      "Encode File Loaded\n",
      "YESSSSSS\n",
      "Loading Encode File ...\n",
      "Encode File Loaded\n",
      "YESSSSSS\n",
      "Loading Encode File ...\n",
      "Encode File Loaded\n"
     ]
    },
    {
     "name": "stderr",
     "output_type": "stream",
     "text": [
      "127.0.0.1 - - [23/Nov/2023 13:09:33] \"POST /live HTTP/1.1\" 200 -\n"
     ]
    },
    {
     "name": "stdout",
     "output_type": "stream",
     "text": [
      "YESSSSSS\n",
      "Loading Encode File ...\n",
      "Encode File Loaded\n"
     ]
    },
    {
     "name": "stderr",
     "output_type": "stream",
     "text": [
      "127.0.0.1 - - [23/Nov/2023 13:09:34] \"POST /live HTTP/1.1\" 200 -\n"
     ]
    },
    {
     "name": "stdout",
     "output_type": "stream",
     "text": [
      "Known Face Detected\n",
      "20BCE0607\n",
      "('Eeshani Majumder', '20BCE0607', 'Computer Science and Engineering', '2023-11-23 13:08:57')\n",
      "('2023-11-23 13:08:57',)\n",
      "YESSSSSS\n",
      "Loading Encode File ...\n",
      "Encode File Loaded\n"
     ]
    },
    {
     "name": "stderr",
     "output_type": "stream",
     "text": [
      "127.0.0.1 - - [23/Nov/2023 13:09:34] \"POST /live HTTP/1.1\" 200 -\n",
      "127.0.0.1 - - [23/Nov/2023 13:09:34] \"POST /live HTTP/1.1\" 200 -\n",
      "127.0.0.1 - - [23/Nov/2023 13:09:34] \"POST /live HTTP/1.1\" 200 -\n",
      "127.0.0.1 - - [23/Nov/2023 13:09:34] \"POST /live HTTP/1.1\" 200 -\n"
     ]
    },
    {
     "name": "stdout",
     "output_type": "stream",
     "text": [
      "YESSSSSS\n",
      "Loading Encode File ...\n",
      "Encode File Loaded\n",
      "YESSSSSS\n",
      "Loading Encode File ...\n",
      "Encode File Loaded\n",
      "YESSSSSS\n",
      "Loading Encode File ...\n",
      "Encode File Loaded\n",
      "YESSSSSS\n",
      "Loading Encode File ...\n",
      "Encode File Loaded\n"
     ]
    },
    {
     "name": "stderr",
     "output_type": "stream",
     "text": [
      "127.0.0.1 - - [23/Nov/2023 13:09:34] \"POST /live HTTP/1.1\" 200 -\n",
      "127.0.0.1 - - [23/Nov/2023 13:09:34] \"POST /live HTTP/1.1\" 200 -\n",
      "127.0.0.1 - - [23/Nov/2023 13:09:34] \"POST /live HTTP/1.1\" 200 -\n",
      "127.0.0.1 - - [23/Nov/2023 13:09:34] \"POST /live HTTP/1.1\" 200 -\n",
      "127.0.0.1 - - [23/Nov/2023 13:09:34] \"POST /live HTTP/1.1\" 200 -\n"
     ]
    },
    {
     "name": "stdout",
     "output_type": "stream",
     "text": [
      "YESSSSSS\n",
      "Loading Encode File ...\n",
      "Encode File Loaded\n",
      "YESSSSSS\n",
      "Loading Encode File ...\n",
      "Encode File Loaded\n",
      "YESSSSSS\n",
      "Loading Encode File ...\n",
      "Encode File Loaded\n",
      "YESSSSSS\n",
      "Loading Encode File ...\n",
      "Encode File Loaded\n",
      "YESSSSSS\n",
      "Loading Encode File ...\n",
      "Encode File Loaded\n"
     ]
    },
    {
     "name": "stderr",
     "output_type": "stream",
     "text": [
      "127.0.0.1 - - [23/Nov/2023 13:09:34] \"POST /live HTTP/1.1\" 200 -\n",
      "127.0.0.1 - - [23/Nov/2023 13:09:34] \"POST /live HTTP/1.1\" 200 -\n",
      "127.0.0.1 - - [23/Nov/2023 13:09:34] \"POST /live HTTP/1.1\" 200 -\n",
      "127.0.0.1 - - [23/Nov/2023 13:09:35] \"POST /live HTTP/1.1\" 200 -\n",
      "127.0.0.1 - - [23/Nov/2023 13:09:35] \"POST /live HTTP/1.1\" 200 -\n"
     ]
    },
    {
     "name": "stdout",
     "output_type": "stream",
     "text": [
      "YESSSSSS\n",
      "Loading Encode File ...\n",
      "Encode File Loaded\n",
      "YESSSSSS\n",
      "Loading Encode File ...\n",
      "Encode File Loaded\n",
      "YESSSSSS\n",
      "Loading Encode File ...\n",
      "Encode File Loaded\n",
      "YESSSSSS\n",
      "Loading Encode File ...\n",
      "Encode File Loaded\n",
      "YESSSSSS\n",
      "Loading Encode File ...\n",
      "Encode File Loaded\n"
     ]
    },
    {
     "name": "stderr",
     "output_type": "stream",
     "text": [
      "127.0.0.1 - - [23/Nov/2023 13:09:35] \"POST /live HTTP/1.1\" 200 -\n",
      "127.0.0.1 - - [23/Nov/2023 13:09:35] \"POST /live HTTP/1.1\" 200 -\n",
      "127.0.0.1 - - [23/Nov/2023 13:09:35] \"POST /live HTTP/1.1\" 200 -\n",
      "127.0.0.1 - - [23/Nov/2023 13:09:35] \"POST /live HTTP/1.1\" 200 -\n"
     ]
    },
    {
     "name": "stdout",
     "output_type": "stream",
     "text": [
      "YESSSSSS\n",
      "Loading Encode File ...\n",
      "Encode File Loaded\n",
      "YESSSSSS\n",
      "Loading Encode File ...\n",
      "Encode File Loaded\n",
      "YESSSSSS\n",
      "Loading Encode File ...\n",
      "Encode File Loaded\n",
      "YESSSSSS\n",
      "Loading Encode File ...\n",
      "Encode File Loaded\n"
     ]
    },
    {
     "name": "stderr",
     "output_type": "stream",
     "text": [
      "127.0.0.1 - - [23/Nov/2023 13:09:35] \"POST /live HTTP/1.1\" 200 -\n",
      "127.0.0.1 - - [23/Nov/2023 13:09:35] \"POST /live HTTP/1.1\" 200 -\n",
      "127.0.0.1 - - [23/Nov/2023 13:09:35] \"POST /live HTTP/1.1\" 200 -\n",
      "127.0.0.1 - - [23/Nov/2023 13:09:35] \"POST /live HTTP/1.1\" 200 -\n",
      "127.0.0.1 - - [23/Nov/2023 13:09:35] \"POST /live HTTP/1.1\" 200 -\n"
     ]
    },
    {
     "name": "stdout",
     "output_type": "stream",
     "text": [
      "YESSSSSS\n",
      "Loading Encode File ...\n",
      "Encode File Loaded\n",
      "YESSSSSS\n",
      "Loading Encode File ...\n",
      "Encode File Loaded\n",
      "YESSSSSS\n",
      "Loading Encode File ...\n",
      "Encode File Loaded\n",
      "YESSSSSS\n",
      "Loading Encode File ...\n",
      "Encode File Loaded\n"
     ]
    },
    {
     "name": "stderr",
     "output_type": "stream",
     "text": [
      "127.0.0.1 - - [23/Nov/2023 13:09:35] \"POST /live HTTP/1.1\" 200 -\n",
      "127.0.0.1 - - [23/Nov/2023 13:09:35] \"POST /live HTTP/1.1\" 200 -\n",
      "127.0.0.1 - - [23/Nov/2023 13:09:35] \"POST /live HTTP/1.1\" 200 -\n",
      "127.0.0.1 - - [23/Nov/2023 13:09:35] \"POST /live HTTP/1.1\" 200 -\n"
     ]
    },
    {
     "name": "stdout",
     "output_type": "stream",
     "text": [
      "YESSSSSS\n",
      "Loading Encode File ...\n",
      "Encode File Loaded\n",
      "YESSSSSS\n",
      "Loading Encode File ...\n",
      "Encode File Loaded\n",
      "YESSSSSS\n",
      "Loading Encode File ...\n",
      "Encode File Loaded\n",
      "YESSSSSS\n",
      "Loading Encode File ...\n",
      "Encode File Loaded\n"
     ]
    },
    {
     "name": "stderr",
     "output_type": "stream",
     "text": [
      "127.0.0.1 - - [23/Nov/2023 13:09:35] \"POST /live HTTP/1.1\" 200 -\n",
      "127.0.0.1 - - [23/Nov/2023 13:09:35] \"POST /live HTTP/1.1\" 200 -\n",
      "127.0.0.1 - - [23/Nov/2023 13:09:35] \"POST /live HTTP/1.1\" 200 -\n",
      "127.0.0.1 - - [23/Nov/2023 13:09:35] \"POST /live HTTP/1.1\" 200 -\n"
     ]
    },
    {
     "name": "stdout",
     "output_type": "stream",
     "text": [
      "YESSSSSS\n",
      "Loading Encode File ...\n",
      "Encode File Loaded\n",
      "YESSSSSS\n",
      "Loading Encode File ...\n",
      "Encode File Loaded\n",
      "YESSSSSS\n",
      "Loading Encode File ...\n",
      "Encode File Loaded\n",
      "YESSSSSS\n",
      "Loading Encode File ...\n",
      "Encode File Loaded\n"
     ]
    },
    {
     "name": "stderr",
     "output_type": "stream",
     "text": [
      "127.0.0.1 - - [23/Nov/2023 13:09:36] \"POST /live HTTP/1.1\" 200 -\n",
      "127.0.0.1 - - [23/Nov/2023 13:09:36] \"POST /live HTTP/1.1\" 200 -\n",
      "127.0.0.1 - - [23/Nov/2023 13:09:36] \"POST /live HTTP/1.1\" 200 -\n",
      "127.0.0.1 - - [23/Nov/2023 13:09:36] \"POST /live HTTP/1.1\" 200 -\n"
     ]
    },
    {
     "name": "stdout",
     "output_type": "stream",
     "text": [
      "YESSSSSS\n",
      "Loading Encode File ...\n",
      "Encode File Loaded\n",
      "YESSSSSS\n",
      "Loading Encode File ...\n",
      "Encode File Loaded\n",
      "YESSSSSS\n",
      "Loading Encode File ...\n",
      "Encode File Loaded\n",
      "YESSSSSS\n",
      "Loading Encode File ...\n",
      "Encode File Loaded\n"
     ]
    },
    {
     "name": "stderr",
     "output_type": "stream",
     "text": [
      "127.0.0.1 - - [23/Nov/2023 13:09:36] \"POST /live HTTP/1.1\" 200 -\n",
      "127.0.0.1 - - [23/Nov/2023 13:09:36] \"POST /live HTTP/1.1\" 200 -\n",
      "127.0.0.1 - - [23/Nov/2023 13:09:36] \"POST /live HTTP/1.1\" 200 -\n"
     ]
    },
    {
     "name": "stdout",
     "output_type": "stream",
     "text": [
      "YESSSSSS\n",
      "Loading Encode File ...\n",
      "Encode File Loaded\n",
      "YESSSSSS\n",
      "Loading Encode File ...\n",
      "Encode File Loaded\n",
      "YESSSSSS\n",
      "Loading Encode File ...\n",
      "Encode File Loaded\n",
      "YESSSSSS\n",
      "Loading Encode File ...\n",
      "Encode File Loaded\n"
     ]
    },
    {
     "name": "stderr",
     "output_type": "stream",
     "text": [
      "127.0.0.1 - - [23/Nov/2023 13:09:36] \"POST /live HTTP/1.1\" 200 -\n",
      "127.0.0.1 - - [23/Nov/2023 13:09:36] \"POST /live HTTP/1.1\" 200 -\n",
      "127.0.0.1 - - [23/Nov/2023 13:09:36] \"POST /live HTTP/1.1\" 200 -\n",
      "127.0.0.1 - - [23/Nov/2023 13:09:36] \"POST /live HTTP/1.1\" 200 -\n"
     ]
    },
    {
     "name": "stdout",
     "output_type": "stream",
     "text": [
      "YESSSSSS\n",
      "Loading Encode File ...\n",
      "Encode File Loaded\n",
      "YESSSSSS\n",
      "Loading Encode File ...\n",
      "Encode File Loaded\n",
      "YESSSSSS\n",
      "Loading Encode File ...\n",
      "Encode File Loaded\n",
      "YESSSSSS\n",
      "Loading Encode File ...\n",
      "Encode File Loaded\n"
     ]
    },
    {
     "name": "stderr",
     "output_type": "stream",
     "text": [
      "127.0.0.1 - - [23/Nov/2023 13:09:36] \"POST /live HTTP/1.1\" 200 -\n",
      "127.0.0.1 - - [23/Nov/2023 13:09:36] \"POST /live HTTP/1.1\" 200 -\n",
      "127.0.0.1 - - [23/Nov/2023 13:09:36] \"POST /live HTTP/1.1\" 200 -\n",
      "127.0.0.1 - - [23/Nov/2023 13:09:36] \"POST /live HTTP/1.1\" 200 -\n",
      "127.0.0.1 - - [23/Nov/2023 13:09:36] \"POST /live HTTP/1.1\" 200 -\n"
     ]
    },
    {
     "name": "stdout",
     "output_type": "stream",
     "text": [
      "YESSSSSS\n",
      "Loading Encode File ...\n",
      "Encode File Loaded\n",
      "YESSSSSS\n",
      "Loading Encode File ...\n",
      "Encode File Loaded\n",
      "YESSSSSS\n",
      "Loading Encode File ...\n",
      "Encode File Loaded\n",
      "YESSSSSS\n",
      "Loading Encode File ...\n",
      "Encode File Loaded\n"
     ]
    },
    {
     "name": "stderr",
     "output_type": "stream",
     "text": [
      "127.0.0.1 - - [23/Nov/2023 13:09:36] \"POST /live HTTP/1.1\" 200 -\n",
      "127.0.0.1 - - [23/Nov/2023 13:09:36] \"POST /live HTTP/1.1\" 200 -\n",
      "127.0.0.1 - - [23/Nov/2023 13:09:36] \"POST /live HTTP/1.1\" 200 -\n"
     ]
    },
    {
     "name": "stdout",
     "output_type": "stream",
     "text": [
      "YESSSSSS\n",
      "Loading Encode File ...\n",
      "Encode File Loaded\n",
      "YESSSSSS\n",
      "Loading Encode File ...\n",
      "Encode File Loaded\n",
      "YESSSSSS\n",
      "Loading Encode File ...\n",
      "Encode File Loaded\n",
      "YESSSSSS\n",
      "Loading Encode File ...\n",
      "Encode File Loaded\n"
     ]
    },
    {
     "name": "stderr",
     "output_type": "stream",
     "text": [
      "127.0.0.1 - - [23/Nov/2023 13:09:37] \"POST /live HTTP/1.1\" 200 -\n"
     ]
    },
    {
     "name": "stdout",
     "output_type": "stream",
     "text": [
      "YESSSSSS\n",
      "Loading Encode File ...\n",
      "Encode File Loaded\n"
     ]
    },
    {
     "name": "stderr",
     "output_type": "stream",
     "text": [
      "127.0.0.1 - - [23/Nov/2023 13:09:39] \"POST /live HTTP/1.1\" 200 -\n",
      "127.0.0.1 - - [23/Nov/2023 13:09:39] \"GET /static/Images/20BCE0785.png HTTP/1.1\" 304 -\n"
     ]
    },
    {
     "name": "stdout",
     "output_type": "stream",
     "text": [
      "Known Face Detected\n",
      "20BCE0785\n",
      "('Ananya Singh', '20BCE0785', 'Computer Science and Engineering', '2023-11-23 13:08:56')\n",
      "('2023-11-23 13:08:56',)\n",
      "YESSSSSS\n",
      "Loading Encode File ...\n",
      "Encode File Loaded\n"
     ]
    },
    {
     "name": "stderr",
     "output_type": "stream",
     "text": [
      "127.0.0.1 - - [23/Nov/2023 13:09:40] \"POST /live HTTP/1.1\" 200 -\n"
     ]
    },
    {
     "name": "stdout",
     "output_type": "stream",
     "text": [
      "Known Face Detected\n",
      "20BCE0785\n",
      "('Ananya Singh', '20BCE0785', 'Computer Science and Engineering', '2023-11-23 13:09:39')\n",
      "('2023-11-23 13:09:39',)\n",
      "YESSSSSS\n",
      "Loading Encode File ...\n",
      "Encode File Loaded\n"
     ]
    },
    {
     "name": "stderr",
     "output_type": "stream",
     "text": [
      "127.0.0.1 - - [23/Nov/2023 13:09:40] \"POST /live HTTP/1.1\" 200 -\n",
      "127.0.0.1 - - [23/Nov/2023 13:09:40] \"POST /live HTTP/1.1\" 200 -\n",
      "127.0.0.1 - - [23/Nov/2023 13:09:40] \"POST /live HTTP/1.1\" 200 -\n",
      "127.0.0.1 - - [23/Nov/2023 13:09:40] \"POST /live HTTP/1.1\" 200 -\n"
     ]
    },
    {
     "name": "stdout",
     "output_type": "stream",
     "text": [
      "YESSSSSS\n",
      "Loading Encode File ...\n",
      "Encode File Loaded\n",
      "YESSSSSS\n",
      "Loading Encode File ...\n",
      "Encode File Loaded\n",
      "YESSSSSS\n",
      "Loading Encode File ...\n",
      "Encode File Loaded\n",
      "YESSSSSS\n",
      "Loading Encode File ...\n",
      "Encode File Loaded\n"
     ]
    },
    {
     "name": "stderr",
     "output_type": "stream",
     "text": [
      "127.0.0.1 - - [23/Nov/2023 13:09:40] \"POST /live HTTP/1.1\" 200 -\n",
      "127.0.0.1 - - [23/Nov/2023 13:09:40] \"POST /live HTTP/1.1\" 200 -\n",
      "127.0.0.1 - - [23/Nov/2023 13:09:40] \"POST /live HTTP/1.1\" 200 -\n",
      "127.0.0.1 - - [23/Nov/2023 13:09:40] \"POST /live HTTP/1.1\" 200 -\n"
     ]
    },
    {
     "name": "stdout",
     "output_type": "stream",
     "text": [
      "YESSSSSS\n",
      "Loading Encode File ...\n",
      "Encode File Loaded\n",
      "YESSSSSS\n",
      "Loading Encode File ...\n",
      "Encode File Loaded\n",
      "YESSSSSS\n",
      "Loading Encode File ...\n",
      "Encode File Loaded\n",
      "YESSSSSS\n",
      "Loading Encode File ...\n",
      "Encode File Loaded\n"
     ]
    },
    {
     "name": "stderr",
     "output_type": "stream",
     "text": [
      "127.0.0.1 - - [23/Nov/2023 13:09:40] \"POST /live HTTP/1.1\" 200 -\n",
      "127.0.0.1 - - [23/Nov/2023 13:09:40] \"POST /live HTTP/1.1\" 200 -\n",
      "127.0.0.1 - - [23/Nov/2023 13:09:40] \"POST /live HTTP/1.1\" 200 -\n",
      "127.0.0.1 - - [23/Nov/2023 13:09:40] \"POST /live HTTP/1.1\" 200 -\n",
      "127.0.0.1 - - [23/Nov/2023 13:09:40] \"POST /live HTTP/1.1\" 200 -\n"
     ]
    },
    {
     "name": "stdout",
     "output_type": "stream",
     "text": [
      "YESSSSSS\n",
      "Loading Encode File ...\n",
      "Encode File Loaded\n",
      "YESSSSSS\n",
      "Loading Encode File ...\n",
      "Encode File Loaded\n",
      "YESSSSSS\n",
      "Loading Encode File ...\n",
      "Encode File Loaded\n",
      "YESSSSSS\n",
      "Loading Encode File ...\n",
      "Encode File Loaded\n"
     ]
    },
    {
     "name": "stderr",
     "output_type": "stream",
     "text": [
      "127.0.0.1 - - [23/Nov/2023 13:09:40] \"POST /live HTTP/1.1\" 200 -\n",
      "127.0.0.1 - - [23/Nov/2023 13:09:41] \"POST /live HTTP/1.1\" 200 -\n",
      "127.0.0.1 - - [23/Nov/2023 13:09:41] \"POST /live HTTP/1.1\" 200 -\n"
     ]
    },
    {
     "name": "stdout",
     "output_type": "stream",
     "text": [
      "YESSSSSS\n",
      "Loading Encode File ...\n",
      "Encode File Loaded\n",
      "YESSSSSS\n",
      "Loading Encode File ...\n",
      "Encode File Loaded\n",
      "YESSSSSS\n",
      "Loading Encode File ...\n",
      "Encode File Loaded\n",
      "YESSSSSS\n",
      "Loading Encode File ...\n",
      "Encode File Loaded\n"
     ]
    },
    {
     "name": "stderr",
     "output_type": "stream",
     "text": [
      "127.0.0.1 - - [23/Nov/2023 13:09:41] \"POST /live HTTP/1.1\" 200 -\n",
      "127.0.0.1 - - [23/Nov/2023 13:09:41] \"POST /live HTTP/1.1\" 200 -\n",
      "127.0.0.1 - - [23/Nov/2023 13:09:41] \"POST /live HTTP/1.1\" 200 -\n",
      "127.0.0.1 - - [23/Nov/2023 13:09:41] \"POST /live HTTP/1.1\" 200 -\n"
     ]
    },
    {
     "name": "stdout",
     "output_type": "stream",
     "text": [
      "YESSSSSS\n",
      "Loading Encode File ...\n",
      "Encode File Loaded\n",
      "YESSSSSS\n",
      "Loading Encode File ...\n",
      "Encode File Loaded\n",
      "YESSSSSS\n",
      "Loading Encode File ...\n",
      "Encode File Loaded\n",
      "YESSSSSS\n",
      "Loading Encode File ...\n",
      "Encode File Loaded\n"
     ]
    },
    {
     "name": "stderr",
     "output_type": "stream",
     "text": [
      "127.0.0.1 - - [23/Nov/2023 13:09:41] \"POST /live HTTP/1.1\" 200 -\n",
      "127.0.0.1 - - [23/Nov/2023 13:09:41] \"POST /live HTTP/1.1\" 200 -\n",
      "127.0.0.1 - - [23/Nov/2023 13:09:41] \"POST /live HTTP/1.1\" 200 -\n",
      "127.0.0.1 - - [23/Nov/2023 13:09:41] \"POST /live HTTP/1.1\" 200 -\n",
      "127.0.0.1 - - [23/Nov/2023 13:09:41] \"POST /live HTTP/1.1\" 200 -\n"
     ]
    },
    {
     "name": "stdout",
     "output_type": "stream",
     "text": [
      "YESSSSSS\n",
      "Loading Encode File ...\n",
      "Encode File Loaded\n",
      "YESSSSSS\n",
      "Loading Encode File ...\n",
      "Encode File Loaded\n",
      "YESSSSSS\n",
      "Loading Encode File ...\n",
      "Encode File Loaded\n",
      "YESSSSSS\n",
      "Loading Encode File ...\n",
      "Encode File Loaded\n"
     ]
    },
    {
     "name": "stderr",
     "output_type": "stream",
     "text": [
      "127.0.0.1 - - [23/Nov/2023 13:09:41] \"POST /live HTTP/1.1\" 200 -\n",
      "127.0.0.1 - - [23/Nov/2023 13:09:41] \"POST /live HTTP/1.1\" 200 -\n",
      "127.0.0.1 - - [23/Nov/2023 13:09:41] \"POST /live HTTP/1.1\" 200 -\n"
     ]
    },
    {
     "name": "stdout",
     "output_type": "stream",
     "text": [
      "YESSSSSS\n",
      "Loading Encode File ...\n",
      "Encode File Loaded\n",
      "YESSSSSS\n",
      "Loading Encode File ...\n",
      "Encode File Loaded\n",
      "YESSSSSS\n",
      "Loading Encode File ...\n",
      "Encode File Loaded\n",
      "YESSSSSS\n",
      "Loading Encode File ...\n",
      "Encode File Loaded\n"
     ]
    },
    {
     "name": "stderr",
     "output_type": "stream",
     "text": [
      "127.0.0.1 - - [23/Nov/2023 13:09:41] \"POST /live HTTP/1.1\" 200 -\n",
      "127.0.0.1 - - [23/Nov/2023 13:09:41] \"POST /live HTTP/1.1\" 200 -\n",
      "127.0.0.1 - - [23/Nov/2023 13:09:41] \"POST /live HTTP/1.1\" 200 -\n",
      "127.0.0.1 - - [23/Nov/2023 13:09:41] \"POST /live HTTP/1.1\" 200 -\n",
      "127.0.0.1 - - [23/Nov/2023 13:09:41] \"POST /live HTTP/1.1\" 200 -\n"
     ]
    },
    {
     "name": "stdout",
     "output_type": "stream",
     "text": [
      "YESSSSSS\n",
      "Loading Encode File ...\n",
      "Encode File Loaded\n",
      "YESSSSSS\n",
      "Loading Encode File ...\n",
      "Encode File Loaded\n",
      "YESSSSSS\n",
      "Loading Encode File ...\n",
      "Encode File Loaded\n",
      "YESSSSSS\n",
      "Loading Encode File ...\n",
      "Encode File Loaded\n"
     ]
    },
    {
     "name": "stderr",
     "output_type": "stream",
     "text": [
      "127.0.0.1 - - [23/Nov/2023 13:09:42] \"POST /live HTTP/1.1\" 200 -\n",
      "127.0.0.1 - - [23/Nov/2023 13:09:42] \"POST /live HTTP/1.1\" 200 -\n",
      "127.0.0.1 - - [23/Nov/2023 13:09:42] \"POST /live HTTP/1.1\" 200 -\n",
      "127.0.0.1 - - [23/Nov/2023 13:09:42] \"POST /live HTTP/1.1\" 200 -\n"
     ]
    },
    {
     "name": "stdout",
     "output_type": "stream",
     "text": [
      "YESSSSSS\n",
      "Loading Encode File ...\n",
      "Encode File Loaded\n",
      "YESSSSSS\n",
      "Loading Encode File ...\n",
      "Encode File Loaded\n",
      "YESSSSSS\n",
      "Loading Encode File ...\n",
      "Encode File Loaded\n",
      "YESSSSSS\n",
      "Loading Encode File ...\n",
      "Encode File Loaded\n"
     ]
    },
    {
     "name": "stderr",
     "output_type": "stream",
     "text": [
      "127.0.0.1 - - [23/Nov/2023 13:09:42] \"POST /live HTTP/1.1\" 200 -\n",
      "127.0.0.1 - - [23/Nov/2023 13:09:42] \"POST /live HTTP/1.1\" 200 -\n",
      "127.0.0.1 - - [23/Nov/2023 13:09:42] \"POST /live HTTP/1.1\" 200 -\n"
     ]
    },
    {
     "name": "stdout",
     "output_type": "stream",
     "text": [
      "YESSSSSS\n",
      "Loading Encode File ...\n",
      "Encode File Loaded\n",
      "YESSSSSS\n",
      "Loading Encode File ...\n",
      "Encode File Loaded\n",
      "YESSSSSS\n",
      "Loading Encode File ...\n",
      "Encode File Loaded\n",
      "YESSSSSS\n",
      "Loading Encode File ...\n",
      "Encode File Loaded\n"
     ]
    },
    {
     "name": "stderr",
     "output_type": "stream",
     "text": [
      "127.0.0.1 - - [23/Nov/2023 13:09:42] \"POST /live HTTP/1.1\" 200 -\n",
      "127.0.0.1 - - [23/Nov/2023 13:09:42] \"POST /live HTTP/1.1\" 200 -\n",
      "127.0.0.1 - - [23/Nov/2023 13:09:42] \"POST /live HTTP/1.1\" 200 -\n",
      "127.0.0.1 - - [23/Nov/2023 13:09:42] \"POST /live HTTP/1.1\" 200 -\n"
     ]
    },
    {
     "name": "stdout",
     "output_type": "stream",
     "text": [
      "YESSSSSS\n",
      "Loading Encode File ...\n",
      "Encode File Loaded\n",
      "YESSSSSS\n",
      "Loading Encode File ...\n",
      "Encode File Loaded\n",
      "YESSSSSS\n",
      "Loading Encode File ...\n",
      "Encode File Loaded\n",
      "YESSSSSS\n",
      "Loading Encode File ...\n",
      "Encode File Loaded\n"
     ]
    },
    {
     "name": "stderr",
     "output_type": "stream",
     "text": [
      "127.0.0.1 - - [23/Nov/2023 13:09:42] \"POST /live HTTP/1.1\" 200 -\n",
      "127.0.0.1 - - [23/Nov/2023 13:09:42] \"POST /live HTTP/1.1\" 200 -\n",
      "127.0.0.1 - - [23/Nov/2023 13:09:42] \"POST /live HTTP/1.1\" 200 -\n",
      "127.0.0.1 - - [23/Nov/2023 13:09:42] \"POST /live HTTP/1.1\" 200 -\n"
     ]
    },
    {
     "name": "stdout",
     "output_type": "stream",
     "text": [
      "YESSSSSS\n",
      "Loading Encode File ...\n",
      "Encode File Loaded\n",
      "YESSSSSS\n",
      "Loading Encode File ...\n",
      "Encode File Loaded\n",
      "YESSSSSS\n",
      "Loading Encode File ...\n",
      "Encode File Loaded\n",
      "YESSSSSS\n",
      "Loading Encode File ...\n",
      "Encode File Loaded\n"
     ]
    },
    {
     "name": "stderr",
     "output_type": "stream",
     "text": [
      "127.0.0.1 - - [23/Nov/2023 13:09:42] \"POST /live HTTP/1.1\" 200 -\n",
      "127.0.0.1 - - [23/Nov/2023 13:09:42] \"POST /live HTTP/1.1\" 200 -\n",
      "127.0.0.1 - - [23/Nov/2023 13:09:42] \"POST /live HTTP/1.1\" 200 -\n",
      "127.0.0.1 - - [23/Nov/2023 13:09:43] \"POST /live HTTP/1.1\" 200 -\n"
     ]
    },
    {
     "name": "stdout",
     "output_type": "stream",
     "text": [
      "YESSSSSS\n",
      "Loading Encode File ...\n",
      "Encode File Loaded\n",
      "YESSSSSS\n",
      "Loading Encode File ...\n",
      "Encode File Loaded\n",
      "YESSSSSS\n",
      "Loading Encode File ...\n",
      "Encode File Loaded\n",
      "YESSSSSS\n",
      "Loading Encode File ...\n",
      "Encode File Loaded\n"
     ]
    },
    {
     "name": "stderr",
     "output_type": "stream",
     "text": [
      "127.0.0.1 - - [23/Nov/2023 13:09:43] \"POST /live HTTP/1.1\" 200 -\n",
      "127.0.0.1 - - [23/Nov/2023 13:09:43] \"POST /live HTTP/1.1\" 200 -\n",
      "127.0.0.1 - - [23/Nov/2023 13:09:43] \"POST /live HTTP/1.1\" 200 -\n",
      "127.0.0.1 - - [23/Nov/2023 13:09:43] \"POST /live HTTP/1.1\" 200 -\n",
      "127.0.0.1 - - [23/Nov/2023 13:09:43] \"POST /live HTTP/1.1\" 200 -\n"
     ]
    },
    {
     "name": "stdout",
     "output_type": "stream",
     "text": [
      "YESSSSSS\n",
      "Loading Encode File ...\n",
      "Encode File Loaded\n",
      "YESSSSSS\n",
      "Loading Encode File ...\n",
      "Encode File Loaded\n",
      "YESSSSSS\n",
      "Loading Encode File ...\n",
      "Encode File Loaded\n",
      "YESSSSSS\n",
      "Loading Encode File ...\n",
      "Encode File Loaded\n"
     ]
    },
    {
     "name": "stderr",
     "output_type": "stream",
     "text": [
      "127.0.0.1 - - [23/Nov/2023 13:09:43] \"POST /live HTTP/1.1\" 200 -\n",
      "127.0.0.1 - - [23/Nov/2023 13:09:43] \"POST /live HTTP/1.1\" 200 -\n",
      "127.0.0.1 - - [23/Nov/2023 13:09:43] \"POST /live HTTP/1.1\" 200 -\n",
      "127.0.0.1 - - [23/Nov/2023 13:09:43] \"POST /live HTTP/1.1\" 200 -\n"
     ]
    },
    {
     "name": "stdout",
     "output_type": "stream",
     "text": [
      "YESSSSSS\n",
      "Loading Encode File ...\n",
      "Encode File Loaded\n",
      "YESSSSSS\n",
      "Loading Encode File ...\n",
      "Encode File Loaded\n",
      "YESSSSSS\n",
      "Loading Encode File ...\n",
      "Encode File Loaded\n",
      "YESSSSSS\n",
      "Loading Encode File ...\n",
      "Encode File Loaded\n"
     ]
    },
    {
     "name": "stderr",
     "output_type": "stream",
     "text": [
      "127.0.0.1 - - [23/Nov/2023 13:09:43] \"POST /live HTTP/1.1\" 200 -\n",
      "127.0.0.1 - - [23/Nov/2023 13:09:43] \"POST /live HTTP/1.1\" 200 -\n",
      "127.0.0.1 - - [23/Nov/2023 13:09:43] \"POST /live HTTP/1.1\" 200 -\n",
      "127.0.0.1 - - [23/Nov/2023 13:09:43] \"POST /live HTTP/1.1\" 200 -\n"
     ]
    },
    {
     "name": "stdout",
     "output_type": "stream",
     "text": [
      "YESSSSSS\n",
      "Loading Encode File ...\n",
      "Encode File Loaded\n",
      "YESSSSSS\n",
      "Loading Encode File ...\n",
      "Encode File Loaded\n",
      "YESSSSSS\n",
      "Loading Encode File ...\n",
      "Encode File Loaded\n",
      "YESSSSSS\n",
      "Loading Encode File ...\n",
      "Encode File Loaded\n"
     ]
    },
    {
     "name": "stderr",
     "output_type": "stream",
     "text": [
      "127.0.0.1 - - [23/Nov/2023 13:09:43] \"POST /live HTTP/1.1\" 200 -\n",
      "127.0.0.1 - - [23/Nov/2023 13:09:43] \"POST /live HTTP/1.1\" 200 -\n",
      "127.0.0.1 - - [23/Nov/2023 13:09:43] \"POST /live HTTP/1.1\" 200 -\n"
     ]
    },
    {
     "name": "stdout",
     "output_type": "stream",
     "text": [
      "YESSSSSS\n",
      "Loading Encode File ...\n",
      "Encode File Loaded\n",
      "YESSSSSS\n",
      "Loading Encode File ...\n",
      "Encode File Loaded\n",
      "YESSSSSS\n",
      "Loading Encode File ...\n",
      "Encode File Loaded\n",
      "YESSSSSS\n",
      "Loading Encode File ...\n",
      "Encode File Loaded\n"
     ]
    },
    {
     "name": "stderr",
     "output_type": "stream",
     "text": [
      "127.0.0.1 - - [23/Nov/2023 13:09:43] \"POST /live HTTP/1.1\" 200 -\n",
      "127.0.0.1 - - [23/Nov/2023 13:09:43] \"POST /live HTTP/1.1\" 200 -\n",
      "127.0.0.1 - - [23/Nov/2023 13:09:44] \"POST /live HTTP/1.1\" 200 -\n",
      "127.0.0.1 - - [23/Nov/2023 13:09:44] \"POST /live HTTP/1.1\" 200 -\n"
     ]
    },
    {
     "name": "stdout",
     "output_type": "stream",
     "text": [
      "YESSSSSS\n",
      "Loading Encode File ...\n",
      "Encode File Loaded\n",
      "YESSSSSS\n",
      "Loading Encode File ...\n",
      "Encode File Loaded\n",
      "YESSSSSS\n",
      "Loading Encode File ...\n",
      "Encode File Loaded\n",
      "YESSSSSS\n",
      "Loading Encode File ...\n",
      "Encode File Loaded\n"
     ]
    },
    {
     "name": "stderr",
     "output_type": "stream",
     "text": [
      "127.0.0.1 - - [23/Nov/2023 13:09:44] \"POST /live HTTP/1.1\" 200 -\n",
      "127.0.0.1 - - [23/Nov/2023 13:09:44] \"POST /live HTTP/1.1\" 200 -\n",
      "127.0.0.1 - - [23/Nov/2023 13:09:44] \"POST /live HTTP/1.1\" 200 -\n",
      "127.0.0.1 - - [23/Nov/2023 13:09:44] \"POST /live HTTP/1.1\" 200 -\n"
     ]
    },
    {
     "name": "stdout",
     "output_type": "stream",
     "text": [
      "YESSSSSS\n",
      "Loading Encode File ...\n",
      "Encode File Loaded\n",
      "YESSSSSS\n",
      "Loading Encode File ...\n",
      "Encode File Loaded\n",
      "YESSSSSS\n",
      "Loading Encode File ...\n",
      "Encode File Loaded\n",
      "YESSSSSS\n",
      "Loading Encode File ...\n",
      "Encode File Loaded\n"
     ]
    },
    {
     "name": "stderr",
     "output_type": "stream",
     "text": [
      "127.0.0.1 - - [23/Nov/2023 13:09:44] \"POST /live HTTP/1.1\" 200 -\n",
      "127.0.0.1 - - [23/Nov/2023 13:09:44] \"POST /live HTTP/1.1\" 200 -\n",
      "127.0.0.1 - - [23/Nov/2023 13:09:44] \"POST /live HTTP/1.1\" 200 -\n",
      "127.0.0.1 - - [23/Nov/2023 13:09:44] \"POST /live HTTP/1.1\" 200 -\n"
     ]
    },
    {
     "name": "stdout",
     "output_type": "stream",
     "text": [
      "YESSSSSS\n",
      "Loading Encode File ...\n",
      "Encode File Loaded\n",
      "YESSSSSS\n",
      "Loading Encode File ...\n",
      "Encode File Loaded\n",
      "YESSSSSS\n",
      "Loading Encode File ...\n",
      "Encode File Loaded\n",
      "YESSSSSS\n",
      "Loading Encode File ...\n",
      "Encode File Loaded\n"
     ]
    },
    {
     "name": "stderr",
     "output_type": "stream",
     "text": [
      "127.0.0.1 - - [23/Nov/2023 13:09:44] \"POST /live HTTP/1.1\" 200 -\n",
      "127.0.0.1 - - [23/Nov/2023 13:09:44] \"POST /live HTTP/1.1\" 200 -\n",
      "127.0.0.1 - - [23/Nov/2023 13:09:44] \"POST /live HTTP/1.1\" 200 -\n",
      "127.0.0.1 - - [23/Nov/2023 13:09:44] \"POST /live HTTP/1.1\" 200 -\n"
     ]
    },
    {
     "name": "stdout",
     "output_type": "stream",
     "text": [
      "YESSSSSS\n",
      "Loading Encode File ...\n",
      "Encode File Loaded\n",
      "YESSSSSS\n",
      "Loading Encode File ...\n",
      "Encode File Loaded\n",
      "YESSSSSS\n",
      "Loading Encode File ...\n",
      "Encode File Loaded\n",
      "YESSSSSS\n",
      "Loading Encode File ...\n",
      "Encode File Loaded\n"
     ]
    },
    {
     "name": "stderr",
     "output_type": "stream",
     "text": [
      "127.0.0.1 - - [23/Nov/2023 13:09:44] \"POST /live HTTP/1.1\" 200 -\n",
      "127.0.0.1 - - [23/Nov/2023 13:09:44] \"POST /live HTTP/1.1\" 200 -\n",
      "127.0.0.1 - - [23/Nov/2023 13:09:44] \"POST /live HTTP/1.1\" 200 -\n",
      "127.0.0.1 - - [23/Nov/2023 13:09:44] \"POST /live HTTP/1.1\" 200 -\n"
     ]
    },
    {
     "name": "stdout",
     "output_type": "stream",
     "text": [
      "YESSSSSS\n",
      "Loading Encode File ...\n",
      "Encode File Loaded\n",
      "YESSSSSS\n",
      "Loading Encode File ...\n",
      "Encode File Loaded\n",
      "YESSSSSS\n",
      "Loading Encode File ...\n",
      "Encode File Loaded\n",
      "YESSSSSS\n",
      "Loading Encode File ...\n",
      "Encode File Loaded\n"
     ]
    },
    {
     "name": "stderr",
     "output_type": "stream",
     "text": [
      "127.0.0.1 - - [23/Nov/2023 13:09:45] \"POST /live HTTP/1.1\" 200 -\n",
      "127.0.0.1 - - [23/Nov/2023 13:09:45] \"POST /live HTTP/1.1\" 200 -\n",
      "127.0.0.1 - - [23/Nov/2023 13:09:45] \"POST /live HTTP/1.1\" 200 -\n",
      "127.0.0.1 - - [23/Nov/2023 13:09:45] \"POST /live HTTP/1.1\" 200 -\n"
     ]
    },
    {
     "name": "stdout",
     "output_type": "stream",
     "text": [
      "YESSSSSS\n",
      "Loading Encode File ...\n",
      "Encode File Loaded\n",
      "YESSSSSS\n",
      "Loading Encode File ...\n",
      "Encode File Loaded\n",
      "YESSSSSS\n",
      "Loading Encode File ...\n",
      "Encode File Loaded\n",
      "YESSSSSS\n",
      "Loading Encode File ...\n",
      "Encode File Loaded\n"
     ]
    },
    {
     "name": "stderr",
     "output_type": "stream",
     "text": [
      "127.0.0.1 - - [23/Nov/2023 13:09:45] \"POST /live HTTP/1.1\" 200 -\n",
      "127.0.0.1 - - [23/Nov/2023 13:09:45] \"POST /live HTTP/1.1\" 200 -\n",
      "127.0.0.1 - - [23/Nov/2023 13:09:45] \"POST /live HTTP/1.1\" 200 -\n",
      "127.0.0.1 - - [23/Nov/2023 13:09:45] \"POST /live HTTP/1.1\" 200 -\n"
     ]
    },
    {
     "name": "stdout",
     "output_type": "stream",
     "text": [
      "YESSSSSS\n",
      "Loading Encode File ...\n",
      "Encode File Loaded\n",
      "YESSSSSS\n",
      "Loading Encode File ...\n",
      "Encode File Loaded\n",
      "YESSSSSS\n",
      "Loading Encode File ...\n",
      "Encode File Loaded\n",
      "YESSSSSS\n",
      "Loading Encode File ...\n",
      "Encode File Loaded\n"
     ]
    },
    {
     "name": "stderr",
     "output_type": "stream",
     "text": [
      "127.0.0.1 - - [23/Nov/2023 13:09:45] \"POST /live HTTP/1.1\" 200 -\n",
      "127.0.0.1 - - [23/Nov/2023 13:09:45] \"POST /live HTTP/1.1\" 200 -\n",
      "127.0.0.1 - - [23/Nov/2023 13:09:45] \"POST /live HTTP/1.1\" 200 -\n",
      "127.0.0.1 - - [23/Nov/2023 13:09:45] \"POST /live HTTP/1.1\" 200 -\n"
     ]
    },
    {
     "name": "stdout",
     "output_type": "stream",
     "text": [
      "YESSSSSS\n",
      "Loading Encode File ...\n",
      "Encode File Loaded\n",
      "YESSSSSS\n",
      "Loading Encode File ...\n",
      "Encode File Loaded\n",
      "YESSSSSS\n",
      "Loading Encode File ...\n",
      "Encode File Loaded\n",
      "YESSSSSS\n",
      "Loading Encode File ...\n",
      "Encode File Loaded\n"
     ]
    },
    {
     "name": "stderr",
     "output_type": "stream",
     "text": [
      "127.0.0.1 - - [23/Nov/2023 13:09:45] \"POST /live HTTP/1.1\" 200 -\n",
      "127.0.0.1 - - [23/Nov/2023 13:09:45] \"POST /live HTTP/1.1\" 200 -\n",
      "127.0.0.1 - - [23/Nov/2023 13:09:45] \"POST /live HTTP/1.1\" 200 -\n",
      "127.0.0.1 - - [23/Nov/2023 13:09:45] \"POST /live HTTP/1.1\" 200 -\n",
      "127.0.0.1 - - [23/Nov/2023 13:09:45] \"POST /live HTTP/1.1\" 200 -\n"
     ]
    },
    {
     "name": "stdout",
     "output_type": "stream",
     "text": [
      "YESSSSSS\n",
      "Loading Encode File ...\n",
      "Encode File Loaded\n",
      "YESSSSSS\n",
      "Loading Encode File ...\n",
      "Encode File Loaded\n",
      "YESSSSSS\n",
      "Loading Encode File ...\n",
      "Encode File Loaded\n",
      "YESSSSSS\n",
      "Loading Encode File ...\n",
      "Encode File Loaded\n"
     ]
    },
    {
     "name": "stderr",
     "output_type": "stream",
     "text": [
      "127.0.0.1 - - [23/Nov/2023 13:09:45] \"POST /live HTTP/1.1\" 200 -\n",
      "127.0.0.1 - - [23/Nov/2023 13:09:45] \"POST /live HTTP/1.1\" 200 -\n",
      "127.0.0.1 - - [23/Nov/2023 13:09:46] \"POST /live HTTP/1.1\" 200 -\n"
     ]
    },
    {
     "name": "stdout",
     "output_type": "stream",
     "text": [
      "YESSSSSS\n",
      "Loading Encode File ...\n",
      "Encode File Loaded\n",
      "YESSSSSS\n",
      "Loading Encode File ...\n",
      "Encode File Loaded\n",
      "YESSSSSS\n",
      "Loading Encode File ...\n",
      "Encode File Loaded\n",
      "YESSSSSS\n",
      "Loading Encode File ...\n",
      "Encode File Loaded\n"
     ]
    },
    {
     "name": "stderr",
     "output_type": "stream",
     "text": [
      "127.0.0.1 - - [23/Nov/2023 13:09:46] \"POST /live HTTP/1.1\" 200 -\n",
      "127.0.0.1 - - [23/Nov/2023 13:09:46] \"POST /live HTTP/1.1\" 200 -\n",
      "127.0.0.1 - - [23/Nov/2023 13:09:46] \"POST /live HTTP/1.1\" 200 -\n",
      "127.0.0.1 - - [23/Nov/2023 13:09:46] \"POST /live HTTP/1.1\" 200 -\n",
      "127.0.0.1 - - [23/Nov/2023 13:09:46] \"POST /live HTTP/1.1\" 200 -\n"
     ]
    },
    {
     "name": "stdout",
     "output_type": "stream",
     "text": [
      "YESSSSSS\n",
      "Loading Encode File ...\n",
      "Encode File Loaded\n",
      "YESSSSSS\n",
      "Loading Encode File ...\n",
      "Encode File Loaded\n",
      "YESSSSSS\n",
      "Loading Encode File ...\n",
      "Encode File Loaded\n",
      "YESSSSSS\n",
      "Loading Encode File ...\n",
      "Encode File Loaded\n"
     ]
    },
    {
     "name": "stderr",
     "output_type": "stream",
     "text": [
      "127.0.0.1 - - [23/Nov/2023 13:09:46] \"POST /live HTTP/1.1\" 200 -\n",
      "127.0.0.1 - - [23/Nov/2023 13:09:46] \"POST /live HTTP/1.1\" 200 -\n",
      "127.0.0.1 - - [23/Nov/2023 13:09:46] \"POST /live HTTP/1.1\" 200 -\n",
      "127.0.0.1 - - [23/Nov/2023 13:09:46] \"POST /live HTTP/1.1\" 200 -\n"
     ]
    },
    {
     "name": "stdout",
     "output_type": "stream",
     "text": [
      "YESSSSSS\n",
      "Loading Encode File ...\n",
      "Encode File Loaded\n",
      "YESSSSSS\n",
      "Loading Encode File ...\n",
      "Encode File Loaded\n",
      "YESSSSSS\n",
      "Loading Encode File ...\n",
      "Encode File Loaded\n",
      "YESSSSSS\n",
      "Loading Encode File ...\n",
      "Encode File Loaded\n"
     ]
    },
    {
     "name": "stderr",
     "output_type": "stream",
     "text": [
      "127.0.0.1 - - [23/Nov/2023 13:09:46] \"POST /live HTTP/1.1\" 200 -\n",
      "127.0.0.1 - - [23/Nov/2023 13:09:46] \"POST /live HTTP/1.1\" 200 -\n",
      "127.0.0.1 - - [23/Nov/2023 13:09:46] \"POST /live HTTP/1.1\" 200 -\n"
     ]
    },
    {
     "name": "stdout",
     "output_type": "stream",
     "text": [
      "YESSSSSS\n",
      "Loading Encode File ...\n",
      "Encode File Loaded\n",
      "YESSSSSS\n",
      "Loading Encode File ...\n",
      "Encode File Loaded\n",
      "YESSSSSS\n",
      "Loading Encode File ...\n",
      "Encode File Loaded\n",
      "YESSSSSS\n",
      "Loading Encode File ...\n",
      "Encode File Loaded\n"
     ]
    },
    {
     "name": "stderr",
     "output_type": "stream",
     "text": [
      "127.0.0.1 - - [23/Nov/2023 13:09:46] \"POST /live HTTP/1.1\" 200 -\n",
      "127.0.0.1 - - [23/Nov/2023 13:09:46] \"POST /live HTTP/1.1\" 200 -\n",
      "127.0.0.1 - - [23/Nov/2023 13:09:46] \"POST /live HTTP/1.1\" 200 -\n",
      "127.0.0.1 - - [23/Nov/2023 13:09:46] \"POST /live HTTP/1.1\" 200 -\n",
      "127.0.0.1 - - [23/Nov/2023 13:09:46] \"POST /live HTTP/1.1\" 200 -\n"
     ]
    },
    {
     "name": "stdout",
     "output_type": "stream",
     "text": [
      "YESSSSSS\n",
      "Loading Encode File ...\n",
      "Encode File Loaded\n",
      "YESSSSSS\n",
      "Loading Encode File ...\n",
      "Encode File Loaded\n",
      "YESSSSSS\n",
      "Loading Encode File ...\n",
      "Encode File Loaded\n",
      "YESSSSSS\n",
      "Loading Encode File ...\n",
      "Encode File Loaded\n"
     ]
    },
    {
     "name": "stderr",
     "output_type": "stream",
     "text": [
      "127.0.0.1 - - [23/Nov/2023 13:09:46] \"POST /live HTTP/1.1\" 200 -\n",
      "127.0.0.1 - - [23/Nov/2023 13:09:47] \"POST /live HTTP/1.1\" 200 -\n",
      "127.0.0.1 - - [23/Nov/2023 13:09:47] \"POST /live HTTP/1.1\" 200 -\n"
     ]
    },
    {
     "name": "stdout",
     "output_type": "stream",
     "text": [
      "YESSSSSS\n",
      "Loading Encode File ...\n",
      "Encode File Loaded\n",
      "YESSSSSS\n",
      "Loading Encode File ...\n",
      "Encode File Loaded\n",
      "YESSSSSS\n",
      "Loading Encode File ...\n",
      "Encode File Loaded\n",
      "YESSSSSS\n",
      "Loading Encode File ...\n",
      "Encode File Loaded\n"
     ]
    },
    {
     "name": "stderr",
     "output_type": "stream",
     "text": [
      "127.0.0.1 - - [23/Nov/2023 13:09:47] \"POST /live HTTP/1.1\" 200 -\n",
      "127.0.0.1 - - [23/Nov/2023 13:09:47] \"POST /live HTTP/1.1\" 200 -\n",
      "127.0.0.1 - - [23/Nov/2023 13:09:47] \"POST /live HTTP/1.1\" 200 -\n",
      "127.0.0.1 - - [23/Nov/2023 13:09:47] \"POST /live HTTP/1.1\" 200 -\n",
      "127.0.0.1 - - [23/Nov/2023 13:09:47] \"POST /live HTTP/1.1\" 200 -\n"
     ]
    },
    {
     "name": "stdout",
     "output_type": "stream",
     "text": [
      "YESSSSSS\n",
      "Loading Encode File ...\n",
      "Encode File Loaded\n",
      "YESSSSSS\n",
      "Loading Encode File ...\n",
      "Encode File Loaded\n",
      "YESSSSSS\n",
      "Loading Encode File ...\n",
      "Encode File Loaded\n",
      "YESSSSSS\n",
      "Loading Encode File ...\n",
      "Encode File Loaded\n"
     ]
    },
    {
     "name": "stderr",
     "output_type": "stream",
     "text": [
      "127.0.0.1 - - [23/Nov/2023 13:09:47] \"POST /live HTTP/1.1\" 200 -\n",
      "127.0.0.1 - - [23/Nov/2023 13:09:47] \"POST /live HTTP/1.1\" 200 -\n",
      "127.0.0.1 - - [23/Nov/2023 13:09:47] \"POST /live HTTP/1.1\" 200 -\n"
     ]
    },
    {
     "name": "stdout",
     "output_type": "stream",
     "text": [
      "YESSSSSS\n",
      "Loading Encode File ...\n",
      "Encode File Loaded\n",
      "YESSSSSS\n",
      "Loading Encode File ...\n",
      "Encode File Loaded\n",
      "YESSSSSS\n",
      "Loading Encode File ...\n",
      "Encode File Loaded\n",
      "YESSSSSS\n",
      "Loading Encode File ...\n",
      "Encode File Loaded\n"
     ]
    },
    {
     "name": "stderr",
     "output_type": "stream",
     "text": [
      "127.0.0.1 - - [23/Nov/2023 13:09:47] \"POST /live HTTP/1.1\" 200 -\n",
      "127.0.0.1 - - [23/Nov/2023 13:09:47] \"POST /live HTTP/1.1\" 200 -\n",
      "127.0.0.1 - - [23/Nov/2023 13:09:47] \"POST /live HTTP/1.1\" 200 -\n",
      "127.0.0.1 - - [23/Nov/2023 13:09:47] \"POST /live HTTP/1.1\" 200 -\n",
      "127.0.0.1 - - [23/Nov/2023 13:09:47] \"POST /live HTTP/1.1\" 200 -\n"
     ]
    },
    {
     "name": "stdout",
     "output_type": "stream",
     "text": [
      "YESSSSSS\n",
      "Loading Encode File ...\n",
      "Encode File Loaded\n",
      "YESSSSSS\n",
      "Loading Encode File ...\n",
      "Encode File Loaded\n",
      "YESSSSSS\n",
      "Loading Encode File ...\n",
      "Encode File Loaded\n",
      "YESSSSSS\n",
      "Loading Encode File ...\n",
      "Encode File Loaded\n",
      "YESSSSSS\n",
      "Loading Encode File ...\n",
      "Encode File Loaded\n"
     ]
    },
    {
     "name": "stderr",
     "output_type": "stream",
     "text": [
      "127.0.0.1 - - [23/Nov/2023 13:09:47] \"POST /live HTTP/1.1\" 200 -\n",
      "127.0.0.1 - - [23/Nov/2023 13:09:47] \"POST /live HTTP/1.1\" 200 -\n",
      "127.0.0.1 - - [23/Nov/2023 13:09:47] \"POST /live HTTP/1.1\" 200 -\n",
      "127.0.0.1 - - [23/Nov/2023 13:09:47] \"POST /live HTTP/1.1\" 200 -\n"
     ]
    },
    {
     "name": "stdout",
     "output_type": "stream",
     "text": [
      "YESSSSSS\n",
      "Loading Encode File ...\n",
      "Encode File Loaded\n",
      "YESSSSSS\n",
      "Loading Encode File ...\n",
      "Encode File Loaded\n",
      "YESSSSSS\n",
      "Loading Encode File ...\n",
      "Encode File Loaded\n",
      "YESSSSSS\n",
      "Loading Encode File ...\n",
      "Encode File Loaded\n"
     ]
    },
    {
     "name": "stderr",
     "output_type": "stream",
     "text": [
      "127.0.0.1 - - [23/Nov/2023 13:09:48] \"POST /live HTTP/1.1\" 200 -\n",
      "127.0.0.1 - - [23/Nov/2023 13:09:48] \"POST /live HTTP/1.1\" 200 -\n",
      "127.0.0.1 - - [23/Nov/2023 13:09:48] \"POST /live HTTP/1.1\" 200 -\n",
      "127.0.0.1 - - [23/Nov/2023 13:09:48] \"POST /live HTTP/1.1\" 200 -\n"
     ]
    },
    {
     "name": "stdout",
     "output_type": "stream",
     "text": [
      "YESSSSSS\n",
      "Loading Encode File ...\n",
      "Encode File Loaded\n",
      "YESSSSSS\n",
      "Loading Encode File ...\n",
      "Encode File Loaded\n",
      "YESSSSSS\n",
      "Loading Encode File ...\n",
      "Encode File Loaded\n",
      "YESSSSSS\n",
      "Loading Encode File ...\n",
      "Encode File Loaded\n"
     ]
    },
    {
     "name": "stderr",
     "output_type": "stream",
     "text": [
      "127.0.0.1 - - [23/Nov/2023 13:09:48] \"POST /live HTTP/1.1\" 200 -\n",
      "127.0.0.1 - - [23/Nov/2023 13:09:48] \"POST /live HTTP/1.1\" 200 -\n",
      "127.0.0.1 - - [23/Nov/2023 13:09:48] \"POST /live HTTP/1.1\" 200 -\n",
      "127.0.0.1 - - [23/Nov/2023 13:09:48] \"POST /live HTTP/1.1\" 200 -\n"
     ]
    },
    {
     "name": "stdout",
     "output_type": "stream",
     "text": [
      "YESSSSSS\n",
      "Loading Encode File ...\n",
      "Encode File Loaded\n",
      "YESSSSSS\n",
      "Loading Encode File ...\n",
      "Encode File Loaded\n",
      "YESSSSSS\n",
      "Loading Encode File ...\n",
      "Encode File Loaded\n",
      "YESSSSSS\n",
      "Loading Encode File ...\n",
      "Encode File Loaded\n"
     ]
    },
    {
     "name": "stderr",
     "output_type": "stream",
     "text": [
      "127.0.0.1 - - [23/Nov/2023 13:09:48] \"POST /live HTTP/1.1\" 200 -\n",
      "127.0.0.1 - - [23/Nov/2023 13:09:48] \"POST /live HTTP/1.1\" 200 -\n",
      "127.0.0.1 - - [23/Nov/2023 13:09:48] \"POST /live HTTP/1.1\" 200 -\n",
      "127.0.0.1 - - [23/Nov/2023 13:09:48] \"POST /live HTTP/1.1\" 200 -\n",
      "127.0.0.1 - - [23/Nov/2023 13:09:48] \"POST /live HTTP/1.1\" 200 -\n"
     ]
    },
    {
     "name": "stdout",
     "output_type": "stream",
     "text": [
      "YESSSSSS\n",
      "Loading Encode File ...\n",
      "Encode File Loaded\n",
      "YESSSSSS\n",
      "Loading Encode File ...\n",
      "Encode File Loaded\n",
      "YESSSSSS\n",
      "Loading Encode File ...\n",
      "Encode File Loaded\n",
      "YESSSSSS\n",
      "Loading Encode File ...\n",
      "Encode File Loaded\n"
     ]
    },
    {
     "name": "stderr",
     "output_type": "stream",
     "text": [
      "127.0.0.1 - - [23/Nov/2023 13:09:48] \"POST /live HTTP/1.1\" 200 -\n",
      "127.0.0.1 - - [23/Nov/2023 13:09:48] \"POST /live HTTP/1.1\" 200 -\n",
      "127.0.0.1 - - [23/Nov/2023 13:09:48] \"POST /live HTTP/1.1\" 200 -\n"
     ]
    },
    {
     "name": "stdout",
     "output_type": "stream",
     "text": [
      "YESSSSSS\n",
      "Loading Encode File ...\n",
      "Encode File Loaded\n",
      "YESSSSSS\n",
      "Loading Encode File ...\n",
      "Encode File Loaded\n",
      "YESSSSSS\n",
      "Loading Encode File ...\n",
      "Encode File Loaded\n",
      "YESSSSSS\n",
      "Loading Encode File ...\n",
      "Encode File Loaded\n"
     ]
    },
    {
     "name": "stderr",
     "output_type": "stream",
     "text": [
      "127.0.0.1 - - [23/Nov/2023 13:09:48] \"POST /live HTTP/1.1\" 200 -\n",
      "127.0.0.1 - - [23/Nov/2023 13:09:48] \"POST /live HTTP/1.1\" 200 -\n",
      "127.0.0.1 - - [23/Nov/2023 13:09:48] \"POST /live HTTP/1.1\" 200 -\n",
      "127.0.0.1 - - [23/Nov/2023 13:09:49] \"POST /live HTTP/1.1\" 200 -\n",
      "127.0.0.1 - - [23/Nov/2023 13:09:49] \"POST /live HTTP/1.1\" 200 -\n"
     ]
    },
    {
     "name": "stdout",
     "output_type": "stream",
     "text": [
      "YESSSSSS\n",
      "Loading Encode File ...\n",
      "Encode File Loaded\n",
      "YESSSSSS\n",
      "Loading Encode File ...\n",
      "Encode File Loaded\n",
      "YESSSSSS\n",
      "Loading Encode File ...\n",
      "Encode File Loaded\n",
      "YESSSSSS\n",
      "Loading Encode File ...\n",
      "Encode File Loaded\n"
     ]
    },
    {
     "name": "stderr",
     "output_type": "stream",
     "text": [
      "127.0.0.1 - - [23/Nov/2023 13:09:49] \"POST /live HTTP/1.1\" 200 -\n",
      "127.0.0.1 - - [23/Nov/2023 13:09:49] \"POST /live HTTP/1.1\" 200 -\n",
      "127.0.0.1 - - [23/Nov/2023 13:09:49] \"POST /live HTTP/1.1\" 200 -\n",
      "127.0.0.1 - - [23/Nov/2023 13:09:49] \"POST /live HTTP/1.1\" 200 -\n"
     ]
    },
    {
     "name": "stdout",
     "output_type": "stream",
     "text": [
      "YESSSSSS\n",
      "Loading Encode File ...\n",
      "Encode File Loaded\n",
      "YESSSSSS\n",
      "Loading Encode File ...\n",
      "Encode File Loaded\n",
      "YESSSSSS\n",
      "Loading Encode File ...\n",
      "Encode File Loaded\n",
      "YESSSSSS\n",
      "Loading Encode File ...\n",
      "Encode File Loaded\n"
     ]
    },
    {
     "name": "stderr",
     "output_type": "stream",
     "text": [
      "127.0.0.1 - - [23/Nov/2023 13:09:49] \"POST /live HTTP/1.1\" 200 -\n",
      "127.0.0.1 - - [23/Nov/2023 13:09:49] \"POST /live HTTP/1.1\" 200 -\n",
      "127.0.0.1 - - [23/Nov/2023 13:09:49] \"POST /live HTTP/1.1\" 200 -\n"
     ]
    },
    {
     "name": "stdout",
     "output_type": "stream",
     "text": [
      "YESSSSSS\n",
      "Loading Encode File ...\n",
      "Encode File Loaded\n",
      "YESSSSSS\n",
      "Loading Encode File ...\n",
      "Encode File Loaded\n",
      "YESSSSSS\n",
      "Loading Encode File ...\n",
      "Encode File Loaded\n",
      "YESSSSSS\n",
      "Loading Encode File ...\n",
      "Encode File Loaded\n"
     ]
    },
    {
     "name": "stderr",
     "output_type": "stream",
     "text": [
      "127.0.0.1 - - [23/Nov/2023 13:09:49] \"POST /live HTTP/1.1\" 200 -\n",
      "127.0.0.1 - - [23/Nov/2023 13:09:49] \"POST /live HTTP/1.1\" 200 -\n",
      "127.0.0.1 - - [23/Nov/2023 13:09:49] \"POST /live HTTP/1.1\" 200 -\n",
      "127.0.0.1 - - [23/Nov/2023 13:09:49] \"POST /live HTTP/1.1\" 200 -\n",
      "127.0.0.1 - - [23/Nov/2023 13:09:49] \"POST /live HTTP/1.1\" 200 -\n"
     ]
    },
    {
     "name": "stdout",
     "output_type": "stream",
     "text": [
      "YESSSSSS\n",
      "Loading Encode File ...\n",
      "Encode File Loaded\n",
      "YESSSSSS\n",
      "Loading Encode File ...\n",
      "Encode File Loaded\n",
      "YESSSSSS\n",
      "Loading Encode File ...\n",
      "Encode File Loaded\n",
      "YESSSSSS\n",
      "Loading Encode File ...\n",
      "Encode File Loaded\n",
      "YESSSSSS\n",
      "Loading Encode File ...\n",
      "Encode File Loaded\n"
     ]
    },
    {
     "name": "stderr",
     "output_type": "stream",
     "text": [
      "127.0.0.1 - - [23/Nov/2023 13:09:49] \"POST /live HTTP/1.1\" 200 -\n",
      "127.0.0.1 - - [23/Nov/2023 13:09:49] \"POST /live HTTP/1.1\" 200 -\n",
      "127.0.0.1 - - [23/Nov/2023 13:09:49] \"POST /live HTTP/1.1\" 200 -\n",
      "127.0.0.1 - - [23/Nov/2023 13:09:49] \"POST /live HTTP/1.1\" 200 -\n"
     ]
    },
    {
     "name": "stdout",
     "output_type": "stream",
     "text": [
      "YESSSSSS\n",
      "Loading Encode File ...\n",
      "Encode File Loaded\n",
      "YESSSSSS\n",
      "Loading Encode File ...\n",
      "Encode File Loaded\n",
      "YESSSSSS\n",
      "Loading Encode File ...\n",
      "Encode File Loaded\n",
      "YESSSSSS\n",
      "Loading Encode File ...\n",
      "Encode File Loaded\n"
     ]
    },
    {
     "name": "stderr",
     "output_type": "stream",
     "text": [
      "127.0.0.1 - - [23/Nov/2023 13:09:50] \"POST /live HTTP/1.1\" 200 -\n",
      "127.0.0.1 - - [23/Nov/2023 13:09:50] \"POST /live HTTP/1.1\" 200 -\n",
      "127.0.0.1 - - [23/Nov/2023 13:09:50] \"POST /live HTTP/1.1\" 200 -\n",
      "127.0.0.1 - - [23/Nov/2023 13:09:50] \"POST /live HTTP/1.1\" 200 -\n"
     ]
    },
    {
     "name": "stdout",
     "output_type": "stream",
     "text": [
      "YESSSSSS\n",
      "Loading Encode File ...\n",
      "Encode File Loaded\n",
      "YESSSSSS\n",
      "Loading Encode File ...\n",
      "Encode File Loaded\n",
      "YESSSSSS\n",
      "Loading Encode File ...\n",
      "Encode File Loaded\n",
      "YESSSSSS\n",
      "Loading Encode File ...\n",
      "Encode File Loaded\n"
     ]
    },
    {
     "name": "stderr",
     "output_type": "stream",
     "text": [
      "127.0.0.1 - - [23/Nov/2023 13:09:50] \"POST /live HTTP/1.1\" 200 -\n",
      "127.0.0.1 - - [23/Nov/2023 13:09:50] \"POST /live HTTP/1.1\" 200 -\n",
      "127.0.0.1 - - [23/Nov/2023 13:09:50] \"POST /live HTTP/1.1\" 200 -\n",
      "127.0.0.1 - - [23/Nov/2023 13:09:50] \"POST /live HTTP/1.1\" 200 -\n"
     ]
    },
    {
     "name": "stdout",
     "output_type": "stream",
     "text": [
      "YESSSSSS\n",
      "Loading Encode File ...\n",
      "Encode File Loaded\n",
      "YESSSSSS\n",
      "Loading Encode File ...\n",
      "Encode File Loaded\n",
      "YESSSSSS\n",
      "Loading Encode File ...\n",
      "Encode File Loaded\n",
      "YESSSSSS\n",
      "Loading Encode File ...\n",
      "Encode File Loaded\n"
     ]
    },
    {
     "name": "stderr",
     "output_type": "stream",
     "text": [
      "127.0.0.1 - - [23/Nov/2023 13:09:50] \"POST /live HTTP/1.1\" 200 -\n",
      "127.0.0.1 - - [23/Nov/2023 13:09:50] \"POST /live HTTP/1.1\" 200 -\n",
      "127.0.0.1 - - [23/Nov/2023 13:09:50] \"POST /live HTTP/1.1\" 200 -\n",
      "127.0.0.1 - - [23/Nov/2023 13:09:50] \"POST /live HTTP/1.1\" 200 -\n"
     ]
    },
    {
     "name": "stdout",
     "output_type": "stream",
     "text": [
      "YESSSSSS\n",
      "Loading Encode File ...\n",
      "Encode File Loaded\n",
      "YESSSSSS\n",
      "Loading Encode File ...\n",
      "Encode File Loaded\n",
      "YESSSSSS\n",
      "Loading Encode File ...\n",
      "Encode File Loaded\n",
      "YESSSSSS\n",
      "Loading Encode File ...\n",
      "Encode File Loaded\n"
     ]
    },
    {
     "name": "stderr",
     "output_type": "stream",
     "text": [
      "127.0.0.1 - - [23/Nov/2023 13:09:50] \"POST /live HTTP/1.1\" 200 -\n",
      "127.0.0.1 - - [23/Nov/2023 13:09:50] \"POST /live HTTP/1.1\" 200 -\n",
      "127.0.0.1 - - [23/Nov/2023 13:09:50] \"POST /live HTTP/1.1\" 200 -\n",
      "127.0.0.1 - - [23/Nov/2023 13:09:50] \"POST /live HTTP/1.1\" 200 -\n"
     ]
    },
    {
     "name": "stdout",
     "output_type": "stream",
     "text": [
      "YESSSSSS\n",
      "Loading Encode File ...\n",
      "Encode File Loaded\n",
      "YESSSSSS\n",
      "Loading Encode File ...\n",
      "Encode File Loaded\n",
      "YESSSSSS\n",
      "Loading Encode File ...\n",
      "Encode File Loaded\n",
      "YESSSSSS\n",
      "Loading Encode File ...\n",
      "Encode File Loaded\n"
     ]
    },
    {
     "name": "stderr",
     "output_type": "stream",
     "text": [
      "127.0.0.1 - - [23/Nov/2023 13:09:50] \"POST /live HTTP/1.1\" 200 -\n",
      "127.0.0.1 - - [23/Nov/2023 13:09:50] \"POST /live HTTP/1.1\" 200 -\n",
      "127.0.0.1 - - [23/Nov/2023 13:09:51] \"POST /live HTTP/1.1\" 200 -\n",
      "127.0.0.1 - - [23/Nov/2023 13:09:51] \"POST /live HTTP/1.1\" 200 -\n"
     ]
    },
    {
     "name": "stdout",
     "output_type": "stream",
     "text": [
      "YESSSSSS\n",
      "Loading Encode File ...\n",
      "Encode File Loaded\n",
      "YESSSSSS\n",
      "Loading Encode File ...\n",
      "Encode File Loaded\n",
      "YESSSSSS\n",
      "Loading Encode File ...\n",
      "Encode File Loaded\n",
      "YESSSSSS\n",
      "Loading Encode File ...\n",
      "Encode File Loaded\n"
     ]
    },
    {
     "name": "stderr",
     "output_type": "stream",
     "text": [
      "127.0.0.1 - - [23/Nov/2023 13:09:51] \"POST /live HTTP/1.1\" 200 -\n",
      "127.0.0.1 - - [23/Nov/2023 13:09:51] \"POST /live HTTP/1.1\" 200 -\n",
      "127.0.0.1 - - [23/Nov/2023 13:09:51] \"POST /live HTTP/1.1\" 200 -\n",
      "127.0.0.1 - - [23/Nov/2023 13:09:51] \"POST /live HTTP/1.1\" 200 -\n"
     ]
    },
    {
     "name": "stdout",
     "output_type": "stream",
     "text": [
      "YESSSSSS\n",
      "Loading Encode File ...\n",
      "Encode File Loaded\n",
      "YESSSSSS\n",
      "Loading Encode File ...\n",
      "Encode File Loaded\n",
      "YESSSSSS\n",
      "Loading Encode File ...\n",
      "Encode File Loaded\n",
      "YESSSSSS\n",
      "Loading Encode File ...\n",
      "Encode File Loaded\n"
     ]
    },
    {
     "name": "stderr",
     "output_type": "stream",
     "text": [
      "127.0.0.1 - - [23/Nov/2023 13:09:51] \"POST /live HTTP/1.1\" 200 -\n",
      "127.0.0.1 - - [23/Nov/2023 13:09:51] \"POST /live HTTP/1.1\" 200 -\n",
      "127.0.0.1 - - [23/Nov/2023 13:09:51] \"POST /live HTTP/1.1\" 200 -\n",
      "127.0.0.1 - - [23/Nov/2023 13:09:51] \"POST /live HTTP/1.1\" 200 -\n"
     ]
    },
    {
     "name": "stdout",
     "output_type": "stream",
     "text": [
      "YESSSSSS\n",
      "Loading Encode File ...\n",
      "Encode File Loaded\n",
      "YESSSSSS\n",
      "Loading Encode File ...\n",
      "Encode File Loaded\n",
      "YESSSSSS\n",
      "Loading Encode File ...\n",
      "Encode File Loaded\n",
      "YESSSSSS\n",
      "Loading Encode File ...\n",
      "Encode File Loaded\n"
     ]
    },
    {
     "name": "stderr",
     "output_type": "stream",
     "text": [
      "127.0.0.1 - - [23/Nov/2023 13:09:51] \"POST /live HTTP/1.1\" 200 -\n",
      "127.0.0.1 - - [23/Nov/2023 13:09:51] \"POST /live HTTP/1.1\" 200 -\n",
      "127.0.0.1 - - [23/Nov/2023 13:09:51] \"POST /live HTTP/1.1\" 200 -\n",
      "127.0.0.1 - - [23/Nov/2023 13:09:51] \"POST /live HTTP/1.1\" 200 -\n"
     ]
    },
    {
     "name": "stdout",
     "output_type": "stream",
     "text": [
      "YESSSSSS\n",
      "Loading Encode File ...\n",
      "Encode File Loaded\n",
      "YESSSSSS\n",
      "Loading Encode File ...\n",
      "Encode File Loaded\n",
      "YESSSSSS\n",
      "Loading Encode File ...\n",
      "Encode File Loaded\n",
      "YESSSSSS\n",
      "Loading Encode File ...\n",
      "Encode File Loaded\n"
     ]
    },
    {
     "name": "stderr",
     "output_type": "stream",
     "text": [
      "127.0.0.1 - - [23/Nov/2023 13:09:51] \"POST /live HTTP/1.1\" 200 -\n",
      "127.0.0.1 - - [23/Nov/2023 13:09:51] \"POST /live HTTP/1.1\" 200 -\n",
      "127.0.0.1 - - [23/Nov/2023 13:09:51] \"POST /live HTTP/1.1\" 200 -\n",
      "127.0.0.1 - - [23/Nov/2023 13:09:51] \"POST /live HTTP/1.1\" 200 -\n",
      "127.0.0.1 - - [23/Nov/2023 13:09:52] \"POST /live HTTP/1.1\" 200 -\n"
     ]
    },
    {
     "name": "stdout",
     "output_type": "stream",
     "text": [
      "YESSSSSS\n",
      "Loading Encode File ...\n",
      "Encode File Loaded\n",
      "YESSSSSS\n",
      "Loading Encode File ...\n",
      "Encode File Loaded\n",
      "YESSSSSS\n",
      "Loading Encode File ...\n",
      "Encode File Loaded\n",
      "YESSSSSS\n",
      "Loading Encode File ...\n",
      "Encode File Loaded\n"
     ]
    },
    {
     "name": "stderr",
     "output_type": "stream",
     "text": [
      "127.0.0.1 - - [23/Nov/2023 13:09:52] \"POST /live HTTP/1.1\" 200 -\n",
      "127.0.0.1 - - [23/Nov/2023 13:09:52] \"POST /live HTTP/1.1\" 200 -\n",
      "127.0.0.1 - - [23/Nov/2023 13:09:52] \"POST /live HTTP/1.1\" 200 -\n",
      "127.0.0.1 - - [23/Nov/2023 13:09:52] \"POST /live HTTP/1.1\" 200 -\n"
     ]
    },
    {
     "name": "stdout",
     "output_type": "stream",
     "text": [
      "YESSSSSS\n",
      "Loading Encode File ...\n",
      "Encode File Loaded\n",
      "YESSSSSS\n",
      "Loading Encode File ...\n",
      "Encode File Loaded\n",
      "YESSSSSS\n",
      "Loading Encode File ...\n",
      "Encode File Loaded\n",
      "YESSSSSS\n",
      "Loading Encode File ...\n",
      "Encode File Loaded\n"
     ]
    },
    {
     "name": "stderr",
     "output_type": "stream",
     "text": [
      "127.0.0.1 - - [23/Nov/2023 13:09:52] \"POST /live HTTP/1.1\" 200 -\n",
      "127.0.0.1 - - [23/Nov/2023 13:09:52] \"POST /live HTTP/1.1\" 200 -\n",
      "127.0.0.1 - - [23/Nov/2023 13:09:52] \"POST /live HTTP/1.1\" 200 -\n"
     ]
    },
    {
     "name": "stdout",
     "output_type": "stream",
     "text": [
      "YESSSSSS\n",
      "Loading Encode File ...\n",
      "Encode File Loaded\n",
      "YESSSSSS\n",
      "Loading Encode File ...\n",
      "Encode File Loaded\n",
      "YESSSSSS\n",
      "Loading Encode File ...\n",
      "Encode File Loaded\n",
      "YESSSSSS\n",
      "Loading Encode File ...\n",
      "Encode File Loaded\n"
     ]
    },
    {
     "name": "stderr",
     "output_type": "stream",
     "text": [
      "127.0.0.1 - - [23/Nov/2023 13:09:52] \"POST /live HTTP/1.1\" 200 -\n",
      "127.0.0.1 - - [23/Nov/2023 13:09:52] \"POST /live HTTP/1.1\" 200 -\n",
      "127.0.0.1 - - [23/Nov/2023 13:09:52] \"POST /live HTTP/1.1\" 200 -\n",
      "127.0.0.1 - - [23/Nov/2023 13:09:52] \"POST /live HTTP/1.1\" 200 -\n",
      "127.0.0.1 - - [23/Nov/2023 13:09:52] \"POST /live HTTP/1.1\" 200 -\n"
     ]
    },
    {
     "name": "stdout",
     "output_type": "stream",
     "text": [
      "YESSSSSS\n",
      "Loading Encode File ...\n",
      "Encode File Loaded\n",
      "YESSSSSS\n",
      "Loading Encode File ...\n",
      "Encode File Loaded\n",
      "YESSSSSS\n",
      "Loading Encode File ...\n",
      "Encode File Loaded\n",
      "YESSSSSS\n",
      "Loading Encode File ...\n",
      "Encode File Loaded\n"
     ]
    },
    {
     "name": "stderr",
     "output_type": "stream",
     "text": [
      "127.0.0.1 - - [23/Nov/2023 13:09:52] \"POST /live HTTP/1.1\" 200 -\n",
      "127.0.0.1 - - [23/Nov/2023 13:09:52] \"POST /live HTTP/1.1\" 200 -\n",
      "127.0.0.1 - - [23/Nov/2023 13:09:52] \"POST /live HTTP/1.1\" 200 -\n",
      "127.0.0.1 - - [23/Nov/2023 13:09:52] \"POST /live HTTP/1.1\" 200 -\n"
     ]
    },
    {
     "name": "stdout",
     "output_type": "stream",
     "text": [
      "YESSSSSS\n",
      "Loading Encode File ...\n",
      "Encode File Loaded\n",
      "YESSSSSS\n",
      "Loading Encode File ...\n",
      "Encode File Loaded\n",
      "YESSSSSS\n",
      "Loading Encode File ...\n",
      "Encode File Loaded\n",
      "YESSSSSS\n",
      "Loading Encode File ...\n",
      "Encode File Loaded\n"
     ]
    },
    {
     "name": "stderr",
     "output_type": "stream",
     "text": [
      "127.0.0.1 - - [23/Nov/2023 13:09:52] \"POST /live HTTP/1.1\" 200 -\n",
      "127.0.0.1 - - [23/Nov/2023 13:09:52] \"POST /live HTTP/1.1\" 200 -\n",
      "127.0.0.1 - - [23/Nov/2023 13:09:53] \"POST /live HTTP/1.1\" 200 -\n"
     ]
    },
    {
     "name": "stdout",
     "output_type": "stream",
     "text": [
      "YESSSSSS\n",
      "Loading Encode File ...\n",
      "Encode File Loaded\n",
      "YESSSSSS\n",
      "Loading Encode File ...\n",
      "Encode File Loaded\n",
      "YESSSSSS\n",
      "Loading Encode File ...\n",
      "Encode File Loaded\n",
      "YESSSSSS\n",
      "Loading Encode File ...\n",
      "Encode File Loaded\n"
     ]
    },
    {
     "name": "stderr",
     "output_type": "stream",
     "text": [
      "127.0.0.1 - - [23/Nov/2023 13:09:53] \"POST /live HTTP/1.1\" 200 -\n",
      "127.0.0.1 - - [23/Nov/2023 13:09:53] \"POST /live HTTP/1.1\" 200 -\n",
      "127.0.0.1 - - [23/Nov/2023 13:09:53] \"POST /live HTTP/1.1\" 200 -\n",
      "127.0.0.1 - - [23/Nov/2023 13:09:53] \"POST /live HTTP/1.1\" 200 -\n"
     ]
    },
    {
     "name": "stdout",
     "output_type": "stream",
     "text": [
      "YESSSSSS\n",
      "Loading Encode File ...\n",
      "Encode File Loaded\n",
      "YESSSSSS\n",
      "Loading Encode File ...\n",
      "Encode File Loaded\n",
      "YESSSSSS\n",
      "Loading Encode File ...\n",
      "Encode File Loaded\n",
      "YESSSSSS\n",
      "Loading Encode File ...\n",
      "Encode File Loaded\n"
     ]
    },
    {
     "name": "stderr",
     "output_type": "stream",
     "text": [
      "127.0.0.1 - - [23/Nov/2023 13:09:53] \"POST /live HTTP/1.1\" 200 -\n",
      "127.0.0.1 - - [23/Nov/2023 13:09:53] \"POST /live HTTP/1.1\" 200 -\n",
      "127.0.0.1 - - [23/Nov/2023 13:09:53] \"POST /live HTTP/1.1\" 200 -\n",
      "127.0.0.1 - - [23/Nov/2023 13:09:53] \"POST /live HTTP/1.1\" 200 -\n"
     ]
    },
    {
     "name": "stdout",
     "output_type": "stream",
     "text": [
      "YESSSSSS\n",
      "Loading Encode File ...\n",
      "Encode File Loaded\n",
      "YESSSSSS\n",
      "Loading Encode File ...\n",
      "Encode File Loaded\n",
      "YESSSSSS\n",
      "Loading Encode File ...\n",
      "Encode File Loaded\n",
      "YESSSSSS\n",
      "Loading Encode File ...\n",
      "Encode File Loaded\n"
     ]
    },
    {
     "name": "stderr",
     "output_type": "stream",
     "text": [
      "127.0.0.1 - - [23/Nov/2023 13:09:53] \"POST /live HTTP/1.1\" 200 -\n",
      "127.0.0.1 - - [23/Nov/2023 13:09:53] \"POST /live HTTP/1.1\" 200 -\n",
      "127.0.0.1 - - [23/Nov/2023 13:09:53] \"POST /live HTTP/1.1\" 200 -\n",
      "127.0.0.1 - - [23/Nov/2023 13:09:53] \"POST /live HTTP/1.1\" 200 -\n"
     ]
    },
    {
     "name": "stdout",
     "output_type": "stream",
     "text": [
      "YESSSSSS\n",
      "Loading Encode File ...\n",
      "Encode File Loaded\n",
      "YESSSSSS\n",
      "Loading Encode File ...\n",
      "Encode File Loaded\n",
      "YESSSSSS\n",
      "Loading Encode File ...\n",
      "Encode File Loaded\n",
      "YESSSSSS\n",
      "Loading Encode File ...\n",
      "Encode File Loaded\n"
     ]
    },
    {
     "name": "stderr",
     "output_type": "stream",
     "text": [
      "127.0.0.1 - - [23/Nov/2023 13:09:53] \"POST /live HTTP/1.1\" 200 -\n",
      "127.0.0.1 - - [23/Nov/2023 13:09:53] \"POST /live HTTP/1.1\" 200 -\n",
      "127.0.0.1 - - [23/Nov/2023 13:09:53] \"POST /live HTTP/1.1\" 200 -\n",
      "127.0.0.1 - - [23/Nov/2023 13:09:53] \"POST /live HTTP/1.1\" 200 -\n"
     ]
    },
    {
     "name": "stdout",
     "output_type": "stream",
     "text": [
      "YESSSSSS\n",
      "Loading Encode File ...\n",
      "Encode File Loaded\n",
      "YESSSSSS\n",
      "Loading Encode File ...\n",
      "Encode File Loaded\n",
      "YESSSSSS\n",
      "Loading Encode File ...\n",
      "Encode File Loaded\n",
      "YESSSSSS\n",
      "Loading Encode File ...\n",
      "Encode File Loaded\n"
     ]
    },
    {
     "name": "stderr",
     "output_type": "stream",
     "text": [
      "127.0.0.1 - - [23/Nov/2023 13:09:53] \"POST /live HTTP/1.1\" 200 -\n",
      "127.0.0.1 - - [23/Nov/2023 13:09:53] \"POST /live HTTP/1.1\" 200 -\n",
      "127.0.0.1 - - [23/Nov/2023 13:09:54] \"POST /live HTTP/1.1\" 200 -\n",
      "127.0.0.1 - - [23/Nov/2023 13:09:54] \"POST /live HTTP/1.1\" 200 -\n"
     ]
    },
    {
     "name": "stdout",
     "output_type": "stream",
     "text": [
      "YESSSSSS\n",
      "Loading Encode File ...\n",
      "Encode File Loaded\n",
      "YESSSSSS\n",
      "Loading Encode File ...\n",
      "Encode File Loaded\n",
      "YESSSSSS\n",
      "Loading Encode File ...\n",
      "Encode File Loaded\n",
      "YESSSSSS\n",
      "Loading Encode File ...\n",
      "Encode File Loaded\n"
     ]
    },
    {
     "name": "stderr",
     "output_type": "stream",
     "text": [
      "127.0.0.1 - - [23/Nov/2023 13:09:54] \"POST /live HTTP/1.1\" 200 -\n",
      "127.0.0.1 - - [23/Nov/2023 13:09:54] \"POST /live HTTP/1.1\" 200 -\n",
      "127.0.0.1 - - [23/Nov/2023 13:09:54] \"POST /live HTTP/1.1\" 200 -\n",
      "127.0.0.1 - - [23/Nov/2023 13:09:54] \"POST /live HTTP/1.1\" 200 -\n"
     ]
    },
    {
     "name": "stdout",
     "output_type": "stream",
     "text": [
      "YESSSSSS\n",
      "Loading Encode File ...\n",
      "Encode File Loaded\n",
      "YESSSSSS\n",
      "Loading Encode File ...\n",
      "Encode File Loaded\n",
      "YESSSSSS\n",
      "Loading Encode File ...\n",
      "Encode File Loaded\n",
      "YESSSSSS\n",
      "Loading Encode File ...\n",
      "Encode File Loaded\n"
     ]
    },
    {
     "name": "stderr",
     "output_type": "stream",
     "text": [
      "127.0.0.1 - - [23/Nov/2023 13:09:54] \"POST /live HTTP/1.1\" 200 -\n",
      "127.0.0.1 - - [23/Nov/2023 13:09:54] \"POST /live HTTP/1.1\" 200 -\n",
      "127.0.0.1 - - [23/Nov/2023 13:09:54] \"POST /live HTTP/1.1\" 200 -\n",
      "127.0.0.1 - - [23/Nov/2023 13:09:54] \"POST /live HTTP/1.1\" 200 -\n",
      "127.0.0.1 - - [23/Nov/2023 13:09:54] \"POST /live HTTP/1.1\" 200 -\n"
     ]
    },
    {
     "name": "stdout",
     "output_type": "stream",
     "text": [
      "YESSSSSS\n",
      "Loading Encode File ...\n",
      "Encode File Loaded\n",
      "YESSSSSS\n",
      "Loading Encode File ...\n",
      "Encode File Loaded\n",
      "YESSSSSS\n",
      "Loading Encode File ...\n",
      "Encode File Loaded\n",
      "YESSSSSS\n",
      "Loading Encode File ...\n",
      "Encode File Loaded\n"
     ]
    },
    {
     "name": "stderr",
     "output_type": "stream",
     "text": [
      "127.0.0.1 - - [23/Nov/2023 13:09:54] \"POST /live HTTP/1.1\" 200 -\n",
      "127.0.0.1 - - [23/Nov/2023 13:09:54] \"POST /live HTTP/1.1\" 200 -\n",
      "127.0.0.1 - - [23/Nov/2023 13:09:54] \"POST /live HTTP/1.1\" 200 -\n",
      "127.0.0.1 - - [23/Nov/2023 13:09:54] \"POST /live HTTP/1.1\" 200 -\n"
     ]
    },
    {
     "name": "stdout",
     "output_type": "stream",
     "text": [
      "YESSSSSS\n",
      "Loading Encode File ...\n",
      "Encode File Loaded\n",
      "YESSSSSS\n",
      "Loading Encode File ...\n",
      "Encode File Loaded\n",
      "YESSSSSS\n",
      "Loading Encode File ...\n",
      "Encode File Loaded\n",
      "YESSSSSS\n",
      "Loading Encode File ...\n",
      "Encode File Loaded\n"
     ]
    },
    {
     "name": "stderr",
     "output_type": "stream",
     "text": [
      "127.0.0.1 - - [23/Nov/2023 13:09:54] \"POST /live HTTP/1.1\" 200 -\n",
      "127.0.0.1 - - [23/Nov/2023 13:09:54] \"POST /live HTTP/1.1\" 200 -\n",
      "127.0.0.1 - - [23/Nov/2023 13:09:54] \"POST /live HTTP/1.1\" 200 -\n",
      "127.0.0.1 - - [23/Nov/2023 13:09:54] \"POST /live HTTP/1.1\" 200 -\n"
     ]
    },
    {
     "name": "stdout",
     "output_type": "stream",
     "text": [
      "YESSSSSS\n",
      "Loading Encode File ...\n",
      "Encode File Loaded\n",
      "YESSSSSS\n",
      "Loading Encode File ...\n",
      "Encode File Loaded\n",
      "YESSSSSS\n",
      "Loading Encode File ...\n",
      "Encode File Loaded\n",
      "YESSSSSS\n",
      "Loading Encode File ...\n",
      "Encode File Loaded\n"
     ]
    },
    {
     "name": "stderr",
     "output_type": "stream",
     "text": [
      "127.0.0.1 - - [23/Nov/2023 13:09:55] \"POST /live HTTP/1.1\" 200 -\n",
      "127.0.0.1 - - [23/Nov/2023 13:09:55] \"POST /live HTTP/1.1\" 200 -\n",
      "127.0.0.1 - - [23/Nov/2023 13:09:55] \"POST /live HTTP/1.1\" 200 -\n"
     ]
    },
    {
     "name": "stdout",
     "output_type": "stream",
     "text": [
      "YESSSSSS\n",
      "Loading Encode File ...\n",
      "Encode File Loaded\n",
      "YESSSSSS\n",
      "Loading Encode File ...\n",
      "Encode File Loaded\n",
      "YESSSSSS\n",
      "Loading Encode File ...\n",
      "Encode File Loaded\n",
      "YESSSSSS\n",
      "Loading Encode File ...\n",
      "Encode File Loaded\n"
     ]
    },
    {
     "name": "stderr",
     "output_type": "stream",
     "text": [
      "127.0.0.1 - - [23/Nov/2023 13:09:55] \"POST /live HTTP/1.1\" 200 -\n",
      "127.0.0.1 - - [23/Nov/2023 13:09:55] \"POST /live HTTP/1.1\" 200 -\n",
      "127.0.0.1 - - [23/Nov/2023 13:09:55] \"POST /live HTTP/1.1\" 200 -\n",
      "127.0.0.1 - - [23/Nov/2023 13:09:55] \"POST /live HTTP/1.1\" 200 -\n",
      "127.0.0.1 - - [23/Nov/2023 13:09:55] \"POST /live HTTP/1.1\" 200 -\n"
     ]
    },
    {
     "name": "stdout",
     "output_type": "stream",
     "text": [
      "YESSSSSS\n",
      "Loading Encode File ...\n",
      "Encode File Loaded\n",
      "YESSSSSS\n",
      "Loading Encode File ...\n",
      "Encode File Loaded\n",
      "YESSSSSS\n",
      "Loading Encode File ...\n",
      "Encode File Loaded\n",
      "YESSSSSS\n",
      "Loading Encode File ...\n",
      "Encode File Loaded\n"
     ]
    },
    {
     "name": "stderr",
     "output_type": "stream",
     "text": [
      "127.0.0.1 - - [23/Nov/2023 13:09:55] \"POST /live HTTP/1.1\" 200 -\n",
      "127.0.0.1 - - [23/Nov/2023 13:09:55] \"POST /live HTTP/1.1\" 200 -\n",
      "127.0.0.1 - - [23/Nov/2023 13:09:55] \"POST /live HTTP/1.1\" 200 -\n",
      "127.0.0.1 - - [23/Nov/2023 13:09:55] \"POST /live HTTP/1.1\" 200 -\n"
     ]
    },
    {
     "name": "stdout",
     "output_type": "stream",
     "text": [
      "YESSSSSS\n",
      "Loading Encode File ...\n",
      "Encode File Loaded\n",
      "YESSSSSS\n",
      "Loading Encode File ...\n",
      "Encode File Loaded\n",
      "YESSSSSS\n",
      "Loading Encode File ...\n",
      "Encode File Loaded\n",
      "YESSSSSS\n",
      "Loading Encode File ...\n",
      "Encode File Loaded\n"
     ]
    },
    {
     "name": "stderr",
     "output_type": "stream",
     "text": [
      "127.0.0.1 - - [23/Nov/2023 13:09:55] \"POST /live HTTP/1.1\" 200 -\n",
      "127.0.0.1 - - [23/Nov/2023 13:09:55] \"POST /live HTTP/1.1\" 200 -\n",
      "127.0.0.1 - - [23/Nov/2023 13:09:55] \"POST /live HTTP/1.1\" 200 -\n",
      "127.0.0.1 - - [23/Nov/2023 13:09:55] \"POST /live HTTP/1.1\" 200 -\n"
     ]
    },
    {
     "name": "stdout",
     "output_type": "stream",
     "text": [
      "YESSSSSS\n",
      "Loading Encode File ...\n",
      "Encode File Loaded\n",
      "YESSSSSS\n",
      "Loading Encode File ...\n",
      "Encode File Loaded\n",
      "YESSSSSS\n",
      "Loading Encode File ...\n",
      "Encode File Loaded\n",
      "YESSSSSS\n",
      "Loading Encode File ...\n",
      "Encode File Loaded\n"
     ]
    },
    {
     "name": "stderr",
     "output_type": "stream",
     "text": [
      "127.0.0.1 - - [23/Nov/2023 13:09:55] \"POST /live HTTP/1.1\" 200 -\n",
      "127.0.0.1 - - [23/Nov/2023 13:09:55] \"POST /live HTTP/1.1\" 200 -\n",
      "127.0.0.1 - - [23/Nov/2023 13:09:55] \"POST /live HTTP/1.1\" 200 -\n"
     ]
    },
    {
     "name": "stdout",
     "output_type": "stream",
     "text": [
      "YESSSSSS\n",
      "Loading Encode File ...\n",
      "Encode File Loaded\n",
      "YESSSSSS\n",
      "Loading Encode File ...\n",
      "Encode File Loaded\n",
      "YESSSSSS\n",
      "Loading Encode File ...\n",
      "Encode File Loaded\n",
      "YESSSSSS\n",
      "Loading Encode File ...\n",
      "Encode File Loaded\n"
     ]
    },
    {
     "name": "stderr",
     "output_type": "stream",
     "text": [
      "127.0.0.1 - - [23/Nov/2023 13:09:56] \"POST /live HTTP/1.1\" 200 -\n",
      "127.0.0.1 - - [23/Nov/2023 13:09:56] \"POST /live HTTP/1.1\" 200 -\n",
      "127.0.0.1 - - [23/Nov/2023 13:09:56] \"POST /live HTTP/1.1\" 200 -\n",
      "127.0.0.1 - - [23/Nov/2023 13:09:56] \"POST /live HTTP/1.1\" 200 -\n"
     ]
    },
    {
     "name": "stdout",
     "output_type": "stream",
     "text": [
      "YESSSSSS\n",
      "Loading Encode File ...\n",
      "Encode File Loaded\n",
      "YESSSSSS\n",
      "Loading Encode File ...\n",
      "Encode File Loaded\n",
      "YESSSSSS\n",
      "Loading Encode File ...\n",
      "Encode File Loaded\n",
      "YESSSSSS\n",
      "Loading Encode File ...\n",
      "Encode File Loaded\n"
     ]
    },
    {
     "name": "stderr",
     "output_type": "stream",
     "text": [
      "127.0.0.1 - - [23/Nov/2023 13:09:56] \"POST /live HTTP/1.1\" 200 -\n",
      "127.0.0.1 - - [23/Nov/2023 13:09:56] \"POST /live HTTP/1.1\" 200 -\n",
      "127.0.0.1 - - [23/Nov/2023 13:09:56] \"POST /live HTTP/1.1\" 200 -\n",
      "127.0.0.1 - - [23/Nov/2023 13:09:56] \"POST /live HTTP/1.1\" 200 -\n"
     ]
    },
    {
     "name": "stdout",
     "output_type": "stream",
     "text": [
      "YESSSSSS\n",
      "Loading Encode File ...\n",
      "Encode File Loaded\n",
      "YESSSSSS\n",
      "Loading Encode File ...\n",
      "Encode File Loaded\n",
      "YESSSSSS\n",
      "Loading Encode File ...\n",
      "Encode File Loaded\n",
      "YESSSSSS\n",
      "Loading Encode File ...\n",
      "Encode File Loaded\n"
     ]
    },
    {
     "name": "stderr",
     "output_type": "stream",
     "text": [
      "127.0.0.1 - - [23/Nov/2023 13:09:56] \"POST /live HTTP/1.1\" 200 -\n",
      "127.0.0.1 - - [23/Nov/2023 13:09:56] \"POST /live HTTP/1.1\" 200 -\n",
      "127.0.0.1 - - [23/Nov/2023 13:09:56] \"POST /live HTTP/1.1\" 200 -\n",
      "127.0.0.1 - - [23/Nov/2023 13:09:56] \"POST /live HTTP/1.1\" 200 -\n"
     ]
    },
    {
     "name": "stdout",
     "output_type": "stream",
     "text": [
      "YESSSSSS\n",
      "Loading Encode File ...\n",
      "Encode File Loaded\n",
      "YESSSSSS\n",
      "Loading Encode File ...\n",
      "Encode File Loaded\n",
      "YESSSSSS\n",
      "Loading Encode File ...\n",
      "Encode File Loaded\n",
      "YESSSSSS\n",
      "Loading Encode File ...\n",
      "Encode File Loaded\n"
     ]
    },
    {
     "name": "stderr",
     "output_type": "stream",
     "text": [
      "127.0.0.1 - - [23/Nov/2023 13:09:56] \"POST /live HTTP/1.1\" 200 -\n",
      "127.0.0.1 - - [23/Nov/2023 13:09:56] \"POST /live HTTP/1.1\" 200 -\n",
      "127.0.0.1 - - [23/Nov/2023 13:09:56] \"POST /live HTTP/1.1\" 200 -\n",
      "127.0.0.1 - - [23/Nov/2023 13:09:56] \"POST /live HTTP/1.1\" 200 -\n",
      "127.0.0.1 - - [23/Nov/2023 13:09:56] \"POST /live HTTP/1.1\" 200 -\n"
     ]
    },
    {
     "name": "stdout",
     "output_type": "stream",
     "text": [
      "YESSSSSS\n",
      "Loading Encode File ...\n",
      "Encode File Loaded\n",
      "YESSSSSS\n",
      "Loading Encode File ...\n",
      "Encode File Loaded\n",
      "YESSSSSS\n",
      "Loading Encode File ...\n",
      "Encode File Loaded\n",
      "YESSSSSS\n",
      "Loading Encode File ...\n",
      "Encode File Loaded\n"
     ]
    },
    {
     "name": "stderr",
     "output_type": "stream",
     "text": [
      "127.0.0.1 - - [23/Nov/2023 13:09:56] \"POST /live HTTP/1.1\" 200 -\n",
      "127.0.0.1 - - [23/Nov/2023 13:09:56] \"POST /live HTTP/1.1\" 200 -\n",
      "127.0.0.1 - - [23/Nov/2023 13:09:57] \"POST /live HTTP/1.1\" 200 -\n",
      "127.0.0.1 - - [23/Nov/2023 13:09:57] \"POST /live HTTP/1.1\" 200 -\n"
     ]
    },
    {
     "name": "stdout",
     "output_type": "stream",
     "text": [
      "YESSSSSS\n",
      "Loading Encode File ...\n",
      "Encode File Loaded\n",
      "YESSSSSS\n",
      "Loading Encode File ...\n",
      "Encode File Loaded\n",
      "YESSSSSS\n",
      "Loading Encode File ...\n",
      "Encode File Loaded\n",
      "YESSSSSS\n",
      "Loading Encode File ...\n",
      "Encode File Loaded\n"
     ]
    },
    {
     "name": "stderr",
     "output_type": "stream",
     "text": [
      "127.0.0.1 - - [23/Nov/2023 13:09:57] \"POST /live HTTP/1.1\" 200 -\n",
      "127.0.0.1 - - [23/Nov/2023 13:09:57] \"POST /live HTTP/1.1\" 200 -\n",
      "127.0.0.1 - - [23/Nov/2023 13:09:57] \"POST /live HTTP/1.1\" 200 -\n"
     ]
    },
    {
     "name": "stdout",
     "output_type": "stream",
     "text": [
      "YESSSSSS\n",
      "Loading Encode File ...\n",
      "Encode File Loaded\n",
      "YESSSSSS\n",
      "Loading Encode File ...\n",
      "Encode File Loaded\n",
      "YESSSSSS\n",
      "Loading Encode File ...\n",
      "Encode File Loaded\n",
      "YESSSSSS\n",
      "Loading Encode File ...\n",
      "Encode File Loaded\n"
     ]
    },
    {
     "name": "stderr",
     "output_type": "stream",
     "text": [
      "127.0.0.1 - - [23/Nov/2023 13:09:57] \"POST /live HTTP/1.1\" 200 -\n",
      "127.0.0.1 - - [23/Nov/2023 13:09:57] \"POST /live HTTP/1.1\" 200 -\n",
      "127.0.0.1 - - [23/Nov/2023 13:09:57] \"POST /live HTTP/1.1\" 200 -\n",
      "127.0.0.1 - - [23/Nov/2023 13:09:57] \"POST /live HTTP/1.1\" 200 -\n",
      "127.0.0.1 - - [23/Nov/2023 13:09:57] \"POST /live HTTP/1.1\" 200 -\n"
     ]
    },
    {
     "name": "stdout",
     "output_type": "stream",
     "text": [
      "YESSSSSS\n",
      "Loading Encode File ...\n",
      "Encode File Loaded\n",
      "YESSSSSS\n",
      "Loading Encode File ...\n",
      "Encode File Loaded\n",
      "YESSSSSS\n",
      "Loading Encode File ...\n",
      "Encode File Loaded\n",
      "YESSSSSS\n",
      "Loading Encode File ...\n",
      "Encode File Loaded\n"
     ]
    },
    {
     "name": "stderr",
     "output_type": "stream",
     "text": [
      "127.0.0.1 - - [23/Nov/2023 13:09:57] \"POST /live HTTP/1.1\" 200 -\n",
      "127.0.0.1 - - [23/Nov/2023 13:09:57] \"POST /live HTTP/1.1\" 200 -\n",
      "127.0.0.1 - - [23/Nov/2023 13:09:57] \"POST /live HTTP/1.1\" 200 -\n"
     ]
    },
    {
     "name": "stdout",
     "output_type": "stream",
     "text": [
      "YESSSSSS\n",
      "Loading Encode File ...\n",
      "Encode File Loaded\n",
      "YESSSSSS\n",
      "Loading Encode File ...\n",
      "Encode File Loaded\n",
      "YESSSSSS\n",
      "Loading Encode File ...\n",
      "Encode File Loaded\n",
      "YESSSSSS\n",
      "Loading Encode File ...\n",
      "Encode File Loaded\n"
     ]
    },
    {
     "name": "stderr",
     "output_type": "stream",
     "text": [
      "127.0.0.1 - - [23/Nov/2023 13:09:57] \"POST /live HTTP/1.1\" 200 -\n",
      "127.0.0.1 - - [23/Nov/2023 13:09:57] \"POST /live HTTP/1.1\" 200 -\n",
      "127.0.0.1 - - [23/Nov/2023 13:09:57] \"POST /live HTTP/1.1\" 200 -\n",
      "127.0.0.1 - - [23/Nov/2023 13:09:57] \"POST /live HTTP/1.1\" 200 -\n"
     ]
    },
    {
     "name": "stdout",
     "output_type": "stream",
     "text": [
      "YESSSSSS\n",
      "Loading Encode File ...\n",
      "Encode File Loaded\n",
      "YESSSSSS\n",
      "Loading Encode File ...\n",
      "Encode File Loaded\n",
      "YESSSSSS\n",
      "Loading Encode File ...\n",
      "Encode File Loaded\n",
      "YESSSSSS\n",
      "Loading Encode File ...\n",
      "Encode File Loaded\n"
     ]
    },
    {
     "name": "stderr",
     "output_type": "stream",
     "text": [
      "127.0.0.1 - - [23/Nov/2023 13:09:57] \"POST /live HTTP/1.1\" 200 -\n",
      "127.0.0.1 - - [23/Nov/2023 13:09:58] \"POST /live HTTP/1.1\" 200 -\n",
      "127.0.0.1 - - [23/Nov/2023 13:09:58] \"POST /live HTTP/1.1\" 200 -\n",
      "127.0.0.1 - - [23/Nov/2023 13:09:58] \"POST /live HTTP/1.1\" 200 -\n",
      "127.0.0.1 - - [23/Nov/2023 13:09:58] \"POST /live HTTP/1.1\" 200 -\n"
     ]
    },
    {
     "name": "stdout",
     "output_type": "stream",
     "text": [
      "YESSSSSS\n",
      "Loading Encode File ...\n",
      "Encode File Loaded\n",
      "YESSSSSS\n",
      "Loading Encode File ...\n",
      "Encode File Loaded\n",
      "YESSSSSS\n",
      "Loading Encode File ...\n",
      "Encode File Loaded\n",
      "YESSSSSS\n",
      "Loading Encode File ...\n",
      "Encode File Loaded\n"
     ]
    },
    {
     "name": "stderr",
     "output_type": "stream",
     "text": [
      "127.0.0.1 - - [23/Nov/2023 13:09:58] \"POST /live HTTP/1.1\" 200 -\n",
      "127.0.0.1 - - [23/Nov/2023 13:09:58] \"POST /live HTTP/1.1\" 200 -\n",
      "127.0.0.1 - - [23/Nov/2023 13:09:58] \"POST /live HTTP/1.1\" 200 -\n",
      "127.0.0.1 - - [23/Nov/2023 13:09:58] \"POST /live HTTP/1.1\" 200 -\n"
     ]
    },
    {
     "name": "stdout",
     "output_type": "stream",
     "text": [
      "YESSSSSS\n",
      "Loading Encode File ...\n",
      "Encode File Loaded\n",
      "YESSSSSS\n",
      "Loading Encode File ...\n",
      "Encode File Loaded\n",
      "YESSSSSS\n",
      "Loading Encode File ...\n",
      "Encode File Loaded\n",
      "YESSSSSS\n",
      "Loading Encode File ...\n",
      "Encode File Loaded\n"
     ]
    },
    {
     "name": "stderr",
     "output_type": "stream",
     "text": [
      "127.0.0.1 - - [23/Nov/2023 13:09:58] \"POST /live HTTP/1.1\" 200 -\n",
      "127.0.0.1 - - [23/Nov/2023 13:09:58] \"POST /live HTTP/1.1\" 200 -\n",
      "127.0.0.1 - - [23/Nov/2023 13:09:58] \"POST /live HTTP/1.1\" 200 -\n"
     ]
    },
    {
     "name": "stdout",
     "output_type": "stream",
     "text": [
      "YESSSSSS\n",
      "Loading Encode File ...\n",
      "Encode File Loaded\n",
      "YESSSSSS\n",
      "Loading Encode File ...\n",
      "Encode File Loaded\n",
      "YESSSSSS\n",
      "Loading Encode File ...\n",
      "Encode File Loaded\n",
      "YESSSSSS\n",
      "Loading Encode File ...\n",
      "Encode File Loaded\n"
     ]
    },
    {
     "name": "stderr",
     "output_type": "stream",
     "text": [
      "127.0.0.1 - - [23/Nov/2023 13:09:58] \"POST /live HTTP/1.1\" 200 -\n",
      "127.0.0.1 - - [23/Nov/2023 13:09:58] \"POST /live HTTP/1.1\" 200 -\n",
      "127.0.0.1 - - [23/Nov/2023 13:09:58] \"POST /live HTTP/1.1\" 200 -\n",
      "127.0.0.1 - - [23/Nov/2023 13:09:58] \"POST /live HTTP/1.1\" 200 -\n",
      "127.0.0.1 - - [23/Nov/2023 13:09:58] \"POST /live HTTP/1.1\" 200 -\n"
     ]
    },
    {
     "name": "stdout",
     "output_type": "stream",
     "text": [
      "YESSSSSS\n",
      "Loading Encode File ...\n",
      "Encode File Loaded\n",
      "YESSSSSS\n",
      "Loading Encode File ...\n",
      "Encode File Loaded\n",
      "YESSSSSS\n",
      "Loading Encode File ...\n",
      "Encode File Loaded\n",
      "YESSSSSS\n",
      "Loading Encode File ...\n",
      "Encode File Loaded\n"
     ]
    },
    {
     "name": "stderr",
     "output_type": "stream",
     "text": [
      "127.0.0.1 - - [23/Nov/2023 13:09:58] \"POST /live HTTP/1.1\" 200 -\n",
      "127.0.0.1 - - [23/Nov/2023 13:09:58] \"POST /live HTTP/1.1\" 200 -\n",
      "127.0.0.1 - - [23/Nov/2023 13:09:58] \"POST /live HTTP/1.1\" 200 -\n",
      "127.0.0.1 - - [23/Nov/2023 13:09:59] \"POST /live HTTP/1.1\" 200 -\n"
     ]
    },
    {
     "name": "stdout",
     "output_type": "stream",
     "text": [
      "YESSSSSS\n",
      "Loading Encode File ...\n",
      "Encode File Loaded\n",
      "YESSSSSS\n",
      "Loading Encode File ...\n",
      "Encode File Loaded\n",
      "YESSSSSS\n",
      "Loading Encode File ...\n",
      "Encode File Loaded\n",
      "YESSSSSS\n",
      "Loading Encode File ...\n",
      "Encode File Loaded\n"
     ]
    },
    {
     "name": "stderr",
     "output_type": "stream",
     "text": [
      "127.0.0.1 - - [23/Nov/2023 13:09:59] \"POST /live HTTP/1.1\" 200 -\n",
      "127.0.0.1 - - [23/Nov/2023 13:09:59] \"POST /live HTTP/1.1\" 200 -\n",
      "127.0.0.1 - - [23/Nov/2023 13:09:59] \"POST /live HTTP/1.1\" 200 -\n"
     ]
    },
    {
     "name": "stdout",
     "output_type": "stream",
     "text": [
      "YESSSSSS\n",
      "Loading Encode File ...\n",
      "Encode File Loaded\n",
      "YESSSSSS\n",
      "Loading Encode File ...\n",
      "Encode File Loaded\n",
      "YESSSSSS\n",
      "Loading Encode File ...\n",
      "Encode File Loaded\n",
      "YESSSSSS\n",
      "Loading Encode File ...\n",
      "Encode File Loaded\n"
     ]
    },
    {
     "name": "stderr",
     "output_type": "stream",
     "text": [
      "127.0.0.1 - - [23/Nov/2023 13:09:59] \"POST /live HTTP/1.1\" 200 -\n",
      "127.0.0.1 - - [23/Nov/2023 13:09:59] \"POST /live HTTP/1.1\" 200 -\n",
      "127.0.0.1 - - [23/Nov/2023 13:09:59] \"POST /live HTTP/1.1\" 200 -\n",
      "127.0.0.1 - - [23/Nov/2023 13:09:59] \"POST /live HTTP/1.1\" 200 -\n",
      "127.0.0.1 - - [23/Nov/2023 13:09:59] \"POST /live HTTP/1.1\" 200 -\n"
     ]
    },
    {
     "name": "stdout",
     "output_type": "stream",
     "text": [
      "YESSSSSS\n",
      "Loading Encode File ...\n",
      "Encode File Loaded\n",
      "YESSSSSS\n",
      "Loading Encode File ...\n",
      "Encode File Loaded\n",
      "YESSSSSS\n",
      "Loading Encode File ...\n",
      "Encode File Loaded\n",
      "YESSSSSS\n",
      "Loading Encode File ...\n",
      "Encode File Loaded\n"
     ]
    },
    {
     "name": "stderr",
     "output_type": "stream",
     "text": [
      "127.0.0.1 - - [23/Nov/2023 13:09:59] \"POST /live HTTP/1.1\" 200 -\n",
      "127.0.0.1 - - [23/Nov/2023 13:09:59] \"POST /live HTTP/1.1\" 200 -\n",
      "127.0.0.1 - - [23/Nov/2023 13:09:59] \"POST /live HTTP/1.1\" 200 -\n"
     ]
    },
    {
     "name": "stdout",
     "output_type": "stream",
     "text": [
      "YESSSSSS\n",
      "Loading Encode File ...\n",
      "Encode File Loaded\n",
      "YESSSSSS\n",
      "Loading Encode File ...\n",
      "Encode File Loaded\n",
      "YESSSSSS\n",
      "Loading Encode File ...\n",
      "Encode File Loaded\n",
      "YESSSSSS\n",
      "Loading Encode File ...\n",
      "Encode File Loaded\n"
     ]
    },
    {
     "name": "stderr",
     "output_type": "stream",
     "text": [
      "127.0.0.1 - - [23/Nov/2023 13:09:59] \"POST /live HTTP/1.1\" 200 -\n",
      "127.0.0.1 - - [23/Nov/2023 13:09:59] \"POST /live HTTP/1.1\" 200 -\n",
      "127.0.0.1 - - [23/Nov/2023 13:09:59] \"POST /live HTTP/1.1\" 200 -\n",
      "127.0.0.1 - - [23/Nov/2023 13:09:59] \"POST /live HTTP/1.1\" 200 -\n",
      "127.0.0.1 - - [23/Nov/2023 13:09:59] \"POST /live HTTP/1.1\" 200 -\n"
     ]
    },
    {
     "name": "stdout",
     "output_type": "stream",
     "text": [
      "YESSSSSS\n",
      "Loading Encode File ...\n",
      "Encode File Loaded\n",
      "YESSSSSS\n",
      "Loading Encode File ...\n",
      "Encode File Loaded\n",
      "YESSSSSS\n",
      "Loading Encode File ...\n",
      "Encode File Loaded\n",
      "YESSSSSS\n",
      "Loading Encode File ...\n",
      "Encode File Loaded\n"
     ]
    },
    {
     "name": "stderr",
     "output_type": "stream",
     "text": [
      "127.0.0.1 - - [23/Nov/2023 13:09:59] \"POST /live HTTP/1.1\" 200 -\n",
      "127.0.0.1 - - [23/Nov/2023 13:09:59] \"POST /live HTTP/1.1\" 200 -\n",
      "127.0.0.1 - - [23/Nov/2023 13:10:00] \"POST /live HTTP/1.1\" 200 -\n"
     ]
    },
    {
     "name": "stdout",
     "output_type": "stream",
     "text": [
      "YESSSSSS\n",
      "Loading Encode File ...\n",
      "Encode File Loaded\n",
      "YESSSSSS\n",
      "Loading Encode File ...\n",
      "Encode File Loaded\n",
      "YESSSSSS\n",
      "Loading Encode File ...\n",
      "Encode File Loaded\n",
      "YESSSSSS\n",
      "Loading Encode File ...\n",
      "Encode File Loaded\n"
     ]
    },
    {
     "name": "stderr",
     "output_type": "stream",
     "text": [
      "127.0.0.1 - - [23/Nov/2023 13:10:00] \"POST /live HTTP/1.1\" 200 -\n",
      "127.0.0.1 - - [23/Nov/2023 13:10:00] \"POST /live HTTP/1.1\" 200 -\n",
      "127.0.0.1 - - [23/Nov/2023 13:10:00] \"POST /live HTTP/1.1\" 200 -\n",
      "127.0.0.1 - - [23/Nov/2023 13:10:00] \"POST /live HTTP/1.1\" 200 -\n",
      "127.0.0.1 - - [23/Nov/2023 13:10:00] \"POST /live HTTP/1.1\" 200 -\n"
     ]
    },
    {
     "name": "stdout",
     "output_type": "stream",
     "text": [
      "YESSSSSS\n",
      "Loading Encode File ...\n",
      "Encode File Loaded\n",
      "YESSSSSS\n",
      "Loading Encode File ...\n",
      "Encode File Loaded\n",
      "YESSSSSS\n",
      "Loading Encode File ...\n",
      "Encode File Loaded\n",
      "YESSSSSS\n",
      "Loading Encode File ...\n",
      "Encode File Loaded\n"
     ]
    },
    {
     "name": "stderr",
     "output_type": "stream",
     "text": [
      "127.0.0.1 - - [23/Nov/2023 13:10:00] \"POST /live HTTP/1.1\" 200 -\n",
      "127.0.0.1 - - [23/Nov/2023 13:10:00] \"POST /live HTTP/1.1\" 200 -\n",
      "127.0.0.1 - - [23/Nov/2023 13:10:00] \"POST /live HTTP/1.1\" 200 -\n"
     ]
    },
    {
     "name": "stdout",
     "output_type": "stream",
     "text": [
      "YESSSSSS\n",
      "Loading Encode File ...\n",
      "Encode File Loaded\n",
      "YESSSSSS\n",
      "Loading Encode File ...\n",
      "Encode File Loaded\n",
      "YESSSSSS\n",
      "Loading Encode File ...\n",
      "Encode File Loaded\n",
      "YESSSSSS\n",
      "Loading Encode File ...\n",
      "Encode File Loaded\n"
     ]
    },
    {
     "name": "stderr",
     "output_type": "stream",
     "text": [
      "127.0.0.1 - - [23/Nov/2023 13:10:00] \"POST /live HTTP/1.1\" 200 -\n",
      "127.0.0.1 - - [23/Nov/2023 13:10:00] \"POST /live HTTP/1.1\" 200 -\n",
      "127.0.0.1 - - [23/Nov/2023 13:10:00] \"POST /live HTTP/1.1\" 200 -\n",
      "127.0.0.1 - - [23/Nov/2023 13:10:00] \"POST /live HTTP/1.1\" 200 -\n",
      "127.0.0.1 - - [23/Nov/2023 13:10:00] \"POST /live HTTP/1.1\" 200 -\n"
     ]
    },
    {
     "name": "stdout",
     "output_type": "stream",
     "text": [
      "YESSSSSS\n",
      "Loading Encode File ...\n",
      "Encode File Loaded\n",
      "YESSSSSS\n",
      "Loading Encode File ...\n",
      "Encode File Loaded\n",
      "YESSSSSS\n",
      "Loading Encode File ...\n",
      "Encode File Loaded\n",
      "YESSSSSS\n",
      "Loading Encode File ...\n",
      "Encode File Loaded\n"
     ]
    },
    {
     "name": "stderr",
     "output_type": "stream",
     "text": [
      "127.0.0.1 - - [23/Nov/2023 13:10:00] \"POST /live HTTP/1.1\" 200 -\n",
      "127.0.0.1 - - [23/Nov/2023 13:10:00] \"POST /live HTTP/1.1\" 200 -\n",
      "127.0.0.1 - - [23/Nov/2023 13:10:00] \"POST /live HTTP/1.1\" 200 -\n"
     ]
    },
    {
     "name": "stdout",
     "output_type": "stream",
     "text": [
      "YESSSSSS\n",
      "Loading Encode File ...\n",
      "Encode File Loaded\n",
      "YESSSSSS\n",
      "Loading Encode File ...\n",
      "Encode File Loaded\n",
      "YESSSSSS\n",
      "Loading Encode File ...\n",
      "Encode File Loaded\n",
      "YESSSSSS\n",
      "Loading Encode File ...\n",
      "Encode File Loaded\n"
     ]
    },
    {
     "name": "stderr",
     "output_type": "stream",
     "text": [
      "127.0.0.1 - - [23/Nov/2023 13:10:00] \"POST /live HTTP/1.1\" 200 -\n",
      "127.0.0.1 - - [23/Nov/2023 13:10:00] \"POST /live HTTP/1.1\" 200 -\n",
      "127.0.0.1 - - [23/Nov/2023 13:10:01] \"POST /live HTTP/1.1\" 200 -\n",
      "127.0.0.1 - - [23/Nov/2023 13:10:01] \"POST /live HTTP/1.1\" 200 -\n",
      "127.0.0.1 - - [23/Nov/2023 13:10:01] \"POST /live HTTP/1.1\" 200 -\n"
     ]
    },
    {
     "name": "stdout",
     "output_type": "stream",
     "text": [
      "YESSSSSS\n",
      "Loading Encode File ...\n",
      "Encode File Loaded\n",
      "YESSSSSS\n",
      "Loading Encode File ...\n",
      "Encode File Loaded\n",
      "YESSSSSS\n",
      "Loading Encode File ...\n",
      "Encode File Loaded\n",
      "YESSSSSS\n",
      "Loading Encode File ...\n",
      "Encode File Loaded\n"
     ]
    },
    {
     "name": "stderr",
     "output_type": "stream",
     "text": [
      "127.0.0.1 - - [23/Nov/2023 13:10:01] \"POST /live HTTP/1.1\" 200 -\n",
      "127.0.0.1 - - [23/Nov/2023 13:10:01] \"POST /live HTTP/1.1\" 200 -\n",
      "127.0.0.1 - - [23/Nov/2023 13:10:01] \"POST /live HTTP/1.1\" 200 -\n",
      "127.0.0.1 - - [23/Nov/2023 13:10:01] \"POST /live HTTP/1.1\" 200 -\n"
     ]
    },
    {
     "name": "stdout",
     "output_type": "stream",
     "text": [
      "YESSSSSS\n",
      "Loading Encode File ...\n",
      "Encode File Loaded\n",
      "YESSSSSS\n",
      "Loading Encode File ...\n",
      "Encode File Loaded\n",
      "YESSSSSS\n",
      "Loading Encode File ...\n",
      "Encode File Loaded\n",
      "YESSSSSS\n",
      "Loading Encode File ...\n",
      "Encode File Loaded\n"
     ]
    },
    {
     "name": "stderr",
     "output_type": "stream",
     "text": [
      "127.0.0.1 - - [23/Nov/2023 13:10:01] \"POST /live HTTP/1.1\" 200 -\n",
      "127.0.0.1 - - [23/Nov/2023 13:10:01] \"POST /live HTTP/1.1\" 200 -\n",
      "127.0.0.1 - - [23/Nov/2023 13:10:01] \"POST /live HTTP/1.1\" 200 -\n"
     ]
    },
    {
     "name": "stdout",
     "output_type": "stream",
     "text": [
      "YESSSSSS\n",
      "Loading Encode File ...\n",
      "Encode File Loaded\n",
      "YESSSSSS\n",
      "Loading Encode File ...\n",
      "Encode File Loaded\n",
      "YESSSSSS\n",
      "Loading Encode File ...\n",
      "Encode File Loaded\n",
      "YESSSSSS\n",
      "Loading Encode File ...\n",
      "Encode File Loaded\n"
     ]
    },
    {
     "name": "stderr",
     "output_type": "stream",
     "text": [
      "127.0.0.1 - - [23/Nov/2023 13:10:01] \"POST /live HTTP/1.1\" 200 -\n",
      "127.0.0.1 - - [23/Nov/2023 13:10:01] \"POST /live HTTP/1.1\" 200 -\n",
      "127.0.0.1 - - [23/Nov/2023 13:10:01] \"POST /live HTTP/1.1\" 200 -\n",
      "127.0.0.1 - - [23/Nov/2023 13:10:01] \"POST /live HTTP/1.1\" 200 -\n"
     ]
    },
    {
     "name": "stdout",
     "output_type": "stream",
     "text": [
      "YESSSSSS\n",
      "Loading Encode File ...\n",
      "Encode File Loaded\n",
      "YESSSSSS\n",
      "Loading Encode File ...\n",
      "Encode File Loaded\n",
      "YESSSSSS\n",
      "Loading Encode File ...\n",
      "Encode File Loaded\n",
      "YESSSSSS\n",
      "Loading Encode File ...\n",
      "Encode File Loaded\n"
     ]
    },
    {
     "name": "stderr",
     "output_type": "stream",
     "text": [
      "127.0.0.1 - - [23/Nov/2023 13:10:01] \"POST /live HTTP/1.1\" 200 -\n",
      "127.0.0.1 - - [23/Nov/2023 13:10:01] \"POST /live HTTP/1.1\" 200 -\n",
      "127.0.0.1 - - [23/Nov/2023 13:10:01] \"POST /live HTTP/1.1\" 200 -\n",
      "127.0.0.1 - - [23/Nov/2023 13:10:01] \"POST /live HTTP/1.1\" 200 -\n"
     ]
    },
    {
     "name": "stdout",
     "output_type": "stream",
     "text": [
      "YESSSSSS\n",
      "Loading Encode File ...\n",
      "Encode File Loaded\n",
      "YESSSSSS\n",
      "Loading Encode File ...\n",
      "Encode File Loaded\n",
      "YESSSSSS\n",
      "Loading Encode File ...\n",
      "Encode File Loaded\n",
      "YESSSSSS\n",
      "Loading Encode File ...\n",
      "Encode File Loaded\n"
     ]
    },
    {
     "name": "stderr",
     "output_type": "stream",
     "text": [
      "127.0.0.1 - - [23/Nov/2023 13:10:01] \"POST /live HTTP/1.1\" 200 -\n",
      "127.0.0.1 - - [23/Nov/2023 13:10:02] \"POST /live HTTP/1.1\" 200 -\n",
      "127.0.0.1 - - [23/Nov/2023 13:10:02] \"POST /live HTTP/1.1\" 200 -\n",
      "127.0.0.1 - - [23/Nov/2023 13:10:02] \"POST /live HTTP/1.1\" 200 -\n"
     ]
    },
    {
     "name": "stdout",
     "output_type": "stream",
     "text": [
      "YESSSSSS\n",
      "Loading Encode File ...\n",
      "Encode File Loaded\n",
      "YESSSSSS\n",
      "Loading Encode File ...\n",
      "Encode File Loaded\n",
      "YESSSSSS\n",
      "Loading Encode File ...\n",
      "Encode File Loaded\n",
      "YESSSSSS\n",
      "Loading Encode File ...\n",
      "Encode File Loaded\n"
     ]
    },
    {
     "name": "stderr",
     "output_type": "stream",
     "text": [
      "127.0.0.1 - - [23/Nov/2023 13:10:02] \"POST /live HTTP/1.1\" 200 -\n",
      "127.0.0.1 - - [23/Nov/2023 13:10:02] \"POST /live HTTP/1.1\" 200 -\n",
      "127.0.0.1 - - [23/Nov/2023 13:10:02] \"POST /live HTTP/1.1\" 200 -\n",
      "127.0.0.1 - - [23/Nov/2023 13:10:02] \"POST /live HTTP/1.1\" 200 -\n"
     ]
    },
    {
     "name": "stdout",
     "output_type": "stream",
     "text": [
      "YESSSSSS\n",
      "Loading Encode File ...\n",
      "Encode File Loaded\n",
      "YESSSSSS\n",
      "Loading Encode File ...\n",
      "Encode File Loaded\n",
      "YESSSSSS\n",
      "Loading Encode File ...\n",
      "Encode File Loaded\n",
      "YESSSSSS\n",
      "Loading Encode File ...\n",
      "Encode File Loaded\n"
     ]
    },
    {
     "name": "stderr",
     "output_type": "stream",
     "text": [
      "127.0.0.1 - - [23/Nov/2023 13:10:02] \"POST /live HTTP/1.1\" 200 -\n",
      "127.0.0.1 - - [23/Nov/2023 13:10:02] \"POST /live HTTP/1.1\" 200 -\n",
      "127.0.0.1 - - [23/Nov/2023 13:10:02] \"POST /live HTTP/1.1\" 200 -\n",
      "127.0.0.1 - - [23/Nov/2023 13:10:02] \"POST /live HTTP/1.1\" 200 -\n"
     ]
    },
    {
     "name": "stdout",
     "output_type": "stream",
     "text": [
      "YESSSSSS\n",
      "Loading Encode File ...\n",
      "Encode File Loaded\n",
      "YESSSSSS\n",
      "Loading Encode File ...\n",
      "Encode File Loaded\n",
      "YESSSSSS\n",
      "Loading Encode File ...\n",
      "Encode File Loaded\n",
      "YESSSSSS\n",
      "Loading Encode File ...\n",
      "Encode File Loaded\n"
     ]
    },
    {
     "name": "stderr",
     "output_type": "stream",
     "text": [
      "127.0.0.1 - - [23/Nov/2023 13:10:02] \"POST /live HTTP/1.1\" 200 -\n",
      "127.0.0.1 - - [23/Nov/2023 13:10:02] \"POST /live HTTP/1.1\" 200 -\n",
      "127.0.0.1 - - [23/Nov/2023 13:10:02] \"POST /live HTTP/1.1\" 200 -\n",
      "127.0.0.1 - - [23/Nov/2023 13:10:02] \"POST /live HTTP/1.1\" 200 -\n",
      "127.0.0.1 - - [23/Nov/2023 13:10:02] \"POST /live HTTP/1.1\" 200 -\n"
     ]
    },
    {
     "name": "stdout",
     "output_type": "stream",
     "text": [
      "YESSSSSS\n",
      "Loading Encode File ...\n",
      "Encode File Loaded\n",
      "YESSSSSS\n",
      "Loading Encode File ...\n",
      "Encode File Loaded\n",
      "YESSSSSS\n",
      "Loading Encode File ...\n",
      "Encode File Loaded\n",
      "YESSSSSS\n",
      "Loading Encode File ...\n",
      "Encode File Loaded\n"
     ]
    },
    {
     "name": "stderr",
     "output_type": "stream",
     "text": [
      "127.0.0.1 - - [23/Nov/2023 13:10:02] \"POST /live HTTP/1.1\" 200 -\n",
      "127.0.0.1 - - [23/Nov/2023 13:10:02] \"POST /live HTTP/1.1\" 200 -\n",
      "127.0.0.1 - - [23/Nov/2023 13:10:02] \"POST /live HTTP/1.1\" 200 -\n"
     ]
    },
    {
     "name": "stdout",
     "output_type": "stream",
     "text": [
      "YESSSSSS\n",
      "Loading Encode File ...\n",
      "Encode File Loaded\n",
      "YESSSSSS\n",
      "Loading Encode File ...\n",
      "Encode File Loaded\n",
      "YESSSSSS\n",
      "Loading Encode File ...\n",
      "Encode File Loaded\n",
      "YESSSSSS\n",
      "Loading Encode File ...\n",
      "Encode File Loaded\n"
     ]
    },
    {
     "name": "stderr",
     "output_type": "stream",
     "text": [
      "127.0.0.1 - - [23/Nov/2023 13:10:03] \"POST /live HTTP/1.1\" 200 -\n",
      "127.0.0.1 - - [23/Nov/2023 13:10:03] \"POST /live HTTP/1.1\" 200 -\n",
      "127.0.0.1 - - [23/Nov/2023 13:10:03] \"POST /live HTTP/1.1\" 200 -\n",
      "127.0.0.1 - - [23/Nov/2023 13:10:03] \"POST /live HTTP/1.1\" 200 -\n"
     ]
    },
    {
     "name": "stdout",
     "output_type": "stream",
     "text": [
      "YESSSSSS\n",
      "Loading Encode File ...\n",
      "Encode File Loaded\n",
      "YESSSSSS\n",
      "Loading Encode File ...\n",
      "Encode File Loaded\n",
      "YESSSSSS\n",
      "Loading Encode File ...\n",
      "Encode File Loaded\n",
      "YESSSSSS\n",
      "Loading Encode File ...\n",
      "Encode File Loaded\n"
     ]
    },
    {
     "name": "stderr",
     "output_type": "stream",
     "text": [
      "127.0.0.1 - - [23/Nov/2023 13:10:03] \"POST /live HTTP/1.1\" 200 -\n",
      "127.0.0.1 - - [23/Nov/2023 13:10:03] \"POST /live HTTP/1.1\" 200 -\n",
      "127.0.0.1 - - [23/Nov/2023 13:10:03] \"POST /live HTTP/1.1\" 200 -\n",
      "127.0.0.1 - - [23/Nov/2023 13:10:03] \"POST /live HTTP/1.1\" 200 -\n"
     ]
    },
    {
     "name": "stdout",
     "output_type": "stream",
     "text": [
      "YESSSSSS\n",
      "Loading Encode File ...\n",
      "Encode File Loaded\n",
      "YESSSSSS\n",
      "Loading Encode File ...\n",
      "Encode File Loaded\n",
      "YESSSSSS\n",
      "Loading Encode File ...\n",
      "Encode File Loaded\n",
      "YESSSSSS\n",
      "Loading Encode File ...\n",
      "Encode File Loaded\n"
     ]
    },
    {
     "name": "stderr",
     "output_type": "stream",
     "text": [
      "127.0.0.1 - - [23/Nov/2023 13:10:03] \"POST /live HTTP/1.1\" 200 -\n",
      "127.0.0.1 - - [23/Nov/2023 13:10:03] \"POST /live HTTP/1.1\" 200 -\n",
      "127.0.0.1 - - [23/Nov/2023 13:10:03] \"POST /live HTTP/1.1\" 200 -\n",
      "127.0.0.1 - - [23/Nov/2023 13:10:03] \"POST /live HTTP/1.1\" 200 -\n"
     ]
    },
    {
     "name": "stdout",
     "output_type": "stream",
     "text": [
      "YESSSSSS\n",
      "Loading Encode File ...\n",
      "Encode File Loaded\n",
      "YESSSSSS\n",
      "Loading Encode File ...\n",
      "Encode File Loaded\n",
      "YESSSSSS\n",
      "Loading Encode File ...\n",
      "Encode File Loaded\n",
      "YESSSSSS\n",
      "Loading Encode File ...\n",
      "Encode File Loaded\n"
     ]
    },
    {
     "name": "stderr",
     "output_type": "stream",
     "text": [
      "127.0.0.1 - - [23/Nov/2023 13:10:03] \"POST /live HTTP/1.1\" 200 -\n",
      "127.0.0.1 - - [23/Nov/2023 13:10:03] \"POST /live HTTP/1.1\" 200 -\n",
      "127.0.0.1 - - [23/Nov/2023 13:10:03] \"POST /live HTTP/1.1\" 200 -\n",
      "127.0.0.1 - - [23/Nov/2023 13:10:03] \"POST /live HTTP/1.1\" 200 -\n",
      "127.0.0.1 - - [23/Nov/2023 13:10:03] \"POST /live HTTP/1.1\" 200 -\n"
     ]
    },
    {
     "name": "stdout",
     "output_type": "stream",
     "text": [
      "YESSSSSS\n",
      "Loading Encode File ...\n",
      "Encode File Loaded\n",
      "YESSSSSS\n",
      "Loading Encode File ...\n",
      "Encode File Loaded\n",
      "YESSSSSS\n",
      "Loading Encode File ...\n",
      "Encode File Loaded\n",
      "YESSSSSS\n",
      "Loading Encode File ...\n",
      "Encode File Loaded\n"
     ]
    },
    {
     "name": "stderr",
     "output_type": "stream",
     "text": [
      "127.0.0.1 - - [23/Nov/2023 13:10:03] \"POST /live HTTP/1.1\" 200 -\n",
      "127.0.0.1 - - [23/Nov/2023 13:10:04] \"POST /live HTTP/1.1\" 200 -\n",
      "127.0.0.1 - - [23/Nov/2023 13:10:04] \"POST /live HTTP/1.1\" 200 -\n"
     ]
    },
    {
     "name": "stdout",
     "output_type": "stream",
     "text": [
      "YESSSSSS\n",
      "Loading Encode File ...\n",
      "Encode File Loaded\n",
      "YESSSSSS\n",
      "Loading Encode File ...\n",
      "Encode File Loaded\n",
      "YESSSSSS\n",
      "Loading Encode File ...\n",
      "Encode File Loaded\n",
      "YESSSSSS\n",
      "Loading Encode File ...\n",
      "Encode File Loaded\n"
     ]
    },
    {
     "name": "stderr",
     "output_type": "stream",
     "text": [
      "127.0.0.1 - - [23/Nov/2023 13:10:04] \"POST /live HTTP/1.1\" 200 -\n",
      "127.0.0.1 - - [23/Nov/2023 13:10:04] \"POST /live HTTP/1.1\" 200 -\n",
      "127.0.0.1 - - [23/Nov/2023 13:10:04] \"POST /live HTTP/1.1\" 200 -\n",
      "127.0.0.1 - - [23/Nov/2023 13:10:04] \"POST /live HTTP/1.1\" 200 -\n"
     ]
    },
    {
     "name": "stdout",
     "output_type": "stream",
     "text": [
      "YESSSSSS\n",
      "Loading Encode File ...\n",
      "Encode File Loaded\n",
      "YESSSSSS\n",
      "Loading Encode File ...\n",
      "Encode File Loaded\n",
      "YESSSSSS\n",
      "Loading Encode File ...\n",
      "Encode File Loaded\n",
      "YESSSSSS\n",
      "Loading Encode File ...\n",
      "Encode File Loaded\n"
     ]
    },
    {
     "name": "stderr",
     "output_type": "stream",
     "text": [
      "127.0.0.1 - - [23/Nov/2023 13:10:04] \"POST /live HTTP/1.1\" 200 -\n",
      "127.0.0.1 - - [23/Nov/2023 13:10:04] \"POST /live HTTP/1.1\" 200 -\n",
      "127.0.0.1 - - [23/Nov/2023 13:10:04] \"POST /live HTTP/1.1\" 200 -\n",
      "127.0.0.1 - - [23/Nov/2023 13:10:04] \"POST /live HTTP/1.1\" 200 -\n",
      "127.0.0.1 - - [23/Nov/2023 13:10:04] \"POST /live HTTP/1.1\" 200 -\n"
     ]
    },
    {
     "name": "stdout",
     "output_type": "stream",
     "text": [
      "YESSSSSS\n",
      "Loading Encode File ...\n",
      "Encode File Loaded\n",
      "YESSSSSS\n",
      "Loading Encode File ...\n",
      "Encode File Loaded\n",
      "YESSSSSS\n",
      "Loading Encode File ...\n",
      "Encode File Loaded\n",
      "YESSSSSS\n",
      "Loading Encode File ...\n",
      "Encode File Loaded\n",
      "YESSSSSS\n",
      "Loading Encode File ...\n",
      "Encode File Loaded\n"
     ]
    },
    {
     "name": "stderr",
     "output_type": "stream",
     "text": [
      "127.0.0.1 - - [23/Nov/2023 13:10:04] \"POST /live HTTP/1.1\" 200 -\n",
      "127.0.0.1 - - [23/Nov/2023 13:10:04] \"POST /live HTTP/1.1\" 200 -\n",
      "127.0.0.1 - - [23/Nov/2023 13:10:04] \"POST /live HTTP/1.1\" 200 -\n",
      "127.0.0.1 - - [23/Nov/2023 13:10:04] \"POST /live HTTP/1.1\" 200 -\n"
     ]
    },
    {
     "name": "stdout",
     "output_type": "stream",
     "text": [
      "YESSSSSS\n",
      "Loading Encode File ...\n",
      "Encode File Loaded\n",
      "YESSSSSS\n",
      "Loading Encode File ...\n",
      "Encode File Loaded\n",
      "YESSSSSS\n",
      "Loading Encode File ...\n",
      "Encode File Loaded\n",
      "YESSSSSS\n",
      "Loading Encode File ...\n",
      "Encode File Loaded\n"
     ]
    },
    {
     "name": "stderr",
     "output_type": "stream",
     "text": [
      "127.0.0.1 - - [23/Nov/2023 13:10:04] \"POST /live HTTP/1.1\" 200 -\n",
      "127.0.0.1 - - [23/Nov/2023 13:10:04] \"POST /live HTTP/1.1\" 200 -\n",
      "127.0.0.1 - - [23/Nov/2023 13:10:04] \"POST /live HTTP/1.1\" 200 -\n",
      "127.0.0.1 - - [23/Nov/2023 13:10:04] \"POST /live HTTP/1.1\" 200 -\n",
      "127.0.0.1 - - [23/Nov/2023 13:10:05] \"POST /live HTTP/1.1\" 200 -\n"
     ]
    },
    {
     "name": "stdout",
     "output_type": "stream",
     "text": [
      "YESSSSSS\n",
      "Loading Encode File ...\n",
      "Encode File Loaded\n",
      "YESSSSSS\n",
      "Loading Encode File ...\n",
      "Encode File Loaded\n",
      "YESSSSSS\n",
      "Loading Encode File ...\n",
      "Encode File Loaded\n",
      "YESSSSSS\n",
      "Loading Encode File ...\n",
      "Encode File Loaded\n"
     ]
    },
    {
     "name": "stderr",
     "output_type": "stream",
     "text": [
      "127.0.0.1 - - [23/Nov/2023 13:10:05] \"POST /live HTTP/1.1\" 200 -\n",
      "127.0.0.1 - - [23/Nov/2023 13:10:05] \"POST /live HTTP/1.1\" 200 -\n",
      "127.0.0.1 - - [23/Nov/2023 13:10:05] \"POST /live HTTP/1.1\" 200 -\n",
      "127.0.0.1 - - [23/Nov/2023 13:10:05] \"POST /live HTTP/1.1\" 200 -\n"
     ]
    },
    {
     "name": "stdout",
     "output_type": "stream",
     "text": [
      "YESSSSSS\n",
      "Loading Encode File ...\n",
      "Encode File Loaded\n",
      "YESSSSSS\n",
      "Loading Encode File ...\n",
      "Encode File Loaded\n",
      "YESSSSSS\n",
      "Loading Encode File ...\n",
      "Encode File Loaded\n",
      "YESSSSSS\n",
      "Loading Encode File ...\n",
      "Encode File Loaded\n",
      "YESSSSSS\n",
      "Loading Encode File ...\n",
      "Encode File Loaded\n"
     ]
    },
    {
     "name": "stderr",
     "output_type": "stream",
     "text": [
      "127.0.0.1 - - [23/Nov/2023 13:10:05] \"POST /live HTTP/1.1\" 200 -\n",
      "127.0.0.1 - - [23/Nov/2023 13:10:05] \"POST /live HTTP/1.1\" 200 -\n",
      "127.0.0.1 - - [23/Nov/2023 13:10:05] \"POST /live HTTP/1.1\" 200 -\n",
      "127.0.0.1 - - [23/Nov/2023 13:10:05] \"POST /live HTTP/1.1\" 200 -\n",
      "127.0.0.1 - - [23/Nov/2023 13:10:05] \"POST /live HTTP/1.1\" 200 -\n"
     ]
    },
    {
     "name": "stdout",
     "output_type": "stream",
     "text": [
      "YESSSSSS\n",
      "Loading Encode File ...\n",
      "Encode File Loaded\n",
      "YESSSSSS\n",
      "Loading Encode File ...\n",
      "Encode File Loaded\n",
      "YESSSSSS\n",
      "Loading Encode File ...\n",
      "Encode File Loaded\n",
      "YESSSSSS\n",
      "Loading Encode File ...\n",
      "Encode File Loaded\n"
     ]
    },
    {
     "name": "stderr",
     "output_type": "stream",
     "text": [
      "127.0.0.1 - - [23/Nov/2023 13:10:05] \"POST /live HTTP/1.1\" 200 -\n",
      "127.0.0.1 - - [23/Nov/2023 13:10:05] \"POST /live HTTP/1.1\" 200 -\n",
      "127.0.0.1 - - [23/Nov/2023 13:10:05] \"POST /live HTTP/1.1\" 200 -\n",
      "127.0.0.1 - - [23/Nov/2023 13:10:05] \"POST /live HTTP/1.1\" 200 -\n"
     ]
    },
    {
     "name": "stdout",
     "output_type": "stream",
     "text": [
      "YESSSSSS\n",
      "Loading Encode File ...\n",
      "Encode File Loaded\n",
      "YESSSSSS\n",
      "Loading Encode File ...\n",
      "Encode File Loaded\n",
      "YESSSSSS\n",
      "Loading Encode File ...\n",
      "Encode File Loaded\n",
      "YESSSSSS\n",
      "Loading Encode File ...\n",
      "Encode File Loaded\n"
     ]
    },
    {
     "name": "stderr",
     "output_type": "stream",
     "text": [
      "127.0.0.1 - - [23/Nov/2023 13:10:05] \"POST /live HTTP/1.1\" 200 -\n",
      "127.0.0.1 - - [23/Nov/2023 13:10:05] \"POST /live HTTP/1.1\" 200 -\n",
      "127.0.0.1 - - [23/Nov/2023 13:10:05] \"POST /live HTTP/1.1\" 200 -\n"
     ]
    },
    {
     "name": "stdout",
     "output_type": "stream",
     "text": [
      "YESSSSSS\n",
      "Loading Encode File ...\n",
      "Encode File Loaded\n",
      "YESSSSSS\n",
      "Loading Encode File ...\n",
      "Encode File Loaded\n",
      "YESSSSSS\n",
      "Loading Encode File ...\n",
      "Encode File Loaded\n",
      "YESSSSSS\n",
      "Loading Encode File ...\n",
      "Encode File Loaded\n"
     ]
    },
    {
     "name": "stderr",
     "output_type": "stream",
     "text": [
      "127.0.0.1 - - [23/Nov/2023 13:10:05] \"POST /live HTTP/1.1\" 200 -\n",
      "127.0.0.1 - - [23/Nov/2023 13:10:05] \"POST /live HTTP/1.1\" 200 -\n",
      "127.0.0.1 - - [23/Nov/2023 13:10:05] \"POST /live HTTP/1.1\" 200 -\n",
      "127.0.0.1 - - [23/Nov/2023 13:10:06] \"POST /live HTTP/1.1\" 200 -\n"
     ]
    },
    {
     "name": "stdout",
     "output_type": "stream",
     "text": [
      "YESSSSSS\n",
      "Loading Encode File ...\n",
      "Encode File Loaded\n",
      "YESSSSSS\n",
      "Loading Encode File ...\n",
      "Encode File Loaded\n",
      "YESSSSSS\n",
      "Loading Encode File ...\n",
      "Encode File Loaded\n",
      "YESSSSSS\n",
      "Loading Encode File ...\n",
      "Encode File Loaded\n"
     ]
    },
    {
     "name": "stderr",
     "output_type": "stream",
     "text": [
      "127.0.0.1 - - [23/Nov/2023 13:10:06] \"POST /live HTTP/1.1\" 200 -\n",
      "127.0.0.1 - - [23/Nov/2023 13:10:06] \"POST /live HTTP/1.1\" 200 -\n",
      "127.0.0.1 - - [23/Nov/2023 13:10:06] \"POST /live HTTP/1.1\" 200 -\n",
      "127.0.0.1 - - [23/Nov/2023 13:10:06] \"POST /live HTTP/1.1\" 200 -\n",
      "127.0.0.1 - - [23/Nov/2023 13:10:06] \"POST /live HTTP/1.1\" 200 -\n"
     ]
    },
    {
     "name": "stdout",
     "output_type": "stream",
     "text": [
      "YESSSSSS\n",
      "Loading Encode File ...\n",
      "Encode File Loaded\n",
      "YESSSSSS\n",
      "Loading Encode File ...\n",
      "Encode File Loaded\n",
      "YESSSSSS\n",
      "Loading Encode File ...\n",
      "Encode File Loaded\n",
      "YESSSSSS\n",
      "Loading Encode File ...\n",
      "Encode File Loaded\n",
      "YESSSSSS\n",
      "Loading Encode File ...\n",
      "Encode File Loaded\n"
     ]
    },
    {
     "name": "stderr",
     "output_type": "stream",
     "text": [
      "127.0.0.1 - - [23/Nov/2023 13:10:06] \"POST /live HTTP/1.1\" 200 -\n",
      "127.0.0.1 - - [23/Nov/2023 13:10:06] \"POST /live HTTP/1.1\" 200 -\n",
      "127.0.0.1 - - [23/Nov/2023 13:10:06] \"POST /live HTTP/1.1\" 200 -\n",
      "127.0.0.1 - - [23/Nov/2023 13:10:06] \"POST /live HTTP/1.1\" 200 -\n"
     ]
    },
    {
     "name": "stdout",
     "output_type": "stream",
     "text": [
      "YESSSSSS\n",
      "Loading Encode File ...\n",
      "Encode File Loaded\n",
      "YESSSSSS\n",
      "Loading Encode File ...\n",
      "Encode File Loaded\n",
      "YESSSSSS\n",
      "Loading Encode File ...\n",
      "Encode File Loaded\n",
      "YESSSSSS\n",
      "Loading Encode File ...\n",
      "Encode File Loaded\n"
     ]
    },
    {
     "name": "stderr",
     "output_type": "stream",
     "text": [
      "127.0.0.1 - - [23/Nov/2023 13:10:06] \"POST /live HTTP/1.1\" 200 -\n",
      "127.0.0.1 - - [23/Nov/2023 13:10:06] \"POST /live HTTP/1.1\" 200 -\n",
      "127.0.0.1 - - [23/Nov/2023 13:10:06] \"POST /live HTTP/1.1\" 200 -\n",
      "127.0.0.1 - - [23/Nov/2023 13:10:06] \"POST /live HTTP/1.1\" 200 -\n"
     ]
    },
    {
     "name": "stdout",
     "output_type": "stream",
     "text": [
      "YESSSSSS\n",
      "Loading Encode File ...\n",
      "Encode File Loaded\n",
      "YESSSSSS\n",
      "Loading Encode File ...\n",
      "Encode File Loaded\n",
      "YESSSSSS\n",
      "Loading Encode File ...\n",
      "Encode File Loaded\n",
      "YESSSSSS\n",
      "Loading Encode File ...\n",
      "Encode File Loaded\n"
     ]
    },
    {
     "name": "stderr",
     "output_type": "stream",
     "text": [
      "127.0.0.1 - - [23/Nov/2023 13:10:06] \"POST /live HTTP/1.1\" 200 -\n",
      "127.0.0.1 - - [23/Nov/2023 13:10:06] \"POST /live HTTP/1.1\" 200 -\n",
      "127.0.0.1 - - [23/Nov/2023 13:10:06] \"POST /live HTTP/1.1\" 200 -\n",
      "127.0.0.1 - - [23/Nov/2023 13:10:06] \"POST /live HTTP/1.1\" 200 -\n"
     ]
    },
    {
     "name": "stdout",
     "output_type": "stream",
     "text": [
      "YESSSSSS\n",
      "Loading Encode File ...\n",
      "Encode File Loaded\n",
      "YESSSSSS\n",
      "Loading Encode File ...\n",
      "Encode File Loaded\n",
      "YESSSSSS\n",
      "Loading Encode File ...\n",
      "Encode File Loaded\n",
      "YESSSSSS\n",
      "Loading Encode File ...\n",
      "Encode File Loaded\n"
     ]
    },
    {
     "name": "stderr",
     "output_type": "stream",
     "text": [
      "127.0.0.1 - - [23/Nov/2023 13:10:06] \"POST /live HTTP/1.1\" 200 -\n",
      "127.0.0.1 - - [23/Nov/2023 13:10:07] \"POST /live HTTP/1.1\" 200 -\n",
      "127.0.0.1 - - [23/Nov/2023 13:10:07] \"POST /live HTTP/1.1\" 200 -\n",
      "127.0.0.1 - - [23/Nov/2023 13:10:07] \"POST /live HTTP/1.1\" 200 -\n",
      "127.0.0.1 - - [23/Nov/2023 13:10:07] \"POST /live HTTP/1.1\" 200 -\n"
     ]
    },
    {
     "name": "stdout",
     "output_type": "stream",
     "text": [
      "YESSSSSS\n",
      "Loading Encode File ...\n",
      "Encode File Loaded\n",
      "YESSSSSS\n",
      "Loading Encode File ...\n",
      "Encode File Loaded\n",
      "YESSSSSS\n",
      "Loading Encode File ...\n",
      "Encode File Loaded\n",
      "YESSSSSS\n",
      "Loading Encode File ...\n",
      "Encode File Loaded\n"
     ]
    },
    {
     "name": "stderr",
     "output_type": "stream",
     "text": [
      "127.0.0.1 - - [23/Nov/2023 13:10:07] \"POST /live HTTP/1.1\" 200 -\n",
      "127.0.0.1 - - [23/Nov/2023 13:10:07] \"POST /live HTTP/1.1\" 200 -\n",
      "127.0.0.1 - - [23/Nov/2023 13:10:07] \"POST /live HTTP/1.1\" 200 -\n"
     ]
    },
    {
     "name": "stdout",
     "output_type": "stream",
     "text": [
      "YESSSSSS\n",
      "Loading Encode File ...\n",
      "Encode File Loaded\n",
      "YESSSSSS\n",
      "Loading Encode File ...\n",
      "Encode File Loaded\n",
      "YESSSSSS\n",
      "Loading Encode File ...\n",
      "Encode File Loaded\n",
      "YESSSSSS\n",
      "Loading Encode File ...\n",
      "Encode File Loaded\n"
     ]
    },
    {
     "name": "stderr",
     "output_type": "stream",
     "text": [
      "127.0.0.1 - - [23/Nov/2023 13:10:07] \"POST /live HTTP/1.1\" 200 -\n",
      "127.0.0.1 - - [23/Nov/2023 13:10:07] \"POST /live HTTP/1.1\" 200 -\n",
      "127.0.0.1 - - [23/Nov/2023 13:10:07] \"POST /live HTTP/1.1\" 200 -\n",
      "127.0.0.1 - - [23/Nov/2023 13:10:07] \"POST /live HTTP/1.1\" 200 -\n",
      "127.0.0.1 - - [23/Nov/2023 13:10:07] \"POST /live HTTP/1.1\" 200 -\n"
     ]
    },
    {
     "name": "stdout",
     "output_type": "stream",
     "text": [
      "YESSSSSS\n",
      "Loading Encode File ...\n",
      "Encode File Loaded\n",
      "YESSSSSS\n",
      "Loading Encode File ...\n",
      "Encode File Loaded\n",
      "YESSSSSS\n",
      "Loading Encode File ...\n",
      "Encode File Loaded\n",
      "YESSSSSS\n",
      "Loading Encode File ...\n",
      "Encode File Loaded\n"
     ]
    },
    {
     "name": "stderr",
     "output_type": "stream",
     "text": [
      "127.0.0.1 - - [23/Nov/2023 13:10:07] \"POST /live HTTP/1.1\" 200 -\n",
      "127.0.0.1 - - [23/Nov/2023 13:10:07] \"POST /live HTTP/1.1\" 200 -\n",
      "127.0.0.1 - - [23/Nov/2023 13:10:07] \"POST /live HTTP/1.1\" 200 -\n",
      "127.0.0.1 - - [23/Nov/2023 13:10:07] \"POST /live HTTP/1.1\" 200 -\n"
     ]
    },
    {
     "name": "stdout",
     "output_type": "stream",
     "text": [
      "YESSSSSS\n",
      "Loading Encode File ...\n",
      "Encode File Loaded\n",
      "YESSSSSS\n",
      "Loading Encode File ...\n",
      "Encode File Loaded\n",
      "YESSSSSS\n",
      "Loading Encode File ...\n",
      "Encode File Loaded\n",
      "YESSSSSS\n",
      "Loading Encode File ...\n",
      "Encode File Loaded\n",
      "YESSSSSS\n",
      "Loading Encode File ...\n",
      "Encode File Loaded\n"
     ]
    },
    {
     "name": "stderr",
     "output_type": "stream",
     "text": [
      "127.0.0.1 - - [23/Nov/2023 13:10:07] \"POST /live HTTP/1.1\" 200 -\n",
      "127.0.0.1 - - [23/Nov/2023 13:10:07] \"POST /live HTTP/1.1\" 200 -\n",
      "127.0.0.1 - - [23/Nov/2023 13:10:07] \"POST /live HTTP/1.1\" 200 -\n",
      "127.0.0.1 - - [23/Nov/2023 13:10:08] \"POST /live HTTP/1.1\" 200 -\n"
     ]
    },
    {
     "name": "stdout",
     "output_type": "stream",
     "text": [
      "YESSSSSS\n",
      "Loading Encode File ...\n",
      "Encode File Loaded\n",
      "YESSSSSS\n",
      "Loading Encode File ...\n",
      "Encode File Loaded\n",
      "YESSSSSS\n",
      "Loading Encode File ...\n",
      "Encode File Loaded\n",
      "YESSSSSS\n",
      "Loading Encode File ...\n",
      "Encode File Loaded\n"
     ]
    },
    {
     "name": "stderr",
     "output_type": "stream",
     "text": [
      "127.0.0.1 - - [23/Nov/2023 13:10:08] \"POST /live HTTP/1.1\" 200 -\n",
      "127.0.0.1 - - [23/Nov/2023 13:10:08] \"POST /live HTTP/1.1\" 200 -\n",
      "127.0.0.1 - - [23/Nov/2023 13:10:08] \"POST /live HTTP/1.1\" 200 -\n",
      "127.0.0.1 - - [23/Nov/2023 13:10:08] \"POST /live HTTP/1.1\" 200 -\n"
     ]
    },
    {
     "name": "stdout",
     "output_type": "stream",
     "text": [
      "YESSSSSS\n",
      "Loading Encode File ...\n",
      "Encode File Loaded\n",
      "YESSSSSS\n",
      "Loading Encode File ...\n",
      "Encode File Loaded\n",
      "YESSSSSS\n",
      "Loading Encode File ...\n",
      "Encode File Loaded\n",
      "YESSSSSS\n",
      "Loading Encode File ...\n",
      "Encode File Loaded\n"
     ]
    },
    {
     "name": "stderr",
     "output_type": "stream",
     "text": [
      "127.0.0.1 - - [23/Nov/2023 13:10:08] \"POST /live HTTP/1.1\" 200 -\n",
      "127.0.0.1 - - [23/Nov/2023 13:10:08] \"POST /live HTTP/1.1\" 200 -\n",
      "127.0.0.1 - - [23/Nov/2023 13:10:08] \"POST /live HTTP/1.1\" 200 -\n",
      "127.0.0.1 - - [23/Nov/2023 13:10:08] \"POST /live HTTP/1.1\" 200 -\n"
     ]
    },
    {
     "name": "stdout",
     "output_type": "stream",
     "text": [
      "YESSSSSS\n",
      "Loading Encode File ...\n",
      "Encode File Loaded\n",
      "YESSSSSS\n",
      "Loading Encode File ...\n",
      "Encode File Loaded\n",
      "YESSSSSS\n",
      "Loading Encode File ...\n",
      "Encode File Loaded\n",
      "YESSSSSS\n",
      "Loading Encode File ...\n",
      "Encode File Loaded\n"
     ]
    },
    {
     "name": "stderr",
     "output_type": "stream",
     "text": [
      "127.0.0.1 - - [23/Nov/2023 13:10:08] \"POST /live HTTP/1.1\" 200 -\n",
      "127.0.0.1 - - [23/Nov/2023 13:10:08] \"POST /live HTTP/1.1\" 200 -\n",
      "127.0.0.1 - - [23/Nov/2023 13:10:08] \"POST /live HTTP/1.1\" 200 -\n",
      "127.0.0.1 - - [23/Nov/2023 13:10:08] \"POST /live HTTP/1.1\" 200 -\n"
     ]
    },
    {
     "name": "stdout",
     "output_type": "stream",
     "text": [
      "YESSSSSS\n",
      "Loading Encode File ...\n",
      "Encode File Loaded\n",
      "YESSSSSS\n",
      "Loading Encode File ...\n",
      "Encode File Loaded\n",
      "YESSSSSS\n",
      "Loading Encode File ...\n",
      "Encode File Loaded\n",
      "YESSSSSS\n",
      "Loading Encode File ...\n",
      "Encode File Loaded\n"
     ]
    },
    {
     "name": "stderr",
     "output_type": "stream",
     "text": [
      "127.0.0.1 - - [23/Nov/2023 13:10:08] \"POST /live HTTP/1.1\" 200 -\n",
      "127.0.0.1 - - [23/Nov/2023 13:10:08] \"POST /live HTTP/1.1\" 200 -\n",
      "127.0.0.1 - - [23/Nov/2023 13:10:08] \"POST /live HTTP/1.1\" 200 -\n",
      "127.0.0.1 - - [23/Nov/2023 13:10:08] \"POST /live HTTP/1.1\" 200 -\n"
     ]
    },
    {
     "name": "stdout",
     "output_type": "stream",
     "text": [
      "YESSSSSS\n",
      "Loading Encode File ...\n",
      "Encode File Loaded\n",
      "YESSSSSS\n",
      "Loading Encode File ...\n",
      "Encode File Loaded\n",
      "YESSSSSS\n",
      "Loading Encode File ...\n",
      "Encode File Loaded\n",
      "YESSSSSS\n",
      "Loading Encode File ...\n",
      "Encode File Loaded\n"
     ]
    },
    {
     "name": "stderr",
     "output_type": "stream",
     "text": [
      "127.0.0.1 - - [23/Nov/2023 13:10:08] \"POST /live HTTP/1.1\" 200 -\n",
      "127.0.0.1 - - [23/Nov/2023 13:10:09] \"POST /live HTTP/1.1\" 200 -\n",
      "127.0.0.1 - - [23/Nov/2023 13:10:09] \"POST /live HTTP/1.1\" 200 -\n",
      "127.0.0.1 - - [23/Nov/2023 13:10:09] \"POST /live HTTP/1.1\" 200 -\n",
      "127.0.0.1 - - [23/Nov/2023 13:10:09] \"POST /live HTTP/1.1\" 200 -\n"
     ]
    },
    {
     "name": "stdout",
     "output_type": "stream",
     "text": [
      "YESSSSSS\n",
      "Loading Encode File ...\n",
      "Encode File Loaded\n",
      "YESSSSSS\n",
      "Loading Encode File ...\n",
      "Encode File Loaded\n",
      "YESSSSSS\n",
      "Loading Encode File ...\n",
      "Encode File Loaded\n",
      "YESSSSSS\n",
      "Loading Encode File ...\n",
      "Encode File Loaded\n"
     ]
    },
    {
     "name": "stderr",
     "output_type": "stream",
     "text": [
      "127.0.0.1 - - [23/Nov/2023 13:10:09] \"POST /live HTTP/1.1\" 200 -\n",
      "127.0.0.1 - - [23/Nov/2023 13:10:09] \"POST /live HTTP/1.1\" 200 -\n",
      "127.0.0.1 - - [23/Nov/2023 13:10:09] \"POST /live HTTP/1.1\" 200 -\n",
      "127.0.0.1 - - [23/Nov/2023 13:10:09] \"POST /live HTTP/1.1\" 200 -\n"
     ]
    },
    {
     "name": "stdout",
     "output_type": "stream",
     "text": [
      "YESSSSSS\n",
      "Loading Encode File ...\n",
      "Encode File Loaded\n",
      "YESSSSSS\n",
      "Loading Encode File ...\n",
      "Encode File Loaded\n",
      "YESSSSSS\n",
      "Loading Encode File ...\n",
      "Encode File Loaded\n",
      "YESSSSSS\n",
      "Loading Encode File ...\n",
      "Encode File Loaded\n"
     ]
    },
    {
     "name": "stderr",
     "output_type": "stream",
     "text": [
      "127.0.0.1 - - [23/Nov/2023 13:10:09] \"POST /live HTTP/1.1\" 200 -\n",
      "127.0.0.1 - - [23/Nov/2023 13:10:09] \"POST /live HTTP/1.1\" 200 -\n",
      "127.0.0.1 - - [23/Nov/2023 13:10:09] \"POST /live HTTP/1.1\" 200 -\n",
      "127.0.0.1 - - [23/Nov/2023 13:10:09] \"POST /live HTTP/1.1\" 200 -\n"
     ]
    },
    {
     "name": "stdout",
     "output_type": "stream",
     "text": [
      "YESSSSSS\n",
      "Loading Encode File ...\n",
      "Encode File Loaded\n",
      "YESSSSSS\n",
      "Loading Encode File ...\n",
      "Encode File Loaded\n",
      "YESSSSSS\n",
      "Loading Encode File ...\n",
      "Encode File Loaded\n",
      "YESSSSSS\n",
      "Loading Encode File ...\n",
      "Encode File Loaded\n",
      "YESSSSSS\n",
      "Loading Encode File ...\n",
      "Encode File Loaded\n"
     ]
    },
    {
     "name": "stderr",
     "output_type": "stream",
     "text": [
      "127.0.0.1 - - [23/Nov/2023 13:10:09] \"POST /live HTTP/1.1\" 200 -\n",
      "127.0.0.1 - - [23/Nov/2023 13:10:09] \"POST /live HTTP/1.1\" 200 -\n",
      "127.0.0.1 - - [23/Nov/2023 13:10:09] \"POST /live HTTP/1.1\" 200 -\n",
      "127.0.0.1 - - [23/Nov/2023 13:10:09] \"POST /live HTTP/1.1\" 200 -\n"
     ]
    },
    {
     "name": "stdout",
     "output_type": "stream",
     "text": [
      "YESSSSSS\n",
      "Loading Encode File ...\n",
      "Encode File Loaded\n",
      "YESSSSSS\n",
      "Loading Encode File ...\n",
      "Encode File Loaded\n",
      "YESSSSSS\n",
      "Loading Encode File ...\n",
      "Encode File Loaded\n",
      "YESSSSSS\n",
      "Loading Encode File ...\n",
      "Encode File Loaded\n"
     ]
    },
    {
     "name": "stderr",
     "output_type": "stream",
     "text": [
      "127.0.0.1 - - [23/Nov/2023 13:10:09] \"POST /live HTTP/1.1\" 200 -\n",
      "127.0.0.1 - - [23/Nov/2023 13:10:09] \"POST /live HTTP/1.1\" 200 -\n",
      "127.0.0.1 - - [23/Nov/2023 13:10:09] \"POST /live HTTP/1.1\" 200 -\n",
      "127.0.0.1 - - [23/Nov/2023 13:10:10] \"POST /live HTTP/1.1\" 200 -\n"
     ]
    },
    {
     "name": "stdout",
     "output_type": "stream",
     "text": [
      "YESSSSSS\n",
      "Loading Encode File ...\n",
      "Encode File Loaded\n",
      "YESSSSSS\n",
      "Loading Encode File ...\n",
      "Encode File Loaded\n",
      "YESSSSSS\n",
      "Loading Encode File ...\n",
      "Encode File Loaded\n",
      "YESSSSSS\n",
      "Loading Encode File ...\n",
      "Encode File Loaded\n"
     ]
    },
    {
     "name": "stderr",
     "output_type": "stream",
     "text": [
      "127.0.0.1 - - [23/Nov/2023 13:10:10] \"POST /live HTTP/1.1\" 200 -\n",
      "127.0.0.1 - - [23/Nov/2023 13:10:10] \"POST /live HTTP/1.1\" 200 -\n",
      "127.0.0.1 - - [23/Nov/2023 13:10:10] \"POST /live HTTP/1.1\" 200 -\n",
      "127.0.0.1 - - [23/Nov/2023 13:10:10] \"POST /live HTTP/1.1\" 200 -\n"
     ]
    },
    {
     "name": "stdout",
     "output_type": "stream",
     "text": [
      "YESSSSSS\n",
      "Loading Encode File ...\n",
      "Encode File Loaded\n",
      "YESSSSSS\n",
      "Loading Encode File ...\n",
      "Encode File Loaded\n",
      "YESSSSSS\n",
      "Loading Encode File ...\n",
      "Encode File Loaded\n",
      "YESSSSSS\n",
      "Loading Encode File ...\n",
      "Encode File Loaded\n"
     ]
    },
    {
     "name": "stderr",
     "output_type": "stream",
     "text": [
      "127.0.0.1 - - [23/Nov/2023 13:10:10] \"POST /live HTTP/1.1\" 200 -\n",
      "127.0.0.1 - - [23/Nov/2023 13:10:10] \"POST /live HTTP/1.1\" 200 -\n",
      "127.0.0.1 - - [23/Nov/2023 13:10:10] \"POST /live HTTP/1.1\" 200 -\n",
      "127.0.0.1 - - [23/Nov/2023 13:10:10] \"POST /live HTTP/1.1\" 200 -\n",
      "127.0.0.1 - - [23/Nov/2023 13:10:10] \"POST /live HTTP/1.1\" 200 -\n"
     ]
    },
    {
     "name": "stdout",
     "output_type": "stream",
     "text": [
      "YESSSSSS\n",
      "Loading Encode File ...\n",
      "Encode File Loaded\n",
      "YESSSSSS\n",
      "Loading Encode File ...\n",
      "Encode File Loaded\n",
      "YESSSSSS\n",
      "Loading Encode File ...\n",
      "Encode File Loaded\n",
      "YESSSSSS\n",
      "Loading Encode File ...\n",
      "Encode File Loaded\n"
     ]
    },
    {
     "name": "stderr",
     "output_type": "stream",
     "text": [
      "127.0.0.1 - - [23/Nov/2023 13:10:10] \"POST /live HTTP/1.1\" 200 -\n",
      "127.0.0.1 - - [23/Nov/2023 13:10:10] \"POST /live HTTP/1.1\" 200 -\n",
      "127.0.0.1 - - [23/Nov/2023 13:10:10] \"POST /live HTTP/1.1\" 200 -\n"
     ]
    },
    {
     "name": "stdout",
     "output_type": "stream",
     "text": [
      "YESSSSSS\n",
      "Loading Encode File ...\n",
      "Encode File Loaded\n",
      "YESSSSSS\n",
      "Loading Encode File ...\n",
      "Encode File Loaded\n",
      "YESSSSSS\n",
      "Loading Encode File ...\n",
      "Encode File Loaded\n",
      "YESSSSSS\n",
      "Loading Encode File ...\n",
      "Encode File Loaded\n"
     ]
    },
    {
     "name": "stderr",
     "output_type": "stream",
     "text": [
      "127.0.0.1 - - [23/Nov/2023 13:10:10] \"POST /live HTTP/1.1\" 200 -\n",
      "127.0.0.1 - - [23/Nov/2023 13:10:10] \"POST /live HTTP/1.1\" 200 -\n",
      "127.0.0.1 - - [23/Nov/2023 13:10:10] \"POST /live HTTP/1.1\" 200 -\n",
      "127.0.0.1 - - [23/Nov/2023 13:10:10] \"POST /live HTTP/1.1\" 200 -\n"
     ]
    },
    {
     "name": "stdout",
     "output_type": "stream",
     "text": [
      "YESSSSSS\n",
      "Loading Encode File ...\n",
      "Encode File Loaded\n",
      "YESSSSSS\n",
      "Loading Encode File ...\n",
      "Encode File Loaded\n",
      "YESSSSSS\n",
      "Loading Encode File ...\n",
      "Encode File Loaded\n",
      "YESSSSSS\n",
      "Loading Encode File ...\n",
      "Encode File Loaded\n"
     ]
    },
    {
     "name": "stderr",
     "output_type": "stream",
     "text": [
      "127.0.0.1 - - [23/Nov/2023 13:10:10] \"POST /live HTTP/1.1\" 200 -\n",
      "127.0.0.1 - - [23/Nov/2023 13:10:10] \"POST /live HTTP/1.1\" 200 -\n",
      "127.0.0.1 - - [23/Nov/2023 13:10:11] \"POST /live HTTP/1.1\" 200 -\n",
      "127.0.0.1 - - [23/Nov/2023 13:10:11] \"POST /live HTTP/1.1\" 200 -\n"
     ]
    },
    {
     "name": "stdout",
     "output_type": "stream",
     "text": [
      "YESSSSSS\n",
      "Loading Encode File ...\n",
      "Encode File Loaded\n",
      "YESSSSSS\n",
      "Loading Encode File ...\n",
      "Encode File Loaded\n",
      "YESSSSSS\n",
      "Loading Encode File ...\n",
      "Encode File Loaded\n",
      "YESSSSSS\n",
      "Loading Encode File ...\n",
      "Encode File Loaded\n"
     ]
    },
    {
     "name": "stderr",
     "output_type": "stream",
     "text": [
      "127.0.0.1 - - [23/Nov/2023 13:10:11] \"POST /live HTTP/1.1\" 200 -\n",
      "127.0.0.1 - - [23/Nov/2023 13:10:11] \"POST /live HTTP/1.1\" 200 -\n",
      "127.0.0.1 - - [23/Nov/2023 13:10:11] \"POST /live HTTP/1.1\" 200 -\n",
      "127.0.0.1 - - [23/Nov/2023 13:10:11] \"POST /live HTTP/1.1\" 200 -\n"
     ]
    },
    {
     "name": "stdout",
     "output_type": "stream",
     "text": [
      "YESSSSSS\n",
      "Loading Encode File ...\n",
      "Encode File Loaded\n",
      "YESSSSSS\n",
      "Loading Encode File ...\n",
      "Encode File Loaded\n",
      "YESSSSSS\n",
      "Loading Encode File ...\n",
      "Encode File Loaded\n",
      "YESSSSSS\n",
      "Loading Encode File ...\n",
      "Encode File Loaded\n"
     ]
    },
    {
     "name": "stderr",
     "output_type": "stream",
     "text": [
      "127.0.0.1 - - [23/Nov/2023 13:10:11] \"POST /live HTTP/1.1\" 200 -\n",
      "127.0.0.1 - - [23/Nov/2023 13:10:11] \"POST /live HTTP/1.1\" 200 -\n",
      "127.0.0.1 - - [23/Nov/2023 13:10:11] \"POST /live HTTP/1.1\" 200 -\n",
      "127.0.0.1 - - [23/Nov/2023 13:10:11] \"POST /live HTTP/1.1\" 200 -\n"
     ]
    },
    {
     "name": "stdout",
     "output_type": "stream",
     "text": [
      "YESSSSSS\n",
      "Loading Encode File ...\n",
      "Encode File Loaded\n",
      "YESSSSSS\n",
      "Loading Encode File ...\n",
      "Encode File Loaded\n",
      "YESSSSSS\n",
      "Loading Encode File ...\n",
      "Encode File Loaded\n",
      "YESSSSSS\n",
      "Loading Encode File ...\n",
      "Encode File Loaded\n"
     ]
    },
    {
     "name": "stderr",
     "output_type": "stream",
     "text": [
      "127.0.0.1 - - [23/Nov/2023 13:10:11] \"POST /live HTTP/1.1\" 200 -\n",
      "127.0.0.1 - - [23/Nov/2023 13:10:11] \"POST /live HTTP/1.1\" 200 -\n",
      "127.0.0.1 - - [23/Nov/2023 13:10:11] \"POST /live HTTP/1.1\" 200 -\n",
      "127.0.0.1 - - [23/Nov/2023 13:10:11] \"POST /live HTTP/1.1\" 200 -\n"
     ]
    },
    {
     "name": "stdout",
     "output_type": "stream",
     "text": [
      "YESSSSSS\n",
      "Loading Encode File ...\n",
      "Encode File Loaded\n",
      "YESSSSSS\n",
      "Loading Encode File ...\n",
      "Encode File Loaded\n",
      "YESSSSSS\n",
      "Loading Encode File ...\n",
      "Encode File Loaded\n",
      "YESSSSSS\n",
      "Loading Encode File ...\n",
      "Encode File Loaded\n"
     ]
    },
    {
     "name": "stderr",
     "output_type": "stream",
     "text": [
      "127.0.0.1 - - [23/Nov/2023 13:10:11] \"POST /live HTTP/1.1\" 200 -\n",
      "127.0.0.1 - - [23/Nov/2023 13:10:11] \"POST /live HTTP/1.1\" 200 -\n",
      "127.0.0.1 - - [23/Nov/2023 13:10:11] \"POST /live HTTP/1.1\" 200 -\n",
      "127.0.0.1 - - [23/Nov/2023 13:10:12] \"POST /live HTTP/1.1\" 200 -\n"
     ]
    },
    {
     "name": "stdout",
     "output_type": "stream",
     "text": [
      "YESSSSSS\n",
      "Loading Encode File ...\n",
      "Encode File Loaded\n",
      "YESSSSSS\n",
      "Loading Encode File ...\n",
      "Encode File Loaded\n",
      "YESSSSSS\n",
      "Loading Encode File ...\n",
      "Encode File Loaded\n",
      "YESSSSSS\n",
      "Loading Encode File ...\n",
      "Encode File Loaded\n"
     ]
    },
    {
     "name": "stderr",
     "output_type": "stream",
     "text": [
      "127.0.0.1 - - [23/Nov/2023 13:10:12] \"POST /live HTTP/1.1\" 200 -\n",
      "127.0.0.1 - - [23/Nov/2023 13:10:12] \"POST /live HTTP/1.1\" 200 -\n",
      "127.0.0.1 - - [23/Nov/2023 13:10:12] \"POST /live HTTP/1.1\" 200 -\n",
      "127.0.0.1 - - [23/Nov/2023 13:10:12] \"POST /live HTTP/1.1\" 200 -\n"
     ]
    },
    {
     "name": "stdout",
     "output_type": "stream",
     "text": [
      "YESSSSSS\n",
      "Loading Encode File ...\n",
      "Encode File Loaded\n",
      "YESSSSSS\n",
      "Loading Encode File ...\n",
      "Encode File Loaded\n",
      "YESSSSSS\n",
      "Loading Encode File ...\n",
      "Encode File Loaded\n",
      "YESSSSSS\n",
      "Loading Encode File ...\n",
      "Encode File Loaded\n"
     ]
    },
    {
     "name": "stderr",
     "output_type": "stream",
     "text": [
      "127.0.0.1 - - [23/Nov/2023 13:10:12] \"POST /live HTTP/1.1\" 200 -\n",
      "127.0.0.1 - - [23/Nov/2023 13:10:12] \"POST /live HTTP/1.1\" 200 -\n",
      "127.0.0.1 - - [23/Nov/2023 13:10:12] \"POST /live HTTP/1.1\" 200 -\n",
      "127.0.0.1 - - [23/Nov/2023 13:10:12] \"POST /live HTTP/1.1\" 200 -\n"
     ]
    },
    {
     "name": "stdout",
     "output_type": "stream",
     "text": [
      "YESSSSSS\n",
      "Loading Encode File ...\n",
      "Encode File Loaded\n",
      "YESSSSSS\n",
      "Loading Encode File ...\n",
      "Encode File Loaded\n",
      "YESSSSSS\n",
      "Loading Encode File ...\n",
      "Encode File Loaded\n",
      "YESSSSSS\n",
      "Loading Encode File ...\n",
      "Encode File Loaded\n"
     ]
    },
    {
     "name": "stderr",
     "output_type": "stream",
     "text": [
      "127.0.0.1 - - [23/Nov/2023 13:10:12] \"POST /live HTTP/1.1\" 200 -\n",
      "127.0.0.1 - - [23/Nov/2023 13:10:12] \"POST /live HTTP/1.1\" 200 -\n",
      "127.0.0.1 - - [23/Nov/2023 13:10:12] \"POST /live HTTP/1.1\" 200 -\n",
      "127.0.0.1 - - [23/Nov/2023 13:10:12] \"POST /live HTTP/1.1\" 200 -\n",
      "127.0.0.1 - - [23/Nov/2023 13:10:12] \"POST /live HTTP/1.1\" 200 -\n"
     ]
    },
    {
     "name": "stdout",
     "output_type": "stream",
     "text": [
      "YESSSSSS\n",
      "Loading Encode File ...\n",
      "Encode File Loaded\n",
      "YESSSSSS\n",
      "Loading Encode File ...\n",
      "Encode File Loaded\n",
      "YESSSSSS\n",
      "Loading Encode File ...\n",
      "Encode File Loaded\n",
      "YESSSSSS\n",
      "Loading Encode File ...\n",
      "Encode File Loaded\n"
     ]
    },
    {
     "name": "stderr",
     "output_type": "stream",
     "text": [
      "127.0.0.1 - - [23/Nov/2023 13:10:12] \"POST /live HTTP/1.1\" 200 -\n",
      "127.0.0.1 - - [23/Nov/2023 13:10:12] \"POST /live HTTP/1.1\" 200 -\n",
      "127.0.0.1 - - [23/Nov/2023 13:10:12] \"POST /live HTTP/1.1\" 200 -\n"
     ]
    },
    {
     "name": "stdout",
     "output_type": "stream",
     "text": [
      "YESSSSSS\n",
      "Loading Encode File ...\n",
      "Encode File Loaded\n",
      "YESSSSSS\n",
      "Loading Encode File ...\n",
      "Encode File Loaded\n",
      "YESSSSSS\n",
      "Loading Encode File ...\n",
      "Encode File Loaded\n",
      "YESSSSSS\n",
      "Loading Encode File ...\n",
      "Encode File Loaded\n"
     ]
    },
    {
     "name": "stderr",
     "output_type": "stream",
     "text": [
      "127.0.0.1 - - [23/Nov/2023 13:10:12] \"POST /live HTTP/1.1\" 200 -\n",
      "127.0.0.1 - - [23/Nov/2023 13:10:12] \"POST /live HTTP/1.1\" 200 -\n",
      "127.0.0.1 - - [23/Nov/2023 13:10:13] \"POST /live HTTP/1.1\" 200 -\n",
      "127.0.0.1 - - [23/Nov/2023 13:10:13] \"POST /live HTTP/1.1\" 200 -\n",
      "127.0.0.1 - - [23/Nov/2023 13:10:13] \"POST /live HTTP/1.1\" 200 -\n"
     ]
    },
    {
     "name": "stdout",
     "output_type": "stream",
     "text": [
      "YESSSSSS\n",
      "Loading Encode File ...\n",
      "Encode File Loaded\n",
      "YESSSSSS\n",
      "Loading Encode File ...\n",
      "Encode File Loaded\n",
      "YESSSSSS\n",
      "Loading Encode File ...\n",
      "Encode File Loaded\n",
      "YESSSSSS\n",
      "Loading Encode File ...\n",
      "Encode File Loaded\n",
      "YESSSSSS\n",
      "Loading Encode File ...\n",
      "Encode File Loaded\n"
     ]
    },
    {
     "name": "stderr",
     "output_type": "stream",
     "text": [
      "127.0.0.1 - - [23/Nov/2023 13:10:13] \"POST /live HTTP/1.1\" 200 -\n",
      "127.0.0.1 - - [23/Nov/2023 13:10:13] \"POST /live HTTP/1.1\" 200 -\n",
      "127.0.0.1 - - [23/Nov/2023 13:10:13] \"POST /live HTTP/1.1\" 200 -\n",
      "127.0.0.1 - - [23/Nov/2023 13:10:13] \"POST /live HTTP/1.1\" 200 -\n"
     ]
    },
    {
     "name": "stdout",
     "output_type": "stream",
     "text": [
      "YESSSSSS\n",
      "Loading Encode File ...\n",
      "Encode File Loaded\n",
      "YESSSSSS\n",
      "Loading Encode File ...\n",
      "Encode File Loaded\n",
      "YESSSSSS\n",
      "Loading Encode File ...\n",
      "Encode File Loaded\n",
      "YESSSSSS\n",
      "Loading Encode File ...\n",
      "Encode File Loaded\n"
     ]
    },
    {
     "name": "stderr",
     "output_type": "stream",
     "text": [
      "127.0.0.1 - - [23/Nov/2023 13:10:13] \"POST /live HTTP/1.1\" 200 -\n",
      "127.0.0.1 - - [23/Nov/2023 13:10:13] \"POST /live HTTP/1.1\" 200 -\n",
      "127.0.0.1 - - [23/Nov/2023 13:10:13] \"POST /live HTTP/1.1\" 200 -\n",
      "127.0.0.1 - - [23/Nov/2023 13:10:13] \"POST /live HTTP/1.1\" 200 -\n",
      "127.0.0.1 - - [23/Nov/2023 13:10:13] \"POST /live HTTP/1.1\" 200 -\n"
     ]
    },
    {
     "name": "stdout",
     "output_type": "stream",
     "text": [
      "YESSSSSS\n",
      "Loading Encode File ...\n",
      "Encode File Loaded\n",
      "YESSSSSS\n",
      "Loading Encode File ...\n",
      "Encode File Loaded\n",
      "YESSSSSS\n",
      "Loading Encode File ...\n",
      "Encode File Loaded\n",
      "YESSSSSS\n",
      "Loading Encode File ...\n",
      "Encode File Loaded\n",
      "YESSSSSS\n",
      "Loading Encode File ...\n",
      "Encode File Loaded\n"
     ]
    },
    {
     "name": "stderr",
     "output_type": "stream",
     "text": [
      "127.0.0.1 - - [23/Nov/2023 13:10:13] \"POST /live HTTP/1.1\" 200 -\n",
      "127.0.0.1 - - [23/Nov/2023 13:10:13] \"POST /live HTTP/1.1\" 200 -\n",
      "127.0.0.1 - - [23/Nov/2023 13:10:13] \"POST /live HTTP/1.1\" 200 -\n",
      "127.0.0.1 - - [23/Nov/2023 13:10:13] \"POST /live HTTP/1.1\" 200 -\n",
      "127.0.0.1 - - [23/Nov/2023 13:10:13] \"POST /live HTTP/1.1\" 200 -\n"
     ]
    },
    {
     "name": "stdout",
     "output_type": "stream",
     "text": [
      "YESSSSSS\n",
      "Loading Encode File ...\n",
      "Encode File Loaded\n",
      "YESSSSSS\n",
      "Loading Encode File ...\n",
      "Encode File Loaded\n",
      "YESSSSSS\n",
      "Loading Encode File ...\n",
      "Encode File Loaded\n",
      "YESSSSSS\n",
      "Loading Encode File ...\n",
      "Encode File Loaded\n"
     ]
    },
    {
     "name": "stderr",
     "output_type": "stream",
     "text": [
      "127.0.0.1 - - [23/Nov/2023 13:10:13] \"POST /live HTTP/1.1\" 200 -\n",
      "127.0.0.1 - - [23/Nov/2023 13:10:13] \"POST /live HTTP/1.1\" 200 -\n",
      "127.0.0.1 - - [23/Nov/2023 13:10:13] \"POST /live HTTP/1.1\" 200 -\n"
     ]
    },
    {
     "name": "stdout",
     "output_type": "stream",
     "text": [
      "YESSSSSS\n",
      "Loading Encode File ...\n",
      "Encode File Loaded\n",
      "YESSSSSS\n",
      "Loading Encode File ...\n",
      "Encode File Loaded\n",
      "YESSSSSS\n",
      "Loading Encode File ...\n",
      "Encode File Loaded\n",
      "YESSSSSS\n",
      "Loading Encode File ...\n",
      "Encode File Loaded\n"
     ]
    },
    {
     "name": "stderr",
     "output_type": "stream",
     "text": [
      "127.0.0.1 - - [23/Nov/2023 13:10:14] \"POST /live HTTP/1.1\" 200 -\n",
      "127.0.0.1 - - [23/Nov/2023 13:10:14] \"POST /live HTTP/1.1\" 200 -\n",
      "127.0.0.1 - - [23/Nov/2023 13:10:14] \"POST /live HTTP/1.1\" 200 -\n",
      "127.0.0.1 - - [23/Nov/2023 13:10:14] \"POST /live HTTP/1.1\" 200 -\n"
     ]
    },
    {
     "name": "stdout",
     "output_type": "stream",
     "text": [
      "YESSSSSS\n",
      "Loading Encode File ...\n",
      "Encode File Loaded\n",
      "YESSSSSS\n",
      "Loading Encode File ...\n",
      "Encode File Loaded\n",
      "YESSSSSS\n",
      "Loading Encode File ...\n",
      "Encode File Loaded\n",
      "YESSSSSS\n",
      "Loading Encode File ...\n",
      "Encode File Loaded\n"
     ]
    },
    {
     "name": "stderr",
     "output_type": "stream",
     "text": [
      "127.0.0.1 - - [23/Nov/2023 13:10:14] \"POST /live HTTP/1.1\" 200 -\n",
      "127.0.0.1 - - [23/Nov/2023 13:10:14] \"POST /live HTTP/1.1\" 200 -\n",
      "127.0.0.1 - - [23/Nov/2023 13:10:14] \"POST /live HTTP/1.1\" 200 -\n",
      "127.0.0.1 - - [23/Nov/2023 13:10:14] \"POST /live HTTP/1.1\" 200 -\n"
     ]
    },
    {
     "name": "stdout",
     "output_type": "stream",
     "text": [
      "YESSSSSS\n",
      "Loading Encode File ...\n",
      "Encode File Loaded\n",
      "YESSSSSS\n",
      "Loading Encode File ...\n",
      "Encode File Loaded\n",
      "YESSSSSS\n",
      "Loading Encode File ...\n",
      "Encode File Loaded\n",
      "YESSSSSS\n",
      "Loading Encode File ...\n",
      "Encode File Loaded\n"
     ]
    },
    {
     "name": "stderr",
     "output_type": "stream",
     "text": [
      "127.0.0.1 - - [23/Nov/2023 13:10:14] \"POST /live HTTP/1.1\" 200 -\n",
      "127.0.0.1 - - [23/Nov/2023 13:10:14] \"POST /live HTTP/1.1\" 200 -\n",
      "127.0.0.1 - - [23/Nov/2023 13:10:14] \"POST /live HTTP/1.1\" 200 -\n",
      "127.0.0.1 - - [23/Nov/2023 13:10:14] \"POST /live HTTP/1.1\" 200 -\n",
      "127.0.0.1 - - [23/Nov/2023 13:10:14] \"POST /live HTTP/1.1\" 200 -\n"
     ]
    },
    {
     "name": "stdout",
     "output_type": "stream",
     "text": [
      "YESSSSSS\n",
      "Loading Encode File ...\n",
      "Encode File Loaded\n",
      "YESSSSSS\n",
      "Loading Encode File ...\n",
      "Encode File Loaded\n",
      "YESSSSSS\n",
      "Loading Encode File ...\n",
      "Encode File Loaded\n",
      "YESSSSSS\n",
      "Loading Encode File ...\n",
      "Encode File Loaded\n",
      "YESSSSSS\n",
      "Loading Encode File ...\n",
      "Encode File Loaded\n"
     ]
    },
    {
     "name": "stderr",
     "output_type": "stream",
     "text": [
      "127.0.0.1 - - [23/Nov/2023 13:10:14] \"POST /live HTTP/1.1\" 200 -\n",
      "127.0.0.1 - - [23/Nov/2023 13:10:14] \"POST /live HTTP/1.1\" 200 -\n",
      "127.0.0.1 - - [23/Nov/2023 13:10:14] \"POST /live HTTP/1.1\" 200 -\n",
      "127.0.0.1 - - [23/Nov/2023 13:10:14] \"POST /live HTTP/1.1\" 200 -\n"
     ]
    },
    {
     "name": "stdout",
     "output_type": "stream",
     "text": [
      "YESSSSSS\n",
      "Loading Encode File ...\n",
      "Encode File Loaded\n",
      "YESSSSSS\n",
      "Loading Encode File ...\n",
      "Encode File Loaded\n",
      "YESSSSSS\n",
      "Loading Encode File ...\n",
      "Encode File Loaded\n",
      "YESSSSSS\n",
      "Loading Encode File ...\n",
      "Encode File Loaded\n"
     ]
    },
    {
     "name": "stderr",
     "output_type": "stream",
     "text": [
      "127.0.0.1 - - [23/Nov/2023 13:10:14] \"POST /live HTTP/1.1\" 200 -\n",
      "127.0.0.1 - - [23/Nov/2023 13:10:14] \"POST /live HTTP/1.1\" 200 -\n",
      "127.0.0.1 - - [23/Nov/2023 13:10:15] \"POST /live HTTP/1.1\" 200 -\n",
      "127.0.0.1 - - [23/Nov/2023 13:10:15] \"POST /live HTTP/1.1\" 200 -\n"
     ]
    },
    {
     "name": "stdout",
     "output_type": "stream",
     "text": [
      "YESSSSSS\n",
      "Loading Encode File ...\n",
      "Encode File Loaded\n",
      "YESSSSSS\n",
      "Loading Encode File ...\n",
      "Encode File Loaded\n",
      "YESSSSSS\n",
      "Loading Encode File ...\n",
      "Encode File Loaded\n",
      "YESSSSSS\n",
      "Loading Encode File ...\n",
      "Encode File Loaded\n"
     ]
    },
    {
     "name": "stderr",
     "output_type": "stream",
     "text": [
      "127.0.0.1 - - [23/Nov/2023 13:10:15] \"POST /live HTTP/1.1\" 200 -\n",
      "127.0.0.1 - - [23/Nov/2023 13:10:15] \"POST /live HTTP/1.1\" 200 -\n",
      "127.0.0.1 - - [23/Nov/2023 13:10:15] \"POST /live HTTP/1.1\" 200 -\n",
      "127.0.0.1 - - [23/Nov/2023 13:10:15] \"POST /live HTTP/1.1\" 200 -\n"
     ]
    },
    {
     "name": "stdout",
     "output_type": "stream",
     "text": [
      "YESSSSSS\n",
      "Loading Encode File ...\n",
      "Encode File Loaded\n",
      "YESSSSSS\n",
      "Loading Encode File ...\n",
      "Encode File Loaded\n",
      "YESSSSSS\n",
      "Loading Encode File ...\n",
      "Encode File Loaded\n",
      "YESSSSSS\n",
      "Loading Encode File ...\n",
      "Encode File Loaded\n"
     ]
    },
    {
     "name": "stderr",
     "output_type": "stream",
     "text": [
      "127.0.0.1 - - [23/Nov/2023 13:10:15] \"POST /live HTTP/1.1\" 200 -\n",
      "127.0.0.1 - - [23/Nov/2023 13:10:15] \"POST /live HTTP/1.1\" 200 -\n",
      "127.0.0.1 - - [23/Nov/2023 13:10:15] \"POST /live HTTP/1.1\" 200 -\n",
      "127.0.0.1 - - [23/Nov/2023 13:10:15] \"POST /live HTTP/1.1\" 200 -\n"
     ]
    },
    {
     "name": "stdout",
     "output_type": "stream",
     "text": [
      "YESSSSSS\n",
      "Loading Encode File ...\n",
      "Encode File Loaded\n",
      "YESSSSSS\n",
      "Loading Encode File ...\n",
      "Encode File Loaded\n",
      "YESSSSSS\n",
      "Loading Encode File ...\n",
      "Encode File Loaded\n",
      "YESSSSSS\n",
      "Loading Encode File ...\n",
      "Encode File Loaded\n"
     ]
    },
    {
     "name": "stderr",
     "output_type": "stream",
     "text": [
      "127.0.0.1 - - [23/Nov/2023 13:10:15] \"POST /live HTTP/1.1\" 200 -\n",
      "127.0.0.1 - - [23/Nov/2023 13:10:15] \"POST /live HTTP/1.1\" 200 -\n",
      "127.0.0.1 - - [23/Nov/2023 13:10:15] \"POST /live HTTP/1.1\" 200 -\n",
      "127.0.0.1 - - [23/Nov/2023 13:10:15] \"POST /live HTTP/1.1\" 200 -\n"
     ]
    },
    {
     "name": "stdout",
     "output_type": "stream",
     "text": [
      "YESSSSSS\n",
      "Loading Encode File ...\n",
      "Encode File Loaded\n",
      "YESSSSSS\n",
      "Loading Encode File ...\n",
      "Encode File Loaded\n",
      "YESSSSSS\n",
      "Loading Encode File ...\n",
      "Encode File Loaded\n",
      "YESSSSSS\n",
      "Loading Encode File ...\n",
      "Encode File Loaded\n"
     ]
    },
    {
     "name": "stderr",
     "output_type": "stream",
     "text": [
      "127.0.0.1 - - [23/Nov/2023 13:10:15] \"POST /live HTTP/1.1\" 200 -\n",
      "127.0.0.1 - - [23/Nov/2023 13:10:15] \"POST /live HTTP/1.1\" 200 -\n",
      "127.0.0.1 - - [23/Nov/2023 13:10:15] \"POST /live HTTP/1.1\" 200 -\n",
      "127.0.0.1 - - [23/Nov/2023 13:10:15] \"POST /live HTTP/1.1\" 200 -\n",
      "127.0.0.1 - - [23/Nov/2023 13:10:15] \"POST /live HTTP/1.1\" 200 -\n"
     ]
    },
    {
     "name": "stdout",
     "output_type": "stream",
     "text": [
      "YESSSSSS\n",
      "Loading Encode File ...\n",
      "Encode File Loaded\n",
      "YESSSSSS\n",
      "Loading Encode File ...\n",
      "Encode File Loaded\n",
      "YESSSSSS\n",
      "Loading Encode File ...\n",
      "Encode File Loaded\n",
      "YESSSSSS\n",
      "Loading Encode File ...\n",
      "Encode File Loaded\n"
     ]
    },
    {
     "name": "stderr",
     "output_type": "stream",
     "text": [
      "127.0.0.1 - - [23/Nov/2023 13:10:16] \"POST /live HTTP/1.1\" 200 -\n",
      "127.0.0.1 - - [23/Nov/2023 13:10:16] \"POST /live HTTP/1.1\" 200 -\n",
      "127.0.0.1 - - [23/Nov/2023 13:10:16] \"POST /live HTTP/1.1\" 200 -\n"
     ]
    },
    {
     "name": "stdout",
     "output_type": "stream",
     "text": [
      "YESSSSSS\n",
      "Loading Encode File ...\n",
      "Encode File Loaded\n",
      "YESSSSSS\n",
      "Loading Encode File ...\n",
      "Encode File Loaded\n",
      "YESSSSSS\n",
      "Loading Encode File ...\n",
      "Encode File Loaded\n",
      "YESSSSSS\n",
      "Loading Encode File ...\n",
      "Encode File Loaded\n"
     ]
    },
    {
     "name": "stderr",
     "output_type": "stream",
     "text": [
      "127.0.0.1 - - [23/Nov/2023 13:10:16] \"POST /live HTTP/1.1\" 200 -\n",
      "127.0.0.1 - - [23/Nov/2023 13:10:16] \"POST /live HTTP/1.1\" 200 -\n",
      "127.0.0.1 - - [23/Nov/2023 13:10:16] \"POST /live HTTP/1.1\" 200 -\n",
      "127.0.0.1 - - [23/Nov/2023 13:10:16] \"POST /live HTTP/1.1\" 200 -\n"
     ]
    },
    {
     "name": "stdout",
     "output_type": "stream",
     "text": [
      "YESSSSSS\n",
      "Loading Encode File ...\n",
      "Encode File Loaded\n",
      "YESSSSSS\n",
      "Loading Encode File ...\n",
      "Encode File Loaded\n",
      "YESSSSSS\n",
      "Loading Encode File ...\n",
      "Encode File Loaded\n",
      "YESSSSSS\n",
      "Loading Encode File ...\n",
      "Encode File Loaded\n"
     ]
    },
    {
     "name": "stderr",
     "output_type": "stream",
     "text": [
      "127.0.0.1 - - [23/Nov/2023 13:10:16] \"POST /live HTTP/1.1\" 200 -\n",
      "127.0.0.1 - - [23/Nov/2023 13:10:16] \"POST /live HTTP/1.1\" 200 -\n",
      "127.0.0.1 - - [23/Nov/2023 13:10:16] \"POST /live HTTP/1.1\" 200 -\n",
      "127.0.0.1 - - [23/Nov/2023 13:10:16] \"POST /live HTTP/1.1\" 200 -\n"
     ]
    },
    {
     "name": "stdout",
     "output_type": "stream",
     "text": [
      "YESSSSSS\n",
      "Loading Encode File ...\n",
      "Encode File Loaded\n",
      "YESSSSSS\n",
      "Loading Encode File ...\n",
      "Encode File Loaded\n",
      "YESSSSSS\n",
      "Loading Encode File ...\n",
      "Encode File Loaded\n",
      "YESSSSSS\n",
      "Loading Encode File ...\n",
      "Encode File Loaded\n"
     ]
    },
    {
     "name": "stderr",
     "output_type": "stream",
     "text": [
      "127.0.0.1 - - [23/Nov/2023 13:10:16] \"POST /live HTTP/1.1\" 200 -\n",
      "127.0.0.1 - - [23/Nov/2023 13:10:16] \"POST /live HTTP/1.1\" 200 -\n",
      "127.0.0.1 - - [23/Nov/2023 13:10:16] \"POST /live HTTP/1.1\" 200 -\n",
      "127.0.0.1 - - [23/Nov/2023 13:10:16] \"POST /live HTTP/1.1\" 200 -\n",
      "127.0.0.1 - - [23/Nov/2023 13:10:16] \"POST /live HTTP/1.1\" 200 -\n"
     ]
    },
    {
     "name": "stdout",
     "output_type": "stream",
     "text": [
      "YESSSSSS\n",
      "Loading Encode File ...\n",
      "Encode File Loaded\n",
      "YESSSSSS\n",
      "Loading Encode File ...\n",
      "Encode File Loaded\n",
      "YESSSSSS\n",
      "Loading Encode File ...\n",
      "Encode File Loaded\n",
      "YESSSSSS\n",
      "Loading Encode File ...\n",
      "Encode File Loaded\n"
     ]
    },
    {
     "name": "stderr",
     "output_type": "stream",
     "text": [
      "127.0.0.1 - - [23/Nov/2023 13:10:16] \"POST /live HTTP/1.1\" 200 -\n",
      "127.0.0.1 - - [23/Nov/2023 13:10:16] \"POST /live HTTP/1.1\" 200 -\n",
      "127.0.0.1 - - [23/Nov/2023 13:10:16] \"POST /live HTTP/1.1\" 200 -\n"
     ]
    },
    {
     "name": "stdout",
     "output_type": "stream",
     "text": [
      "YESSSSSS\n",
      "Loading Encode File ...\n",
      "Encode File Loaded\n",
      "YESSSSSS\n",
      "Loading Encode File ...\n",
      "Encode File Loaded\n",
      "YESSSSSS\n",
      "Loading Encode File ...\n",
      "Encode File Loaded\n",
      "YESSSSSS\n",
      "Loading Encode File ...\n",
      "Encode File Loaded\n"
     ]
    },
    {
     "name": "stderr",
     "output_type": "stream",
     "text": [
      "127.0.0.1 - - [23/Nov/2023 13:10:17] \"POST /live HTTP/1.1\" 200 -\n",
      "127.0.0.1 - - [23/Nov/2023 13:10:17] \"POST /live HTTP/1.1\" 200 -\n",
      "127.0.0.1 - - [23/Nov/2023 13:10:17] \"POST /live HTTP/1.1\" 200 -\n",
      "127.0.0.1 - - [23/Nov/2023 13:10:17] \"POST /live HTTP/1.1\" 200 -\n",
      "127.0.0.1 - - [23/Nov/2023 13:10:17] \"POST /live HTTP/1.1\" 200 -\n"
     ]
    },
    {
     "name": "stdout",
     "output_type": "stream",
     "text": [
      "YESSSSSS\n",
      "Loading Encode File ...\n",
      "Encode File Loaded\n",
      "YESSSSSS\n",
      "Loading Encode File ...\n",
      "Encode File Loaded\n",
      "YESSSSSS\n",
      "Loading Encode File ...\n",
      "Encode File Loaded\n",
      "YESSSSSS\n",
      "Loading Encode File ...\n",
      "Encode File Loaded\n"
     ]
    },
    {
     "name": "stderr",
     "output_type": "stream",
     "text": [
      "127.0.0.1 - - [23/Nov/2023 13:10:17] \"POST /live HTTP/1.1\" 200 -\n",
      "127.0.0.1 - - [23/Nov/2023 13:10:17] \"POST /live HTTP/1.1\" 200 -\n",
      "127.0.0.1 - - [23/Nov/2023 13:10:17] \"POST /live HTTP/1.1\" 200 -\n",
      "127.0.0.1 - - [23/Nov/2023 13:10:17] \"POST /live HTTP/1.1\" 200 -\n"
     ]
    },
    {
     "name": "stdout",
     "output_type": "stream",
     "text": [
      "YESSSSSS\n",
      "Loading Encode File ...\n",
      "Encode File Loaded\n",
      "YESSSSSS\n",
      "Loading Encode File ...\n",
      "Encode File Loaded\n",
      "YESSSSSS\n",
      "Loading Encode File ...\n",
      "Encode File Loaded\n",
      "YESSSSSS\n",
      "Loading Encode File ...\n",
      "Encode File Loaded\n"
     ]
    },
    {
     "name": "stderr",
     "output_type": "stream",
     "text": [
      "127.0.0.1 - - [23/Nov/2023 13:10:17] \"POST /live HTTP/1.1\" 200 -\n",
      "127.0.0.1 - - [23/Nov/2023 13:10:17] \"POST /live HTTP/1.1\" 200 -\n",
      "127.0.0.1 - - [23/Nov/2023 13:10:17] \"POST /live HTTP/1.1\" 200 -\n"
     ]
    },
    {
     "name": "stdout",
     "output_type": "stream",
     "text": [
      "YESSSSSS\n",
      "Loading Encode File ...\n",
      "Encode File Loaded\n",
      "YESSSSSS\n",
      "Loading Encode File ...\n",
      "Encode File Loaded\n",
      "YESSSSSS\n",
      "Loading Encode File ...\n",
      "Encode File Loaded\n",
      "YESSSSSS\n",
      "Loading Encode File ...\n",
      "Encode File Loaded\n"
     ]
    },
    {
     "name": "stderr",
     "output_type": "stream",
     "text": [
      "127.0.0.1 - - [23/Nov/2023 13:10:17] \"POST /live HTTP/1.1\" 200 -\n",
      "127.0.0.1 - - [23/Nov/2023 13:10:17] \"POST /live HTTP/1.1\" 200 -\n",
      "127.0.0.1 - - [23/Nov/2023 13:10:17] \"POST /live HTTP/1.1\" 200 -\n",
      "127.0.0.1 - - [23/Nov/2023 13:10:17] \"POST /live HTTP/1.1\" 200 -\n",
      "127.0.0.1 - - [23/Nov/2023 13:10:17] \"POST /live HTTP/1.1\" 200 -\n"
     ]
    },
    {
     "name": "stdout",
     "output_type": "stream",
     "text": [
      "YESSSSSS\n",
      "Loading Encode File ...\n",
      "Encode File Loaded\n",
      "YESSSSSS\n",
      "Loading Encode File ...\n",
      "Encode File Loaded\n",
      "YESSSSSS\n",
      "Loading Encode File ...\n",
      "Encode File Loaded\n",
      "YESSSSSS\n",
      "Loading Encode File ...\n",
      "Encode File Loaded\n"
     ]
    },
    {
     "name": "stderr",
     "output_type": "stream",
     "text": [
      "127.0.0.1 - - [23/Nov/2023 13:10:17] \"POST /live HTTP/1.1\" 200 -\n",
      "127.0.0.1 - - [23/Nov/2023 13:10:17] \"POST /live HTTP/1.1\" 200 -\n",
      "127.0.0.1 - - [23/Nov/2023 13:10:18] \"POST /live HTTP/1.1\" 200 -\n",
      "127.0.0.1 - - [23/Nov/2023 13:10:18] \"POST /live HTTP/1.1\" 200 -\n"
     ]
    },
    {
     "name": "stdout",
     "output_type": "stream",
     "text": [
      "YESSSSSS\n",
      "Loading Encode File ...\n",
      "Encode File Loaded\n",
      "YESSSSSS\n",
      "Loading Encode File ...\n",
      "Encode File Loaded\n",
      "YESSSSSS\n",
      "Loading Encode File ...\n",
      "Encode File Loaded\n",
      "YESSSSSS\n",
      "Loading Encode File ...\n",
      "Encode File Loaded\n"
     ]
    },
    {
     "name": "stderr",
     "output_type": "stream",
     "text": [
      "127.0.0.1 - - [23/Nov/2023 13:10:18] \"POST /live HTTP/1.1\" 200 -\n",
      "127.0.0.1 - - [23/Nov/2023 13:10:18] \"POST /live HTTP/1.1\" 200 -\n",
      "127.0.0.1 - - [23/Nov/2023 13:10:18] \"POST /live HTTP/1.1\" 200 -\n"
     ]
    },
    {
     "name": "stdout",
     "output_type": "stream",
     "text": [
      "YESSSSSS\n",
      "Loading Encode File ...\n",
      "Encode File Loaded\n",
      "YESSSSSS\n",
      "Loading Encode File ...\n",
      "Encode File Loaded\n",
      "YESSSSSS\n",
      "Loading Encode File ...\n",
      "Encode File Loaded\n",
      "YESSSSSS\n",
      "Loading Encode File ...\n",
      "Encode File Loaded\n"
     ]
    },
    {
     "name": "stderr",
     "output_type": "stream",
     "text": [
      "127.0.0.1 - - [23/Nov/2023 13:10:18] \"POST /live HTTP/1.1\" 200 -\n",
      "127.0.0.1 - - [23/Nov/2023 13:10:18] \"POST /live HTTP/1.1\" 200 -\n",
      "127.0.0.1 - - [23/Nov/2023 13:10:18] \"POST /live HTTP/1.1\" 200 -\n",
      "127.0.0.1 - - [23/Nov/2023 13:10:18] \"POST /live HTTP/1.1\" 200 -\n",
      "127.0.0.1 - - [23/Nov/2023 13:10:18] \"POST /live HTTP/1.1\" 200 -\n"
     ]
    },
    {
     "name": "stdout",
     "output_type": "stream",
     "text": [
      "YESSSSSS\n",
      "Loading Encode File ...\n",
      "Encode File Loaded\n",
      "YESSSSSS\n",
      "Loading Encode File ...\n",
      "Encode File Loaded\n",
      "YESSSSSS\n",
      "Loading Encode File ...\n",
      "Encode File Loaded\n",
      "YESSSSSS\n",
      "Loading Encode File ...\n",
      "Encode File Loaded\n"
     ]
    },
    {
     "name": "stderr",
     "output_type": "stream",
     "text": [
      "127.0.0.1 - - [23/Nov/2023 13:10:18] \"POST /live HTTP/1.1\" 200 -\n",
      "127.0.0.1 - - [23/Nov/2023 13:10:18] \"POST /live HTTP/1.1\" 200 -\n",
      "127.0.0.1 - - [23/Nov/2023 13:10:18] \"POST /live HTTP/1.1\" 200 -\n"
     ]
    },
    {
     "name": "stdout",
     "output_type": "stream",
     "text": [
      "YESSSSSS\n",
      "Loading Encode File ...\n",
      "Encode File Loaded\n",
      "YESSSSSS\n",
      "Loading Encode File ...\n",
      "Encode File Loaded\n",
      "YESSSSSS\n",
      "Loading Encode File ...\n",
      "Encode File Loaded\n",
      "YESSSSSS\n",
      "Loading Encode File ...\n",
      "Encode File Loaded\n"
     ]
    },
    {
     "name": "stderr",
     "output_type": "stream",
     "text": [
      "127.0.0.1 - - [23/Nov/2023 13:10:18] \"POST /live HTTP/1.1\" 200 -\n",
      "127.0.0.1 - - [23/Nov/2023 13:10:18] \"POST /live HTTP/1.1\" 200 -\n",
      "127.0.0.1 - - [23/Nov/2023 13:10:18] \"POST /live HTTP/1.1\" 200 -\n",
      "127.0.0.1 - - [23/Nov/2023 13:10:18] \"POST /live HTTP/1.1\" 200 -\n"
     ]
    },
    {
     "name": "stdout",
     "output_type": "stream",
     "text": [
      "YESSSSSS\n",
      "Loading Encode File ...\n",
      "Encode File Loaded\n",
      "YESSSSSS\n",
      "Loading Encode File ...\n",
      "Encode File Loaded\n",
      "YESSSSSS\n",
      "Loading Encode File ...\n",
      "Encode File Loaded\n",
      "YESSSSSS\n",
      "Loading Encode File ...\n",
      "Encode File Loaded\n"
     ]
    },
    {
     "name": "stderr",
     "output_type": "stream",
     "text": [
      "127.0.0.1 - - [23/Nov/2023 13:10:18] \"POST /live HTTP/1.1\" 200 -\n",
      "127.0.0.1 - - [23/Nov/2023 13:10:18] \"POST /live HTTP/1.1\" 200 -\n",
      "127.0.0.1 - - [23/Nov/2023 13:10:19] \"POST /live HTTP/1.1\" 200 -\n",
      "127.0.0.1 - - [23/Nov/2023 13:10:19] \"POST /live HTTP/1.1\" 200 -\n"
     ]
    },
    {
     "name": "stdout",
     "output_type": "stream",
     "text": [
      "YESSSSSS\n",
      "Loading Encode File ...\n",
      "Encode File Loaded\n",
      "YESSSSSS\n",
      "Loading Encode File ...\n",
      "Encode File Loaded\n",
      "YESSSSSS\n",
      "Loading Encode File ...\n",
      "Encode File Loaded\n",
      "YESSSSSS\n",
      "Loading Encode File ...\n",
      "Encode File Loaded\n"
     ]
    },
    {
     "name": "stderr",
     "output_type": "stream",
     "text": [
      "127.0.0.1 - - [23/Nov/2023 13:10:19] \"POST /live HTTP/1.1\" 200 -\n",
      "127.0.0.1 - - [23/Nov/2023 13:10:19] \"POST /live HTTP/1.1\" 200 -\n",
      "127.0.0.1 - - [23/Nov/2023 13:10:19] \"POST /live HTTP/1.1\" 200 -\n",
      "127.0.0.1 - - [23/Nov/2023 13:10:19] \"POST /live HTTP/1.1\" 200 -\n",
      "127.0.0.1 - - [23/Nov/2023 13:10:19] \"POST /live HTTP/1.1\" 200 -\n"
     ]
    },
    {
     "name": "stdout",
     "output_type": "stream",
     "text": [
      "YESSSSSS\n",
      "Loading Encode File ...\n",
      "Encode File Loaded\n",
      "YESSSSSS\n",
      "Loading Encode File ...\n",
      "Encode File Loaded\n",
      "YESSSSSS\n",
      "Loading Encode File ...\n",
      "Encode File Loaded\n",
      "YESSSSSS\n",
      "Loading Encode File ...\n",
      "Encode File Loaded\n"
     ]
    },
    {
     "name": "stderr",
     "output_type": "stream",
     "text": [
      "127.0.0.1 - - [23/Nov/2023 13:10:19] \"POST /live HTTP/1.1\" 200 -\n",
      "127.0.0.1 - - [23/Nov/2023 13:10:19] \"POST /live HTTP/1.1\" 200 -\n",
      "127.0.0.1 - - [23/Nov/2023 13:10:19] \"POST /live HTTP/1.1\" 200 -\n"
     ]
    },
    {
     "name": "stdout",
     "output_type": "stream",
     "text": [
      "YESSSSSS\n",
      "Loading Encode File ...\n",
      "Encode File Loaded\n",
      "YESSSSSS\n",
      "Loading Encode File ...\n",
      "Encode File Loaded\n",
      "YESSSSSS\n",
      "Loading Encode File ...\n",
      "Encode File Loaded\n",
      "YESSSSSS\n",
      "Loading Encode File ...\n",
      "Encode File Loaded\n"
     ]
    },
    {
     "name": "stderr",
     "output_type": "stream",
     "text": [
      "127.0.0.1 - - [23/Nov/2023 13:10:19] \"POST /live HTTP/1.1\" 200 -\n",
      "127.0.0.1 - - [23/Nov/2023 13:10:19] \"POST /live HTTP/1.1\" 200 -\n",
      "127.0.0.1 - - [23/Nov/2023 13:10:19] \"POST /live HTTP/1.1\" 200 -\n",
      "127.0.0.1 - - [23/Nov/2023 13:10:19] \"POST /live HTTP/1.1\" 200 -\n"
     ]
    },
    {
     "name": "stdout",
     "output_type": "stream",
     "text": [
      "YESSSSSS\n",
      "Loading Encode File ...\n",
      "Encode File Loaded\n",
      "YESSSSSS\n",
      "Loading Encode File ...\n",
      "Encode File Loaded\n",
      "YESSSSSS\n",
      "Loading Encode File ...\n",
      "Encode File Loaded\n",
      "YESSSSSS\n",
      "Loading Encode File ...\n",
      "Encode File Loaded\n"
     ]
    },
    {
     "name": "stderr",
     "output_type": "stream",
     "text": [
      "127.0.0.1 - - [23/Nov/2023 13:10:19] \"POST /live HTTP/1.1\" 200 -\n",
      "127.0.0.1 - - [23/Nov/2023 13:10:19] \"POST /live HTTP/1.1\" 200 -\n",
      "127.0.0.1 - - [23/Nov/2023 13:10:19] \"POST /live HTTP/1.1\" 200 -\n",
      "127.0.0.1 - - [23/Nov/2023 13:10:19] \"POST /live HTTP/1.1\" 200 -\n",
      "127.0.0.1 - - [23/Nov/2023 13:10:19] \"POST /live HTTP/1.1\" 200 -\n"
     ]
    },
    {
     "name": "stdout",
     "output_type": "stream",
     "text": [
      "YESSSSSS\n",
      "Loading Encode File ...\n",
      "Encode File Loaded\n",
      "YESSSSSS\n",
      "Loading Encode File ...\n",
      "Encode File Loaded\n",
      "YESSSSSS\n",
      "Loading Encode File ...\n",
      "Encode File Loaded\n",
      "YESSSSSS\n",
      "Loading Encode File ...\n",
      "Encode File Loaded\n"
     ]
    },
    {
     "name": "stderr",
     "output_type": "stream",
     "text": [
      "127.0.0.1 - - [23/Nov/2023 13:10:20] \"POST /live HTTP/1.1\" 200 -\n",
      "127.0.0.1 - - [23/Nov/2023 13:10:20] \"POST /live HTTP/1.1\" 200 -\n",
      "127.0.0.1 - - [23/Nov/2023 13:10:20] \"POST /live HTTP/1.1\" 200 -\n"
     ]
    },
    {
     "name": "stdout",
     "output_type": "stream",
     "text": [
      "YESSSSSS\n",
      "Loading Encode File ...\n",
      "Encode File Loaded\n",
      "YESSSSSS\n",
      "Loading Encode File ...\n",
      "Encode File Loaded\n",
      "YESSSSSS\n",
      "Loading Encode File ...\n",
      "Encode File Loaded\n",
      "YESSSSSS\n",
      "Loading Encode File ...\n",
      "Encode File Loaded\n"
     ]
    },
    {
     "name": "stderr",
     "output_type": "stream",
     "text": [
      "127.0.0.1 - - [23/Nov/2023 13:10:20] \"POST /live HTTP/1.1\" 200 -\n",
      "127.0.0.1 - - [23/Nov/2023 13:10:20] \"POST /live HTTP/1.1\" 200 -\n",
      "127.0.0.1 - - [23/Nov/2023 13:10:20] \"POST /live HTTP/1.1\" 200 -\n",
      "127.0.0.1 - - [23/Nov/2023 13:10:20] \"POST /live HTTP/1.1\" 200 -\n"
     ]
    },
    {
     "name": "stdout",
     "output_type": "stream",
     "text": [
      "YESSSSSS\n",
      "Loading Encode File ...\n",
      "Encode File Loaded\n",
      "YESSSSSS\n",
      "Loading Encode File ...\n",
      "Encode File Loaded\n",
      "YESSSSSS\n",
      "Loading Encode File ...\n",
      "Encode File Loaded\n",
      "YESSSSSS\n",
      "Loading Encode File ...\n",
      "Encode File Loaded\n"
     ]
    },
    {
     "name": "stderr",
     "output_type": "stream",
     "text": [
      "127.0.0.1 - - [23/Nov/2023 13:10:20] \"POST /live HTTP/1.1\" 200 -\n",
      "127.0.0.1 - - [23/Nov/2023 13:10:20] \"POST /live HTTP/1.1\" 200 -\n",
      "127.0.0.1 - - [23/Nov/2023 13:10:20] \"POST /live HTTP/1.1\" 200 -\n",
      "127.0.0.1 - - [23/Nov/2023 13:10:20] \"POST /live HTTP/1.1\" 200 -\n",
      "127.0.0.1 - - [23/Nov/2023 13:10:20] \"POST /live HTTP/1.1\" 200 -\n"
     ]
    },
    {
     "name": "stdout",
     "output_type": "stream",
     "text": [
      "YESSSSSS\n",
      "Loading Encode File ...\n",
      "Encode File Loaded\n",
      "YESSSSSS\n",
      "Loading Encode File ...\n",
      "Encode File Loaded\n",
      "YESSSSSS\n",
      "Loading Encode File ...\n",
      "Encode File Loaded\n",
      "YESSSSSS\n",
      "Loading Encode File ...\n",
      "Encode File Loaded\n"
     ]
    },
    {
     "name": "stderr",
     "output_type": "stream",
     "text": [
      "127.0.0.1 - - [23/Nov/2023 13:10:20] \"POST /live HTTP/1.1\" 200 -\n",
      "127.0.0.1 - - [23/Nov/2023 13:10:20] \"POST /live HTTP/1.1\" 200 -\n",
      "127.0.0.1 - - [23/Nov/2023 13:10:20] \"POST /live HTTP/1.1\" 200 -\n"
     ]
    },
    {
     "name": "stdout",
     "output_type": "stream",
     "text": [
      "YESSSSSS\n",
      "Loading Encode File ...\n",
      "Encode File Loaded\n",
      "YESSSSSS\n",
      "Loading Encode File ...\n",
      "Encode File Loaded\n",
      "YESSSSSS\n",
      "Loading Encode File ...\n",
      "Encode File Loaded\n",
      "YESSSSSS\n",
      "Loading Encode File ...\n",
      "Encode File Loaded\n"
     ]
    },
    {
     "name": "stderr",
     "output_type": "stream",
     "text": [
      "127.0.0.1 - - [23/Nov/2023 13:10:20] \"POST /live HTTP/1.1\" 200 -\n",
      "127.0.0.1 - - [23/Nov/2023 13:10:20] \"POST /live HTTP/1.1\" 200 -\n",
      "127.0.0.1 - - [23/Nov/2023 13:10:20] \"POST /live HTTP/1.1\" 200 -\n",
      "127.0.0.1 - - [23/Nov/2023 13:10:21] \"POST /live HTTP/1.1\" 200 -\n"
     ]
    },
    {
     "name": "stdout",
     "output_type": "stream",
     "text": [
      "YESSSSSS\n",
      "Loading Encode File ...\n",
      "Encode File Loaded\n",
      "YESSSSSS\n",
      "Loading Encode File ...\n",
      "Encode File Loaded\n",
      "YESSSSSS\n",
      "Loading Encode File ...\n",
      "Encode File Loaded\n",
      "YESSSSSS\n",
      "Loading Encode File ...\n",
      "Encode File Loaded\n"
     ]
    },
    {
     "name": "stderr",
     "output_type": "stream",
     "text": [
      "127.0.0.1 - - [23/Nov/2023 13:10:21] \"POST /live HTTP/1.1\" 200 -\n",
      "127.0.0.1 - - [23/Nov/2023 13:10:21] \"POST /live HTTP/1.1\" 200 -\n",
      "127.0.0.1 - - [23/Nov/2023 13:10:21] \"POST /live HTTP/1.1\" 200 -\n",
      "127.0.0.1 - - [23/Nov/2023 13:10:21] \"POST /live HTTP/1.1\" 200 -\n"
     ]
    },
    {
     "name": "stdout",
     "output_type": "stream",
     "text": [
      "YESSSSSS\n",
      "Loading Encode File ...\n",
      "Encode File Loaded\n",
      "YESSSSSS\n",
      "Loading Encode File ...\n",
      "Encode File Loaded\n",
      "YESSSSSS\n",
      "Loading Encode File ...\n",
      "Encode File Loaded\n",
      "YESSSSSS\n",
      "Loading Encode File ...\n",
      "Encode File Loaded\n"
     ]
    },
    {
     "name": "stderr",
     "output_type": "stream",
     "text": [
      "127.0.0.1 - - [23/Nov/2023 13:10:21] \"POST /live HTTP/1.1\" 200 -\n",
      "127.0.0.1 - - [23/Nov/2023 13:10:21] \"POST /live HTTP/1.1\" 200 -\n",
      "127.0.0.1 - - [23/Nov/2023 13:10:21] \"POST /live HTTP/1.1\" 200 -\n",
      "127.0.0.1 - - [23/Nov/2023 13:10:21] \"POST /live HTTP/1.1\" 200 -\n"
     ]
    },
    {
     "name": "stdout",
     "output_type": "stream",
     "text": [
      "YESSSSSS\n",
      "Loading Encode File ...\n",
      "Encode File Loaded\n",
      "YESSSSSS\n",
      "Loading Encode File ...\n",
      "Encode File Loaded\n",
      "YESSSSSS\n",
      "Loading Encode File ...\n",
      "Encode File Loaded\n",
      "YESSSSSS\n",
      "Loading Encode File ...\n",
      "Encode File Loaded\n"
     ]
    },
    {
     "name": "stderr",
     "output_type": "stream",
     "text": [
      "127.0.0.1 - - [23/Nov/2023 13:10:21] \"POST /live HTTP/1.1\" 200 -\n",
      "127.0.0.1 - - [23/Nov/2023 13:10:21] \"POST /live HTTP/1.1\" 200 -\n",
      "127.0.0.1 - - [23/Nov/2023 13:10:21] \"POST /live HTTP/1.1\" 200 -\n",
      "127.0.0.1 - - [23/Nov/2023 13:10:21] \"POST /live HTTP/1.1\" 200 -\n",
      "127.0.0.1 - - [23/Nov/2023 13:10:21] \"POST /live HTTP/1.1\" 200 -\n"
     ]
    },
    {
     "name": "stdout",
     "output_type": "stream",
     "text": [
      "YESSSSSS\n",
      "Loading Encode File ...\n",
      "Encode File Loaded\n",
      "YESSSSSS\n",
      "Loading Encode File ...\n",
      "Encode File Loaded\n",
      "YESSSSSS\n",
      "Loading Encode File ...\n",
      "Encode File Loaded\n",
      "YESSSSSS\n",
      "Loading Encode File ...\n",
      "Encode File Loaded\n"
     ]
    },
    {
     "name": "stderr",
     "output_type": "stream",
     "text": [
      "127.0.0.1 - - [23/Nov/2023 13:10:21] \"POST /live HTTP/1.1\" 200 -\n",
      "127.0.0.1 - - [23/Nov/2023 13:10:21] \"POST /live HTTP/1.1\" 200 -\n",
      "127.0.0.1 - - [23/Nov/2023 13:10:21] \"POST /live HTTP/1.1\" 200 -\n",
      "127.0.0.1 - - [23/Nov/2023 13:10:21] \"POST /live HTTP/1.1\" 200 -\n"
     ]
    },
    {
     "name": "stdout",
     "output_type": "stream",
     "text": [
      "YESSSSSS\n",
      "Loading Encode File ...\n",
      "Encode File Loaded\n",
      "YESSSSSS\n",
      "Loading Encode File ...\n",
      "Encode File Loaded\n",
      "YESSSSSS\n",
      "Loading Encode File ...\n",
      "Encode File Loaded\n",
      "YESSSSSS\n",
      "Loading Encode File ...\n",
      "Encode File Loaded\n"
     ]
    },
    {
     "name": "stderr",
     "output_type": "stream",
     "text": [
      "127.0.0.1 - - [23/Nov/2023 13:10:21] \"POST /live HTTP/1.1\" 200 -\n",
      "127.0.0.1 - - [23/Nov/2023 13:10:22] \"POST /live HTTP/1.1\" 200 -\n",
      "127.0.0.1 - - [23/Nov/2023 13:10:22] \"POST /live HTTP/1.1\" 200 -\n"
     ]
    },
    {
     "name": "stdout",
     "output_type": "stream",
     "text": [
      "YESSSSSS\n",
      "Loading Encode File ...\n",
      "Encode File Loaded\n",
      "YESSSSSS\n",
      "Loading Encode File ...\n",
      "Encode File Loaded\n",
      "YESSSSSS\n",
      "Loading Encode File ...\n",
      "Encode File Loaded\n",
      "YESSSSSS\n",
      "Loading Encode File ...\n",
      "Encode File Loaded\n"
     ]
    },
    {
     "name": "stderr",
     "output_type": "stream",
     "text": [
      "127.0.0.1 - - [23/Nov/2023 13:10:22] \"POST /live HTTP/1.1\" 200 -\n",
      "127.0.0.1 - - [23/Nov/2023 13:10:22] \"POST /live HTTP/1.1\" 200 -\n",
      "127.0.0.1 - - [23/Nov/2023 13:10:22] \"POST /live HTTP/1.1\" 200 -\n",
      "127.0.0.1 - - [23/Nov/2023 13:10:22] \"POST /live HTTP/1.1\" 200 -\n"
     ]
    },
    {
     "name": "stdout",
     "output_type": "stream",
     "text": [
      "YESSSSSS\n",
      "Loading Encode File ...\n",
      "Encode File Loaded\n",
      "YESSSSSS\n",
      "Loading Encode File ...\n",
      "Encode File Loaded\n",
      "YESSSSSS\n",
      "Loading Encode File ...\n",
      "Encode File Loaded\n",
      "YESSSSSS\n",
      "Loading Encode File ...\n",
      "Encode File Loaded\n"
     ]
    },
    {
     "name": "stderr",
     "output_type": "stream",
     "text": [
      "127.0.0.1 - - [23/Nov/2023 13:10:22] \"POST /live HTTP/1.1\" 200 -\n",
      "127.0.0.1 - - [23/Nov/2023 13:10:22] \"POST /live HTTP/1.1\" 200 -\n",
      "127.0.0.1 - - [23/Nov/2023 13:10:22] \"POST /live HTTP/1.1\" 200 -\n",
      "127.0.0.1 - - [23/Nov/2023 13:10:22] \"POST /live HTTP/1.1\" 200 -\n",
      "127.0.0.1 - - [23/Nov/2023 13:10:22] \"POST /live HTTP/1.1\" 200 -\n"
     ]
    },
    {
     "name": "stdout",
     "output_type": "stream",
     "text": [
      "YESSSSSS\n",
      "Loading Encode File ...\n",
      "Encode File Loaded\n",
      "YESSSSSS\n",
      "Loading Encode File ...\n",
      "Encode File Loaded\n",
      "YESSSSSS\n",
      "Loading Encode File ...\n",
      "Encode File Loaded\n",
      "YESSSSSS\n",
      "Loading Encode File ...\n",
      "Encode File Loaded\n"
     ]
    },
    {
     "name": "stderr",
     "output_type": "stream",
     "text": [
      "127.0.0.1 - - [23/Nov/2023 13:10:22] \"POST /live HTTP/1.1\" 200 -\n",
      "127.0.0.1 - - [23/Nov/2023 13:10:22] \"POST /live HTTP/1.1\" 200 -\n",
      "127.0.0.1 - - [23/Nov/2023 13:10:22] \"POST /live HTTP/1.1\" 200 -\n"
     ]
    },
    {
     "name": "stdout",
     "output_type": "stream",
     "text": [
      "YESSSSSS\n",
      "Loading Encode File ...\n",
      "Encode File Loaded\n",
      "YESSSSSS\n",
      "Loading Encode File ...\n",
      "Encode File Loaded\n",
      "YESSSSSS\n",
      "Loading Encode File ...\n",
      "Encode File Loaded\n",
      "YESSSSSS\n",
      "Loading Encode File ...\n",
      "Encode File Loaded\n"
     ]
    },
    {
     "name": "stderr",
     "output_type": "stream",
     "text": [
      "127.0.0.1 - - [23/Nov/2023 13:10:22] \"POST /live HTTP/1.1\" 200 -\n",
      "127.0.0.1 - - [23/Nov/2023 13:10:22] \"POST /live HTTP/1.1\" 200 -\n",
      "127.0.0.1 - - [23/Nov/2023 13:10:22] \"POST /live HTTP/1.1\" 200 -\n",
      "127.0.0.1 - - [23/Nov/2023 13:10:22] \"POST /live HTTP/1.1\" 200 -\n"
     ]
    },
    {
     "name": "stdout",
     "output_type": "stream",
     "text": [
      "YESSSSSS\n",
      "Loading Encode File ...\n",
      "Encode File Loaded\n",
      "YESSSSSS\n",
      "Loading Encode File ...\n",
      "Encode File Loaded\n",
      "YESSSSSS\n",
      "Loading Encode File ...\n",
      "Encode File Loaded\n",
      "YESSSSSS\n",
      "Loading Encode File ...\n",
      "Encode File Loaded\n"
     ]
    },
    {
     "name": "stderr",
     "output_type": "stream",
     "text": [
      "127.0.0.1 - - [23/Nov/2023 13:10:22] \"POST /live HTTP/1.1\" 200 -\n",
      "127.0.0.1 - - [23/Nov/2023 13:10:23] \"POST /live HTTP/1.1\" 200 -\n",
      "127.0.0.1 - - [23/Nov/2023 13:10:23] \"POST /live HTTP/1.1\" 200 -\n",
      "127.0.0.1 - - [23/Nov/2023 13:10:23] \"POST /live HTTP/1.1\" 200 -\n",
      "127.0.0.1 - - [23/Nov/2023 13:10:23] \"POST /live HTTP/1.1\" 200 -\n"
     ]
    },
    {
     "name": "stdout",
     "output_type": "stream",
     "text": [
      "YESSSSSS\n",
      "Loading Encode File ...\n",
      "Encode File Loaded\n",
      "YESSSSSS\n",
      "Loading Encode File ...\n",
      "Encode File Loaded\n",
      "YESSSSSS\n",
      "Loading Encode File ...\n",
      "Encode File Loaded\n",
      "YESSSSSS\n",
      "Loading Encode File ...\n",
      "Encode File Loaded\n"
     ]
    },
    {
     "name": "stderr",
     "output_type": "stream",
     "text": [
      "127.0.0.1 - - [23/Nov/2023 13:10:23] \"POST /live HTTP/1.1\" 200 -\n",
      "127.0.0.1 - - [23/Nov/2023 13:10:23] \"POST /live HTTP/1.1\" 200 -\n",
      "127.0.0.1 - - [23/Nov/2023 13:10:23] \"POST /live HTTP/1.1\" 200 -\n"
     ]
    },
    {
     "name": "stdout",
     "output_type": "stream",
     "text": [
      "YESSSSSS\n",
      "Loading Encode File ...\n",
      "Encode File Loaded\n",
      "YESSSSSS\n",
      "Loading Encode File ...\n",
      "Encode File Loaded\n",
      "YESSSSSS\n",
      "Loading Encode File ...\n",
      "Encode File Loaded\n",
      "YESSSSSS\n",
      "Loading Encode File ...\n",
      "Encode File Loaded\n"
     ]
    },
    {
     "name": "stderr",
     "output_type": "stream",
     "text": [
      "127.0.0.1 - - [23/Nov/2023 13:10:23] \"POST /live HTTP/1.1\" 200 -\n",
      "127.0.0.1 - - [23/Nov/2023 13:10:23] \"POST /live HTTP/1.1\" 200 -\n",
      "127.0.0.1 - - [23/Nov/2023 13:10:23] \"POST /live HTTP/1.1\" 200 -\n",
      "127.0.0.1 - - [23/Nov/2023 13:10:23] \"POST /live HTTP/1.1\" 200 -\n"
     ]
    },
    {
     "name": "stdout",
     "output_type": "stream",
     "text": [
      "YESSSSSS\n",
      "Loading Encode File ...\n",
      "Encode File Loaded\n",
      "YESSSSSS\n",
      "Loading Encode File ...\n",
      "Encode File Loaded\n",
      "YESSSSSS\n",
      "Loading Encode File ...\n",
      "Encode File Loaded\n",
      "YESSSSSS\n",
      "Loading Encode File ...\n",
      "Encode File Loaded\n"
     ]
    },
    {
     "name": "stderr",
     "output_type": "stream",
     "text": [
      "127.0.0.1 - - [23/Nov/2023 13:10:23] \"POST /live HTTP/1.1\" 200 -\n",
      "127.0.0.1 - - [23/Nov/2023 13:10:23] \"POST /live HTTP/1.1\" 200 -\n",
      "127.0.0.1 - - [23/Nov/2023 13:10:23] \"POST /live HTTP/1.1\" 200 -\n",
      "127.0.0.1 - - [23/Nov/2023 13:10:23] \"POST /live HTTP/1.1\" 200 -\n",
      "127.0.0.1 - - [23/Nov/2023 13:10:23] \"POST /live HTTP/1.1\" 200 -\n"
     ]
    },
    {
     "name": "stdout",
     "output_type": "stream",
     "text": [
      "YESSSSSS\n",
      "Loading Encode File ...\n",
      "Encode File Loaded\n",
      "YESSSSSS\n",
      "Loading Encode File ...\n",
      "Encode File Loaded\n",
      "YESSSSSS\n",
      "Loading Encode File ...\n",
      "Encode File Loaded\n",
      "YESSSSSS\n",
      "Loading Encode File ...\n",
      "Encode File Loaded\n",
      "YESSSSSS\n",
      "Loading Encode File ...\n",
      "Encode File Loaded\n"
     ]
    },
    {
     "name": "stderr",
     "output_type": "stream",
     "text": [
      "127.0.0.1 - - [23/Nov/2023 13:10:23] \"POST /live HTTP/1.1\" 200 -\n",
      "127.0.0.1 - - [23/Nov/2023 13:10:23] \"POST /live HTTP/1.1\" 200 -\n",
      "127.0.0.1 - - [23/Nov/2023 13:10:24] \"POST /live HTTP/1.1\" 200 -\n",
      "127.0.0.1 - - [23/Nov/2023 13:10:24] \"POST /live HTTP/1.1\" 200 -\n"
     ]
    },
    {
     "name": "stdout",
     "output_type": "stream",
     "text": [
      "YESSSSSS\n",
      "Loading Encode File ...\n",
      "Encode File Loaded\n",
      "YESSSSSS\n",
      "Loading Encode File ...\n",
      "Encode File Loaded\n",
      "YESSSSSS\n",
      "Loading Encode File ...\n",
      "Encode File Loaded\n",
      "YESSSSSS\n",
      "Loading Encode File ...\n",
      "Encode File Loaded\n"
     ]
    },
    {
     "name": "stderr",
     "output_type": "stream",
     "text": [
      "127.0.0.1 - - [23/Nov/2023 13:10:24] \"POST /live HTTP/1.1\" 200 -\n",
      "127.0.0.1 - - [23/Nov/2023 13:10:24] \"POST /live HTTP/1.1\" 200 -\n",
      "127.0.0.1 - - [23/Nov/2023 13:10:24] \"POST /live HTTP/1.1\" 200 -\n",
      "127.0.0.1 - - [23/Nov/2023 13:10:24] \"POST /live HTTP/1.1\" 200 -\n",
      "127.0.0.1 - - [23/Nov/2023 13:10:24] \"POST /live HTTP/1.1\" 200 -\n"
     ]
    },
    {
     "name": "stdout",
     "output_type": "stream",
     "text": [
      "YESSSSSS\n",
      "Loading Encode File ...\n",
      "Encode File Loaded\n",
      "YESSSSSS\n",
      "Loading Encode File ...\n",
      "Encode File Loaded\n",
      "YESSSSSS\n",
      "Loading Encode File ...\n",
      "Encode File Loaded\n",
      "YESSSSSS\n",
      "Loading Encode File ...\n",
      "Encode File Loaded\n"
     ]
    },
    {
     "name": "stderr",
     "output_type": "stream",
     "text": [
      "127.0.0.1 - - [23/Nov/2023 13:10:24] \"POST /live HTTP/1.1\" 200 -\n",
      "127.0.0.1 - - [23/Nov/2023 13:10:24] \"POST /live HTTP/1.1\" 200 -\n",
      "127.0.0.1 - - [23/Nov/2023 13:10:24] \"POST /live HTTP/1.1\" 200 -\n",
      "127.0.0.1 - - [23/Nov/2023 13:10:24] \"POST /live HTTP/1.1\" 200 -\n"
     ]
    },
    {
     "name": "stdout",
     "output_type": "stream",
     "text": [
      "YESSSSSS\n",
      "Loading Encode File ...\n",
      "Encode File Loaded\n",
      "YESSSSSS\n",
      "Loading Encode File ...\n",
      "Encode File Loaded\n",
      "YESSSSSS\n",
      "Loading Encode File ...\n",
      "Encode File Loaded\n",
      "YESSSSSS\n",
      "Loading Encode File ...\n",
      "Encode File Loaded\n"
     ]
    },
    {
     "name": "stderr",
     "output_type": "stream",
     "text": [
      "127.0.0.1 - - [23/Nov/2023 13:10:24] \"POST /live HTTP/1.1\" 200 -\n",
      "127.0.0.1 - - [23/Nov/2023 13:10:24] \"POST /live HTTP/1.1\" 200 -\n",
      "127.0.0.1 - - [23/Nov/2023 13:10:24] \"POST /live HTTP/1.1\" 200 -\n"
     ]
    },
    {
     "name": "stdout",
     "output_type": "stream",
     "text": [
      "YESSSSSS\n",
      "Loading Encode File ...\n",
      "Encode File Loaded\n",
      "YESSSSSS\n",
      "Loading Encode File ...\n",
      "Encode File Loaded\n",
      "YESSSSSS\n",
      "Loading Encode File ...\n",
      "Encode File Loaded\n",
      "YESSSSSS\n",
      "Loading Encode File ...\n",
      "Encode File Loaded\n"
     ]
    },
    {
     "name": "stderr",
     "output_type": "stream",
     "text": [
      "127.0.0.1 - - [23/Nov/2023 13:10:24] \"POST /live HTTP/1.1\" 200 -\n",
      "127.0.0.1 - - [23/Nov/2023 13:10:24] \"POST /live HTTP/1.1\" 200 -\n",
      "127.0.0.1 - - [23/Nov/2023 13:10:24] \"POST /live HTTP/1.1\" 200 -\n",
      "127.0.0.1 - - [23/Nov/2023 13:10:24] \"POST /live HTTP/1.1\" 200 -\n",
      "127.0.0.1 - - [23/Nov/2023 13:10:24] \"POST /live HTTP/1.1\" 200 -\n"
     ]
    },
    {
     "name": "stdout",
     "output_type": "stream",
     "text": [
      "YESSSSSS\n",
      "Loading Encode File ...\n",
      "Encode File Loaded\n",
      "YESSSSSS\n",
      "Loading Encode File ...\n",
      "Encode File Loaded\n",
      "YESSSSSS\n",
      "Loading Encode File ...\n",
      "Encode File Loaded\n",
      "YESSSSSS\n",
      "Loading Encode File ...\n",
      "Encode File Loaded\n"
     ]
    },
    {
     "name": "stderr",
     "output_type": "stream",
     "text": [
      "127.0.0.1 - - [23/Nov/2023 13:10:25] \"POST /live HTTP/1.1\" 200 -\n",
      "127.0.0.1 - - [23/Nov/2023 13:10:25] \"POST /live HTTP/1.1\" 200 -\n",
      "127.0.0.1 - - [23/Nov/2023 13:10:25] \"POST /live HTTP/1.1\" 200 -\n",
      "127.0.0.1 - - [23/Nov/2023 13:10:25] \"POST /live HTTP/1.1\" 200 -\n"
     ]
    },
    {
     "name": "stdout",
     "output_type": "stream",
     "text": [
      "YESSSSSS\n",
      "Loading Encode File ...\n",
      "Encode File Loaded\n",
      "YESSSSSS\n",
      "Loading Encode File ...\n",
      "Encode File Loaded\n",
      "YESSSSSS\n",
      "Loading Encode File ...\n",
      "Encode File Loaded\n",
      "YESSSSSS\n",
      "Loading Encode File ...\n",
      "Encode File Loaded\n"
     ]
    },
    {
     "name": "stderr",
     "output_type": "stream",
     "text": [
      "127.0.0.1 - - [23/Nov/2023 13:10:25] \"POST /live HTTP/1.1\" 200 -\n",
      "127.0.0.1 - - [23/Nov/2023 13:10:25] \"POST /live HTTP/1.1\" 200 -\n",
      "127.0.0.1 - - [23/Nov/2023 13:10:25] \"POST /live HTTP/1.1\" 200 -\n",
      "127.0.0.1 - - [23/Nov/2023 13:10:25] \"POST /live HTTP/1.1\" 200 -\n"
     ]
    },
    {
     "name": "stdout",
     "output_type": "stream",
     "text": [
      "YESSSSSS\n",
      "Loading Encode File ...\n",
      "Encode File Loaded\n",
      "YESSSSSS\n",
      "Loading Encode File ...\n",
      "Encode File Loaded\n",
      "YESSSSSS\n",
      "Loading Encode File ...\n",
      "Encode File Loaded\n",
      "YESSSSSS\n",
      "Loading Encode File ...\n",
      "Encode File Loaded\n"
     ]
    },
    {
     "name": "stderr",
     "output_type": "stream",
     "text": [
      "127.0.0.1 - - [23/Nov/2023 13:10:25] \"POST /live HTTP/1.1\" 200 -\n",
      "127.0.0.1 - - [23/Nov/2023 13:10:25] \"POST /live HTTP/1.1\" 200 -\n",
      "127.0.0.1 - - [23/Nov/2023 13:10:25] \"POST /live HTTP/1.1\" 200 -\n",
      "127.0.0.1 - - [23/Nov/2023 13:10:25] \"POST /live HTTP/1.1\" 200 -\n"
     ]
    },
    {
     "name": "stdout",
     "output_type": "stream",
     "text": [
      "YESSSSSS\n",
      "Loading Encode File ...\n",
      "Encode File Loaded\n",
      "YESSSSSS\n",
      "Loading Encode File ...\n",
      "Encode File Loaded\n",
      "YESSSSSS\n",
      "Loading Encode File ...\n",
      "Encode File Loaded\n",
      "YESSSSSS\n",
      "Loading Encode File ...\n",
      "Encode File Loaded\n"
     ]
    },
    {
     "name": "stderr",
     "output_type": "stream",
     "text": [
      "127.0.0.1 - - [23/Nov/2023 13:10:25] \"POST /live HTTP/1.1\" 200 -\n",
      "127.0.0.1 - - [23/Nov/2023 13:10:25] \"POST /live HTTP/1.1\" 200 -\n",
      "127.0.0.1 - - [23/Nov/2023 13:10:25] \"POST /live HTTP/1.1\" 200 -\n"
     ]
    },
    {
     "name": "stdout",
     "output_type": "stream",
     "text": [
      "YESSSSSS\n",
      "Loading Encode File ...\n",
      "Encode File Loaded\n",
      "YESSSSSS\n",
      "Loading Encode File ...\n",
      "Encode File Loaded\n",
      "YESSSSSS\n",
      "Loading Encode File ...\n",
      "Encode File Loaded\n",
      "YESSSSSS\n",
      "Loading Encode File ...\n",
      "Encode File Loaded\n"
     ]
    },
    {
     "name": "stderr",
     "output_type": "stream",
     "text": [
      "127.0.0.1 - - [23/Nov/2023 13:10:25] \"POST /live HTTP/1.1\" 200 -\n",
      "127.0.0.1 - - [23/Nov/2023 13:10:25] \"POST /live HTTP/1.1\" 200 -\n",
      "127.0.0.1 - - [23/Nov/2023 13:10:25] \"POST /live HTTP/1.1\" 200 -\n",
      "127.0.0.1 - - [23/Nov/2023 13:10:25] \"POST /live HTTP/1.1\" 200 -\n"
     ]
    },
    {
     "name": "stdout",
     "output_type": "stream",
     "text": [
      "YESSSSSS\n",
      "Loading Encode File ...\n",
      "Encode File Loaded\n",
      "YESSSSSS\n",
      "Loading Encode File ...\n",
      "Encode File Loaded\n",
      "YESSSSSS\n",
      "Loading Encode File ...\n",
      "Encode File Loaded\n",
      "YESSSSSS\n",
      "Loading Encode File ...\n",
      "Encode File Loaded\n"
     ]
    },
    {
     "name": "stderr",
     "output_type": "stream",
     "text": [
      "127.0.0.1 - - [23/Nov/2023 13:10:26] \"POST /live HTTP/1.1\" 200 -\n",
      "127.0.0.1 - - [23/Nov/2023 13:10:26] \"POST /live HTTP/1.1\" 200 -\n",
      "127.0.0.1 - - [23/Nov/2023 13:10:26] \"POST /live HTTP/1.1\" 200 -\n",
      "127.0.0.1 - - [23/Nov/2023 13:10:26] \"POST /live HTTP/1.1\" 200 -\n"
     ]
    },
    {
     "name": "stdout",
     "output_type": "stream",
     "text": [
      "YESSSSSS\n",
      "Loading Encode File ...\n",
      "Encode File Loaded\n",
      "YESSSSSS\n",
      "Loading Encode File ...\n",
      "Encode File Loaded\n",
      "YESSSSSS\n",
      "Loading Encode File ...\n",
      "Encode File Loaded\n",
      "YESSSSSS\n",
      "Loading Encode File ...\n",
      "Encode File Loaded\n"
     ]
    },
    {
     "name": "stderr",
     "output_type": "stream",
     "text": [
      "127.0.0.1 - - [23/Nov/2023 13:10:26] \"POST /live HTTP/1.1\" 200 -\n",
      "127.0.0.1 - - [23/Nov/2023 13:10:26] \"POST /live HTTP/1.1\" 200 -\n",
      "127.0.0.1 - - [23/Nov/2023 13:10:26] \"POST /live HTTP/1.1\" 200 -\n",
      "127.0.0.1 - - [23/Nov/2023 13:10:26] \"POST /live HTTP/1.1\" 200 -\n"
     ]
    },
    {
     "name": "stdout",
     "output_type": "stream",
     "text": [
      "YESSSSSS\n",
      "Loading Encode File ...\n",
      "Encode File Loaded\n",
      "YESSSSSS\n",
      "Loading Encode File ...\n",
      "Encode File Loaded\n",
      "YESSSSSS\n",
      "Loading Encode File ...\n",
      "Encode File Loaded\n",
      "YESSSSSS\n",
      "Loading Encode File ...\n",
      "Encode File Loaded\n"
     ]
    },
    {
     "name": "stderr",
     "output_type": "stream",
     "text": [
      "127.0.0.1 - - [23/Nov/2023 13:10:26] \"POST /live HTTP/1.1\" 200 -\n",
      "127.0.0.1 - - [23/Nov/2023 13:10:26] \"POST /live HTTP/1.1\" 200 -\n",
      "127.0.0.1 - - [23/Nov/2023 13:10:26] \"POST /live HTTP/1.1\" 200 -\n",
      "127.0.0.1 - - [23/Nov/2023 13:10:26] \"POST /live HTTP/1.1\" 200 -\n",
      "127.0.0.1 - - [23/Nov/2023 13:10:26] \"POST /live HTTP/1.1\" 200 -\n"
     ]
    },
    {
     "name": "stdout",
     "output_type": "stream",
     "text": [
      "YESSSSSS\n",
      "Loading Encode File ...\n",
      "Encode File Loaded\n",
      "YESSSSSS\n",
      "Loading Encode File ...\n",
      "Encode File Loaded\n",
      "YESSSSSS\n",
      "Loading Encode File ...\n",
      "Encode File Loaded\n",
      "YESSSSSS\n",
      "Loading Encode File ...\n",
      "Encode File Loaded\n"
     ]
    },
    {
     "name": "stderr",
     "output_type": "stream",
     "text": [
      "127.0.0.1 - - [23/Nov/2023 13:10:26] \"POST /live HTTP/1.1\" 200 -\n",
      "127.0.0.1 - - [23/Nov/2023 13:10:26] \"POST /live HTTP/1.1\" 200 -\n",
      "127.0.0.1 - - [23/Nov/2023 13:10:26] \"POST /live HTTP/1.1\" 200 -\n"
     ]
    },
    {
     "name": "stdout",
     "output_type": "stream",
     "text": [
      "YESSSSSS\n",
      "Loading Encode File ...\n",
      "Encode File Loaded\n",
      "YESSSSSS\n",
      "Loading Encode File ...\n",
      "Encode File Loaded\n",
      "YESSSSSS\n",
      "Loading Encode File ...\n",
      "Encode File Loaded\n",
      "YESSSSSS\n",
      "Loading Encode File ...\n",
      "Encode File Loaded\n"
     ]
    },
    {
     "name": "stderr",
     "output_type": "stream",
     "text": [
      "127.0.0.1 - - [23/Nov/2023 13:10:26] \"POST /live HTTP/1.1\" 200 -\n",
      "127.0.0.1 - - [23/Nov/2023 13:10:26] \"POST /live HTTP/1.1\" 200 -\n",
      "127.0.0.1 - - [23/Nov/2023 13:10:26] \"POST /live HTTP/1.1\" 200 -\n",
      "127.0.0.1 - - [23/Nov/2023 13:10:26] \"POST /live HTTP/1.1\" 200 -\n",
      "127.0.0.1 - - [23/Nov/2023 13:10:27] \"POST /live HTTP/1.1\" 200 -\n"
     ]
    },
    {
     "name": "stdout",
     "output_type": "stream",
     "text": [
      "YESSSSSS\n",
      "Loading Encode File ...\n",
      "Encode File Loaded\n",
      "YESSSSSS\n",
      "Loading Encode File ...\n",
      "Encode File Loaded\n",
      "YESSSSSS\n",
      "Loading Encode File ...\n",
      "Encode File Loaded\n",
      "YESSSSSS\n",
      "Loading Encode File ...\n",
      "Encode File Loaded\n",
      "YESSSSSS\n",
      "Loading Encode File ...\n",
      "Encode File Loaded\n"
     ]
    },
    {
     "name": "stderr",
     "output_type": "stream",
     "text": [
      "127.0.0.1 - - [23/Nov/2023 13:10:27] \"POST /live HTTP/1.1\" 200 -\n",
      "127.0.0.1 - - [23/Nov/2023 13:10:27] \"POST /live HTTP/1.1\" 200 -\n",
      "127.0.0.1 - - [23/Nov/2023 13:10:27] \"POST /live HTTP/1.1\" 200 -\n",
      "127.0.0.1 - - [23/Nov/2023 13:10:27] \"POST /live HTTP/1.1\" 200 -\n",
      "127.0.0.1 - - [23/Nov/2023 13:10:27] \"POST /live HTTP/1.1\" 200 -\n"
     ]
    },
    {
     "name": "stdout",
     "output_type": "stream",
     "text": [
      "YESSSSSS\n",
      "Loading Encode File ...\n",
      "Encode File Loaded\n",
      "YESSSSSS\n",
      "Loading Encode File ...\n",
      "Encode File Loaded\n",
      "YESSSSSS\n",
      "Loading Encode File ...\n",
      "Encode File Loaded\n",
      "YESSSSSS\n",
      "Loading Encode File ...\n",
      "Encode File Loaded\n"
     ]
    },
    {
     "name": "stderr",
     "output_type": "stream",
     "text": [
      "127.0.0.1 - - [23/Nov/2023 13:10:27] \"POST /live HTTP/1.1\" 200 -\n",
      "127.0.0.1 - - [23/Nov/2023 13:10:27] \"POST /live HTTP/1.1\" 200 -\n",
      "127.0.0.1 - - [23/Nov/2023 13:10:27] \"POST /live HTTP/1.1\" 200 -\n"
     ]
    },
    {
     "name": "stdout",
     "output_type": "stream",
     "text": [
      "YESSSSSS\n",
      "Loading Encode File ...\n",
      "Encode File Loaded\n",
      "YESSSSSS\n",
      "Loading Encode File ...\n",
      "Encode File Loaded\n",
      "YESSSSSS\n",
      "Loading Encode File ...\n",
      "Encode File Loaded\n",
      "YESSSSSS\n",
      "Loading Encode File ...\n",
      "Encode File Loaded\n"
     ]
    },
    {
     "name": "stderr",
     "output_type": "stream",
     "text": [
      "127.0.0.1 - - [23/Nov/2023 13:10:27] \"POST /live HTTP/1.1\" 200 -\n",
      "127.0.0.1 - - [23/Nov/2023 13:10:27] \"POST /live HTTP/1.1\" 200 -\n",
      "127.0.0.1 - - [23/Nov/2023 13:10:27] \"POST /live HTTP/1.1\" 200 -\n",
      "127.0.0.1 - - [23/Nov/2023 13:10:27] \"POST /live HTTP/1.1\" 200 -\n"
     ]
    },
    {
     "name": "stdout",
     "output_type": "stream",
     "text": [
      "YESSSSSS\n",
      "Loading Encode File ...\n",
      "Encode File Loaded\n",
      "YESSSSSS\n",
      "Loading Encode File ...\n",
      "Encode File Loaded\n",
      "YESSSSSS\n",
      "Loading Encode File ...\n",
      "Encode File Loaded\n",
      "YESSSSSS\n",
      "Loading Encode File ...\n",
      "Encode File Loaded\n"
     ]
    },
    {
     "name": "stderr",
     "output_type": "stream",
     "text": [
      "127.0.0.1 - - [23/Nov/2023 13:10:27] \"POST /live HTTP/1.1\" 200 -\n",
      "127.0.0.1 - - [23/Nov/2023 13:10:27] \"POST /live HTTP/1.1\" 200 -\n",
      "127.0.0.1 - - [23/Nov/2023 13:10:27] \"POST /live HTTP/1.1\" 200 -\n",
      "127.0.0.1 - - [23/Nov/2023 13:10:27] \"POST /live HTTP/1.1\" 200 -\n",
      "127.0.0.1 - - [23/Nov/2023 13:10:27] \"POST /live HTTP/1.1\" 200 -\n"
     ]
    },
    {
     "name": "stdout",
     "output_type": "stream",
     "text": [
      "YESSSSSS\n",
      "Loading Encode File ...\n",
      "Encode File Loaded\n",
      "YESSSSSS\n",
      "Loading Encode File ...\n",
      "Encode File Loaded\n",
      "YESSSSSS\n",
      "Loading Encode File ...\n",
      "Encode File Loaded\n",
      "YESSSSSS\n",
      "Loading Encode File ...\n",
      "Encode File Loaded\n",
      "YESSSSSS\n",
      "Loading Encode File ...\n",
      "Encode File Loaded\n"
     ]
    },
    {
     "name": "stderr",
     "output_type": "stream",
     "text": [
      "127.0.0.1 - - [23/Nov/2023 13:10:27] \"POST /live HTTP/1.1\" 200 -\n",
      "127.0.0.1 - - [23/Nov/2023 13:10:28] \"POST /live HTTP/1.1\" 200 -\n",
      "127.0.0.1 - - [23/Nov/2023 13:10:28] \"POST /live HTTP/1.1\" 200 -\n",
      "127.0.0.1 - - [23/Nov/2023 13:10:28] \"POST /live HTTP/1.1\" 200 -\n"
     ]
    },
    {
     "name": "stdout",
     "output_type": "stream",
     "text": [
      "YESSSSSS\n",
      "Loading Encode File ...\n",
      "Encode File Loaded\n",
      "YESSSSSS\n",
      "Loading Encode File ...\n",
      "Encode File Loaded\n",
      "YESSSSSS\n",
      "Loading Encode File ...\n",
      "Encode File Loaded\n",
      "YESSSSSS\n",
      "Loading Encode File ...\n",
      "Encode File Loaded\n"
     ]
    },
    {
     "name": "stderr",
     "output_type": "stream",
     "text": [
      "127.0.0.1 - - [23/Nov/2023 13:10:28] \"POST /live HTTP/1.1\" 200 -\n",
      "127.0.0.1 - - [23/Nov/2023 13:10:28] \"POST /live HTTP/1.1\" 200 -\n",
      "127.0.0.1 - - [23/Nov/2023 13:10:28] \"POST /live HTTP/1.1\" 200 -\n",
      "127.0.0.1 - - [23/Nov/2023 13:10:28] \"POST /live HTTP/1.1\" 200 -\n",
      "127.0.0.1 - - [23/Nov/2023 13:10:28] \"POST /live HTTP/1.1\" 200 -\n"
     ]
    },
    {
     "name": "stdout",
     "output_type": "stream",
     "text": [
      "YESSSSSS\n",
      "Loading Encode File ...\n",
      "Encode File Loaded\n",
      "YESSSSSS\n",
      "Loading Encode File ...\n",
      "Encode File Loaded\n",
      "YESSSSSS\n",
      "Loading Encode File ...\n",
      "Encode File Loaded\n",
      "YESSSSSS\n",
      "Loading Encode File ...\n",
      "Encode File Loaded\n"
     ]
    },
    {
     "name": "stderr",
     "output_type": "stream",
     "text": [
      "127.0.0.1 - - [23/Nov/2023 13:10:28] \"POST /live HTTP/1.1\" 200 -\n",
      "127.0.0.1 - - [23/Nov/2023 13:10:28] \"POST /live HTTP/1.1\" 200 -\n",
      "127.0.0.1 - - [23/Nov/2023 13:10:28] \"POST /live HTTP/1.1\" 200 -\n",
      "127.0.0.1 - - [23/Nov/2023 13:10:28] \"POST /live HTTP/1.1\" 200 -\n"
     ]
    },
    {
     "name": "stdout",
     "output_type": "stream",
     "text": [
      "YESSSSSS\n",
      "Loading Encode File ...\n",
      "Encode File Loaded\n",
      "YESSSSSS\n",
      "Loading Encode File ...\n",
      "Encode File Loaded\n",
      "YESSSSSS\n",
      "Loading Encode File ...\n",
      "Encode File Loaded\n",
      "YESSSSSS\n",
      "Loading Encode File ...\n",
      "Encode File Loaded\n",
      "YESSSSSS\n",
      "Loading Encode File ...\n",
      "Encode File Loaded\n"
     ]
    },
    {
     "name": "stderr",
     "output_type": "stream",
     "text": [
      "127.0.0.1 - - [23/Nov/2023 13:10:28] \"POST /live HTTP/1.1\" 200 -\n",
      "127.0.0.1 - - [23/Nov/2023 13:10:28] \"POST /live HTTP/1.1\" 200 -\n",
      "127.0.0.1 - - [23/Nov/2023 13:10:28] \"POST /live HTTP/1.1\" 200 -\n",
      "127.0.0.1 - - [23/Nov/2023 13:10:28] \"POST /live HTTP/1.1\" 200 -\n",
      "127.0.0.1 - - [23/Nov/2023 13:10:28] \"POST /live HTTP/1.1\" 200 -\n"
     ]
    },
    {
     "name": "stdout",
     "output_type": "stream",
     "text": [
      "YESSSSSS\n",
      "Loading Encode File ...\n",
      "Encode File Loaded\n",
      "YESSSSSS\n",
      "Loading Encode File ...\n",
      "Encode File Loaded\n",
      "YESSSSSS\n",
      "Loading Encode File ...\n",
      "Encode File Loaded\n",
      "YESSSSSS\n",
      "Loading Encode File ...\n",
      "Encode File Loaded\n"
     ]
    },
    {
     "name": "stderr",
     "output_type": "stream",
     "text": [
      "127.0.0.1 - - [23/Nov/2023 13:10:28] \"POST /live HTTP/1.1\" 200 -\n",
      "127.0.0.1 - - [23/Nov/2023 13:10:28] \"POST /live HTTP/1.1\" 200 -\n",
      "127.0.0.1 - - [23/Nov/2023 13:10:29] \"POST /live HTTP/1.1\" 200 -\n"
     ]
    },
    {
     "name": "stdout",
     "output_type": "stream",
     "text": [
      "YESSSSSS\n",
      "Loading Encode File ...\n",
      "Encode File Loaded\n",
      "YESSSSSS\n",
      "Loading Encode File ...\n",
      "Encode File Loaded\n",
      "YESSSSSS\n",
      "Loading Encode File ...\n",
      "Encode File Loaded\n",
      "YESSSSSS\n",
      "Loading Encode File ...\n",
      "Encode File Loaded\n"
     ]
    },
    {
     "name": "stderr",
     "output_type": "stream",
     "text": [
      "127.0.0.1 - - [23/Nov/2023 13:10:29] \"POST /live HTTP/1.1\" 200 -\n",
      "127.0.0.1 - - [23/Nov/2023 13:10:29] \"POST /live HTTP/1.1\" 200 -\n",
      "127.0.0.1 - - [23/Nov/2023 13:10:29] \"POST /live HTTP/1.1\" 200 -\n",
      "127.0.0.1 - - [23/Nov/2023 13:10:29] \"POST /live HTTP/1.1\" 200 -\n",
      "127.0.0.1 - - [23/Nov/2023 13:10:29] \"POST /live HTTP/1.1\" 200 -\n"
     ]
    },
    {
     "name": "stdout",
     "output_type": "stream",
     "text": [
      "YESSSSSS\n",
      "Loading Encode File ...\n",
      "Encode File Loaded\n",
      "YESSSSSS\n",
      "Loading Encode File ...\n",
      "Encode File Loaded\n",
      "YESSSSSS\n",
      "Loading Encode File ...\n",
      "Encode File Loaded\n",
      "YESSSSSS\n",
      "Loading Encode File ...\n",
      "Encode File Loaded\n"
     ]
    },
    {
     "name": "stderr",
     "output_type": "stream",
     "text": [
      "127.0.0.1 - - [23/Nov/2023 13:10:29] \"POST /live HTTP/1.1\" 200 -\n",
      "127.0.0.1 - - [23/Nov/2023 13:10:29] \"POST /live HTTP/1.1\" 200 -\n",
      "127.0.0.1 - - [23/Nov/2023 13:10:29] \"POST /live HTTP/1.1\" 200 -\n"
     ]
    },
    {
     "name": "stdout",
     "output_type": "stream",
     "text": [
      "YESSSSSS\n",
      "Loading Encode File ...\n",
      "Encode File Loaded\n",
      "YESSSSSS\n",
      "Loading Encode File ...\n",
      "Encode File Loaded\n",
      "YESSSSSS\n",
      "Loading Encode File ...\n",
      "Encode File Loaded\n",
      "YESSSSSS\n",
      "Loading Encode File ...\n",
      "Encode File Loaded\n"
     ]
    },
    {
     "name": "stderr",
     "output_type": "stream",
     "text": [
      "127.0.0.1 - - [23/Nov/2023 13:10:29] \"POST /live HTTP/1.1\" 200 -\n",
      "127.0.0.1 - - [23/Nov/2023 13:10:29] \"POST /live HTTP/1.1\" 200 -\n",
      "127.0.0.1 - - [23/Nov/2023 13:10:29] \"POST /live HTTP/1.1\" 200 -\n",
      "127.0.0.1 - - [23/Nov/2023 13:10:29] \"POST /live HTTP/1.1\" 200 -\n",
      "127.0.0.1 - - [23/Nov/2023 13:10:29] \"POST /live HTTP/1.1\" 200 -\n"
     ]
    },
    {
     "name": "stdout",
     "output_type": "stream",
     "text": [
      "YESSSSSS\n",
      "Loading Encode File ...\n",
      "Encode File Loaded\n",
      "YESSSSSS\n",
      "Loading Encode File ...\n",
      "Encode File Loaded\n",
      "YESSSSSS\n",
      "Loading Encode File ...\n",
      "Encode File Loaded\n",
      "YESSSSSS\n",
      "Loading Encode File ...\n",
      "Encode File Loaded\n"
     ]
    },
    {
     "name": "stderr",
     "output_type": "stream",
     "text": [
      "127.0.0.1 - - [23/Nov/2023 13:10:29] \"POST /live HTTP/1.1\" 200 -\n",
      "127.0.0.1 - - [23/Nov/2023 13:10:29] \"POST /live HTTP/1.1\" 200 -\n",
      "127.0.0.1 - - [23/Nov/2023 13:10:29] \"POST /live HTTP/1.1\" 200 -\n"
     ]
    },
    {
     "name": "stdout",
     "output_type": "stream",
     "text": [
      "YESSSSSS\n",
      "Loading Encode File ...\n",
      "Encode File Loaded\n",
      "YESSSSSS\n",
      "Loading Encode File ...\n",
      "Encode File Loaded\n",
      "YESSSSSS\n",
      "Loading Encode File ...\n",
      "Encode File Loaded\n",
      "YESSSSSS\n",
      "Loading Encode File ...\n",
      "Encode File Loaded\n"
     ]
    },
    {
     "name": "stderr",
     "output_type": "stream",
     "text": [
      "127.0.0.1 - - [23/Nov/2023 13:10:29] \"POST /live HTTP/1.1\" 200 -\n",
      "127.0.0.1 - - [23/Nov/2023 13:10:29] \"POST /live HTTP/1.1\" 200 -\n",
      "127.0.0.1 - - [23/Nov/2023 13:10:30] \"POST /live HTTP/1.1\" 200 -\n",
      "127.0.0.1 - - [23/Nov/2023 13:10:30] \"POST /live HTTP/1.1\" 200 -\n"
     ]
    },
    {
     "name": "stdout",
     "output_type": "stream",
     "text": [
      "YESSSSSS\n",
      "Loading Encode File ...\n",
      "Encode File Loaded\n",
      "YESSSSSS\n",
      "Loading Encode File ...\n",
      "Encode File Loaded\n",
      "YESSSSSS\n",
      "Loading Encode File ...\n",
      "Encode File Loaded\n",
      "YESSSSSS\n",
      "Loading Encode File ...\n",
      "Encode File Loaded\n"
     ]
    },
    {
     "name": "stderr",
     "output_type": "stream",
     "text": [
      "127.0.0.1 - - [23/Nov/2023 13:10:30] \"POST /live HTTP/1.1\" 200 -\n",
      "127.0.0.1 - - [23/Nov/2023 13:10:30] \"POST /live HTTP/1.1\" 200 -\n",
      "127.0.0.1 - - [23/Nov/2023 13:10:30] \"POST /live HTTP/1.1\" 200 -\n",
      "127.0.0.1 - - [23/Nov/2023 13:10:30] \"POST /live HTTP/1.1\" 200 -\n",
      "127.0.0.1 - - [23/Nov/2023 13:10:30] \"POST /live HTTP/1.1\" 200 -\n"
     ]
    },
    {
     "name": "stdout",
     "output_type": "stream",
     "text": [
      "YESSSSSS\n",
      "Loading Encode File ...\n",
      "Encode File Loaded\n",
      "YESSSSSS\n",
      "Loading Encode File ...\n",
      "Encode File Loaded\n",
      "YESSSSSS\n",
      "Loading Encode File ...\n",
      "Encode File Loaded\n",
      "YESSSSSS\n",
      "Loading Encode File ...\n",
      "Encode File Loaded\n"
     ]
    },
    {
     "name": "stderr",
     "output_type": "stream",
     "text": [
      "127.0.0.1 - - [23/Nov/2023 13:10:30] \"POST /live HTTP/1.1\" 200 -\n",
      "127.0.0.1 - - [23/Nov/2023 13:10:30] \"POST /live HTTP/1.1\" 200 -\n",
      "127.0.0.1 - - [23/Nov/2023 13:10:30] \"POST /live HTTP/1.1\" 200 -\n"
     ]
    },
    {
     "name": "stdout",
     "output_type": "stream",
     "text": [
      "YESSSSSS\n",
      "Loading Encode File ...\n",
      "Encode File Loaded\n",
      "YESSSSSS\n",
      "Loading Encode File ...\n",
      "Encode File Loaded\n",
      "YESSSSSS\n",
      "Loading Encode File ...\n",
      "Encode File Loaded\n",
      "YESSSSSS\n",
      "Loading Encode File ...\n",
      "Encode File Loaded\n"
     ]
    },
    {
     "name": "stderr",
     "output_type": "stream",
     "text": [
      "127.0.0.1 - - [23/Nov/2023 13:10:30] \"POST /live HTTP/1.1\" 200 -\n",
      "127.0.0.1 - - [23/Nov/2023 13:10:30] \"POST /live HTTP/1.1\" 200 -\n",
      "127.0.0.1 - - [23/Nov/2023 13:10:30] \"POST /live HTTP/1.1\" 200 -\n",
      "127.0.0.1 - - [23/Nov/2023 13:10:30] \"POST /live HTTP/1.1\" 200 -\n"
     ]
    },
    {
     "name": "stdout",
     "output_type": "stream",
     "text": [
      "YESSSSSS\n",
      "Loading Encode File ...\n",
      "Encode File Loaded\n",
      "YESSSSSS\n",
      "Loading Encode File ...\n",
      "Encode File Loaded\n",
      "YESSSSSS\n",
      "Loading Encode File ...\n",
      "Encode File Loaded\n",
      "YESSSSSS\n",
      "Loading Encode File ...\n",
      "Encode File Loaded\n"
     ]
    },
    {
     "name": "stderr",
     "output_type": "stream",
     "text": [
      "127.0.0.1 - - [23/Nov/2023 13:10:30] \"POST /live HTTP/1.1\" 200 -\n",
      "127.0.0.1 - - [23/Nov/2023 13:10:30] \"POST /live HTTP/1.1\" 200 -\n",
      "127.0.0.1 - - [23/Nov/2023 13:10:30] \"POST /live HTTP/1.1\" 200 -\n",
      "127.0.0.1 - - [23/Nov/2023 13:10:30] \"POST /live HTTP/1.1\" 200 -\n",
      "127.0.0.1 - - [23/Nov/2023 13:10:30] \"POST /live HTTP/1.1\" 200 -\n"
     ]
    },
    {
     "name": "stdout",
     "output_type": "stream",
     "text": [
      "YESSSSSS\n",
      "Loading Encode File ...\n",
      "Encode File Loaded\n",
      "YESSSSSS\n",
      "Loading Encode File ...\n",
      "Encode File Loaded\n",
      "YESSSSSS\n",
      "Loading Encode File ...\n",
      "Encode File Loaded\n",
      "YESSSSSS\n",
      "Loading Encode File ...\n",
      "Encode File Loaded\n"
     ]
    },
    {
     "name": "stderr",
     "output_type": "stream",
     "text": [
      "127.0.0.1 - - [23/Nov/2023 13:10:31] \"POST /live HTTP/1.1\" 200 -\n",
      "127.0.0.1 - - [23/Nov/2023 13:10:31] \"POST /live HTTP/1.1\" 200 -\n",
      "127.0.0.1 - - [23/Nov/2023 13:10:31] \"POST /live HTTP/1.1\" 200 -\n"
     ]
    },
    {
     "name": "stdout",
     "output_type": "stream",
     "text": [
      "YESSSSSS\n",
      "Loading Encode File ...\n",
      "Encode File Loaded\n",
      "YESSSSSS\n",
      "Loading Encode File ...\n",
      "Encode File Loaded\n",
      "YESSSSSS\n",
      "Loading Encode File ...\n",
      "Encode File Loaded\n",
      "YESSSSSS\n",
      "Loading Encode File ...\n",
      "Encode File Loaded\n"
     ]
    },
    {
     "name": "stderr",
     "output_type": "stream",
     "text": [
      "127.0.0.1 - - [23/Nov/2023 13:10:31] \"POST /live HTTP/1.1\" 200 -\n",
      "127.0.0.1 - - [23/Nov/2023 13:10:31] \"POST /live HTTP/1.1\" 200 -\n",
      "127.0.0.1 - - [23/Nov/2023 13:10:31] \"POST /live HTTP/1.1\" 200 -\n",
      "127.0.0.1 - - [23/Nov/2023 13:10:31] \"POST /live HTTP/1.1\" 200 -\n",
      "127.0.0.1 - - [23/Nov/2023 13:10:31] \"POST /live HTTP/1.1\" 200 -\n"
     ]
    },
    {
     "name": "stdout",
     "output_type": "stream",
     "text": [
      "YESSSSSS\n",
      "Loading Encode File ...\n",
      "Encode File Loaded\n",
      "YESSSSSS\n",
      "Loading Encode File ...\n",
      "Encode File Loaded\n",
      "YESSSSSS\n",
      "Loading Encode File ...\n",
      "Encode File Loaded\n",
      "YESSSSSS\n",
      "Loading Encode File ...\n",
      "Encode File Loaded\n"
     ]
    },
    {
     "name": "stderr",
     "output_type": "stream",
     "text": [
      "127.0.0.1 - - [23/Nov/2023 13:10:31] \"POST /live HTTP/1.1\" 200 -\n",
      "127.0.0.1 - - [23/Nov/2023 13:10:31] \"POST /live HTTP/1.1\" 200 -\n",
      "127.0.0.1 - - [23/Nov/2023 13:10:31] \"POST /live HTTP/1.1\" 200 -\n"
     ]
    },
    {
     "name": "stdout",
     "output_type": "stream",
     "text": [
      "YESSSSSS\n",
      "Loading Encode File ...\n",
      "Encode File Loaded\n",
      "YESSSSSS\n",
      "Loading Encode File ...\n",
      "Encode File Loaded\n",
      "YESSSSSS\n",
      "Loading Encode File ...\n",
      "Encode File Loaded\n",
      "YESSSSSS\n",
      "Loading Encode File ...\n",
      "Encode File Loaded\n"
     ]
    },
    {
     "name": "stderr",
     "output_type": "stream",
     "text": [
      "127.0.0.1 - - [23/Nov/2023 13:10:31] \"POST /live HTTP/1.1\" 200 -\n",
      "127.0.0.1 - - [23/Nov/2023 13:10:31] \"POST /live HTTP/1.1\" 200 -\n",
      "127.0.0.1 - - [23/Nov/2023 13:10:31] \"POST /live HTTP/1.1\" 200 -\n",
      "127.0.0.1 - - [23/Nov/2023 13:10:31] \"POST /live HTTP/1.1\" 200 -\n"
     ]
    },
    {
     "name": "stdout",
     "output_type": "stream",
     "text": [
      "YESSSSSS\n",
      "Loading Encode File ...\n",
      "Encode File Loaded\n",
      "YESSSSSS\n",
      "Loading Encode File ...\n",
      "Encode File Loaded\n",
      "YESSSSSS\n",
      "Loading Encode File ...\n",
      "Encode File Loaded\n",
      "YESSSSSS\n",
      "Loading Encode File ...\n",
      "Encode File Loaded\n"
     ]
    },
    {
     "name": "stderr",
     "output_type": "stream",
     "text": [
      "127.0.0.1 - - [23/Nov/2023 13:10:31] \"POST /live HTTP/1.1\" 200 -\n",
      "127.0.0.1 - - [23/Nov/2023 13:10:31] \"POST /live HTTP/1.1\" 200 -\n",
      "127.0.0.1 - - [23/Nov/2023 13:10:31] \"POST /live HTTP/1.1\" 200 -\n",
      "127.0.0.1 - - [23/Nov/2023 13:10:32] \"POST /live HTTP/1.1\" 200 -\n"
     ]
    },
    {
     "name": "stdout",
     "output_type": "stream",
     "text": [
      "YESSSSSS\n",
      "Loading Encode File ...\n",
      "Encode File Loaded\n",
      "YESSSSSS\n",
      "Loading Encode File ...\n",
      "Encode File Loaded\n",
      "YESSSSSS\n",
      "Loading Encode File ...\n",
      "Encode File Loaded\n",
      "YESSSSSS\n",
      "Loading Encode File ...\n",
      "Encode File Loaded\n"
     ]
    },
    {
     "name": "stderr",
     "output_type": "stream",
     "text": [
      "127.0.0.1 - - [23/Nov/2023 13:10:32] \"POST /live HTTP/1.1\" 200 -\n",
      "127.0.0.1 - - [23/Nov/2023 13:10:32] \"POST /live HTTP/1.1\" 200 -\n",
      "127.0.0.1 - - [23/Nov/2023 13:10:32] \"POST /live HTTP/1.1\" 200 -\n",
      "127.0.0.1 - - [23/Nov/2023 13:10:32] \"POST /live HTTP/1.1\" 200 -\n"
     ]
    },
    {
     "name": "stdout",
     "output_type": "stream",
     "text": [
      "YESSSSSS\n",
      "Loading Encode File ...\n",
      "Encode File Loaded\n",
      "YESSSSSS\n",
      "Loading Encode File ...\n",
      "Encode File Loaded\n",
      "YESSSSSS\n",
      "Loading Encode File ...\n",
      "Encode File Loaded\n",
      "YESSSSSS\n",
      "Loading Encode File ...\n",
      "Encode File Loaded\n"
     ]
    },
    {
     "name": "stderr",
     "output_type": "stream",
     "text": [
      "127.0.0.1 - - [23/Nov/2023 13:10:32] \"POST /live HTTP/1.1\" 200 -\n",
      "127.0.0.1 - - [23/Nov/2023 13:10:32] \"POST /live HTTP/1.1\" 200 -\n",
      "127.0.0.1 - - [23/Nov/2023 13:10:32] \"POST /live HTTP/1.1\" 200 -\n",
      "127.0.0.1 - - [23/Nov/2023 13:10:32] \"POST /live HTTP/1.1\" 200 -\n"
     ]
    },
    {
     "name": "stdout",
     "output_type": "stream",
     "text": [
      "YESSSSSS\n",
      "Loading Encode File ...\n",
      "Encode File Loaded\n",
      "YESSSSSS\n",
      "Loading Encode File ...\n",
      "Encode File Loaded\n",
      "YESSSSSS\n",
      "Loading Encode File ...\n",
      "Encode File Loaded\n",
      "YESSSSSS\n",
      "Loading Encode File ...\n",
      "Encode File Loaded\n"
     ]
    },
    {
     "name": "stderr",
     "output_type": "stream",
     "text": [
      "127.0.0.1 - - [23/Nov/2023 13:10:32] \"POST /live HTTP/1.1\" 200 -\n",
      "127.0.0.1 - - [23/Nov/2023 13:10:32] \"POST /live HTTP/1.1\" 200 -\n",
      "127.0.0.1 - - [23/Nov/2023 13:10:32] \"POST /live HTTP/1.1\" 200 -\n",
      "127.0.0.1 - - [23/Nov/2023 13:10:32] \"POST /live HTTP/1.1\" 200 -\n",
      "127.0.0.1 - - [23/Nov/2023 13:10:32] \"POST /live HTTP/1.1\" 200 -\n"
     ]
    },
    {
     "name": "stdout",
     "output_type": "stream",
     "text": [
      "YESSSSSS\n",
      "Loading Encode File ...\n",
      "Encode File Loaded\n",
      "YESSSSSS\n",
      "Loading Encode File ...\n",
      "Encode File Loaded\n",
      "YESSSSSS\n",
      "Loading Encode File ...\n",
      "Encode File Loaded\n",
      "YESSSSSS\n",
      "Loading Encode File ...\n",
      "Encode File Loaded\n"
     ]
    },
    {
     "name": "stderr",
     "output_type": "stream",
     "text": [
      "127.0.0.1 - - [23/Nov/2023 13:10:32] \"POST /live HTTP/1.1\" 200 -\n",
      "127.0.0.1 - - [23/Nov/2023 13:10:32] \"POST /live HTTP/1.1\" 200 -\n",
      "127.0.0.1 - - [23/Nov/2023 13:10:32] \"POST /live HTTP/1.1\" 200 -\n",
      "127.0.0.1 - - [23/Nov/2023 13:10:32] \"POST /live HTTP/1.1\" 200 -\n"
     ]
    },
    {
     "name": "stdout",
     "output_type": "stream",
     "text": [
      "YESSSSSS\n",
      "Loading Encode File ...\n",
      "Encode File Loaded\n",
      "YESSSSSS\n",
      "Loading Encode File ...\n",
      "Encode File Loaded\n",
      "YESSSSSS\n",
      "Loading Encode File ...\n",
      "Encode File Loaded\n",
      "YESSSSSS\n",
      "Loading Encode File ...\n",
      "Encode File Loaded\n",
      "YESSSSSS\n",
      "Loading Encode File ...\n",
      "Encode File Loaded\n"
     ]
    },
    {
     "name": "stderr",
     "output_type": "stream",
     "text": [
      "127.0.0.1 - - [23/Nov/2023 13:10:32] \"POST /live HTTP/1.1\" 200 -\n",
      "127.0.0.1 - - [23/Nov/2023 13:10:33] \"POST /live HTTP/1.1\" 200 -\n",
      "127.0.0.1 - - [23/Nov/2023 13:10:33] \"POST /live HTTP/1.1\" 200 -\n",
      "127.0.0.1 - - [23/Nov/2023 13:10:33] \"POST /live HTTP/1.1\" 200 -\n",
      "127.0.0.1 - - [23/Nov/2023 13:10:33] \"POST /live HTTP/1.1\" 200 -\n"
     ]
    },
    {
     "name": "stdout",
     "output_type": "stream",
     "text": [
      "YESSSSSS\n",
      "Loading Encode File ...\n",
      "Encode File Loaded\n",
      "YESSSSSS\n",
      "Loading Encode File ...\n",
      "Encode File Loaded\n",
      "YESSSSSS\n",
      "Loading Encode File ...\n",
      "Encode File Loaded\n",
      "YESSSSSS\n",
      "Loading Encode File ...\n",
      "Encode File Loaded\n"
     ]
    },
    {
     "name": "stderr",
     "output_type": "stream",
     "text": [
      "127.0.0.1 - - [23/Nov/2023 13:10:33] \"POST /live HTTP/1.1\" 200 -\n",
      "127.0.0.1 - - [23/Nov/2023 13:10:33] \"POST /live HTTP/1.1\" 200 -\n",
      "127.0.0.1 - - [23/Nov/2023 13:10:33] \"POST /live HTTP/1.1\" 200 -\n"
     ]
    },
    {
     "name": "stdout",
     "output_type": "stream",
     "text": [
      "YESSSSSS\n",
      "Loading Encode File ...\n",
      "Encode File Loaded\n",
      "YESSSSSS\n",
      "Loading Encode File ...\n",
      "Encode File Loaded\n",
      "YESSSSSS\n",
      "Loading Encode File ...\n",
      "Encode File Loaded\n",
      "YESSSSSS\n",
      "Loading Encode File ...\n",
      "Encode File Loaded\n"
     ]
    },
    {
     "name": "stderr",
     "output_type": "stream",
     "text": [
      "127.0.0.1 - - [23/Nov/2023 13:10:33] \"POST /live HTTP/1.1\" 200 -\n",
      "127.0.0.1 - - [23/Nov/2023 13:10:33] \"POST /live HTTP/1.1\" 200 -\n",
      "127.0.0.1 - - [23/Nov/2023 13:10:33] \"POST /live HTTP/1.1\" 200 -\n",
      "127.0.0.1 - - [23/Nov/2023 13:10:33] \"POST /live HTTP/1.1\" 200 -\n",
      "127.0.0.1 - - [23/Nov/2023 13:10:33] \"POST /live HTTP/1.1\" 200 -\n"
     ]
    },
    {
     "name": "stdout",
     "output_type": "stream",
     "text": [
      "YESSSSSS\n",
      "Loading Encode File ...\n",
      "Encode File Loaded\n",
      "YESSSSSS\n",
      "Loading Encode File ...\n",
      "Encode File Loaded\n",
      "YESSSSSS\n",
      "Loading Encode File ...\n",
      "Encode File Loaded\n",
      "YESSSSSS\n",
      "Loading Encode File ...\n",
      "Encode File Loaded\n"
     ]
    },
    {
     "name": "stderr",
     "output_type": "stream",
     "text": [
      "127.0.0.1 - - [23/Nov/2023 13:10:33] \"POST /live HTTP/1.1\" 200 -\n",
      "127.0.0.1 - - [23/Nov/2023 13:10:33] \"POST /live HTTP/1.1\" 200 -\n",
      "127.0.0.1 - - [23/Nov/2023 13:10:33] \"POST /live HTTP/1.1\" 200 -\n",
      "127.0.0.1 - - [23/Nov/2023 13:10:33] \"POST /live HTTP/1.1\" 200 -\n"
     ]
    },
    {
     "name": "stdout",
     "output_type": "stream",
     "text": [
      "YESSSSSS\n",
      "Loading Encode File ...\n",
      "Encode File Loaded\n",
      "YESSSSSS\n",
      "Loading Encode File ...\n",
      "Encode File Loaded\n",
      "YESSSSSS\n",
      "Loading Encode File ...\n",
      "Encode File Loaded\n",
      "YESSSSSS\n",
      "Loading Encode File ...\n",
      "Encode File Loaded\n"
     ]
    },
    {
     "name": "stderr",
     "output_type": "stream",
     "text": [
      "127.0.0.1 - - [23/Nov/2023 13:10:33] \"POST /live HTTP/1.1\" 200 -\n",
      "127.0.0.1 - - [23/Nov/2023 13:10:33] \"POST /live HTTP/1.1\" 200 -\n",
      "127.0.0.1 - - [23/Nov/2023 13:10:33] \"POST /live HTTP/1.1\" 200 -\n"
     ]
    },
    {
     "name": "stdout",
     "output_type": "stream",
     "text": [
      "YESSSSSS\n",
      "Loading Encode File ...\n",
      "Encode File Loaded\n",
      "YESSSSSS\n",
      "Loading Encode File ...\n",
      "Encode File Loaded\n",
      "YESSSSSS\n",
      "Loading Encode File ...\n",
      "Encode File Loaded\n",
      "YESSSSSS\n",
      "Loading Encode File ...\n",
      "Encode File Loaded\n"
     ]
    },
    {
     "name": "stderr",
     "output_type": "stream",
     "text": [
      "127.0.0.1 - - [23/Nov/2023 13:10:34] \"POST /live HTTP/1.1\" 200 -\n",
      "127.0.0.1 - - [23/Nov/2023 13:10:34] \"POST /live HTTP/1.1\" 200 -\n",
      "127.0.0.1 - - [23/Nov/2023 13:10:34] \"POST /live HTTP/1.1\" 200 -\n",
      "127.0.0.1 - - [23/Nov/2023 13:10:34] \"POST /live HTTP/1.1\" 200 -\n"
     ]
    },
    {
     "name": "stdout",
     "output_type": "stream",
     "text": [
      "YESSSSSS\n",
      "Loading Encode File ...\n",
      "Encode File Loaded\n",
      "YESSSSSS\n",
      "Loading Encode File ...\n",
      "Encode File Loaded\n",
      "YESSSSSS\n",
      "Loading Encode File ...\n",
      "Encode File Loaded\n",
      "YESSSSSS\n",
      "Loading Encode File ...\n",
      "Encode File Loaded\n"
     ]
    },
    {
     "name": "stderr",
     "output_type": "stream",
     "text": [
      "127.0.0.1 - - [23/Nov/2023 13:10:34] \"POST /live HTTP/1.1\" 200 -\n",
      "127.0.0.1 - - [23/Nov/2023 13:10:34] \"POST /live HTTP/1.1\" 200 -\n",
      "127.0.0.1 - - [23/Nov/2023 13:10:34] \"POST /live HTTP/1.1\" 200 -\n",
      "127.0.0.1 - - [23/Nov/2023 13:10:34] \"POST /live HTTP/1.1\" 200 -\n",
      "127.0.0.1 - - [23/Nov/2023 13:10:34] \"POST /live HTTP/1.1\" 200 -\n"
     ]
    },
    {
     "name": "stdout",
     "output_type": "stream",
     "text": [
      "YESSSSSS\n",
      "Loading Encode File ...\n",
      "Encode File Loaded\n",
      "YESSSSSS\n",
      "Loading Encode File ...\n",
      "Encode File Loaded\n",
      "YESSSSSS\n",
      "Loading Encode File ...\n",
      "Encode File Loaded\n",
      "YESSSSSS\n",
      "Loading Encode File ...\n",
      "Encode File Loaded\n",
      "YESSSSSS\n",
      "Loading Encode File ...\n",
      "Encode File Loaded\n"
     ]
    },
    {
     "name": "stderr",
     "output_type": "stream",
     "text": [
      "127.0.0.1 - - [23/Nov/2023 13:10:34] \"POST /live HTTP/1.1\" 200 -\n",
      "127.0.0.1 - - [23/Nov/2023 13:10:34] \"POST /live HTTP/1.1\" 200 -\n",
      "127.0.0.1 - - [23/Nov/2023 13:10:34] \"POST /live HTTP/1.1\" 200 -\n",
      "127.0.0.1 - - [23/Nov/2023 13:10:34] \"POST /live HTTP/1.1\" 200 -\n"
     ]
    },
    {
     "name": "stdout",
     "output_type": "stream",
     "text": [
      "YESSSSSS\n",
      "Loading Encode File ...\n",
      "Encode File Loaded\n",
      "YESSSSSS\n",
      "Loading Encode File ...\n",
      "Encode File Loaded\n",
      "YESSSSSS\n",
      "Loading Encode File ...\n",
      "Encode File Loaded\n",
      "YESSSSSS\n",
      "Loading Encode File ...\n",
      "Encode File Loaded\n"
     ]
    },
    {
     "name": "stderr",
     "output_type": "stream",
     "text": [
      "127.0.0.1 - - [23/Nov/2023 13:10:34] \"POST /live HTTP/1.1\" 200 -\n",
      "127.0.0.1 - - [23/Nov/2023 13:10:34] \"POST /live HTTP/1.1\" 200 -\n",
      "127.0.0.1 - - [23/Nov/2023 13:10:34] \"POST /live HTTP/1.1\" 200 -\n",
      "127.0.0.1 - - [23/Nov/2023 13:10:34] \"POST /live HTTP/1.1\" 200 -\n",
      "127.0.0.1 - - [23/Nov/2023 13:10:34] \"POST /live HTTP/1.1\" 200 -\n"
     ]
    },
    {
     "name": "stdout",
     "output_type": "stream",
     "text": [
      "YESSSSSS\n",
      "Loading Encode File ...\n",
      "Encode File Loaded\n",
      "YESSSSSS\n",
      "Loading Encode File ...\n",
      "Encode File Loaded\n",
      "YESSSSSS\n",
      "Loading Encode File ...\n",
      "Encode File Loaded\n",
      "YESSSSSS\n",
      "Loading Encode File ...\n",
      "Encode File Loaded\n"
     ]
    },
    {
     "name": "stderr",
     "output_type": "stream",
     "text": [
      "127.0.0.1 - - [23/Nov/2023 13:10:34] \"POST /live HTTP/1.1\" 200 -\n",
      "127.0.0.1 - - [23/Nov/2023 13:10:34] \"POST /live HTTP/1.1\" 200 -\n",
      "127.0.0.1 - - [23/Nov/2023 13:10:35] \"POST /live HTTP/1.1\" 200 -\n",
      "127.0.0.1 - - [23/Nov/2023 13:10:35] \"POST /live HTTP/1.1\" 200 -\n"
     ]
    },
    {
     "name": "stdout",
     "output_type": "stream",
     "text": [
      "YESSSSSS\n",
      "Loading Encode File ...\n",
      "Encode File Loaded\n",
      "YESSSSSS\n",
      "Loading Encode File ...\n",
      "Encode File Loaded\n",
      "YESSSSSS\n",
      "Loading Encode File ...\n",
      "Encode File Loaded\n",
      "YESSSSSS\n",
      "Loading Encode File ...\n",
      "Encode File Loaded\n"
     ]
    },
    {
     "name": "stderr",
     "output_type": "stream",
     "text": [
      "127.0.0.1 - - [23/Nov/2023 13:10:35] \"POST /live HTTP/1.1\" 200 -\n",
      "127.0.0.1 - - [23/Nov/2023 13:10:35] \"POST /live HTTP/1.1\" 200 -\n",
      "127.0.0.1 - - [23/Nov/2023 13:10:35] \"POST /live HTTP/1.1\" 200 -\n"
     ]
    },
    {
     "name": "stdout",
     "output_type": "stream",
     "text": [
      "YESSSSSS\n",
      "Loading Encode File ...\n",
      "Encode File Loaded\n",
      "YESSSSSS\n",
      "Loading Encode File ...\n",
      "Encode File Loaded\n",
      "YESSSSSS\n",
      "Loading Encode File ...\n",
      "Encode File Loaded\n",
      "YESSSSSS\n",
      "Loading Encode File ...\n",
      "Encode File Loaded\n"
     ]
    },
    {
     "name": "stderr",
     "output_type": "stream",
     "text": [
      "127.0.0.1 - - [23/Nov/2023 13:10:35] \"POST /live HTTP/1.1\" 200 -\n",
      "127.0.0.1 - - [23/Nov/2023 13:10:35] \"POST /live HTTP/1.1\" 200 -\n",
      "127.0.0.1 - - [23/Nov/2023 13:10:35] \"POST /live HTTP/1.1\" 200 -\n",
      "127.0.0.1 - - [23/Nov/2023 13:10:35] \"POST /live HTTP/1.1\" 200 -\n"
     ]
    },
    {
     "name": "stdout",
     "output_type": "stream",
     "text": [
      "YESSSSSS\n",
      "Loading Encode File ...\n",
      "Encode File Loaded\n",
      "YESSSSSS\n",
      "Loading Encode File ...\n",
      "Encode File Loaded\n",
      "YESSSSSS\n",
      "Loading Encode File ...\n",
      "Encode File Loaded\n",
      "YESSSSSS\n",
      "Loading Encode File ...\n",
      "Encode File Loaded\n"
     ]
    },
    {
     "name": "stderr",
     "output_type": "stream",
     "text": [
      "127.0.0.1 - - [23/Nov/2023 13:10:35] \"POST /live HTTP/1.1\" 200 -\n",
      "127.0.0.1 - - [23/Nov/2023 13:10:35] \"POST /live HTTP/1.1\" 200 -\n",
      "127.0.0.1 - - [23/Nov/2023 13:10:35] \"POST /live HTTP/1.1\" 200 -\n",
      "127.0.0.1 - - [23/Nov/2023 13:10:35] \"POST /live HTTP/1.1\" 200 -\n"
     ]
    },
    {
     "name": "stdout",
     "output_type": "stream",
     "text": [
      "YESSSSSS\n",
      "Loading Encode File ...\n",
      "Encode File Loaded\n",
      "YESSSSSS\n",
      "Loading Encode File ...\n",
      "Encode File Loaded\n",
      "YESSSSSS\n",
      "Loading Encode File ...\n",
      "Encode File Loaded\n",
      "YESSSSSS\n",
      "Loading Encode File ...\n",
      "Encode File Loaded\n"
     ]
    },
    {
     "name": "stderr",
     "output_type": "stream",
     "text": [
      "127.0.0.1 - - [23/Nov/2023 13:10:35] \"POST /live HTTP/1.1\" 200 -\n",
      "127.0.0.1 - - [23/Nov/2023 13:10:35] \"POST /live HTTP/1.1\" 200 -\n",
      "127.0.0.1 - - [23/Nov/2023 13:10:35] \"POST /live HTTP/1.1\" 200 -\n",
      "127.0.0.1 - - [23/Nov/2023 13:10:35] \"POST /live HTTP/1.1\" 200 -\n",
      "127.0.0.1 - - [23/Nov/2023 13:10:35] \"POST /live HTTP/1.1\" 200 -\n"
     ]
    },
    {
     "name": "stdout",
     "output_type": "stream",
     "text": [
      "YESSSSSS\n",
      "Loading Encode File ...\n",
      "Encode File Loaded\n",
      "YESSSSSS\n",
      "Loading Encode File ...\n",
      "Encode File Loaded\n",
      "YESSSSSS\n",
      "Loading Encode File ...\n",
      "Encode File Loaded\n",
      "YESSSSSS\n",
      "Loading Encode File ...\n",
      "Encode File Loaded\n"
     ]
    },
    {
     "name": "stderr",
     "output_type": "stream",
     "text": [
      "127.0.0.1 - - [23/Nov/2023 13:10:35] \"POST /live HTTP/1.1\" 200 -\n",
      "127.0.0.1 - - [23/Nov/2023 13:10:36] \"POST /live HTTP/1.1\" 200 -\n",
      "127.0.0.1 - - [23/Nov/2023 13:10:36] \"POST /live HTTP/1.1\" 200 -\n",
      "127.0.0.1 - - [23/Nov/2023 13:10:36] \"POST /live HTTP/1.1\" 200 -\n"
     ]
    },
    {
     "name": "stdout",
     "output_type": "stream",
     "text": [
      "YESSSSSS\n",
      "Loading Encode File ...\n",
      "Encode File Loaded\n",
      "YESSSSSS\n",
      "Loading Encode File ...\n",
      "Encode File Loaded\n",
      "YESSSSSS\n",
      "Loading Encode File ...\n",
      "Encode File Loaded\n",
      "YESSSSSS\n",
      "Loading Encode File ...\n",
      "Encode File Loaded\n"
     ]
    },
    {
     "name": "stderr",
     "output_type": "stream",
     "text": [
      "127.0.0.1 - - [23/Nov/2023 13:10:36] \"POST /live HTTP/1.1\" 200 -\n",
      "127.0.0.1 - - [23/Nov/2023 13:10:36] \"POST /live HTTP/1.1\" 200 -\n",
      "127.0.0.1 - - [23/Nov/2023 13:10:36] \"POST /live HTTP/1.1\" 200 -\n",
      "127.0.0.1 - - [23/Nov/2023 13:10:36] \"POST /live HTTP/1.1\" 200 -\n"
     ]
    },
    {
     "name": "stdout",
     "output_type": "stream",
     "text": [
      "YESSSSSS\n",
      "Loading Encode File ...\n",
      "Encode File Loaded\n",
      "YESSSSSS\n",
      "Loading Encode File ...\n",
      "Encode File Loaded\n",
      "YESSSSSS\n",
      "Loading Encode File ...\n",
      "Encode File Loaded\n",
      "YESSSSSS\n",
      "Loading Encode File ...\n",
      "Encode File Loaded\n",
      "YESSSSSS\n",
      "Loading Encode File ...\n",
      "Encode File Loaded\n"
     ]
    },
    {
     "name": "stderr",
     "output_type": "stream",
     "text": [
      "127.0.0.1 - - [23/Nov/2023 13:10:36] \"POST /live HTTP/1.1\" 200 -\n",
      "127.0.0.1 - - [23/Nov/2023 13:10:36] \"POST /live HTTP/1.1\" 200 -\n",
      "127.0.0.1 - - [23/Nov/2023 13:10:36] \"POST /live HTTP/1.1\" 200 -\n",
      "127.0.0.1 - - [23/Nov/2023 13:10:36] \"POST /live HTTP/1.1\" 200 -\n"
     ]
    },
    {
     "name": "stdout",
     "output_type": "stream",
     "text": [
      "YESSSSSS\n",
      "Loading Encode File ...\n",
      "Encode File Loaded\n",
      "YESSSSSS\n",
      "Loading Encode File ...\n",
      "Encode File Loaded\n",
      "YESSSSSS\n",
      "Loading Encode File ...\n",
      "Encode File Loaded\n",
      "YESSSSSS\n",
      "Loading Encode File ...\n",
      "Encode File Loaded\n"
     ]
    },
    {
     "name": "stderr",
     "output_type": "stream",
     "text": [
      "127.0.0.1 - - [23/Nov/2023 13:10:36] \"POST /live HTTP/1.1\" 200 -\n",
      "127.0.0.1 - - [23/Nov/2023 13:10:36] \"POST /live HTTP/1.1\" 200 -\n",
      "127.0.0.1 - - [23/Nov/2023 13:10:36] \"POST /live HTTP/1.1\" 200 -\n",
      "127.0.0.1 - - [23/Nov/2023 13:10:36] \"POST /live HTTP/1.1\" 200 -\n"
     ]
    },
    {
     "name": "stdout",
     "output_type": "stream",
     "text": [
      "YESSSSSS\n",
      "Loading Encode File ...\n",
      "Encode File Loaded\n",
      "YESSSSSS\n",
      "Loading Encode File ...\n",
      "Encode File Loaded\n",
      "YESSSSSS\n",
      "Loading Encode File ...\n",
      "Encode File Loaded\n",
      "YESSSSSS\n",
      "Loading Encode File ...\n",
      "Encode File Loaded\n"
     ]
    },
    {
     "name": "stderr",
     "output_type": "stream",
     "text": [
      "127.0.0.1 - - [23/Nov/2023 13:10:36] \"POST /live HTTP/1.1\" 200 -\n",
      "127.0.0.1 - - [23/Nov/2023 13:10:36] \"POST /live HTTP/1.1\" 200 -\n",
      "127.0.0.1 - - [23/Nov/2023 13:10:36] \"POST /live HTTP/1.1\" 200 -\n",
      "127.0.0.1 - - [23/Nov/2023 13:10:36] \"POST /live HTTP/1.1\" 200 -\n"
     ]
    },
    {
     "name": "stdout",
     "output_type": "stream",
     "text": [
      "YESSSSSS\n",
      "Loading Encode File ...\n",
      "Encode File Loaded\n",
      "YESSSSSS\n",
      "Loading Encode File ...\n",
      "Encode File Loaded\n",
      "YESSSSSS\n",
      "Loading Encode File ...\n",
      "Encode File Loaded\n",
      "YESSSSSS\n",
      "Loading Encode File ...\n",
      "Encode File Loaded\n"
     ]
    },
    {
     "name": "stderr",
     "output_type": "stream",
     "text": [
      "127.0.0.1 - - [23/Nov/2023 13:10:37] \"POST /live HTTP/1.1\" 200 -\n",
      "127.0.0.1 - - [23/Nov/2023 13:10:37] \"POST /live HTTP/1.1\" 200 -\n",
      "127.0.0.1 - - [23/Nov/2023 13:10:37] \"POST /live HTTP/1.1\" 200 -\n",
      "127.0.0.1 - - [23/Nov/2023 13:10:37] \"POST /live HTTP/1.1\" 200 -\n"
     ]
    },
    {
     "name": "stdout",
     "output_type": "stream",
     "text": [
      "YESSSSSS\n",
      "Loading Encode File ...\n",
      "Encode File Loaded\n",
      "YESSSSSS\n",
      "Loading Encode File ...\n",
      "Encode File Loaded\n",
      "YESSSSSS\n",
      "Loading Encode File ...\n",
      "Encode File Loaded\n",
      "YESSSSSS\n",
      "Loading Encode File ...\n",
      "Encode File Loaded\n"
     ]
    },
    {
     "name": "stderr",
     "output_type": "stream",
     "text": [
      "127.0.0.1 - - [23/Nov/2023 13:10:37] \"POST /live HTTP/1.1\" 200 -\n",
      "127.0.0.1 - - [23/Nov/2023 13:10:37] \"POST /live HTTP/1.1\" 200 -\n",
      "127.0.0.1 - - [23/Nov/2023 13:10:37] \"POST /live HTTP/1.1\" 200 -\n",
      "127.0.0.1 - - [23/Nov/2023 13:10:37] \"POST /live HTTP/1.1\" 200 -\n",
      "127.0.0.1 - - [23/Nov/2023 13:10:37] \"POST /live HTTP/1.1\" 200 -\n"
     ]
    },
    {
     "name": "stdout",
     "output_type": "stream",
     "text": [
      "YESSSSSS\n",
      "Loading Encode File ...\n",
      "Encode File Loaded\n",
      "YESSSSSS\n",
      "Loading Encode File ...\n",
      "Encode File Loaded\n",
      "YESSSSSS\n",
      "Loading Encode File ...\n",
      "Encode File Loaded\n",
      "YESSSSSS\n",
      "Loading Encode File ...\n",
      "Encode File Loaded\n"
     ]
    },
    {
     "name": "stderr",
     "output_type": "stream",
     "text": [
      "127.0.0.1 - - [23/Nov/2023 13:10:37] \"POST /live HTTP/1.1\" 200 -\n",
      "127.0.0.1 - - [23/Nov/2023 13:10:37] \"POST /live HTTP/1.1\" 200 -\n",
      "127.0.0.1 - - [23/Nov/2023 13:10:37] \"POST /live HTTP/1.1\" 200 -\n",
      "127.0.0.1 - - [23/Nov/2023 13:10:37] \"POST /live HTTP/1.1\" 200 -\n"
     ]
    },
    {
     "name": "stdout",
     "output_type": "stream",
     "text": [
      "YESSSSSS\n",
      "Loading Encode File ...\n",
      "Encode File Loaded\n",
      "YESSSSSS\n",
      "Loading Encode File ...\n",
      "Encode File Loaded\n",
      "YESSSSSS\n",
      "Loading Encode File ...\n",
      "Encode File Loaded\n",
      "YESSSSSS\n",
      "Loading Encode File ...\n",
      "Encode File Loaded\n"
     ]
    },
    {
     "name": "stderr",
     "output_type": "stream",
     "text": [
      "127.0.0.1 - - [23/Nov/2023 13:10:37] \"POST /live HTTP/1.1\" 200 -\n",
      "127.0.0.1 - - [23/Nov/2023 13:10:37] \"POST /live HTTP/1.1\" 200 -\n",
      "127.0.0.1 - - [23/Nov/2023 13:10:37] \"POST /live HTTP/1.1\" 200 -\n",
      "127.0.0.1 - - [23/Nov/2023 13:10:37] \"POST /live HTTP/1.1\" 200 -\n"
     ]
    },
    {
     "name": "stdout",
     "output_type": "stream",
     "text": [
      "YESSSSSS\n",
      "Loading Encode File ...\n",
      "Encode File Loaded\n",
      "YESSSSSS\n",
      "Loading Encode File ...\n",
      "Encode File Loaded\n",
      "YESSSSSS\n",
      "Loading Encode File ...\n",
      "Encode File Loaded\n",
      "YESSSSSS\n",
      "Loading Encode File ...\n",
      "Encode File Loaded\n",
      "YESSSSSS\n",
      "Loading Encode File ...\n",
      "Encode File Loaded\n"
     ]
    },
    {
     "name": "stderr",
     "output_type": "stream",
     "text": [
      "127.0.0.1 - - [23/Nov/2023 13:10:37] \"POST /live HTTP/1.1\" 200 -\n",
      "127.0.0.1 - - [23/Nov/2023 13:10:37] \"POST /live HTTP/1.1\" 200 -\n",
      "127.0.0.1 - - [23/Nov/2023 13:10:38] \"POST /live HTTP/1.1\" 200 -\n",
      "127.0.0.1 - - [23/Nov/2023 13:10:38] \"POST /live HTTP/1.1\" 200 -\n"
     ]
    },
    {
     "name": "stdout",
     "output_type": "stream",
     "text": [
      "YESSSSSS\n",
      "Loading Encode File ...\n",
      "Encode File Loaded\n",
      "YESSSSSS\n",
      "Loading Encode File ...\n",
      "Encode File Loaded\n",
      "YESSSSSS\n",
      "Loading Encode File ...\n",
      "Encode File Loaded\n",
      "YESSSSSS\n",
      "Loading Encode File ...\n",
      "Encode File Loaded\n"
     ]
    },
    {
     "name": "stderr",
     "output_type": "stream",
     "text": [
      "127.0.0.1 - - [23/Nov/2023 13:10:38] \"POST /live HTTP/1.1\" 200 -\n",
      "127.0.0.1 - - [23/Nov/2023 13:10:38] \"POST /live HTTP/1.1\" 200 -\n",
      "127.0.0.1 - - [23/Nov/2023 13:10:38] \"POST /live HTTP/1.1\" 200 -\n",
      "127.0.0.1 - - [23/Nov/2023 13:10:38] \"POST /live HTTP/1.1\" 200 -\n"
     ]
    },
    {
     "name": "stdout",
     "output_type": "stream",
     "text": [
      "YESSSSSS\n",
      "Loading Encode File ...\n",
      "Encode File Loaded\n",
      "YESSSSSS\n",
      "Loading Encode File ...\n",
      "Encode File Loaded\n",
      "YESSSSSS\n",
      "Loading Encode File ...\n",
      "Encode File Loaded\n",
      "YESSSSSS\n",
      "Loading Encode File ...\n",
      "Encode File Loaded\n"
     ]
    },
    {
     "name": "stderr",
     "output_type": "stream",
     "text": [
      "127.0.0.1 - - [23/Nov/2023 13:10:38] \"POST /live HTTP/1.1\" 200 -\n",
      "127.0.0.1 - - [23/Nov/2023 13:10:38] \"POST /live HTTP/1.1\" 200 -\n",
      "127.0.0.1 - - [23/Nov/2023 13:10:38] \"POST /live HTTP/1.1\" 200 -\n",
      "127.0.0.1 - - [23/Nov/2023 13:10:38] \"POST /live HTTP/1.1\" 200 -\n"
     ]
    },
    {
     "name": "stdout",
     "output_type": "stream",
     "text": [
      "YESSSSSS\n",
      "Loading Encode File ...\n",
      "Encode File Loaded\n",
      "YESSSSSS\n",
      "Loading Encode File ...\n",
      "Encode File Loaded\n",
      "YESSSSSS\n",
      "Loading Encode File ...\n",
      "Encode File Loaded\n",
      "YESSSSSS\n",
      "Loading Encode File ...\n",
      "Encode File Loaded\n"
     ]
    },
    {
     "name": "stderr",
     "output_type": "stream",
     "text": [
      "127.0.0.1 - - [23/Nov/2023 13:10:38] \"POST /live HTTP/1.1\" 200 -\n",
      "127.0.0.1 - - [23/Nov/2023 13:10:38] \"POST /live HTTP/1.1\" 200 -\n",
      "127.0.0.1 - - [23/Nov/2023 13:10:38] \"POST /live HTTP/1.1\" 200 -\n",
      "127.0.0.1 - - [23/Nov/2023 13:10:38] \"POST /live HTTP/1.1\" 200 -\n"
     ]
    },
    {
     "name": "stdout",
     "output_type": "stream",
     "text": [
      "YESSSSSS\n",
      "Loading Encode File ...\n",
      "Encode File Loaded\n",
      "YESSSSSS\n",
      "Loading Encode File ...\n",
      "Encode File Loaded\n",
      "YESSSSSS\n",
      "Loading Encode File ...\n",
      "Encode File Loaded\n",
      "YESSSSSS\n",
      "Loading Encode File ...\n",
      "Encode File Loaded\n"
     ]
    },
    {
     "name": "stderr",
     "output_type": "stream",
     "text": [
      "127.0.0.1 - - [23/Nov/2023 13:10:38] \"POST /live HTTP/1.1\" 200 -\n",
      "127.0.0.1 - - [23/Nov/2023 13:10:38] \"POST /live HTTP/1.1\" 200 -\n",
      "127.0.0.1 - - [23/Nov/2023 13:10:38] \"POST /live HTTP/1.1\" 200 -\n",
      "127.0.0.1 - - [23/Nov/2023 13:10:38] \"POST /live HTTP/1.1\" 200 -\n"
     ]
    },
    {
     "name": "stdout",
     "output_type": "stream",
     "text": [
      "YESSSSSS\n",
      "Loading Encode File ...\n",
      "Encode File Loaded\n",
      "YESSSSSS\n",
      "Loading Encode File ...\n",
      "Encode File Loaded\n",
      "YESSSSSS\n",
      "Loading Encode File ...\n",
      "Encode File Loaded\n",
      "YESSSSSS\n",
      "Loading Encode File ...\n",
      "Encode File Loaded\n"
     ]
    },
    {
     "name": "stderr",
     "output_type": "stream",
     "text": [
      "127.0.0.1 - - [23/Nov/2023 13:10:39] \"POST /live HTTP/1.1\" 200 -\n",
      "127.0.0.1 - - [23/Nov/2023 13:10:39] \"POST /live HTTP/1.1\" 200 -\n",
      "127.0.0.1 - - [23/Nov/2023 13:10:39] \"POST /live HTTP/1.1\" 200 -\n",
      "127.0.0.1 - - [23/Nov/2023 13:10:39] \"POST /live HTTP/1.1\" 200 -\n",
      "127.0.0.1 - - [23/Nov/2023 13:10:39] \"POST /live HTTP/1.1\" 200 -\n"
     ]
    },
    {
     "name": "stdout",
     "output_type": "stream",
     "text": [
      "YESSSSSS\n",
      "Loading Encode File ...\n",
      "Encode File Loaded\n",
      "YESSSSSS\n",
      "Loading Encode File ...\n",
      "Encode File Loaded\n",
      "YESSSSSS\n",
      "Loading Encode File ...\n",
      "Encode File Loaded\n",
      "YESSSSSS\n",
      "Loading Encode File ...\n",
      "Encode File Loaded\n"
     ]
    },
    {
     "name": "stderr",
     "output_type": "stream",
     "text": [
      "127.0.0.1 - - [23/Nov/2023 13:10:39] \"POST /live HTTP/1.1\" 200 -\n",
      "127.0.0.1 - - [23/Nov/2023 13:10:39] \"POST /live HTTP/1.1\" 200 -\n",
      "127.0.0.1 - - [23/Nov/2023 13:10:39] \"POST /live HTTP/1.1\" 200 -\n",
      "127.0.0.1 - - [23/Nov/2023 13:10:39] \"POST /live HTTP/1.1\" 200 -\n"
     ]
    },
    {
     "name": "stdout",
     "output_type": "stream",
     "text": [
      "YESSSSSS\n",
      "Loading Encode File ...\n",
      "Encode File Loaded\n",
      "YESSSSSS\n",
      "Loading Encode File ...\n",
      "Encode File Loaded\n",
      "YESSSSSS\n",
      "Loading Encode File ...\n",
      "Encode File Loaded\n",
      "YESSSSSS\n",
      "Loading Encode File ...\n",
      "Encode File Loaded\n",
      "YESSSSSS\n",
      "Loading Encode File ...\n",
      "Encode File Loaded\n"
     ]
    },
    {
     "name": "stderr",
     "output_type": "stream",
     "text": [
      "127.0.0.1 - - [23/Nov/2023 13:10:39] \"POST /live HTTP/1.1\" 200 -\n",
      "127.0.0.1 - - [23/Nov/2023 13:10:39] \"POST /live HTTP/1.1\" 200 -\n",
      "127.0.0.1 - - [23/Nov/2023 13:10:39] \"POST /live HTTP/1.1\" 200 -\n",
      "127.0.0.1 - - [23/Nov/2023 13:10:39] \"POST /live HTTP/1.1\" 200 -\n",
      "127.0.0.1 - - [23/Nov/2023 13:10:39] \"POST /live HTTP/1.1\" 200 -\n"
     ]
    },
    {
     "name": "stdout",
     "output_type": "stream",
     "text": [
      "YESSSSSS\n",
      "Loading Encode File ...\n",
      "Encode File Loaded\n",
      "YESSSSSS\n",
      "Loading Encode File ...\n",
      "Encode File Loaded\n",
      "YESSSSSS\n",
      "Loading Encode File ...\n",
      "Encode File Loaded\n",
      "YESSSSSS\n",
      "Loading Encode File ...\n",
      "Encode File Loaded\n"
     ]
    },
    {
     "name": "stderr",
     "output_type": "stream",
     "text": [
      "127.0.0.1 - - [23/Nov/2023 13:10:39] \"POST /live HTTP/1.1\" 200 -\n",
      "127.0.0.1 - - [23/Nov/2023 13:10:39] \"POST /live HTTP/1.1\" 200 -\n",
      "127.0.0.1 - - [23/Nov/2023 13:10:39] \"POST /live HTTP/1.1\" 200 -\n",
      "127.0.0.1 - - [23/Nov/2023 13:10:39] \"POST /live HTTP/1.1\" 200 -\n"
     ]
    },
    {
     "name": "stdout",
     "output_type": "stream",
     "text": [
      "YESSSSSS\n",
      "Loading Encode File ...\n",
      "Encode File Loaded\n",
      "YESSSSSS\n",
      "Loading Encode File ...\n",
      "Encode File Loaded\n",
      "YESSSSSS\n",
      "Loading Encode File ...\n",
      "Encode File Loaded\n",
      "YESSSSSS\n",
      "Loading Encode File ...\n",
      "Encode File Loaded\n",
      "YESSSSSS\n",
      "Loading Encode File ...\n",
      "Encode File Loaded\n"
     ]
    },
    {
     "name": "stderr",
     "output_type": "stream",
     "text": [
      "127.0.0.1 - - [23/Nov/2023 13:10:39] \"POST /live HTTP/1.1\" 200 -\n",
      "127.0.0.1 - - [23/Nov/2023 13:10:40] \"POST /live HTTP/1.1\" 200 -\n",
      "127.0.0.1 - - [23/Nov/2023 13:10:40] \"POST /live HTTP/1.1\" 200 -\n",
      "127.0.0.1 - - [23/Nov/2023 13:10:40] \"POST /live HTTP/1.1\" 200 -\n",
      "127.0.0.1 - - [23/Nov/2023 13:10:40] \"POST /live HTTP/1.1\" 200 -\n"
     ]
    },
    {
     "name": "stdout",
     "output_type": "stream",
     "text": [
      "YESSSSSS\n",
      "Loading Encode File ...\n",
      "Encode File Loaded\n",
      "YESSSSSS\n",
      "Loading Encode File ...\n",
      "Encode File Loaded\n",
      "YESSSSSS\n",
      "Loading Encode File ...\n",
      "Encode File Loaded\n",
      "YESSSSSS\n",
      "Loading Encode File ...\n",
      "Encode File Loaded\n"
     ]
    },
    {
     "name": "stderr",
     "output_type": "stream",
     "text": [
      "127.0.0.1 - - [23/Nov/2023 13:10:40] \"POST /live HTTP/1.1\" 200 -\n",
      "127.0.0.1 - - [23/Nov/2023 13:10:40] \"POST /live HTTP/1.1\" 200 -\n",
      "127.0.0.1 - - [23/Nov/2023 13:10:40] \"POST /live HTTP/1.1\" 200 -\n",
      "127.0.0.1 - - [23/Nov/2023 13:10:40] \"POST /live HTTP/1.1\" 200 -\n"
     ]
    },
    {
     "name": "stdout",
     "output_type": "stream",
     "text": [
      "YESSSSSS\n",
      "Loading Encode File ...\n",
      "Encode File Loaded\n",
      "YESSSSSS\n",
      "Loading Encode File ...\n",
      "Encode File Loaded\n",
      "YESSSSSS\n",
      "Loading Encode File ...\n",
      "Encode File Loaded\n",
      "YESSSSSS\n",
      "Loading Encode File ...\n",
      "Encode File Loaded\n"
     ]
    },
    {
     "name": "stderr",
     "output_type": "stream",
     "text": [
      "127.0.0.1 - - [23/Nov/2023 13:10:40] \"POST /live HTTP/1.1\" 200 -\n",
      "127.0.0.1 - - [23/Nov/2023 13:10:40] \"POST /live HTTP/1.1\" 200 -\n",
      "127.0.0.1 - - [23/Nov/2023 13:10:40] \"POST /live HTTP/1.1\" 200 -\n",
      "127.0.0.1 - - [23/Nov/2023 13:10:40] \"POST /live HTTP/1.1\" 200 -\n"
     ]
    },
    {
     "name": "stdout",
     "output_type": "stream",
     "text": [
      "YESSSSSS\n",
      "Loading Encode File ...\n",
      "Encode File Loaded\n",
      "YESSSSSS\n",
      "Loading Encode File ...\n",
      "Encode File Loaded\n",
      "YESSSSSS\n",
      "Loading Encode File ...\n",
      "Encode File Loaded\n",
      "YESSSSSS\n",
      "Loading Encode File ...\n",
      "Encode File Loaded\n"
     ]
    },
    {
     "name": "stderr",
     "output_type": "stream",
     "text": [
      "127.0.0.1 - - [23/Nov/2023 13:10:40] \"POST /live HTTP/1.1\" 200 -\n",
      "127.0.0.1 - - [23/Nov/2023 13:10:40] \"POST /live HTTP/1.1\" 200 -\n",
      "127.0.0.1 - - [23/Nov/2023 13:10:40] \"POST /live HTTP/1.1\" 200 -\n",
      "127.0.0.1 - - [23/Nov/2023 13:10:40] \"POST /live HTTP/1.1\" 200 -\n"
     ]
    },
    {
     "name": "stdout",
     "output_type": "stream",
     "text": [
      "YESSSSSS\n",
      "Loading Encode File ...\n",
      "Encode File Loaded\n",
      "YESSSSSS\n",
      "Loading Encode File ...\n",
      "Encode File Loaded\n",
      "YESSSSSS\n",
      "Loading Encode File ...\n",
      "Encode File Loaded\n",
      "YESSSSSS\n",
      "Loading Encode File ...\n",
      "Encode File Loaded\n"
     ]
    },
    {
     "name": "stderr",
     "output_type": "stream",
     "text": [
      "127.0.0.1 - - [23/Nov/2023 13:10:40] \"POST /live HTTP/1.1\" 200 -\n",
      "127.0.0.1 - - [23/Nov/2023 13:10:40] \"POST /live HTTP/1.1\" 200 -\n",
      "127.0.0.1 - - [23/Nov/2023 13:10:40] \"POST /live HTTP/1.1\" 200 -\n",
      "127.0.0.1 - - [23/Nov/2023 13:10:41] \"POST /live HTTP/1.1\" 200 -\n"
     ]
    },
    {
     "name": "stdout",
     "output_type": "stream",
     "text": [
      "YESSSSSS\n",
      "Loading Encode File ...\n",
      "Encode File Loaded\n",
      "YESSSSSS\n",
      "Loading Encode File ...\n",
      "Encode File Loaded\n",
      "YESSSSSS\n",
      "Loading Encode File ...\n",
      "Encode File Loaded\n",
      "YESSSSSS\n",
      "Loading Encode File ...\n",
      "Encode File Loaded\n",
      "YESSSSSS\n",
      "Loading Encode File ...\n",
      "Encode File Loaded\n"
     ]
    },
    {
     "name": "stderr",
     "output_type": "stream",
     "text": [
      "127.0.0.1 - - [23/Nov/2023 13:10:41] \"POST /live HTTP/1.1\" 200 -\n",
      "127.0.0.1 - - [23/Nov/2023 13:10:41] \"POST /live HTTP/1.1\" 200 -\n",
      "127.0.0.1 - - [23/Nov/2023 13:10:41] \"POST /live HTTP/1.1\" 200 -\n",
      "127.0.0.1 - - [23/Nov/2023 13:10:41] \"POST /live HTTP/1.1\" 200 -\n",
      "127.0.0.1 - - [23/Nov/2023 13:10:41] \"POST /live HTTP/1.1\" 200 -\n"
     ]
    },
    {
     "name": "stdout",
     "output_type": "stream",
     "text": [
      "YESSSSSS\n",
      "Loading Encode File ...\n",
      "Encode File Loaded\n",
      "YESSSSSS\n",
      "Loading Encode File ...\n",
      "Encode File Loaded\n",
      "YESSSSSS\n",
      "Loading Encode File ...\n",
      "Encode File Loaded\n",
      "YESSSSSS\n",
      "Loading Encode File ...\n",
      "Encode File Loaded\n",
      "YESSSSSS\n",
      "Loading Encode File ...\n",
      "Encode File Loaded\n"
     ]
    },
    {
     "name": "stderr",
     "output_type": "stream",
     "text": [
      "127.0.0.1 - - [23/Nov/2023 13:10:41] \"POST /live HTTP/1.1\" 200 -\n",
      "127.0.0.1 - - [23/Nov/2023 13:10:41] \"POST /live HTTP/1.1\" 200 -\n",
      "127.0.0.1 - - [23/Nov/2023 13:10:41] \"POST /live HTTP/1.1\" 200 -\n",
      "127.0.0.1 - - [23/Nov/2023 13:10:41] \"POST /live HTTP/1.1\" 200 -\n",
      "127.0.0.1 - - [23/Nov/2023 13:10:41] \"POST /live HTTP/1.1\" 200 -\n"
     ]
    },
    {
     "name": "stdout",
     "output_type": "stream",
     "text": [
      "YESSSSSS\n",
      "Loading Encode File ...\n",
      "Encode File Loaded\n",
      "YESSSSSS\n",
      "Loading Encode File ...\n",
      "Encode File Loaded\n",
      "YESSSSSS\n",
      "Loading Encode File ...\n",
      "Encode File Loaded\n",
      "YESSSSSS\n",
      "Loading Encode File ...\n",
      "Encode File Loaded\n"
     ]
    },
    {
     "name": "stderr",
     "output_type": "stream",
     "text": [
      "127.0.0.1 - - [23/Nov/2023 13:10:41] \"POST /live HTTP/1.1\" 200 -\n",
      "127.0.0.1 - - [23/Nov/2023 13:10:41] \"POST /live HTTP/1.1\" 200 -\n",
      "127.0.0.1 - - [23/Nov/2023 13:10:41] \"POST /live HTTP/1.1\" 200 -\n"
     ]
    },
    {
     "name": "stdout",
     "output_type": "stream",
     "text": [
      "YESSSSSS\n",
      "Loading Encode File ...\n",
      "Encode File Loaded\n",
      "YESSSSSS\n",
      "Loading Encode File ...\n",
      "Encode File Loaded\n",
      "YESSSSSS\n",
      "Loading Encode File ...\n",
      "Encode File Loaded\n",
      "YESSSSSS\n",
      "Loading Encode File ...\n",
      "Encode File Loaded\n"
     ]
    },
    {
     "name": "stderr",
     "output_type": "stream",
     "text": [
      "127.0.0.1 - - [23/Nov/2023 13:10:41] \"POST /live HTTP/1.1\" 200 -\n",
      "127.0.0.1 - - [23/Nov/2023 13:10:41] \"POST /live HTTP/1.1\" 200 -\n",
      "127.0.0.1 - - [23/Nov/2023 13:10:41] \"POST /live HTTP/1.1\" 200 -\n",
      "127.0.0.1 - - [23/Nov/2023 13:10:41] \"POST /live HTTP/1.1\" 200 -\n"
     ]
    },
    {
     "name": "stdout",
     "output_type": "stream",
     "text": [
      "YESSSSSS\n",
      "Loading Encode File ...\n",
      "Encode File Loaded\n",
      "YESSSSSS\n",
      "Loading Encode File ...\n",
      "Encode File Loaded\n",
      "YESSSSSS\n",
      "Loading Encode File ...\n",
      "Encode File Loaded\n",
      "YESSSSSS\n",
      "Loading Encode File ...\n",
      "Encode File Loaded\n"
     ]
    },
    {
     "name": "stderr",
     "output_type": "stream",
     "text": [
      "127.0.0.1 - - [23/Nov/2023 13:10:41] \"POST /live HTTP/1.1\" 200 -\n",
      "127.0.0.1 - - [23/Nov/2023 13:10:42] \"POST /live HTTP/1.1\" 200 -\n",
      "127.0.0.1 - - [23/Nov/2023 13:10:42] \"POST /live HTTP/1.1\" 200 -\n",
      "127.0.0.1 - - [23/Nov/2023 13:10:42] \"POST /live HTTP/1.1\" 200 -\n"
     ]
    },
    {
     "name": "stdout",
     "output_type": "stream",
     "text": [
      "YESSSSSS\n",
      "Loading Encode File ...\n",
      "Encode File Loaded\n",
      "YESSSSSS\n",
      "Loading Encode File ...\n",
      "Encode File Loaded\n",
      "YESSSSSS\n",
      "Loading Encode File ...\n",
      "Encode File Loaded\n",
      "YESSSSSS\n",
      "Loading Encode File ...\n",
      "Encode File Loaded\n"
     ]
    },
    {
     "name": "stderr",
     "output_type": "stream",
     "text": [
      "127.0.0.1 - - [23/Nov/2023 13:10:42] \"POST /live HTTP/1.1\" 200 -\n",
      "127.0.0.1 - - [23/Nov/2023 13:10:42] \"POST /live HTTP/1.1\" 200 -\n",
      "127.0.0.1 - - [23/Nov/2023 13:10:42] \"POST /live HTTP/1.1\" 200 -\n",
      "127.0.0.1 - - [23/Nov/2023 13:10:42] \"POST /live HTTP/1.1\" 200 -\n"
     ]
    },
    {
     "name": "stdout",
     "output_type": "stream",
     "text": [
      "YESSSSSS\n",
      "Loading Encode File ...\n",
      "Encode File Loaded\n",
      "YESSSSSS\n",
      "Loading Encode File ...\n",
      "Encode File Loaded\n",
      "YESSSSSS\n",
      "Loading Encode File ...\n",
      "Encode File Loaded\n",
      "YESSSSSS\n",
      "Loading Encode File ...\n",
      "Encode File Loaded\n"
     ]
    },
    {
     "name": "stderr",
     "output_type": "stream",
     "text": [
      "127.0.0.1 - - [23/Nov/2023 13:10:42] \"POST /live HTTP/1.1\" 200 -\n",
      "127.0.0.1 - - [23/Nov/2023 13:10:42] \"POST /live HTTP/1.1\" 200 -\n",
      "127.0.0.1 - - [23/Nov/2023 13:10:42] \"POST /live HTTP/1.1\" 200 -\n",
      "127.0.0.1 - - [23/Nov/2023 13:10:42] \"POST /live HTTP/1.1\" 200 -\n"
     ]
    },
    {
     "name": "stdout",
     "output_type": "stream",
     "text": [
      "YESSSSSS\n",
      "Loading Encode File ...\n",
      "Encode File Loaded\n",
      "YESSSSSS\n",
      "Loading Encode File ...\n",
      "Encode File Loaded\n",
      "YESSSSSS\n",
      "Loading Encode File ...\n",
      "Encode File Loaded\n",
      "YESSSSSS\n",
      "Loading Encode File ...\n",
      "Encode File Loaded\n"
     ]
    },
    {
     "name": "stderr",
     "output_type": "stream",
     "text": [
      "127.0.0.1 - - [23/Nov/2023 13:10:42] \"POST /live HTTP/1.1\" 200 -\n",
      "127.0.0.1 - - [23/Nov/2023 13:10:42] \"POST /live HTTP/1.1\" 200 -\n",
      "127.0.0.1 - - [23/Nov/2023 13:10:42] \"POST /live HTTP/1.1\" 200 -\n",
      "127.0.0.1 - - [23/Nov/2023 13:10:42] \"POST /live HTTP/1.1\" 200 -\n"
     ]
    },
    {
     "name": "stdout",
     "output_type": "stream",
     "text": [
      "YESSSSSS\n",
      "Loading Encode File ...\n",
      "Encode File Loaded\n",
      "YESSSSSS\n",
      "Loading Encode File ...\n",
      "Encode File Loaded\n",
      "YESSSSSS\n",
      "Loading Encode File ...\n",
      "Encode File Loaded\n",
      "YESSSSSS\n",
      "Loading Encode File ...\n",
      "Encode File Loaded\n"
     ]
    },
    {
     "name": "stderr",
     "output_type": "stream",
     "text": [
      "127.0.0.1 - - [23/Nov/2023 13:10:42] \"POST /live HTTP/1.1\" 200 -\n",
      "127.0.0.1 - - [23/Nov/2023 13:10:42] \"POST /live HTTP/1.1\" 200 -\n",
      "127.0.0.1 - - [23/Nov/2023 13:10:42] \"POST /live HTTP/1.1\" 200 -\n",
      "127.0.0.1 - - [23/Nov/2023 13:10:42] \"POST /live HTTP/1.1\" 200 -\n",
      "127.0.0.1 - - [23/Nov/2023 13:10:43] \"POST /live HTTP/1.1\" 200 -\n"
     ]
    },
    {
     "name": "stdout",
     "output_type": "stream",
     "text": [
      "YESSSSSS\n",
      "Loading Encode File ...\n",
      "Encode File Loaded\n",
      "YESSSSSS\n",
      "Loading Encode File ...\n",
      "Encode File Loaded\n",
      "YESSSSSS\n",
      "Loading Encode File ...\n",
      "Encode File Loaded\n",
      "YESSSSSS\n",
      "Loading Encode File ...\n",
      "Encode File Loaded\n"
     ]
    },
    {
     "name": "stderr",
     "output_type": "stream",
     "text": [
      "127.0.0.1 - - [23/Nov/2023 13:10:43] \"POST /live HTTP/1.1\" 200 -\n",
      "127.0.0.1 - - [23/Nov/2023 13:10:43] \"POST /live HTTP/1.1\" 200 -\n",
      "127.0.0.1 - - [23/Nov/2023 13:10:43] \"POST /live HTTP/1.1\" 200 -\n",
      "127.0.0.1 - - [23/Nov/2023 13:10:43] \"POST /live HTTP/1.1\" 200 -\n"
     ]
    },
    {
     "name": "stdout",
     "output_type": "stream",
     "text": [
      "YESSSSSS\n",
      "Loading Encode File ...\n",
      "Encode File Loaded\n",
      "YESSSSSS\n",
      "Loading Encode File ...\n",
      "Encode File Loaded\n",
      "YESSSSSS\n",
      "Loading Encode File ...\n",
      "Encode File Loaded\n",
      "YESSSSSS\n",
      "Loading Encode File ...\n",
      "Encode File Loaded\n"
     ]
    },
    {
     "name": "stderr",
     "output_type": "stream",
     "text": [
      "127.0.0.1 - - [23/Nov/2023 13:10:43] \"POST /live HTTP/1.1\" 200 -\n",
      "127.0.0.1 - - [23/Nov/2023 13:10:43] \"POST /live HTTP/1.1\" 200 -\n",
      "127.0.0.1 - - [23/Nov/2023 13:10:43] \"POST /live HTTP/1.1\" 200 -\n",
      "127.0.0.1 - - [23/Nov/2023 13:10:43] \"POST /live HTTP/1.1\" 200 -\n"
     ]
    },
    {
     "name": "stdout",
     "output_type": "stream",
     "text": [
      "YESSSSSS\n",
      "Loading Encode File ...\n",
      "Encode File Loaded\n",
      "YESSSSSS\n",
      "Loading Encode File ...\n",
      "Encode File Loaded\n",
      "YESSSSSS\n",
      "Loading Encode File ...\n",
      "Encode File Loaded\n",
      "YESSSSSS\n",
      "Loading Encode File ...\n",
      "Encode File Loaded\n",
      "YESSSSSS\n",
      "Loading Encode File ...\n",
      "Encode File Loaded\n"
     ]
    },
    {
     "name": "stderr",
     "output_type": "stream",
     "text": [
      "127.0.0.1 - - [23/Nov/2023 13:10:43] \"POST /live HTTP/1.1\" 200 -\n",
      "127.0.0.1 - - [23/Nov/2023 13:10:43] \"POST /live HTTP/1.1\" 200 -\n",
      "127.0.0.1 - - [23/Nov/2023 13:10:43] \"POST /live HTTP/1.1\" 200 -\n",
      "127.0.0.1 - - [23/Nov/2023 13:10:43] \"POST /live HTTP/1.1\" 200 -\n"
     ]
    },
    {
     "name": "stdout",
     "output_type": "stream",
     "text": [
      "YESSSSSS\n",
      "Loading Encode File ...\n",
      "Encode File Loaded\n",
      "YESSSSSS\n",
      "Loading Encode File ...\n",
      "Encode File Loaded\n",
      "YESSSSSS\n",
      "Loading Encode File ...\n",
      "Encode File Loaded\n",
      "YESSSSSS\n",
      "Loading Encode File ...\n",
      "Encode File Loaded\n"
     ]
    },
    {
     "name": "stderr",
     "output_type": "stream",
     "text": [
      "127.0.0.1 - - [23/Nov/2023 13:10:43] \"POST /live HTTP/1.1\" 200 -\n",
      "127.0.0.1 - - [23/Nov/2023 13:10:43] \"POST /live HTTP/1.1\" 200 -\n",
      "127.0.0.1 - - [23/Nov/2023 13:10:43] \"POST /live HTTP/1.1\" 200 -\n",
      "127.0.0.1 - - [23/Nov/2023 13:10:43] \"POST /live HTTP/1.1\" 200 -\n",
      "127.0.0.1 - - [23/Nov/2023 13:10:43] \"POST /live HTTP/1.1\" 200 -\n"
     ]
    },
    {
     "name": "stdout",
     "output_type": "stream",
     "text": [
      "YESSSSSS\n",
      "Loading Encode File ...\n",
      "Encode File Loaded\n",
      "YESSSSSS\n",
      "Loading Encode File ...\n",
      "Encode File Loaded\n",
      "YESSSSSS\n",
      "Loading Encode File ...\n",
      "Encode File Loaded\n",
      "YESSSSSS\n",
      "Loading Encode File ...\n",
      "Encode File Loaded\n"
     ]
    },
    {
     "name": "stderr",
     "output_type": "stream",
     "text": [
      "127.0.0.1 - - [23/Nov/2023 13:10:43] \"POST /live HTTP/1.1\" 200 -\n",
      "127.0.0.1 - - [23/Nov/2023 13:10:43] \"POST /live HTTP/1.1\" 200 -\n",
      "127.0.0.1 - - [23/Nov/2023 13:10:44] \"POST /live HTTP/1.1\" 200 -\n"
     ]
    },
    {
     "name": "stdout",
     "output_type": "stream",
     "text": [
      "YESSSSSS\n",
      "Loading Encode File ...\n",
      "Encode File Loaded\n",
      "YESSSSSS\n",
      "Loading Encode File ...\n",
      "Encode File Loaded\n",
      "YESSSSSS\n",
      "Loading Encode File ...\n",
      "Encode File Loaded\n",
      "YESSSSSS\n",
      "Loading Encode File ...\n",
      "Encode File Loaded\n"
     ]
    },
    {
     "name": "stderr",
     "output_type": "stream",
     "text": [
      "127.0.0.1 - - [23/Nov/2023 13:10:44] \"POST /live HTTP/1.1\" 200 -\n",
      "127.0.0.1 - - [23/Nov/2023 13:10:44] \"POST /live HTTP/1.1\" 200 -\n",
      "127.0.0.1 - - [23/Nov/2023 13:10:44] \"POST /live HTTP/1.1\" 200 -\n",
      "127.0.0.1 - - [23/Nov/2023 13:10:44] \"POST /live HTTP/1.1\" 200 -\n"
     ]
    },
    {
     "name": "stdout",
     "output_type": "stream",
     "text": [
      "YESSSSSS\n",
      "Loading Encode File ...\n",
      "Encode File Loaded\n",
      "YESSSSSS\n",
      "Loading Encode File ...\n",
      "Encode File Loaded\n",
      "YESSSSSS\n",
      "Loading Encode File ...\n",
      "Encode File Loaded\n",
      "YESSSSSS\n",
      "Loading Encode File ...\n",
      "Encode File Loaded\n"
     ]
    },
    {
     "name": "stderr",
     "output_type": "stream",
     "text": [
      "127.0.0.1 - - [23/Nov/2023 13:10:44] \"POST /live HTTP/1.1\" 200 -\n",
      "127.0.0.1 - - [23/Nov/2023 13:10:44] \"POST /live HTTP/1.1\" 200 -\n",
      "127.0.0.1 - - [23/Nov/2023 13:10:44] \"POST /live HTTP/1.1\" 200 -\n",
      "127.0.0.1 - - [23/Nov/2023 13:10:44] \"POST /live HTTP/1.1\" 200 -\n"
     ]
    },
    {
     "name": "stdout",
     "output_type": "stream",
     "text": [
      "YESSSSSS\n",
      "Loading Encode File ...\n",
      "Encode File Loaded\n",
      "YESSSSSS\n",
      "Loading Encode File ...\n",
      "Encode File Loaded\n",
      "YESSSSSS\n",
      "Loading Encode File ...\n",
      "Encode File Loaded\n",
      "YESSSSSS\n",
      "Loading Encode File ...\n",
      "Encode File Loaded\n"
     ]
    },
    {
     "name": "stderr",
     "output_type": "stream",
     "text": [
      "127.0.0.1 - - [23/Nov/2023 13:10:44] \"POST /live HTTP/1.1\" 200 -\n",
      "127.0.0.1 - - [23/Nov/2023 13:10:44] \"POST /live HTTP/1.1\" 200 -\n",
      "127.0.0.1 - - [23/Nov/2023 13:10:44] \"POST /live HTTP/1.1\" 200 -\n",
      "127.0.0.1 - - [23/Nov/2023 13:10:44] \"POST /live HTTP/1.1\" 200 -\n",
      "127.0.0.1 - - [23/Nov/2023 13:10:44] \"POST /live HTTP/1.1\" 200 -\n"
     ]
    },
    {
     "name": "stdout",
     "output_type": "stream",
     "text": [
      "YESSSSSS\n",
      "Loading Encode File ...\n",
      "Encode File Loaded\n",
      "YESSSSSS\n",
      "Loading Encode File ...\n",
      "Encode File Loaded\n",
      "YESSSSSS\n",
      "Loading Encode File ...\n",
      "Encode File Loaded\n",
      "YESSSSSS\n",
      "Loading Encode File ...\n",
      "Encode File Loaded\n"
     ]
    },
    {
     "name": "stderr",
     "output_type": "stream",
     "text": [
      "127.0.0.1 - - [23/Nov/2023 13:10:44] \"POST /live HTTP/1.1\" 200 -\n",
      "127.0.0.1 - - [23/Nov/2023 13:10:44] \"POST /live HTTP/1.1\" 200 -\n",
      "127.0.0.1 - - [23/Nov/2023 13:10:44] \"POST /live HTTP/1.1\" 200 -\n",
      "127.0.0.1 - - [23/Nov/2023 13:10:44] \"POST /live HTTP/1.1\" 200 -\n"
     ]
    },
    {
     "name": "stdout",
     "output_type": "stream",
     "text": [
      "YESSSSSS\n",
      "Loading Encode File ...\n",
      "Encode File Loaded\n",
      "YESSSSSS\n",
      "Loading Encode File ...\n",
      "Encode File Loaded\n",
      "YESSSSSS\n",
      "Loading Encode File ...\n",
      "Encode File Loaded\n",
      "YESSSSSS\n",
      "Loading Encode File ...\n",
      "Encode File Loaded\n"
     ]
    },
    {
     "name": "stderr",
     "output_type": "stream",
     "text": [
      "127.0.0.1 - - [23/Nov/2023 13:10:44] \"POST /live HTTP/1.1\" 200 -\n",
      "127.0.0.1 - - [23/Nov/2023 13:10:45] \"POST /live HTTP/1.1\" 200 -\n",
      "127.0.0.1 - - [23/Nov/2023 13:10:45] \"POST /live HTTP/1.1\" 200 -\n",
      "127.0.0.1 - - [23/Nov/2023 13:10:45] \"POST /live HTTP/1.1\" 200 -\n"
     ]
    },
    {
     "name": "stdout",
     "output_type": "stream",
     "text": [
      "YESSSSSS\n",
      "Loading Encode File ...\n",
      "Encode File Loaded\n",
      "YESSSSSS\n",
      "Loading Encode File ...\n",
      "Encode File Loaded\n",
      "YESSSSSS\n",
      "Loading Encode File ...\n",
      "Encode File Loaded\n",
      "YESSSSSS\n",
      "Loading Encode File ...\n",
      "Encode File Loaded\n"
     ]
    },
    {
     "name": "stderr",
     "output_type": "stream",
     "text": [
      "127.0.0.1 - - [23/Nov/2023 13:10:45] \"POST /live HTTP/1.1\" 200 -\n",
      "127.0.0.1 - - [23/Nov/2023 13:10:45] \"POST /live HTTP/1.1\" 200 -\n",
      "127.0.0.1 - - [23/Nov/2023 13:10:45] \"POST /live HTTP/1.1\" 200 -\n"
     ]
    },
    {
     "name": "stdout",
     "output_type": "stream",
     "text": [
      "YESSSSSS\n",
      "Loading Encode File ...\n",
      "Encode File Loaded\n",
      "YESSSSSS\n",
      "Loading Encode File ...\n",
      "Encode File Loaded\n",
      "YESSSSSS\n",
      "Loading Encode File ...\n",
      "Encode File Loaded\n",
      "YESSSSSS\n",
      "Loading Encode File ...\n",
      "Encode File Loaded\n"
     ]
    },
    {
     "name": "stderr",
     "output_type": "stream",
     "text": [
      "127.0.0.1 - - [23/Nov/2023 13:10:45] \"POST /live HTTP/1.1\" 200 -\n",
      "127.0.0.1 - - [23/Nov/2023 13:10:45] \"POST /live HTTP/1.1\" 200 -\n",
      "127.0.0.1 - - [23/Nov/2023 13:10:45] \"POST /live HTTP/1.1\" 200 -\n",
      "127.0.0.1 - - [23/Nov/2023 13:10:45] \"POST /live HTTP/1.1\" 200 -\n",
      "127.0.0.1 - - [23/Nov/2023 13:10:45] \"POST /live HTTP/1.1\" 200 -\n"
     ]
    },
    {
     "name": "stdout",
     "output_type": "stream",
     "text": [
      "YESSSSSS\n",
      "Loading Encode File ...\n",
      "Encode File Loaded\n",
      "YESSSSSS\n",
      "Loading Encode File ...\n",
      "Encode File Loaded\n",
      "YESSSSSS\n",
      "Loading Encode File ...\n",
      "Encode File Loaded\n",
      "YESSSSSS\n",
      "Loading Encode File ...\n",
      "Encode File Loaded\n"
     ]
    },
    {
     "name": "stderr",
     "output_type": "stream",
     "text": [
      "127.0.0.1 - - [23/Nov/2023 13:10:45] \"POST /live HTTP/1.1\" 200 -\n",
      "127.0.0.1 - - [23/Nov/2023 13:10:45] \"POST /live HTTP/1.1\" 200 -\n",
      "127.0.0.1 - - [23/Nov/2023 13:10:45] \"POST /live HTTP/1.1\" 200 -\n",
      "127.0.0.1 - - [23/Nov/2023 13:10:45] \"POST /live HTTP/1.1\" 200 -\n"
     ]
    },
    {
     "name": "stdout",
     "output_type": "stream",
     "text": [
      "YESSSSSS\n",
      "Loading Encode File ...\n",
      "Encode File Loaded\n",
      "YESSSSSS\n",
      "Loading Encode File ...\n",
      "Encode File Loaded\n",
      "YESSSSSS\n",
      "Loading Encode File ...\n",
      "Encode File Loaded\n",
      "YESSSSSS\n",
      "Loading Encode File ...\n",
      "Encode File Loaded\n"
     ]
    },
    {
     "name": "stderr",
     "output_type": "stream",
     "text": [
      "127.0.0.1 - - [23/Nov/2023 13:10:45] \"POST /live HTTP/1.1\" 200 -\n",
      "127.0.0.1 - - [23/Nov/2023 13:10:45] \"POST /live HTTP/1.1\" 200 -\n",
      "127.0.0.1 - - [23/Nov/2023 13:10:45] \"POST /live HTTP/1.1\" 200 -\n"
     ]
    },
    {
     "name": "stdout",
     "output_type": "stream",
     "text": [
      "YESSSSSS\n",
      "Loading Encode File ...\n",
      "Encode File Loaded\n",
      "YESSSSSS\n",
      "Loading Encode File ...\n",
      "Encode File Loaded\n",
      "YESSSSSS\n",
      "Loading Encode File ...\n",
      "Encode File Loaded\n",
      "YESSSSSS\n",
      "Loading Encode File ...\n",
      "Encode File Loaded\n"
     ]
    },
    {
     "name": "stderr",
     "output_type": "stream",
     "text": [
      "127.0.0.1 - - [23/Nov/2023 13:10:45] \"POST /live HTTP/1.1\" 200 -\n",
      "127.0.0.1 - - [23/Nov/2023 13:10:46] \"POST /live HTTP/1.1\" 200 -\n",
      "127.0.0.1 - - [23/Nov/2023 13:10:46] \"POST /live HTTP/1.1\" 200 -\n",
      "127.0.0.1 - - [23/Nov/2023 13:10:46] \"POST /live HTTP/1.1\" 200 -\n",
      "127.0.0.1 - - [23/Nov/2023 13:10:46] \"POST /live HTTP/1.1\" 200 -\n"
     ]
    },
    {
     "name": "stdout",
     "output_type": "stream",
     "text": [
      "YESSSSSS\n",
      "Loading Encode File ...\n",
      "Encode File Loaded\n",
      "YESSSSSS\n",
      "Loading Encode File ...\n",
      "Encode File Loaded\n",
      "YESSSSSS\n",
      "Loading Encode File ...\n",
      "Encode File Loaded\n",
      "YESSSSSS\n",
      "Loading Encode File ...\n",
      "Encode File Loaded\n"
     ]
    },
    {
     "name": "stderr",
     "output_type": "stream",
     "text": [
      "127.0.0.1 - - [23/Nov/2023 13:10:46] \"POST /live HTTP/1.1\" 200 -\n",
      "127.0.0.1 - - [23/Nov/2023 13:10:46] \"POST /live HTTP/1.1\" 200 -\n",
      "127.0.0.1 - - [23/Nov/2023 13:10:46] \"POST /live HTTP/1.1\" 200 -\n",
      "127.0.0.1 - - [23/Nov/2023 13:10:46] \"POST /live HTTP/1.1\" 200 -\n"
     ]
    },
    {
     "name": "stdout",
     "output_type": "stream",
     "text": [
      "YESSSSSS\n",
      "Loading Encode File ...\n",
      "Encode File Loaded\n",
      "YESSSSSS\n",
      "Loading Encode File ...\n",
      "Encode File Loaded\n",
      "YESSSSSS\n",
      "Loading Encode File ...\n",
      "Encode File Loaded\n",
      "YESSSSSS\n",
      "Loading Encode File ...\n",
      "Encode File Loaded\n"
     ]
    },
    {
     "name": "stderr",
     "output_type": "stream",
     "text": [
      "127.0.0.1 - - [23/Nov/2023 13:10:46] \"POST /live HTTP/1.1\" 200 -\n",
      "127.0.0.1 - - [23/Nov/2023 13:10:46] \"POST /live HTTP/1.1\" 200 -\n",
      "127.0.0.1 - - [23/Nov/2023 13:10:46] \"POST /live HTTP/1.1\" 200 -\n",
      "127.0.0.1 - - [23/Nov/2023 13:10:46] \"POST /live HTTP/1.1\" 200 -\n"
     ]
    },
    {
     "name": "stdout",
     "output_type": "stream",
     "text": [
      "YESSSSSS\n",
      "Loading Encode File ...\n",
      "Encode File Loaded\n",
      "YESSSSSS\n",
      "Loading Encode File ...\n",
      "Encode File Loaded\n",
      "YESSSSSS\n",
      "Loading Encode File ...\n",
      "Encode File Loaded\n",
      "YESSSSSS\n",
      "Loading Encode File ...\n",
      "Encode File Loaded\n",
      "YESSSSSS\n",
      "Loading Encode File ...\n",
      "Encode File Loaded\n"
     ]
    },
    {
     "name": "stderr",
     "output_type": "stream",
     "text": [
      "127.0.0.1 - - [23/Nov/2023 13:10:46] \"POST /live HTTP/1.1\" 200 -\n",
      "127.0.0.1 - - [23/Nov/2023 13:10:46] \"POST /live HTTP/1.1\" 200 -\n",
      "127.0.0.1 - - [23/Nov/2023 13:10:46] \"POST /live HTTP/1.1\" 200 -\n",
      "127.0.0.1 - - [23/Nov/2023 13:10:46] \"POST /live HTTP/1.1\" 200 -\n"
     ]
    },
    {
     "name": "stdout",
     "output_type": "stream",
     "text": [
      "YESSSSSS\n",
      "Loading Encode File ...\n",
      "Encode File Loaded\n",
      "YESSSSSS\n",
      "Loading Encode File ...\n",
      "Encode File Loaded\n",
      "YESSSSSS\n",
      "Loading Encode File ...\n",
      "Encode File Loaded\n",
      "YESSSSSS\n",
      "Loading Encode File ...\n",
      "Encode File Loaded\n"
     ]
    },
    {
     "name": "stderr",
     "output_type": "stream",
     "text": [
      "127.0.0.1 - - [23/Nov/2023 13:10:46] \"POST /live HTTP/1.1\" 200 -\n",
      "127.0.0.1 - - [23/Nov/2023 13:10:46] \"POST /live HTTP/1.1\" 200 -\n",
      "127.0.0.1 - - [23/Nov/2023 13:10:46] \"POST /live HTTP/1.1\" 200 -\n",
      "127.0.0.1 - - [23/Nov/2023 13:10:47] \"POST /live HTTP/1.1\" 200 -\n",
      "127.0.0.1 - - [23/Nov/2023 13:10:47] \"POST /live HTTP/1.1\" 200 -\n"
     ]
    },
    {
     "name": "stdout",
     "output_type": "stream",
     "text": [
      "YESSSSSS\n",
      "Loading Encode File ...\n",
      "Encode File Loaded\n",
      "YESSSSSS\n",
      "Loading Encode File ...\n",
      "Encode File Loaded\n",
      "YESSSSSS\n",
      "Loading Encode File ...\n",
      "Encode File Loaded\n",
      "YESSSSSS\n",
      "Loading Encode File ...\n",
      "Encode File Loaded\n"
     ]
    },
    {
     "name": "stderr",
     "output_type": "stream",
     "text": [
      "127.0.0.1 - - [23/Nov/2023 13:10:47] \"POST /live HTTP/1.1\" 200 -\n",
      "127.0.0.1 - - [23/Nov/2023 13:10:47] \"POST /live HTTP/1.1\" 200 -\n",
      "127.0.0.1 - - [23/Nov/2023 13:10:47] \"POST /live HTTP/1.1\" 200 -\n",
      "127.0.0.1 - - [23/Nov/2023 13:10:47] \"POST /live HTTP/1.1\" 200 -\n"
     ]
    },
    {
     "name": "stdout",
     "output_type": "stream",
     "text": [
      "YESSSSSS\n",
      "Loading Encode File ...\n",
      "Encode File Loaded\n",
      "YESSSSSS\n",
      "Loading Encode File ...\n",
      "Encode File Loaded\n",
      "YESSSSSS\n",
      "Loading Encode File ...\n",
      "Encode File Loaded\n",
      "YESSSSSS\n",
      "Loading Encode File ...\n",
      "Encode File Loaded\n"
     ]
    },
    {
     "name": "stderr",
     "output_type": "stream",
     "text": [
      "127.0.0.1 - - [23/Nov/2023 13:10:47] \"POST /live HTTP/1.1\" 200 -\n",
      "127.0.0.1 - - [23/Nov/2023 13:10:47] \"POST /live HTTP/1.1\" 200 -\n",
      "127.0.0.1 - - [23/Nov/2023 13:10:47] \"POST /live HTTP/1.1\" 200 -\n",
      "127.0.0.1 - - [23/Nov/2023 13:10:47] \"POST /live HTTP/1.1\" 200 -\n"
     ]
    },
    {
     "name": "stdout",
     "output_type": "stream",
     "text": [
      "YESSSSSS\n",
      "Loading Encode File ...\n",
      "Encode File Loaded\n",
      "YESSSSSS\n",
      "Loading Encode File ...\n",
      "Encode File Loaded\n",
      "YESSSSSS\n",
      "Loading Encode File ...\n",
      "Encode File Loaded\n",
      "YESSSSSS\n",
      "Loading Encode File ...\n",
      "Encode File Loaded\n"
     ]
    },
    {
     "name": "stderr",
     "output_type": "stream",
     "text": [
      "127.0.0.1 - - [23/Nov/2023 13:10:47] \"POST /live HTTP/1.1\" 200 -\n",
      "127.0.0.1 - - [23/Nov/2023 13:10:47] \"POST /live HTTP/1.1\" 200 -\n",
      "127.0.0.1 - - [23/Nov/2023 13:10:47] \"POST /live HTTP/1.1\" 200 -\n",
      "127.0.0.1 - - [23/Nov/2023 13:10:47] \"POST /live HTTP/1.1\" 200 -\n"
     ]
    },
    {
     "name": "stdout",
     "output_type": "stream",
     "text": [
      "YESSSSSS\n",
      "Loading Encode File ...\n",
      "Encode File Loaded\n",
      "YESSSSSS\n",
      "Loading Encode File ...\n",
      "Encode File Loaded\n",
      "YESSSSSS\n",
      "Loading Encode File ...\n",
      "Encode File Loaded\n",
      "YESSSSSS\n",
      "Loading Encode File ...\n",
      "Encode File Loaded\n"
     ]
    },
    {
     "name": "stderr",
     "output_type": "stream",
     "text": [
      "127.0.0.1 - - [23/Nov/2023 13:10:47] \"POST /live HTTP/1.1\" 200 -\n",
      "127.0.0.1 - - [23/Nov/2023 13:10:47] \"POST /live HTTP/1.1\" 200 -\n",
      "127.0.0.1 - - [23/Nov/2023 13:10:47] \"POST /live HTTP/1.1\" 200 -\n"
     ]
    },
    {
     "name": "stdout",
     "output_type": "stream",
     "text": [
      "YESSSSSS\n",
      "Loading Encode File ...\n",
      "Encode File Loaded\n",
      "YESSSSSS\n",
      "Loading Encode File ...\n",
      "Encode File Loaded\n",
      "YESSSSSS\n",
      "Loading Encode File ...\n",
      "Encode File Loaded\n",
      "YESSSSSS\n",
      "Loading Encode File ...\n",
      "Encode File Loaded\n"
     ]
    },
    {
     "name": "stderr",
     "output_type": "stream",
     "text": [
      "127.0.0.1 - - [23/Nov/2023 13:10:47] \"POST /live HTTP/1.1\" 200 -\n",
      "127.0.0.1 - - [23/Nov/2023 13:10:47] \"POST /live HTTP/1.1\" 200 -\n",
      "127.0.0.1 - - [23/Nov/2023 13:10:48] \"POST /live HTTP/1.1\" 200 -\n",
      "127.0.0.1 - - [23/Nov/2023 13:10:48] \"POST /live HTTP/1.1\" 200 -\n"
     ]
    },
    {
     "name": "stdout",
     "output_type": "stream",
     "text": [
      "YESSSSSS\n",
      "Loading Encode File ...\n",
      "Encode File Loaded\n",
      "YESSSSSS\n",
      "Loading Encode File ...\n",
      "Encode File Loaded\n",
      "YESSSSSS\n",
      "Loading Encode File ...\n",
      "Encode File Loaded\n",
      "YESSSSSS\n",
      "Loading Encode File ...\n",
      "Encode File Loaded\n"
     ]
    },
    {
     "name": "stderr",
     "output_type": "stream",
     "text": [
      "127.0.0.1 - - [23/Nov/2023 13:10:48] \"POST /live HTTP/1.1\" 200 -\n",
      "127.0.0.1 - - [23/Nov/2023 13:10:48] \"POST /live HTTP/1.1\" 200 -\n",
      "127.0.0.1 - - [23/Nov/2023 13:10:48] \"POST /live HTTP/1.1\" 200 -\n",
      "127.0.0.1 - - [23/Nov/2023 13:10:48] \"POST /live HTTP/1.1\" 200 -\n"
     ]
    },
    {
     "name": "stdout",
     "output_type": "stream",
     "text": [
      "YESSSSSS\n",
      "Loading Encode File ...\n",
      "Encode File Loaded\n",
      "YESSSSSS\n",
      "Loading Encode File ...\n",
      "Encode File Loaded\n",
      "YESSSSSS\n",
      "Loading Encode File ...\n",
      "Encode File Loaded\n",
      "YESSSSSS\n",
      "Loading Encode File ...\n",
      "Encode File Loaded\n"
     ]
    },
    {
     "name": "stderr",
     "output_type": "stream",
     "text": [
      "127.0.0.1 - - [23/Nov/2023 13:10:48] \"POST /live HTTP/1.1\" 200 -\n",
      "127.0.0.1 - - [23/Nov/2023 13:10:48] \"POST /live HTTP/1.1\" 200 -\n",
      "127.0.0.1 - - [23/Nov/2023 13:10:48] \"POST /live HTTP/1.1\" 200 -\n",
      "127.0.0.1 - - [23/Nov/2023 13:10:48] \"POST /live HTTP/1.1\" 200 -\n",
      "127.0.0.1 - - [23/Nov/2023 13:10:48] \"POST /live HTTP/1.1\" 200 -\n"
     ]
    },
    {
     "name": "stdout",
     "output_type": "stream",
     "text": [
      "YESSSSSS\n",
      "Loading Encode File ...\n",
      "Encode File Loaded\n",
      "YESSSSSS\n",
      "Loading Encode File ...\n",
      "Encode File Loaded\n",
      "YESSSSSS\n",
      "Loading Encode File ...\n",
      "Encode File Loaded\n",
      "YESSSSSS\n",
      "Loading Encode File ...\n",
      "Encode File Loaded\n",
      "YESSSSSS\n",
      "Loading Encode File ...\n",
      "Encode File Loaded\n"
     ]
    },
    {
     "name": "stderr",
     "output_type": "stream",
     "text": [
      "127.0.0.1 - - [23/Nov/2023 13:10:48] \"POST /live HTTP/1.1\" 200 -\n",
      "127.0.0.1 - - [23/Nov/2023 13:10:48] \"POST /live HTTP/1.1\" 200 -\n",
      "127.0.0.1 - - [23/Nov/2023 13:10:48] \"POST /live HTTP/1.1\" 200 -\n",
      "127.0.0.1 - - [23/Nov/2023 13:10:48] \"POST /live HTTP/1.1\" 200 -\n"
     ]
    },
    {
     "name": "stdout",
     "output_type": "stream",
     "text": [
      "YESSSSSS\n",
      "Loading Encode File ...\n",
      "Encode File Loaded\n",
      "YESSSSSS\n",
      "Loading Encode File ...\n",
      "Encode File Loaded\n",
      "YESSSSSS\n",
      "Loading Encode File ...\n",
      "Encode File Loaded\n",
      "YESSSSSS\n",
      "Loading Encode File ...\n",
      "Encode File Loaded\n"
     ]
    },
    {
     "name": "stderr",
     "output_type": "stream",
     "text": [
      "127.0.0.1 - - [23/Nov/2023 13:10:48] \"POST /live HTTP/1.1\" 200 -\n",
      "127.0.0.1 - - [23/Nov/2023 13:10:48] \"POST /live HTTP/1.1\" 200 -\n",
      "127.0.0.1 - - [23/Nov/2023 13:10:48] \"POST /live HTTP/1.1\" 200 -\n",
      "127.0.0.1 - - [23/Nov/2023 13:10:48] \"POST /live HTTP/1.1\" 200 -\n",
      "127.0.0.1 - - [23/Nov/2023 13:10:48] \"POST /live HTTP/1.1\" 200 -\n"
     ]
    },
    {
     "name": "stdout",
     "output_type": "stream",
     "text": [
      "YESSSSSS\n",
      "Loading Encode File ...\n",
      "Encode File Loaded\n",
      "YESSSSSS\n",
      "Loading Encode File ...\n",
      "Encode File Loaded\n",
      "YESSSSSS\n",
      "Loading Encode File ...\n",
      "Encode File Loaded\n",
      "YESSSSSS\n",
      "Loading Encode File ...\n",
      "Encode File Loaded\n"
     ]
    },
    {
     "name": "stderr",
     "output_type": "stream",
     "text": [
      "127.0.0.1 - - [23/Nov/2023 13:10:49] \"POST /live HTTP/1.1\" 200 -\n",
      "127.0.0.1 - - [23/Nov/2023 13:10:49] \"POST /live HTTP/1.1\" 200 -\n",
      "127.0.0.1 - - [23/Nov/2023 13:10:49] \"POST /live HTTP/1.1\" 200 -\n"
     ]
    },
    {
     "name": "stdout",
     "output_type": "stream",
     "text": [
      "YESSSSSS\n",
      "Loading Encode File ...\n",
      "Encode File Loaded\n",
      "YESSSSSS\n",
      "Loading Encode File ...\n",
      "Encode File Loaded\n",
      "YESSSSSS\n",
      "Loading Encode File ...\n",
      "Encode File Loaded\n",
      "YESSSSSS\n",
      "Loading Encode File ...\n",
      "Encode File Loaded\n"
     ]
    },
    {
     "name": "stderr",
     "output_type": "stream",
     "text": [
      "127.0.0.1 - - [23/Nov/2023 13:10:49] \"POST /live HTTP/1.1\" 200 -\n",
      "127.0.0.1 - - [23/Nov/2023 13:10:49] \"POST /live HTTP/1.1\" 200 -\n",
      "127.0.0.1 - - [23/Nov/2023 13:10:49] \"POST /live HTTP/1.1\" 200 -\n",
      "127.0.0.1 - - [23/Nov/2023 13:10:49] \"POST /live HTTP/1.1\" 200 -\n",
      "127.0.0.1 - - [23/Nov/2023 13:10:49] \"POST /live HTTP/1.1\" 200 -\n"
     ]
    },
    {
     "name": "stdout",
     "output_type": "stream",
     "text": [
      "YESSSSSS\n",
      "Loading Encode File ...\n",
      "Encode File Loaded\n",
      "YESSSSSS\n",
      "Loading Encode File ...\n",
      "Encode File Loaded\n",
      "YESSSSSS\n",
      "Loading Encode File ...\n",
      "Encode File Loaded\n",
      "YESSSSSS\n",
      "Loading Encode File ...\n",
      "Encode File Loaded\n"
     ]
    },
    {
     "name": "stderr",
     "output_type": "stream",
     "text": [
      "127.0.0.1 - - [23/Nov/2023 13:10:49] \"POST /live HTTP/1.1\" 200 -\n",
      "127.0.0.1 - - [23/Nov/2023 13:10:49] \"POST /live HTTP/1.1\" 200 -\n",
      "127.0.0.1 - - [23/Nov/2023 13:10:49] \"POST /live HTTP/1.1\" 200 -\n",
      "127.0.0.1 - - [23/Nov/2023 13:10:49] \"POST /live HTTP/1.1\" 200 -\n"
     ]
    },
    {
     "name": "stdout",
     "output_type": "stream",
     "text": [
      "YESSSSSS\n",
      "Loading Encode File ...\n",
      "Encode File Loaded\n",
      "YESSSSSS\n",
      "Loading Encode File ...\n",
      "Encode File Loaded\n",
      "YESSSSSS\n",
      "Loading Encode File ...\n",
      "Encode File Loaded\n",
      "YESSSSSS\n",
      "Loading Encode File ...\n",
      "Encode File Loaded\n"
     ]
    },
    {
     "name": "stderr",
     "output_type": "stream",
     "text": [
      "127.0.0.1 - - [23/Nov/2023 13:10:49] \"POST /live HTTP/1.1\" 200 -\n",
      "127.0.0.1 - - [23/Nov/2023 13:10:49] \"POST /live HTTP/1.1\" 200 -\n",
      "127.0.0.1 - - [23/Nov/2023 13:10:49] \"POST /live HTTP/1.1\" 200 -\n",
      "127.0.0.1 - - [23/Nov/2023 13:10:49] \"POST /live HTTP/1.1\" 200 -\n"
     ]
    },
    {
     "name": "stdout",
     "output_type": "stream",
     "text": [
      "YESSSSSS\n",
      "Loading Encode File ...\n",
      "Encode File Loaded\n",
      "YESSSSSS\n",
      "Loading Encode File ...\n",
      "Encode File Loaded\n",
      "YESSSSSS\n",
      "Loading Encode File ...\n",
      "Encode File Loaded\n",
      "YESSSSSS\n",
      "Loading Encode File ...\n",
      "Encode File Loaded\n"
     ]
    },
    {
     "name": "stderr",
     "output_type": "stream",
     "text": [
      "127.0.0.1 - - [23/Nov/2023 13:10:49] \"POST /live HTTP/1.1\" 200 -\n",
      "127.0.0.1 - - [23/Nov/2023 13:10:49] \"POST /live HTTP/1.1\" 200 -\n",
      "127.0.0.1 - - [23/Nov/2023 13:10:49] \"POST /live HTTP/1.1\" 200 -\n",
      "127.0.0.1 - - [23/Nov/2023 13:10:50] \"POST /live HTTP/1.1\" 200 -\n"
     ]
    },
    {
     "name": "stdout",
     "output_type": "stream",
     "text": [
      "YESSSSSS\n",
      "Loading Encode File ...\n",
      "Encode File Loaded\n",
      "YESSSSSS\n",
      "Loading Encode File ...\n",
      "Encode File Loaded\n",
      "YESSSSSS\n",
      "Loading Encode File ...\n",
      "Encode File Loaded\n",
      "YESSSSSS\n",
      "Loading Encode File ...\n",
      "Encode File Loaded\n",
      "YESSSSSS\n",
      "Loading Encode File ...\n",
      "Encode File Loaded\n"
     ]
    },
    {
     "name": "stderr",
     "output_type": "stream",
     "text": [
      "127.0.0.1 - - [23/Nov/2023 13:10:50] \"POST /live HTTP/1.1\" 200 -\n",
      "127.0.0.1 - - [23/Nov/2023 13:10:50] \"POST /live HTTP/1.1\" 200 -\n",
      "127.0.0.1 - - [23/Nov/2023 13:10:50] \"POST /live HTTP/1.1\" 200 -\n",
      "127.0.0.1 - - [23/Nov/2023 13:10:50] \"POST /live HTTP/1.1\" 200 -\n"
     ]
    },
    {
     "name": "stdout",
     "output_type": "stream",
     "text": [
      "YESSSSSS\n",
      "Loading Encode File ...\n",
      "Encode File Loaded\n",
      "YESSSSSS\n",
      "Loading Encode File ...\n",
      "Encode File Loaded\n",
      "YESSSSSS\n",
      "Loading Encode File ...\n",
      "Encode File Loaded\n",
      "YESSSSSS\n",
      "Loading Encode File ...\n",
      "Encode File Loaded\n"
     ]
    },
    {
     "name": "stderr",
     "output_type": "stream",
     "text": [
      "127.0.0.1 - - [23/Nov/2023 13:10:50] \"POST /live HTTP/1.1\" 200 -\n",
      "127.0.0.1 - - [23/Nov/2023 13:10:50] \"POST /live HTTP/1.1\" 200 -\n",
      "127.0.0.1 - - [23/Nov/2023 13:10:50] \"POST /live HTTP/1.1\" 200 -\n",
      "127.0.0.1 - - [23/Nov/2023 13:10:50] \"POST /live HTTP/1.1\" 200 -\n",
      "127.0.0.1 - - [23/Nov/2023 13:10:50] \"POST /live HTTP/1.1\" 200 -\n"
     ]
    },
    {
     "name": "stdout",
     "output_type": "stream",
     "text": [
      "YESSSSSS\n",
      "Loading Encode File ...\n",
      "Encode File Loaded\n",
      "YESSSSSS\n",
      "Loading Encode File ...\n",
      "Encode File Loaded\n",
      "YESSSSSS\n",
      "Loading Encode File ...\n",
      "Encode File Loaded\n",
      "YESSSSSS\n",
      "Loading Encode File ...\n",
      "Encode File Loaded\n"
     ]
    },
    {
     "name": "stderr",
     "output_type": "stream",
     "text": [
      "127.0.0.1 - - [23/Nov/2023 13:10:50] \"POST /live HTTP/1.1\" 200 -\n",
      "127.0.0.1 - - [23/Nov/2023 13:10:50] \"POST /live HTTP/1.1\" 200 -\n",
      "127.0.0.1 - - [23/Nov/2023 13:10:50] \"POST /live HTTP/1.1\" 200 -\n"
     ]
    },
    {
     "name": "stdout",
     "output_type": "stream",
     "text": [
      "YESSSSSS\n",
      "Loading Encode File ...\n",
      "Encode File Loaded\n",
      "YESSSSSS\n",
      "Loading Encode File ...\n",
      "Encode File Loaded\n",
      "YESSSSSS\n",
      "Loading Encode File ...\n",
      "Encode File Loaded\n",
      "YESSSSSS\n",
      "Loading Encode File ...\n",
      "Encode File Loaded\n"
     ]
    },
    {
     "name": "stderr",
     "output_type": "stream",
     "text": [
      "127.0.0.1 - - [23/Nov/2023 13:10:50] \"POST /live HTTP/1.1\" 200 -\n",
      "127.0.0.1 - - [23/Nov/2023 13:10:50] \"POST /live HTTP/1.1\" 200 -\n",
      "127.0.0.1 - - [23/Nov/2023 13:10:50] \"POST /live HTTP/1.1\" 200 -\n",
      "127.0.0.1 - - [23/Nov/2023 13:10:50] \"POST /live HTTP/1.1\" 200 -\n"
     ]
    },
    {
     "name": "stdout",
     "output_type": "stream",
     "text": [
      "YESSSSSS\n",
      "Loading Encode File ...\n",
      "Encode File Loaded\n",
      "YESSSSSS\n",
      "Loading Encode File ...\n",
      "Encode File Loaded\n",
      "YESSSSSS\n",
      "Loading Encode File ...\n",
      "Encode File Loaded\n",
      "YESSSSSS\n",
      "Loading Encode File ...\n",
      "Encode File Loaded\n"
     ]
    },
    {
     "name": "stderr",
     "output_type": "stream",
     "text": [
      "127.0.0.1 - - [23/Nov/2023 13:10:50] \"POST /live HTTP/1.1\" 200 -\n",
      "127.0.0.1 - - [23/Nov/2023 13:10:51] \"POST /live HTTP/1.1\" 200 -\n",
      "127.0.0.1 - - [23/Nov/2023 13:10:51] \"POST /live HTTP/1.1\" 200 -\n",
      "127.0.0.1 - - [23/Nov/2023 13:10:51] \"POST /live HTTP/1.1\" 200 -\n",
      "127.0.0.1 - - [23/Nov/2023 13:10:51] \"POST /live HTTP/1.1\" 200 -\n"
     ]
    },
    {
     "name": "stdout",
     "output_type": "stream",
     "text": [
      "YESSSSSS\n",
      "Loading Encode File ...\n",
      "Encode File Loaded\n",
      "YESSSSSS\n",
      "Loading Encode File ...\n",
      "Encode File Loaded\n",
      "YESSSSSS\n",
      "Loading Encode File ...\n",
      "Encode File Loaded\n",
      "YESSSSSS\n",
      "Loading Encode File ...\n",
      "Encode File Loaded\n"
     ]
    },
    {
     "name": "stderr",
     "output_type": "stream",
     "text": [
      "127.0.0.1 - - [23/Nov/2023 13:10:51] \"POST /live HTTP/1.1\" 200 -\n",
      "127.0.0.1 - - [23/Nov/2023 13:10:51] \"POST /live HTTP/1.1\" 200 -\n",
      "127.0.0.1 - - [23/Nov/2023 13:10:51] \"POST /live HTTP/1.1\" 200 -\n"
     ]
    },
    {
     "name": "stdout",
     "output_type": "stream",
     "text": [
      "YESSSSSS\n",
      "Loading Encode File ...\n",
      "Encode File Loaded\n",
      "YESSSSSS\n",
      "Loading Encode File ...\n",
      "Encode File Loaded\n",
      "YESSSSSS\n",
      "Loading Encode File ...\n",
      "Encode File Loaded\n",
      "YESSSSSS\n",
      "Loading Encode File ...\n",
      "Encode File Loaded\n"
     ]
    },
    {
     "name": "stderr",
     "output_type": "stream",
     "text": [
      "127.0.0.1 - - [23/Nov/2023 13:10:51] \"POST /live HTTP/1.1\" 200 -\n",
      "127.0.0.1 - - [23/Nov/2023 13:10:51] \"POST /live HTTP/1.1\" 200 -\n",
      "127.0.0.1 - - [23/Nov/2023 13:10:51] \"POST /live HTTP/1.1\" 200 -\n",
      "127.0.0.1 - - [23/Nov/2023 13:10:51] \"POST /live HTTP/1.1\" 200 -\n",
      "127.0.0.1 - - [23/Nov/2023 13:10:51] \"POST /live HTTP/1.1\" 200 -\n"
     ]
    },
    {
     "name": "stdout",
     "output_type": "stream",
     "text": [
      "YESSSSSS\n",
      "Loading Encode File ...\n",
      "Encode File Loaded\n",
      "YESSSSSS\n",
      "Loading Encode File ...\n",
      "Encode File Loaded\n",
      "YESSSSSS\n",
      "Loading Encode File ...\n",
      "Encode File Loaded\n",
      "YESSSSSS\n",
      "Loading Encode File ...\n",
      "Encode File Loaded\n"
     ]
    },
    {
     "name": "stderr",
     "output_type": "stream",
     "text": [
      "127.0.0.1 - - [23/Nov/2023 13:10:51] \"POST /live HTTP/1.1\" 200 -\n",
      "127.0.0.1 - - [23/Nov/2023 13:10:51] \"POST /live HTTP/1.1\" 200 -\n",
      "127.0.0.1 - - [23/Nov/2023 13:10:51] \"POST /live HTTP/1.1\" 200 -\n"
     ]
    },
    {
     "name": "stdout",
     "output_type": "stream",
     "text": [
      "YESSSSSS\n",
      "Loading Encode File ...\n",
      "Encode File Loaded\n",
      "YESSSSSS\n",
      "Loading Encode File ...\n",
      "Encode File Loaded\n",
      "YESSSSSS\n",
      "Loading Encode File ...\n",
      "Encode File Loaded\n",
      "YESSSSSS\n",
      "Loading Encode File ...\n",
      "Encode File Loaded\n"
     ]
    },
    {
     "name": "stderr",
     "output_type": "stream",
     "text": [
      "127.0.0.1 - - [23/Nov/2023 13:10:51] \"POST /live HTTP/1.1\" 200 -\n",
      "127.0.0.1 - - [23/Nov/2023 13:10:51] \"POST /live HTTP/1.1\" 200 -\n",
      "127.0.0.1 - - [23/Nov/2023 13:10:51] \"POST /live HTTP/1.1\" 200 -\n",
      "127.0.0.1 - - [23/Nov/2023 13:10:51] \"POST /live HTTP/1.1\" 200 -\n",
      "127.0.0.1 - - [23/Nov/2023 13:10:51] \"POST /live HTTP/1.1\" 200 -\n"
     ]
    },
    {
     "name": "stdout",
     "output_type": "stream",
     "text": [
      "YESSSSSS\n",
      "Loading Encode File ...\n",
      "Encode File Loaded\n",
      "YESSSSSS\n",
      "Loading Encode File ...\n",
      "Encode File Loaded\n",
      "YESSSSSS\n",
      "Loading Encode File ...\n",
      "Encode File Loaded\n",
      "YESSSSSS\n",
      "Loading Encode File ...\n",
      "Encode File Loaded\n",
      "YESSSSSS\n",
      "Loading Encode File ...\n",
      "Encode File Loaded\n"
     ]
    },
    {
     "name": "stderr",
     "output_type": "stream",
     "text": [
      "127.0.0.1 - - [23/Nov/2023 13:10:52] \"POST /live HTTP/1.1\" 200 -\n",
      "127.0.0.1 - - [23/Nov/2023 13:10:52] \"POST /live HTTP/1.1\" 200 -\n",
      "127.0.0.1 - - [23/Nov/2023 13:10:52] \"POST /live HTTP/1.1\" 200 -\n",
      "127.0.0.1 - - [23/Nov/2023 13:10:52] \"POST /live HTTP/1.1\" 200 -\n"
     ]
    },
    {
     "name": "stdout",
     "output_type": "stream",
     "text": [
      "YESSSSSS\n",
      "Loading Encode File ...\n",
      "Encode File Loaded\n",
      "YESSSSSS\n",
      "Loading Encode File ...\n",
      "Encode File Loaded\n",
      "YESSSSSS\n",
      "Loading Encode File ...\n",
      "Encode File Loaded\n",
      "YESSSSSS\n",
      "Loading Encode File ...\n",
      "Encode File Loaded\n"
     ]
    },
    {
     "name": "stderr",
     "output_type": "stream",
     "text": [
      "127.0.0.1 - - [23/Nov/2023 13:10:52] \"POST /live HTTP/1.1\" 200 -\n",
      "127.0.0.1 - - [23/Nov/2023 13:10:52] \"POST /live HTTP/1.1\" 200 -\n",
      "127.0.0.1 - - [23/Nov/2023 13:10:52] \"POST /live HTTP/1.1\" 200 -\n",
      "127.0.0.1 - - [23/Nov/2023 13:10:52] \"POST /live HTTP/1.1\" 200 -\n",
      "127.0.0.1 - - [23/Nov/2023 13:10:52] \"POST /live HTTP/1.1\" 200 -\n"
     ]
    },
    {
     "name": "stdout",
     "output_type": "stream",
     "text": [
      "YESSSSSS\n",
      "Loading Encode File ...\n",
      "Encode File Loaded\n",
      "YESSSSSS\n",
      "Loading Encode File ...\n",
      "Encode File Loaded\n",
      "YESSSSSS\n",
      "Loading Encode File ...\n",
      "Encode File Loaded\n",
      "YESSSSSS\n",
      "Loading Encode File ...\n",
      "Encode File Loaded\n"
     ]
    },
    {
     "name": "stderr",
     "output_type": "stream",
     "text": [
      "127.0.0.1 - - [23/Nov/2023 13:10:52] \"POST /live HTTP/1.1\" 200 -\n",
      "127.0.0.1 - - [23/Nov/2023 13:10:52] \"POST /live HTTP/1.1\" 200 -\n",
      "127.0.0.1 - - [23/Nov/2023 13:10:52] \"POST /live HTTP/1.1\" 200 -\n"
     ]
    },
    {
     "name": "stdout",
     "output_type": "stream",
     "text": [
      "YESSSSSS\n",
      "Loading Encode File ...\n",
      "Encode File Loaded\n",
      "YESSSSSS\n",
      "Loading Encode File ...\n",
      "Encode File Loaded\n",
      "YESSSSSS\n",
      "Loading Encode File ...\n",
      "Encode File Loaded\n",
      "YESSSSSS\n",
      "Loading Encode File ...\n",
      "Encode File Loaded\n"
     ]
    },
    {
     "name": "stderr",
     "output_type": "stream",
     "text": [
      "127.0.0.1 - - [23/Nov/2023 13:10:52] \"POST /live HTTP/1.1\" 200 -\n",
      "127.0.0.1 - - [23/Nov/2023 13:10:52] \"POST /live HTTP/1.1\" 200 -\n",
      "127.0.0.1 - - [23/Nov/2023 13:10:52] \"POST /live HTTP/1.1\" 200 -\n",
      "127.0.0.1 - - [23/Nov/2023 13:10:52] \"POST /live HTTP/1.1\" 200 -\n"
     ]
    },
    {
     "name": "stdout",
     "output_type": "stream",
     "text": [
      "YESSSSSS\n",
      "Loading Encode File ...\n",
      "Encode File Loaded\n",
      "YESSSSSS\n",
      "Loading Encode File ...\n",
      "Encode File Loaded\n",
      "YESSSSSS\n",
      "Loading Encode File ...\n",
      "Encode File Loaded\n",
      "YESSSSSS\n",
      "Loading Encode File ...\n",
      "Encode File Loaded\n"
     ]
    },
    {
     "name": "stderr",
     "output_type": "stream",
     "text": [
      "127.0.0.1 - - [23/Nov/2023 13:10:52] \"POST /live HTTP/1.1\" 200 -\n",
      "127.0.0.1 - - [23/Nov/2023 13:10:52] \"POST /live HTTP/1.1\" 200 -\n",
      "127.0.0.1 - - [23/Nov/2023 13:10:53] \"POST /live HTTP/1.1\" 200 -\n",
      "127.0.0.1 - - [23/Nov/2023 13:10:53] \"POST /live HTTP/1.1\" 200 -\n"
     ]
    },
    {
     "name": "stdout",
     "output_type": "stream",
     "text": [
      "YESSSSSS\n",
      "Loading Encode File ...\n",
      "Encode File Loaded\n",
      "YESSSSSS\n",
      "Loading Encode File ...\n",
      "Encode File Loaded\n",
      "YESSSSSS\n",
      "Loading Encode File ...\n",
      "Encode File Loaded\n",
      "YESSSSSS\n",
      "Loading Encode File ...\n",
      "Encode File Loaded\n"
     ]
    },
    {
     "name": "stderr",
     "output_type": "stream",
     "text": [
      "127.0.0.1 - - [23/Nov/2023 13:10:53] \"POST /live HTTP/1.1\" 200 -\n",
      "127.0.0.1 - - [23/Nov/2023 13:10:53] \"POST /live HTTP/1.1\" 200 -\n",
      "127.0.0.1 - - [23/Nov/2023 13:10:53] \"POST /live HTTP/1.1\" 200 -\n",
      "127.0.0.1 - - [23/Nov/2023 13:10:53] \"POST /live HTTP/1.1\" 200 -\n",
      "127.0.0.1 - - [23/Nov/2023 13:10:53] \"POST /live HTTP/1.1\" 200 -\n"
     ]
    },
    {
     "name": "stdout",
     "output_type": "stream",
     "text": [
      "YESSSSSS\n",
      "Loading Encode File ...\n",
      "Encode File Loaded\n",
      "YESSSSSS\n",
      "Loading Encode File ...\n",
      "Encode File Loaded\n",
      "YESSSSSS\n",
      "Loading Encode File ...\n",
      "Encode File Loaded\n",
      "YESSSSSS\n",
      "Loading Encode File ...\n",
      "Encode File Loaded\n",
      "YESSSSSS\n",
      "Loading Encode File ...\n",
      "Encode File Loaded\n"
     ]
    },
    {
     "name": "stderr",
     "output_type": "stream",
     "text": [
      "127.0.0.1 - - [23/Nov/2023 13:10:53] \"POST /live HTTP/1.1\" 200 -\n",
      "127.0.0.1 - - [23/Nov/2023 13:10:53] \"POST /live HTTP/1.1\" 200 -\n",
      "127.0.0.1 - - [23/Nov/2023 13:10:53] \"POST /live HTTP/1.1\" 200 -\n",
      "127.0.0.1 - - [23/Nov/2023 13:10:53] \"POST /live HTTP/1.1\" 200 -\n"
     ]
    },
    {
     "name": "stdout",
     "output_type": "stream",
     "text": [
      "YESSSSSS\n",
      "Loading Encode File ...\n",
      "Encode File Loaded\n",
      "YESSSSSS\n",
      "Loading Encode File ...\n",
      "Encode File Loaded\n",
      "YESSSSSS\n",
      "Loading Encode File ...\n",
      "Encode File Loaded\n",
      "YESSSSSS\n",
      "Loading Encode File ...\n",
      "Encode File Loaded\n"
     ]
    },
    {
     "name": "stderr",
     "output_type": "stream",
     "text": [
      "127.0.0.1 - - [23/Nov/2023 13:10:53] \"POST /live HTTP/1.1\" 200 -\n",
      "127.0.0.1 - - [23/Nov/2023 13:10:53] \"POST /live HTTP/1.1\" 200 -\n",
      "127.0.0.1 - - [23/Nov/2023 13:10:53] \"POST /live HTTP/1.1\" 200 -\n",
      "127.0.0.1 - - [23/Nov/2023 13:10:53] \"POST /live HTTP/1.1\" 200 -\n"
     ]
    },
    {
     "name": "stdout",
     "output_type": "stream",
     "text": [
      "YESSSSSS\n",
      "Loading Encode File ...\n",
      "Encode File Loaded\n",
      "YESSSSSS\n",
      "Loading Encode File ...\n",
      "Encode File Loaded\n",
      "YESSSSSS\n",
      "Loading Encode File ...\n",
      "Encode File Loaded\n",
      "YESSSSSS\n",
      "Loading Encode File ...\n",
      "Encode File Loaded\n"
     ]
    },
    {
     "name": "stderr",
     "output_type": "stream",
     "text": [
      "127.0.0.1 - - [23/Nov/2023 13:10:53] \"POST /live HTTP/1.1\" 200 -\n",
      "127.0.0.1 - - [23/Nov/2023 13:10:53] \"POST /live HTTP/1.1\" 200 -\n",
      "127.0.0.1 - - [23/Nov/2023 13:10:53] \"POST /live HTTP/1.1\" 200 -\n",
      "127.0.0.1 - - [23/Nov/2023 13:10:53] \"POST /live HTTP/1.1\" 200 -\n"
     ]
    },
    {
     "name": "stdout",
     "output_type": "stream",
     "text": [
      "YESSSSSS\n",
      "Loading Encode File ...\n",
      "Encode File Loaded\n",
      "YESSSSSS\n",
      "Loading Encode File ...\n",
      "Encode File Loaded\n",
      "YESSSSSS\n",
      "Loading Encode File ...\n",
      "Encode File Loaded\n",
      "YESSSSSS\n",
      "Loading Encode File ...\n",
      "Encode File Loaded\n"
     ]
    },
    {
     "name": "stderr",
     "output_type": "stream",
     "text": [
      "127.0.0.1 - - [23/Nov/2023 13:10:54] \"POST /live HTTP/1.1\" 200 -\n",
      "127.0.0.1 - - [23/Nov/2023 13:10:54] \"POST /live HTTP/1.1\" 200 -\n",
      "127.0.0.1 - - [23/Nov/2023 13:10:54] \"POST /live HTTP/1.1\" 200 -\n",
      "127.0.0.1 - - [23/Nov/2023 13:10:54] \"POST /live HTTP/1.1\" 200 -\n",
      "127.0.0.1 - - [23/Nov/2023 13:10:54] \"POST /live HTTP/1.1\" 200 -\n"
     ]
    },
    {
     "name": "stdout",
     "output_type": "stream",
     "text": [
      "YESSSSSS\n",
      "Loading Encode File ...\n",
      "Encode File Loaded\n",
      "YESSSSSS\n",
      "Loading Encode File ...\n",
      "Encode File Loaded\n",
      "YESSSSSS\n",
      "Loading Encode File ...\n",
      "Encode File Loaded\n",
      "YESSSSSS\n",
      "Loading Encode File ...\n",
      "Encode File Loaded\n"
     ]
    },
    {
     "name": "stderr",
     "output_type": "stream",
     "text": [
      "127.0.0.1 - - [23/Nov/2023 13:10:54] \"POST /live HTTP/1.1\" 200 -\n",
      "127.0.0.1 - - [23/Nov/2023 13:10:54] \"POST /live HTTP/1.1\" 200 -\n",
      "127.0.0.1 - - [23/Nov/2023 13:10:54] \"POST /live HTTP/1.1\" 200 -\n",
      "127.0.0.1 - - [23/Nov/2023 13:10:54] \"POST /live HTTP/1.1\" 200 -\n"
     ]
    },
    {
     "name": "stdout",
     "output_type": "stream",
     "text": [
      "YESSSSSS\n",
      "Loading Encode File ...\n",
      "Encode File Loaded\n",
      "YESSSSSS\n",
      "Loading Encode File ...\n",
      "Encode File Loaded\n",
      "YESSSSSS\n",
      "Loading Encode File ...\n",
      "Encode File Loaded\n",
      "YESSSSSS\n",
      "Loading Encode File ...\n",
      "Encode File Loaded\n"
     ]
    },
    {
     "name": "stderr",
     "output_type": "stream",
     "text": [
      "127.0.0.1 - - [23/Nov/2023 13:10:54] \"POST /live HTTP/1.1\" 200 -\n",
      "127.0.0.1 - - [23/Nov/2023 13:10:54] \"POST /live HTTP/1.1\" 200 -\n",
      "127.0.0.1 - - [23/Nov/2023 13:10:54] \"POST /live HTTP/1.1\" 200 -\n",
      "127.0.0.1 - - [23/Nov/2023 13:10:54] \"POST /live HTTP/1.1\" 200 -\n"
     ]
    },
    {
     "name": "stdout",
     "output_type": "stream",
     "text": [
      "YESSSSSS\n",
      "Loading Encode File ...\n",
      "Encode File Loaded\n",
      "YESSSSSS\n",
      "Loading Encode File ...\n",
      "Encode File Loaded\n",
      "YESSSSSS\n",
      "Loading Encode File ...\n",
      "Encode File Loaded\n",
      "YESSSSSS\n",
      "Loading Encode File ...\n",
      "Encode File Loaded\n"
     ]
    },
    {
     "name": "stderr",
     "output_type": "stream",
     "text": [
      "127.0.0.1 - - [23/Nov/2023 13:10:54] \"POST /live HTTP/1.1\" 200 -\n",
      "127.0.0.1 - - [23/Nov/2023 13:10:54] \"POST /live HTTP/1.1\" 200 -\n",
      "127.0.0.1 - - [23/Nov/2023 13:10:54] \"POST /live HTTP/1.1\" 200 -\n",
      "127.0.0.1 - - [23/Nov/2023 13:10:54] \"POST /live HTTP/1.1\" 200 -\n"
     ]
    },
    {
     "name": "stdout",
     "output_type": "stream",
     "text": [
      "YESSSSSS\n",
      "Loading Encode File ...\n",
      "Encode File Loaded\n",
      "YESSSSSS\n",
      "Loading Encode File ...\n",
      "Encode File Loaded\n",
      "YESSSSSS\n",
      "Loading Encode File ...\n",
      "Encode File Loaded\n",
      "YESSSSSS\n",
      "Loading Encode File ...\n",
      "Encode File Loaded\n"
     ]
    },
    {
     "name": "stderr",
     "output_type": "stream",
     "text": [
      "127.0.0.1 - - [23/Nov/2023 13:10:54] \"POST /live HTTP/1.1\" 200 -\n",
      "127.0.0.1 - - [23/Nov/2023 13:10:54] \"POST /live HTTP/1.1\" 200 -\n",
      "127.0.0.1 - - [23/Nov/2023 13:10:54] \"POST /live HTTP/1.1\" 200 -\n",
      "127.0.0.1 - - [23/Nov/2023 13:10:55] \"POST /live HTTP/1.1\" 200 -\n"
     ]
    },
    {
     "name": "stdout",
     "output_type": "stream",
     "text": [
      "YESSSSSS\n",
      "Loading Encode File ...\n",
      "Encode File Loaded\n",
      "YESSSSSS\n",
      "Loading Encode File ...\n",
      "Encode File Loaded\n",
      "YESSSSSS\n",
      "Loading Encode File ...\n",
      "Encode File Loaded\n",
      "YESSSSSS\n",
      "Loading Encode File ...\n",
      "Encode File Loaded\n",
      "YESSSSSS\n",
      "Loading Encode File ...\n",
      "Encode File Loaded\n"
     ]
    },
    {
     "name": "stderr",
     "output_type": "stream",
     "text": [
      "127.0.0.1 - - [23/Nov/2023 13:10:55] \"POST /live HTTP/1.1\" 200 -\n",
      "127.0.0.1 - - [23/Nov/2023 13:10:55] \"POST /live HTTP/1.1\" 200 -\n",
      "127.0.0.1 - - [23/Nov/2023 13:10:55] \"POST /live HTTP/1.1\" 200 -\n",
      "127.0.0.1 - - [23/Nov/2023 13:10:55] \"POST /live HTTP/1.1\" 200 -\n",
      "127.0.0.1 - - [23/Nov/2023 13:10:55] \"POST /live HTTP/1.1\" 200 -\n"
     ]
    },
    {
     "name": "stdout",
     "output_type": "stream",
     "text": [
      "YESSSSSS\n",
      "Loading Encode File ...\n",
      "Encode File Loaded\n",
      "YESSSSSS\n",
      "Loading Encode File ...\n",
      "Encode File Loaded\n",
      "YESSSSSS\n",
      "Loading Encode File ...\n",
      "Encode File Loaded\n",
      "YESSSSSS\n",
      "Loading Encode File ...\n",
      "Encode File Loaded\n",
      "YESSSSSS\n",
      "Loading Encode File ...\n",
      "Encode File Loaded\n"
     ]
    },
    {
     "name": "stderr",
     "output_type": "stream",
     "text": [
      "127.0.0.1 - - [23/Nov/2023 13:10:55] \"POST /live HTTP/1.1\" 200 -\n",
      "127.0.0.1 - - [23/Nov/2023 13:10:55] \"POST /live HTTP/1.1\" 200 -\n",
      "127.0.0.1 - - [23/Nov/2023 13:10:55] \"POST /live HTTP/1.1\" 200 -\n",
      "127.0.0.1 - - [23/Nov/2023 13:10:55] \"POST /live HTTP/1.1\" 200 -\n"
     ]
    },
    {
     "name": "stdout",
     "output_type": "stream",
     "text": [
      "YESSSSSS\n",
      "Loading Encode File ...\n",
      "Encode File Loaded\n",
      "YESSSSSS\n",
      "Loading Encode File ...\n",
      "Encode File Loaded\n",
      "YESSSSSS\n",
      "Loading Encode File ...\n",
      "Encode File Loaded\n",
      "YESSSSSS\n",
      "Loading Encode File ...\n",
      "Encode File Loaded\n"
     ]
    },
    {
     "name": "stderr",
     "output_type": "stream",
     "text": [
      "127.0.0.1 - - [23/Nov/2023 13:10:55] \"POST /live HTTP/1.1\" 200 -\n",
      "127.0.0.1 - - [23/Nov/2023 13:10:55] \"POST /live HTTP/1.1\" 200 -\n",
      "127.0.0.1 - - [23/Nov/2023 13:10:55] \"POST /live HTTP/1.1\" 200 -\n",
      "127.0.0.1 - - [23/Nov/2023 13:10:55] \"POST /live HTTP/1.1\" 200 -\n"
     ]
    },
    {
     "name": "stdout",
     "output_type": "stream",
     "text": [
      "YESSSSSS\n",
      "Loading Encode File ...\n",
      "Encode File Loaded\n",
      "YESSSSSS\n",
      "Loading Encode File ...\n",
      "Encode File Loaded\n",
      "YESSSSSS\n",
      "Loading Encode File ...\n",
      "Encode File Loaded\n",
      "YESSSSSS\n",
      "Loading Encode File ...\n",
      "Encode File Loaded\n"
     ]
    },
    {
     "name": "stderr",
     "output_type": "stream",
     "text": [
      "127.0.0.1 - - [23/Nov/2023 13:10:55] \"POST /live HTTP/1.1\" 200 -\n",
      "127.0.0.1 - - [23/Nov/2023 13:10:55] \"POST /live HTTP/1.1\" 200 -\n",
      "127.0.0.1 - - [23/Nov/2023 13:10:55] \"POST /live HTTP/1.1\" 200 -\n",
      "127.0.0.1 - - [23/Nov/2023 13:10:55] \"POST /live HTTP/1.1\" 200 -\n",
      "127.0.0.1 - - [23/Nov/2023 13:10:56] \"POST /live HTTP/1.1\" 200 -\n"
     ]
    },
    {
     "name": "stdout",
     "output_type": "stream",
     "text": [
      "YESSSSSS\n",
      "Loading Encode File ...\n",
      "Encode File Loaded\n",
      "YESSSSSS\n",
      "Loading Encode File ...\n",
      "Encode File Loaded\n",
      "YESSSSSS\n",
      "Loading Encode File ...\n",
      "Encode File Loaded\n",
      "YESSSSSS\n",
      "Loading Encode File ...\n",
      "Encode File Loaded\n"
     ]
    },
    {
     "name": "stderr",
     "output_type": "stream",
     "text": [
      "127.0.0.1 - - [23/Nov/2023 13:10:56] \"POST /live HTTP/1.1\" 200 -\n",
      "127.0.0.1 - - [23/Nov/2023 13:10:56] \"POST /live HTTP/1.1\" 200 -\n",
      "127.0.0.1 - - [23/Nov/2023 13:10:56] \"POST /live HTTP/1.1\" 200 -\n",
      "127.0.0.1 - - [23/Nov/2023 13:10:56] \"POST /live HTTP/1.1\" 200 -\n"
     ]
    },
    {
     "name": "stdout",
     "output_type": "stream",
     "text": [
      "YESSSSSS\n",
      "Loading Encode File ...\n",
      "Encode File Loaded\n",
      "YESSSSSS\n",
      "Loading Encode File ...\n",
      "Encode File Loaded\n",
      "YESSSSSS\n",
      "Loading Encode File ...\n",
      "Encode File Loaded\n",
      "YESSSSSS\n",
      "Loading Encode File ...\n",
      "Encode File Loaded\n"
     ]
    },
    {
     "name": "stderr",
     "output_type": "stream",
     "text": [
      "127.0.0.1 - - [23/Nov/2023 13:10:56] \"POST /live HTTP/1.1\" 200 -\n",
      "127.0.0.1 - - [23/Nov/2023 13:10:56] \"POST /live HTTP/1.1\" 200 -\n",
      "127.0.0.1 - - [23/Nov/2023 13:10:56] \"POST /live HTTP/1.1\" 200 -\n",
      "127.0.0.1 - - [23/Nov/2023 13:10:56] \"POST /live HTTP/1.1\" 200 -\n"
     ]
    },
    {
     "name": "stdout",
     "output_type": "stream",
     "text": [
      "YESSSSSS\n",
      "Loading Encode File ...\n",
      "Encode File Loaded\n",
      "YESSSSSS\n",
      "Loading Encode File ...\n",
      "Encode File Loaded\n",
      "YESSSSSS\n",
      "Loading Encode File ...\n",
      "Encode File Loaded\n",
      "YESSSSSS\n",
      "Loading Encode File ...\n",
      "Encode File Loaded\n"
     ]
    },
    {
     "name": "stderr",
     "output_type": "stream",
     "text": [
      "127.0.0.1 - - [23/Nov/2023 13:10:56] \"POST /live HTTP/1.1\" 200 -\n",
      "127.0.0.1 - - [23/Nov/2023 13:10:56] \"POST /live HTTP/1.1\" 200 -\n",
      "127.0.0.1 - - [23/Nov/2023 13:10:56] \"POST /live HTTP/1.1\" 200 -\n",
      "127.0.0.1 - - [23/Nov/2023 13:10:56] \"POST /live HTTP/1.1\" 200 -\n"
     ]
    },
    {
     "name": "stdout",
     "output_type": "stream",
     "text": [
      "YESSSSSS\n",
      "Loading Encode File ...\n",
      "Encode File Loaded\n",
      "YESSSSSS\n",
      "Loading Encode File ...\n",
      "Encode File Loaded\n",
      "YESSSSSS\n",
      "Loading Encode File ...\n",
      "Encode File Loaded\n",
      "YESSSSSS\n",
      "Loading Encode File ...\n",
      "Encode File Loaded\n"
     ]
    },
    {
     "name": "stderr",
     "output_type": "stream",
     "text": [
      "127.0.0.1 - - [23/Nov/2023 13:10:56] \"POST /live HTTP/1.1\" 200 -\n",
      "127.0.0.1 - - [23/Nov/2023 13:10:56] \"POST /live HTTP/1.1\" 200 -\n",
      "127.0.0.1 - - [23/Nov/2023 13:10:56] \"POST /live HTTP/1.1\" 200 -\n",
      "127.0.0.1 - - [23/Nov/2023 13:10:56] \"POST /live HTTP/1.1\" 200 -\n"
     ]
    },
    {
     "name": "stdout",
     "output_type": "stream",
     "text": [
      "YESSSSSS\n",
      "Loading Encode File ...\n",
      "Encode File Loaded\n",
      "YESSSSSS\n",
      "Loading Encode File ...\n",
      "Encode File Loaded\n",
      "YESSSSSS\n",
      "Loading Encode File ...\n",
      "Encode File Loaded\n",
      "YESSSSSS\n",
      "Loading Encode File ...\n",
      "Encode File Loaded\n"
     ]
    },
    {
     "name": "stderr",
     "output_type": "stream",
     "text": [
      "127.0.0.1 - - [23/Nov/2023 13:10:56] \"POST /live HTTP/1.1\" 200 -\n",
      "127.0.0.1 - - [23/Nov/2023 13:10:56] \"POST /live HTTP/1.1\" 200 -\n",
      "127.0.0.1 - - [23/Nov/2023 13:10:56] \"POST /live HTTP/1.1\" 200 -\n",
      "127.0.0.1 - - [23/Nov/2023 13:10:57] \"POST /live HTTP/1.1\" 200 -\n"
     ]
    },
    {
     "name": "stdout",
     "output_type": "stream",
     "text": [
      "YESSSSSS\n",
      "Loading Encode File ...\n",
      "Encode File Loaded\n",
      "YESSSSSS\n",
      "Loading Encode File ...\n",
      "Encode File Loaded\n",
      "YESSSSSS\n",
      "Loading Encode File ...\n",
      "Encode File Loaded\n",
      "YESSSSSS\n",
      "Loading Encode File ...\n",
      "Encode File Loaded\n"
     ]
    },
    {
     "name": "stderr",
     "output_type": "stream",
     "text": [
      "127.0.0.1 - - [23/Nov/2023 13:10:57] \"POST /live HTTP/1.1\" 200 -\n",
      "127.0.0.1 - - [23/Nov/2023 13:10:57] \"POST /live HTTP/1.1\" 200 -\n",
      "127.0.0.1 - - [23/Nov/2023 13:10:57] \"POST /live HTTP/1.1\" 200 -\n",
      "127.0.0.1 - - [23/Nov/2023 13:10:57] \"POST /live HTTP/1.1\" 200 -\n"
     ]
    },
    {
     "name": "stdout",
     "output_type": "stream",
     "text": [
      "YESSSSSS\n",
      "Loading Encode File ...\n",
      "Encode File Loaded\n",
      "YESSSSSS\n",
      "Loading Encode File ...\n",
      "Encode File Loaded\n",
      "YESSSSSS\n",
      "Loading Encode File ...\n",
      "Encode File Loaded\n",
      "YESSSSSS\n",
      "Loading Encode File ...\n",
      "Encode File Loaded\n",
      "YESSSSSS\n",
      "Loading Encode File ...\n",
      "Encode File Loaded\n"
     ]
    },
    {
     "name": "stderr",
     "output_type": "stream",
     "text": [
      "127.0.0.1 - - [23/Nov/2023 13:10:57] \"POST /live HTTP/1.1\" 200 -\n",
      "127.0.0.1 - - [23/Nov/2023 13:10:57] \"POST /live HTTP/1.1\" 200 -\n",
      "127.0.0.1 - - [23/Nov/2023 13:10:57] \"POST /live HTTP/1.1\" 200 -\n",
      "127.0.0.1 - - [23/Nov/2023 13:10:57] \"POST /live HTTP/1.1\" 200 -\n",
      "127.0.0.1 - - [23/Nov/2023 13:10:57] \"POST /live HTTP/1.1\" 200 -\n"
     ]
    },
    {
     "name": "stdout",
     "output_type": "stream",
     "text": [
      "YESSSSSS\n",
      "Loading Encode File ...\n",
      "Encode File Loaded\n",
      "YESSSSSS\n",
      "Loading Encode File ...\n",
      "Encode File Loaded\n",
      "YESSSSSS\n",
      "Loading Encode File ...\n",
      "Encode File Loaded\n",
      "YESSSSSS\n",
      "Loading Encode File ...\n",
      "Encode File Loaded\n"
     ]
    },
    {
     "name": "stderr",
     "output_type": "stream",
     "text": [
      "127.0.0.1 - - [23/Nov/2023 13:10:57] \"POST /live HTTP/1.1\" 200 -\n",
      "127.0.0.1 - - [23/Nov/2023 13:10:57] \"POST /live HTTP/1.1\" 200 -\n",
      "127.0.0.1 - - [23/Nov/2023 13:10:57] \"POST /live HTTP/1.1\" 200 -\n"
     ]
    },
    {
     "name": "stdout",
     "output_type": "stream",
     "text": [
      "YESSSSSS\n",
      "Loading Encode File ...\n",
      "Encode File Loaded\n",
      "YESSSSSS\n",
      "Loading Encode File ...\n",
      "Encode File Loaded\n",
      "YESSSSSS\n",
      "Loading Encode File ...\n",
      "Encode File Loaded\n",
      "YESSSSSS\n",
      "Loading Encode File ...\n",
      "Encode File Loaded\n"
     ]
    },
    {
     "name": "stderr",
     "output_type": "stream",
     "text": [
      "127.0.0.1 - - [23/Nov/2023 13:10:57] \"POST /live HTTP/1.1\" 200 -\n",
      "127.0.0.1 - - [23/Nov/2023 13:10:57] \"POST /live HTTP/1.1\" 200 -\n",
      "127.0.0.1 - - [23/Nov/2023 13:10:57] \"POST /live HTTP/1.1\" 200 -\n",
      "127.0.0.1 - - [23/Nov/2023 13:10:57] \"POST /live HTTP/1.1\" 200 -\n"
     ]
    },
    {
     "name": "stdout",
     "output_type": "stream",
     "text": [
      "YESSSSSS\n",
      "Loading Encode File ...\n",
      "Encode File Loaded\n",
      "YESSSSSS\n",
      "Loading Encode File ...\n",
      "Encode File Loaded\n",
      "YESSSSSS\n",
      "Loading Encode File ...\n",
      "Encode File Loaded\n",
      "YESSSSSS\n",
      "Loading Encode File ...\n",
      "Encode File Loaded\n"
     ]
    },
    {
     "name": "stderr",
     "output_type": "stream",
     "text": [
      "127.0.0.1 - - [23/Nov/2023 13:10:57] \"POST /live HTTP/1.1\" 200 -\n",
      "127.0.0.1 - - [23/Nov/2023 13:10:57] \"POST /live HTTP/1.1\" 200 -\n",
      "127.0.0.1 - - [23/Nov/2023 13:10:58] \"POST /live HTTP/1.1\" 200 -\n",
      "127.0.0.1 - - [23/Nov/2023 13:10:58] \"POST /live HTTP/1.1\" 200 -\n",
      "127.0.0.1 - - [23/Nov/2023 13:10:58] \"POST /live HTTP/1.1\" 200 -\n"
     ]
    },
    {
     "name": "stdout",
     "output_type": "stream",
     "text": [
      "YESSSSSS\n",
      "Loading Encode File ...\n",
      "Encode File Loaded\n",
      "YESSSSSS\n",
      "Loading Encode File ...\n",
      "Encode File Loaded\n",
      "YESSSSSS\n",
      "Loading Encode File ...\n",
      "Encode File Loaded\n",
      "YESSSSSS\n",
      "Loading Encode File ...\n",
      "Encode File Loaded\n"
     ]
    },
    {
     "name": "stderr",
     "output_type": "stream",
     "text": [
      "127.0.0.1 - - [23/Nov/2023 13:10:58] \"POST /live HTTP/1.1\" 200 -\n",
      "127.0.0.1 - - [23/Nov/2023 13:10:58] \"POST /live HTTP/1.1\" 200 -\n",
      "127.0.0.1 - - [23/Nov/2023 13:10:58] \"POST /live HTTP/1.1\" 200 -\n",
      "127.0.0.1 - - [23/Nov/2023 13:10:58] \"POST /live HTTP/1.1\" 200 -\n"
     ]
    },
    {
     "name": "stdout",
     "output_type": "stream",
     "text": [
      "YESSSSSS\n",
      "Loading Encode File ...\n",
      "Encode File Loaded\n",
      "YESSSSSS\n",
      "Loading Encode File ...\n",
      "Encode File Loaded\n",
      "YESSSSSS\n",
      "Loading Encode File ...\n",
      "Encode File Loaded\n",
      "YESSSSSS\n",
      "Loading Encode File ...\n",
      "Encode File Loaded\n"
     ]
    },
    {
     "name": "stderr",
     "output_type": "stream",
     "text": [
      "127.0.0.1 - - [23/Nov/2023 13:10:58] \"POST /live HTTP/1.1\" 200 -\n",
      "127.0.0.1 - - [23/Nov/2023 13:10:58] \"POST /live HTTP/1.1\" 200 -\n",
      "127.0.0.1 - - [23/Nov/2023 13:10:58] \"POST /live HTTP/1.1\" 200 -\n"
     ]
    },
    {
     "name": "stdout",
     "output_type": "stream",
     "text": [
      "YESSSSSS\n",
      "Loading Encode File ...\n",
      "Encode File Loaded\n",
      "YESSSSSS\n",
      "Loading Encode File ...\n",
      "Encode File Loaded\n",
      "YESSSSSS\n",
      "Loading Encode File ...\n",
      "Encode File Loaded\n",
      "YESSSSSS\n",
      "Loading Encode File ...\n",
      "Encode File Loaded\n"
     ]
    },
    {
     "name": "stderr",
     "output_type": "stream",
     "text": [
      "127.0.0.1 - - [23/Nov/2023 13:10:58] \"POST /live HTTP/1.1\" 200 -\n",
      "127.0.0.1 - - [23/Nov/2023 13:10:58] \"POST /live HTTP/1.1\" 200 -\n",
      "127.0.0.1 - - [23/Nov/2023 13:10:58] \"POST /live HTTP/1.1\" 200 -\n",
      "127.0.0.1 - - [23/Nov/2023 13:10:58] \"POST /live HTTP/1.1\" 200 -\n",
      "127.0.0.1 - - [23/Nov/2023 13:10:58] \"POST /live HTTP/1.1\" 200 -\n"
     ]
    },
    {
     "name": "stdout",
     "output_type": "stream",
     "text": [
      "YESSSSSS\n",
      "Loading Encode File ...\n",
      "Encode File Loaded\n",
      "YESSSSSS\n",
      "Loading Encode File ...\n",
      "Encode File Loaded\n",
      "YESSSSSS\n",
      "Loading Encode File ...\n",
      "Encode File Loaded\n",
      "YESSSSSS\n",
      "Loading Encode File ...\n",
      "Encode File Loaded\n"
     ]
    },
    {
     "name": "stderr",
     "output_type": "stream",
     "text": [
      "127.0.0.1 - - [23/Nov/2023 13:10:58] \"POST /live HTTP/1.1\" 200 -\n",
      "127.0.0.1 - - [23/Nov/2023 13:10:58] \"POST /live HTTP/1.1\" 200 -\n",
      "127.0.0.1 - - [23/Nov/2023 13:10:58] \"POST /live HTTP/1.1\" 200 -\n"
     ]
    },
    {
     "name": "stdout",
     "output_type": "stream",
     "text": [
      "YESSSSSS\n",
      "Loading Encode File ...\n",
      "Encode File Loaded\n",
      "YESSSSSS\n",
      "Loading Encode File ...\n",
      "Encode File Loaded\n",
      "YESSSSSS\n",
      "Loading Encode File ...\n",
      "Encode File Loaded\n",
      "YESSSSSS\n",
      "Loading Encode File ...\n",
      "Encode File Loaded\n"
     ]
    },
    {
     "name": "stderr",
     "output_type": "stream",
     "text": [
      "127.0.0.1 - - [23/Nov/2023 13:10:58] \"POST /live HTTP/1.1\" 200 -\n",
      "127.0.0.1 - - [23/Nov/2023 13:10:59] \"POST /live HTTP/1.1\" 200 -\n",
      "127.0.0.1 - - [23/Nov/2023 13:10:59] \"POST /live HTTP/1.1\" 200 -\n",
      "127.0.0.1 - - [23/Nov/2023 13:10:59] \"POST /live HTTP/1.1\" 200 -\n",
      "127.0.0.1 - - [23/Nov/2023 13:10:59] \"POST /live HTTP/1.1\" 200 -\n"
     ]
    },
    {
     "name": "stdout",
     "output_type": "stream",
     "text": [
      "YESSSSSS\n",
      "Loading Encode File ...\n",
      "Encode File Loaded\n",
      "YESSSSSS\n",
      "Loading Encode File ...\n",
      "Encode File Loaded\n",
      "YESSSSSS\n",
      "Loading Encode File ...\n",
      "Encode File Loaded\n",
      "YESSSSSS\n",
      "Loading Encode File ...\n",
      "Encode File Loaded\n",
      "YESSSSSS\n",
      "Loading Encode File ...\n",
      "Encode File Loaded\n"
     ]
    },
    {
     "name": "stderr",
     "output_type": "stream",
     "text": [
      "127.0.0.1 - - [23/Nov/2023 13:10:59] \"POST /live HTTP/1.1\" 200 -\n",
      "127.0.0.1 - - [23/Nov/2023 13:10:59] \"POST /live HTTP/1.1\" 200 -\n",
      "127.0.0.1 - - [23/Nov/2023 13:10:59] \"POST /live HTTP/1.1\" 200 -\n",
      "127.0.0.1 - - [23/Nov/2023 13:10:59] \"POST /live HTTP/1.1\" 200 -\n",
      "127.0.0.1 - - [23/Nov/2023 13:10:59] \"POST /live HTTP/1.1\" 200 -\n"
     ]
    },
    {
     "name": "stdout",
     "output_type": "stream",
     "text": [
      "YESSSSSS\n",
      "Loading Encode File ...\n",
      "Encode File Loaded\n",
      "YESSSSSS\n",
      "Loading Encode File ...\n",
      "Encode File Loaded\n",
      "YESSSSSS\n",
      "Loading Encode File ...\n",
      "Encode File Loaded\n",
      "YESSSSSS\n",
      "Loading Encode File ...\n",
      "Encode File Loaded\n"
     ]
    },
    {
     "name": "stderr",
     "output_type": "stream",
     "text": [
      "127.0.0.1 - - [23/Nov/2023 13:10:59] \"POST /live HTTP/1.1\" 200 -\n",
      "127.0.0.1 - - [23/Nov/2023 13:10:59] \"POST /live HTTP/1.1\" 200 -\n",
      "127.0.0.1 - - [23/Nov/2023 13:10:59] \"POST /live HTTP/1.1\" 200 -\n",
      "127.0.0.1 - - [23/Nov/2023 13:10:59] \"POST /live HTTP/1.1\" 200 -\n"
     ]
    },
    {
     "name": "stdout",
     "output_type": "stream",
     "text": [
      "YESSSSSS\n",
      "Loading Encode File ...\n",
      "Encode File Loaded\n",
      "YESSSSSS\n",
      "Loading Encode File ...\n",
      "Encode File Loaded\n",
      "YESSSSSS\n",
      "Loading Encode File ...\n",
      "Encode File Loaded\n",
      "YESSSSSS\n",
      "Loading Encode File ...\n",
      "Encode File Loaded\n"
     ]
    },
    {
     "name": "stderr",
     "output_type": "stream",
     "text": [
      "127.0.0.1 - - [23/Nov/2023 13:10:59] \"POST /live HTTP/1.1\" 200 -\n",
      "127.0.0.1 - - [23/Nov/2023 13:10:59] \"POST /live HTTP/1.1\" 200 -\n",
      "127.0.0.1 - - [23/Nov/2023 13:10:59] \"POST /live HTTP/1.1\" 200 -\n",
      "127.0.0.1 - - [23/Nov/2023 13:10:59] \"POST /live HTTP/1.1\" 200 -\n"
     ]
    },
    {
     "name": "stdout",
     "output_type": "stream",
     "text": [
      "YESSSSSS\n",
      "Loading Encode File ...\n",
      "Encode File Loaded\n",
      "YESSSSSS\n",
      "Loading Encode File ...\n",
      "Encode File Loaded\n",
      "YESSSSSS\n",
      "Loading Encode File ...\n",
      "Encode File Loaded\n",
      "YESSSSSS\n",
      "Loading Encode File ...\n",
      "Encode File Loaded\n"
     ]
    },
    {
     "name": "stderr",
     "output_type": "stream",
     "text": [
      "127.0.0.1 - - [23/Nov/2023 13:10:59] \"POST /live HTTP/1.1\" 200 -\n",
      "127.0.0.1 - - [23/Nov/2023 13:10:59] \"POST /live HTTP/1.1\" 200 -\n",
      "127.0.0.1 - - [23/Nov/2023 13:10:59] \"POST /live HTTP/1.1\" 200 -\n"
     ]
    },
    {
     "name": "stdout",
     "output_type": "stream",
     "text": [
      "YESSSSSS\n",
      "Loading Encode File ...\n",
      "Encode File Loaded\n",
      "YESSSSSS\n",
      "Loading Encode File ...\n",
      "Encode File Loaded\n",
      "YESSSSSS\n",
      "Loading Encode File ...\n",
      "Encode File Loaded\n",
      "YESSSSSS\n",
      "Loading Encode File ...\n",
      "Encode File Loaded\n"
     ]
    },
    {
     "name": "stderr",
     "output_type": "stream",
     "text": [
      "127.0.0.1 - - [23/Nov/2023 13:11:00] \"POST /live HTTP/1.1\" 200 -\n",
      "127.0.0.1 - - [23/Nov/2023 13:11:00] \"POST /live HTTP/1.1\" 200 -\n",
      "127.0.0.1 - - [23/Nov/2023 13:11:00] \"POST /live HTTP/1.1\" 200 -\n"
     ]
    },
    {
     "name": "stdout",
     "output_type": "stream",
     "text": [
      "YESSSSSS\n",
      "Loading Encode File ...\n",
      "Encode File Loaded\n",
      "YESSSSSS\n",
      "Loading Encode File ...\n",
      "Encode File Loaded\n",
      "YESSSSSS\n",
      "Loading Encode File ...\n",
      "Encode File Loaded\n"
     ]
    },
    {
     "name": "stderr",
     "output_type": "stream",
     "text": [
      "127.0.0.1 - - [23/Nov/2023 13:11:01] \"POST /live HTTP/1.1\" 200 -\n",
      "127.0.0.1 - - [23/Nov/2023 13:11:01] \"GET /static/Images/20BCE0607.png HTTP/1.1\" 304 -\n"
     ]
    },
    {
     "name": "stdout",
     "output_type": "stream",
     "text": [
      "Known Face Detected\n",
      "20BCE0607\n",
      "('Eeshani Majumder', '20BCE0607', 'Computer Science and Engineering', '2023-11-23 13:09:34')\n",
      "('2023-11-23 13:09:34',)\n",
      "YESSSSSS\n",
      "Loading Encode File ...\n",
      "Encode File Loaded\n"
     ]
    },
    {
     "name": "stderr",
     "output_type": "stream",
     "text": [
      "127.0.0.1 - - [23/Nov/2023 13:11:01] \"POST /live HTTP/1.1\" 200 -\n",
      "127.0.0.1 - - [23/Nov/2023 13:11:01] \"POST /live HTTP/1.1\" 200 -\n",
      "127.0.0.1 - - [23/Nov/2023 13:11:01] \"POST /live HTTP/1.1\" 200 -\n",
      "127.0.0.1 - - [23/Nov/2023 13:11:01] \"POST /live HTTP/1.1\" 200 -\n"
     ]
    },
    {
     "name": "stdout",
     "output_type": "stream",
     "text": [
      "YESSSSSS\n",
      "Loading Encode File ...\n",
      "Encode File Loaded\n",
      "YESSSSSS\n",
      "Loading Encode File ...\n",
      "Encode File Loaded\n",
      "YESSSSSS\n",
      "Loading Encode File ...\n",
      "Encode File Loaded\n",
      "YESSSSSS\n",
      "Loading Encode File ...\n",
      "Encode File Loaded\n"
     ]
    },
    {
     "name": "stderr",
     "output_type": "stream",
     "text": [
      "127.0.0.1 - - [23/Nov/2023 13:11:01] \"POST /live HTTP/1.1\" 200 -\n",
      "127.0.0.1 - - [23/Nov/2023 13:11:01] \"POST /live HTTP/1.1\" 200 -\n",
      "127.0.0.1 - - [23/Nov/2023 13:11:01] \"POST /live HTTP/1.1\" 200 -\n",
      "127.0.0.1 - - [23/Nov/2023 13:11:01] \"POST /live HTTP/1.1\" 200 -\n",
      "127.0.0.1 - - [23/Nov/2023 13:11:01] \"POST /live HTTP/1.1\" 200 -\n"
     ]
    },
    {
     "name": "stdout",
     "output_type": "stream",
     "text": [
      "YESSSSSS\n",
      "Loading Encode File ...\n",
      "Encode File Loaded\n",
      "YESSSSSS\n",
      "Loading Encode File ...\n",
      "Encode File Loaded\n",
      "YESSSSSS\n",
      "Loading Encode File ...\n",
      "Encode File Loaded\n",
      "YESSSSSS\n",
      "Loading Encode File ...\n",
      "Encode File Loaded\n"
     ]
    },
    {
     "name": "stderr",
     "output_type": "stream",
     "text": [
      "127.0.0.1 - - [23/Nov/2023 13:11:01] \"POST /live HTTP/1.1\" 200 -\n",
      "127.0.0.1 - - [23/Nov/2023 13:11:01] \"POST /live HTTP/1.1\" 200 -\n",
      "127.0.0.1 - - [23/Nov/2023 13:11:01] \"POST /live HTTP/1.1\" 200 -\n"
     ]
    },
    {
     "name": "stdout",
     "output_type": "stream",
     "text": [
      "YESSSSSS\n",
      "Loading Encode File ...\n",
      "Encode File Loaded\n",
      "YESSSSSS\n",
      "Loading Encode File ...\n",
      "Encode File Loaded\n",
      "YESSSSSS\n",
      "Loading Encode File ...\n",
      "Encode File Loaded\n",
      "YESSSSSS\n",
      "Loading Encode File ...\n",
      "Encode File Loaded\n"
     ]
    },
    {
     "name": "stderr",
     "output_type": "stream",
     "text": [
      "127.0.0.1 - - [23/Nov/2023 13:11:01] \"POST /live HTTP/1.1\" 200 -\n",
      "127.0.0.1 - - [23/Nov/2023 13:11:02] \"POST /live HTTP/1.1\" 200 -\n",
      "127.0.0.1 - - [23/Nov/2023 13:11:02] \"POST /live HTTP/1.1\" 200 -\n",
      "127.0.0.1 - - [23/Nov/2023 13:11:02] \"POST /live HTTP/1.1\" 200 -\n",
      "127.0.0.1 - - [23/Nov/2023 13:11:02] \"POST /live HTTP/1.1\" 200 -\n"
     ]
    },
    {
     "name": "stdout",
     "output_type": "stream",
     "text": [
      "YESSSSSS\n",
      "Loading Encode File ...\n",
      "Encode File Loaded\n",
      "YESSSSSS\n",
      "Loading Encode File ...\n",
      "Encode File Loaded\n",
      "YESSSSSS\n",
      "Loading Encode File ...\n",
      "Encode File Loaded\n",
      "YESSSSSS\n",
      "Loading Encode File ...\n",
      "Encode File Loaded\n"
     ]
    },
    {
     "name": "stderr",
     "output_type": "stream",
     "text": [
      "127.0.0.1 - - [23/Nov/2023 13:11:02] \"POST /live HTTP/1.1\" 200 -\n",
      "127.0.0.1 - - [23/Nov/2023 13:11:02] \"POST /live HTTP/1.1\" 200 -\n",
      "127.0.0.1 - - [23/Nov/2023 13:11:02] \"POST /live HTTP/1.1\" 200 -\n",
      "127.0.0.1 - - [23/Nov/2023 13:11:02] \"POST /live HTTP/1.1\" 200 -\n"
     ]
    },
    {
     "name": "stdout",
     "output_type": "stream",
     "text": [
      "YESSSSSS\n",
      "Loading Encode File ...\n",
      "Encode File Loaded\n",
      "YESSSSSS\n",
      "Loading Encode File ...\n",
      "Encode File Loaded\n",
      "YESSSSSS\n",
      "Loading Encode File ...\n",
      "Encode File Loaded\n",
      "YESSSSSS\n",
      "Loading Encode File ...\n",
      "Encode File Loaded\n"
     ]
    },
    {
     "name": "stderr",
     "output_type": "stream",
     "text": [
      "127.0.0.1 - - [23/Nov/2023 13:11:02] \"POST /live HTTP/1.1\" 200 -\n",
      "127.0.0.1 - - [23/Nov/2023 13:11:02] \"POST /live HTTP/1.1\" 200 -\n",
      "127.0.0.1 - - [23/Nov/2023 13:11:02] \"POST /live HTTP/1.1\" 200 -\n"
     ]
    },
    {
     "name": "stdout",
     "output_type": "stream",
     "text": [
      "YESSSSSS\n",
      "Loading Encode File ...\n",
      "Encode File Loaded\n",
      "YESSSSSS\n",
      "Loading Encode File ...\n",
      "Encode File Loaded\n",
      "YESSSSSS\n",
      "Loading Encode File ...\n",
      "Encode File Loaded\n",
      "YESSSSSS\n",
      "Loading Encode File ...\n",
      "Encode File Loaded\n"
     ]
    },
    {
     "name": "stderr",
     "output_type": "stream",
     "text": [
      "127.0.0.1 - - [23/Nov/2023 13:11:02] \"POST /live HTTP/1.1\" 200 -\n",
      "127.0.0.1 - - [23/Nov/2023 13:11:02] \"POST /live HTTP/1.1\" 200 -\n",
      "127.0.0.1 - - [23/Nov/2023 13:11:02] \"POST /live HTTP/1.1\" 200 -\n",
      "127.0.0.1 - - [23/Nov/2023 13:11:02] \"POST /live HTTP/1.1\" 200 -\n"
     ]
    },
    {
     "name": "stdout",
     "output_type": "stream",
     "text": [
      "YESSSSSS\n",
      "Loading Encode File ...\n",
      "Encode File Loaded\n",
      "YESSSSSS\n",
      "Loading Encode File ...\n",
      "Encode File Loaded\n",
      "YESSSSSS\n",
      "Loading Encode File ...\n",
      "Encode File Loaded\n",
      "YESSSSSS\n",
      "Loading Encode File ...\n",
      "Encode File Loaded\n"
     ]
    },
    {
     "name": "stderr",
     "output_type": "stream",
     "text": [
      "127.0.0.1 - - [23/Nov/2023 13:11:02] \"POST /live HTTP/1.1\" 200 -\n",
      "127.0.0.1 - - [23/Nov/2023 13:11:02] \"POST /live HTTP/1.1\" 200 -\n",
      "127.0.0.1 - - [23/Nov/2023 13:11:02] \"POST /live HTTP/1.1\" 200 -\n",
      "127.0.0.1 - - [23/Nov/2023 13:11:02] \"POST /live HTTP/1.1\" 200 -\n"
     ]
    },
    {
     "name": "stdout",
     "output_type": "stream",
     "text": [
      "YESSSSSS\n",
      "Loading Encode File ...\n",
      "Encode File Loaded\n",
      "YESSSSSS\n",
      "Loading Encode File ...\n",
      "Encode File Loaded\n",
      "YESSSSSS\n",
      "Loading Encode File ...\n",
      "Encode File Loaded\n",
      "YESSSSSS\n",
      "Loading Encode File ...\n",
      "Encode File Loaded\n"
     ]
    },
    {
     "name": "stderr",
     "output_type": "stream",
     "text": [
      "127.0.0.1 - - [23/Nov/2023 13:11:03] \"POST /live HTTP/1.1\" 200 -\n",
      "127.0.0.1 - - [23/Nov/2023 13:11:03] \"POST /live HTTP/1.1\" 200 -\n",
      "127.0.0.1 - - [23/Nov/2023 13:11:03] \"POST /live HTTP/1.1\" 200 -\n",
      "127.0.0.1 - - [23/Nov/2023 13:11:03] \"POST /live HTTP/1.1\" 200 -\n"
     ]
    },
    {
     "name": "stdout",
     "output_type": "stream",
     "text": [
      "YESSSSSS\n",
      "Loading Encode File ...\n",
      "Encode File Loaded\n",
      "YESSSSSS\n",
      "Loading Encode File ...\n",
      "Encode File Loaded\n",
      "YESSSSSS\n",
      "Loading Encode File ...\n",
      "Encode File Loaded\n",
      "YESSSSSS\n",
      "Loading Encode File ...\n",
      "Encode File Loaded\n"
     ]
    },
    {
     "name": "stderr",
     "output_type": "stream",
     "text": [
      "127.0.0.1 - - [23/Nov/2023 13:11:03] \"POST /live HTTP/1.1\" 200 -\n",
      "127.0.0.1 - - [23/Nov/2023 13:11:03] \"POST /live HTTP/1.1\" 200 -\n",
      "127.0.0.1 - - [23/Nov/2023 13:11:03] \"POST /live HTTP/1.1\" 200 -\n",
      "127.0.0.1 - - [23/Nov/2023 13:11:03] \"POST /live HTTP/1.1\" 200 -\n"
     ]
    },
    {
     "name": "stdout",
     "output_type": "stream",
     "text": [
      "YESSSSSS\n",
      "Loading Encode File ...\n",
      "Encode File Loaded\n",
      "YESSSSSS\n",
      "Loading Encode File ...\n",
      "Encode File Loaded\n",
      "YESSSSSS\n",
      "Loading Encode File ...\n",
      "Encode File Loaded\n",
      "YESSSSSS\n",
      "Loading Encode File ...\n",
      "Encode File Loaded\n"
     ]
    },
    {
     "name": "stderr",
     "output_type": "stream",
     "text": [
      "127.0.0.1 - - [23/Nov/2023 13:11:03] \"POST /live HTTP/1.1\" 200 -\n",
      "127.0.0.1 - - [23/Nov/2023 13:11:03] \"POST /live HTTP/1.1\" 200 -\n",
      "127.0.0.1 - - [23/Nov/2023 13:11:03] \"POST /live HTTP/1.1\" 200 -\n",
      "127.0.0.1 - - [23/Nov/2023 13:11:03] \"POST /live HTTP/1.1\" 200 -\n"
     ]
    },
    {
     "name": "stdout",
     "output_type": "stream",
     "text": [
      "YESSSSSS\n",
      "Loading Encode File ...\n",
      "Encode File Loaded\n",
      "YESSSSSS\n",
      "Loading Encode File ...\n",
      "Encode File Loaded\n",
      "YESSSSSS\n",
      "Loading Encode File ...\n",
      "Encode File Loaded\n",
      "YESSSSSS\n",
      "Loading Encode File ...\n",
      "Encode File Loaded\n"
     ]
    },
    {
     "name": "stderr",
     "output_type": "stream",
     "text": [
      "127.0.0.1 - - [23/Nov/2023 13:11:03] \"POST /live HTTP/1.1\" 200 -\n",
      "127.0.0.1 - - [23/Nov/2023 13:11:03] \"POST /live HTTP/1.1\" 200 -\n",
      "127.0.0.1 - - [23/Nov/2023 13:11:03] \"POST /live HTTP/1.1\" 200 -\n",
      "127.0.0.1 - - [23/Nov/2023 13:11:03] \"POST /live HTTP/1.1\" 200 -\n"
     ]
    },
    {
     "name": "stdout",
     "output_type": "stream",
     "text": [
      "YESSSSSS\n",
      "Loading Encode File ...\n",
      "Encode File Loaded\n",
      "YESSSSSS\n",
      "Loading Encode File ...\n",
      "Encode File Loaded\n",
      "YESSSSSS\n",
      "Loading Encode File ...\n",
      "Encode File Loaded\n",
      "YESSSSSS\n",
      "Loading Encode File ...\n",
      "Encode File Loaded\n"
     ]
    },
    {
     "name": "stderr",
     "output_type": "stream",
     "text": [
      "127.0.0.1 - - [23/Nov/2023 13:11:03] \"POST /live HTTP/1.1\" 200 -\n",
      "127.0.0.1 - - [23/Nov/2023 13:11:03] \"POST /live HTTP/1.1\" 200 -\n",
      "127.0.0.1 - - [23/Nov/2023 13:11:04] \"POST /live HTTP/1.1\" 200 -\n",
      "127.0.0.1 - - [23/Nov/2023 13:11:04] \"POST /live HTTP/1.1\" 200 -\n"
     ]
    },
    {
     "name": "stdout",
     "output_type": "stream",
     "text": [
      "YESSSSSS\n",
      "Loading Encode File ...\n",
      "Encode File Loaded\n",
      "YESSSSSS\n",
      "Loading Encode File ...\n",
      "Encode File Loaded\n",
      "YESSSSSS\n",
      "Loading Encode File ...\n",
      "Encode File Loaded\n",
      "YESSSSSS\n",
      "Loading Encode File ...\n",
      "Encode File Loaded\n"
     ]
    },
    {
     "name": "stderr",
     "output_type": "stream",
     "text": [
      "127.0.0.1 - - [23/Nov/2023 13:11:04] \"POST /live HTTP/1.1\" 200 -\n",
      "127.0.0.1 - - [23/Nov/2023 13:11:04] \"POST /live HTTP/1.1\" 200 -\n",
      "127.0.0.1 - - [23/Nov/2023 13:11:04] \"POST /live HTTP/1.1\" 200 -\n",
      "127.0.0.1 - - [23/Nov/2023 13:11:04] \"POST /live HTTP/1.1\" 200 -\n"
     ]
    },
    {
     "name": "stdout",
     "output_type": "stream",
     "text": [
      "YESSSSSS\n",
      "Loading Encode File ...\n",
      "Encode File Loaded\n",
      "YESSSSSS\n",
      "Loading Encode File ...\n",
      "Encode File Loaded\n",
      "YESSSSSS\n",
      "Loading Encode File ...\n",
      "Encode File Loaded\n",
      "YESSSSSS\n",
      "Loading Encode File ...\n",
      "Encode File Loaded\n"
     ]
    },
    {
     "name": "stderr",
     "output_type": "stream",
     "text": [
      "127.0.0.1 - - [23/Nov/2023 13:11:04] \"POST /live HTTP/1.1\" 200 -\n",
      "127.0.0.1 - - [23/Nov/2023 13:11:04] \"POST /live HTTP/1.1\" 200 -\n",
      "127.0.0.1 - - [23/Nov/2023 13:11:04] \"POST /live HTTP/1.1\" 200 -\n",
      "127.0.0.1 - - [23/Nov/2023 13:11:04] \"POST /live HTTP/1.1\" 200 -\n"
     ]
    },
    {
     "name": "stdout",
     "output_type": "stream",
     "text": [
      "YESSSSSS\n",
      "Loading Encode File ...\n",
      "Encode File Loaded\n",
      "YESSSSSS\n",
      "Loading Encode File ...\n",
      "Encode File Loaded\n",
      "YESSSSSS\n",
      "Loading Encode File ...\n",
      "Encode File Loaded\n",
      "YESSSSSS\n",
      "Loading Encode File ...\n",
      "Encode File Loaded\n"
     ]
    },
    {
     "name": "stderr",
     "output_type": "stream",
     "text": [
      "127.0.0.1 - - [23/Nov/2023 13:11:04] \"POST /live HTTP/1.1\" 200 -\n",
      "127.0.0.1 - - [23/Nov/2023 13:11:04] \"POST /live HTTP/1.1\" 200 -\n",
      "127.0.0.1 - - [23/Nov/2023 13:11:04] \"POST /live HTTP/1.1\" 200 -\n",
      "127.0.0.1 - - [23/Nov/2023 13:11:04] \"POST /live HTTP/1.1\" 200 -\n"
     ]
    },
    {
     "name": "stdout",
     "output_type": "stream",
     "text": [
      "YESSSSSS\n",
      "Loading Encode File ...\n",
      "Encode File Loaded\n",
      "YESSSSSS\n",
      "Loading Encode File ...\n",
      "Encode File Loaded\n",
      "YESSSSSS\n",
      "Loading Encode File ...\n",
      "Encode File Loaded\n",
      "YESSSSSS\n",
      "Loading Encode File ...\n",
      "Encode File Loaded\n"
     ]
    },
    {
     "name": "stderr",
     "output_type": "stream",
     "text": [
      "127.0.0.1 - - [23/Nov/2023 13:11:04] \"POST /live HTTP/1.1\" 200 -\n",
      "127.0.0.1 - - [23/Nov/2023 13:11:04] \"POST /live HTTP/1.1\" 200 -\n",
      "127.0.0.1 - - [23/Nov/2023 13:11:04] \"POST /live HTTP/1.1\" 200 -\n",
      "127.0.0.1 - - [23/Nov/2023 13:11:04] \"POST /live HTTP/1.1\" 200 -\n"
     ]
    },
    {
     "name": "stdout",
     "output_type": "stream",
     "text": [
      "YESSSSSS\n",
      "Loading Encode File ...\n",
      "Encode File Loaded\n",
      "YESSSSSS\n",
      "Loading Encode File ...\n",
      "Encode File Loaded\n",
      "YESSSSSS\n",
      "Loading Encode File ...\n",
      "Encode File Loaded\n",
      "YESSSSSS\n",
      "Loading Encode File ...\n",
      "Encode File Loaded\n"
     ]
    },
    {
     "name": "stderr",
     "output_type": "stream",
     "text": [
      "127.0.0.1 - - [23/Nov/2023 13:11:05] \"POST /live HTTP/1.1\" 200 -\n",
      "127.0.0.1 - - [23/Nov/2023 13:11:05] \"POST /live HTTP/1.1\" 200 -\n",
      "127.0.0.1 - - [23/Nov/2023 13:11:05] \"POST /live HTTP/1.1\" 200 -\n",
      "127.0.0.1 - - [23/Nov/2023 13:11:05] \"POST /live HTTP/1.1\" 200 -\n",
      "127.0.0.1 - - [23/Nov/2023 13:11:05] \"POST /live HTTP/1.1\" 200 -\n"
     ]
    },
    {
     "name": "stdout",
     "output_type": "stream",
     "text": [
      "YESSSSSS\n",
      "Loading Encode File ...\n",
      "Encode File Loaded\n",
      "YESSSSSS\n",
      "Loading Encode File ...\n",
      "Encode File Loaded\n",
      "YESSSSSS\n",
      "Loading Encode File ...\n",
      "Encode File Loaded\n",
      "YESSSSSS\n",
      "Loading Encode File ...\n",
      "Encode File Loaded\n",
      "YESSSSSS\n",
      "Loading Encode File ...\n",
      "Encode File Loaded\n"
     ]
    },
    {
     "name": "stderr",
     "output_type": "stream",
     "text": [
      "127.0.0.1 - - [23/Nov/2023 13:11:05] \"POST /live HTTP/1.1\" 200 -\n",
      "127.0.0.1 - - [23/Nov/2023 13:11:05] \"POST /live HTTP/1.1\" 200 -\n",
      "127.0.0.1 - - [23/Nov/2023 13:11:05] \"POST /live HTTP/1.1\" 200 -\n",
      "127.0.0.1 - - [23/Nov/2023 13:11:05] \"POST /live HTTP/1.1\" 200 -\n"
     ]
    },
    {
     "name": "stdout",
     "output_type": "stream",
     "text": [
      "YESSSSSS\n",
      "Loading Encode File ...\n",
      "Encode File Loaded\n",
      "YESSSSSS\n",
      "Loading Encode File ...\n",
      "Encode File Loaded\n",
      "YESSSSSS\n",
      "Loading Encode File ...\n",
      "Encode File Loaded\n",
      "YESSSSSS\n",
      "Loading Encode File ...\n",
      "Encode File Loaded\n"
     ]
    },
    {
     "name": "stderr",
     "output_type": "stream",
     "text": [
      "127.0.0.1 - - [23/Nov/2023 13:11:05] \"POST /live HTTP/1.1\" 200 -\n",
      "127.0.0.1 - - [23/Nov/2023 13:11:05] \"POST /live HTTP/1.1\" 200 -\n",
      "127.0.0.1 - - [23/Nov/2023 13:11:05] \"POST /live HTTP/1.1\" 200 -\n",
      "127.0.0.1 - - [23/Nov/2023 13:11:05] \"POST /live HTTP/1.1\" 200 -\n"
     ]
    },
    {
     "name": "stdout",
     "output_type": "stream",
     "text": [
      "YESSSSSS\n",
      "Loading Encode File ...\n",
      "Encode File Loaded\n",
      "YESSSSSS\n",
      "Loading Encode File ...\n",
      "Encode File Loaded\n",
      "YESSSSSS\n",
      "Loading Encode File ...\n",
      "Encode File Loaded\n",
      "YESSSSSS\n",
      "Loading Encode File ...\n",
      "Encode File Loaded\n"
     ]
    },
    {
     "name": "stderr",
     "output_type": "stream",
     "text": [
      "127.0.0.1 - - [23/Nov/2023 13:11:05] \"POST /live HTTP/1.1\" 200 -\n",
      "127.0.0.1 - - [23/Nov/2023 13:11:05] \"POST /live HTTP/1.1\" 200 -\n",
      "127.0.0.1 - - [23/Nov/2023 13:11:05] \"POST /live HTTP/1.1\" 200 -\n",
      "127.0.0.1 - - [23/Nov/2023 13:11:05] \"POST /live HTTP/1.1\" 200 -\n"
     ]
    },
    {
     "name": "stdout",
     "output_type": "stream",
     "text": [
      "YESSSSSS\n",
      "Loading Encode File ...\n",
      "Encode File Loaded\n",
      "YESSSSSS\n",
      "Loading Encode File ...\n",
      "Encode File Loaded\n",
      "YESSSSSS\n",
      "Loading Encode File ...\n",
      "Encode File Loaded\n",
      "YESSSSSS\n",
      "Loading Encode File ...\n",
      "Encode File Loaded\n"
     ]
    },
    {
     "name": "stderr",
     "output_type": "stream",
     "text": [
      "127.0.0.1 - - [23/Nov/2023 13:11:05] \"POST /live HTTP/1.1\" 200 -\n",
      "127.0.0.1 - - [23/Nov/2023 13:11:06] \"POST /live HTTP/1.1\" 200 -\n",
      "127.0.0.1 - - [23/Nov/2023 13:11:06] \"GET /index.html HTTP/1.1\" 200 -\n",
      "127.0.0.1 - - [23/Nov/2023 13:11:06] \"GET /static/lib/animate/animate.min.css HTTP/1.1\" 304 -\n",
      "127.0.0.1 - - [23/Nov/2023 13:11:06] \"GET /static/lib/owlcarousel/assets/owl.carousel.min.css HTTP/1.1\" 304 -\n",
      "127.0.0.1 - - [23/Nov/2023 13:11:06] \"GET /static/css/style.css HTTP/1.1\" 304 -\n",
      "127.0.0.1 - - [23/Nov/2023 13:11:06] \"GET /static/css/bootstrap.min.css HTTP/1.1\" 304 -\n",
      "127.0.0.1 - - [23/Nov/2023 13:11:06] \"GET /static/img/carousel-1.jpg HTTP/1.1\" 304 -\n",
      "127.0.0.1 - - [23/Nov/2023 13:11:06] \"GET /static/img/carousel-2.jpg HTTP/1.1\" 304 -\n",
      "127.0.0.1 - - [23/Nov/2023 13:11:06] \"POST /live HTTP/1.1\" 200 -\n",
      "127.0.0.1 - - [23/Nov/2023 13:11:06] \"GET /static/img/face.png HTTP/1.1\" 304 -\n",
      "127.0.0.1 - - [23/Nov/2023 13:11:06] \"GET /static/img/ananya.jpg HTTP/1.1\" 304 -\n",
      "127.0.0.1 - - [23/Nov/2023 13:11:06] \"GET /static/img/testimonial-1.jpg HTTP/1.1\" 304 -\n",
      "127.0.0.1 - - [23/Nov/2023 13:11:06] \"GET /static/lib/wow/wow.min.js HTTP/1.1\" 304 -\n"
     ]
    },
    {
     "name": "stdout",
     "output_type": "stream",
     "text": [
      "YESSSSSS\n",
      "Loading Encode File ...\n",
      "Encode File Loaded\n",
      "YESSSSSS\n",
      "Loading Encode File ...\n",
      "Encode File Loaded\n"
     ]
    },
    {
     "name": "stderr",
     "output_type": "stream",
     "text": [
      "127.0.0.1 - - [23/Nov/2023 13:11:06] \"GET /static/lib/easing/easing.min.js HTTP/1.1\" 304 -\n",
      "127.0.0.1 - - [23/Nov/2023 13:11:06] \"GET /static/lib/waypoints/waypoints.min.js HTTP/1.1\" 304 -\n",
      "127.0.0.1 - - [23/Nov/2023 13:11:06] \"GET /static/lib/owlcarousel/owl.carousel.min.js HTTP/1.1\" 304 -\n",
      "127.0.0.1 - - [23/Nov/2023 13:11:06] \"GET /static/js/main.js HTTP/1.1\" 304 -\n",
      "127.0.0.1 - - [23/Nov/2023 13:11:06] \"GET /static/img/testimonial-2.jpg HTTP/1.1\" 304 -\n",
      "127.0.0.1 - - [23/Nov/2023 13:11:06] \"GET /static/img/testimonial-3.jpg HTTP/1.1\" 304 -\n",
      "127.0.0.1 - - [23/Nov/2023 13:11:06] \"GET /static/img/testimonial-4.jpg HTTP/1.1\" 304 -\n",
      "127.0.0.1 - - [23/Nov/2023 13:11:40] \"GET /services.html HTTP/1.1\" 200 -\n",
      "127.0.0.1 - - [23/Nov/2023 13:11:40] \"GET /static/lib/animate/animate.min.css HTTP/1.1\" 304 -\n",
      "127.0.0.1 - - [23/Nov/2023 13:11:40] \"GET /static/lib/owlcarousel/assets/owl.carousel.min.css HTTP/1.1\" 304 -\n",
      "127.0.0.1 - - [23/Nov/2023 13:11:40] \"GET /static/css/bootstrap.min.css HTTP/1.1\" 304 -\n",
      "127.0.0.1 - - [23/Nov/2023 13:11:40] \"GET /static/css/style.css HTTP/1.1\" 304 -\n",
      "127.0.0.1 - - [23/Nov/2023 13:11:40] \"GET /static/lib/wow/wow.min.js HTTP/1.1\" 304 -\n",
      "127.0.0.1 - - [23/Nov/2023 13:11:40] \"GET /static/lib/easing/easing.min.js HTTP/1.1\" 304 -\n",
      "127.0.0.1 - - [23/Nov/2023 13:11:40] \"GET /static/lib/waypoints/waypoints.min.js HTTP/1.1\" 304 -\n",
      "127.0.0.1 - - [23/Nov/2023 13:11:40] \"GET /static/lib/owlcarousel/owl.carousel.min.js HTTP/1.1\" 304 -\n",
      "127.0.0.1 - - [23/Nov/2023 13:11:40] \"GET /static/js/main.js HTTP/1.1\" 304 -\n",
      "127.0.0.1 - - [23/Nov/2023 13:11:42] \"GET /liveatt.html HTTP/1.1\" 200 -\n",
      "127.0.0.1 - - [23/Nov/2023 13:11:42] \"GET /static/lib/animate/animate.min.css HTTP/1.1\" 304 -\n",
      "127.0.0.1 - - [23/Nov/2023 13:11:42] \"GET /static/lib/owlcarousel/assets/owl.carousel.min.css HTTP/1.1\" 304 -\n",
      "127.0.0.1 - - [23/Nov/2023 13:11:42] \"GET /static/css/bootstrap.min.css HTTP/1.1\" 304 -\n",
      "127.0.0.1 - - [23/Nov/2023 13:11:42] \"GET /static/css/style.css HTTP/1.1\" 304 -\n",
      "127.0.0.1 - - [23/Nov/2023 13:11:42] \"GET /static/lib/wow/wow.min.js HTTP/1.1\" 304 -\n",
      "127.0.0.1 - - [23/Nov/2023 13:11:42] \"GET /static/lib/easing/easing.min.js HTTP/1.1\" 304 -\n",
      "127.0.0.1 - - [23/Nov/2023 13:11:42] \"GET /static/lib/waypoints/waypoints.min.js HTTP/1.1\" 304 -\n",
      "127.0.0.1 - - [23/Nov/2023 13:11:42] \"GET /static/lib/owlcarousel/owl.carousel.min.js HTTP/1.1\" 304 -\n",
      "127.0.0.1 - - [23/Nov/2023 13:11:42] \"GET /static/js/main.js HTTP/1.1\" 304 -\n"
     ]
    },
    {
     "name": "stdout",
     "output_type": "stream",
     "text": [
      "YESSSSSS\n",
      "Loading Encode File ...\n",
      "Encode File Loaded\n"
     ]
    },
    {
     "name": "stderr",
     "output_type": "stream",
     "text": [
      "127.0.0.1 - - [23/Nov/2023 13:11:44] \"POST /live HTTP/1.1\" 200 -\n",
      "127.0.0.1 - - [23/Nov/2023 13:11:44] \"GET /static/Images/20BCE0785.png HTTP/1.1\" 304 -\n"
     ]
    },
    {
     "name": "stdout",
     "output_type": "stream",
     "text": [
      "Known Face Detected\n",
      "20BCE0785\n",
      "('Ananya Singh', '20BCE0785', 'Computer Science and Engineering', '2023-11-23 13:09:39')\n",
      "('2023-11-23 13:09:39',)\n",
      "YESSSSSS\n",
      "Loading Encode File ...\n",
      "Encode File Loaded\n"
     ]
    },
    {
     "name": "stderr",
     "output_type": "stream",
     "text": [
      "127.0.0.1 - - [23/Nov/2023 13:11:44] \"POST /live HTTP/1.1\" 200 -\n"
     ]
    },
    {
     "name": "stdout",
     "output_type": "stream",
     "text": [
      "YESSSSSS\n",
      "Loading Encode File ...\n",
      "Encode File Loaded\n"
     ]
    },
    {
     "name": "stderr",
     "output_type": "stream",
     "text": [
      "127.0.0.1 - - [23/Nov/2023 13:11:46] \"POST /live HTTP/1.1\" 200 -\n"
     ]
    },
    {
     "name": "stdout",
     "output_type": "stream",
     "text": [
      "Known Face Detected\n",
      "20BCE0785\n",
      "('Ananya Singh', '20BCE0785', 'Computer Science and Engineering', '2023-11-23 13:11:44')\n",
      "('2023-11-23 13:11:44',)\n",
      "YESSSSSS\n",
      "Loading Encode File ...\n",
      "Encode File Loaded\n"
     ]
    },
    {
     "name": "stderr",
     "output_type": "stream",
     "text": [
      "127.0.0.1 - - [23/Nov/2023 13:11:46] \"POST /live HTTP/1.1\" 200 -\n",
      "127.0.0.1 - - [23/Nov/2023 13:11:46] \"POST /live HTTP/1.1\" 200 -\n",
      "127.0.0.1 - - [23/Nov/2023 13:11:46] \"POST /live HTTP/1.1\" 200 -\n",
      "127.0.0.1 - - [23/Nov/2023 13:11:46] \"POST /live HTTP/1.1\" 200 -\n"
     ]
    },
    {
     "name": "stdout",
     "output_type": "stream",
     "text": [
      "YESSSSSS\n",
      "Loading Encode File ...\n",
      "Encode File Loaded\n",
      "YESSSSSS\n",
      "Loading Encode File ...\n",
      "Encode File Loaded\n",
      "YESSSSSS\n",
      "Loading Encode File ...\n",
      "Encode File Loaded\n",
      "YESSSSSS\n",
      "Loading Encode File ...\n",
      "Encode File Loaded\n"
     ]
    },
    {
     "name": "stderr",
     "output_type": "stream",
     "text": [
      "127.0.0.1 - - [23/Nov/2023 13:11:46] \"POST /live HTTP/1.1\" 200 -\n",
      "127.0.0.1 - - [23/Nov/2023 13:11:46] \"POST /live HTTP/1.1\" 200 -\n",
      "127.0.0.1 - - [23/Nov/2023 13:11:46] \"POST /live HTTP/1.1\" 200 -\n",
      "127.0.0.1 - - [23/Nov/2023 13:11:46] \"POST /live HTTP/1.1\" 200 -\n"
     ]
    },
    {
     "name": "stdout",
     "output_type": "stream",
     "text": [
      "YESSSSSS\n",
      "Loading Encode File ...\n",
      "Encode File Loaded\n",
      "YESSSSSS\n",
      "Loading Encode File ...\n",
      "Encode File Loaded\n",
      "YESSSSSS\n",
      "Loading Encode File ...\n",
      "Encode File Loaded\n",
      "YESSSSSS\n",
      "Loading Encode File ...\n",
      "Encode File Loaded\n"
     ]
    },
    {
     "name": "stderr",
     "output_type": "stream",
     "text": [
      "127.0.0.1 - - [23/Nov/2023 13:11:46] \"POST /live HTTP/1.1\" 200 -\n",
      "127.0.0.1 - - [23/Nov/2023 13:11:46] \"POST /live HTTP/1.1\" 200 -\n",
      "127.0.0.1 - - [23/Nov/2023 13:11:46] \"POST /live HTTP/1.1\" 200 -\n",
      "127.0.0.1 - - [23/Nov/2023 13:11:46] \"POST /live HTTP/1.1\" 200 -\n"
     ]
    },
    {
     "name": "stdout",
     "output_type": "stream",
     "text": [
      "YESSSSSS\n",
      "Loading Encode File ...\n",
      "Encode File Loaded\n",
      "YESSSSSS\n",
      "Loading Encode File ...\n",
      "Encode File Loaded\n",
      "YESSSSSS\n",
      "Loading Encode File ...\n",
      "Encode File Loaded\n",
      "YESSSSSS\n",
      "Loading Encode File ...\n",
      "Encode File Loaded\n"
     ]
    },
    {
     "name": "stderr",
     "output_type": "stream",
     "text": [
      "127.0.0.1 - - [23/Nov/2023 13:11:46] \"POST /live HTTP/1.1\" 200 -\n",
      "127.0.0.1 - - [23/Nov/2023 13:11:46] \"POST /live HTTP/1.1\" 200 -\n",
      "127.0.0.1 - - [23/Nov/2023 13:11:46] \"POST /live HTTP/1.1\" 200 -\n"
     ]
    },
    {
     "name": "stdout",
     "output_type": "stream",
     "text": [
      "YESSSSSS\n",
      "Loading Encode File ...\n",
      "Encode File Loaded\n",
      "YESSSSSS\n",
      "Loading Encode File ...\n",
      "Encode File Loaded\n",
      "YESSSSSS\n",
      "Loading Encode File ...\n",
      "Encode File Loaded\n"
     ]
    },
    {
     "name": "stderr",
     "output_type": "stream",
     "text": [
      "127.0.0.1 - - [23/Nov/2023 13:11:48] \"POST /live HTTP/1.1\" 200 -\n"
     ]
    },
    {
     "name": "stdout",
     "output_type": "stream",
     "text": [
      "Known Face Detected\n",
      "20BCE0785\n",
      "('Ananya Singh', '20BCE0785', 'Computer Science and Engineering', '2023-11-23 13:11:44')\n",
      "('2023-11-23 13:11:44',)\n",
      "YESSSSSS\n",
      "Loading Encode File ...\n",
      "Encode File Loaded\n"
     ]
    },
    {
     "name": "stderr",
     "output_type": "stream",
     "text": [
      "127.0.0.1 - - [23/Nov/2023 13:11:49] \"POST /live HTTP/1.1\" 200 -\n"
     ]
    },
    {
     "name": "stdout",
     "output_type": "stream",
     "text": [
      "Known Face Detected\n",
      "20BCE0785\n",
      "('Ananya Singh', '20BCE0785', 'Computer Science and Engineering', '2023-11-23 13:11:44')\n",
      "('2023-11-23 13:11:44',)\n",
      "YESSSSSS\n",
      "Loading Encode File ...\n",
      "Encode File Loaded\n"
     ]
    },
    {
     "name": "stderr",
     "output_type": "stream",
     "text": [
      "127.0.0.1 - - [23/Nov/2023 13:11:49] \"POST /live HTTP/1.1\" 200 -\n",
      "127.0.0.1 - - [23/Nov/2023 13:11:49] \"POST /live HTTP/1.1\" 200 -\n",
      "127.0.0.1 - - [23/Nov/2023 13:11:49] \"POST /live HTTP/1.1\" 200 -\n",
      "127.0.0.1 - - [23/Nov/2023 13:11:49] \"POST /live HTTP/1.1\" 200 -\n"
     ]
    },
    {
     "name": "stdout",
     "output_type": "stream",
     "text": [
      "YESSSSSS\n",
      "Loading Encode File ...\n",
      "Encode File Loaded\n",
      "YESSSSSS\n",
      "Loading Encode File ...\n",
      "Encode File Loaded\n",
      "YESSSSSS\n",
      "Loading Encode File ...\n",
      "Encode File Loaded\n",
      "YESSSSSS\n",
      "Loading Encode File ...\n",
      "Encode File Loaded\n"
     ]
    },
    {
     "name": "stderr",
     "output_type": "stream",
     "text": [
      "127.0.0.1 - - [23/Nov/2023 13:11:49] \"POST /live HTTP/1.1\" 200 -\n",
      "127.0.0.1 - - [23/Nov/2023 13:11:49] \"POST /live HTTP/1.1\" 200 -\n",
      "127.0.0.1 - - [23/Nov/2023 13:11:49] \"POST /live HTTP/1.1\" 200 -\n"
     ]
    },
    {
     "name": "stdout",
     "output_type": "stream",
     "text": [
      "YESSSSSS\n",
      "Loading Encode File ...\n",
      "Encode File Loaded\n",
      "YESSSSSS\n",
      "Loading Encode File ...\n",
      "Encode File Loaded\n",
      "YESSSSSS\n",
      "Loading Encode File ...\n",
      "Encode File Loaded\n"
     ]
    },
    {
     "name": "stderr",
     "output_type": "stream",
     "text": [
      "127.0.0.1 - - [23/Nov/2023 13:11:50] \"POST /live HTTP/1.1\" 200 -\n",
      "127.0.0.1 - - [23/Nov/2023 13:11:50] \"POST /live HTTP/1.1\" 200 -\n"
     ]
    },
    {
     "name": "stdout",
     "output_type": "stream",
     "text": [
      "Known Face Detected\n",
      "20BCE0785\n",
      "('Ananya Singh', '20BCE0785', 'Computer Science and Engineering', '2023-11-23 13:11:44')\n",
      "('2023-11-23 13:11:44',)\n",
      "YESSSSSS\n",
      "Loading Encode File ...\n",
      "Encode File Loaded\n",
      "YESSSSSS\n",
      "Loading Encode File ...\n",
      "Encode File Loaded\n"
     ]
    },
    {
     "name": "stderr",
     "output_type": "stream",
     "text": [
      "127.0.0.1 - - [23/Nov/2023 13:11:50] \"POST /live HTTP/1.1\" 200 -\n",
      "127.0.0.1 - - [23/Nov/2023 13:11:50] \"POST /live HTTP/1.1\" 200 -\n",
      "127.0.0.1 - - [23/Nov/2023 13:11:50] \"POST /live HTTP/1.1\" 200 -\n",
      "127.0.0.1 - - [23/Nov/2023 13:11:51] \"POST /live HTTP/1.1\" 200 -\n",
      "127.0.0.1 - - [23/Nov/2023 13:11:51] \"POST /live HTTP/1.1\" 200 -\n"
     ]
    },
    {
     "name": "stdout",
     "output_type": "stream",
     "text": [
      "YESSSSSS\n",
      "Loading Encode File ...\n",
      "Encode File Loaded\n",
      "YESSSSSS\n",
      "Loading Encode File ...\n",
      "Encode File Loaded\n",
      "YESSSSSS\n",
      "Loading Encode File ...\n",
      "Encode File Loaded\n",
      "YESSSSSS\n",
      "Loading Encode File ...\n",
      "Encode File Loaded\n"
     ]
    },
    {
     "name": "stderr",
     "output_type": "stream",
     "text": [
      "127.0.0.1 - - [23/Nov/2023 13:11:51] \"POST /live HTTP/1.1\" 200 -\n",
      "127.0.0.1 - - [23/Nov/2023 13:11:51] \"POST /live HTTP/1.1\" 200 -\n",
      "127.0.0.1 - - [23/Nov/2023 13:11:51] \"POST /live HTTP/1.1\" 200 -\n",
      "127.0.0.1 - - [23/Nov/2023 13:11:51] \"POST /live HTTP/1.1\" 200 -\n"
     ]
    },
    {
     "name": "stdout",
     "output_type": "stream",
     "text": [
      "YESSSSSS\n",
      "Loading Encode File ...\n",
      "Encode File Loaded\n",
      "YESSSSSS\n",
      "Loading Encode File ...\n",
      "Encode File Loaded\n",
      "YESSSSSS\n",
      "Loading Encode File ...\n",
      "Encode File Loaded\n",
      "YESSSSSS\n",
      "Loading Encode File ...\n",
      "Encode File Loaded\n"
     ]
    },
    {
     "name": "stderr",
     "output_type": "stream",
     "text": [
      "127.0.0.1 - - [23/Nov/2023 13:11:51] \"POST /live HTTP/1.1\" 200 -\n",
      "127.0.0.1 - - [23/Nov/2023 13:11:51] \"POST /live HTTP/1.1\" 200 -\n",
      "127.0.0.1 - - [23/Nov/2023 13:11:51] \"POST /live HTTP/1.1\" 200 -\n"
     ]
    },
    {
     "name": "stdout",
     "output_type": "stream",
     "text": [
      "YESSSSSS\n",
      "Loading Encode File ...\n",
      "Encode File Loaded\n",
      "YESSSSSS\n",
      "Loading Encode File ...\n",
      "Encode File Loaded\n",
      "YESSSSSS\n",
      "Loading Encode File ...\n",
      "Encode File Loaded\n",
      "YESSSSSS\n",
      "Loading Encode File ...\n",
      "Encode File Loaded\n"
     ]
    },
    {
     "name": "stderr",
     "output_type": "stream",
     "text": [
      "127.0.0.1 - - [23/Nov/2023 13:11:51] \"POST /live HTTP/1.1\" 200 -\n",
      "127.0.0.1 - - [23/Nov/2023 13:11:51] \"POST /live HTTP/1.1\" 200 -\n",
      "127.0.0.1 - - [23/Nov/2023 13:11:51] \"POST /live HTTP/1.1\" 200 -\n",
      "127.0.0.1 - - [23/Nov/2023 13:11:51] \"POST /live HTTP/1.1\" 200 -\n",
      "127.0.0.1 - - [23/Nov/2023 13:11:51] \"POST /live HTTP/1.1\" 200 -\n"
     ]
    },
    {
     "name": "stdout",
     "output_type": "stream",
     "text": [
      "YESSSSSS\n",
      "Loading Encode File ...\n",
      "Encode File Loaded\n",
      "YESSSSSS\n",
      "Loading Encode File ...\n",
      "Encode File Loaded\n",
      "YESSSSSS\n",
      "Loading Encode File ...\n",
      "Encode File Loaded\n",
      "YESSSSSS\n",
      "Loading Encode File ...\n",
      "Encode File Loaded\n"
     ]
    },
    {
     "name": "stderr",
     "output_type": "stream",
     "text": [
      "127.0.0.1 - - [23/Nov/2023 13:11:51] \"POST /live HTTP/1.1\" 200 -\n",
      "127.0.0.1 - - [23/Nov/2023 13:11:51] \"POST /live HTTP/1.1\" 200 -\n",
      "127.0.0.1 - - [23/Nov/2023 13:11:51] \"POST /live HTTP/1.1\" 200 -\n"
     ]
    },
    {
     "name": "stdout",
     "output_type": "stream",
     "text": [
      "YESSSSSS\n",
      "Loading Encode File ...\n",
      "Encode File Loaded\n",
      "YESSSSSS\n",
      "Loading Encode File ...\n",
      "Encode File Loaded\n",
      "YESSSSSS\n",
      "Loading Encode File ...\n",
      "Encode File Loaded\n",
      "YESSSSSS\n",
      "Loading Encode File ...\n",
      "Encode File Loaded\n"
     ]
    },
    {
     "name": "stderr",
     "output_type": "stream",
     "text": [
      "127.0.0.1 - - [23/Nov/2023 13:11:51] \"POST /live HTTP/1.1\" 200 -\n",
      "127.0.0.1 - - [23/Nov/2023 13:11:51] \"POST /live HTTP/1.1\" 200 -\n",
      "127.0.0.1 - - [23/Nov/2023 13:11:52] \"POST /live HTTP/1.1\" 200 -\n",
      "127.0.0.1 - - [23/Nov/2023 13:11:52] \"POST /live HTTP/1.1\" 200 -\n"
     ]
    },
    {
     "name": "stdout",
     "output_type": "stream",
     "text": [
      "YESSSSSS\n",
      "Loading Encode File ...\n",
      "Encode File Loaded\n",
      "YESSSSSS\n",
      "Loading Encode File ...\n",
      "Encode File Loaded\n",
      "YESSSSSS\n",
      "Loading Encode File ...\n",
      "Encode File Loaded\n",
      "YESSSSSS\n",
      "Loading Encode File ...\n",
      "Encode File Loaded\n"
     ]
    },
    {
     "name": "stderr",
     "output_type": "stream",
     "text": [
      "127.0.0.1 - - [23/Nov/2023 13:11:52] \"POST /live HTTP/1.1\" 200 -\n",
      "127.0.0.1 - - [23/Nov/2023 13:11:52] \"POST /live HTTP/1.1\" 200 -\n",
      "127.0.0.1 - - [23/Nov/2023 13:11:52] \"POST /live HTTP/1.1\" 200 -\n",
      "127.0.0.1 - - [23/Nov/2023 13:11:52] \"POST /live HTTP/1.1\" 200 -\n"
     ]
    },
    {
     "name": "stdout",
     "output_type": "stream",
     "text": [
      "YESSSSSS\n",
      "Loading Encode File ...\n",
      "Encode File Loaded\n",
      "YESSSSSS\n",
      "Loading Encode File ...\n",
      "Encode File Loaded\n",
      "YESSSSSS\n",
      "Loading Encode File ...\n",
      "Encode File Loaded\n",
      "YESSSSSS\n",
      "Loading Encode File ...\n",
      "Encode File Loaded\n"
     ]
    },
    {
     "name": "stderr",
     "output_type": "stream",
     "text": [
      "127.0.0.1 - - [23/Nov/2023 13:11:52] \"POST /live HTTP/1.1\" 200 -\n",
      "127.0.0.1 - - [23/Nov/2023 13:11:52] \"POST /live HTTP/1.1\" 200 -\n",
      "127.0.0.1 - - [23/Nov/2023 13:11:52] \"POST /live HTTP/1.1\" 200 -\n",
      "127.0.0.1 - - [23/Nov/2023 13:11:52] \"POST /live HTTP/1.1\" 200 -\n",
      "127.0.0.1 - - [23/Nov/2023 13:11:52] \"POST /live HTTP/1.1\" 200 -\n"
     ]
    },
    {
     "name": "stdout",
     "output_type": "stream",
     "text": [
      "YESSSSSS\n",
      "Loading Encode File ...\n",
      "Encode File Loaded\n",
      "YESSSSSS\n",
      "Loading Encode File ...\n",
      "Encode File Loaded\n",
      "YESSSSSS\n",
      "Loading Encode File ...\n",
      "Encode File Loaded\n",
      "YESSSSSS\n",
      "Loading Encode File ...\n",
      "Encode File Loaded\n"
     ]
    },
    {
     "name": "stderr",
     "output_type": "stream",
     "text": [
      "127.0.0.1 - - [23/Nov/2023 13:11:52] \"POST /live HTTP/1.1\" 200 -\n",
      "127.0.0.1 - - [23/Nov/2023 13:11:52] \"POST /live HTTP/1.1\" 200 -\n",
      "127.0.0.1 - - [23/Nov/2023 13:11:52] \"POST /live HTTP/1.1\" 200 -\n"
     ]
    },
    {
     "name": "stdout",
     "output_type": "stream",
     "text": [
      "YESSSSSS\n",
      "Loading Encode File ...\n",
      "Encode File Loaded\n",
      "YESSSSSS\n",
      "Loading Encode File ...\n",
      "Encode File Loaded\n",
      "YESSSSSS\n",
      "Loading Encode File ...\n",
      "Encode File Loaded\n",
      "YESSSSSS\n",
      "Loading Encode File ...\n",
      "Encode File Loaded\n"
     ]
    },
    {
     "name": "stderr",
     "output_type": "stream",
     "text": [
      "127.0.0.1 - - [23/Nov/2023 13:11:52] \"POST /live HTTP/1.1\" 200 -\n",
      "127.0.0.1 - - [23/Nov/2023 13:11:52] \"POST /live HTTP/1.1\" 200 -\n",
      "127.0.0.1 - - [23/Nov/2023 13:11:52] \"POST /live HTTP/1.1\" 200 -\n",
      "127.0.0.1 - - [23/Nov/2023 13:11:52] \"POST /live HTTP/1.1\" 200 -\n"
     ]
    },
    {
     "name": "stdout",
     "output_type": "stream",
     "text": [
      "YESSSSSS\n",
      "Loading Encode File ...\n",
      "Encode File Loaded\n",
      "YESSSSSS\n",
      "Loading Encode File ...\n",
      "Encode File Loaded\n",
      "YESSSSSS\n",
      "Loading Encode File ...\n",
      "Encode File Loaded\n",
      "YESSSSSS\n",
      "Loading Encode File ...\n",
      "Encode File Loaded\n"
     ]
    },
    {
     "name": "stderr",
     "output_type": "stream",
     "text": [
      "127.0.0.1 - - [23/Nov/2023 13:11:52] \"POST /live HTTP/1.1\" 200 -\n",
      "127.0.0.1 - - [23/Nov/2023 13:11:53] \"POST /live HTTP/1.1\" 200 -\n",
      "127.0.0.1 - - [23/Nov/2023 13:11:53] \"POST /live HTTP/1.1\" 200 -\n",
      "127.0.0.1 - - [23/Nov/2023 13:11:53] \"POST /live HTTP/1.1\" 200 -\n"
     ]
    },
    {
     "name": "stdout",
     "output_type": "stream",
     "text": [
      "YESSSSSS\n",
      "Loading Encode File ...\n",
      "Encode File Loaded\n",
      "YESSSSSS\n",
      "Loading Encode File ...\n",
      "Encode File Loaded\n",
      "YESSSSSS\n",
      "Loading Encode File ...\n",
      "Encode File Loaded\n",
      "YESSSSSS\n",
      "Loading Encode File ...\n",
      "Encode File Loaded\n"
     ]
    },
    {
     "name": "stderr",
     "output_type": "stream",
     "text": [
      "127.0.0.1 - - [23/Nov/2023 13:11:53] \"POST /live HTTP/1.1\" 200 -\n",
      "127.0.0.1 - - [23/Nov/2023 13:11:53] \"POST /live HTTP/1.1\" 200 -\n",
      "127.0.0.1 - - [23/Nov/2023 13:11:53] \"POST /live HTTP/1.1\" 200 -\n",
      "127.0.0.1 - - [23/Nov/2023 13:11:53] \"POST /live HTTP/1.1\" 200 -\n",
      "127.0.0.1 - - [23/Nov/2023 13:11:53] \"POST /live HTTP/1.1\" 200 -\n"
     ]
    },
    {
     "name": "stdout",
     "output_type": "stream",
     "text": [
      "YESSSSSS\n",
      "Loading Encode File ...\n",
      "Encode File Loaded\n",
      "YESSSSSS\n",
      "Loading Encode File ...\n",
      "Encode File Loaded\n",
      "YESSSSSS\n",
      "Loading Encode File ...\n",
      "Encode File Loaded\n",
      "YESSSSSS\n",
      "Loading Encode File ...\n",
      "Encode File Loaded\n"
     ]
    },
    {
     "name": "stderr",
     "output_type": "stream",
     "text": [
      "127.0.0.1 - - [23/Nov/2023 13:11:53] \"POST /live HTTP/1.1\" 200 -\n",
      "127.0.0.1 - - [23/Nov/2023 13:11:53] \"POST /live HTTP/1.1\" 200 -\n",
      "127.0.0.1 - - [23/Nov/2023 13:11:53] \"POST /live HTTP/1.1\" 200 -\n",
      "127.0.0.1 - - [23/Nov/2023 13:11:53] \"POST /live HTTP/1.1\" 200 -\n"
     ]
    },
    {
     "name": "stdout",
     "output_type": "stream",
     "text": [
      "YESSSSSS\n",
      "Loading Encode File ...\n",
      "Encode File Loaded\n",
      "YESSSSSS\n",
      "Loading Encode File ...\n",
      "Encode File Loaded\n",
      "YESSSSSS\n",
      "Loading Encode File ...\n",
      "Encode File Loaded\n",
      "YESSSSSS\n",
      "Loading Encode File ...\n",
      "Encode File Loaded\n"
     ]
    },
    {
     "name": "stderr",
     "output_type": "stream",
     "text": [
      "127.0.0.1 - - [23/Nov/2023 13:11:53] \"POST /live HTTP/1.1\" 200 -\n",
      "127.0.0.1 - - [23/Nov/2023 13:11:53] \"POST /live HTTP/1.1\" 200 -\n",
      "127.0.0.1 - - [23/Nov/2023 13:11:53] \"POST /live HTTP/1.1\" 200 -\n"
     ]
    },
    {
     "name": "stdout",
     "output_type": "stream",
     "text": [
      "YESSSSSS\n",
      "Loading Encode File ...\n",
      "Encode File Loaded\n",
      "YESSSSSS\n",
      "Loading Encode File ...\n",
      "Encode File Loaded\n",
      "YESSSSSS\n",
      "Loading Encode File ...\n",
      "Encode File Loaded\n",
      "YESSSSSS\n",
      "Loading Encode File ...\n",
      "Encode File Loaded\n"
     ]
    },
    {
     "name": "stderr",
     "output_type": "stream",
     "text": [
      "127.0.0.1 - - [23/Nov/2023 13:11:53] \"POST /live HTTP/1.1\" 200 -\n",
      "127.0.0.1 - - [23/Nov/2023 13:11:53] \"POST /live HTTP/1.1\" 200 -\n",
      "127.0.0.1 - - [23/Nov/2023 13:11:53] \"POST /live HTTP/1.1\" 200 -\n",
      "127.0.0.1 - - [23/Nov/2023 13:11:54] \"POST /live HTTP/1.1\" 200 -\n"
     ]
    },
    {
     "name": "stdout",
     "output_type": "stream",
     "text": [
      "YESSSSSS\n",
      "Loading Encode File ...\n",
      "Encode File Loaded\n",
      "YESSSSSS\n",
      "Loading Encode File ...\n",
      "Encode File Loaded\n",
      "YESSSSSS\n",
      "Loading Encode File ...\n",
      "Encode File Loaded\n",
      "YESSSSSS\n",
      "Loading Encode File ...\n",
      "Encode File Loaded\n"
     ]
    },
    {
     "name": "stderr",
     "output_type": "stream",
     "text": [
      "127.0.0.1 - - [23/Nov/2023 13:11:54] \"POST /live HTTP/1.1\" 200 -\n",
      "127.0.0.1 - - [23/Nov/2023 13:11:54] \"POST /live HTTP/1.1\" 200 -\n",
      "127.0.0.1 - - [23/Nov/2023 13:11:54] \"POST /live HTTP/1.1\" 200 -\n",
      "127.0.0.1 - - [23/Nov/2023 13:11:54] \"POST /live HTTP/1.1\" 200 -\n"
     ]
    },
    {
     "name": "stdout",
     "output_type": "stream",
     "text": [
      "YESSSSSS\n",
      "Loading Encode File ...\n",
      "Encode File Loaded\n",
      "YESSSSSS\n",
      "Loading Encode File ...\n",
      "Encode File Loaded\n",
      "YESSSSSS\n",
      "Loading Encode File ...\n",
      "Encode File Loaded\n",
      "YESSSSSS\n",
      "Loading Encode File ...\n",
      "Encode File Loaded\n"
     ]
    },
    {
     "name": "stderr",
     "output_type": "stream",
     "text": [
      "127.0.0.1 - - [23/Nov/2023 13:11:54] \"POST /live HTTP/1.1\" 200 -\n",
      "127.0.0.1 - - [23/Nov/2023 13:11:54] \"POST /live HTTP/1.1\" 200 -\n",
      "127.0.0.1 - - [23/Nov/2023 13:11:54] \"POST /live HTTP/1.1\" 200 -\n",
      "127.0.0.1 - - [23/Nov/2023 13:11:54] \"POST /live HTTP/1.1\" 200 -\n",
      "127.0.0.1 - - [23/Nov/2023 13:11:54] \"POST /live HTTP/1.1\" 200 -\n"
     ]
    },
    {
     "name": "stdout",
     "output_type": "stream",
     "text": [
      "YESSSSSS\n",
      "Loading Encode File ...\n",
      "Encode File Loaded\n",
      "YESSSSSS\n",
      "Loading Encode File ...\n",
      "Encode File Loaded\n",
      "YESSSSSS\n",
      "Loading Encode File ...\n",
      "Encode File Loaded\n",
      "YESSSSSS\n",
      "Loading Encode File ...\n",
      "Encode File Loaded\n"
     ]
    },
    {
     "name": "stderr",
     "output_type": "stream",
     "text": [
      "127.0.0.1 - - [23/Nov/2023 13:11:54] \"POST /live HTTP/1.1\" 200 -\n",
      "127.0.0.1 - - [23/Nov/2023 13:11:54] \"POST /live HTTP/1.1\" 200 -\n",
      "127.0.0.1 - - [23/Nov/2023 13:11:54] \"POST /live HTTP/1.1\" 200 -\n"
     ]
    },
    {
     "name": "stdout",
     "output_type": "stream",
     "text": [
      "YESSSSSS\n",
      "Loading Encode File ...\n",
      "Encode File Loaded\n",
      "YESSSSSS\n",
      "Loading Encode File ...\n",
      "Encode File Loaded\n",
      "YESSSSSS\n",
      "Loading Encode File ...\n",
      "Encode File Loaded\n",
      "YESSSSSS\n",
      "Loading Encode File ...\n",
      "Encode File Loaded\n"
     ]
    },
    {
     "name": "stderr",
     "output_type": "stream",
     "text": [
      "127.0.0.1 - - [23/Nov/2023 13:11:54] \"POST /live HTTP/1.1\" 200 -\n",
      "127.0.0.1 - - [23/Nov/2023 13:11:54] \"POST /live HTTP/1.1\" 200 -\n",
      "127.0.0.1 - - [23/Nov/2023 13:11:54] \"POST /live HTTP/1.1\" 200 -\n",
      "127.0.0.1 - - [23/Nov/2023 13:11:54] \"POST /live HTTP/1.1\" 200 -\n",
      "127.0.0.1 - - [23/Nov/2023 13:11:54] \"POST /live HTTP/1.1\" 200 -\n"
     ]
    },
    {
     "name": "stdout",
     "output_type": "stream",
     "text": [
      "YESSSSSS\n",
      "Loading Encode File ...\n",
      "Encode File Loaded\n",
      "YESSSSSS\n",
      "Loading Encode File ...\n",
      "Encode File Loaded\n",
      "YESSSSSS\n",
      "Loading Encode File ...\n",
      "Encode File Loaded\n",
      "YESSSSSS\n",
      "Loading Encode File ...\n",
      "Encode File Loaded\n"
     ]
    },
    {
     "name": "stderr",
     "output_type": "stream",
     "text": [
      "127.0.0.1 - - [23/Nov/2023 13:11:54] \"POST /live HTTP/1.1\" 200 -\n",
      "127.0.0.1 - - [23/Nov/2023 13:11:55] \"POST /live HTTP/1.1\" 200 -\n",
      "127.0.0.1 - - [23/Nov/2023 13:11:55] \"POST /live HTTP/1.1\" 200 -\n",
      "127.0.0.1 - - [23/Nov/2023 13:11:55] \"POST /live HTTP/1.1\" 200 -\n"
     ]
    },
    {
     "name": "stdout",
     "output_type": "stream",
     "text": [
      "YESSSSSS\n",
      "Loading Encode File ...\n",
      "Encode File Loaded\n",
      "YESSSSSS\n",
      "Loading Encode File ...\n",
      "Encode File Loaded\n",
      "YESSSSSS\n",
      "Loading Encode File ...\n",
      "Encode File Loaded\n",
      "YESSSSSS\n",
      "Loading Encode File ...\n",
      "Encode File Loaded\n"
     ]
    },
    {
     "name": "stderr",
     "output_type": "stream",
     "text": [
      "127.0.0.1 - - [23/Nov/2023 13:11:55] \"POST /live HTTP/1.1\" 200 -\n",
      "127.0.0.1 - - [23/Nov/2023 13:11:55] \"POST /live HTTP/1.1\" 200 -\n",
      "127.0.0.1 - - [23/Nov/2023 13:11:55] \"POST /live HTTP/1.1\" 200 -\n",
      "127.0.0.1 - - [23/Nov/2023 13:11:55] \"POST /live HTTP/1.1\" 200 -\n"
     ]
    },
    {
     "name": "stdout",
     "output_type": "stream",
     "text": [
      "YESSSSSS\n",
      "Loading Encode File ...\n",
      "Encode File Loaded\n",
      "YESSSSSS\n",
      "Loading Encode File ...\n",
      "Encode File Loaded\n",
      "YESSSSSS\n",
      "Loading Encode File ...\n",
      "Encode File Loaded\n",
      "YESSSSSS\n",
      "Loading Encode File ...\n",
      "Encode File Loaded\n"
     ]
    },
    {
     "name": "stderr",
     "output_type": "stream",
     "text": [
      "127.0.0.1 - - [23/Nov/2023 13:11:55] \"POST /live HTTP/1.1\" 200 -\n",
      "127.0.0.1 - - [23/Nov/2023 13:11:55] \"POST /live HTTP/1.1\" 200 -\n",
      "127.0.0.1 - - [23/Nov/2023 13:11:55] \"POST /live HTTP/1.1\" 200 -\n",
      "127.0.0.1 - - [23/Nov/2023 13:11:55] \"POST /live HTTP/1.1\" 200 -\n"
     ]
    },
    {
     "name": "stdout",
     "output_type": "stream",
     "text": [
      "YESSSSSS\n",
      "Loading Encode File ...\n",
      "Encode File Loaded\n",
      "YESSSSSS\n",
      "Loading Encode File ...\n",
      "Encode File Loaded\n",
      "YESSSSSS\n",
      "Loading Encode File ...\n",
      "Encode File Loaded\n",
      "YESSSSSS\n",
      "Loading Encode File ...\n",
      "Encode File Loaded\n",
      "YESSSSSS\n",
      "Loading Encode File ...\n",
      "Encode File Loaded\n"
     ]
    },
    {
     "name": "stderr",
     "output_type": "stream",
     "text": [
      "127.0.0.1 - - [23/Nov/2023 13:11:56] \"POST /live HTTP/1.1\" 200 -\n"
     ]
    },
    {
     "name": "stdout",
     "output_type": "stream",
     "text": [
      "YESSSSSS\n",
      "Loading Encode File ...\n",
      "Encode File Loaded\n"
     ]
    },
    {
     "name": "stderr",
     "output_type": "stream",
     "text": [
      "127.0.0.1 - - [23/Nov/2023 13:11:57] \"POST /live HTTP/1.1\" 200 -\n"
     ]
    },
    {
     "name": "stdout",
     "output_type": "stream",
     "text": [
      "Known Face Detected\n",
      "20BCE0785\n",
      "('Ananya Singh', '20BCE0785', 'Computer Science and Engineering', '2023-11-23 13:11:44')\n",
      "('2023-11-23 13:11:44',)\n",
      "YESSSSSS\n",
      "Loading Encode File ...\n",
      "Encode File Loaded\n"
     ]
    },
    {
     "name": "stderr",
     "output_type": "stream",
     "text": [
      "127.0.0.1 - - [23/Nov/2023 13:11:57] \"POST /live HTTP/1.1\" 200 -\n",
      "127.0.0.1 - - [23/Nov/2023 13:11:57] \"POST /live HTTP/1.1\" 200 -\n",
      "127.0.0.1 - - [23/Nov/2023 13:11:57] \"POST /live HTTP/1.1\" 200 -\n",
      "127.0.0.1 - - [23/Nov/2023 13:11:57] \"POST /live HTTP/1.1\" 200 -\n"
     ]
    },
    {
     "name": "stdout",
     "output_type": "stream",
     "text": [
      "YESSSSSS\n",
      "Loading Encode File ...\n",
      "Encode File Loaded\n",
      "YESSSSSS\n",
      "Loading Encode File ...\n",
      "Encode File Loaded\n",
      "YESSSSSS\n",
      "Loading Encode File ...\n",
      "Encode File Loaded\n",
      "YESSSSSS\n",
      "Loading Encode File ...\n",
      "Encode File Loaded\n"
     ]
    },
    {
     "name": "stderr",
     "output_type": "stream",
     "text": [
      "127.0.0.1 - - [23/Nov/2023 13:11:58] \"POST /live HTTP/1.1\" 200 -\n",
      "127.0.0.1 - - [23/Nov/2023 13:11:58] \"POST /live HTTP/1.1\" 200 -\n",
      "127.0.0.1 - - [23/Nov/2023 13:11:58] \"POST /live HTTP/1.1\" 200 -\n"
     ]
    },
    {
     "name": "stdout",
     "output_type": "stream",
     "text": [
      "YESSSSSS\n",
      "Loading Encode File ...\n",
      "Encode File Loaded\n",
      "YESSSSSS\n",
      "Loading Encode File ...\n",
      "Encode File Loaded\n",
      "YESSSSSS\n",
      "Loading Encode File ...\n",
      "Encode File Loaded\n"
     ]
    },
    {
     "name": "stderr",
     "output_type": "stream",
     "text": [
      "127.0.0.1 - - [23/Nov/2023 13:11:59] \"GET /index.html HTTP/1.1\" 200 -\n",
      "127.0.0.1 - - [23/Nov/2023 13:11:59] \"GET /static/lib/animate/animate.min.css HTTP/1.1\" 304 -\n",
      "127.0.0.1 - - [23/Nov/2023 13:11:59] \"GET /static/lib/owlcarousel/assets/owl.carousel.min.css HTTP/1.1\" 304 -\n",
      "127.0.0.1 - - [23/Nov/2023 13:11:59] \"GET /static/css/bootstrap.min.css HTTP/1.1\" 304 -\n",
      "127.0.0.1 - - [23/Nov/2023 13:11:59] \"GET /static/css/style.css HTTP/1.1\" 304 -\n",
      "127.0.0.1 - - [23/Nov/2023 13:11:59] \"GET /static/img/carousel-1.jpg HTTP/1.1\" 304 -\n",
      "127.0.0.1 - - [23/Nov/2023 13:11:59] \""
     ]
    },
    {
     "name": "stdout",
     "output_type": "stream",
     "text": [
      "Known Face Detected\n",
      "20BCE0785\n"
     ]
    },
    {
     "name": "stderr",
     "output_type": "stream",
     "text": [
      "GET /static/img/carousel-2.jpg HTTP/1.1\" 304 -\n",
      "127.0.0.1 - - [23/Nov/2023 13:11:59] \"GET /static/img/face.png HTTP/1.1\" 304 -\n",
      "127.0.0.1 - - [23/Nov/2023 13:11:59] \"GET /static/img/ananya.jpg HTTP/1.1\" 304 -\n",
      "127.0.0.1 - - [23/Nov/2023 13:11:59] \"GET /static/img/testimonial-1.jpg HTTP/1.1\" 304 -\n",
      "127.0.0.1 - - [23/Nov/2023 13:11:59] \"GET /static/lib/wow/wow.min.js HTTP/1.1\" 304 -\n",
      "127.0.0.1 - - [23/Nov/2023 13:11:59] \"GET /static/lib/easing/easing.min.js HTTP/1.1\" 304 -\n",
      "127.0.0.1 - - [23/Nov/2023 13:11:59] \"GET /static/lib/waypoints/waypoints.min.js HTTP/1.1\" 304 -\n",
      "127.0.0.1 - - [23/Nov/2023 13:11:59] \"POST /live HTTP/1.1\" 200 -\n",
      "127.0.0.1 - - [23/Nov/2023 13:11:59] \"GET /static/lib/owlcarousel/owl.carousel.min.js HTTP/1.1\" 304 -\n",
      "127.0.0.1 - - [23/Nov/2023 13:11:59] \"GET /static/js/main.js HTTP/1.1\" 304 -\n",
      "127.0.0.1 - - [23/Nov/2023 13:11:59] \"GET /static/img/testimonial-2.jpg HTTP/1.1\" 304 -\n",
      "127.0.0.1 - - [23/Nov/2023 13:11:59] \"GET /static/img/testimonial-3.jpg HTTP/1.1\" 304 -\n",
      "127.0.0.1 - - [23/Nov/2023 13:11:59] \"GET /static/img/testimonial-4.jpg HTTP/1.1\" 304 -\n"
     ]
    },
    {
     "name": "stdout",
     "output_type": "stream",
     "text": [
      "('Ananya Singh', '20BCE0785', 'Computer Science and Engineering', '2023-11-23 13:11:44')\n",
      "('2023-11-23 13:11:44',)\n"
     ]
    }
   ],
   "source": [
    "import base64\n",
    "import numpy as np\n",
    "import cv2\n",
    "import os\n",
    "from flask import Flask, render_template, request, jsonify\n",
    "import math\n",
    "from flask_mysqldb import MySQL\n",
    "import bcrypt\n",
    "import face_recognition\n",
    "import pickle\n",
    "from datetime import datetime\n",
    "import mysql.connector\n",
    "from mysql.connector import Error\n",
    "import pandas as pd\n",
    "\n",
    "\n",
    "app = Flask(__name__)\n",
    "\n",
    "# MySQL Configuration\n",
    "db_config = {\n",
    "    \"host\": \"localhost\",\n",
    "    \"user\": \"root\",\n",
    "    \"password\": \"1234\",\n",
    "    \"database\": \"attendance\"\n",
    "}\n",
    "# Function to establish a MySQL connection\n",
    "def connect():\n",
    "    \"\"\" Connect to MySQL database \"\"\"\n",
    "    conn = None\n",
    "    try:\n",
    "        conn = mysql.connector.connect(host='localhost',\n",
    "                                       database='attendance',\n",
    "                                       user='root',\n",
    "                                       password='123')\n",
    "        if conn.is_connected():\n",
    "            print('Connected to MySQL database')\n",
    "\n",
    "    except Error as e:\n",
    "        print(e)\n",
    "\n",
    "    finally:\n",
    "        if conn is not None and conn.is_connected():\n",
    "            conn.close()\n",
    "\n",
    "@app.route('/')\n",
    "def home():\n",
    "    return render_template('index.html')\n",
    "\n",
    "@app.route('/index.html')\n",
    "def index():\n",
    "    return render_template('index.html')\n",
    "\n",
    "@app.route('/services.html')\n",
    "def service():\n",
    "    return render_template('services.html')\n",
    "\n",
    "@app.route('/contact.html')\n",
    "def contact():\n",
    "    return render_template('contact.html')\n",
    "\n",
    "\n",
    "\n",
    "# @app.route('/login', methods=['POST'])\n",
    "# def login():\n",
    "#     if request.method == 'POST':\n",
    "#         print(\"YESSSSSS\")\n",
    "\n",
    "#         username = request.form['username']\n",
    "#         password = request.form['password']\n",
    "\n",
    "#         cursor = mysql.connection.cursor()\n",
    "#         cursor.execute(\"SELECT * FROM users WHERE username = %s\", (username,))\n",
    "#         user = cursor.fetchone()\n",
    "#         cursor.close()\n",
    "\n",
    "#         if user and bcrypt.checkpw(password.encode('utf-8'), user[2].encode('utf-8')):\n",
    "#             return jsonify({'status': 'success', 'message': 'Login successful!'})\n",
    "#         else:\n",
    "#             return jsonify({'status': 'error', 'message': 'Invalid username or password.'})\n",
    "\n",
    "@app.route('/adduser.html')\n",
    "def register():\n",
    "    return render_template('adduser.html')\n",
    "\n",
    "@app.route('/add', methods=['POST'])\n",
    "def add():\n",
    "    if request.method == 'POST':\n",
    "        print(\"Adding user\")\n",
    "\n",
    "        name = request.form['name']\n",
    "        regno = request.form['regno']\n",
    "        branch = request.form['branch']\n",
    "        img = request.files['fileUpload']\n",
    "\n",
    "        if img and name and regno and branch:\n",
    "            file_path = \"static/Images/\"+regno+\".png\"\n",
    "            img.save(file_path)\n",
    "\n",
    "            current_datetime = datetime.now().strftime('%Y-%m-%d %H:%M:%S')\n",
    "            \n",
    "            # Establish a MySQL connection\n",
    "            db_connection = mysql.connector.connect(**db_config)  # Establish the MySQL connection\n",
    "            if db_connection.is_connected():\n",
    "                print(\"Inside DB\")\n",
    "                cursor = db_connection.cursor()\n",
    "                \n",
    "                cursor.execute(\"INSERT INTO ATT (name, regno, branch, lastatt) VALUES (%s, %s, %s, %s)\",(str(name), str(regno), str(branch), str(current_datetime)))\n",
    "                \n",
    "                db_connection.commit()\n",
    "                cursor.close()\n",
    "                db_connection.close()\n",
    "\n",
    "                training()\n",
    "                return jsonify({'status': 'success', 'message': 'Training Complete!'})\n",
    "            else:\n",
    "                return jsonify({'status': 'error', 'message': 'Database connection failed.'})\n",
    "\n",
    "\n",
    "def training():\n",
    "    folderPath = 'static/Images'\n",
    "    pathList = os.listdir(folderPath)\n",
    "    print(pathList)\n",
    "    imgList = []\n",
    "    studentIds = []\n",
    "    for path in pathList:\n",
    "        imgList.append(cv2.imread(os.path.join(folderPath, path)))\n",
    "        studentIds.append(os.path.splitext(path)[0])\n",
    "    print(\"Encoding Started ...\")\n",
    "    encodeList = []\n",
    "    for img in imgList:\n",
    "        img = cv2.cvtColor(img, cv2.COLOR_BGR2RGB)\n",
    "        encode = face_recognition.face_encodings(img)[0]\n",
    "        encodeList.append(encode)\n",
    "    encodeListKnownWithIds = [encodeList, studentIds]\n",
    "    print(\"Encoding Complete\")\n",
    "    file = open(\"EncodeFile.p\", 'wb')\n",
    "    pickle.dump(encodeListKnownWithIds, file)\n",
    "    file.close()\n",
    "    print(\"File Saved\")\n",
    "\n",
    "\n",
    "\n",
    "@app.route('/liveatt.html')\n",
    "def takeatt():\n",
    "    return render_template('liveatt.html')\n",
    "\n",
    "\n",
    "\n",
    "@app.route('/live', methods=['POST'])\n",
    "def live():\n",
    "    if request.method == 'POST':\n",
    "        print(\"YESSSSSS\")\n",
    "\n",
    "        print(\"Loading Encode File ...\")\n",
    "        file = open('EncodeFile.p', 'rb')\n",
    "        encodeListKnownWithIds = pickle.load(file)\n",
    "        file.close()\n",
    "        encodeListKnown, studentIds = encodeListKnownWithIds\n",
    "        print(\"Encode File Loaded\")\n",
    "\n",
    "        data = request.get_json()\n",
    "\n",
    "        img_data = data.get('imgData')\n",
    "\n",
    "        img_data = img_data.split(',')[1]\n",
    "        # Decode the base64 image data\n",
    "        img_bytes = base64.b64decode(img_data)\n",
    "\n",
    "        # Convert the bytes to a NumPy array\n",
    "        img_array = np.frombuffer(img_bytes, dtype=np.uint8)\n",
    "\n",
    "        # Decode the NumPy array as an image\n",
    "        img = cv2.imdecode(img_array, cv2.IMREAD_COLOR)\n",
    "\n",
    "        imgS = cv2.resize(img, (0, 0), None, 0.25, 0.25)\n",
    "        imgS = cv2.cvtColor(imgS, cv2.COLOR_BGR2RGB)\n",
    "\n",
    "        faceCurFrame = face_recognition.face_locations(imgS)\n",
    "        encodeCurFrame = face_recognition.face_encodings(imgS, faceCurFrame)\n",
    "\n",
    "        if faceCurFrame:\n",
    "            for encodeFace, faceLoc in zip(encodeCurFrame, faceCurFrame):\n",
    "                matches = face_recognition.compare_faces(encodeListKnown, encodeFace)\n",
    "                faceDis = face_recognition.face_distance(encodeListKnown, encodeFace)\n",
    "\n",
    "                matchIndex = np.argmin(faceDis)\n",
    "\n",
    "                if matches[matchIndex]:\n",
    "                    print(\"Known Face Detected\")\n",
    "                    print(studentIds[matchIndex])\n",
    "                    # Establish a MySQL connection\n",
    "                    db_connection = mysql.connector.connect(**db_config)  # Establish the MySQL connection\n",
    "                    if db_connection.is_connected():\n",
    "                        cursor = db_connection.cursor()\n",
    "                        cursor.execute(\"SELECT * FROM att\")\n",
    "                        a = cursor.fetchall()\n",
    "                        df= pd.DataFrame(a)\n",
    "                        df.to_excel(\"static/att.xlsx\")\n",
    "                        for row in a:\n",
    "                            if row[1]==studentIds[matchIndex]:\n",
    "                                attendance_data = row\n",
    "                        print(attendance_data)\n",
    "\n",
    "                        #Retrieve the existing lastatt value for the specified regno\n",
    "                        cursor.execute(\"SELECT lastatt FROM att WHERE regno = %s\", (str(studentIds[matchIndex]),))\n",
    "                        existing_lastatt = cursor.fetchone()\n",
    "\n",
    "                        print(existing_lastatt)\n",
    "                        \n",
    "                        if existing_lastatt:\n",
    "                            # Convert the existing_lastatt value to a datetime object\n",
    "                            existing_lastatt_datetime = datetime.strptime(existing_lastatt[0], '%Y-%m-%d %H:%M:%S')\n",
    "                            \n",
    "                            # Calculate the time difference between the existing value and the current time\n",
    "                            time_difference = datetime.now() - existing_lastatt_datetime\n",
    "\n",
    "                            \n",
    "                            if time_difference.total_seconds() > 30:\n",
    "                                # Only update lastatt if the time difference is greater than 30 seconds\n",
    "                                current_datetime = datetime.now().strftime('%Y-%m-%d %H:%M:%S')\n",
    "                                update_query = \"UPDATE att SET lastatt = %s WHERE regno = %s\"\n",
    "                                cursor.execute(update_query, (str(current_datetime), str(studentIds[matchIndex])))\n",
    "                        db_connection.commit()  # Commit the changes to the database\n",
    "                        cursor.close()  # Close the cursor\n",
    "                        db_connection.close()\n",
    "\n",
    "                        if attendance_data:\n",
    "                            # Assuming you want to return the data as JSON\n",
    "                            return jsonify({'status': 'success', 'attendance_data': attendance_data})\n",
    "                        else:\n",
    "                            return jsonify({'status': 'error', 'message': 'No data found for the given ID.'})\n",
    "        return jsonify({'status': 'error', 'message': 'No face detected.'})\n",
    "                    \n",
    "\n",
    "\n",
    "if __name__ == '__main__':\n",
    "    app.run()"
   ]
  },
  {
   "cell_type": "code",
   "execution_count": null,
   "id": "d5b16ef6",
   "metadata": {},
   "outputs": [],
   "source": []
  }
 ],
 "metadata": {
  "kernelspec": {
   "display_name": "Python 3 (ipykernel)",
   "language": "python",
   "name": "python3"
  },
  "language_info": {
   "codemirror_mode": {
    "name": "ipython",
    "version": 3
   },
   "file_extension": ".py",
   "mimetype": "text/x-python",
   "name": "python",
   "nbconvert_exporter": "python",
   "pygments_lexer": "ipython3",
   "version": "3.11.5"
  }
 },
 "nbformat": 4,
 "nbformat_minor": 5
}
